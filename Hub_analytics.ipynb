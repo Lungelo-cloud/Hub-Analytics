{
  "nbformat": 4,
  "nbformat_minor": 0,
  "metadata": {
    "colab": {
      "name": "Hub analytics.ipynb",
      "provenance": [],
      "collapsed_sections": [],
      "authorship_tag": "ABX9TyMTFUXzltU4mxc1F8ZABPmu",
      "include_colab_link": true
    },
    "kernelspec": {
      "name": "python3",
      "display_name": "Python 3"
    },
    "language_info": {
      "name": "python"
    }
  },
  "cells": [
    {
      "cell_type": "markdown",
      "metadata": {
        "id": "view-in-github",
        "colab_type": "text"
      },
      "source": [
        "<a href=\"https://colab.research.google.com/github/Lungelo-cloud/Hub-Analytics/blob/main/Hub_analytics.ipynb\" target=\"_parent\"><img src=\"https://colab.research.google.com/assets/colab-badge.svg\" alt=\"Open In Colab\"/></a>"
      ]
    },
    {
      "cell_type": "code",
      "metadata": {
        "id": "7y_ZlzaF8YFJ"
      },
      "source": [
        "import pandas as pd\n",
        "import datetime as dt"
      ],
      "execution_count": null,
      "outputs": []
    },
    {
      "cell_type": "code",
      "metadata": {
        "id": "bpqhGHSL9chh"
      },
      "source": [
        "import numpy as np\n",
        "import matplotlib.pyplot as plt \n",
        "import seaborn as sns \n",
        "sns.set() "
      ],
      "execution_count": null,
      "outputs": []
    },
    {
      "cell_type": "code",
      "metadata": {
        "id": "S36YXXEo-PTf"
      },
      "source": [
        "sheet_id = '1WGVWOsjKdp4eP_6PcqdnU7r6r8RW0hAtUVakTlrFWxw'"
      ],
      "execution_count": null,
      "outputs": []
    },
    {
      "cell_type": "code",
      "metadata": {
        "id": "-YH6gypM-gTX"
      },
      "source": [
        "df = pd.read_csv(f\"https://docs.google.com/spreadsheets/d/{sheet_id}/export?format=csv\")"
      ],
      "execution_count": null,
      "outputs": []
    },
    {
      "cell_type": "code",
      "metadata": {
        "colab": {
          "base_uri": "https://localhost:8080/",
          "height": 323
        },
        "id": "NTJDtQeeDamc",
        "outputId": "7e85564d-a50b-41c3-d977-8c6a4bffdc1a"
      },
      "source": [
        "df.head()"
      ],
      "execution_count": null,
      "outputs": [
        {
          "output_type": "execute_result",
          "data": {
            "text/html": [
              "<div>\n",
              "<style scoped>\n",
              "    .dataframe tbody tr th:only-of-type {\n",
              "        vertical-align: middle;\n",
              "    }\n",
              "\n",
              "    .dataframe tbody tr th {\n",
              "        vertical-align: top;\n",
              "    }\n",
              "\n",
              "    .dataframe thead th {\n",
              "        text-align: right;\n",
              "    }\n",
              "</style>\n",
              "<table border=\"1\" class=\"dataframe\">\n",
              "  <thead>\n",
              "    <tr style=\"text-align: right;\">\n",
              "      <th></th>\n",
              "      <th>Timestamp</th>\n",
              "      <th>Full Name</th>\n",
              "      <th>Phone Number</th>\n",
              "      <th>Sign-in Time</th>\n",
              "      <th>What are you working on today? (We ask this to understand what type of work is being done at The Hub)</th>\n",
              "      <th>What equipment will you use?</th>\n",
              "      <th>Internet?</th>\n",
              "      <th>Sign-out Time (estimate)</th>\n",
              "      <th>Are you a member of The Hub?</th>\n",
              "    </tr>\n",
              "  </thead>\n",
              "  <tbody>\n",
              "    <tr>\n",
              "      <th>0</th>\n",
              "      <td>2/11/2021</td>\n",
              "      <td>Kwanele Prince Tsabedze</td>\n",
              "      <td>7815 8606</td>\n",
              "      <td>11:00:00 AM</td>\n",
              "      <td>FInancials, among other things</td>\n",
              "      <td>BYOC</td>\n",
              "      <td>Shared Hotspot</td>\n",
              "      <td>6:00:00 AM</td>\n",
              "      <td>NaN</td>\n",
              "    </tr>\n",
              "    <tr>\n",
              "      <th>1</th>\n",
              "      <td>2/11/2021</td>\n",
              "      <td>Simanga Ntsini</td>\n",
              "      <td>78501932</td>\n",
              "      <td>4:00:00 AM</td>\n",
              "      <td>EDITING VIDS</td>\n",
              "      <td>Desktop Workstation</td>\n",
              "      <td>Shared Hotspot</td>\n",
              "      <td>NaN</td>\n",
              "      <td>NaN</td>\n",
              "    </tr>\n",
              "    <tr>\n",
              "      <th>2</th>\n",
              "      <td>2/13/2021</td>\n",
              "      <td>Simanga Ntsini</td>\n",
              "      <td>78501932</td>\n",
              "      <td>11:00:00 AM</td>\n",
              "      <td>Sharing videos to my platforms</td>\n",
              "      <td>Mac Workstation</td>\n",
              "      <td>Shared Hotspot</td>\n",
              "      <td>NaN</td>\n",
              "      <td>NaN</td>\n",
              "    </tr>\n",
              "    <tr>\n",
              "      <th>3</th>\n",
              "      <td>2/13/2021</td>\n",
              "      <td>TygaDoesIt</td>\n",
              "      <td>+26879384734</td>\n",
              "      <td>11:45:00 AM</td>\n",
              "      <td>album art work</td>\n",
              "      <td>Own P.C</td>\n",
              "      <td>Shared Hotspot</td>\n",
              "      <td>7:00:00 PM</td>\n",
              "      <td>NaN</td>\n",
              "    </tr>\n",
              "    <tr>\n",
              "      <th>4</th>\n",
              "      <td>2/14/2021</td>\n",
              "      <td>Gcinimiyalo Ntuli</td>\n",
              "      <td>76342236</td>\n",
              "      <td>12:56:00 PM</td>\n",
              "      <td>Editing a video for my YouTube channel</td>\n",
              "      <td>Mac Workstation</td>\n",
              "      <td>Shared Hotspot</td>\n",
              "      <td>16:38:00</td>\n",
              "      <td>NaN</td>\n",
              "    </tr>\n",
              "  </tbody>\n",
              "</table>\n",
              "</div>"
            ],
            "text/plain": [
              "   Timestamp  ... Are you a member of The Hub?\n",
              "0  2/11/2021  ...                          NaN\n",
              "1  2/11/2021  ...                          NaN\n",
              "2  2/13/2021  ...                          NaN\n",
              "3  2/13/2021  ...                          NaN\n",
              "4  2/14/2021  ...                          NaN\n",
              "\n",
              "[5 rows x 9 columns]"
            ]
          },
          "metadata": {
            "tags": []
          },
          "execution_count": 5
        }
      ]
    },
    {
      "cell_type": "code",
      "metadata": {
        "colab": {
          "base_uri": "https://localhost:8080/",
          "height": 323
        },
        "id": "WK1hIlPcCala",
        "outputId": "2c9a17fc-f337-4481-8c92-aaa5132770f5"
      },
      "source": [
        "df['Timestamp'] = pd.to_datetime(df['Timestamp'])\n",
        "df.head()"
      ],
      "execution_count": null,
      "outputs": [
        {
          "output_type": "execute_result",
          "data": {
            "text/html": [
              "<div>\n",
              "<style scoped>\n",
              "    .dataframe tbody tr th:only-of-type {\n",
              "        vertical-align: middle;\n",
              "    }\n",
              "\n",
              "    .dataframe tbody tr th {\n",
              "        vertical-align: top;\n",
              "    }\n",
              "\n",
              "    .dataframe thead th {\n",
              "        text-align: right;\n",
              "    }\n",
              "</style>\n",
              "<table border=\"1\" class=\"dataframe\">\n",
              "  <thead>\n",
              "    <tr style=\"text-align: right;\">\n",
              "      <th></th>\n",
              "      <th>Timestamp</th>\n",
              "      <th>Full Name</th>\n",
              "      <th>Phone Number</th>\n",
              "      <th>Sign-in Time</th>\n",
              "      <th>What are you working on today? (We ask this to understand what type of work is being done at The Hub)</th>\n",
              "      <th>What equipment will you use?</th>\n",
              "      <th>Internet?</th>\n",
              "      <th>Sign-out Time (estimate)</th>\n",
              "      <th>Are you a member of The Hub?</th>\n",
              "    </tr>\n",
              "  </thead>\n",
              "  <tbody>\n",
              "    <tr>\n",
              "      <th>0</th>\n",
              "      <td>2021-02-11</td>\n",
              "      <td>Kwanele Prince Tsabedze</td>\n",
              "      <td>7815 8606</td>\n",
              "      <td>11:00:00 AM</td>\n",
              "      <td>FInancials, among other things</td>\n",
              "      <td>BYOC</td>\n",
              "      <td>Shared Hotspot</td>\n",
              "      <td>6:00:00 AM</td>\n",
              "      <td>NaN</td>\n",
              "    </tr>\n",
              "    <tr>\n",
              "      <th>1</th>\n",
              "      <td>2021-02-11</td>\n",
              "      <td>Simanga Ntsini</td>\n",
              "      <td>78501932</td>\n",
              "      <td>4:00:00 AM</td>\n",
              "      <td>EDITING VIDS</td>\n",
              "      <td>Desktop Workstation</td>\n",
              "      <td>Shared Hotspot</td>\n",
              "      <td>NaN</td>\n",
              "      <td>NaN</td>\n",
              "    </tr>\n",
              "    <tr>\n",
              "      <th>2</th>\n",
              "      <td>2021-02-13</td>\n",
              "      <td>Simanga Ntsini</td>\n",
              "      <td>78501932</td>\n",
              "      <td>11:00:00 AM</td>\n",
              "      <td>Sharing videos to my platforms</td>\n",
              "      <td>Mac Workstation</td>\n",
              "      <td>Shared Hotspot</td>\n",
              "      <td>NaN</td>\n",
              "      <td>NaN</td>\n",
              "    </tr>\n",
              "    <tr>\n",
              "      <th>3</th>\n",
              "      <td>2021-02-13</td>\n",
              "      <td>TygaDoesIt</td>\n",
              "      <td>+26879384734</td>\n",
              "      <td>11:45:00 AM</td>\n",
              "      <td>album art work</td>\n",
              "      <td>Own P.C</td>\n",
              "      <td>Shared Hotspot</td>\n",
              "      <td>7:00:00 PM</td>\n",
              "      <td>NaN</td>\n",
              "    </tr>\n",
              "    <tr>\n",
              "      <th>4</th>\n",
              "      <td>2021-02-14</td>\n",
              "      <td>Gcinimiyalo Ntuli</td>\n",
              "      <td>76342236</td>\n",
              "      <td>12:56:00 PM</td>\n",
              "      <td>Editing a video for my YouTube channel</td>\n",
              "      <td>Mac Workstation</td>\n",
              "      <td>Shared Hotspot</td>\n",
              "      <td>16:38:00</td>\n",
              "      <td>NaN</td>\n",
              "    </tr>\n",
              "  </tbody>\n",
              "</table>\n",
              "</div>"
            ],
            "text/plain": [
              "   Timestamp  ... Are you a member of The Hub?\n",
              "0 2021-02-11  ...                          NaN\n",
              "1 2021-02-11  ...                          NaN\n",
              "2 2021-02-13  ...                          NaN\n",
              "3 2021-02-13  ...                          NaN\n",
              "4 2021-02-14  ...                          NaN\n",
              "\n",
              "[5 rows x 9 columns]"
            ]
          },
          "metadata": {
            "tags": []
          },
          "execution_count": 6
        }
      ]
    },
    {
      "cell_type": "code",
      "metadata": {
        "colab": {
          "base_uri": "https://localhost:8080/"
        },
        "id": "TDqgwrVwKDpA",
        "outputId": "e2f3514e-0c11-40ba-e060-f1704c91b50b"
      },
      "source": [
        "df.dtypes"
      ],
      "execution_count": null,
      "outputs": [
        {
          "output_type": "execute_result",
          "data": {
            "text/plain": [
              "Timestamp                                                                                                datetime64[ns]\n",
              "Full Name                                                                                                        object\n",
              "Phone Number                                                                                                     object\n",
              "Sign-in Time                                                                                                     object\n",
              "What are you working on today? (We ask this to understand what type of work is being done at The Hub)            object\n",
              "What equipment will you use?                                                                                     object\n",
              "Internet?                                                                                                        object\n",
              "Sign-out Time (estimate)                                                                                         object\n",
              "Are you a member of The Hub?                                                                                     object\n",
              "dtype: object"
            ]
          },
          "metadata": {
            "tags": []
          },
          "execution_count": 7
        }
      ]
    },
    {
      "cell_type": "code",
      "metadata": {
        "id": "umq1rJhBDc7f",
        "colab": {
          "base_uri": "https://localhost:8080/",
          "height": 238
        },
        "outputId": "372031d3-6764-4ddd-e56b-7741c55fed6e"
      },
      "source": [
        "missing_data = df.isnull()\n",
        "missing_data.head()"
      ],
      "execution_count": null,
      "outputs": [
        {
          "output_type": "execute_result",
          "data": {
            "text/html": [
              "<div>\n",
              "<style scoped>\n",
              "    .dataframe tbody tr th:only-of-type {\n",
              "        vertical-align: middle;\n",
              "    }\n",
              "\n",
              "    .dataframe tbody tr th {\n",
              "        vertical-align: top;\n",
              "    }\n",
              "\n",
              "    .dataframe thead th {\n",
              "        text-align: right;\n",
              "    }\n",
              "</style>\n",
              "<table border=\"1\" class=\"dataframe\">\n",
              "  <thead>\n",
              "    <tr style=\"text-align: right;\">\n",
              "      <th></th>\n",
              "      <th>Timestamp</th>\n",
              "      <th>Full Name</th>\n",
              "      <th>Phone Number</th>\n",
              "      <th>Sign-in Time</th>\n",
              "      <th>What are you working on today? (We ask this to understand what type of work is being done at The Hub)</th>\n",
              "      <th>What equipment will you use?</th>\n",
              "      <th>Internet?</th>\n",
              "      <th>Sign-out Time (estimate)</th>\n",
              "      <th>Are you a member of The Hub?</th>\n",
              "    </tr>\n",
              "  </thead>\n",
              "  <tbody>\n",
              "    <tr>\n",
              "      <th>0</th>\n",
              "      <td>False</td>\n",
              "      <td>False</td>\n",
              "      <td>False</td>\n",
              "      <td>False</td>\n",
              "      <td>False</td>\n",
              "      <td>False</td>\n",
              "      <td>False</td>\n",
              "      <td>False</td>\n",
              "      <td>True</td>\n",
              "    </tr>\n",
              "    <tr>\n",
              "      <th>1</th>\n",
              "      <td>False</td>\n",
              "      <td>False</td>\n",
              "      <td>False</td>\n",
              "      <td>False</td>\n",
              "      <td>False</td>\n",
              "      <td>False</td>\n",
              "      <td>False</td>\n",
              "      <td>True</td>\n",
              "      <td>True</td>\n",
              "    </tr>\n",
              "    <tr>\n",
              "      <th>2</th>\n",
              "      <td>False</td>\n",
              "      <td>False</td>\n",
              "      <td>False</td>\n",
              "      <td>False</td>\n",
              "      <td>False</td>\n",
              "      <td>False</td>\n",
              "      <td>False</td>\n",
              "      <td>True</td>\n",
              "      <td>True</td>\n",
              "    </tr>\n",
              "    <tr>\n",
              "      <th>3</th>\n",
              "      <td>False</td>\n",
              "      <td>False</td>\n",
              "      <td>False</td>\n",
              "      <td>False</td>\n",
              "      <td>False</td>\n",
              "      <td>False</td>\n",
              "      <td>False</td>\n",
              "      <td>False</td>\n",
              "      <td>True</td>\n",
              "    </tr>\n",
              "    <tr>\n",
              "      <th>4</th>\n",
              "      <td>False</td>\n",
              "      <td>False</td>\n",
              "      <td>False</td>\n",
              "      <td>False</td>\n",
              "      <td>False</td>\n",
              "      <td>False</td>\n",
              "      <td>False</td>\n",
              "      <td>False</td>\n",
              "      <td>True</td>\n",
              "    </tr>\n",
              "  </tbody>\n",
              "</table>\n",
              "</div>"
            ],
            "text/plain": [
              "   Timestamp  Full Name  ...  Sign-out Time (estimate)  Are you a member of The Hub?\n",
              "0      False      False  ...                     False                          True\n",
              "1      False      False  ...                      True                          True\n",
              "2      False      False  ...                      True                          True\n",
              "3      False      False  ...                     False                          True\n",
              "4      False      False  ...                     False                          True\n",
              "\n",
              "[5 rows x 9 columns]"
            ]
          },
          "metadata": {
            "tags": []
          },
          "execution_count": 7
        }
      ]
    },
    {
      "cell_type": "code",
      "metadata": {
        "colab": {
          "base_uri": "https://localhost:8080/"
        },
        "id": "lKtUlLyqHsvZ",
        "outputId": "4a556501-3bf4-4144-a3ed-c1bcf3ea6907"
      },
      "source": [
        "for column in missing_data.columns.values.tolist():\n",
        "  print(column)\n",
        "  print(missing_data[column].value_counts())\n",
        "  print(\"\")"
      ],
      "execution_count": null,
      "outputs": [
        {
          "output_type": "stream",
          "text": [
            "Timestamp\n",
            "False    404\n",
            "Name: Timestamp, dtype: int64\n",
            "\n",
            "Full Name\n",
            "False    404\n",
            "Name: Full Name, dtype: int64\n",
            "\n",
            "Phone Number\n",
            "False    404\n",
            "Name: Phone Number, dtype: int64\n",
            "\n",
            "Sign-in Time\n",
            "False    404\n",
            "Name: Sign-in Time, dtype: int64\n",
            "\n",
            "What are you working on today? (We ask this to understand what type of work is being done at The Hub)\n",
            "False    404\n",
            "Name: What are you working on today? (We ask this to understand what type of work is being done at The Hub), dtype: int64\n",
            "\n",
            "What equipment will you use?\n",
            "False    404\n",
            "Name: What equipment will you use?, dtype: int64\n",
            "\n",
            "Internet?\n",
            "False    403\n",
            "True       1\n",
            "Name: Internet?, dtype: int64\n",
            "\n",
            "Sign-out Time (estimate)\n",
            "False    383\n",
            "True      21\n",
            "Name: Sign-out Time (estimate), dtype: int64\n",
            "\n",
            "Are you a member of The Hub?\n",
            "False    301\n",
            "True     103\n",
            "Name: Are you a member of The Hub?, dtype: int64\n",
            "\n"
          ],
          "name": "stdout"
        }
      ]
    },
    {
      "cell_type": "code",
      "metadata": {
        "colab": {
          "base_uri": "https://localhost:8080/"
        },
        "id": "rmglOTLWKOmD",
        "outputId": "dd84d6f6-881b-4d6e-8127-ea3d0dca5131"
      },
      "source": [
        "mode_sign_out_time = df['Sign-out Time (estimate)'].mode(dropna = True)\n",
        "mode_internet = df['Internet?'].mode(dropna = True)\n",
        "mode_if_member = df['Are you a member of The Hub?'].mode(dropna = True)\n",
        "print('mode sign out time: \\n',mode_sign_out_time)\n",
        "print('')\n",
        "print('mode internet: \\n',mode_internet)\n",
        "print('')\n",
        "print('mode of member: \\n',mode_if_member)"
      ],
      "execution_count": null,
      "outputs": [
        {
          "output_type": "stream",
          "text": [
            "mode sign out time: \n",
            " 0    5:00:00 PM\n",
            "dtype: object\n",
            "\n",
            "mode internet: \n",
            " 0    Shared Hotspot\n",
            "dtype: object\n",
            "\n",
            "mode of member: \n",
            " 0    Yes\n",
            "dtype: object\n"
          ],
          "name": "stdout"
        }
      ]
    },
    {
      "cell_type": "code",
      "metadata": {
        "id": "E37xq1HIt5kW"
      },
      "source": [
        "df['Sign-out Time (estimate)'] = df['Sign-out Time (estimate)'].replace(np.nan, '5:00:00 PM')\n",
        "df['Internet?'] = df['Internet?'].replace(np.nan, 'Shared Hotspot')\n",
        "df['Are you a member of The Hub?'] = df['Are you a member of The Hub?'].replace(np.nan, 'Yes')"
      ],
      "execution_count": null,
      "outputs": []
    },
    {
      "cell_type": "code",
      "metadata": {
        "colab": {
          "base_uri": "https://localhost:8080/",
          "height": 323
        },
        "id": "28e_A6shw-FH",
        "outputId": "54e24d0c-4add-4a9d-aa27-c4d3668a7be4"
      },
      "source": [
        "df.head()"
      ],
      "execution_count": null,
      "outputs": [
        {
          "output_type": "execute_result",
          "data": {
            "text/html": [
              "<div>\n",
              "<style scoped>\n",
              "    .dataframe tbody tr th:only-of-type {\n",
              "        vertical-align: middle;\n",
              "    }\n",
              "\n",
              "    .dataframe tbody tr th {\n",
              "        vertical-align: top;\n",
              "    }\n",
              "\n",
              "    .dataframe thead th {\n",
              "        text-align: right;\n",
              "    }\n",
              "</style>\n",
              "<table border=\"1\" class=\"dataframe\">\n",
              "  <thead>\n",
              "    <tr style=\"text-align: right;\">\n",
              "      <th></th>\n",
              "      <th>Timestamp</th>\n",
              "      <th>Full Name</th>\n",
              "      <th>Phone Number</th>\n",
              "      <th>Sign-in Time</th>\n",
              "      <th>What are you working on today? (We ask this to understand what type of work is being done at The Hub)</th>\n",
              "      <th>What equipment will you use?</th>\n",
              "      <th>Internet?</th>\n",
              "      <th>Sign-out Time (estimate)</th>\n",
              "      <th>Are you a member of The Hub?</th>\n",
              "    </tr>\n",
              "  </thead>\n",
              "  <tbody>\n",
              "    <tr>\n",
              "      <th>0</th>\n",
              "      <td>2021-02-11</td>\n",
              "      <td>Kwanele Prince Tsabedze</td>\n",
              "      <td>7815 8606</td>\n",
              "      <td>11:00:00 AM</td>\n",
              "      <td>FInancials, among other things</td>\n",
              "      <td>BYOC</td>\n",
              "      <td>Shared Hotspot</td>\n",
              "      <td>6:00:00 AM</td>\n",
              "      <td>Yes</td>\n",
              "    </tr>\n",
              "    <tr>\n",
              "      <th>1</th>\n",
              "      <td>2021-02-11</td>\n",
              "      <td>Simanga Ntsini</td>\n",
              "      <td>78501932</td>\n",
              "      <td>4:00:00 AM</td>\n",
              "      <td>EDITING VIDS</td>\n",
              "      <td>Desktop Workstation</td>\n",
              "      <td>Shared Hotspot</td>\n",
              "      <td>5:00:00 PM</td>\n",
              "      <td>Yes</td>\n",
              "    </tr>\n",
              "    <tr>\n",
              "      <th>2</th>\n",
              "      <td>2021-02-13</td>\n",
              "      <td>Simanga Ntsini</td>\n",
              "      <td>78501932</td>\n",
              "      <td>11:00:00 AM</td>\n",
              "      <td>Sharing videos to my platforms</td>\n",
              "      <td>Mac Workstation</td>\n",
              "      <td>Shared Hotspot</td>\n",
              "      <td>5:00:00 PM</td>\n",
              "      <td>Yes</td>\n",
              "    </tr>\n",
              "    <tr>\n",
              "      <th>3</th>\n",
              "      <td>2021-02-13</td>\n",
              "      <td>TygaDoesIt</td>\n",
              "      <td>+26879384734</td>\n",
              "      <td>11:45:00 AM</td>\n",
              "      <td>album art work</td>\n",
              "      <td>Own P.C</td>\n",
              "      <td>Shared Hotspot</td>\n",
              "      <td>7:00:00 PM</td>\n",
              "      <td>Yes</td>\n",
              "    </tr>\n",
              "    <tr>\n",
              "      <th>4</th>\n",
              "      <td>2021-02-14</td>\n",
              "      <td>Gcinimiyalo Ntuli</td>\n",
              "      <td>76342236</td>\n",
              "      <td>12:56:00 PM</td>\n",
              "      <td>Editing a video for my YouTube channel</td>\n",
              "      <td>Mac Workstation</td>\n",
              "      <td>Shared Hotspot</td>\n",
              "      <td>16:38:00</td>\n",
              "      <td>Yes</td>\n",
              "    </tr>\n",
              "  </tbody>\n",
              "</table>\n",
              "</div>"
            ],
            "text/plain": [
              "   Timestamp  ... Are you a member of The Hub?\n",
              "0 2021-02-11  ...                          Yes\n",
              "1 2021-02-11  ...                          Yes\n",
              "2 2021-02-13  ...                          Yes\n",
              "3 2021-02-13  ...                          Yes\n",
              "4 2021-02-14  ...                          Yes\n",
              "\n",
              "[5 rows x 9 columns]"
            ]
          },
          "metadata": {
            "tags": []
          },
          "execution_count": 12
        }
      ]
    },
    {
      "cell_type": "code",
      "metadata": {
        "id": "2xOE4lfuFWf8"
      },
      "source": [
        "date_groups = df.groupby(df['Timestamp'])"
      ],
      "execution_count": null,
      "outputs": []
    },
    {
      "cell_type": "code",
      "metadata": {
        "colab": {
          "base_uri": "https://localhost:8080/"
        },
        "id": "-G5qVDDLiK2G",
        "outputId": "8c2dc62d-5407-4743-8156-9cef1419e61f"
      },
      "source": [
        "df.columns"
      ],
      "execution_count": null,
      "outputs": [
        {
          "output_type": "execute_result",
          "data": {
            "text/plain": [
              "Index(['Timestamp', 'Full Name', 'Phone Number', 'Sign-in Time',\n",
              "       'What are you working on today? (We ask this to understand what type of work is being done at The Hub)',\n",
              "       'What equipment will you use?', 'Internet?', 'Sign-out Time (estimate)',\n",
              "       'Are you a member of The Hub?'],\n",
              "      dtype='object')"
            ]
          },
          "metadata": {
            "tags": []
          },
          "execution_count": 41
        }
      ]
    },
    {
      "cell_type": "code",
      "metadata": {
        "colab": {
          "base_uri": "https://localhost:8080/",
          "height": 323
        },
        "id": "Lt41WcvOiBZQ",
        "outputId": "cfd7a2e1-c5ed-4468-90a8-0bcec7a167a9"
      },
      "source": [
        "df['Sign-in Time'] = pd.to_datetime(df['Sign-in Time'])\n",
        "df['Sign-out Time (estimate)'] = pd.to_datetime(df['Sign-out Time (estimate)'])\n",
        "df.head()"
      ],
      "execution_count": null,
      "outputs": [
        {
          "output_type": "execute_result",
          "data": {
            "text/html": [
              "<div>\n",
              "<style scoped>\n",
              "    .dataframe tbody tr th:only-of-type {\n",
              "        vertical-align: middle;\n",
              "    }\n",
              "\n",
              "    .dataframe tbody tr th {\n",
              "        vertical-align: top;\n",
              "    }\n",
              "\n",
              "    .dataframe thead th {\n",
              "        text-align: right;\n",
              "    }\n",
              "</style>\n",
              "<table border=\"1\" class=\"dataframe\">\n",
              "  <thead>\n",
              "    <tr style=\"text-align: right;\">\n",
              "      <th></th>\n",
              "      <th>Timestamp</th>\n",
              "      <th>Full Name</th>\n",
              "      <th>Phone Number</th>\n",
              "      <th>Sign-in Time</th>\n",
              "      <th>What are you working on today? (We ask this to understand what type of work is being done at The Hub)</th>\n",
              "      <th>What equipment will you use?</th>\n",
              "      <th>Internet?</th>\n",
              "      <th>Sign-out Time (estimate)</th>\n",
              "      <th>Are you a member of The Hub?</th>\n",
              "    </tr>\n",
              "  </thead>\n",
              "  <tbody>\n",
              "    <tr>\n",
              "      <th>0</th>\n",
              "      <td>2021-02-11</td>\n",
              "      <td>Kwanele Prince Tsabedze</td>\n",
              "      <td>7815 8606</td>\n",
              "      <td>2021-08-04 11:00:00</td>\n",
              "      <td>FInancials, among other things</td>\n",
              "      <td>BYOC</td>\n",
              "      <td>Shared Hotspot</td>\n",
              "      <td>2021-08-04 06:00:00</td>\n",
              "      <td>Yes</td>\n",
              "    </tr>\n",
              "    <tr>\n",
              "      <th>1</th>\n",
              "      <td>2021-02-11</td>\n",
              "      <td>Simanga Ntsini</td>\n",
              "      <td>78501932</td>\n",
              "      <td>2021-08-04 04:00:00</td>\n",
              "      <td>EDITING VIDS</td>\n",
              "      <td>Desktop Workstation</td>\n",
              "      <td>Shared Hotspot</td>\n",
              "      <td>2021-08-04 17:00:00</td>\n",
              "      <td>Yes</td>\n",
              "    </tr>\n",
              "    <tr>\n",
              "      <th>2</th>\n",
              "      <td>2021-02-13</td>\n",
              "      <td>Simanga Ntsini</td>\n",
              "      <td>78501932</td>\n",
              "      <td>2021-08-04 11:00:00</td>\n",
              "      <td>Sharing videos to my platforms</td>\n",
              "      <td>Mac Workstation</td>\n",
              "      <td>Shared Hotspot</td>\n",
              "      <td>2021-08-04 17:00:00</td>\n",
              "      <td>Yes</td>\n",
              "    </tr>\n",
              "    <tr>\n",
              "      <th>3</th>\n",
              "      <td>2021-02-13</td>\n",
              "      <td>TygaDoesIt</td>\n",
              "      <td>+26879384734</td>\n",
              "      <td>2021-08-04 11:45:00</td>\n",
              "      <td>album art work</td>\n",
              "      <td>Own P.C</td>\n",
              "      <td>Shared Hotspot</td>\n",
              "      <td>2021-08-04 19:00:00</td>\n",
              "      <td>Yes</td>\n",
              "    </tr>\n",
              "    <tr>\n",
              "      <th>4</th>\n",
              "      <td>2021-02-14</td>\n",
              "      <td>Gcinimiyalo Ntuli</td>\n",
              "      <td>76342236</td>\n",
              "      <td>2021-08-04 12:56:00</td>\n",
              "      <td>Editing a video for my YouTube channel</td>\n",
              "      <td>Mac Workstation</td>\n",
              "      <td>Shared Hotspot</td>\n",
              "      <td>2021-08-04 16:38:00</td>\n",
              "      <td>Yes</td>\n",
              "    </tr>\n",
              "  </tbody>\n",
              "</table>\n",
              "</div>"
            ],
            "text/plain": [
              "   Timestamp  ... Are you a member of The Hub?\n",
              "0 2021-02-11  ...                          Yes\n",
              "1 2021-02-11  ...                          Yes\n",
              "2 2021-02-13  ...                          Yes\n",
              "3 2021-02-13  ...                          Yes\n",
              "4 2021-02-14  ...                          Yes\n",
              "\n",
              "[5 rows x 9 columns]"
            ]
          },
          "metadata": {
            "tags": []
          },
          "execution_count": 12
        }
      ]
    },
    {
      "cell_type": "code",
      "metadata": {
        "colab": {
          "base_uri": "https://localhost:8080/",
          "height": 323
        },
        "id": "MacEvEwqjiDP",
        "outputId": "da1f77b1-d70e-45ad-f720-7016a26c856c"
      },
      "source": [
        "#df['Sign-in Time'] = df['Sign-in Time'].dt.strftime('%H:%M:%S')\n",
        "#df['Sign-out Time (estimate)'] = df['Sign-out Time (estimate)'].dt.strftime('%H:%M:%S')\n",
        "#df.head()"
      ],
      "execution_count": null,
      "outputs": [
        {
          "output_type": "execute_result",
          "data": {
            "text/html": [
              "<div>\n",
              "<style scoped>\n",
              "    .dataframe tbody tr th:only-of-type {\n",
              "        vertical-align: middle;\n",
              "    }\n",
              "\n",
              "    .dataframe tbody tr th {\n",
              "        vertical-align: top;\n",
              "    }\n",
              "\n",
              "    .dataframe thead th {\n",
              "        text-align: right;\n",
              "    }\n",
              "</style>\n",
              "<table border=\"1\" class=\"dataframe\">\n",
              "  <thead>\n",
              "    <tr style=\"text-align: right;\">\n",
              "      <th></th>\n",
              "      <th>Timestamp</th>\n",
              "      <th>Full Name</th>\n",
              "      <th>Phone Number</th>\n",
              "      <th>Sign-in Time</th>\n",
              "      <th>What are you working on today? (We ask this to understand what type of work is being done at The Hub)</th>\n",
              "      <th>What equipment will you use?</th>\n",
              "      <th>Internet?</th>\n",
              "      <th>Sign-out Time (estimate)</th>\n",
              "      <th>Are you a member of The Hub?</th>\n",
              "    </tr>\n",
              "  </thead>\n",
              "  <tbody>\n",
              "    <tr>\n",
              "      <th>0</th>\n",
              "      <td>2021-02-11</td>\n",
              "      <td>Kwanele Prince Tsabedze</td>\n",
              "      <td>7815 8606</td>\n",
              "      <td>11:00:00</td>\n",
              "      <td>FInancials, among other things</td>\n",
              "      <td>BYOC</td>\n",
              "      <td>Shared Hotspot</td>\n",
              "      <td>06:00:00</td>\n",
              "      <td>Yes</td>\n",
              "    </tr>\n",
              "    <tr>\n",
              "      <th>1</th>\n",
              "      <td>2021-02-11</td>\n",
              "      <td>Simanga Ntsini</td>\n",
              "      <td>78501932</td>\n",
              "      <td>04:00:00</td>\n",
              "      <td>EDITING VIDS</td>\n",
              "      <td>Desktop Workstation</td>\n",
              "      <td>Shared Hotspot</td>\n",
              "      <td>17:00:00</td>\n",
              "      <td>Yes</td>\n",
              "    </tr>\n",
              "    <tr>\n",
              "      <th>2</th>\n",
              "      <td>2021-02-13</td>\n",
              "      <td>Simanga Ntsini</td>\n",
              "      <td>78501932</td>\n",
              "      <td>11:00:00</td>\n",
              "      <td>Sharing videos to my platforms</td>\n",
              "      <td>Mac Workstation</td>\n",
              "      <td>Shared Hotspot</td>\n",
              "      <td>17:00:00</td>\n",
              "      <td>Yes</td>\n",
              "    </tr>\n",
              "    <tr>\n",
              "      <th>3</th>\n",
              "      <td>2021-02-13</td>\n",
              "      <td>TygaDoesIt</td>\n",
              "      <td>+26879384734</td>\n",
              "      <td>11:45:00</td>\n",
              "      <td>album art work</td>\n",
              "      <td>Own P.C</td>\n",
              "      <td>Shared Hotspot</td>\n",
              "      <td>19:00:00</td>\n",
              "      <td>Yes</td>\n",
              "    </tr>\n",
              "    <tr>\n",
              "      <th>4</th>\n",
              "      <td>2021-02-14</td>\n",
              "      <td>Gcinimiyalo Ntuli</td>\n",
              "      <td>76342236</td>\n",
              "      <td>12:56:00</td>\n",
              "      <td>Editing a video for my YouTube channel</td>\n",
              "      <td>Mac Workstation</td>\n",
              "      <td>Shared Hotspot</td>\n",
              "      <td>16:38:00</td>\n",
              "      <td>Yes</td>\n",
              "    </tr>\n",
              "  </tbody>\n",
              "</table>\n",
              "</div>"
            ],
            "text/plain": [
              "   Timestamp  ... Are you a member of The Hub?\n",
              "0 2021-02-11  ...                          Yes\n",
              "1 2021-02-11  ...                          Yes\n",
              "2 2021-02-13  ...                          Yes\n",
              "3 2021-02-13  ...                          Yes\n",
              "4 2021-02-14  ...                          Yes\n",
              "\n",
              "[5 rows x 9 columns]"
            ]
          },
          "metadata": {
            "tags": []
          },
          "execution_count": 44
        }
      ]
    },
    {
      "cell_type": "code",
      "metadata": {
        "colab": {
          "base_uri": "https://localhost:8080/"
        },
        "id": "2p_Nt9Ao-PHn",
        "outputId": "c3bbbfca-1c5a-4b18-a0fa-3a0c723623fe"
      },
      "source": [
        "df['What equipment will you use?'].value_counts()"
      ],
      "execution_count": null,
      "outputs": [
        {
          "output_type": "execute_result",
          "data": {
            "text/plain": [
              "Own workstation        174\n",
              "Mac Workstation        108\n",
              "Desktop Workstation     76\n",
              "Other                   15\n",
              "Projector               14\n",
              "Camera                  12\n",
              "Network                  1\n",
              "Desk and plug            1\n",
              "Keyboard                 1\n",
              "Name: What equipment will you use?, dtype: int64"
            ]
          },
          "metadata": {
            "tags": []
          },
          "execution_count": 134
        }
      ]
    },
    {
      "cell_type": "code",
      "metadata": {
        "colab": {
          "base_uri": "https://localhost:8080/"
        },
        "id": "_58uomscHkp0",
        "outputId": "425b9d1f-062b-42b3-d129-e295aa9809b1"
      },
      "source": [
        "df['Full Name'].value_counts()"
      ],
      "execution_count": null,
      "outputs": [
        {
          "output_type": "execute_result",
          "data": {
            "text/plain": [
              "Gcinimiyalo Ntuli          53\n",
              "Lungelo Mamba              39\n",
              "Fanelesibonge Malaza       34\n",
              "Tsabedze Kwanele Prince    34\n",
              "Shongwe Mlungisi           26\n",
              "                           ..\n",
              "Sabelo                      1\n",
              "TygaDoesIt                  1\n",
              "Shongwe Mlungisi L.         1\n",
              "Sabelo s Vilakati           1\n",
              "Tsabedze Sibusiso           1\n",
              "Name: Full Name, Length: 64, dtype: int64"
            ]
          },
          "metadata": {
            "tags": []
          },
          "execution_count": 169
        }
      ]
    },
    {
      "cell_type": "code",
      "metadata": {
        "colab": {
          "base_uri": "https://localhost:8080/"
        },
        "id": "gCvE8ccyLgFp",
        "outputId": "63f47926-420a-4090-e01b-31c5576d8036"
      },
      "source": [
        "df['Internet?'].value_counts()"
      ],
      "execution_count": null,
      "outputs": [
        {
          "output_type": "execute_result",
          "data": {
            "text/plain": [
              "Shared Hotspot    336\n",
              "Own internet       66\n",
              "Name: Internet?, dtype: int64"
            ]
          },
          "metadata": {
            "tags": []
          },
          "execution_count": 165
        }
      ]
    },
    {
      "cell_type": "code",
      "metadata": {
        "id": "9nyH7pAMLqDy"
      },
      "source": [
        "df['Internet?'].replace('BYOI', 'Own internet', inplace=True)\n",
        "df['Internet?'].replace('Brought my own internet', 'Own internet', inplace=True)"
      ],
      "execution_count": null,
      "outputs": []
    },
    {
      "cell_type": "code",
      "metadata": {
        "colab": {
          "base_uri": "https://localhost:8080/",
          "height": 248
        },
        "id": "9m5MJxNRMU1J",
        "outputId": "e5f462e5-de19-48a7-9d14-c1eb639588c9"
      },
      "source": [
        "pie1_labels = 'Shared Hotspot', 'Own internet' \n",
        "sizes1_labels = df['Internet?'].value_counts()\n",
        "explode = (0,0.1)\n",
        "fig1, ax1 = plt.subplots()\n",
        "ax1.pie(sizes1_labels, explode=explode, labels=pie1_labels, autopct='%1.1f%%',\n",
        "        shadow=True, startangle=90)\n",
        "ax1.axis('equal')  # Equal aspect ratio ensures that pie is drawn as a circle.\n",
        "\n",
        "plt.show()"
      ],
      "execution_count": null,
      "outputs": [
        {
          "output_type": "display_data",
          "data": {
            "image/png": "[encoded data removed]",
            "text/plain": [
              "<Figure size 432x288 with 1 Axes>"
            ]
          },
          "metadata": {
            "tags": []
          }
        }
      ]
    },
    {
      "cell_type": "code",
      "metadata": {
        "colab": {
          "base_uri": "https://localhost:8080/"
        },
        "id": "lQN-Z5ClGdXx",
        "outputId": "af42f58b-0788-48ec-f660-afcda78e6230"
      },
      "source": [
        "with pd.option_context('display.max_rows', None, 'display.max_columns', None):  # more options can be specified also\n",
        "     print(df['Full Name'].value_counts())"
      ],
      "execution_count": null,
      "outputs": [
        {
          "output_type": "stream",
          "text": [
            "Gcinimiyalo Ntuli            53\n",
            "Lungelo Mamba                39\n",
            "Fanelesibonge Malaza         34\n",
            "Tsabedze Kwanele Prince      34\n",
            "Shongwe Mlungisi             26\n",
            "Hlophe Nombuso               25\n",
            "Lution                       20\n",
            "Simanga Ntsini               15\n",
            "Zack Towindo                 13\n",
            "Bagcinele Fakudze            10\n",
            "Lwazi Mkhaliphi               8\n",
            "Nomalungelo                   8\n",
            "Kwanele Prince Tsabedze       6\n",
            "Nxumalo Thobeka               6\n",
            "Thobeka Nxumalo               5\n",
            "Shongwe Mlungisi              5\n",
            "Sabelo Vilakati               5\n",
            "MLUNGISI SHONGWE              5\n",
            "Muzi Mathunjwa                5\n",
            "Tsabedze Sibusiso             5\n",
            "Zack towindo                  5\n",
            "Sibahle Mnyakeni              4\n",
            "Gcinimiyalo Ntuli             4\n",
            "zack towindo                  4\n",
            "Fanelesibonge Malaza          4\n",
            "Tygadoesit                    3\n",
            "Thobeka Nxumalo               3\n",
            "Sabelo S Vilakati             3\n",
            "Sabelo S Vilakati             2\n",
            "Percy Tembe                   2\n",
            "Sabelo                        2\n",
            "Tsabedze Kwanele Prince       2\n",
            "Nombuso Hlophe                2\n",
            "Sibusiso Tsabedze             2\n",
            "Fanelesibonge malaza          2\n",
            "Nxumalo Thobeka               2\n",
            "Lungelo Mamba                 2\n",
            "TYGADOESIT                    1\n",
            "Percy Tembe                   1\n",
            "sabelo s vilakati             1\n",
            "Thandwa Mamba                 1\n",
            "tsabedze                      1\n",
            "Fanelesibonge malaza3         1\n",
            "Fanelesibonge                 1\n",
            "Tsabedze Kwanele Tsabedze     1\n",
            "Sabelo vilakati               1\n",
            "Nosifiso Tengetile Mamba      1\n",
            "Sabelo  S Vilakati            1\n",
            "Dlamini Lihle                 1\n",
            "Sebenzile Sikhondze           1\n",
            "siphumelele malambe           1\n",
            "Alex Muti                     1\n",
            "TygaDoesIt                    1\n",
            "Ncobile Magongo               1\n",
            "Ayanda Tsela                  1\n",
            "zACK TOWINDO                  1\n",
            "Bafana P. Gama                1\n",
            "Mafomisa Mano Isaac           1\n",
            "Shongwe Mlungisi.             1\n",
            "Sabelo                        1\n",
            "TygaDoesIt                    1\n",
            "Shongwe Mlungisi L.           1\n",
            "Sabelo s Vilakati             1\n",
            "Tsabedze Sibusiso             1\n",
            "Name: Full Name, dtype: int64\n"
          ],
          "name": "stdout"
        }
      ]
    },
    {
      "cell_type": "code",
      "metadata": {
        "colab": {
          "base_uri": "https://localhost:8080/",
          "height": 254
        },
        "id": "gg3jy8M-71D8",
        "outputId": "0b162c8a-709e-4144-b968-47fe2be891a6"
      },
      "source": [
        "pie_labels = 'Own workstation' , 'Projector', 'Mac workstation', 'Other', 'Desktop workstation', 'Camera'\n",
        "sizes_labels = [174, 14, 108, 15, 76, 12]\n",
        "explode = (0,0.1,0,0.1,0,0.1)\n",
        "fig1, ax1 = plt.subplots()\n",
        "ax1.pie(sizes_labels, explode=explode, labels=pie_labels, autopct='%1.1f%%',\n",
        "        shadow=False, startangle=90)\n",
        "ax1.axis('equal')  # Equal aspect ratio ensures that pie is drawn as a circle.\n",
        "\n",
        "plt.show()"
      ],
      "execution_count": null,
      "outputs": [
        {
          "output_type": "display_data",
          "data": {
            "image/png": "[encoded data removed]",
            "text/plain": [
              "<Figure size 432x288 with 1 Axes>"
            ]
          },
          "metadata": {
            "tags": []
          }
        }
      ]
    },
    {
      "cell_type": "code",
      "metadata": {
        "colab": {
          "base_uri": "https://localhost:8080/",
          "height": 114
        },
        "id": "20eF0b-R-Zpr",
        "outputId": "83ad1821-f1a1-438a-a72f-b1fb21155d16"
      },
      "source": [
        "df[df['What equipment will you use?']=='work']"
      ],
      "execution_count": null,
      "outputs": [
        {
          "output_type": "execute_result",
          "data": {
            "text/html": [
              "<div>\n",
              "<style scoped>\n",
              "    .dataframe tbody tr th:only-of-type {\n",
              "        vertical-align: middle;\n",
              "    }\n",
              "\n",
              "    .dataframe tbody tr th {\n",
              "        vertical-align: top;\n",
              "    }\n",
              "\n",
              "    .dataframe thead th {\n",
              "        text-align: right;\n",
              "    }\n",
              "</style>\n",
              "<table border=\"1\" class=\"dataframe\">\n",
              "  <thead>\n",
              "    <tr style=\"text-align: right;\">\n",
              "      <th></th>\n",
              "      <th>Full Name</th>\n",
              "      <th>Phone Number</th>\n",
              "      <th>Sign-in Time</th>\n",
              "      <th>What are you working on today? (We ask this to understand what type of work is being done at The Hub)</th>\n",
              "      <th>What equipment will you use?</th>\n",
              "      <th>Internet?</th>\n",
              "      <th>Sign-out Time (estimate)</th>\n",
              "      <th>Are you a member of The Hub?</th>\n",
              "      <th>part_of_day</th>\n",
              "    </tr>\n",
              "    <tr>\n",
              "      <th>Timestamp</th>\n",
              "      <th></th>\n",
              "      <th></th>\n",
              "      <th></th>\n",
              "      <th></th>\n",
              "      <th></th>\n",
              "      <th></th>\n",
              "      <th></th>\n",
              "      <th></th>\n",
              "      <th></th>\n",
              "    </tr>\n",
              "  </thead>\n",
              "  <tbody>\n",
              "  </tbody>\n",
              "</table>\n",
              "</div>"
            ],
            "text/plain": [
              "Empty DataFrame\n",
              "Columns: [Full Name, Phone Number, Sign-in Time, What are you working on today? (We ask this to understand what type of work is being done at The Hub), What equipment will you use?, Internet?, Sign-out Time (estimate), Are you a member of The Hub?, part_of_day]\n",
              "Index: []"
            ]
          },
          "metadata": {
            "tags": []
          },
          "execution_count": 128
        }
      ]
    },
    {
      "cell_type": "code",
      "metadata": {
        "id": "d5EJwjOYkuI0"
      },
      "source": [
        "df['What equipment will you use?'].replace('Brought my own workstation', 'Own workstation', inplace=True)"
      ],
      "execution_count": null,
      "outputs": []
    },
    {
      "cell_type": "code",
      "metadata": {
        "id": "1Vl7ItpRos4F"
      },
      "source": [
        "df['part_of_day']=pd.cut(df['Sign-in Time'].dt.hour,\n",
        "                            [0,12,17,20,23],\n",
        "                            labels=['Morning','Afternoon','Evening','Night'],\n",
        "                            include_lowest=True)"
      ],
      "execution_count": null,
      "outputs": []
    },
    {
      "cell_type": "code",
      "metadata": {
        "colab": {
          "base_uri": "https://localhost:8080/"
        },
        "id": "9wW-HFWZpSPM",
        "outputId": "168c0262-666f-4fc5-901f-2173f0798bd5"
      },
      "source": [
        "df['part_of_day'].value_counts()"
      ],
      "execution_count": null,
      "outputs": [
        {
          "output_type": "execute_result",
          "data": {
            "text/plain": [
              "Morning      277\n",
              "Afternoon    110\n",
              "Evening       12\n",
              "Night          3\n",
              "Name: part_of_day, dtype: int64"
            ]
          },
          "metadata": {
            "tags": []
          },
          "execution_count": 16
        }
      ]
    },
    {
      "cell_type": "code",
      "metadata": {
        "id": "6tDxIUd8rfQS"
      },
      "source": [
        "session = ['Morning','Afternoon','Evening','Night']"
      ],
      "execution_count": null,
      "outputs": []
    },
    {
      "cell_type": "code",
      "metadata": {
        "colab": {
          "base_uri": "https://localhost:8080/",
          "height": 284
        },
        "id": "BJaRuyOWqyCM",
        "outputId": "4be39749-b8e5-4105-998a-742e579b3edd"
      },
      "source": [
        "%matplotlib inline\n",
        "plt.bar(session, df[\"part_of_day\"].value_counts());\n",
        "#plt.xlabel(\"part of the day\")\n",
        "plt.ylabel(\"Count\")\n",
        "plt.title(\"Activity Traffic\");"
      ],
      "execution_count": null,
      "outputs": [
        {
          "output_type": "display_data",
          "data": {
            "image/png": "[encoded data removed]",
            "text/plain": [
              "<Figure size 432x288 with 1 Axes>"
            ]
          },
          "metadata": {
            "tags": [],
            "needs_background": "light"
          }
        }
      ]
    },
    {
      "cell_type": "code",
      "metadata": {
        "colab": {
          "base_uri": "https://localhost:8080/",
          "height": 284
        },
        "id": "6gbI1z1YIuVu",
        "outputId": "89146818-b219-41d6-d264-77d407fcb82e"
      },
      "source": [
        "%matplotlib inline\n",
        "session = ['Morning','Afternoon','Evening','Night']\n",
        "s = [277, 110, 12, 3]\n",
        "plt.bar(session, s)\n",
        "plt.ylabel(\"Count\")\n",
        "plt.title(\"Activity Traffic\");\n",
        "\n",
        "for i in range(len(s)):\n",
        "  plt.annotate(str(s[i]), xy=(session[i],s[i]), ha='center', va='bottom')\n",
        "\n",
        "plt.show()"
      ],
      "execution_count": null,
      "outputs": [
        {
          "output_type": "display_data",
          "data": {
            "image/png": "[encoded data removed]",
            "text/plain": [
              "<Figure size 432x288 with 1 Axes>"
            ]
          },
          "metadata": {
            "tags": [],
            "needs_background": "light"
          }
        }
      ]
    },
    {
      "cell_type": "code",
      "metadata": {
        "id": "QkYKZbMsqtTV"
      },
      "source": [
        "df['What are you working on today? (We ask this to understand what type of work is being done at The Hub)'].replace('IAE Minutes, IAE Session, Vundzisa','Meeting', inplace=True)\n",
        "df['What are you working on today? (We ask this to understand what type of work is being done at The Hub)'].replace('WPC S3E3','Meeting', inplace=True)\n",
        "df['What are you working on today? (We ask this to understand what type of work is being done at The Hub)'].replace('IAE Minutes, Vundzisa Partner Work','Meeting', inplace=True)\n",
        "df['What are you working on today? (We ask this to understand what type of work is being done at The Hub)'].replace('IAE Email, Admin, and Vundzisa Partner Work','Meeting', inplace=True)\n",
        "df['What are you working on today? (We ask this to understand what type of work is being done at The Hub)'].replace('Meeting with the UNDP','Meeting', inplace=True)\n",
        "df['What are you working on today? (We ask this to understand what type of work is being done at The Hub)'].replace('Meetings','Meeting', inplace=True)\n",
        "df['What are you working on today? (We ask this to understand what type of work is being done at The Hub)'].replace('Meeting about the hub, we having visitors','Meeting', inplace=True)\n",
        "df['What are you working on today? (We ask this to understand what type of work is being done at The Hub)'].replace('IAE Monday Session','Meeting', inplace=True)\n",
        "df['What are you working on today? (We ask this to understand what type of work is being done at The Hub)'].replace('Castle Lite Pitch','Meeting', inplace=True)\n",
        "df['What are you working on today? (We ask this to understand what type of work is being done at The Hub)'].replace('Doing website','Meeting', inplace=True)\n",
        "df['What are you working on today? (We ask this to understand what type of work is being done at The Hub)'].replace('Smd investments website','Meeting', inplace=True)"
      ],
      "execution_count": null,
      "outputs": []
    },
    {
      "cell_type": "code",
      "metadata": {
        "colab": {
          "base_uri": "https://localhost:8080/"
        },
        "id": "Ayieox1YONTF",
        "outputId": "aefee22d-8b17-4480-c0f5-e1fb427402d1"
      },
      "source": [
        "with pd.option_context('display.max_rows', None, 'display.max_columns', None):  # more options can be specified also\n",
        "     print(df['What are you working on today? (We ask this to understand what type of work is being done at The Hub)'].value_counts())"
      ],
      "execution_count": null,
      "outputs": [
        {
          "output_type": "stream",
          "text": [
            "Research and Development                                                                                                      104\n",
            "Work                                                                                                                           61\n",
            "Updating content                                                                                                               19\n",
            "Creative                                                                                                                       13\n",
            "Meeting                                                                                                                        11\n",
            "Updating YouTube content                                                                                                        8\n",
            "Simple books                                                                                                                    7\n",
            "XLR Word                                                                                                                        6\n",
            "Simple books                                                                                                                    5\n",
            "Creating website                                                                                                                3\n",
            "Creating content                                                                                                                3\n",
            "Ummo Marketing Strategy                                                                                                         3\n",
            "Editing content                                                                                                                 3\n",
            "Uploading content                                                                                                               3\n",
            "Graphics                                                                                                                        3\n",
            "Video editing                                                                                                                   2\n",
            "Data analysis website                                                                                                           2\n",
            "Khalipha Talks                                                                                                                  2\n",
            "Khalipha Talk                                                                                                                   2\n",
            "Various projects                                                                                                                2\n",
            "Vundzisa Work                                                                                                                   2\n",
            "Simple books flutter pwa                                                                                                        2\n",
            "Uploading YouTube content                                                                                                       2\n",
            "Simple Books                                                                                                                    2\n",
            "School Assignment                                                                                                               2\n",
            "Writing user manual                                                                                                             2\n",
            "Hosting my website                                                                                                              2\n",
            "UMMO x XLR                                                                                                                      1\n",
            "svtech world                                                                                                                    1\n",
            "Streamlit                                                                                                                       1\n",
            "Catch up                                                                                                                        1\n",
            "Kingdom XLR x Khalipha x UMMO x Castle Lite Influencer X                                                                        1\n",
            "Uploads                                                                                                                         1\n",
            "working on macs                                                                                                                 1\n",
            "Zoom Meeting                                                                                                                    1\n",
            "Study on Energy                                                                                                                 1\n",
            "Simple books pwa, smd investments website and data analysis tool server migration                                               1\n",
            "Marketing                                                                                                                       1\n",
            "IAE Weekly Session                                                                                                              1\n",
            "Streamlit                                                                                                                       1\n",
            "Blender                                                                                                                         1\n",
            "Food business                                                                                                                   1\n",
            "Src election system                                                                                                             1\n",
            "Src elections admin ui                                                                                                          1\n",
            "Shooting                                                                                                                        1\n",
            "Research                                                                                                                        1\n",
            "Python Project                                                                                                                  1\n",
            "Simple books pwa, SMD investments website, SMD investments data analysis tool                                                   1\n",
            "Meeting with Lution on Rare Jam Production                                                                                      1\n",
            "Research Presentation Slides                                                                                                    1\n",
            "UMMO x XLR Word                                                                                                                 1\n",
            "Dynamic Programming                                                                                                             1\n",
            "Src elections system and python data analysis tool                                                                              1\n",
            "UMMO x XLR Compilation x Black Pheonix x Spectrum of Positivity                                                                 1\n",
            "I-HUB Weekly Session #5, Product Testing for a Vundzisa Partner, Scanning                                                       1\n",
            "Cooking business                                                                                                                1\n",
            "Sending emails to our clients                                                                                                   1\n",
            "KXLR Graphics                                                                                                                   1\n",
            "Promoting a show                                                                                                                1\n",
            "Creating spreadsheets for our affiliates                                                                                        1\n",
            "Editing and uploading YouTube content                                                                                           1\n",
            "Researching about moodle                                                                                                        1\n",
            "Recording content                                                                                                               1\n",
            "YouTube video                                                                                                                   1\n",
            "Editing video                                                                                                                   1\n",
            "XLR Music Compilation Episode 10                                                                                                1\n",
            "Ummo Marketing Report                                                                                                           1\n",
            "KIA Motors Advert                                                                                                               1\n",
            "My Novel                                                                                                                        1\n",
            "Poetry online meeting with swaziboy entertainment                                                                               1\n",
            "School Assigment                                                                                                                1\n",
            "Svtech project                                                                                                                  1\n",
            "UMMO Advert                                                                                                                     1\n",
            "creativity                                                                                                                      1\n",
            "Distributing content                                                                                                            1\n",
            "Check content updates                                                                                                           1\n",
            "Academics                                                                                                                       1\n",
            "Hub Analysis                                                                                                                    1\n",
            "Studying. Updating YouTube content                                                                                              1\n",
            "IAE Monthly Session Agenda                                                                                                      1\n",
            "Simple Source Meeting                                                                                                           1\n",
            "Audio Recording                                                                                                                 1\n",
            "Data Science project                                                                                                            1\n",
            "Kua Capital website                                                                                                             1\n",
            "UMMO x XLR                                                                                                                      1\n",
            "Trying to take over the world pinky                                                                                             1\n",
            "EDITING VIDS                                                                                                                    1\n",
            "Microsoft teams presentation                                                                                                    1\n",
            "Uploading content, written poem on Facebook                                                                                     1\n",
            "Src elections admin                                                                                                             1\n",
            "theses                                                                                                                          1\n",
            "Video filming and editing                                                                                                       1\n",
            "Agric tech                                                                                                                      1\n",
            "XLR x UMMO x Lution Music Lab                                                                                                   1\n",
            "album art work                                                                                                                  1\n",
            "Castle Lite project                                                                                                             1\n",
            "Record and update YouTube content                                                                                               1\n",
            "Visual Displays on Stream Lit                                                                                                   1\n",
            "Castle Lite Influencer X promo material                                                                                         1\n",
            "The I-Hub Proposal, Vundzisa Partner Work                                                                                       1\n",
            "Projects                                                                                                                        1\n",
            "School assingment                                                                                                               1\n",
            "Editing a video for my YouTube channel                                                                                          1\n",
            "Vundzisa Partner Business Development Work + IAE Monday Meeting                                                                 1\n",
            "Recording                                                                                                                       1\n",
            "Vundzisa Client work/ KXLR work                                                                                                 1\n",
            "Agri Tech project                                                                                                               1\n",
            "Castle Lite x Kingdom XLR x Lution (Influencer X)                                                                               1\n",
            "Personal finance PWA : Simple Source                                                                                            1\n",
            "Sharing videos to my platforms                                                                                                  1\n",
            "My cooking business                                                                                                             1\n",
            "Castle Lite Pitch                                                                                                               1\n",
            "Src elections                                                                                                                   1\n",
            "IAE Minutes, IAE Session, Vundzisa                                                                                              1\n",
            "Src election                                                                                                                    1\n",
            "XLR x UMMO                                                                                                                      1\n",
            "Projects for Kingdom XLR                                                                                                        1\n",
            "Attending online Mathematics Conference                                                                                         1\n",
            "I came in early to prepare for the food business I just started and to continue working on the handbook and other projects      1\n",
            "School assignment                                                                                                               1\n",
            "Kingdom XLR motion graphics and Ummo graphics                                                                                   1\n",
            "Castle Lite Influencer X Final Product                                                                                          1\n",
            "IAE Agenda                                                                                                                      1\n",
            "Business Ideas                                                                                                                  1\n",
            "Writing a user manual                                                                                                           1\n",
            "XLR                                                                                                                             1\n",
            "work                                                                                                                            1\n",
            "Updating YouTube  content                                                                                                       1\n",
            "Smd investments website                                                                                                         1\n",
            "Python web scraping  data analysis tool                                                                                         1\n",
            "Doing website                                                                                                                   1\n",
            "Thesis                                                                                                                          1\n",
            "Promoting my Mbabane show which will take place at mbabane theater club 1 may                                                   1\n",
            "Making sales point                                                                                                              1\n",
            "WPC                                                                                                                             1\n",
            "Vundzisa Business Matrix                                                                                                        1\n",
            "Creating an website                                                                                                             1\n",
            "Uploading content on YouTube                                                                                                    1\n",
            "Video editing                                                                                                                   1\n",
            "Busy with website                                                                                                               1\n",
            "Same thing we do every night... Try and take over the world                                                                     1\n",
            "Simple books pwa                                                                                                                1\n",
            "Kingdom XLR                                                                                                                     1\n",
            "IAE-UNDP                                                                                                                        1\n",
            "Creating YouTube content                                                                                                        1\n",
            "KHALIPHA TALKS                                                                                                                  1\n",
            "Kingdom x Rare Jam Productions                                                                                                  1\n",
            "Data analysis website                                                                                                           1\n",
            "Editing                                                                                                                         1\n",
            "Video editing, studying YouTube analytics for channel progress. Reading road rules and road signs for road safety.              1\n",
            "Kingdom xlr castle lite website                                                                                                 1\n",
            "Farmer Management System                                                                                                        1\n",
            "Novel, Handbook                                                                                                                 1\n",
            "Vundzisa Partner Work                                                                                                           1\n",
            "Work plan design                                                                                                                1\n",
            "Name: What are you working on today? (We ask this to understand what type of work is being done at The Hub), dtype: int64\n"
          ],
          "name": "stdout"
        }
      ]
    },
    {
      "cell_type": "code",
      "metadata": {
        "id": "Nkk8Y8BylEN3"
      },
      "source": [
        "df['What are you working on today? (We ask this to understand what type of work is being done at The Hub)'].replace('Updating content','Creative', inplace=True)\n",
        "df['What are you working on today? (We ask this to understand what type of work is being done at The Hub)'].replace('Updating YouTube content','Creative', inplace=True)\n",
        "df['What are you working on today? (We ask this to understand what type of work is being done at The Hub)'].replace('Editing content','Creative', inplace=True)\n",
        "df['What are you working on today? (We ask this to understand what type of work is being done at The Hub)'].replace('Graphics','Creative', inplace=True)\n",
        "df['What are you working on today? (We ask this to understand what type of work is being done at The Hub)'].replace('Creating content','Creative', inplace=True)\n",
        "df['What are you working on today? (We ask this to understand what type of work is being done at The Hub)'].replace('Uploading content','Creative', inplace=True)\n",
        "df['What are you working on today? (We ask this to understand what type of work is being done at The Hub)'].replace('Khalipha Talk','Creative', inplace=True)\n",
        "df['What are you working on today? (We ask this to understand what type of work is being done at The Hub)'].replace('Uploading YouTube content','Creative', inplace=True)\n",
        "df['What are you working on today? (We ask this to understand what type of work is being done at The Hub)'].replace('Wolfpack Choonz','Creative', inplace=True)\n",
        "df['What are you working on today? (We ask this to understand what type of work is being done at The Hub)'].replace('Khalipha Talks','Creative', inplace=True)\n",
        "df['What are you working on today? (We ask this to understand what type of work is being done at The Hub)'].replace('Wolfpack Choonz Episode','Creative', inplace=True)\n",
        "df['What are you working on today? (We ask this to understand what type of work is being done at The Hub)'].replace('fixing Stions','Creative', inplace=True)\n",
        "df['What are you working on today? (We ask this to understand what type of work is being done at The Hub)'].replace('KHALIPHA TALKS','Creative', inplace=True)\n",
        "df['What are you working on today? (We ask this to understand what type of work is being done at The Hub)'].replace('Video editing, studying YouTube analytics for channel progress. Reading road rules and road signs for road safety','Creative', inplace=True)\n",
        "df['What are you working on today? (We ask this to understand what type of work is being done at The Hub)'].replace('Rehearsal','Creative', inplace=True)\n",
        "df['What are you working on today? (We ask this to understand what type of work is being done at The Hub)'].replace('Shooting a video','Creative', inplace=True)\n",
        "df['What are you working on today? (We ask this to understand what type of work is being done at The Hub)'].replace('Kingdom XLR motion graphics and Ummo graphics','Creative', inplace=True)\n",
        "df['What are you working on today? (We ask this to understand what type of work is being done at The Hub)'].replace('Trying to take over the world pinky','Creative', inplace=True)\n",
        "df['What are you working on today? (We ask this to understand what type of work is being done at The Hub)'].replace('Creating content cattle lite, writing and recording','Creative', inplace=True)\n",
        "df['What are you working on today? (We ask this to understand what type of work is being done at The Hub)'].replace('Updating YouTube  content','Creative', inplace=True)\n",
        "df['What are you working on today? (We ask this to understand what type of work is being done at The Hub)'].replace('Motion graphics','Creative', inplace=True)\n",
        "df['What are you working on today? (We ask this to understand what type of work is being done at The Hub)'].replace('Kingdom XLR Content','Creative', inplace=True)\n",
        "df['What are you working on today? (We ask this to understand what type of work is being done at The Hub)'].replace('Castle Lite Influencer X promo material','Creative', inplace=True)\n",
        "df['What are you working on today? (We ask this to understand what type of work is being done at The Hub)'].replace('Castle Lite Influencer X promo material','Creative', inplace=True)\n",
        "df['What are you working on today? (We ask this to understand what type of work is being done at The Hub)'].replace('Video filming and editing','Creative', inplace=True)"
      ],
      "execution_count": null,
      "outputs": []
    },
    {
      "cell_type": "code",
      "metadata": {
        "id": "ZYT-spnGOWm0"
      },
      "source": [
        "df['What are you working on today? (We ask this to understand what type of work is being done at The Hub)'].replace('Project Raspberry pi','Work', inplace=True)\n",
        "df['What are you working on today? (We ask this to understand what type of work is being done at The Hub)'].replace('Castle Lite Pitch','Work', inplace=True)\n",
        "df['What are you working on today? (We ask this to understand what type of work is being done at The Hub)'].replace('Smd investments website','Work', inplace=True)\n",
        "df['What are you working on today? (We ask this to understand what type of work is being done at The Hub)'].replace('LUSIBAne Project Overiview','Work', inplace=True)\n",
        "df['What are you working on today? (We ask this to understand what type of work is being done at The Hub)'].replace('Creating an website','Work', inplace=True)\n",
        "df['What are you working on today? (We ask this to understand what type of work is being done at The Hub)'].replace('Uneswa src voting system','Work', inplace=True)\n",
        "df['What are you working on today? (We ask this to understand what type of work is being done at The Hub)'].replace('Vundzisa Partner work','Work', inplace=True)\n",
        "df['What are you working on today? (We ask this to understand what type of work is being done at The Hub)'].replace('XLR','Work', inplace=True)\n",
        "df['What are you working on today? (We ask this to understand what type of work is being done at The Hub)'].replace('Busy with website','Work', inplace=True)\n",
        "df['What are you working on today? (We ask this to understand what type of work is being done at The Hub)'].replace('Work plan design','Work', inplace=True)\n",
        "df['What are you working on today? (We ask this to understand what type of work is being done at The Hub)'].replace('Src elections system and python data analysis tool','Work', inplace=True)\n",
        "df['What are you working on today? (We ask this to understand what type of work is being done at The Hub)'].replace('Preparing invoice for Taiwan x XLR','Work', inplace=True)\n",
        "df['What are you working on today? (We ask this to understand what type of work is being done at The Hub)'].replace('Food business','Work', inplace=True)\n",
        "df['What are you working on today? (We ask this to understand what type of work is being done at The Hub)'].replace('Svtech','Work', inplace=True)\n",
        "df['What are you working on today? (We ask this to understand what type of work is being done at The Hub)'].replace('Simple books flutter implementation','Work', inplace=True)\n",
        "df['What are you working on today? (We ask this to understand what type of work is being done at The Hub)'].replace('Sent a very important email to a recording company in Belgium','Work', inplace=True)\n",
        "df['What are you working on today? (We ask this to understand what type of work is being done at The Hub)'].replace('SVTECH PROJECTS','Work', inplace=True)\n",
        "df['What are you working on today? (We ask this to understand what type of work is being done at The Hub)'].replace('Svtechprojects','Work', inplace=True)\n",
        "df['What are you working on today? (We ask this to understand what type of work is being done at The Hub)'].replace('FInancials, among other things','Work', inplace=True)\n",
        "df['What are you working on today? (We ask this to understand what type of work is being done at The Hub)'].replace('smart metering project','Work', inplace=True)\n",
        "df['What are you working on today? (We ask this to understand what type of work is being done at The Hub)'].replace('Simle books','Work', inplace=True)\n",
        "df['What are you working on today? (We ask this to understand what type of work is being done at The Hub)'].replace('Agric tech','Work', inplace=True)\n",
        "df['What are you working on today? (We ask this to understand what type of work is being done at The Hub)'].replace('Thesis','Research and Development', inplace=True)\n",
        "df['What are you working on today? (We ask this to understand what type of work is being done at The Hub)'].replace('My novel','Research and Development', inplace=True)\n",
        "df['What are you working on today? (We ask this to understand what type of work is being done at The Hub)'].replace('Data Science project','Research and Development', inplace=True)\n",
        "df['What are you working on today? (We ask this to understand what type of work is being done at The Hub)'].replace('Project report','Research and Development', inplace=True)\n",
        "df['What are you working on today? (We ask this to understand what type of work is being done at The Hub)'].replace('Thesis Presentation','Research and Development', inplace=True)\n",
        "df['What are you working on today? (We ask this to understand what type of work is being done at The Hub)'].replace('Studying','Research and Development', inplace=True)\n",
        "df['What are you working on today? (We ask this to understand what type of work is being done at The Hub)'].replace('Data Science projects','Research and Development', inplace=True)\n",
        "df['What are you working on today? (We ask this to understand what type of work is being done at The Hub)'].replace('school assignment','Research and Development', inplace=True)\n",
        "df['What are you working on today? (We ask this to understand what type of work is being done at The Hub)'].replace('Python web scraping and data analysis tool','Research and Development', inplace=True)\n",
        "df['What are you working on today? (We ask this to understand what type of work is being done at The Hub)'].replace('Researching about Moodle','Research and Development', inplace=True)\n",
        "df['What are you working on today? (We ask this to understand what type of work is being done at The Hub)'].replace('Attending online conference','Research and Development', inplace=True)\n",
        "df['What are you working on today? (We ask this to understand what type of work is being done at The Hub)'].replace('School Wokr','Research and Development', inplace=True)\n",
        "df['What are you working on today? (We ask this to understand what type of work is being done at The Hub)'].replace('Coding Assignment','Research and Development', inplace=True)\n",
        "df['What are you working on today? (We ask this to understand what type of work is being done at The Hub)'].replace('Participating Contract Model','Research and Development', inplace=True)\n",
        "df['What are you working on today? (We ask this to understand what type of work is being done at The Hub)'].replace('Simulating time paths of stocks','Research and Development', inplace=True)\n",
        "df['What are you working on today? (We ask this to understand what type of work is being done at The Hub)'].replace('Personal Project,and the Hub Security facilities','Research and Development', inplace=True)\n",
        "df['What are you working on today? (We ask this to understand what type of work is being done at The Hub)'].replace('Data Science project','Research and Development', inplace=True)\n",
        "df['What are you working on today? (We ask this to understand what type of work is being done at The Hub)'].replace('Dynamic Programming exercises','Research and Development', inplace=True)\n",
        "df['What are you working on today? (We ask this to understand what type of work is being done at The Hub)'].replace('Writing manual','Research and Development', inplace=True)\n",
        "df['What are you working on today? (We ask this to understand what type of work is being done at The Hub)'].replace('Writing my novel','Research and Development', inplace=True)\n",
        "df['What are you working on today? (We ask this to understand what type of work is being done at The Hub)'].replace('Assignment','Research and Development', inplace=True)\n",
        "df['What are you working on today? (We ask this to understand what type of work is being done at The Hub)'].replace('Zoom meetings','Research and Development', inplace=True)\n",
        "df['What are you working on today? (We ask this to understand what type of work is being done at The Hub)'].replace('School work','Research and Development', inplace=True)\n",
        "df['What are you working on today? (We ask this to understand what type of work is being done at The Hub)'].replace('My handbook','Research and Development', inplace=True)\n",
        "df['What are you working on today? (We ask this to understand what type of work is being done at The Hub)'].replace('zoom workshop','Research and Development', inplace=True)\n",
        "df['What are you working on today? (We ask this to understand what type of work is being done at The Hub)'].replace('School assgnment','Research and Development', inplace=True)\n",
        "df['What are you working on today? (We ask this to understand what type of work is being done at The Hub)'].replace('WPC','Research and Development', inplace=True)\n",
        "df['What are you working on today? (We ask this to understand what type of work is being done at The Hub)'].replace('Schooll assignment','Research and Development', inplace=True)\n",
        "df['What are you working on today? (We ask this to understand what type of work is being done at The Hub)'].replace('Web scraping data analysis tool','Research and Development', inplace=True)\n",
        "df['What are you working on today? (We ask this to understand what type of work is being done at The Hub)'].replace('Online UK-APASI conference','Research and Development', inplace=True)\n",
        "df['What are you working on today? (We ask this to understand what type of work is being done at The Hub)'].replace('Updating my CV and writing my book','Research and Development', inplace=True)\n",
        "df['What are you working on today? (We ask this to understand what type of work is being done at The Hub)'].replace('My Novel and handbook','Research and Development', inplace=True)\n",
        "df['What are you working on today? (We ask this to understand what type of work is being done at The Hub)'].replace('Projects','Research and Development', inplace=True)\n",
        "df['What are you working on today? (We ask this to understand what type of work is being done at The Hub)'].replace('Thess','Research and Development', inplace=True)\n",
        "df['What are you working on today? (We ask this to understand what type of work is being done at The Hub)'].replace('Introduction of my thesis final report','Research and Development', inplace=True)\n",
        "df['What are you working on today? (We ask this to understand what type of work is being done at The Hub)'].replace('Study on Energy','Research and Development', inplace=True)\n",
        "df['What are you working on today? (We ask this to understand what type of work is being done at The Hub)'].replace('continuous-time optimization problems','Research and Development', inplace=True)\n",
        "df['What are you working on today? (We ask this to understand what type of work is being done at The Hub)'].replace('Continuous-time optimization problems','Research and Development', inplace=True)\n",
        "df['What are you working on today? (We ask this to understand what type of work is being done at The Hub)'].replace('Merton portfolio optimization problem simulation','Research and Development', inplace=True)\n",
        "df['What are you working on today? (We ask this to understand what type of work is being done at The Hub)'].replace('Same thing we do every night... Try and take over the world','Research and Development', inplace=True)\n",
        "df['What are you working on today? (We ask this to understand what type of work is being done at The Hub)'].replace('Python data scraping and analysis tool','Research and Development', inplace=True)\n",
        "df['What are you working on today? (We ask this to understand what type of work is being done at The Hub)'].replace('Diffusion control','Research and Development', inplace=True)\n",
        "df['What are you working on today? (We ask this to understand what type of work is being done at The Hub)'].replace('Research Presentation Slides','Research and Development', inplace=True)\n",
        "df['What are you working on today? (We ask this to understand what type of work is being done at The Hub)'].replace('MSc project','Research and Development', inplace=True)\n",
        "df['What are you working on today? (We ask this to understand what type of work is being done at The Hub)'].replace('Data Science Learning','Research and Development', inplace=True)\n",
        "df['What are you working on today? (We ask this to understand what type of work is being done at The Hub)'].replace('Robotics Proposal','Research and Development', inplace=True)\n",
        "df['What are you working on today? (We ask this to understand what type of work is being done at The Hub)'].replace('Cloud computing','Research and Development', inplace=True)\n",
        "df['What are you working on today? (We ask this to understand what type of work is being done at The Hub)'].replace('My novel and Handbook','Research and Development', inplace=True)\n",
        "df['What are you working on today? (We ask this to understand what type of work is being done at The Hub)'].replace('worked on setting up the workplace to be more efficient','Research and Development', inplace=True)\n",
        "df['What are you working on today? (We ask this to understand what type of work is being done at The Hub)'].replace('Typing Dynamic Programming exercises','Research and Development', inplace=True)\n",
        "df['What are you working on today? (We ask this to understand what type of work is being done at The Hub)'].replace('E-learning','Research and Development', inplace=True)\n",
        "df['What are you working on today? (We ask this to understand what type of work is being done at The Hub)'].replace('Academics','Research and Development', inplace=True)\n",
        "df['What are you working on today? (We ask this to understand what type of work is being done at The Hub)'].replace('Online Thesis Discussion','Research and Development', inplace=True)\n",
        "df['What are you working on today? (We ask this to understand what type of work is being done at The Hub)'].replace('Project Report','Research and Development', inplace=True)\n",
        "df['What are you working on today? (We ask this to understand what type of work is being done at The Hub)'].replace('Online zoom thesis discussion','Research and Development', inplace=True)\n",
        "df['What are you working on today? (We ask this to understand what type of work is being done at The Hub)'].replace('Derivation of HJB equation and Ito formula','Research and Development', inplace=True)\n",
        "df['What are you working on today? (We ask this to understand what type of work is being done at The Hub)'].replace('school assignmet','Research and Development', inplace=True)\n",
        "df['What are you working on today? (We ask this to understand what type of work is being done at The Hub)'].replace('Writing a user manual','Research and Development', inplace=True)\n",
        "df['What are you working on today? (We ask this to understand what type of work is being done at The Hub)'].replace('Compiling Thesis report','Research and Development', inplace=True)\n",
        "df['What are you working on today? (We ask this to understand what type of work is being done at The Hub)'].replace('Online discussion with project supervisor and attending an online Mathematics workshop form the University of Essex','Research and Development', inplace=True)\n",
        "df['What are you working on today? (We ask this to understand what type of work is being done at The Hub)'].replace('Linear-Quadratic Regularization','Research and Development', inplace=True)\n",
        "df['What are you working on today? (We ask this to understand what type of work is being done at The Hub)'].replace('school asssignment','Research and Development', inplace=True)\n",
        "df['What are you working on today? (We ask this to understand what type of work is being done at The Hub)'].replace('Same thing we do every night... Try and take over the world','Research and Development', inplace=True)\n",
        "df['What are you working on today? (We ask this to understand what type of work is being done at The Hub)'].replace('Python Project','Research and Development', inplace=True)\n",
        "df['What are you working on today? (We ask this to understand what type of work is being done at The Hub)'].replace('Projects','Research and Development', inplace=True)\n",
        "df['What are you working on today? (We ask this to understand what type of work is being done at The Hub)'].replace('Thesis','Research and Development', inplace=True)\n",
        "df['What are you working on today? (We ask this to understand what type of work is being done at The Hub)'].replace('School work and hub projects-jerry','Research and Development', inplace=True)\n",
        "df['What are you working on today? (We ask this to understand what type of work is being done at The Hub)'].replace('My Manual','Research and Development', inplace=True)\n",
        "df['What are you working on today? (We ask this to understand what type of work is being done at The Hub)'].replace('Preparing invoice for Taiwan x XLR','Research and Development', inplace=True)\n",
        "df['What are you working on today? (We ask this to understand what type of work is being done at The Hub)'].replace('My cooking business','Work', inplace=True)\n",
        "df['What are you working on today? (We ask this to understand what type of work is being done at The Hub)'].replace('Vundzisa Partner Work','Work', inplace=True)\n",
        "df['What are you working on today? (We ask this to understand what type of work is being done at The Hub)'].replace('Web Analysis','Work', inplace=True)\n",
        "df['What are you working on today? (We ask this to understand what type of work is being done at The Hub)'].replace('Software Development & Content Creation','Work', inplace=True)\n",
        "df['What are you working on today? (We ask this to understand what type of work is being done at The Hub)'].replace('Doing website','Work', inplace=True)\n",
        "df['What are you working on today? (We ask this to understand what type of work is being done at The Hub)'].replace('Finishing my website','Work', inplace=True)\n",
        "df['What are you working on today? (We ask this to understand what type of work is being done at The Hub)'].replace('Fixing Laptop','Work', inplace=True)\n",
        "df['What are you working on today? (We ask this to understand what type of work is being done at The Hub)'].replace('Having a show tomorrow at Mbabane, rehearsal for the show','Work', inplace=True)\n",
        "df['What are you working on today? (We ask this to understand what type of work is being done at The Hub)'].replace('Svtech projects','Work', inplace=True)\n",
        "df['What are you working on today? (We ask this to understand what type of work is being done at The Hub)'].replace('Vundzisa Partner Work','Work', inplace=True)\n",
        "df['What are you working on today? (We ask this to understand what type of work is being done at The Hub)'].replace('XLR Word','Work', inplace=True)\n",
        "df['What are you working on today? (We ask this to understand what type of work is being done at The Hub)'].replace('Vundzisa Client Work','Work', inplace=True)\n",
        "df['What are you working on today? (We ask this to understand what type of work is being done at The Hub)'].replace('Ummo Marketing Strategy','Work', inplace=True)\n",
        "df['What are you working on today? (We ask this to understand what type of work is being done at The Hub)'].replace('Src elections','Work', inplace=True)\n",
        "df['What are you working on today? (We ask this to understand what type of work is being done at The Hub)'].replace('Creating website','Work', inplace=True)"
      ],
      "execution_count": null,
      "outputs": []
    },
    {
      "cell_type": "code",
      "metadata": {
        "colab": {
          "base_uri": "https://localhost:8080/",
          "height": 248
        },
        "id": "Eks6Re6RtPNk",
        "outputId": "1965aec9-ff8f-4095-efa3-756a101bef02"
      },
      "source": [
        "pie_labels2 = 'Research & Development' , 'Work', 'Meeting', 'Content & Creativity'\n",
        "sizes_labels2 = [114, 80,15, 56]\n",
        "explode = (0,0,0.1,0)\n",
        "fig1, ax1 = plt.subplots()\n",
        "ax1.pie(sizes_labels2, explode=explode, labels=pie_labels2, autopct='%1.1f%%',\n",
        "        shadow=False, startangle=90)\n",
        "ax1.axis('equal')  # Equal aspect ratio ensures that pie is drawn as a circle.\n",
        "\n",
        "plt.show()"
      ],
      "execution_count": null,
      "outputs": [
        {
          "output_type": "display_data",
          "data": {
            "image/png": "[encoded data removed]",
            "text/plain": [
              "<Figure size 432x288 with 1 Axes>"
            ]
          },
          "metadata": {
            "tags": []
          }
        }
      ]
    },
    {
      "cell_type": "code",
      "metadata": {
        "id": "SqLZqJ0Uwvuc"
      },
      "source": [
        "df = df.set_index('Timestamp')\n",
        "df.index = pd.to_datetime(df.index)"
      ],
      "execution_count": null,
      "outputs": []
    },
    {
      "cell_type": "code",
      "metadata": {
        "colab": {
          "base_uri": "https://localhost:8080/",
          "height": 354
        },
        "id": "fQ5KuFarUW0i",
        "outputId": "df347d1f-76fb-4c8c-f071-096eb482bcb5"
      },
      "source": [
        "df.head()"
      ],
      "execution_count": null,
      "outputs": [
        {
          "output_type": "execute_result",
          "data": {
            "text/html": [
              "<div>\n",
              "<style scoped>\n",
              "    .dataframe tbody tr th:only-of-type {\n",
              "        vertical-align: middle;\n",
              "    }\n",
              "\n",
              "    .dataframe tbody tr th {\n",
              "        vertical-align: top;\n",
              "    }\n",
              "\n",
              "    .dataframe thead th {\n",
              "        text-align: right;\n",
              "    }\n",
              "</style>\n",
              "<table border=\"1\" class=\"dataframe\">\n",
              "  <thead>\n",
              "    <tr style=\"text-align: right;\">\n",
              "      <th></th>\n",
              "      <th>Full Name</th>\n",
              "      <th>Phone Number</th>\n",
              "      <th>Sign-in Time</th>\n",
              "      <th>What are you working on today? (We ask this to understand what type of work is being done at The Hub)</th>\n",
              "      <th>What equipment will you use?</th>\n",
              "      <th>Internet?</th>\n",
              "      <th>Sign-out Time (estimate)</th>\n",
              "      <th>Are you a member of The Hub?</th>\n",
              "      <th>part_of_day</th>\n",
              "    </tr>\n",
              "    <tr>\n",
              "      <th>Timestamp</th>\n",
              "      <th></th>\n",
              "      <th></th>\n",
              "      <th></th>\n",
              "      <th></th>\n",
              "      <th></th>\n",
              "      <th></th>\n",
              "      <th></th>\n",
              "      <th></th>\n",
              "      <th></th>\n",
              "    </tr>\n",
              "  </thead>\n",
              "  <tbody>\n",
              "    <tr>\n",
              "      <th>2021-02-11</th>\n",
              "      <td>Kwanele Prince Tsabedze</td>\n",
              "      <td>7815 8606</td>\n",
              "      <td>2021-08-03 11:00:00</td>\n",
              "      <td>FInancials, among other things</td>\n",
              "      <td>BYOC</td>\n",
              "      <td>Shared Hotspot</td>\n",
              "      <td>2021-08-03 06:00:00</td>\n",
              "      <td>Yes</td>\n",
              "      <td>Morning</td>\n",
              "    </tr>\n",
              "    <tr>\n",
              "      <th>2021-02-11</th>\n",
              "      <td>Simanga Ntsini</td>\n",
              "      <td>78501932</td>\n",
              "      <td>2021-08-03 04:00:00</td>\n",
              "      <td>EDITING VIDS</td>\n",
              "      <td>Desktop Workstation</td>\n",
              "      <td>Shared Hotspot</td>\n",
              "      <td>2021-08-03 17:00:00</td>\n",
              "      <td>Yes</td>\n",
              "      <td>Morning</td>\n",
              "    </tr>\n",
              "    <tr>\n",
              "      <th>2021-02-13</th>\n",
              "      <td>Simanga Ntsini</td>\n",
              "      <td>78501932</td>\n",
              "      <td>2021-08-03 11:00:00</td>\n",
              "      <td>Sharing videos to my platforms</td>\n",
              "      <td>Mac Workstation</td>\n",
              "      <td>Shared Hotspot</td>\n",
              "      <td>2021-08-03 17:00:00</td>\n",
              "      <td>Yes</td>\n",
              "      <td>Morning</td>\n",
              "    </tr>\n",
              "    <tr>\n",
              "      <th>2021-02-13</th>\n",
              "      <td>TygaDoesIt</td>\n",
              "      <td>+26879384734</td>\n",
              "      <td>2021-08-03 11:45:00</td>\n",
              "      <td>album art work</td>\n",
              "      <td>Own P.C</td>\n",
              "      <td>Shared Hotspot</td>\n",
              "      <td>2021-08-03 19:00:00</td>\n",
              "      <td>Yes</td>\n",
              "      <td>Morning</td>\n",
              "    </tr>\n",
              "    <tr>\n",
              "      <th>2021-02-14</th>\n",
              "      <td>Gcinimiyalo Ntuli</td>\n",
              "      <td>76342236</td>\n",
              "      <td>2021-08-03 12:56:00</td>\n",
              "      <td>Editing a video for my YouTube channel</td>\n",
              "      <td>Mac Workstation</td>\n",
              "      <td>Shared Hotspot</td>\n",
              "      <td>2021-08-03 16:38:00</td>\n",
              "      <td>Yes</td>\n",
              "      <td>Morning</td>\n",
              "    </tr>\n",
              "  </tbody>\n",
              "</table>\n",
              "</div>"
            ],
            "text/plain": [
              "                          Full Name  ... part_of_day\n",
              "Timestamp                            ...            \n",
              "2021-02-11  Kwanele Prince Tsabedze  ...     Morning\n",
              "2021-02-11           Simanga Ntsini  ...     Morning\n",
              "2021-02-13           Simanga Ntsini  ...     Morning\n",
              "2021-02-13               TygaDoesIt  ...     Morning\n",
              "2021-02-14       Gcinimiyalo Ntuli   ...     Morning\n",
              "\n",
              "[5 rows x 9 columns]"
            ]
          },
          "metadata": {
            "tags": []
          },
          "execution_count": 21
        }
      ]
    },
    {
      "cell_type": "code",
      "metadata": {
        "colab": {
          "base_uri": "https://localhost:8080/"
        },
        "id": "hE2Z2mDlyklr",
        "outputId": "8a10b059-6f4d-4ec6-de68-a2f5d48ddac5"
      },
      "source": [
        "df9 = df.index.to_series()\n",
        "df9 = df9.dt.dayofweek \n",
        "#headers = ['day of week']\n",
        "#df9 = pd.DataFrame(df9, columns = headers)\n",
        "df9.value_counts()"
      ],
      "execution_count": null,
      "outputs": [
        {
          "output_type": "execute_result",
          "data": {
            "text/plain": [
              "2    76\n",
              "1    74\n",
              "3    69\n",
              "4    68\n",
              "0    67\n",
              "5    32\n",
              "6    16\n",
              "Name: Timestamp, dtype: int64"
            ]
          },
          "metadata": {
            "tags": []
          },
          "execution_count": 36
        }
      ]
    },
    {
      "cell_type": "code",
      "metadata": {
        "id": "ZQ5WOmYR37TZ"
      },
      "source": [
        "days = ['Wed', 'Tue', 'Thurs', 'Fri', 'Mon', 'Sat', 'Sun']"
      ],
      "execution_count": null,
      "outputs": []
    },
    {
      "cell_type": "code",
      "metadata": {
        "colab": {
          "base_uri": "https://localhost:8080/",
          "height": 284
        },
        "id": "qJ9cswEElwUM",
        "outputId": "18ad18dd-af36-423b-83a9-b7c4d7874203"
      },
      "source": [
        "%matplotlib inline\n",
        "plt.bar(days, df9.value_counts());\n",
        "#plt.xlabel(\"Days of week\")\n",
        "plt.ylabel(\"Count\")\n",
        "plt.title(\"Activity Traffic\");"
      ],
      "execution_count": null,
      "outputs": [
        {
          "output_type": "display_data",
          "data": {
            "image/png": "[encoded data removed]",
            "text/plain": [
              "<Figure size 432x288 with 1 Axes>"
            ]
          },
          "metadata": {
            "tags": [],
            "needs_background": "light"
          }
        }
      ]
    },
    {
      "cell_type": "code",
      "metadata": {
        "colab": {
          "base_uri": "https://localhost:8080/",
          "height": 284
        },
        "id": "aw4S_DO0HPKA",
        "outputId": "ed839bcc-c313-4924-82f8-a68f8ed2e3db"
      },
      "source": [
        "%matplotlib inline\n",
        "days = ['Mon', 'Tue', 'Wed', 'Thurs', 'Fri', 'Sat', 'Sun']\n",
        "s = [67, 74, 76, 69, 68, 32, 16]\n",
        "plt.bar(days, s)\n",
        "plt.ylabel(\"Count\")\n",
        "plt.title(\"Activity Traffic\");\n",
        "\n",
        "for i in range(len(s)):\n",
        "  plt.annotate(str(s[i]), xy=(days[i],s[i]), ha='center', va='bottom')\n",
        "\n",
        "plt.show()"
      ],
      "execution_count": null,
      "outputs": [
        {
          "output_type": "display_data",
          "data": {
            "image/png": "[encoded data removed]",
            "text/plain": [
              "<Figure size 432x288 with 1 Axes>"
            ]
          },
          "metadata": {
            "tags": [],
            "needs_background": "light"
          }
        }
      ]
    },
    {
      "cell_type": "code",
      "metadata": {
        "id": "kwepqjabHyk3",
        "colab": {
          "base_uri": "https://localhost:8080/"
        },
        "outputId": "83cdc59d-3e41-4976-da50-2a649fd83a12"
      },
      "source": [
        "print(pd.date_range(df.index.min(), df.index.max()).difference(df.index))"
      ],
      "execution_count": null,
      "outputs": [
        {
          "output_type": "stream",
          "text": [
            "DatetimeIndex(['2021-02-12', '2021-02-17', '2021-02-19', '2021-02-20',\n",
            "               '2021-02-25', '2021-03-02', '2021-03-06', '2021-03-08',\n",
            "               '2021-03-11', '2021-03-14', '2021-03-19', '2021-03-20',\n",
            "               '2021-03-21', '2021-03-24', '2021-03-28', '2021-04-03',\n",
            "               '2021-04-05', '2021-04-09', '2021-04-10', '2021-04-18',\n",
            "               '2021-04-25', '2021-04-26', '2021-05-01', '2021-05-02',\n",
            "               '2021-05-08', '2021-05-09', '2021-05-15', '2021-06-06',\n",
            "               '2021-06-13', '2021-06-17', '2021-06-28', '2021-06-29',\n",
            "               '2021-06-30', '2021-07-01', '2021-07-02', '2021-07-03',\n",
            "               '2021-07-04', '2021-07-05', '2021-07-07', '2021-07-08',\n",
            "               '2021-07-09', '2021-07-10', '2021-07-11', '2021-07-12',\n",
            "               '2021-07-13', '2021-07-14', '2021-07-15', '2021-07-16',\n",
            "               '2021-07-17', '2021-07-18', '2021-07-25', '2021-08-01',\n",
            "               '2021-08-03'],\n",
            "              dtype='datetime64[ns]', freq=None)\n"
          ],
          "name": "stdout"
        }
      ]
    },
    {
      "cell_type": "code",
      "metadata": {
        "colab": {
          "base_uri": "https://localhost:8080/"
        },
        "id": "liN5Tx6S8XcT",
        "outputId": "5f458449-1321-4857-877a-070d40648aa9"
      },
      "source": [
        "df5 = pd.date_range(df.index.min(), df.index.max()).difference(df.index)\n",
        "df5.size"
      ],
      "execution_count": null,
      "outputs": [
        {
          "output_type": "execute_result",
          "data": {
            "text/plain": [
              "52"
            ]
          },
          "metadata": {
            "tags": []
          },
          "execution_count": 16
        }
      ]
    },
    {
      "cell_type": "code",
      "metadata": {
        "colab": {
          "base_uri": "https://localhost:8080/"
        },
        "id": "PLkR1GTrySoP",
        "outputId": "1bab9c51-373f-4ec6-e863-fcceadd93c64"
      },
      "source": [
        "df1 = date_groups.size().reset_index(name='Count')\n",
        "print(df1)"
      ],
      "execution_count": null,
      "outputs": [
        {
          "output_type": "stream",
          "text": [
            "              Timestamp  Count\n",
            "0   2021-02-11 00:00:00      2\n",
            "1   2021-02-13 00:00:00      2\n",
            "2   2021-02-14 00:00:00      1\n",
            "3   2021-02-15 00:00:00      4\n",
            "4   2021-02-16 00:00:00      1\n",
            "..                  ...    ...\n",
            "117 2021-07-29 00:00:00      6\n",
            "118 2021-07-30 00:00:00      3\n",
            "119 2021-07-31 00:00:00      3\n",
            "120 2021-08-02 00:00:00      2\n",
            "121 2021-08-02 21:49:18      1\n",
            "\n",
            "[122 rows x 2 columns]\n"
          ],
          "name": "stdout"
        }
      ]
    },
    {
      "cell_type": "code",
      "metadata": {
        "colab": {
          "base_uri": "https://localhost:8080/"
        },
        "id": "I4DL9NEv6SEu",
        "outputId": "9d4abb9f-5189-4dc9-ae6f-88300df84d77"
      },
      "source": [
        "with pd.option_context('display.max_rows', None, 'display.max_columns', None):  # more options can be specified also\n",
        "    print(df1)"
      ],
      "execution_count": null,
      "outputs": [
        {
          "output_type": "stream",
          "text": [
            "              Timestamp  Count\n",
            "0   2021-02-11 00:00:00      2\n",
            "1   2021-02-13 00:00:00      2\n",
            "2   2021-02-14 00:00:00      1\n",
            "3   2021-02-15 00:00:00      4\n",
            "4   2021-02-16 00:00:00      1\n",
            "5   2021-02-18 00:00:00      1\n",
            "6   2021-02-21 00:00:00      2\n",
            "7   2021-02-22 00:00:00      4\n",
            "8   2021-02-23 00:00:00      2\n",
            "9   2021-02-24 00:00:00      3\n",
            "10  2021-02-26 00:00:00      4\n",
            "11  2021-02-27 00:00:00      3\n",
            "12  2021-02-28 00:00:00      2\n",
            "13  2021-03-01 00:00:00      2\n",
            "14  2021-03-03 00:00:00      2\n",
            "15  2021-03-04 00:00:00      1\n",
            "16  2021-03-05 00:00:00      4\n",
            "17  2021-03-07 00:00:00      2\n",
            "18  2021-03-09 00:00:00      1\n",
            "19  2021-03-10 00:00:00      1\n",
            "20  2021-03-12 00:00:00      3\n",
            "21  2021-03-13 00:00:00      1\n",
            "22  2021-03-15 00:00:00      1\n",
            "23  2021-03-16 00:00:00      1\n",
            "24  2021-03-17 00:00:00      8\n",
            "25  2021-03-18 00:00:00      3\n",
            "26  2021-03-22 00:00:00      1\n",
            "27  2021-03-23 00:00:00      3\n",
            "28  2021-03-25 00:00:00      1\n",
            "29  2021-03-26 00:00:00      8\n",
            "30  2021-03-27 00:00:00      2\n",
            "31  2021-03-29 00:00:00      2\n",
            "32  2021-03-30 00:00:00      1\n",
            "33  2021-03-31 00:00:00      5\n",
            "34  2021-04-01 00:00:00      8\n",
            "35  2021-04-02 00:00:00      1\n",
            "36  2021-04-04 00:00:00      1\n",
            "37  2021-04-06 00:00:00      3\n",
            "38  2021-04-07 00:00:00      2\n",
            "39  2021-04-08 00:00:00      4\n",
            "40  2021-04-11 00:00:00      1\n",
            "41  2021-04-12 00:00:00      4\n",
            "42  2021-04-13 00:00:00      2\n",
            "43  2021-04-14 00:00:00      5\n",
            "44  2021-04-15 00:00:00      2\n",
            "45  2021-04-16 00:00:00      2\n",
            "46  2021-04-17 00:00:00      6\n",
            "47  2021-04-19 00:00:00      5\n",
            "48  2021-04-20 00:00:00      7\n",
            "49  2021-04-21 00:00:00      6\n",
            "50  2021-04-22 00:00:00      4\n",
            "51  2021-04-23 00:00:00      3\n",
            "52  2021-04-24 00:00:00      4\n",
            "53  2021-04-27 00:00:00      7\n",
            "54  2021-04-28 00:00:00      6\n",
            "55  2021-04-29 00:00:00      5\n",
            "56  2021-04-30 00:00:00     10\n",
            "57  2021-05-03 00:00:00      3\n",
            "58  2021-05-04 00:00:00      3\n",
            "59  2021-05-05 00:00:00      6\n",
            "60  2021-05-06 00:00:00      2\n",
            "61  2021-05-07 00:00:00      6\n",
            "62  2021-05-10 00:00:00      8\n",
            "63  2021-05-11 00:00:00      9\n",
            "64  2021-05-12 00:00:00      4\n",
            "65  2021-05-13 00:00:00      1\n",
            "66  2021-05-14 00:00:00      1\n",
            "67  2021-05-16 00:00:00      1\n",
            "68  2021-05-17 00:00:00      3\n",
            "69  2021-05-18 00:00:00      3\n",
            "70  2021-05-19 00:00:00      2\n",
            "71  2021-05-20 00:00:00      5\n",
            "72  2021-05-21 00:00:00      1\n",
            "73  2021-05-22 00:00:00      3\n",
            "74  2021-05-23 00:00:00      2\n",
            "75  2021-05-24 00:00:00      1\n",
            "76  2021-05-25 00:00:00      1\n",
            "77  2021-05-26 00:00:00      5\n",
            "78  2021-05-27 00:00:00      9\n",
            "79  2021-05-28 00:00:00      1\n",
            "80  2021-05-29 00:00:00      2\n",
            "81  2021-05-30 00:00:00      2\n",
            "82  2021-05-31 00:00:00      3\n",
            "83  2021-06-01 00:00:00      7\n",
            "84  2021-06-02 00:00:00      3\n",
            "85  2021-06-03 00:00:00      5\n",
            "86  2021-06-04 00:00:00      2\n",
            "87  2021-06-05 00:00:00      1\n",
            "88  2021-06-07 00:00:00      7\n",
            "89  2021-06-08 00:00:00      2\n",
            "90  2021-06-09 00:00:00      1\n",
            "91  2021-06-10 00:00:00      1\n",
            "92  2021-06-11 00:00:00      5\n",
            "93  2021-06-12 00:00:00      1\n",
            "94  2021-06-14 00:00:00      3\n",
            "95  2021-06-15 00:00:00      1\n",
            "96  2021-06-16 00:00:00      2\n",
            "97  2021-06-18 00:00:00      2\n",
            "98  2021-06-19 00:00:00      1\n",
            "99  2021-06-20 00:00:00      1\n",
            "100 2021-06-21 00:00:00      3\n",
            "101 2021-06-22 00:00:00      2\n",
            "102 2021-06-23 00:00:00      5\n",
            "103 2021-06-24 00:00:00      6\n",
            "104 2021-06-25 00:00:00      3\n",
            "105 2021-06-26 00:00:00      1\n",
            "106 2021-06-27 00:00:00      1\n",
            "107 2021-07-06 00:00:00      1\n",
            "108 2021-07-19 00:00:00      5\n",
            "109 2021-07-20 00:00:00      3\n",
            "110 2021-07-21 00:00:00      5\n",
            "111 2021-07-22 00:00:00      3\n",
            "112 2021-07-23 00:00:00      9\n",
            "113 2021-07-24 00:00:00      2\n",
            "114 2021-07-26 00:00:00      5\n",
            "115 2021-07-27 00:00:00      8\n",
            "116 2021-07-28 00:00:00      5\n",
            "117 2021-07-29 00:00:00      6\n",
            "118 2021-07-30 00:00:00      3\n",
            "119 2021-07-31 00:00:00      3\n",
            "120 2021-08-02 00:00:00      2\n",
            "121 2021-08-02 21:49:18      1\n"
          ],
          "name": "stdout"
        }
      ]
    },
    {
      "cell_type": "code",
      "metadata": {
        "id": "VrAW1S_n6u2B"
      },
      "source": [
        "df2 = df1[df1['Count'] < 3]['Timestamp']"
      ],
      "execution_count": null,
      "outputs": []
    },
    {
      "cell_type": "code",
      "metadata": {
        "colab": {
          "base_uri": "https://localhost:8080/"
        },
        "id": "bGL8V9exGOiH",
        "outputId": "1778caf0-b5c6-4ea7-ab79-0ea74c86616a"
      },
      "source": [
        "df1['Count'].describe()"
      ],
      "execution_count": null,
      "outputs": [
        {
          "output_type": "execute_result",
          "data": {
            "text/plain": [
              "count    122.000000\n",
              "mean       3.245902\n",
              "std        2.264755\n",
              "min        1.000000\n",
              "25%        1.000000\n",
              "50%        3.000000\n",
              "75%        5.000000\n",
              "max       10.000000\n",
              "Name: Count, dtype: float64"
            ]
          },
          "metadata": {
            "tags": []
          },
          "execution_count": 24
        }
      ]
    },
    {
      "cell_type": "code",
      "metadata": {
        "colab": {
          "base_uri": "https://localhost:8080/",
          "height": 1000
        },
        "id": "kT8mIU_68tmR",
        "outputId": "aa7b078b-d676-46d0-e7ba-4346f0708987"
      },
      "source": [
        "df2.reset_index()"
      ],
      "execution_count": null,
      "outputs": [
        {
          "output_type": "execute_result",
          "data": {
            "text/html": [
              "<div>\n",
              "<style scoped>\n",
              "    .dataframe tbody tr th:only-of-type {\n",
              "        vertical-align: middle;\n",
              "    }\n",
              "\n",
              "    .dataframe tbody tr th {\n",
              "        vertical-align: top;\n",
              "    }\n",
              "\n",
              "    .dataframe thead th {\n",
              "        text-align: right;\n",
              "    }\n",
              "</style>\n",
              "<table border=\"1\" class=\"dataframe\">\n",
              "  <thead>\n",
              "    <tr style=\"text-align: right;\">\n",
              "      <th></th>\n",
              "      <th>index</th>\n",
              "      <th>Timestamp</th>\n",
              "    </tr>\n",
              "  </thead>\n",
              "  <tbody>\n",
              "    <tr>\n",
              "      <th>0</th>\n",
              "      <td>0</td>\n",
              "      <td>2021-02-11 00:00:00</td>\n",
              "    </tr>\n",
              "    <tr>\n",
              "      <th>1</th>\n",
              "      <td>1</td>\n",
              "      <td>2021-02-13 00:00:00</td>\n",
              "    </tr>\n",
              "    <tr>\n",
              "      <th>2</th>\n",
              "      <td>2</td>\n",
              "      <td>2021-02-14 00:00:00</td>\n",
              "    </tr>\n",
              "    <tr>\n",
              "      <th>3</th>\n",
              "      <td>4</td>\n",
              "      <td>2021-02-16 00:00:00</td>\n",
              "    </tr>\n",
              "    <tr>\n",
              "      <th>4</th>\n",
              "      <td>5</td>\n",
              "      <td>2021-02-18 00:00:00</td>\n",
              "    </tr>\n",
              "    <tr>\n",
              "      <th>5</th>\n",
              "      <td>6</td>\n",
              "      <td>2021-02-21 00:00:00</td>\n",
              "    </tr>\n",
              "    <tr>\n",
              "      <th>6</th>\n",
              "      <td>8</td>\n",
              "      <td>2021-02-23 00:00:00</td>\n",
              "    </tr>\n",
              "    <tr>\n",
              "      <th>7</th>\n",
              "      <td>12</td>\n",
              "      <td>2021-02-28 00:00:00</td>\n",
              "    </tr>\n",
              "    <tr>\n",
              "      <th>8</th>\n",
              "      <td>13</td>\n",
              "      <td>2021-03-01 00:00:00</td>\n",
              "    </tr>\n",
              "    <tr>\n",
              "      <th>9</th>\n",
              "      <td>14</td>\n",
              "      <td>2021-03-03 00:00:00</td>\n",
              "    </tr>\n",
              "    <tr>\n",
              "      <th>10</th>\n",
              "      <td>15</td>\n",
              "      <td>2021-03-04 00:00:00</td>\n",
              "    </tr>\n",
              "    <tr>\n",
              "      <th>11</th>\n",
              "      <td>17</td>\n",
              "      <td>2021-03-07 00:00:00</td>\n",
              "    </tr>\n",
              "    <tr>\n",
              "      <th>12</th>\n",
              "      <td>18</td>\n",
              "      <td>2021-03-09 00:00:00</td>\n",
              "    </tr>\n",
              "    <tr>\n",
              "      <th>13</th>\n",
              "      <td>19</td>\n",
              "      <td>2021-03-10 00:00:00</td>\n",
              "    </tr>\n",
              "    <tr>\n",
              "      <th>14</th>\n",
              "      <td>21</td>\n",
              "      <td>2021-03-13 00:00:00</td>\n",
              "    </tr>\n",
              "    <tr>\n",
              "      <th>15</th>\n",
              "      <td>22</td>\n",
              "      <td>2021-03-15 00:00:00</td>\n",
              "    </tr>\n",
              "    <tr>\n",
              "      <th>16</th>\n",
              "      <td>23</td>\n",
              "      <td>2021-03-16 00:00:00</td>\n",
              "    </tr>\n",
              "    <tr>\n",
              "      <th>17</th>\n",
              "      <td>26</td>\n",
              "      <td>2021-03-22 00:00:00</td>\n",
              "    </tr>\n",
              "    <tr>\n",
              "      <th>18</th>\n",
              "      <td>28</td>\n",
              "      <td>2021-03-25 00:00:00</td>\n",
              "    </tr>\n",
              "    <tr>\n",
              "      <th>19</th>\n",
              "      <td>30</td>\n",
              "      <td>2021-03-27 00:00:00</td>\n",
              "    </tr>\n",
              "    <tr>\n",
              "      <th>20</th>\n",
              "      <td>31</td>\n",
              "      <td>2021-03-29 00:00:00</td>\n",
              "    </tr>\n",
              "    <tr>\n",
              "      <th>21</th>\n",
              "      <td>32</td>\n",
              "      <td>2021-03-30 00:00:00</td>\n",
              "    </tr>\n",
              "    <tr>\n",
              "      <th>22</th>\n",
              "      <td>35</td>\n",
              "      <td>2021-04-02 00:00:00</td>\n",
              "    </tr>\n",
              "    <tr>\n",
              "      <th>23</th>\n",
              "      <td>36</td>\n",
              "      <td>2021-04-04 00:00:00</td>\n",
              "    </tr>\n",
              "    <tr>\n",
              "      <th>24</th>\n",
              "      <td>38</td>\n",
              "      <td>2021-04-07 00:00:00</td>\n",
              "    </tr>\n",
              "    <tr>\n",
              "      <th>25</th>\n",
              "      <td>40</td>\n",
              "      <td>2021-04-11 00:00:00</td>\n",
              "    </tr>\n",
              "    <tr>\n",
              "      <th>26</th>\n",
              "      <td>42</td>\n",
              "      <td>2021-04-13 00:00:00</td>\n",
              "    </tr>\n",
              "    <tr>\n",
              "      <th>27</th>\n",
              "      <td>44</td>\n",
              "      <td>2021-04-15 00:00:00</td>\n",
              "    </tr>\n",
              "    <tr>\n",
              "      <th>28</th>\n",
              "      <td>45</td>\n",
              "      <td>2021-04-16 00:00:00</td>\n",
              "    </tr>\n",
              "    <tr>\n",
              "      <th>29</th>\n",
              "      <td>60</td>\n",
              "      <td>2021-05-06 00:00:00</td>\n",
              "    </tr>\n",
              "    <tr>\n",
              "      <th>30</th>\n",
              "      <td>65</td>\n",
              "      <td>2021-05-13 00:00:00</td>\n",
              "    </tr>\n",
              "    <tr>\n",
              "      <th>31</th>\n",
              "      <td>66</td>\n",
              "      <td>2021-05-14 00:00:00</td>\n",
              "    </tr>\n",
              "    <tr>\n",
              "      <th>32</th>\n",
              "      <td>67</td>\n",
              "      <td>2021-05-16 00:00:00</td>\n",
              "    </tr>\n",
              "    <tr>\n",
              "      <th>33</th>\n",
              "      <td>70</td>\n",
              "      <td>2021-05-19 00:00:00</td>\n",
              "    </tr>\n",
              "    <tr>\n",
              "      <th>34</th>\n",
              "      <td>72</td>\n",
              "      <td>2021-05-21 00:00:00</td>\n",
              "    </tr>\n",
              "    <tr>\n",
              "      <th>35</th>\n",
              "      <td>74</td>\n",
              "      <td>2021-05-23 00:00:00</td>\n",
              "    </tr>\n",
              "    <tr>\n",
              "      <th>36</th>\n",
              "      <td>75</td>\n",
              "      <td>2021-05-24 00:00:00</td>\n",
              "    </tr>\n",
              "    <tr>\n",
              "      <th>37</th>\n",
              "      <td>76</td>\n",
              "      <td>2021-05-25 00:00:00</td>\n",
              "    </tr>\n",
              "    <tr>\n",
              "      <th>38</th>\n",
              "      <td>79</td>\n",
              "      <td>2021-05-28 00:00:00</td>\n",
              "    </tr>\n",
              "    <tr>\n",
              "      <th>39</th>\n",
              "      <td>80</td>\n",
              "      <td>2021-05-29 00:00:00</td>\n",
              "    </tr>\n",
              "    <tr>\n",
              "      <th>40</th>\n",
              "      <td>81</td>\n",
              "      <td>2021-05-30 00:00:00</td>\n",
              "    </tr>\n",
              "    <tr>\n",
              "      <th>41</th>\n",
              "      <td>86</td>\n",
              "      <td>2021-06-04 00:00:00</td>\n",
              "    </tr>\n",
              "    <tr>\n",
              "      <th>42</th>\n",
              "      <td>87</td>\n",
              "      <td>2021-06-05 00:00:00</td>\n",
              "    </tr>\n",
              "    <tr>\n",
              "      <th>43</th>\n",
              "      <td>89</td>\n",
              "      <td>2021-06-08 00:00:00</td>\n",
              "    </tr>\n",
              "    <tr>\n",
              "      <th>44</th>\n",
              "      <td>90</td>\n",
              "      <td>2021-06-09 00:00:00</td>\n",
              "    </tr>\n",
              "    <tr>\n",
              "      <th>45</th>\n",
              "      <td>91</td>\n",
              "      <td>2021-06-10 00:00:00</td>\n",
              "    </tr>\n",
              "    <tr>\n",
              "      <th>46</th>\n",
              "      <td>93</td>\n",
              "      <td>2021-06-12 00:00:00</td>\n",
              "    </tr>\n",
              "    <tr>\n",
              "      <th>47</th>\n",
              "      <td>95</td>\n",
              "      <td>2021-06-15 00:00:00</td>\n",
              "    </tr>\n",
              "    <tr>\n",
              "      <th>48</th>\n",
              "      <td>96</td>\n",
              "      <td>2021-06-16 00:00:00</td>\n",
              "    </tr>\n",
              "    <tr>\n",
              "      <th>49</th>\n",
              "      <td>97</td>\n",
              "      <td>2021-06-18 00:00:00</td>\n",
              "    </tr>\n",
              "    <tr>\n",
              "      <th>50</th>\n",
              "      <td>98</td>\n",
              "      <td>2021-06-19 00:00:00</td>\n",
              "    </tr>\n",
              "    <tr>\n",
              "      <th>51</th>\n",
              "      <td>99</td>\n",
              "      <td>2021-06-20 00:00:00</td>\n",
              "    </tr>\n",
              "    <tr>\n",
              "      <th>52</th>\n",
              "      <td>101</td>\n",
              "      <td>2021-06-22 00:00:00</td>\n",
              "    </tr>\n",
              "    <tr>\n",
              "      <th>53</th>\n",
              "      <td>105</td>\n",
              "      <td>2021-06-26 00:00:00</td>\n",
              "    </tr>\n",
              "    <tr>\n",
              "      <th>54</th>\n",
              "      <td>106</td>\n",
              "      <td>2021-06-27 00:00:00</td>\n",
              "    </tr>\n",
              "    <tr>\n",
              "      <th>55</th>\n",
              "      <td>107</td>\n",
              "      <td>2021-07-06 00:00:00</td>\n",
              "    </tr>\n",
              "    <tr>\n",
              "      <th>56</th>\n",
              "      <td>113</td>\n",
              "      <td>2021-07-24 00:00:00</td>\n",
              "    </tr>\n",
              "    <tr>\n",
              "      <th>57</th>\n",
              "      <td>120</td>\n",
              "      <td>2021-08-02 00:00:00</td>\n",
              "    </tr>\n",
              "    <tr>\n",
              "      <th>58</th>\n",
              "      <td>121</td>\n",
              "      <td>2021-08-02 21:49:18</td>\n",
              "    </tr>\n",
              "  </tbody>\n",
              "</table>\n",
              "</div>"
            ],
            "text/plain": [
              "    index           Timestamp\n",
              "0       0 2021-02-11 00:00:00\n",
              "1       1 2021-02-13 00:00:00\n",
              "2       2 2021-02-14 00:00:00\n",
              "3       4 2021-02-16 00:00:00\n",
              "4       5 2021-02-18 00:00:00\n",
              "5       6 2021-02-21 00:00:00\n",
              "6       8 2021-02-23 00:00:00\n",
              "7      12 2021-02-28 00:00:00\n",
              "8      13 2021-03-01 00:00:00\n",
              "9      14 2021-03-03 00:00:00\n",
              "10     15 2021-03-04 00:00:00\n",
              "11     17 2021-03-07 00:00:00\n",
              "12     18 2021-03-09 00:00:00\n",
              "13     19 2021-03-10 00:00:00\n",
              "14     21 2021-03-13 00:00:00\n",
              "15     22 2021-03-15 00:00:00\n",
              "16     23 2021-03-16 00:00:00\n",
              "17     26 2021-03-22 00:00:00\n",
              "18     28 2021-03-25 00:00:00\n",
              "19     30 2021-03-27 00:00:00\n",
              "20     31 2021-03-29 00:00:00\n",
              "21     32 2021-03-30 00:00:00\n",
              "22     35 2021-04-02 00:00:00\n",
              "23     36 2021-04-04 00:00:00\n",
              "24     38 2021-04-07 00:00:00\n",
              "25     40 2021-04-11 00:00:00\n",
              "26     42 2021-04-13 00:00:00\n",
              "27     44 2021-04-15 00:00:00\n",
              "28     45 2021-04-16 00:00:00\n",
              "29     60 2021-05-06 00:00:00\n",
              "30     65 2021-05-13 00:00:00\n",
              "31     66 2021-05-14 00:00:00\n",
              "32     67 2021-05-16 00:00:00\n",
              "33     70 2021-05-19 00:00:00\n",
              "34     72 2021-05-21 00:00:00\n",
              "35     74 2021-05-23 00:00:00\n",
              "36     75 2021-05-24 00:00:00\n",
              "37     76 2021-05-25 00:00:00\n",
              "38     79 2021-05-28 00:00:00\n",
              "39     80 2021-05-29 00:00:00\n",
              "40     81 2021-05-30 00:00:00\n",
              "41     86 2021-06-04 00:00:00\n",
              "42     87 2021-06-05 00:00:00\n",
              "43     89 2021-06-08 00:00:00\n",
              "44     90 2021-06-09 00:00:00\n",
              "45     91 2021-06-10 00:00:00\n",
              "46     93 2021-06-12 00:00:00\n",
              "47     95 2021-06-15 00:00:00\n",
              "48     96 2021-06-16 00:00:00\n",
              "49     97 2021-06-18 00:00:00\n",
              "50     98 2021-06-19 00:00:00\n",
              "51     99 2021-06-20 00:00:00\n",
              "52    101 2021-06-22 00:00:00\n",
              "53    105 2021-06-26 00:00:00\n",
              "54    106 2021-06-27 00:00:00\n",
              "55    107 2021-07-06 00:00:00\n",
              "56    113 2021-07-24 00:00:00\n",
              "57    120 2021-08-02 00:00:00\n",
              "58    121 2021-08-02 21:49:18"
            ]
          },
          "metadata": {
            "tags": []
          },
          "execution_count": 21
        }
      ]
    },
    {
      "cell_type": "code",
      "metadata": {
        "colab": {
          "base_uri": "https://localhost:8080/"
        },
        "id": "qT3UiNEPZ51d",
        "outputId": "87db61bd-0eca-43f1-ad35-563fa2bc9c36"
      },
      "source": [
        "df1['Timestamp'].size"
      ],
      "execution_count": null,
      "outputs": [
        {
          "output_type": "execute_result",
          "data": {
            "text/plain": [
              "121"
            ]
          },
          "metadata": {
            "tags": []
          },
          "execution_count": 33
        }
      ]
    },
    {
      "cell_type": "code",
      "metadata": {
        "id": "oqHPu0oshBwY"
      },
      "source": [
        "df3 = df2.reset_index()"
      ],
      "execution_count": null,
      "outputs": []
    },
    {
      "cell_type": "code",
      "metadata": {
        "colab": {
          "base_uri": "https://localhost:8080/"
        },
        "id": "UAr9T1AYcJVN",
        "outputId": "b767bfc9-2877-402f-9bf9-adb2cd6ca0a5"
      },
      "source": [
        "df1['Timestamp']"
      ],
      "execution_count": null,
      "outputs": [
        {
          "output_type": "execute_result",
          "data": {
            "text/plain": [
              "0     2021-02-11\n",
              "1     2021-02-13\n",
              "2     2021-02-14\n",
              "3     2021-02-15\n",
              "4     2021-02-16\n",
              "         ...    \n",
              "116   2021-07-28\n",
              "117   2021-07-29\n",
              "118   2021-07-30\n",
              "119   2021-07-31\n",
              "120   2021-08-02\n",
              "Name: Timestamp, Length: 121, dtype: datetime64[ns]"
            ]
          },
          "metadata": {
            "tags": []
          },
          "execution_count": 36
        }
      ]
    },
    {
      "cell_type": "code",
      "metadata": {
        "colab": {
          "base_uri": "https://localhost:8080/",
          "height": 163
        },
        "id": "KeCVnt7Fh2Qr",
        "outputId": "18a5d595-5ff7-4dce-d3e1-fc146b1d727b"
      },
      "source": [
        ""
      ],
      "execution_count": null,
      "outputs": [
        {
          "output_type": "error",
          "ename": "TypeError",
          "evalue": "ignored",
          "traceback": [
            "\u001b[0;31m---------------------------------------------------------------------------\u001b[0m",
            "\u001b[0;31mTypeError\u001b[0m                                 Traceback (most recent call last)",
            "\u001b[0;32m<ipython-input-44-59a1870f5bcf>\u001b[0m in \u001b[0;36m<module>\u001b[0;34m()\u001b[0m\n\u001b[0;32m----> 1\u001b[0;31m \u001b[0mdf3\u001b[0m\u001b[0;34m[\u001b[0m\u001b[0;34m'Timestamp'\u001b[0m\u001b[0;34m]\u001b[0m\u001b[0;34m.\u001b[0m\u001b[0mvalues\u001b[0m\u001b[0;34m(\u001b[0m\u001b[0;34m)\u001b[0m\u001b[0;34m\u001b[0m\u001b[0;34m\u001b[0m\u001b[0m\n\u001b[0m",
            "\u001b[0;31mTypeError\u001b[0m: 'numpy.ndarray' object is not callable"
          ]
        }
      ]
    },
    {
      "cell_type": "code",
      "metadata": {
        "colab": {
          "base_uri": "https://localhost:8080/"
        },
        "id": "HrcHzXB_clhE",
        "outputId": "e92d17d6-09a2-4380-a65c-935d6e51fa7b"
      },
      "source": [
        "df2.head()"
      ],
      "execution_count": null,
      "outputs": [
        {
          "output_type": "execute_result",
          "data": {
            "text/plain": [
              "0   2021-02-11\n",
              "1   2021-02-13\n",
              "2   2021-02-14\n",
              "4   2021-02-16\n",
              "5   2021-02-18\n",
              "Name: Timestamp, dtype: datetime64[ns]"
            ]
          },
          "metadata": {
            "tags": []
          },
          "execution_count": 41
        }
      ]
    },
    {
      "cell_type": "code",
      "metadata": {
        "id": "1aEDP1a4hkdd",
        "colab": {
          "base_uri": "https://localhost:8080/",
          "height": 251
        },
        "outputId": "ace7d14b-2f7c-41f8-dceb-fbe7fe13fcde"
      },
      "source": [
        "pie_labels3 = 'Science & Technology' , 'Business & Marketing', 'Arts & Media'\n",
        "sizes_labels3 = [10, 3,11]\n",
        "explode = (0,0.1,0)\n",
        "fig1, ax1 = plt.subplots()\n",
        "ax1.pie(sizes_labels3, explode=explode, labels=pie_labels3, autopct='%1.1f%%',\n",
        "        shadow=True, startangle=90)\n",
        "ax1.axis('equal')  # Equal aspect ratio ensures that pie is drawn as a circle.\n",
        "#ax1.set_title('Profession Demographics')\n",
        "\n",
        "plt.show()"
      ],
      "execution_count": null,
      "outputs": [
        {
          "output_type": "display_data",
          "data": {
            "image/png": "[encoded data removed]",
            "text/plain": [
              "<Figure size 432x288 with 1 Axes>"
            ]
          },
          "metadata": {
            "tags": []
          }
        }
      ]
    },
    {
      "cell_type": "code",
      "metadata": {
        "colab": {
          "base_uri": "https://localhost:8080/",
          "height": 498
        },
        "id": "cpLxDGSx4yOK",
        "outputId": "74bb01bc-9d98-4114-ec1e-2fac418ef392"
      },
      "source": [
        "import matplotlib.pyplot as plt\n",
        "import numpy as np\n",
        "\n",
        "\n",
        "labels = ['Science & Technology', 'Arts & Media', 'Business & Marketing']\n",
        "men_means = [10, 8, 1]\n",
        "women_means = [0, 3, 2]\n",
        "\n",
        "x = np.arange(len(labels))  # the label locations\n",
        "width = 0.35  # the width of the bars\n",
        "\n",
        "fig, ax = plt.subplots()\n",
        "rects1 = ax.bar(x - width/2, men_means, width, label='Men')\n",
        "rects2 = ax.bar(x + width/2, women_means, width, label='Women')\n",
        "\n",
        "# Add some text for labels, title and custom x-axis tick labels, etc.\n",
        "ax.set_ylabel('Count')\n",
        "ax.set_title('Count by profession and gender')\n",
        "ax.set_xticks(x)\n",
        "ax.set_xticklabels(labels)\n",
        "ax.legend()\n",
        "\n",
        "for rect in rects1.container\n",
        "rects1.bar_label('Men',fmt='%.2f', label_type='edge')\n",
        "rects2.bar\n",
        "\n",
        "fig.tight_layout()\n",
        "\n",
        "plt.show()"
      ],
      "execution_count": null,
      "outputs": [
        {
          "output_type": "error",
          "ename": "AttributeError",
          "evalue": "ignored",
          "traceback": [
            "\u001b[0;31m---------------------------------------------------------------------------\u001b[0m",
            "\u001b[0;31mAttributeError\u001b[0m                            Traceback (most recent call last)",
            "\u001b[0;32m<ipython-input-36-91b580dfafd6>\u001b[0m in \u001b[0;36m<module>\u001b[0;34m()\u001b[0m\n\u001b[1;32m     21\u001b[0m \u001b[0max\u001b[0m\u001b[0;34m.\u001b[0m\u001b[0mlegend\u001b[0m\u001b[0;34m(\u001b[0m\u001b[0;34m)\u001b[0m\u001b[0;34m\u001b[0m\u001b[0;34m\u001b[0m\u001b[0m\n\u001b[1;32m     22\u001b[0m \u001b[0;34m\u001b[0m\u001b[0m\n\u001b[0;32m---> 23\u001b[0;31m \u001b[0mrects1\u001b[0m\u001b[0;34m.\u001b[0m\u001b[0mbar_label\u001b[0m\u001b[0;34m(\u001b[0m\u001b[0;34m'Men'\u001b[0m\u001b[0;34m,\u001b[0m\u001b[0mfmt\u001b[0m\u001b[0;34m=\u001b[0m\u001b[0;34m'%.2f'\u001b[0m\u001b[0;34m,\u001b[0m \u001b[0mlabel_type\u001b[0m\u001b[0;34m=\u001b[0m\u001b[0;34m'edge'\u001b[0m\u001b[0;34m)\u001b[0m\u001b[0;34m\u001b[0m\u001b[0;34m\u001b[0m\u001b[0m\n\u001b[0m\u001b[1;32m     24\u001b[0m \u001b[0mrects2\u001b[0m\u001b[0;34m.\u001b[0m\u001b[0mbar\u001b[0m\u001b[0;34m\u001b[0m\u001b[0;34m\u001b[0m\u001b[0m\n\u001b[1;32m     25\u001b[0m \u001b[0;34m\u001b[0m\u001b[0m\n",
            "\u001b[0;31mAttributeError\u001b[0m: 'BarContainer' object has no attribute 'bar_label'"
          ]
        },
        {
          "output_type": "display_data",
          "data": {
            "image/png": "[encoded data removed]",
            "text/plain": [
              "<Figure size 432x288 with 1 Axes>"
            ]
          },
          "metadata": {
            "tags": []
          }
        }
      ]
    },
    {
      "cell_type": "code",
      "metadata": {
        "colab": {
          "base_uri": "https://localhost:8080/",
          "height": 248
        },
        "id": "CS2PW-_w95V5",
        "outputId": "7465c7ec-13e1-4123-d44d-461aa8fbadec"
      },
      "source": [
        "pie_labels4 = 'Student' , 'Self-employed', 'Employed'\n",
        "sizes_labels4 = [7, 14,3]\n",
        "explode = (0,0,0.1)\n",
        "fig1, ax1 = plt.subplots()\n",
        "ax1.pie(sizes_labels4, explode=explode, labels=pie_labels4, autopct='%1.1f%%',\n",
        "        shadow=True, startangle=90)\n",
        "ax1.axis('equal')  # Equal aspect ratio ensures that pie is drawn as a circle.\n",
        "\n",
        "plt.show()"
      ],
      "execution_count": null,
      "outputs": [
        {
          "output_type": "display_data",
          "data": {
            "image/png": "[encoded data removed]",
            "text/plain": [
              "<Figure size 432x288 with 1 Axes>"
            ]
          },
          "metadata": {
            "tags": []
          }
        }
      ]
    },
    {
      "cell_type": "code",
      "metadata": {
        "colab": {
          "base_uri": "https://localhost:8080/",
          "height": 248
        },
        "id": "-RYbfn15-cxW",
        "outputId": "2f7c3f94-1130-4b3a-efab-37b14d883e7f"
      },
      "source": [
        "pie_labels5 = 'Male' , 'Female'\n",
        "sizes_labels5 = [19, 5]\n",
        "explode = (0,0.1)\n",
        "fig1, ax1 = plt.subplots()\n",
        "ax1.pie(sizes_labels5, explode=explode, labels=pie_labels5, autopct='%1.1f%%',\n",
        "        shadow=True, startangle=90)\n",
        "ax1.axis('equal')  # Equal aspect ratio ensures that pie is drawn as a circle.\n",
        "\n",
        "plt.show()"
      ],
      "execution_count": null,
      "outputs": [
        {
          "output_type": "display_data",
          "data": {
            "image/png": "[encoded data removed]",
            "text/plain": [
              "<Figure size 432x288 with 1 Axes>"
            ]
          },
          "metadata": {
            "tags": []
          }
        }
      ]
    },
    {
      "cell_type": "code",
      "metadata": {
        "id": "PEyd4XuBJgL0"
      },
      "source": [
        "%matplotlib inline\n",
        "days = ['Wed', 'Tue', 'Thurs', 'Fri', 'Mon', 'Sat', 'Sun']\n",
        "s = [76, 74, 69, 68, 67, 32, 16]\n",
        "plt.bar(days, s)\n",
        "plt.ylabel(\"Count\")\n",
        "plt.title(\"Activity Traffic\");\n",
        "\n",
        "for i in range(len(s)):\n",
        "  plt.annotate(str(s[i]), xy=(days[i],s[i]), ha='center', va='bottom')\n",
        "\n",
        "plt.show()"
      ],
      "execution_count": null,
      "outputs": []
    },
    {
      "cell_type": "code",
      "metadata": {
        "id": "jOWNSNHOJWyc"
      },
      "source": [
        "import matplotlib.pyplot as plt\n",
        "import numpy as np\n",
        "\n",
        "\n",
        "labels = ['Science & Technology', 'Arts & Media', 'Business & Marketing']\n",
        "men_means = [10, 8, 1]\n",
        "women_means = [0, 3, 2]\n",
        "\n",
        "#x = np.arange(len(labels))  # the label locations\n",
        "#width = 0.35  # the width of the bars\n",
        "\n",
        "fig, ax = plt.subplots()\n",
        "rects1 = ax.bar(x - width/2, men_means, width, label='Men')\n",
        "rects2 = ax.bar(x + width/2, women_means, width, label='Women')\n",
        "\n",
        "# Add some text for labels, title and custom x-axis tick labels, etc.\n",
        "ax.set_ylabel('Count')\n",
        "ax.set_title('Count by profession and gender')\n",
        "ax.set_xticks(x)\n",
        "ax.set_xticklabels(labels)\n",
        "ax.legend()\n",
        "\n",
        "for rect in rects1.container\n",
        "rects1.bar_label('Men',fmt='%.2f', label_type='edge')\n",
        "rects2.bar\n",
        "\n",
        "fig.tight_layout()\n",
        "\n",
        "plt.show()"
      ],
      "execution_count": null,
      "outputs": []
    }
  ]
}