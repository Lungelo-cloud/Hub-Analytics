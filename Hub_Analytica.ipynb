{
  "nbformat": 4,
  "nbformat_minor": 0,
  "metadata": {
    "colab": {
      "name": "Hub Analytica.ipynb",
      "provenance": [],
      "authorship_tag": "ABX9TyPQ/TqtQL1sHHaI+qWZF5T2",
      "include_colab_link": true
    },
    "kernelspec": {
      "name": "python3",
      "display_name": "Python 3"
    },
    "language_info": {
      "name": "python"
    }
  },
  "cells": [
    {
      "cell_type": "markdown",
      "metadata": {
        "id": "view-in-github",
        "colab_type": "text"
      },
      "source": [
        "<a href=\"https://colab.research.google.com/github/Lungelo-cloud/Hub-Analytics/blob/main/Hub_Analytica.ipynb\" target=\"_parent\"><img src=\"https://colab.research.google.com/assets/colab-badge.svg\" alt=\"Open In Colab\"/></a>"
      ]
    },
    {
      "cell_type": "code",
      "metadata": {
        "id": "-sivWncZumDV"
      },
      "source": [
        "import pandas as pd\n",
        "import datetime as dt\n",
        "import numpy as np\n",
        "import matplotlib.pyplot as plt \n",
        "import seaborn as sns \n",
        "sns.set()"
      ],
      "execution_count": null,
      "outputs": []
    },
    {
      "cell_type": "code",
      "metadata": {
        "colab": {
          "base_uri": "https://localhost:8080/",
          "height": 357
        },
        "id": "e2Dl9M2Au4Ol",
        "outputId": "9e88177f-33a1-4a4f-f343-4fc82136b5c5"
      },
      "source": [
        "sheet_id = '1WGVWOsjKdp4eP_6PcqdnU7r6r8RW0hAtUVakTlrFWxw'\n",
        "df = pd.read_csv(f\"https://docs.google.com/spreadsheets/d/{sheet_id}/export?format=csv\")\n",
        "df.head()"
      ],
      "execution_count": null,
      "outputs": [
        {
          "output_type": "execute_result",
          "data": {
            "text/html": [
              "<div>\n",
              "<style scoped>\n",
              "    .dataframe tbody tr th:only-of-type {\n",
              "        vertical-align: middle;\n",
              "    }\n",
              "\n",
              "    .dataframe tbody tr th {\n",
              "        vertical-align: top;\n",
              "    }\n",
              "\n",
              "    .dataframe thead th {\n",
              "        text-align: right;\n",
              "    }\n",
              "</style>\n",
              "<table border=\"1\" class=\"dataframe\">\n",
              "  <thead>\n",
              "    <tr style=\"text-align: right;\">\n",
              "      <th></th>\n",
              "      <th>Timestamp</th>\n",
              "      <th>First Name</th>\n",
              "      <th>Phone Number</th>\n",
              "      <th>Sign-in Time</th>\n",
              "      <th>What are you working on today?</th>\n",
              "      <th>What equipment will you use?</th>\n",
              "      <th>Internet?</th>\n",
              "      <th>How many hours will you be putting in?</th>\n",
              "      <th>Are you a member of The Hub?</th>\n",
              "      <th>Are you a student (from any institution)?</th>\n",
              "      <th>What company do you work for?</th>\n",
              "      <th>Last Name</th>\n",
              "      <th>What equipment will you check out?</th>\n",
              "    </tr>\n",
              "  </thead>\n",
              "  <tbody>\n",
              "    <tr>\n",
              "      <th>0</th>\n",
              "      <td>2/11/2021</td>\n",
              "      <td>Kwanele</td>\n",
              "      <td>7815 8606</td>\n",
              "      <td>11:00:00 AM</td>\n",
              "      <td>Company Work</td>\n",
              "      <td>Brought my own workstation</td>\n",
              "      <td>Shared Hotspot</td>\n",
              "      <td>6:00:00 AM</td>\n",
              "      <td>NaN</td>\n",
              "      <td>NaN</td>\n",
              "      <td>NaN</td>\n",
              "      <td>NaN</td>\n",
              "      <td>NaN</td>\n",
              "    </tr>\n",
              "    <tr>\n",
              "      <th>1</th>\n",
              "      <td>2/11/2021</td>\n",
              "      <td>José</td>\n",
              "      <td>NaN</td>\n",
              "      <td>8:00:00 AM</td>\n",
              "      <td>Company Work</td>\n",
              "      <td>Mac Workstation</td>\n",
              "      <td>Shared Hotspot</td>\n",
              "      <td>8:00:00 PM</td>\n",
              "      <td>Yes</td>\n",
              "      <td>No</td>\n",
              "      <td>Ummo</td>\n",
              "      <td>Rego</td>\n",
              "      <td>NaN</td>\n",
              "    </tr>\n",
              "    <tr>\n",
              "      <th>2</th>\n",
              "      <td>2/11/2021</td>\n",
              "      <td>Simanga</td>\n",
              "      <td>78501932</td>\n",
              "      <td>4:00:00 AM</td>\n",
              "      <td>Content &amp; Creativity</td>\n",
              "      <td>PC Workstation</td>\n",
              "      <td>Shared Hotspot</td>\n",
              "      <td>NaN</td>\n",
              "      <td>NaN</td>\n",
              "      <td>NaN</td>\n",
              "      <td>NaN</td>\n",
              "      <td>NaN</td>\n",
              "      <td>NaN</td>\n",
              "    </tr>\n",
              "    <tr>\n",
              "      <th>3</th>\n",
              "      <td>2/13/2021</td>\n",
              "      <td>Simanga</td>\n",
              "      <td>78501932</td>\n",
              "      <td>11:00:00 AM</td>\n",
              "      <td>Content &amp; Creativity</td>\n",
              "      <td>Mac Workstation</td>\n",
              "      <td>Shared Hotspot</td>\n",
              "      <td>NaN</td>\n",
              "      <td>NaN</td>\n",
              "      <td>NaN</td>\n",
              "      <td>NaN</td>\n",
              "      <td>NaN</td>\n",
              "      <td>NaN</td>\n",
              "    </tr>\n",
              "    <tr>\n",
              "      <th>4</th>\n",
              "      <td>2/13/2021</td>\n",
              "      <td>José</td>\n",
              "      <td>NaN</td>\n",
              "      <td>8:00:00 AM</td>\n",
              "      <td>Company Work</td>\n",
              "      <td>Mac Workstation</td>\n",
              "      <td>Shared Hotspot</td>\n",
              "      <td>8:00:00 PM</td>\n",
              "      <td>Yes</td>\n",
              "      <td>No</td>\n",
              "      <td>Ummo</td>\n",
              "      <td>Rego</td>\n",
              "      <td>NaN</td>\n",
              "    </tr>\n",
              "  </tbody>\n",
              "</table>\n",
              "</div>"
            ],
            "text/plain": [
              "   Timestamp First Name  ... Last Name What equipment will you check out?\n",
              "0  2/11/2021    Kwanele  ...       NaN                                NaN\n",
              "1  2/11/2021       José  ...      Rego                                NaN\n",
              "2  2/11/2021    Simanga  ...       NaN                                NaN\n",
              "3  2/13/2021    Simanga  ...       NaN                                NaN\n",
              "4  2/13/2021       José  ...      Rego                                NaN\n",
              "\n",
              "[5 rows x 13 columns]"
            ]
          },
          "metadata": {},
          "execution_count": 2
        }
      ]
    },
    {
      "cell_type": "code",
      "metadata": {
        "colab": {
          "base_uri": "https://localhost:8080/"
        },
        "id": "OBe9dE_R5oZB",
        "outputId": "b5cc6924-fd17-492e-b3a0-12da801754c2"
      },
      "source": [
        "missing_data = df.isnull()\n",
        "for column in missing_data.columns.values.tolist():\n",
        "  print(column)\n",
        "  print(missing_data[column].value_counts())\n",
        "  print(\"\")"
      ],
      "execution_count": null,
      "outputs": [
        {
          "output_type": "stream",
          "text": [
            "Timestamp\n",
            "False    745\n",
            "Name: Timestamp, dtype: int64\n",
            "\n",
            "First Name\n",
            "False    745\n",
            "Name: First Name, dtype: int64\n",
            "\n",
            "Phone Number\n",
            "False    420\n",
            "True     325\n",
            "Name: Phone Number, dtype: int64\n",
            "\n",
            "Sign-in Time\n",
            "False    745\n",
            "Name: Sign-in Time, dtype: int64\n",
            "\n",
            "What are you working on today?\n",
            "False    745\n",
            "Name: What are you working on today?, dtype: int64\n",
            "\n",
            "What equipment will you use?\n",
            "False    745\n",
            "Name: What equipment will you use?, dtype: int64\n",
            "\n",
            "Internet?\n",
            "False    744\n",
            "True       1\n",
            "Name: Internet?, dtype: int64\n",
            "\n",
            "How many hours will you be putting in?\n",
            "False    724\n",
            "True      21\n",
            "Name: How many hours will you be putting in?, dtype: int64\n",
            "\n",
            "Are you a member of The Hub?\n",
            "False    642\n",
            "True     103\n",
            "Name: Are you a member of The Hub?, dtype: int64\n",
            "\n",
            "Are you a student (from any institution)?\n",
            "True     424\n",
            "False    321\n",
            "Name: Are you a student (from any institution)?, dtype: int64\n",
            "\n",
            "What company do you work for?\n",
            "True     420\n",
            "False    325\n",
            "Name: What company do you work for?, dtype: int64\n",
            "\n",
            "Last Name\n",
            "True     420\n",
            "False    325\n",
            "Name: Last Name, dtype: int64\n",
            "\n",
            "What equipment will you check out?\n",
            "True    745\n",
            "Name: What equipment will you check out?, dtype: int64\n",
            "\n"
          ],
          "name": "stdout"
        }
      ]
    },
    {
      "cell_type": "code",
      "metadata": {
        "colab": {
          "base_uri": "https://localhost:8080/"
        },
        "id": "70OcNqAbWO_R",
        "outputId": "a8a8636a-ee48-4e62-bb77-afb7b3c340ca"
      },
      "source": [
        "mode_sign_out_time = df['What time do you expect to be out of The Hub?'].mode(dropna = True)\n",
        "mode_internet = df['Internet?'].mode(dropna = True)\n",
        "print('mode sign out time: \\n',mode_sign_out_time)\n",
        "print('')\n",
        "print('mode internet: \\n',mode_internet)"
      ],
      "execution_count": null,
      "outputs": [
        {
          "output_type": "stream",
          "text": [
            "mode sign out time: \n",
            " 0    5:00:00 PM\n",
            "dtype: object\n",
            "\n",
            "mode internet: \n",
            " 0    Shared Hotspot\n",
            "dtype: object\n"
          ],
          "name": "stdout"
        }
      ]
    },
    {
      "cell_type": "code",
      "metadata": {
        "id": "Pg5WfMUsWkO4"
      },
      "source": [
        "df['What time do you expect to be out of The Hub?'] = df['What time do you expect to be out of The Hub?'].replace(np.nan, '5:00:00 PM')\n",
        "df['Internet?'] = df['Internet?'].replace(np.nan, 'Shared Hotspot')"
      ],
      "execution_count": null,
      "outputs": []
    },
    {
      "cell_type": "code",
      "metadata": {
        "colab": {
          "base_uri": "https://localhost:8080/"
        },
        "id": "OMPRU5MV5MNE",
        "outputId": "c9eccede-4710-42a8-cf17-fe2a4a3c485e"
      },
      "source": [
        "#df['Timestamp'] = pd.to_datetime(df['Timestamp'])\n",
        "#df['Sign-in Time'] = pd.to_datetime(df['Sign-in Time'])\n",
        "#df['What time do you expect to be out of The Hub?'] = pd.to_datetime(df['What time do you expect to be out of The Hub?'])\n",
        "df1['How many hours will you be putting in?'] = pd.to_numeric(df1['How many hours will you be putting in?'])\n",
        "df1.dtypes"
      ],
      "execution_count": null,
      "outputs": [
        {
          "output_type": "execute_result",
          "data": {
            "text/plain": [
              "First Name                                    object\n",
              "Phone Number                                  object\n",
              "Sign-in Time                                  object\n",
              "What are you working on today?                object\n",
              "What equipment will you use?                  object\n",
              "Internet?                                     object\n",
              "How many hours will you be putting in?       float64\n",
              "Are you a member of The Hub?                  object\n",
              "Are you a student (from any institution)?     object\n",
              "What company do you work for?                 object\n",
              "Last Name                                     object\n",
              "What equipment will you check out?           float64\n",
              "dtype: object"
            ]
          },
          "metadata": {},
          "execution_count": 18
        }
      ]
    },
    {
      "cell_type": "code",
      "metadata": {
        "id": "qxMk3ud4CvDC"
      },
      "source": [
        "df = df.set_index('Timestamp')"
      ],
      "execution_count": null,
      "outputs": []
    },
    {
      "cell_type": "code",
      "metadata": {
        "colab": {
          "base_uri": "https://localhost:8080/"
        },
        "id": "pg0ifdq5RJTu",
        "outputId": "ef5cb909-e1ec-43ff-a568-122d9ae9214b"
      },
      "source": [
        "missing_dates = pd.date_range(df.index.min(), df.index.max()).difference(df.index).size - 9\n",
        "missing_dates"
      ],
      "execution_count": null,
      "outputs": [
        {
          "output_type": "execute_result",
          "data": {
            "text/plain": [
              "52"
            ]
          },
          "metadata": {
            "tags": []
          },
          "execution_count": 10
        }
      ]
    },
    {
      "cell_type": "code",
      "metadata": {
        "id": "Db4Q05uUWlgi"
      },
      "source": [
        "df['Time Duration(hrs)'] = (df['What time do you expect to be out of The Hub?']-df['Sign-in Time'])/np.timedelta64(1,'h')\n",
        "df['Time Duration(hrs)'] = abs(df['Time Duration(hrs)'])\n",
        "df['Time Duration(hrs)'] = df['Time Duration(hrs)'].replace(0.0, 8.0)"
      ],
      "execution_count": null,
      "outputs": []
    },
    {
      "cell_type": "code",
      "metadata": {
        "id": "miWkNohR0fBo"
      },
      "source": [
        "df1 = df.loc['2021-08-23 00:00:00':'2021-08-29 23:00:00']"
      ],
      "execution_count": null,
      "outputs": []
    },
    {
      "cell_type": "code",
      "metadata": {
        "id": "0c_rBx4o39v-"
      },
      "source": [
        "cato=df1['What are you working on today?'].str.split(',')\n",
        "cat_set=[]\n",
        "for i in cato.dropna():\n",
        "    cat_set.extend(i)\n",
        "plt1 = pd.Series(cat_set)\n",
        "plt1 = plt1.str.strip()\n",
        "plt2=plt1.value_counts().sort_values(ascending=False).to_frame()\n",
        "plt2.columns = ['Count']"
      ],
      "execution_count": null,
      "outputs": []
    },
    {
      "cell_type": "code",
      "metadata": {
        "colab": {
          "base_uri": "https://localhost:8080/",
          "height": 80
        },
        "id": "jxaLGLjV4keA",
        "outputId": "497606cb-5635-418f-87c0-0410b29ca4d6"
      },
      "source": [
        "plt2.T"
      ],
      "execution_count": null,
      "outputs": [
        {
          "output_type": "execute_result",
          "data": {
            "text/html": [
              "<div>\n",
              "<style scoped>\n",
              "    .dataframe tbody tr th:only-of-type {\n",
              "        vertical-align: middle;\n",
              "    }\n",
              "\n",
              "    .dataframe tbody tr th {\n",
              "        vertical-align: top;\n",
              "    }\n",
              "\n",
              "    .dataframe thead th {\n",
              "        text-align: right;\n",
              "    }\n",
              "</style>\n",
              "<table border=\"1\" class=\"dataframe\">\n",
              "  <thead>\n",
              "    <tr style=\"text-align: right;\">\n",
              "      <th></th>\n",
              "      <th>Company Work</th>\n",
              "      <th>Research</th>\n",
              "      <th>Content &amp; Creativity</th>\n",
              "      <th>Coding</th>\n",
              "      <th>Meeting</th>\n",
              "      <th>Academic Work</th>\n",
              "    </tr>\n",
              "  </thead>\n",
              "  <tbody>\n",
              "    <tr>\n",
              "      <th>Count</th>\n",
              "      <td>25</td>\n",
              "      <td>21</td>\n",
              "      <td>18</td>\n",
              "      <td>16</td>\n",
              "      <td>5</td>\n",
              "      <td>4</td>\n",
              "    </tr>\n",
              "  </tbody>\n",
              "</table>\n",
              "</div>"
            ],
            "text/plain": [
              "       Company Work  Research  ...  Meeting  Academic Work\n",
              "Count            25        21  ...        5              4\n",
              "\n",
              "[1 rows x 6 columns]"
            ]
          },
          "metadata": {},
          "execution_count": 8
        }
      ]
    },
    {
      "cell_type": "code",
      "metadata": {
        "colab": {
          "base_uri": "https://localhost:8080/"
        },
        "id": "dA518VoxB9XE",
        "outputId": "92a109b9-05ab-4829-e7b5-e885b646a297"
      },
      "source": [
        "len(df1)"
      ],
      "execution_count": null,
      "outputs": [
        {
          "output_type": "execute_result",
          "data": {
            "text/plain": [
              "54"
            ]
          },
          "metadata": {},
          "execution_count": 54
        }
      ]
    },
    {
      "cell_type": "code",
      "metadata": {
        "colab": {
          "base_uri": "https://localhost:8080/",
          "height": 235
        },
        "id": "My7x_9vIEUbS",
        "outputId": "c5a7ae76-6247-46ef-8530-b760f96027e3"
      },
      "source": [
        "df2 = df1['What are you working on today?']\n",
        "splitting_columns = lambda x: pd.Series([i for i in reversed(x.split(','))])\n",
        "df2 = df2.apply(splitting_columns)\n",
        "df2[0] = df2[0].str.strip()\n",
        "df2[1] = df2[1].str.strip()\n",
        "df2[2] = df2[2].str.strip()\n",
        "df3 = df2[0].append(df2[1], ignore_index=True)\n",
        "df4 = df3.append(df2[2], ignore_index=True)\n",
        "df4 = df4.dropna()\n",
        "df5 = df4.value_counts(dropna=True).to_frame()\n",
        "df5.columns = ['count']\n",
        "df5"
      ],
      "execution_count": null,
      "outputs": [
        {
          "output_type": "execute_result",
          "data": {
            "text/html": [
              "<div>\n",
              "<style scoped>\n",
              "    .dataframe tbody tr th:only-of-type {\n",
              "        vertical-align: middle;\n",
              "    }\n",
              "\n",
              "    .dataframe tbody tr th {\n",
              "        vertical-align: top;\n",
              "    }\n",
              "\n",
              "    .dataframe thead th {\n",
              "        text-align: right;\n",
              "    }\n",
              "</style>\n",
              "<table border=\"1\" class=\"dataframe\">\n",
              "  <thead>\n",
              "    <tr style=\"text-align: right;\">\n",
              "      <th></th>\n",
              "      <th>count</th>\n",
              "    </tr>\n",
              "  </thead>\n",
              "  <tbody>\n",
              "    <tr>\n",
              "      <th>Company Work</th>\n",
              "      <td>23</td>\n",
              "    </tr>\n",
              "    <tr>\n",
              "      <th>Research</th>\n",
              "      <td>21</td>\n",
              "    </tr>\n",
              "    <tr>\n",
              "      <th>Content &amp; Creativity</th>\n",
              "      <td>18</td>\n",
              "    </tr>\n",
              "    <tr>\n",
              "      <th>Coding</th>\n",
              "      <td>16</td>\n",
              "    </tr>\n",
              "    <tr>\n",
              "      <th>Meeting</th>\n",
              "      <td>5</td>\n",
              "    </tr>\n",
              "    <tr>\n",
              "      <th>Academic Work</th>\n",
              "      <td>4</td>\n",
              "    </tr>\n",
              "  </tbody>\n",
              "</table>\n",
              "</div>"
            ],
            "text/plain": [
              "                      count\n",
              "Company Work             23\n",
              "Research                 21\n",
              "Content & Creativity     18\n",
              "Coding                   16\n",
              "Meeting                   5\n",
              "Academic Work             4"
            ]
          },
          "metadata": {},
          "execution_count": 9
        }
      ]
    },
    {
      "cell_type": "code",
      "metadata": {
        "colab": {
          "base_uri": "https://localhost:8080/",
          "height": 235
        },
        "id": "i_mw4btnHS_6",
        "outputId": "c2aaa35a-f9bd-48a2-e58e-9810ca147a7e"
      },
      "source": [
        "df6 = df1['What company do you work for?']\n",
        "df7 = df6.value_counts().to_frame()\n",
        "df7.columns = ['Number of hub visits']"
      ],
      "execution_count": null,
      "outputs": [
        {
          "output_type": "execute_result",
          "data": {
            "text/html": [
              "<div>\n",
              "<style scoped>\n",
              "    .dataframe tbody tr th:only-of-type {\n",
              "        vertical-align: middle;\n",
              "    }\n",
              "\n",
              "    .dataframe tbody tr th {\n",
              "        vertical-align: top;\n",
              "    }\n",
              "\n",
              "    .dataframe thead th {\n",
              "        text-align: right;\n",
              "    }\n",
              "</style>\n",
              "<table border=\"1\" class=\"dataframe\">\n",
              "  <thead>\n",
              "    <tr style=\"text-align: right;\">\n",
              "      <th></th>\n",
              "      <th>Number of hub visits</th>\n",
              "    </tr>\n",
              "  </thead>\n",
              "  <tbody>\n",
              "    <tr>\n",
              "      <th>Freelancer</th>\n",
              "      <td>19</td>\n",
              "    </tr>\n",
              "    <tr>\n",
              "      <th>Kingdom XLR</th>\n",
              "      <td>11</td>\n",
              "    </tr>\n",
              "    <tr>\n",
              "      <th>Ummo</th>\n",
              "      <td>11</td>\n",
              "    </tr>\n",
              "    <tr>\n",
              "      <th>Snowsen</th>\n",
              "      <td>7</td>\n",
              "    </tr>\n",
              "    <tr>\n",
              "      <th>SV Tech</th>\n",
              "      <td>2</td>\n",
              "    </tr>\n",
              "    <tr>\n",
              "      <th>Vundzisa</th>\n",
              "      <td>1</td>\n",
              "    </tr>\n",
              "  </tbody>\n",
              "</table>\n",
              "</div>"
            ],
            "text/plain": [
              "             Number of hub visits\n",
              "Freelancer                     19\n",
              "Kingdom XLR                    11\n",
              "Ummo                           11\n",
              "Snowsen                         7\n",
              "SV Tech                         2\n",
              "Vundzisa                        1"
            ]
          },
          "metadata": {},
          "execution_count": 24
        }
      ]
    },
    {
      "cell_type": "code",
      "metadata": {
        "colab": {
          "base_uri": "https://localhost:8080/",
          "height": 266
        },
        "id": "LU505xhBQMMS",
        "outputId": "39100160-b433-429b-a47a-3b9b151d1f3c"
      },
      "source": [
        "df8 = df1['What equipment will you use?']\n",
        "df8 = df8.apply(splitting_columns)\n",
        "df8[0] = df8[0].str.strip()\n",
        "df8[1] = df8[1].str.strip()\n",
        "df8[2] = df8[2].str.strip()\n",
        "df8[3] = df8[3].str.strip()\n",
        "df9 = df8[0].append(df8[1], ignore_index=True)\n",
        "df10 = df9.append(df8[2], ignore_index=True)\n",
        "df11 = df10.append(df8[3], ignore_index=True)\n",
        "equipment_used = df11.value_counts(dropna=True).to_frame()\n",
        "equipment_used.columns = ['count']\n",
        "equipment_used"
      ],
      "execution_count": null,
      "outputs": [
        {
          "output_type": "execute_result",
          "data": {
            "text/html": [
              "<div>\n",
              "<style scoped>\n",
              "    .dataframe tbody tr th:only-of-type {\n",
              "        vertical-align: middle;\n",
              "    }\n",
              "\n",
              "    .dataframe tbody tr th {\n",
              "        vertical-align: top;\n",
              "    }\n",
              "\n",
              "    .dataframe thead th {\n",
              "        text-align: right;\n",
              "    }\n",
              "</style>\n",
              "<table border=\"1\" class=\"dataframe\">\n",
              "  <thead>\n",
              "    <tr style=\"text-align: right;\">\n",
              "      <th></th>\n",
              "      <th>count</th>\n",
              "    </tr>\n",
              "  </thead>\n",
              "  <tbody>\n",
              "    <tr>\n",
              "      <th>Mac Workstation</th>\n",
              "      <td>22</td>\n",
              "    </tr>\n",
              "    <tr>\n",
              "      <th>Brought my own workstation</th>\n",
              "      <td>17</td>\n",
              "    </tr>\n",
              "    <tr>\n",
              "      <th>Keyboard</th>\n",
              "      <td>14</td>\n",
              "    </tr>\n",
              "    <tr>\n",
              "      <th>Monitor</th>\n",
              "      <td>11</td>\n",
              "    </tr>\n",
              "    <tr>\n",
              "      <th>Mouse</th>\n",
              "      <td>11</td>\n",
              "    </tr>\n",
              "    <tr>\n",
              "      <th>PC Workstation</th>\n",
              "      <td>8</td>\n",
              "    </tr>\n",
              "    <tr>\n",
              "      <th>Audio Box</th>\n",
              "      <td>5</td>\n",
              "    </tr>\n",
              "  </tbody>\n",
              "</table>\n",
              "</div>"
            ],
            "text/plain": [
              "                            count\n",
              "Mac Workstation                22\n",
              "Brought my own workstation     17\n",
              "Keyboard                       14\n",
              "Monitor                        11\n",
              "Mouse                          11\n",
              "PC Workstation                  8\n",
              "Audio Box                       5"
            ]
          },
          "metadata": {},
          "execution_count": 11
        }
      ]
    },
    {
      "cell_type": "code",
      "metadata": {
        "colab": {
          "base_uri": "https://localhost:8080/",
          "height": 607
        },
        "id": "gex9bBUikoAe",
        "outputId": "800c8e56-a154-479c-d4f9-117e2fad1875"
      },
      "source": [
        "d12 = df1['First Name'].str.strip()\n",
        "d12 = d12.replace('Kwanele Prince', 'Kwanele')\n",
        "d12 = d12.replace('Tsabedze', 'Kwanele')\n",
        "d13 = d12.value_counts().to_frame()\n",
        "d13.columns = ['Number of hub visits']\n",
        "hubbers = d13\n",
        "hubbers"
      ],
      "execution_count": null,
      "outputs": [
        {
          "output_type": "execute_result",
          "data": {
            "text/html": [
              "<div>\n",
              "<style scoped>\n",
              "    .dataframe tbody tr th:only-of-type {\n",
              "        vertical-align: middle;\n",
              "    }\n",
              "\n",
              "    .dataframe tbody tr th {\n",
              "        vertical-align: top;\n",
              "    }\n",
              "\n",
              "    .dataframe thead th {\n",
              "        text-align: right;\n",
              "    }\n",
              "</style>\n",
              "<table border=\"1\" class=\"dataframe\">\n",
              "  <thead>\n",
              "    <tr style=\"text-align: right;\">\n",
              "      <th></th>\n",
              "      <th>Number of hub visits</th>\n",
              "    </tr>\n",
              "  </thead>\n",
              "  <tbody>\n",
              "    <tr>\n",
              "      <th>José</th>\n",
              "      <td>7</td>\n",
              "    </tr>\n",
              "    <tr>\n",
              "      <th>Simanga</th>\n",
              "      <td>4</td>\n",
              "    </tr>\n",
              "    <tr>\n",
              "      <th>Lungelo</th>\n",
              "      <td>4</td>\n",
              "    </tr>\n",
              "    <tr>\n",
              "      <th>Bafana</th>\n",
              "      <td>4</td>\n",
              "    </tr>\n",
              "    <tr>\n",
              "      <th>Fanelesibonge</th>\n",
              "      <td>4</td>\n",
              "    </tr>\n",
              "    <tr>\n",
              "      <th>Sibahle</th>\n",
              "      <td>4</td>\n",
              "    </tr>\n",
              "    <tr>\n",
              "      <th>Mzwandile</th>\n",
              "      <td>4</td>\n",
              "    </tr>\n",
              "    <tr>\n",
              "      <th>Tiyandza</th>\n",
              "      <td>3</td>\n",
              "    </tr>\n",
              "    <tr>\n",
              "      <th>Mlungisi</th>\n",
              "      <td>3</td>\n",
              "    </tr>\n",
              "    <tr>\n",
              "      <th>Muzi</th>\n",
              "      <td>3</td>\n",
              "    </tr>\n",
              "    <tr>\n",
              "      <th>Sabelo</th>\n",
              "      <td>2</td>\n",
              "    </tr>\n",
              "    <tr>\n",
              "      <th>Bagcinele</th>\n",
              "      <td>2</td>\n",
              "    </tr>\n",
              "    <tr>\n",
              "      <th>Gcinimiyalo</th>\n",
              "      <td>2</td>\n",
              "    </tr>\n",
              "    <tr>\n",
              "      <th>Sihle</th>\n",
              "      <td>1</td>\n",
              "    </tr>\n",
              "    <tr>\n",
              "      <th>Zack</th>\n",
              "      <td>1</td>\n",
              "    </tr>\n",
              "    <tr>\n",
              "      <th>Sikhulile</th>\n",
              "      <td>1</td>\n",
              "    </tr>\n",
              "    <tr>\n",
              "      <th>Thelumusa</th>\n",
              "      <td>1</td>\n",
              "    </tr>\n",
              "    <tr>\n",
              "      <th>Kwanele</th>\n",
              "      <td>1</td>\n",
              "    </tr>\n",
              "  </tbody>\n",
              "</table>\n",
              "</div>"
            ],
            "text/plain": [
              "               Number of hub visits\n",
              "José                              7\n",
              "Simanga                           4\n",
              "Lungelo                           4\n",
              "Bafana                            4\n",
              "Fanelesibonge                     4\n",
              "Sibahle                           4\n",
              "Mzwandile                         4\n",
              "Tiyandza                          3\n",
              "Mlungisi                          3\n",
              "Muzi                              3\n",
              "Sabelo                            2\n",
              "Bagcinele                         2\n",
              "Gcinimiyalo                       2\n",
              "Sihle                             1\n",
              "Zack                              1\n",
              "Sikhulile                         1\n",
              "Thelumusa                         1\n",
              "Kwanele                           1"
            ]
          },
          "metadata": {},
          "execution_count": 21
        }
      ]
    },
    {
      "cell_type": "code",
      "metadata": {
        "colab": {
          "base_uri": "https://localhost:8080/"
        },
        "id": "hL_TuVW2FK-4",
        "outputId": "ed48fec6-bbe2-43b9-e9a5-ca561ae19370"
      },
      "source": [
        "df1['First Name'].unique()"
      ],
      "execution_count": null,
      "outputs": [
        {
          "output_type": "execute_result",
          "data": {
            "text/plain": [
              "array(['Simanga', 'José', 'Lungelo', 'Bafana', 'Fanelesibonge ',\n",
              "       'Gcinimiyalo ', 'Muzi Chaboy', 'Gcinimiyalo', 'Zack', 'Sibahle',\n",
              "       'Mzwandile ', 'Tiyandza', 'Fanelesibonge', 'Mlungisi ',\n",
              "       'Kwanele Prince', 'Lungelo ', 'Sabelo ', 'Tyga', 'Bagcinele',\n",
              "       'Sabelo', 'José ', 'Thelumusa', 'Sibahle ', 'Sihle', 'Mzwandile'],\n",
              "      dtype=object)"
            ]
          },
          "metadata": {},
          "execution_count": 13
        }
      ]
    },
    {
      "cell_type": "code",
      "metadata": {
        "colab": {
          "base_uri": "https://localhost:8080/",
          "height": 638
        },
        "id": "FsMlYIz66_iY",
        "outputId": "a53ce09c-fa4f-45a8-843a-4e40bac9998b"
      },
      "source": [
        "import warnings\n",
        "warnings.filterwarnings(\"ignore\")\n",
        "df1['First Name'] = df1['First Name'].str.strip()\n",
        "df1['First Name'] = df1['First Name'].replace('Kwanele Prince', 'Kwanele')\n",
        "df1['First Name'] = df1['First Name'].replace('Tsabedze', 'Kwanele') \n",
        "df1['First Name'] = df1['First Name'].replace('Muzi Chaboy', 'Muzi')\n",
        "df1['First Name'] = df1['First Name'].replace('Tyga', 'Sikhulile')\n",
        "#df1['Time Duration(hrs)'] = abs(df1['Time Duration(hrs)'])\n",
        "d14 = df1[['First Name', 'How many hours will you be putting in?']]\n",
        "d14 = d14.groupby(['First Name'], as_index=False).sum()\n",
        "d200 = d14.set_index(['First Name']).sort_values(['How many hours will you be putting in?'], ascending=False)\n",
        "d200"
      ],
      "execution_count": null,
      "outputs": [
        {
          "output_type": "execute_result",
          "data": {
            "text/html": [
              "<div>\n",
              "<style scoped>\n",
              "    .dataframe tbody tr th:only-of-type {\n",
              "        vertical-align: middle;\n",
              "    }\n",
              "\n",
              "    .dataframe tbody tr th {\n",
              "        vertical-align: top;\n",
              "    }\n",
              "\n",
              "    .dataframe thead th {\n",
              "        text-align: right;\n",
              "    }\n",
              "</style>\n",
              "<table border=\"1\" class=\"dataframe\">\n",
              "  <thead>\n",
              "    <tr style=\"text-align: right;\">\n",
              "      <th></th>\n",
              "      <th>How many hours will you be putting in?</th>\n",
              "    </tr>\n",
              "    <tr>\n",
              "      <th>First Name</th>\n",
              "      <th></th>\n",
              "    </tr>\n",
              "  </thead>\n",
              "  <tbody>\n",
              "    <tr>\n",
              "      <th>José</th>\n",
              "      <td>86.5</td>\n",
              "    </tr>\n",
              "    <tr>\n",
              "      <th>Fanelesibonge</th>\n",
              "      <td>52.0</td>\n",
              "    </tr>\n",
              "    <tr>\n",
              "      <th>Sikhulile</th>\n",
              "      <td>48.0</td>\n",
              "    </tr>\n",
              "    <tr>\n",
              "      <th>Sibahle</th>\n",
              "      <td>40.0</td>\n",
              "    </tr>\n",
              "    <tr>\n",
              "      <th>Lungelo</th>\n",
              "      <td>31.0</td>\n",
              "    </tr>\n",
              "    <tr>\n",
              "      <th>Simanga</th>\n",
              "      <td>25.0</td>\n",
              "    </tr>\n",
              "    <tr>\n",
              "      <th>Bafana</th>\n",
              "      <td>24.5</td>\n",
              "    </tr>\n",
              "    <tr>\n",
              "      <th>Tiyandza</th>\n",
              "      <td>17.0</td>\n",
              "    </tr>\n",
              "    <tr>\n",
              "      <th>Mzwandile</th>\n",
              "      <td>16.0</td>\n",
              "    </tr>\n",
              "    <tr>\n",
              "      <th>Mlungisi</th>\n",
              "      <td>16.0</td>\n",
              "    </tr>\n",
              "    <tr>\n",
              "      <th>Sabelo</th>\n",
              "      <td>15.0</td>\n",
              "    </tr>\n",
              "    <tr>\n",
              "      <th>Bagcinele</th>\n",
              "      <td>12.0</td>\n",
              "    </tr>\n",
              "    <tr>\n",
              "      <th>Gcinimiyalo</th>\n",
              "      <td>9.0</td>\n",
              "    </tr>\n",
              "    <tr>\n",
              "      <th>Muzi</th>\n",
              "      <td>5.0</td>\n",
              "    </tr>\n",
              "    <tr>\n",
              "      <th>Sihle</th>\n",
              "      <td>4.0</td>\n",
              "    </tr>\n",
              "    <tr>\n",
              "      <th>Kwanele</th>\n",
              "      <td>4.0</td>\n",
              "    </tr>\n",
              "    <tr>\n",
              "      <th>Zack</th>\n",
              "      <td>4.0</td>\n",
              "    </tr>\n",
              "    <tr>\n",
              "      <th>Thelumusa</th>\n",
              "      <td>3.0</td>\n",
              "    </tr>\n",
              "  </tbody>\n",
              "</table>\n",
              "</div>"
            ],
            "text/plain": [
              "               How many hours will you be putting in?\n",
              "First Name                                           \n",
              "José                                             86.5\n",
              "Fanelesibonge                                    52.0\n",
              "Sikhulile                                        48.0\n",
              "Sibahle                                          40.0\n",
              "Lungelo                                          31.0\n",
              "Simanga                                          25.0\n",
              "Bafana                                           24.5\n",
              "Tiyandza                                         17.0\n",
              "Mzwandile                                        16.0\n",
              "Mlungisi                                         16.0\n",
              "Sabelo                                           15.0\n",
              "Bagcinele                                        12.0\n",
              "Gcinimiyalo                                       9.0\n",
              "Muzi                                              5.0\n",
              "Sihle                                             4.0\n",
              "Kwanele                                           4.0\n",
              "Zack                                              4.0\n",
              "Thelumusa                                         3.0"
            ]
          },
          "metadata": {},
          "execution_count": 19
        }
      ]
    },
    {
      "cell_type": "code",
      "metadata": {
        "colab": {
          "base_uri": "https://localhost:8080/",
          "height": 607
        },
        "id": "FxTnCyA-EonQ",
        "outputId": "a6969565-5620-48d5-dff6-72e2a534b3d0"
      },
      "source": [
        "ultimate = hubbers.merge(d200, right_index=True, left_index=True)\n",
        "ultimate"
      ],
      "execution_count": null,
      "outputs": [
        {
          "output_type": "execute_result",
          "data": {
            "text/html": [
              "<div>\n",
              "<style scoped>\n",
              "    .dataframe tbody tr th:only-of-type {\n",
              "        vertical-align: middle;\n",
              "    }\n",
              "\n",
              "    .dataframe tbody tr th {\n",
              "        vertical-align: top;\n",
              "    }\n",
              "\n",
              "    .dataframe thead th {\n",
              "        text-align: right;\n",
              "    }\n",
              "</style>\n",
              "<table border=\"1\" class=\"dataframe\">\n",
              "  <thead>\n",
              "    <tr style=\"text-align: right;\">\n",
              "      <th></th>\n",
              "      <th>Number of hub visits</th>\n",
              "      <th>How many hours will you be putting in?</th>\n",
              "    </tr>\n",
              "  </thead>\n",
              "  <tbody>\n",
              "    <tr>\n",
              "      <th>José</th>\n",
              "      <td>7</td>\n",
              "      <td>86.5</td>\n",
              "    </tr>\n",
              "    <tr>\n",
              "      <th>Simanga</th>\n",
              "      <td>4</td>\n",
              "      <td>25.0</td>\n",
              "    </tr>\n",
              "    <tr>\n",
              "      <th>Lungelo</th>\n",
              "      <td>4</td>\n",
              "      <td>31.0</td>\n",
              "    </tr>\n",
              "    <tr>\n",
              "      <th>Bafana</th>\n",
              "      <td>4</td>\n",
              "      <td>24.5</td>\n",
              "    </tr>\n",
              "    <tr>\n",
              "      <th>Fanelesibonge</th>\n",
              "      <td>4</td>\n",
              "      <td>52.0</td>\n",
              "    </tr>\n",
              "    <tr>\n",
              "      <th>Sibahle</th>\n",
              "      <td>4</td>\n",
              "      <td>40.0</td>\n",
              "    </tr>\n",
              "    <tr>\n",
              "      <th>Mzwandile</th>\n",
              "      <td>4</td>\n",
              "      <td>16.0</td>\n",
              "    </tr>\n",
              "    <tr>\n",
              "      <th>Tiyandza</th>\n",
              "      <td>3</td>\n",
              "      <td>17.0</td>\n",
              "    </tr>\n",
              "    <tr>\n",
              "      <th>Mlungisi</th>\n",
              "      <td>3</td>\n",
              "      <td>16.0</td>\n",
              "    </tr>\n",
              "    <tr>\n",
              "      <th>Muzi</th>\n",
              "      <td>3</td>\n",
              "      <td>5.0</td>\n",
              "    </tr>\n",
              "    <tr>\n",
              "      <th>Sabelo</th>\n",
              "      <td>2</td>\n",
              "      <td>15.0</td>\n",
              "    </tr>\n",
              "    <tr>\n",
              "      <th>Bagcinele</th>\n",
              "      <td>2</td>\n",
              "      <td>12.0</td>\n",
              "    </tr>\n",
              "    <tr>\n",
              "      <th>Gcinimiyalo</th>\n",
              "      <td>2</td>\n",
              "      <td>9.0</td>\n",
              "    </tr>\n",
              "    <tr>\n",
              "      <th>Sihle</th>\n",
              "      <td>1</td>\n",
              "      <td>4.0</td>\n",
              "    </tr>\n",
              "    <tr>\n",
              "      <th>Zack</th>\n",
              "      <td>1</td>\n",
              "      <td>4.0</td>\n",
              "    </tr>\n",
              "    <tr>\n",
              "      <th>Sikhulile</th>\n",
              "      <td>1</td>\n",
              "      <td>48.0</td>\n",
              "    </tr>\n",
              "    <tr>\n",
              "      <th>Thelumusa</th>\n",
              "      <td>1</td>\n",
              "      <td>3.0</td>\n",
              "    </tr>\n",
              "    <tr>\n",
              "      <th>Kwanele</th>\n",
              "      <td>1</td>\n",
              "      <td>4.0</td>\n",
              "    </tr>\n",
              "  </tbody>\n",
              "</table>\n",
              "</div>"
            ],
            "text/plain": [
              "               Number of hub visits  How many hours will you be putting in?\n",
              "José                              7                                    86.5\n",
              "Simanga                           4                                    25.0\n",
              "Lungelo                           4                                    31.0\n",
              "Bafana                            4                                    24.5\n",
              "Fanelesibonge                     4                                    52.0\n",
              "Sibahle                           4                                    40.0\n",
              "Mzwandile                         4                                    16.0\n",
              "Tiyandza                          3                                    17.0\n",
              "Mlungisi                          3                                    16.0\n",
              "Muzi                              3                                     5.0\n",
              "Sabelo                            2                                    15.0\n",
              "Bagcinele                         2                                    12.0\n",
              "Gcinimiyalo                       2                                     9.0\n",
              "Sihle                             1                                     4.0\n",
              "Zack                              1                                     4.0\n",
              "Sikhulile                         1                                    48.0\n",
              "Thelumusa                         1                                     3.0\n",
              "Kwanele                           1                                     4.0"
            ]
          },
          "metadata": {},
          "execution_count": 22
        }
      ]
    },
    {
      "cell_type": "code",
      "metadata": {
        "colab": {
          "base_uri": "https://localhost:8080/",
          "height": 235
        },
        "id": "QKBBJAXyUGGP",
        "outputId": "61996ce9-8992-4efa-d561-a4c252608b5e"
      },
      "source": [
        "ultimate1 = df7.merge(d15, right_index=True, left_index=True)\n",
        "ultimate1"
      ],
      "execution_count": null,
      "outputs": [
        {
          "output_type": "execute_result",
          "data": {
            "text/html": [
              "<div>\n",
              "<style scoped>\n",
              "    .dataframe tbody tr th:only-of-type {\n",
              "        vertical-align: middle;\n",
              "    }\n",
              "\n",
              "    .dataframe tbody tr th {\n",
              "        vertical-align: top;\n",
              "    }\n",
              "\n",
              "    .dataframe thead th {\n",
              "        text-align: right;\n",
              "    }\n",
              "</style>\n",
              "<table border=\"1\" class=\"dataframe\">\n",
              "  <thead>\n",
              "    <tr style=\"text-align: right;\">\n",
              "      <th></th>\n",
              "      <th>Number of hub visits</th>\n",
              "      <th>How many hours will you be putting in?</th>\n",
              "    </tr>\n",
              "  </thead>\n",
              "  <tbody>\n",
              "    <tr>\n",
              "      <th>Freelancer</th>\n",
              "      <td>19</td>\n",
              "      <td>140.0</td>\n",
              "    </tr>\n",
              "    <tr>\n",
              "      <th>Kingdom XLR</th>\n",
              "      <td>11</td>\n",
              "      <td>85.0</td>\n",
              "    </tr>\n",
              "    <tr>\n",
              "      <th>Ummo</th>\n",
              "      <td>11</td>\n",
              "      <td>126.5</td>\n",
              "    </tr>\n",
              "    <tr>\n",
              "      <th>Snowsen</th>\n",
              "      <td>7</td>\n",
              "      <td>41.5</td>\n",
              "    </tr>\n",
              "    <tr>\n",
              "      <th>SV Tech</th>\n",
              "      <td>2</td>\n",
              "      <td>15.0</td>\n",
              "    </tr>\n",
              "    <tr>\n",
              "      <th>Vundzisa</th>\n",
              "      <td>1</td>\n",
              "      <td>4.0</td>\n",
              "    </tr>\n",
              "  </tbody>\n",
              "</table>\n",
              "</div>"
            ],
            "text/plain": [
              "             Number of hub visits  How many hours will you be putting in?\n",
              "Freelancer                     19                                   140.0\n",
              "Kingdom XLR                    11                                    85.0\n",
              "Ummo                           11                                   126.5\n",
              "Snowsen                         7                                    41.5\n",
              "SV Tech                         2                                    15.0\n",
              "Vundzisa                        1                                     4.0"
            ]
          },
          "metadata": {},
          "execution_count": 27
        }
      ]
    },
    {
      "cell_type": "code",
      "metadata": {
        "id": "0u49mUc6TNRj"
      },
      "source": [
        "#df1['Time Duration(hrs)'] = abs(df1['Time Duration(hrs)'])\n",
        "d15 = df1[['What company do you work for?', 'How many hours will you be putting in?']]\n",
        "d15 = d15.groupby(['What company do you work for?'], as_index=False).sum()\n",
        "d15 = d15.set_index(['What company do you work for?']).sort_values(['How many hours will you be putting in?'], ascending=False)"
      ],
      "execution_count": null,
      "outputs": []
    },
    {
      "cell_type": "markdown",
      "metadata": {
        "id": "v_TctWzGPD6t"
      },
      "source": [
        "Below is hub activity for the past week"
      ]
    },
    {
      "cell_type": "code",
      "metadata": {
        "colab": {
          "base_uri": "https://localhost:8080/",
          "height": 638
        },
        "id": "_-IwZ91Us-QP",
        "outputId": "4e85d4bf-6926-4ece-e21f-c1f22e87639d"
      },
      "source": [
        "df2 = df1['What are you working on today?']\n",
        "splitting_columns = lambda x: pd.Series([i for i in reversed(x.split(','))])\n",
        "df2 = df2.apply(splitting_columns)\n",
        "df2['First Name'] = df1['First Name']\n",
        "cols = df2.columns.tolist()\n",
        "cols = cols[-1:] + cols[:-1]\n",
        "df2 = df2[cols]\n",
        "df2[0] = df2[0].str.strip()\n",
        "df2[1] = df2[1].str.strip()\n",
        "df2[2] = df2[2].str.strip()\n",
        "df3 = df2[0].append(df2[1], ignore_index=False)\n",
        "df4 = df3.append(df2[2], ignore_index=False)\n",
        "df4 = df4.to_frame()\n",
        "df4['First Name'] = df1['First Name']\n",
        "df4 = df4.dropna()\n",
        "#df4 = df4.groupby(['First Name'], as_index=False)\n",
        "#df5 = df4.value_counts(dropna=True).to_frame()\n",
        "#df5.columns = ['count']\n",
        "d20 = df4.groupby(['First Name'])[0].apply(lambda x: x[x.str.contains('Company Work')].count())\n",
        "d20 = d20.to_frame()\n",
        "d20.columns = ['Company Work']\n",
        "d21 = df4.groupby(['First Name'])[0].apply(lambda x: x[x.str.contains('Academic Work')].count())\n",
        "d21 = d21.to_frame()\n",
        "d21.columns = ['Academic Work']\n",
        "d22 = df4.groupby(['First Name'])[0].apply(lambda x: x[x.str.contains('Research')].count())\n",
        "d22 = d22.to_frame()\n",
        "d22.columns = ['Research']\n",
        "d23 = df4.groupby(['First Name'])[0].apply(lambda x: x[x.str.contains('Coding')].count())\n",
        "d23 = d23.to_frame()\n",
        "d23.columns = ['Coding']\n",
        "d24 = df4.groupby(['First Name'])[0].apply(lambda x: x[x.str.contains('Meeting')].count())\n",
        "d24 = d24.to_frame()\n",
        "d24.columns = ['Meeting']\n",
        "d25 = df4.groupby(['First Name'])[0].apply(lambda x: x[x.str.contains('Content & Creativity')].count())\n",
        "d25 = d25.to_frame()\n",
        "d25.columns = ['Content & Creativity']\n",
        "d30 = d20.merge(d21, right_index=True, left_index=True)\n",
        "d31 = d30.merge(d22, right_index=True, left_index=True)\n",
        "d32 = d31.merge(d23, right_index=True, left_index=True)\n",
        "d33 = d32.merge(d24, right_index=True, left_index=True)\n",
        "d34 = d33.merge(d25, right_index=True, left_index=True)\n",
        "d34"
      ],
      "execution_count": null,
      "outputs": [
        {
          "output_type": "execute_result",
          "data": {
            "text/html": [
              "<div>\n",
              "<style scoped>\n",
              "    .dataframe tbody tr th:only-of-type {\n",
              "        vertical-align: middle;\n",
              "    }\n",
              "\n",
              "    .dataframe tbody tr th {\n",
              "        vertical-align: top;\n",
              "    }\n",
              "\n",
              "    .dataframe thead th {\n",
              "        text-align: right;\n",
              "    }\n",
              "</style>\n",
              "<table border=\"1\" class=\"dataframe\">\n",
              "  <thead>\n",
              "    <tr style=\"text-align: right;\">\n",
              "      <th></th>\n",
              "      <th>Company Work</th>\n",
              "      <th>Academic Work</th>\n",
              "      <th>Research</th>\n",
              "      <th>Coding</th>\n",
              "      <th>Meeting</th>\n",
              "      <th>Content &amp; Creativity</th>\n",
              "    </tr>\n",
              "    <tr>\n",
              "      <th>First Name</th>\n",
              "      <th></th>\n",
              "      <th></th>\n",
              "      <th></th>\n",
              "      <th></th>\n",
              "      <th></th>\n",
              "      <th></th>\n",
              "    </tr>\n",
              "  </thead>\n",
              "  <tbody>\n",
              "    <tr>\n",
              "      <th>Bafana</th>\n",
              "      <td>1</td>\n",
              "      <td>0</td>\n",
              "      <td>0</td>\n",
              "      <td>2</td>\n",
              "      <td>0</td>\n",
              "      <td>4</td>\n",
              "    </tr>\n",
              "    <tr>\n",
              "      <th>Bagcinele</th>\n",
              "      <td>0</td>\n",
              "      <td>0</td>\n",
              "      <td>2</td>\n",
              "      <td>0</td>\n",
              "      <td>0</td>\n",
              "      <td>0</td>\n",
              "    </tr>\n",
              "    <tr>\n",
              "      <th>Fanelesibonge</th>\n",
              "      <td>4</td>\n",
              "      <td>0</td>\n",
              "      <td>0</td>\n",
              "      <td>4</td>\n",
              "      <td>0</td>\n",
              "      <td>0</td>\n",
              "    </tr>\n",
              "    <tr>\n",
              "      <th>Gcinimiyalo</th>\n",
              "      <td>0</td>\n",
              "      <td>0</td>\n",
              "      <td>0</td>\n",
              "      <td>0</td>\n",
              "      <td>0</td>\n",
              "      <td>2</td>\n",
              "    </tr>\n",
              "    <tr>\n",
              "      <th>José</th>\n",
              "      <td>6</td>\n",
              "      <td>0</td>\n",
              "      <td>5</td>\n",
              "      <td>7</td>\n",
              "      <td>2</td>\n",
              "      <td>0</td>\n",
              "    </tr>\n",
              "    <tr>\n",
              "      <th>Kwanele</th>\n",
              "      <td>1</td>\n",
              "      <td>0</td>\n",
              "      <td>0</td>\n",
              "      <td>0</td>\n",
              "      <td>0</td>\n",
              "      <td>0</td>\n",
              "    </tr>\n",
              "    <tr>\n",
              "      <th>Lungelo</th>\n",
              "      <td>0</td>\n",
              "      <td>0</td>\n",
              "      <td>3</td>\n",
              "      <td>3</td>\n",
              "      <td>0</td>\n",
              "      <td>0</td>\n",
              "    </tr>\n",
              "    <tr>\n",
              "      <th>Mlungisi</th>\n",
              "      <td>0</td>\n",
              "      <td>0</td>\n",
              "      <td>3</td>\n",
              "      <td>0</td>\n",
              "      <td>0</td>\n",
              "      <td>0</td>\n",
              "    </tr>\n",
              "    <tr>\n",
              "      <th>Muzi</th>\n",
              "      <td>0</td>\n",
              "      <td>0</td>\n",
              "      <td>0</td>\n",
              "      <td>0</td>\n",
              "      <td>1</td>\n",
              "      <td>2</td>\n",
              "    </tr>\n",
              "    <tr>\n",
              "      <th>Mzwandile</th>\n",
              "      <td>2</td>\n",
              "      <td>0</td>\n",
              "      <td>1</td>\n",
              "      <td>0</td>\n",
              "      <td>1</td>\n",
              "      <td>3</td>\n",
              "    </tr>\n",
              "    <tr>\n",
              "      <th>Sabelo</th>\n",
              "      <td>2</td>\n",
              "      <td>0</td>\n",
              "      <td>0</td>\n",
              "      <td>0</td>\n",
              "      <td>0</td>\n",
              "      <td>0</td>\n",
              "    </tr>\n",
              "    <tr>\n",
              "      <th>Sibahle</th>\n",
              "      <td>3</td>\n",
              "      <td>4</td>\n",
              "      <td>4</td>\n",
              "      <td>0</td>\n",
              "      <td>0</td>\n",
              "      <td>0</td>\n",
              "    </tr>\n",
              "    <tr>\n",
              "      <th>Sihle</th>\n",
              "      <td>0</td>\n",
              "      <td>0</td>\n",
              "      <td>1</td>\n",
              "      <td>0</td>\n",
              "      <td>1</td>\n",
              "      <td>0</td>\n",
              "    </tr>\n",
              "    <tr>\n",
              "      <th>Sikhulile</th>\n",
              "      <td>1</td>\n",
              "      <td>0</td>\n",
              "      <td>0</td>\n",
              "      <td>0</td>\n",
              "      <td>0</td>\n",
              "      <td>0</td>\n",
              "    </tr>\n",
              "    <tr>\n",
              "      <th>Simanga</th>\n",
              "      <td>0</td>\n",
              "      <td>0</td>\n",
              "      <td>1</td>\n",
              "      <td>0</td>\n",
              "      <td>0</td>\n",
              "      <td>4</td>\n",
              "    </tr>\n",
              "    <tr>\n",
              "      <th>Thelumusa</th>\n",
              "      <td>0</td>\n",
              "      <td>0</td>\n",
              "      <td>1</td>\n",
              "      <td>0</td>\n",
              "      <td>0</td>\n",
              "      <td>0</td>\n",
              "    </tr>\n",
              "    <tr>\n",
              "      <th>Tiyandza</th>\n",
              "      <td>3</td>\n",
              "      <td>0</td>\n",
              "      <td>0</td>\n",
              "      <td>0</td>\n",
              "      <td>0</td>\n",
              "      <td>2</td>\n",
              "    </tr>\n",
              "    <tr>\n",
              "      <th>Zack</th>\n",
              "      <td>0</td>\n",
              "      <td>0</td>\n",
              "      <td>0</td>\n",
              "      <td>0</td>\n",
              "      <td>0</td>\n",
              "      <td>1</td>\n",
              "    </tr>\n",
              "  </tbody>\n",
              "</table>\n",
              "</div>"
            ],
            "text/plain": [
              "               Company Work  Academic Work  ...  Meeting  Content & Creativity\n",
              "First Name                                  ...                               \n",
              "Bafana                    1              0  ...        0                     4\n",
              "Bagcinele                 0              0  ...        0                     0\n",
              "Fanelesibonge             4              0  ...        0                     0\n",
              "Gcinimiyalo               0              0  ...        0                     2\n",
              "José                      6              0  ...        2                     0\n",
              "Kwanele                   1              0  ...        0                     0\n",
              "Lungelo                   0              0  ...        0                     0\n",
              "Mlungisi                  0              0  ...        0                     0\n",
              "Muzi                      0              0  ...        1                     2\n",
              "Mzwandile                 2              0  ...        1                     3\n",
              "Sabelo                    2              0  ...        0                     0\n",
              "Sibahle                   3              4  ...        0                     0\n",
              "Sihle                     0              0  ...        1                     0\n",
              "Sikhulile                 1              0  ...        0                     0\n",
              "Simanga                   0              0  ...        0                     4\n",
              "Thelumusa                 0              0  ...        0                     0\n",
              "Tiyandza                  3              0  ...        0                     2\n",
              "Zack                      0              0  ...        0                     1\n",
              "\n",
              "[18 rows x 6 columns]"
            ]
          },
          "metadata": {},
          "execution_count": 29
        }
      ]
    },
    {
      "cell_type": "markdown",
      "metadata": {
        "id": "K9aEY1uLENi6"
      },
      "source": [
        "Below is hub equipment use this past week"
      ]
    },
    {
      "cell_type": "code",
      "metadata": {
        "colab": {
          "base_uri": "https://localhost:8080/",
          "height": 638
        },
        "id": "mBKBb4cRPCcD",
        "outputId": "9790f0eb-b104-4cc7-c29a-395a5c7bc621"
      },
      "source": [
        "df100 = df1['What equipment will you use?']\n",
        "splitting_columns = lambda x: pd.Series([i for i in reversed(x.split(','))])\n",
        "df100 = df100.apply(splitting_columns)\n",
        "df100['First Name'] = df1['First Name']\n",
        "cols = df100.columns.tolist()\n",
        "cols = cols[-1:] + cols[:-1]\n",
        "df100 = df100[cols]\n",
        "df100[0] = df100[0].str.strip()\n",
        "df100[1] = df100[1].str.strip()\n",
        "df100[2] = df100[2].str.strip()\n",
        "df100[3] = df100[3].str.strip()\n",
        "df101 = df100[0].append(df100[1], ignore_index=False)\n",
        "df102 = df101.append(df100[2], ignore_index=False)\n",
        "df103 = df102.append(df100[3], ignore_index=False)\n",
        "df103 = df103.to_frame()\n",
        "df103['First Name'] = df1['First Name']\n",
        "df103 = df103.dropna()\n",
        "#df103 = df103.groupby(['First Name'], as_index=False)\n",
        "#df104 = df103.value_counts(dropna=True).to_frame()\n",
        "#df104.columns = ['count']\n",
        "d40 = df103.groupby(['First Name'])[0].apply(lambda x: x[x.str.contains('Mac Workstation')].count())\n",
        "d40 = d40.to_frame()\n",
        "d40.columns = ['Mac Workstation']\n",
        "d41 = df103.groupby(['First Name'])[0].apply(lambda x: x[x.str.contains('PC Workstation')].count())\n",
        "d41 = d41.to_frame()\n",
        "d41.columns = ['PC Workstation']\n",
        "d42 = df103.groupby(['First Name'])[0].apply(lambda x: x[x.str.contains('Keyboard')].count())\n",
        "d42 = d42.to_frame()\n",
        "d42.columns = ['Keyboard']\n",
        "d43 = df103.groupby(['First Name'])[0].apply(lambda x: x[x.str.contains('Mouse')].count())\n",
        "d43 = d43.to_frame()\n",
        "d43.columns = ['Mouse']\n",
        "d44 = df103.groupby(['First Name'])[0].apply(lambda x: x[x.str.contains('Monitor')].count())\n",
        "d44 = d44.to_frame()\n",
        "d44.columns = ['Monitor']\n",
        "d45 = df103.groupby(['First Name'])[0].apply(lambda x: x[x.str.contains('Camera')].count())\n",
        "d45 = d45.to_frame()\n",
        "d45.columns = ['Camera']\n",
        "d46 = df103.groupby(['First Name'])[0].apply(lambda x: x[x.str.contains('Projector')].count())\n",
        "d46 = d46.to_frame()\n",
        "d46.columns = ['Projector']\n",
        "d47 = df103.groupby(['First Name'])[0].apply(lambda x: x[x.str.contains('Brought my own workstation')].count())\n",
        "d47 = d47.to_frame()\n",
        "d47.columns = ['Brought my own workstation']\n",
        "d48 = df103.groupby(['First Name'])[0].apply(lambda x: x[x.str.contains('Audio Box')].count())\n",
        "d48 = d48.to_frame()\n",
        "d48.columns = ['Audio Box']\n",
        "d100 = d40.merge(d41, right_index=True, left_index=True)\n",
        "d101 = d100.merge(d42, right_index=True, left_index=True)\n",
        "d102 = d101.merge(d43, right_index=True, left_index=True)\n",
        "d103 = d102.merge(d44, right_index=True, left_index=True)\n",
        "d104 = d103.merge(d45, right_index=True, left_index=True)\n",
        "d105 = d104.merge(d46, right_index=True, left_index=True)\n",
        "d106 = d105.merge(d47, right_index=True, left_index=True)\n",
        "d107 = d106.merge(d48, right_index=True, left_index=True)\n",
        "d107"
      ],
      "execution_count": null,
      "outputs": [
        {
          "output_type": "execute_result",
          "data": {
            "text/html": [
              "<div>\n",
              "<style scoped>\n",
              "    .dataframe tbody tr th:only-of-type {\n",
              "        vertical-align: middle;\n",
              "    }\n",
              "\n",
              "    .dataframe tbody tr th {\n",
              "        vertical-align: top;\n",
              "    }\n",
              "\n",
              "    .dataframe thead th {\n",
              "        text-align: right;\n",
              "    }\n",
              "</style>\n",
              "<table border=\"1\" class=\"dataframe\">\n",
              "  <thead>\n",
              "    <tr style=\"text-align: right;\">\n",
              "      <th></th>\n",
              "      <th>Mac Workstation</th>\n",
              "      <th>PC Workstation</th>\n",
              "      <th>Keyboard</th>\n",
              "      <th>Mouse</th>\n",
              "      <th>Monitor</th>\n",
              "      <th>Camera</th>\n",
              "      <th>Projector</th>\n",
              "      <th>Brought my own workstation</th>\n",
              "      <th>Audio Box</th>\n",
              "    </tr>\n",
              "    <tr>\n",
              "      <th>First Name</th>\n",
              "      <th></th>\n",
              "      <th></th>\n",
              "      <th></th>\n",
              "      <th></th>\n",
              "      <th></th>\n",
              "      <th></th>\n",
              "      <th></th>\n",
              "      <th></th>\n",
              "      <th></th>\n",
              "    </tr>\n",
              "  </thead>\n",
              "  <tbody>\n",
              "    <tr>\n",
              "      <th>Bafana</th>\n",
              "      <td>0</td>\n",
              "      <td>4</td>\n",
              "      <td>4</td>\n",
              "      <td>4</td>\n",
              "      <td>4</td>\n",
              "      <td>0</td>\n",
              "      <td>0</td>\n",
              "      <td>0</td>\n",
              "      <td>0</td>\n",
              "    </tr>\n",
              "    <tr>\n",
              "      <th>Bagcinele</th>\n",
              "      <td>2</td>\n",
              "      <td>0</td>\n",
              "      <td>0</td>\n",
              "      <td>0</td>\n",
              "      <td>0</td>\n",
              "      <td>0</td>\n",
              "      <td>0</td>\n",
              "      <td>0</td>\n",
              "      <td>0</td>\n",
              "    </tr>\n",
              "    <tr>\n",
              "      <th>Fanelesibonge</th>\n",
              "      <td>0</td>\n",
              "      <td>0</td>\n",
              "      <td>0</td>\n",
              "      <td>0</td>\n",
              "      <td>0</td>\n",
              "      <td>0</td>\n",
              "      <td>0</td>\n",
              "      <td>4</td>\n",
              "      <td>0</td>\n",
              "    </tr>\n",
              "    <tr>\n",
              "      <th>Gcinimiyalo</th>\n",
              "      <td>2</td>\n",
              "      <td>0</td>\n",
              "      <td>0</td>\n",
              "      <td>0</td>\n",
              "      <td>0</td>\n",
              "      <td>0</td>\n",
              "      <td>0</td>\n",
              "      <td>0</td>\n",
              "      <td>0</td>\n",
              "    </tr>\n",
              "    <tr>\n",
              "      <th>José</th>\n",
              "      <td>7</td>\n",
              "      <td>0</td>\n",
              "      <td>0</td>\n",
              "      <td>0</td>\n",
              "      <td>0</td>\n",
              "      <td>0</td>\n",
              "      <td>0</td>\n",
              "      <td>0</td>\n",
              "      <td>0</td>\n",
              "    </tr>\n",
              "    <tr>\n",
              "      <th>Kwanele</th>\n",
              "      <td>0</td>\n",
              "      <td>0</td>\n",
              "      <td>0</td>\n",
              "      <td>0</td>\n",
              "      <td>0</td>\n",
              "      <td>0</td>\n",
              "      <td>0</td>\n",
              "      <td>1</td>\n",
              "      <td>0</td>\n",
              "    </tr>\n",
              "    <tr>\n",
              "      <th>Lungelo</th>\n",
              "      <td>0</td>\n",
              "      <td>0</td>\n",
              "      <td>4</td>\n",
              "      <td>0</td>\n",
              "      <td>0</td>\n",
              "      <td>0</td>\n",
              "      <td>0</td>\n",
              "      <td>4</td>\n",
              "      <td>0</td>\n",
              "    </tr>\n",
              "    <tr>\n",
              "      <th>Mlungisi</th>\n",
              "      <td>0</td>\n",
              "      <td>0</td>\n",
              "      <td>0</td>\n",
              "      <td>0</td>\n",
              "      <td>0</td>\n",
              "      <td>0</td>\n",
              "      <td>0</td>\n",
              "      <td>3</td>\n",
              "      <td>0</td>\n",
              "    </tr>\n",
              "    <tr>\n",
              "      <th>Muzi</th>\n",
              "      <td>0</td>\n",
              "      <td>0</td>\n",
              "      <td>1</td>\n",
              "      <td>1</td>\n",
              "      <td>0</td>\n",
              "      <td>0</td>\n",
              "      <td>0</td>\n",
              "      <td>2</td>\n",
              "      <td>3</td>\n",
              "    </tr>\n",
              "    <tr>\n",
              "      <th>Mzwandile</th>\n",
              "      <td>3</td>\n",
              "      <td>0</td>\n",
              "      <td>1</td>\n",
              "      <td>2</td>\n",
              "      <td>1</td>\n",
              "      <td>0</td>\n",
              "      <td>0</td>\n",
              "      <td>0</td>\n",
              "      <td>1</td>\n",
              "    </tr>\n",
              "    <tr>\n",
              "      <th>Sabelo</th>\n",
              "      <td>0</td>\n",
              "      <td>0</td>\n",
              "      <td>0</td>\n",
              "      <td>0</td>\n",
              "      <td>2</td>\n",
              "      <td>0</td>\n",
              "      <td>0</td>\n",
              "      <td>0</td>\n",
              "      <td>0</td>\n",
              "    </tr>\n",
              "    <tr>\n",
              "      <th>Sibahle</th>\n",
              "      <td>4</td>\n",
              "      <td>0</td>\n",
              "      <td>0</td>\n",
              "      <td>0</td>\n",
              "      <td>0</td>\n",
              "      <td>0</td>\n",
              "      <td>0</td>\n",
              "      <td>0</td>\n",
              "      <td>0</td>\n",
              "    </tr>\n",
              "    <tr>\n",
              "      <th>Sihle</th>\n",
              "      <td>0</td>\n",
              "      <td>0</td>\n",
              "      <td>0</td>\n",
              "      <td>0</td>\n",
              "      <td>0</td>\n",
              "      <td>0</td>\n",
              "      <td>0</td>\n",
              "      <td>1</td>\n",
              "      <td>0</td>\n",
              "    </tr>\n",
              "    <tr>\n",
              "      <th>Sikhulile</th>\n",
              "      <td>0</td>\n",
              "      <td>0</td>\n",
              "      <td>1</td>\n",
              "      <td>1</td>\n",
              "      <td>1</td>\n",
              "      <td>0</td>\n",
              "      <td>0</td>\n",
              "      <td>1</td>\n",
              "      <td>0</td>\n",
              "    </tr>\n",
              "    <tr>\n",
              "      <th>Simanga</th>\n",
              "      <td>4</td>\n",
              "      <td>0</td>\n",
              "      <td>0</td>\n",
              "      <td>0</td>\n",
              "      <td>0</td>\n",
              "      <td>0</td>\n",
              "      <td>0</td>\n",
              "      <td>0</td>\n",
              "      <td>0</td>\n",
              "    </tr>\n",
              "    <tr>\n",
              "      <th>Thelumusa</th>\n",
              "      <td>0</td>\n",
              "      <td>0</td>\n",
              "      <td>0</td>\n",
              "      <td>0</td>\n",
              "      <td>0</td>\n",
              "      <td>0</td>\n",
              "      <td>0</td>\n",
              "      <td>1</td>\n",
              "      <td>1</td>\n",
              "    </tr>\n",
              "    <tr>\n",
              "      <th>Tiyandza</th>\n",
              "      <td>0</td>\n",
              "      <td>3</td>\n",
              "      <td>3</td>\n",
              "      <td>3</td>\n",
              "      <td>3</td>\n",
              "      <td>0</td>\n",
              "      <td>0</td>\n",
              "      <td>0</td>\n",
              "      <td>0</td>\n",
              "    </tr>\n",
              "    <tr>\n",
              "      <th>Zack</th>\n",
              "      <td>0</td>\n",
              "      <td>1</td>\n",
              "      <td>0</td>\n",
              "      <td>0</td>\n",
              "      <td>0</td>\n",
              "      <td>0</td>\n",
              "      <td>0</td>\n",
              "      <td>0</td>\n",
              "      <td>0</td>\n",
              "    </tr>\n",
              "  </tbody>\n",
              "</table>\n",
              "</div>"
            ],
            "text/plain": [
              "               Mac Workstation  ...  Audio Box\n",
              "First Name                      ...           \n",
              "Bafana                       0  ...          0\n",
              "Bagcinele                    2  ...          0\n",
              "Fanelesibonge                0  ...          0\n",
              "Gcinimiyalo                  2  ...          0\n",
              "José                         7  ...          0\n",
              "Kwanele                      0  ...          0\n",
              "Lungelo                      0  ...          0\n",
              "Mlungisi                     0  ...          0\n",
              "Muzi                         0  ...          3\n",
              "Mzwandile                    3  ...          1\n",
              "Sabelo                       0  ...          0\n",
              "Sibahle                      4  ...          0\n",
              "Sihle                        0  ...          0\n",
              "Sikhulile                    0  ...          0\n",
              "Simanga                      4  ...          0\n",
              "Thelumusa                    0  ...          1\n",
              "Tiyandza                     0  ...          0\n",
              "Zack                         0  ...          0\n",
              "\n",
              "[18 rows x 9 columns]"
            ]
          },
          "metadata": {},
          "execution_count": 31
        }
      ]
    },
    {
      "cell_type": "markdown",
      "metadata": {
        "id": "tQUZSsxU9otM"
      },
      "source": [
        "# Historical Analysis"
      ]
    },
    {
      "cell_type": "code",
      "metadata": {
        "colab": {
          "base_uri": "https://localhost:8080/",
          "height": 469
        },
        "id": "IHZBhhbdB3jw",
        "outputId": "6152796a-48e6-4d64-c949-00e3fd01fabd"
      },
      "source": [
        "e1 = df['What are you working on today?']\n",
        "splitting_columns = lambda x: pd.Series([i for i in reversed(x.split(','))])\n",
        "e1 = e1.apply(splitting_columns)\n",
        "e1[0] = e1[0].str.strip()\n",
        "e1[1] = e1[1].str.strip()\n",
        "e1[2] = e1[2].str.strip()\n",
        "e2 = e1[0].append(e1[1], ignore_index=True)\n",
        "e3 = e2.append(e1[2], ignore_index=True)\n",
        "hub_activity = e3.value_counts(dropna=True).to_frame()\n",
        "hub_activity.columns = ['Count']\n",
        "hub_activity = hub_activity.reset_index() \n",
        "hub_activity = hub_activity.rename(columns={'index':'Activity'})\n",
        "import matplotlib.pyplot as plt\n",
        "\n",
        "# Pie chart, where the slices will be ordered and plotted counter-clockwise:\n",
        "labels = hub_activity['Activity']\n",
        "sizes = hub_activity['Count']\n",
        "explode = (0, 0, 0, 0.1, 0, 0)  # only \"explode\" the 2nd slice (i.e. 'Hogs')\n",
        "\n",
        "fig1, ax1 = plt.subplots(figsize=(9, 8))\n",
        "ax1.pie(sizes, explode=explode, labels=labels, autopct='%1.1f%%',\n",
        "        shadow=True, startangle=90)\n",
        "ax1.axis('equal')  # Equal aspect ratio ensures that pie is drawn as a circle.\n",
        "\n",
        "plt.show()"
      ],
      "execution_count": null,
      "outputs": [
        {
          "output_type": "display_data",
          "data": {
            "image/png": "[encoded data removed]",
            "text/plain": [
              "<Figure size 648x576 with 1 Axes>"
            ]
          },
          "metadata": {
            "tags": []
          }
        }
      ]
    },
    {
      "cell_type": "code",
      "metadata": {
        "colab": {
          "base_uri": "https://localhost:8080/",
          "height": 235
        },
        "id": "9WbRwElTEgaX",
        "outputId": "ad3ae3b8-0ff8-4bcf-9af4-54883ccbfdf0"
      },
      "source": [
        "hub_activity"
      ],
      "execution_count": null,
      "outputs": [
        {
          "output_type": "execute_result",
          "data": {
            "text/html": [
              "<div>\n",
              "<style scoped>\n",
              "    .dataframe tbody tr th:only-of-type {\n",
              "        vertical-align: middle;\n",
              "    }\n",
              "\n",
              "    .dataframe tbody tr th {\n",
              "        vertical-align: top;\n",
              "    }\n",
              "\n",
              "    .dataframe thead th {\n",
              "        text-align: right;\n",
              "    }\n",
              "</style>\n",
              "<table border=\"1\" class=\"dataframe\">\n",
              "  <thead>\n",
              "    <tr style=\"text-align: right;\">\n",
              "      <th></th>\n",
              "      <th>Activity</th>\n",
              "      <th>Count</th>\n",
              "    </tr>\n",
              "  </thead>\n",
              "  <tbody>\n",
              "    <tr>\n",
              "      <th>0</th>\n",
              "      <td>Company Work</td>\n",
              "      <td>304</td>\n",
              "    </tr>\n",
              "    <tr>\n",
              "      <th>1</th>\n",
              "      <td>Content &amp; Creativity</td>\n",
              "      <td>127</td>\n",
              "    </tr>\n",
              "    <tr>\n",
              "      <th>2</th>\n",
              "      <td>Research</td>\n",
              "      <td>124</td>\n",
              "    </tr>\n",
              "    <tr>\n",
              "      <th>3</th>\n",
              "      <td>Coding</td>\n",
              "      <td>57</td>\n",
              "    </tr>\n",
              "    <tr>\n",
              "      <th>4</th>\n",
              "      <td>Academic Work</td>\n",
              "      <td>35</td>\n",
              "    </tr>\n",
              "    <tr>\n",
              "      <th>5</th>\n",
              "      <td>Meeting</td>\n",
              "      <td>29</td>\n",
              "    </tr>\n",
              "  </tbody>\n",
              "</table>\n",
              "</div>"
            ],
            "text/plain": [
              "               Activity  Count\n",
              "0          Company Work    304\n",
              "1  Content & Creativity    127\n",
              "2              Research    124\n",
              "3                Coding     57\n",
              "4         Academic Work     35\n",
              "5               Meeting     29"
            ]
          },
          "metadata": {
            "tags": []
          },
          "execution_count": 14
        }
      ]
    },
    {
      "cell_type": "code",
      "metadata": {
        "colab": {
          "base_uri": "https://localhost:8080/"
        },
        "id": "NYzoL-z8R1c_",
        "outputId": "3edf9ba0-7339-4403-ffe3-75d227b1d37c"
      },
      "source": [
        "df['First Name'] = df['First Name'].str.strip()\n",
        "total_number_signees = (df['First Name'].unique()).size\n",
        "df['First Name'].unique()"
      ],
      "execution_count": null,
      "outputs": [
        {
          "output_type": "execute_result",
          "data": {
            "text/plain": [
              "array(['Kwanele', 'José', 'Simanga', 'Sikhulile', 'Gcinimiyalo',\n",
              "       'Lungelo', 'Zack', 'Mzwandile', 'Sabelo', 'Sibusiso', 'Mlungisi',\n",
              "       'Percy', 'Mano', 'Bagcinele', 'Thobeka', 'Fanelesibonge',\n",
              "       'Ncobile', 'Nosifiso', 'Lihle', 'Nomalungelo', 'Sebenzile',\n",
              "       'Nombuso', 'Lwazi', 'Sibahle', 'Ayanda', 'Siphumelele', 'Muzi',\n",
              "       'Alex', 'Thandwa', 'Bafana', 'Jonathan', 'Fezile', 'Tiyandza',\n",
              "       'Lindinkosi', 'Maphila'], dtype=object)"
            ]
          },
          "metadata": {
            "tags": []
          },
          "execution_count": 17
        }
      ]
    },
    {
      "cell_type": "code",
      "metadata": {
        "colab": {
          "base_uri": "https://localhost:8080/",
          "height": 1000
        },
        "id": "tpjGmD4fJ_qS",
        "outputId": "529041e4-d776-4518-9c7d-96f0993b50f1"
      },
      "source": [
        "df['First Name'] = df['First Name'].replace('Sabelo S', 'Sabelo')\n",
        "df['First Name'] = df['First Name'].replace('Siphumelele Poestess', 'Siphumelele')\n",
        "df['First Name'] = df['First Name'].replace('Muzi Chaboy', 'Muzi')\n",
        "df['First Name'] = df['First Name'].replace('Snowsen Innovations', 'Bafana')\n",
        "df['First Name'] = df['First Name'].replace('Kwanele Prince', 'Kwanele')\n",
        "df['First Name'] = df['First Name'].replace('Tsabedze', 'Kwanele') \n",
        "e5 = df[['First Name', 'Time Duration(hrs)']]\n",
        "e5 = e5.groupby(['First Name'], as_index=False).sum()\n",
        "e5 = e5.set_index(['First Name']).sort_values(['Time Duration(hrs)'], ascending=False)\n",
        "e5"
      ],
      "execution_count": null,
      "outputs": [
        {
          "output_type": "execute_result",
          "data": {
            "text/html": [
              "<div>\n",
              "<style scoped>\n",
              "    .dataframe tbody tr th:only-of-type {\n",
              "        vertical-align: middle;\n",
              "    }\n",
              "\n",
              "    .dataframe tbody tr th {\n",
              "        vertical-align: top;\n",
              "    }\n",
              "\n",
              "    .dataframe thead th {\n",
              "        text-align: right;\n",
              "    }\n",
              "</style>\n",
              "<table border=\"1\" class=\"dataframe\">\n",
              "  <thead>\n",
              "    <tr style=\"text-align: right;\">\n",
              "      <th></th>\n",
              "      <th>Time Duration(hrs)</th>\n",
              "    </tr>\n",
              "    <tr>\n",
              "      <th>First Name</th>\n",
              "      <th></th>\n",
              "    </tr>\n",
              "  </thead>\n",
              "  <tbody>\n",
              "    <tr>\n",
              "      <th>José</th>\n",
              "      <td>1666.500000</td>\n",
              "    </tr>\n",
              "    <tr>\n",
              "      <th>Fanelesibonge</th>\n",
              "      <td>639.150000</td>\n",
              "    </tr>\n",
              "    <tr>\n",
              "      <th>Gcinimiyalo</th>\n",
              "      <td>434.283333</td>\n",
              "    </tr>\n",
              "    <tr>\n",
              "      <th>Lungelo</th>\n",
              "      <td>407.500000</td>\n",
              "    </tr>\n",
              "    <tr>\n",
              "      <th>Kwanele</th>\n",
              "      <td>293.466667</td>\n",
              "    </tr>\n",
              "    <tr>\n",
              "      <th>Thobeka</th>\n",
              "      <td>212.700000</td>\n",
              "    </tr>\n",
              "    <tr>\n",
              "      <th>Nombuso</th>\n",
              "      <td>190.083333</td>\n",
              "    </tr>\n",
              "    <tr>\n",
              "      <th>Zack</th>\n",
              "      <td>188.566667</td>\n",
              "    </tr>\n",
              "    <tr>\n",
              "      <th>Mlungisi</th>\n",
              "      <td>186.383333</td>\n",
              "    </tr>\n",
              "    <tr>\n",
              "      <th>Simanga</th>\n",
              "      <td>166.683333</td>\n",
              "    </tr>\n",
              "    <tr>\n",
              "      <th>Mzwandile</th>\n",
              "      <td>148.033333</td>\n",
              "    </tr>\n",
              "    <tr>\n",
              "      <th>Sabelo</th>\n",
              "      <td>124.833333</td>\n",
              "    </tr>\n",
              "    <tr>\n",
              "      <th>Bagcinele</th>\n",
              "      <td>97.000000</td>\n",
              "    </tr>\n",
              "    <tr>\n",
              "      <th>Bafana</th>\n",
              "      <td>87.116667</td>\n",
              "    </tr>\n",
              "    <tr>\n",
              "      <th>Sibahle</th>\n",
              "      <td>66.316667</td>\n",
              "    </tr>\n",
              "    <tr>\n",
              "      <th>Lwazi</th>\n",
              "      <td>47.516667</td>\n",
              "    </tr>\n",
              "    <tr>\n",
              "      <th>Sikhulile</th>\n",
              "      <td>47.250000</td>\n",
              "    </tr>\n",
              "    <tr>\n",
              "      <th>Sibusiso</th>\n",
              "      <td>36.500000</td>\n",
              "    </tr>\n",
              "    <tr>\n",
              "      <th>Tiyandza</th>\n",
              "      <td>30.633333</td>\n",
              "    </tr>\n",
              "    <tr>\n",
              "      <th>Nomalungelo</th>\n",
              "      <td>26.666667</td>\n",
              "    </tr>\n",
              "    <tr>\n",
              "      <th>Muzi</th>\n",
              "      <td>20.050000</td>\n",
              "    </tr>\n",
              "    <tr>\n",
              "      <th>Jonathan</th>\n",
              "      <td>19.916667</td>\n",
              "    </tr>\n",
              "    <tr>\n",
              "      <th>Alex</th>\n",
              "      <td>6.000000</td>\n",
              "    </tr>\n",
              "    <tr>\n",
              "      <th>Thandwa</th>\n",
              "      <td>5.716667</td>\n",
              "    </tr>\n",
              "    <tr>\n",
              "      <th>Percy</th>\n",
              "      <td>5.000000</td>\n",
              "    </tr>\n",
              "    <tr>\n",
              "      <th>Siphumelele</th>\n",
              "      <td>3.333333</td>\n",
              "    </tr>\n",
              "    <tr>\n",
              "      <th>Fezile</th>\n",
              "      <td>2.966667</td>\n",
              "    </tr>\n",
              "    <tr>\n",
              "      <th>Maphila</th>\n",
              "      <td>2.416667</td>\n",
              "    </tr>\n",
              "    <tr>\n",
              "      <th>Sebenzile</th>\n",
              "      <td>2.000000</td>\n",
              "    </tr>\n",
              "    <tr>\n",
              "      <th>Lihle</th>\n",
              "      <td>1.750000</td>\n",
              "    </tr>\n",
              "    <tr>\n",
              "      <th>Ncobile</th>\n",
              "      <td>1.416667</td>\n",
              "    </tr>\n",
              "    <tr>\n",
              "      <th>Lindinkosi</th>\n",
              "      <td>1.333333</td>\n",
              "    </tr>\n",
              "    <tr>\n",
              "      <th>Nosifiso</th>\n",
              "      <td>1.250000</td>\n",
              "    </tr>\n",
              "    <tr>\n",
              "      <th>Mano</th>\n",
              "      <td>1.166667</td>\n",
              "    </tr>\n",
              "    <tr>\n",
              "      <th>Ayanda</th>\n",
              "      <td>0.500000</td>\n",
              "    </tr>\n",
              "  </tbody>\n",
              "</table>\n",
              "</div>"
            ],
            "text/plain": [
              "               Time Duration(hrs)\n",
              "First Name                       \n",
              "José                  1666.500000\n",
              "Fanelesibonge          639.150000\n",
              "Gcinimiyalo            434.283333\n",
              "Lungelo                407.500000\n",
              "Kwanele                293.466667\n",
              "Thobeka                212.700000\n",
              "Nombuso                190.083333\n",
              "Zack                   188.566667\n",
              "Mlungisi               186.383333\n",
              "Simanga                166.683333\n",
              "Mzwandile              148.033333\n",
              "Sabelo                 124.833333\n",
              "Bagcinele               97.000000\n",
              "Bafana                  87.116667\n",
              "Sibahle                 66.316667\n",
              "Lwazi                   47.516667\n",
              "Sikhulile               47.250000\n",
              "Sibusiso                36.500000\n",
              "Tiyandza                30.633333\n",
              "Nomalungelo             26.666667\n",
              "Muzi                    20.050000\n",
              "Jonathan                19.916667\n",
              "Alex                     6.000000\n",
              "Thandwa                  5.716667\n",
              "Percy                    5.000000\n",
              "Siphumelele              3.333333\n",
              "Fezile                   2.966667\n",
              "Maphila                  2.416667\n",
              "Sebenzile                2.000000\n",
              "Lihle                    1.750000\n",
              "Ncobile                  1.416667\n",
              "Lindinkosi               1.333333\n",
              "Nosifiso                 1.250000\n",
              "Mano                     1.166667\n",
              "Ayanda                   0.500000"
            ]
          },
          "metadata": {
            "tags": []
          },
          "execution_count": 42
        }
      ]
    },
    {
      "cell_type": "code",
      "metadata": {
        "colab": {
          "base_uri": "https://localhost:8080/",
          "height": 576
        },
        "id": "uTzk2SRXLw_Z",
        "outputId": "a7eeff48-9fe3-498d-b2c0-baa3f3f68cc8"
      },
      "source": [
        "e7 = df['What equipment will you use?']\n",
        "e7 = e7.apply(splitting_columns)\n",
        "e7[0] = e7[0].str.strip()\n",
        "e7[1] = e7[1].str.strip()\n",
        "e7[2] = e7[2].str.strip()\n",
        "e7[3] = e7[3].str.strip()\n",
        "e8 = e7[0].append(e7[1], ignore_index=True)\n",
        "e9 = e8.append(e7[2], ignore_index=True)\n",
        "e10 = e9.append(e7[3], ignore_index=True)\n",
        "equipment_used_hist = e10.value_counts(dropna=True).to_frame()\n",
        "equipment_used_hist.columns = ['Count']\n",
        "equipment_used_hist = equipment_used_hist.reset_index() \n",
        "equipment_used_hist = equipment_used_hist.rename(columns={'index':'Equipment'})\n",
        "\n",
        "import matplotlib.pyplot as plt\n",
        "\n",
        "# Pie chart, where the slices will be ordered and plotted counter-clockwise:\n",
        "labels = equipment_used_hist['Equipment']\n",
        "sizes = equipment_used_hist['Count']\n",
        "explode = (0.1, 0, 0, 0.1, 0, 0.1, 0.2, 0.3)  # only \"explode\" the 2nd slice (i.e. 'Hogs')\n",
        "\n",
        "fig1, ax1 = plt.subplots(figsize=(11, 10))\n",
        "ax1.pie(sizes, explode=explode, labels=labels, autopct='%1.1f%%',\n",
        "        shadow=False, startangle=90)\n",
        "ax1.axis('equal')  # Equal aspect ratio ensures that pie is drawn as a circle.\n",
        "\n",
        "plt.show()"
      ],
      "execution_count": null,
      "outputs": [
        {
          "output_type": "display_data",
          "data": {
            "image/png": "[encoded data removed]",
            "text/plain": [
              "<Figure size 792x720 with 1 Axes>"
            ]
          },
          "metadata": {
            "tags": []
          }
        }
      ]
    },
    {
      "cell_type": "code",
      "metadata": {
        "colab": {
          "base_uri": "https://localhost:8080/",
          "height": 297
        },
        "id": "PigMg-VUabAw",
        "outputId": "e6fc56ad-23d4-45fd-fd5e-552eef9e9a28"
      },
      "source": [
        "equipment_used_hist['%'] = (equipment_used_hist['Count'] / equipment_used_hist['Count'].sum()).multiply(100)\n",
        "equipment_used_hist"
      ],
      "execution_count": null,
      "outputs": [
        {
          "output_type": "execute_result",
          "data": {
            "text/html": [
              "<div>\n",
              "<style scoped>\n",
              "    .dataframe tbody tr th:only-of-type {\n",
              "        vertical-align: middle;\n",
              "    }\n",
              "\n",
              "    .dataframe tbody tr th {\n",
              "        vertical-align: top;\n",
              "    }\n",
              "\n",
              "    .dataframe thead th {\n",
              "        text-align: right;\n",
              "    }\n",
              "</style>\n",
              "<table border=\"1\" class=\"dataframe\">\n",
              "  <thead>\n",
              "    <tr style=\"text-align: right;\">\n",
              "      <th></th>\n",
              "      <th>Equipment</th>\n",
              "      <th>Count</th>\n",
              "      <th>%</th>\n",
              "    </tr>\n",
              "  </thead>\n",
              "  <tbody>\n",
              "    <tr>\n",
              "      <th>0</th>\n",
              "      <td>Mac Workstation</td>\n",
              "      <td>275</td>\n",
              "      <td>40.029112</td>\n",
              "    </tr>\n",
              "    <tr>\n",
              "      <th>1</th>\n",
              "      <td>Brought my own workstation</td>\n",
              "      <td>230</td>\n",
              "      <td>33.478894</td>\n",
              "    </tr>\n",
              "    <tr>\n",
              "      <th>2</th>\n",
              "      <td>PC Workstation</td>\n",
              "      <td>99</td>\n",
              "      <td>14.410480</td>\n",
              "    </tr>\n",
              "    <tr>\n",
              "      <th>3</th>\n",
              "      <td>Keyboard</td>\n",
              "      <td>35</td>\n",
              "      <td>5.094614</td>\n",
              "    </tr>\n",
              "    <tr>\n",
              "      <th>4</th>\n",
              "      <td>Monitor</td>\n",
              "      <td>18</td>\n",
              "      <td>2.620087</td>\n",
              "    </tr>\n",
              "    <tr>\n",
              "      <th>5</th>\n",
              "      <td>Mouse</td>\n",
              "      <td>18</td>\n",
              "      <td>2.620087</td>\n",
              "    </tr>\n",
              "    <tr>\n",
              "      <th>6</th>\n",
              "      <td>Camera</td>\n",
              "      <td>9</td>\n",
              "      <td>1.310044</td>\n",
              "    </tr>\n",
              "    <tr>\n",
              "      <th>7</th>\n",
              "      <td>Projector</td>\n",
              "      <td>3</td>\n",
              "      <td>0.436681</td>\n",
              "    </tr>\n",
              "  </tbody>\n",
              "</table>\n",
              "</div>"
            ],
            "text/plain": [
              "                    Equipment  Count          %\n",
              "0             Mac Workstation    275  40.029112\n",
              "1  Brought my own workstation    230  33.478894\n",
              "2              PC Workstation     99  14.410480\n",
              "3                    Keyboard     35   5.094614\n",
              "4                     Monitor     18   2.620087\n",
              "5                       Mouse     18   2.620087\n",
              "6                      Camera      9   1.310044\n",
              "7                   Projector      3   0.436681"
            ]
          },
          "metadata": {
            "tags": []
          },
          "execution_count": 19
        }
      ]
    },
    {
      "cell_type": "code",
      "metadata": {
        "colab": {
          "base_uri": "https://localhost:8080/",
          "height": 575
        },
        "id": "CnhCzaLfeH4i",
        "outputId": "814ff54b-e97a-41cd-bac2-c3e6585a54bd"
      },
      "source": [
        "import matplotlib.pyplot as plt\n",
        "\n",
        "# Pie chart, where the slices will be ordered and plotted counter-clockwise:\n",
        "labels = 'Female', 'Male'\n",
        "sizes = [11, 24]\n",
        "explode = (0.1, 0)  # only \"explode\" the 2nd slice (i.e. 'Hogs')\n",
        "\n",
        "fig1, ax1 = plt.subplots(figsize=(11, 10))\n",
        "ax1.pie(sizes, explode=explode, labels=labels, autopct='%1.1f%%',\n",
        "        shadow=True, startangle=90)\n",
        "ax1.axis('equal')  # Equal aspect ratio ensures that pie is drawn as a circle.\n",
        "\n",
        "plt.show()"
      ],
      "execution_count": null,
      "outputs": [
        {
          "output_type": "display_data",
          "data": {
            "image/png": "[encoded data removed]",
            "text/plain": [
              "<Figure size 792x720 with 1 Axes>"
            ]
          },
          "metadata": {
            "tags": []
          }
        }
      ]
    },
    {
      "cell_type": "code",
      "metadata": {
        "colab": {
          "base_uri": "https://localhost:8080/",
          "height": 575
        },
        "id": "AjJIVFg-vzjx",
        "outputId": "72b525e2-644d-49be-efec-6aa64a4128a1"
      },
      "source": [
        "import matplotlib.pyplot as plt\n",
        "\n",
        "# Pie chart, where the slices will be ordered and plotted counter-clockwise:\n",
        "labels = 'Student', 'Self-employed', 'Employed'\n",
        "sizes = [17, 15, 3]\n",
        "explode = (0, 0, 0.1)  # only \"explode\" the 2nd slice (i.e. 'Hogs')\n",
        "\n",
        "fig1, ax1 = plt.subplots(figsize=(11, 10))\n",
        "ax1.pie(sizes, explode=explode, labels=labels, autopct='%1.1f%%',\n",
        "        shadow=True, startangle=90)\n",
        "ax1.axis('equal')  # Equal aspect ratio ensures that pie is drawn as a circle.\n",
        "\n",
        "plt.show()"
      ],
      "execution_count": null,
      "outputs": [
        {
          "output_type": "display_data",
          "data": {
            "image/png": "[encoded data removed]",
            "text/plain": [
              "<Figure size 792x720 with 1 Axes>"
            ]
          },
          "metadata": {
            "tags": []
          }
        }
      ]
    },
    {
      "cell_type": "code",
      "metadata": {
        "colab": {
          "base_uri": "https://localhost:8080/",
          "height": 575
        },
        "id": "VuIFvLpVykgZ",
        "outputId": "b9237dbd-583f-45f8-9d11-80ac6e8d72fb"
      },
      "source": [
        "import matplotlib.pyplot as plt\n",
        "\n",
        "# Pie chart, where the slices will be ordered and plotted counter-clockwise:\n",
        "labels = 'Science & Technology' , 'Business & Marketing', 'Arts & Media'\n",
        "sizes = [17, 4, 14]\n",
        "explode = (0, 0, 0.1)  # only \"explode\" the 2nd slice (i.e. 'Hogs')\n",
        "\n",
        "fig1, ax1 = plt.subplots(figsize=(11, 10))\n",
        "ax1.pie(sizes, explode=explode, labels=labels, autopct='%1.1f%%',\n",
        "        shadow=True, startangle=90)\n",
        "ax1.axis('equal')  # Equal aspect ratio ensures that pie is drawn as a circle.\n",
        "\n",
        "plt.show()"
      ],
      "execution_count": null,
      "outputs": [
        {
          "output_type": "display_data",
          "data": {
            "image/png": "[encoded data removed]",
            "text/plain": [
              "<Figure size 792x720 with 1 Axes>"
            ]
          },
          "metadata": {
            "tags": []
          }
        }
      ]
    },
    {
      "cell_type": "code",
      "metadata": {
        "colab": {
          "base_uri": "https://localhost:8080/",
          "height": 441
        },
        "id": "ldnfc-Ha0TF6",
        "outputId": "b20ea30a-dc9b-44da-b837-735da2b0dfe7"
      },
      "source": [
        "import matplotlib.pyplot as plt\n",
        "import numpy as np\n",
        "\n",
        "\n",
        "labels = ['Science & Technology', 'Arts & Media', 'Business & Marketing']\n",
        "men_means = [14, 8, 2]\n",
        "women_means = [3, 6, 2]\n",
        "\n",
        "x = np.arange(len(labels))  # the label locations\n",
        "width = 0.35  # the width of the bars\n",
        "\n",
        "fig, ax = plt.subplots(figsize=(7, 6))\n",
        "rects1 = ax.bar(x - width/2, men_means, width, label='Men')\n",
        "rects2 = ax.bar(x + width/2, women_means, width, label='Women')\n",
        "\n",
        "# Add some text for labels, title and custom x-axis tick labels, etc.\n",
        "ax.set_ylabel('Count')\n",
        "#ax.set_title('Count by profession and gender')\n",
        "ax.set_xticks(x)\n",
        "ax.set_xticklabels(labels)\n",
        "ax.legend()\n",
        "\n",
        "\n",
        "fig.tight_layout()\n",
        "\n",
        "plt.show()"
      ],
      "execution_count": null,
      "outputs": [
        {
          "output_type": "display_data",
          "data": {
            "image/png": "[encoded data removed]",
            "text/plain": [
              "<Figure size 504x432 with 1 Axes>"
            ]
          },
          "metadata": {
            "tags": [],
            "needs_background": "light"
          }
        }
      ]
    },
    {
      "cell_type": "code",
      "metadata": {
        "colab": {
          "base_uri": "https://localhost:8080/",
          "height": 111
        },
        "id": "R_i1oZTU0sQw",
        "outputId": "1a0bf479-7c2c-4945-c294-668a8fd06908"
      },
      "source": [
        "inputss = [['Female', 11], ['Male', 24]]\n",
        "demographics = pd.DataFrame(inputss, columns=['Category', 'Count'])\n",
        "demographics"
      ],
      "execution_count": null,
      "outputs": [
        {
          "output_type": "execute_result",
          "data": {
            "text/html": [
              "<div>\n",
              "<style scoped>\n",
              "    .dataframe tbody tr th:only-of-type {\n",
              "        vertical-align: middle;\n",
              "    }\n",
              "\n",
              "    .dataframe tbody tr th {\n",
              "        vertical-align: top;\n",
              "    }\n",
              "\n",
              "    .dataframe thead th {\n",
              "        text-align: right;\n",
              "    }\n",
              "</style>\n",
              "<table border=\"1\" class=\"dataframe\">\n",
              "  <thead>\n",
              "    <tr style=\"text-align: right;\">\n",
              "      <th></th>\n",
              "      <th>Category</th>\n",
              "      <th>Count</th>\n",
              "    </tr>\n",
              "  </thead>\n",
              "  <tbody>\n",
              "    <tr>\n",
              "      <th>0</th>\n",
              "      <td>Female</td>\n",
              "      <td>11</td>\n",
              "    </tr>\n",
              "    <tr>\n",
              "      <th>1</th>\n",
              "      <td>Male</td>\n",
              "      <td>24</td>\n",
              "    </tr>\n",
              "  </tbody>\n",
              "</table>\n",
              "</div>"
            ],
            "text/plain": [
              "  Category  Count\n",
              "0   Female     11\n",
              "1     Male     24"
            ]
          },
          "metadata": {
            "tags": []
          },
          "execution_count": 75
        }
      ]
    },
    {
      "cell_type": "code",
      "metadata": {
        "colab": {
          "base_uri": "https://localhost:8080/",
          "height": 142
        },
        "id": "uKRG2DLg3HFu",
        "outputId": "80e3e4ed-3f20-4f1b-cbf5-12662ec338c3"
      },
      "source": [
        "inputss = [['Science & Technology', 14, 3], ['Arts & Media', 8, 6], ['Business & Marketing', 2, 2]]\n",
        "demographics = pd.DataFrame(inputss, columns=['Category', 'Female', 'Male'])\n",
        "demographics"
      ],
      "execution_count": null,
      "outputs": [
        {
          "output_type": "execute_result",
          "data": {
            "text/html": [
              "<div>\n",
              "<style scoped>\n",
              "    .dataframe tbody tr th:only-of-type {\n",
              "        vertical-align: middle;\n",
              "    }\n",
              "\n",
              "    .dataframe tbody tr th {\n",
              "        vertical-align: top;\n",
              "    }\n",
              "\n",
              "    .dataframe thead th {\n",
              "        text-align: right;\n",
              "    }\n",
              "</style>\n",
              "<table border=\"1\" class=\"dataframe\">\n",
              "  <thead>\n",
              "    <tr style=\"text-align: right;\">\n",
              "      <th></th>\n",
              "      <th>Category</th>\n",
              "      <th>Female</th>\n",
              "      <th>Male</th>\n",
              "    </tr>\n",
              "  </thead>\n",
              "  <tbody>\n",
              "    <tr>\n",
              "      <th>0</th>\n",
              "      <td>Science &amp; Technology</td>\n",
              "      <td>14</td>\n",
              "      <td>3</td>\n",
              "    </tr>\n",
              "    <tr>\n",
              "      <th>1</th>\n",
              "      <td>Arts &amp; Media</td>\n",
              "      <td>8</td>\n",
              "      <td>6</td>\n",
              "    </tr>\n",
              "    <tr>\n",
              "      <th>2</th>\n",
              "      <td>Business &amp; Marketing</td>\n",
              "      <td>2</td>\n",
              "      <td>2</td>\n",
              "    </tr>\n",
              "  </tbody>\n",
              "</table>\n",
              "</div>"
            ],
            "text/plain": [
              "               Category  Female  Male\n",
              "0  Science & Technology      14     3\n",
              "1          Arts & Media       8     6\n",
              "2  Business & Marketing       2     2"
            ]
          },
          "metadata": {
            "tags": []
          },
          "execution_count": 76
        }
      ]
    },
    {
      "cell_type": "code",
      "metadata": {
        "colab": {
          "base_uri": "https://localhost:8080/",
          "height": 266
        },
        "id": "XupzlWWb7mlu",
        "outputId": "346d0b0c-5939-48e1-c4a0-c5ab591bf8ea"
      },
      "source": [
        "day_of_week_traf = df.index.to_series()\n",
        "day_of_week_traf = day_of_week_traf.dt.dayofweek \n",
        "#headers = ['day of week']\n",
        "#df9 = pd.DataFrame(df9, columns = headers)\n",
        "day_of_the_week_traf = day_of_week_traf.value_counts().to_frame()\n",
        "day_of_the_week_traf['Day of week'] = 'Tuesday', 'Wednesday', 'Thursday', 'Friday', 'Monday', 'Saturday', 'Sunday'\n",
        "day_of_the_week_traf.rename(columns={'Timestamp':'Count'})\n"
      ],
      "execution_count": null,
      "outputs": [
        {
          "output_type": "execute_result",
          "data": {
            "text/html": [
              "<div>\n",
              "<style scoped>\n",
              "    .dataframe tbody tr th:only-of-type {\n",
              "        vertical-align: middle;\n",
              "    }\n",
              "\n",
              "    .dataframe tbody tr th {\n",
              "        vertical-align: top;\n",
              "    }\n",
              "\n",
              "    .dataframe thead th {\n",
              "        text-align: right;\n",
              "    }\n",
              "</style>\n",
              "<table border=\"1\" class=\"dataframe\">\n",
              "  <thead>\n",
              "    <tr style=\"text-align: right;\">\n",
              "      <th></th>\n",
              "      <th>Count</th>\n",
              "      <th>Day of week</th>\n",
              "    </tr>\n",
              "  </thead>\n",
              "  <tbody>\n",
              "    <tr>\n",
              "      <th>1</th>\n",
              "      <td>117</td>\n",
              "      <td>Tuesday</td>\n",
              "    </tr>\n",
              "    <tr>\n",
              "      <th>2</th>\n",
              "      <td>112</td>\n",
              "      <td>Wednesday</td>\n",
              "    </tr>\n",
              "    <tr>\n",
              "      <th>3</th>\n",
              "      <td>105</td>\n",
              "      <td>Thursday</td>\n",
              "    </tr>\n",
              "    <tr>\n",
              "      <th>4</th>\n",
              "      <td>103</td>\n",
              "      <td>Friday</td>\n",
              "    </tr>\n",
              "    <tr>\n",
              "      <th>0</th>\n",
              "      <td>103</td>\n",
              "      <td>Monday</td>\n",
              "    </tr>\n",
              "    <tr>\n",
              "      <th>5</th>\n",
              "      <td>58</td>\n",
              "      <td>Saturday</td>\n",
              "    </tr>\n",
              "    <tr>\n",
              "      <th>6</th>\n",
              "      <td>40</td>\n",
              "      <td>Sunday</td>\n",
              "    </tr>\n",
              "  </tbody>\n",
              "</table>\n",
              "</div>"
            ],
            "text/plain": [
              "   Count Day of week\n",
              "1    117     Tuesday\n",
              "2    112   Wednesday\n",
              "3    105    Thursday\n",
              "4    103      Friday\n",
              "0    103      Monday\n",
              "5     58    Saturday\n",
              "6     40      Sunday"
            ]
          },
          "metadata": {
            "tags": []
          },
          "execution_count": 84
        }
      ]
    },
    {
      "cell_type": "code",
      "metadata": {
        "colab": {
          "base_uri": "https://localhost:8080/",
          "height": 447
        },
        "id": "gMzHE25U805n",
        "outputId": "71c9468d-5536-447a-9d0b-53bcba8d1bec"
      },
      "source": [
        "%matplotlib inline\n",
        "days = ['Mon', 'Tue', 'Wed', 'Thurs', 'Fri', 'Sat', 'Sun']\n",
        "s = [103, 117, 112, 105, 103, 58, 40]\n",
        "width = 8\n",
        "height = 7\n",
        "plt.figure(figsize=(width, height))\n",
        "plt.bar(days, s)\n",
        "plt.ylabel(\"Count\")\n",
        "plt.title(\"Historical Activity Traffic (days of the week)\");\n",
        "\n",
        "for i in range(len(s)):\n",
        "  plt.annotate(str(s[i]), xy=(days[i],s[i]), ha='center', va='bottom')\n",
        "\n",
        "plt.show()"
      ],
      "execution_count": null,
      "outputs": [
        {
          "output_type": "display_data",
          "data": {
            "image/png": "[encoded data removed]",
            "text/plain": [
              "<Figure size 576x504 with 1 Axes>"
            ]
          },
          "metadata": {
            "tags": [],
            "needs_background": "light"
          }
        }
      ]
    },
    {
      "cell_type": "code",
      "metadata": {
        "colab": {
          "base_uri": "https://localhost:8080/"
        },
        "id": "QRnRKXgsOThG",
        "outputId": "df2ae760-34b0-4184-ad56-7a09f696b268"
      },
      "source": [
        "attendance_dates = pd.date_range(df.index.min(), df.index.max())\n",
        "avarage_daily_attendance = len(df['First Name']) / (attendance_dates.size - missing_dates)\n",
        "daily_avarage_time_spent = (df['Time Duration(hrs)'].sum() / attendance_dates.size) / avarage_daily_attendance\n",
        "print('Maximum time that was spent at the hub by a hubber (hrs): {}' .format(df['Time Duration(hrs)'].max()))\n",
        "print('')\n",
        "print('daily avarage time spent by hubbers at the hub (hrs): {}' .format(daily_avarage_time_spent))\n",
        "print('')\n",
        "print('Minimum time that was spent at the hub by a hubber (hrs): {}' .format(df['Time Duration(hrs)'].min()))"
      ],
      "execution_count": null,
      "outputs": [
        {
          "output_type": "stream",
          "text": [
            "Maximum time that was spent at the hub by a hubber (hrs): 23.983333333333334\n",
            "\n",
            "daily avarage time spent by hubbers at the hub (hrs): 5.900442846202511\n",
            "\n",
            "Minimum time that was spent at the hub by a hubber (hrs): 0.25\n"
          ],
          "name": "stdout"
        }
      ]
    },
    {
      "cell_type": "code",
      "metadata": {
        "colab": {
          "base_uri": "https://localhost:8080/",
          "height": 142
        },
        "id": "OFBpSoQvSFXN",
        "outputId": "0825e7a5-9e58-4af3-f611-e70fd951f950"
      },
      "source": [
        "date_date = [['Maximum time (daily)', df['Time Duration(hrs)'].max()], ['daily avarage time spent', daily_avarage_time_spent], ['Minimum time (daily)', df['Time Duration(hrs)'].min()]]\n",
        "Date_Date = pd.DataFrame(date_date, columns=['Argument', 'Time(hrs)'])\n",
        "Date_Date"
      ],
      "execution_count": null,
      "outputs": [
        {
          "output_type": "execute_result",
          "data": {
            "text/html": [
              "<div>\n",
              "<style scoped>\n",
              "    .dataframe tbody tr th:only-of-type {\n",
              "        vertical-align: middle;\n",
              "    }\n",
              "\n",
              "    .dataframe tbody tr th {\n",
              "        vertical-align: top;\n",
              "    }\n",
              "\n",
              "    .dataframe thead th {\n",
              "        text-align: right;\n",
              "    }\n",
              "</style>\n",
              "<table border=\"1\" class=\"dataframe\">\n",
              "  <thead>\n",
              "    <tr style=\"text-align: right;\">\n",
              "      <th></th>\n",
              "      <th>Argument</th>\n",
              "      <th>Time(hrs)</th>\n",
              "    </tr>\n",
              "  </thead>\n",
              "  <tbody>\n",
              "    <tr>\n",
              "      <th>0</th>\n",
              "      <td>Maximum time (daily)</td>\n",
              "      <td>23.983333</td>\n",
              "    </tr>\n",
              "    <tr>\n",
              "      <th>1</th>\n",
              "      <td>daily avarage time spent</td>\n",
              "      <td>5.900443</td>\n",
              "    </tr>\n",
              "    <tr>\n",
              "      <th>2</th>\n",
              "      <td>Minimum time (daily)</td>\n",
              "      <td>0.250000</td>\n",
              "    </tr>\n",
              "  </tbody>\n",
              "</table>\n",
              "</div>"
            ],
            "text/plain": [
              "                   Argument  Time(hrs)\n",
              "0      Maximum time (daily)  23.983333\n",
              "1  daily avarage time spent   5.900443\n",
              "2      Minimum time (daily)   0.250000"
            ]
          },
          "metadata": {
            "tags": []
          },
          "execution_count": 60
        }
      ]
    },
    {
      "cell_type": "code",
      "metadata": {
        "id": "G88FB8tFZbGC"
      },
      "source": [
        ""
      ],
      "execution_count": null,
      "outputs": []
    }
  ]
}