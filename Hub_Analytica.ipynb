{
  "nbformat": 4,
  "nbformat_minor": 0,
  "metadata": {
    "colab": {
      "name": "Hub Analytica.ipynb",
      "provenance": [],
      "collapsed_sections": [
        "tQUZSsxU9otM"
      ],
      "authorship_tag": "ABX9TyMa464yYEyAvuj2ImS5Fnb7",
      "include_colab_link": true
    },
    "kernelspec": {
      "name": "python3",
      "display_name": "Python 3"
    },
    "language_info": {
      "name": "python"
    }
  },
  "cells": [
    {
      "cell_type": "markdown",
      "metadata": {
        "id": "view-in-github",
        "colab_type": "text"
      },
      "source": [
        "<a href=\"https://colab.research.google.com/github/Lungelo-cloud/Hub-Analytics/blob/main/Hub_Analytica.ipynb\" target=\"_parent\"><img src=\"https://colab.research.google.com/assets/colab-badge.svg\" alt=\"Open In Colab\"/></a>"
      ]
    },
    {
      "cell_type": "markdown",
      "metadata": {
        "id": "vEkAwwNCfuof"
      },
      "source": [
        "# This is a notebook for analyzing Innovators Association of Eswatini membership sign-in data."
      ]
    },
    {
      "cell_type": "markdown",
      "metadata": {
        "id": "EFaOvhPEe_V-"
      },
      "source": [
        "1. Import packages, install gspread for importing google spreadsheets."
      ]
    },
    {
      "cell_type": "code",
      "metadata": {
        "id": "-sivWncZumDV",
        "colab": {
          "base_uri": "https://localhost:8080/"
        },
        "outputId": "c3727f78-83a4-41f9-9189-158f432372e0"
      },
      "source": [
        "import pandas as pd\n",
        "import datetime as dt\n",
        "import numpy as np\n",
        "import matplotlib.pyplot as plt \n",
        "import seaborn as sns \n",
        "sns.set()\n",
        "!pip install --upgrade gspread"
      ],
      "execution_count": 1,
      "outputs": [
        {
          "output_type": "stream",
          "name": "stdout",
          "text": [
            "Requirement already satisfied: gspread in /usr/local/lib/python3.7/dist-packages (3.0.1)\n",
            "Collecting gspread\n",
            "  Downloading gspread-4.0.1-py3-none-any.whl (29 kB)\n",
            "Requirement already satisfied: google-auth-oauthlib>=0.4.1 in /usr/local/lib/python3.7/dist-packages (from gspread) (0.4.5)\n",
            "Requirement already satisfied: google-auth>=1.12.0 in /usr/local/lib/python3.7/dist-packages (from gspread) (1.34.0)\n",
            "Requirement already satisfied: cachetools<5.0,>=2.0.0 in /usr/local/lib/python3.7/dist-packages (from google-auth>=1.12.0->gspread) (4.2.2)\n",
            "Requirement already satisfied: pyasn1-modules>=0.2.1 in /usr/local/lib/python3.7/dist-packages (from google-auth>=1.12.0->gspread) (0.2.8)\n",
            "Requirement already satisfied: setuptools>=40.3.0 in /usr/local/lib/python3.7/dist-packages (from google-auth>=1.12.0->gspread) (57.4.0)\n",
            "Requirement already satisfied: rsa<5,>=3.1.4 in /usr/local/lib/python3.7/dist-packages (from google-auth>=1.12.0->gspread) (4.7.2)\n",
            "Requirement already satisfied: six>=1.9.0 in /usr/local/lib/python3.7/dist-packages (from google-auth>=1.12.0->gspread) (1.15.0)\n",
            "Requirement already satisfied: requests-oauthlib>=0.7.0 in /usr/local/lib/python3.7/dist-packages (from google-auth-oauthlib>=0.4.1->gspread) (1.3.0)\n",
            "Requirement already satisfied: pyasn1<0.5.0,>=0.4.6 in /usr/local/lib/python3.7/dist-packages (from pyasn1-modules>=0.2.1->google-auth>=1.12.0->gspread) (0.4.8)\n",
            "Requirement already satisfied: requests>=2.0.0 in /usr/local/lib/python3.7/dist-packages (from requests-oauthlib>=0.7.0->google-auth-oauthlib>=0.4.1->gspread) (2.23.0)\n",
            "Requirement already satisfied: oauthlib>=3.0.0 in /usr/local/lib/python3.7/dist-packages (from requests-oauthlib>=0.7.0->google-auth-oauthlib>=0.4.1->gspread) (3.1.1)\n",
            "Requirement already satisfied: chardet<4,>=3.0.2 in /usr/local/lib/python3.7/dist-packages (from requests>=2.0.0->requests-oauthlib>=0.7.0->google-auth-oauthlib>=0.4.1->gspread) (3.0.4)\n",
            "Requirement already satisfied: idna<3,>=2.5 in /usr/local/lib/python3.7/dist-packages (from requests>=2.0.0->requests-oauthlib>=0.7.0->google-auth-oauthlib>=0.4.1->gspread) (2.10)\n",
            "Requirement already satisfied: certifi>=2017.4.17 in /usr/local/lib/python3.7/dist-packages (from requests>=2.0.0->requests-oauthlib>=0.7.0->google-auth-oauthlib>=0.4.1->gspread) (2021.5.30)\n",
            "Requirement already satisfied: urllib3!=1.25.0,!=1.25.1,<1.26,>=1.21.1 in /usr/local/lib/python3.7/dist-packages (from requests>=2.0.0->requests-oauthlib>=0.7.0->google-auth-oauthlib>=0.4.1->gspread) (1.24.3)\n",
            "Installing collected packages: gspread\n",
            "  Attempting uninstall: gspread\n",
            "    Found existing installation: gspread 3.0.1\n",
            "    Uninstalling gspread-3.0.1:\n",
            "      Successfully uninstalled gspread-3.0.1\n",
            "Successfully installed gspread-4.0.1\n"
          ]
        }
      ]
    },
    {
      "cell_type": "code",
      "metadata": {
        "id": "Ych410s6NdIo"
      },
      "source": [
        "#sheet_id = '1pzSSXuXJXWCGDAQG-y8JEj4GziIpywAZye0FWCNkCI4'\n",
        "#df = pd.read_csv(f\"https://docs.google.com/spreadsheets/d/{sheet_id}/export?format=csv\")\n",
        "#df.head()"
      ],
      "execution_count": null,
      "outputs": []
    },
    {
      "cell_type": "markdown",
      "metadata": {
        "id": "13_iI9vIfjKd"
      },
      "source": [
        "2. Importing the google spreadsheet"
      ]
    },
    {
      "cell_type": "code",
      "metadata": {
        "id": "pqRwGYsgKv4E"
      },
      "source": [
        "from google.colab import auth\n",
        "auth.authenticate_user()\n",
        "\n",
        "import gspread\n",
        "from oauth2client.client import GoogleCredentials\n",
        "\n",
        "gc = gspread.authorize(GoogleCredentials.get_application_default())\n",
        "\n",
        "wb = gc.open_by_key('1WGVWOsjKdp4eP_6PcqdnU7r6r8RW0hAtUVakTlrFWxw')\n",
        "\n",
        "ws = wb.worksheet('Form Responses 1')\n",
        "\n",
        "# get_all_values gives a list of rows.\n",
        "rows = ws.get_all_values()\n",
        "#print(rows)\n",
        "\n",
        "# Convert to a DataFrame and render.\n",
        "#import pandas as pd\n",
        "#pd.DataFrame.from_records(rows)"
      ],
      "execution_count": 2,
      "outputs": []
    },
    {
      "cell_type": "markdown",
      "metadata": {
        "id": "1B0cyVGGgXrF"
      },
      "source": [
        "3. Importing the spreadsheet into a pandas dataframe."
      ]
    },
    {
      "cell_type": "code",
      "metadata": {
        "colab": {
          "base_uri": "https://localhost:8080/",
          "height": 357
        },
        "id": "aUZgEM0YPBJO",
        "outputId": "c2a335f2-2ac1-488f-ca70-1d0889d4c412"
      },
      "source": [
        "df = pd.DataFrame.from_records(rows[1:], columns=rows[0])\n",
        "df.head()"
      ],
      "execution_count": 3,
      "outputs": [
        {
          "output_type": "execute_result",
          "data": {
            "text/html": [
              "<div>\n",
              "<style scoped>\n",
              "    .dataframe tbody tr th:only-of-type {\n",
              "        vertical-align: middle;\n",
              "    }\n",
              "\n",
              "    .dataframe tbody tr th {\n",
              "        vertical-align: top;\n",
              "    }\n",
              "\n",
              "    .dataframe thead th {\n",
              "        text-align: right;\n",
              "    }\n",
              "</style>\n",
              "<table border=\"1\" class=\"dataframe\">\n",
              "  <thead>\n",
              "    <tr style=\"text-align: right;\">\n",
              "      <th></th>\n",
              "      <th>Timestamp</th>\n",
              "      <th>First Name</th>\n",
              "      <th>Phone Number</th>\n",
              "      <th>Sign-in Time</th>\n",
              "      <th>What are you working on today?</th>\n",
              "      <th>What equipment will you use?</th>\n",
              "      <th>Internet?</th>\n",
              "      <th>How many hours will you be putting in?</th>\n",
              "      <th>Are you a member of The Hub?</th>\n",
              "      <th>Are you a student (from any institution)?</th>\n",
              "      <th>What company do you work for?</th>\n",
              "      <th>Last Name</th>\n",
              "      <th>What equipment will you check out?</th>\n",
              "    </tr>\n",
              "  </thead>\n",
              "  <tbody>\n",
              "    <tr>\n",
              "      <th>0</th>\n",
              "      <td>2/11/2021</td>\n",
              "      <td>Kwanele</td>\n",
              "      <td>7815 8606</td>\n",
              "      <td>11:00:00 AM</td>\n",
              "      <td>Company Work</td>\n",
              "      <td>Brought my own workstation</td>\n",
              "      <td>Shared Hotspot</td>\n",
              "      <td>6:00:00 AM</td>\n",
              "      <td></td>\n",
              "      <td></td>\n",
              "      <td></td>\n",
              "      <td></td>\n",
              "      <td></td>\n",
              "    </tr>\n",
              "    <tr>\n",
              "      <th>1</th>\n",
              "      <td>2/11/2021</td>\n",
              "      <td>José</td>\n",
              "      <td></td>\n",
              "      <td>8:00:00 AM</td>\n",
              "      <td>Company Work</td>\n",
              "      <td>Mac Workstation</td>\n",
              "      <td>Shared Hotspot</td>\n",
              "      <td>8:00:00 PM</td>\n",
              "      <td>Yes</td>\n",
              "      <td>No</td>\n",
              "      <td>Ummo</td>\n",
              "      <td>Rego</td>\n",
              "      <td></td>\n",
              "    </tr>\n",
              "    <tr>\n",
              "      <th>2</th>\n",
              "      <td>2/11/2021</td>\n",
              "      <td>Simanga</td>\n",
              "      <td>78501932</td>\n",
              "      <td>4:00:00 AM</td>\n",
              "      <td>Content &amp; Creativity</td>\n",
              "      <td>PC Workstation</td>\n",
              "      <td>Shared Hotspot</td>\n",
              "      <td></td>\n",
              "      <td></td>\n",
              "      <td></td>\n",
              "      <td></td>\n",
              "      <td></td>\n",
              "      <td></td>\n",
              "    </tr>\n",
              "    <tr>\n",
              "      <th>3</th>\n",
              "      <td>2/13/2021</td>\n",
              "      <td>Simanga</td>\n",
              "      <td>78501932</td>\n",
              "      <td>11:00:00 AM</td>\n",
              "      <td>Content &amp; Creativity</td>\n",
              "      <td>Mac Workstation</td>\n",
              "      <td>Shared Hotspot</td>\n",
              "      <td></td>\n",
              "      <td></td>\n",
              "      <td></td>\n",
              "      <td></td>\n",
              "      <td></td>\n",
              "      <td></td>\n",
              "    </tr>\n",
              "    <tr>\n",
              "      <th>4</th>\n",
              "      <td>2/13/2021</td>\n",
              "      <td>José</td>\n",
              "      <td></td>\n",
              "      <td>8:00:00 AM</td>\n",
              "      <td>Company Work</td>\n",
              "      <td>Mac Workstation</td>\n",
              "      <td>Shared Hotspot</td>\n",
              "      <td>8:00:00 PM</td>\n",
              "      <td>Yes</td>\n",
              "      <td>No</td>\n",
              "      <td>Ummo</td>\n",
              "      <td>Rego</td>\n",
              "      <td></td>\n",
              "    </tr>\n",
              "  </tbody>\n",
              "</table>\n",
              "</div>"
            ],
            "text/plain": [
              "   Timestamp First Name  ... Last Name What equipment will you check out?\n",
              "0  2/11/2021    Kwanele  ...                                             \n",
              "1  2/11/2021       José  ...      Rego                                   \n",
              "2  2/11/2021    Simanga  ...                                             \n",
              "3  2/13/2021    Simanga  ...                                             \n",
              "4  2/13/2021       José  ...      Rego                                   \n",
              "\n",
              "[5 rows x 13 columns]"
            ]
          },
          "metadata": {},
          "execution_count": 3
        }
      ]
    },
    {
      "cell_type": "markdown",
      "metadata": {
        "id": "Tv8oc5Jfg9sr"
      },
      "source": [
        "4. Replacing missing values with \"Nan\""
      ]
    },
    {
      "cell_type": "code",
      "metadata": {
        "colab": {
          "base_uri": "https://localhost:8080/",
          "height": 357
        },
        "id": "6TA-JT_DUKgN",
        "outputId": "6ac1b500-a706-4dd4-aa83-2ebf795e50bd"
      },
      "source": [
        "df.replace(\"\", np.nan, inplace = True)\n",
        "df.head()"
      ],
      "execution_count": 4,
      "outputs": [
        {
          "output_type": "execute_result",
          "data": {
            "text/html": [
              "<div>\n",
              "<style scoped>\n",
              "    .dataframe tbody tr th:only-of-type {\n",
              "        vertical-align: middle;\n",
              "    }\n",
              "\n",
              "    .dataframe tbody tr th {\n",
              "        vertical-align: top;\n",
              "    }\n",
              "\n",
              "    .dataframe thead th {\n",
              "        text-align: right;\n",
              "    }\n",
              "</style>\n",
              "<table border=\"1\" class=\"dataframe\">\n",
              "  <thead>\n",
              "    <tr style=\"text-align: right;\">\n",
              "      <th></th>\n",
              "      <th>Timestamp</th>\n",
              "      <th>First Name</th>\n",
              "      <th>Phone Number</th>\n",
              "      <th>Sign-in Time</th>\n",
              "      <th>What are you working on today?</th>\n",
              "      <th>What equipment will you use?</th>\n",
              "      <th>Internet?</th>\n",
              "      <th>How many hours will you be putting in?</th>\n",
              "      <th>Are you a member of The Hub?</th>\n",
              "      <th>Are you a student (from any institution)?</th>\n",
              "      <th>What company do you work for?</th>\n",
              "      <th>Last Name</th>\n",
              "      <th>What equipment will you check out?</th>\n",
              "    </tr>\n",
              "  </thead>\n",
              "  <tbody>\n",
              "    <tr>\n",
              "      <th>0</th>\n",
              "      <td>2/11/2021</td>\n",
              "      <td>Kwanele</td>\n",
              "      <td>7815 8606</td>\n",
              "      <td>11:00:00 AM</td>\n",
              "      <td>Company Work</td>\n",
              "      <td>Brought my own workstation</td>\n",
              "      <td>Shared Hotspot</td>\n",
              "      <td>6:00:00 AM</td>\n",
              "      <td>NaN</td>\n",
              "      <td>NaN</td>\n",
              "      <td>NaN</td>\n",
              "      <td>NaN</td>\n",
              "      <td>NaN</td>\n",
              "    </tr>\n",
              "    <tr>\n",
              "      <th>1</th>\n",
              "      <td>2/11/2021</td>\n",
              "      <td>José</td>\n",
              "      <td>NaN</td>\n",
              "      <td>8:00:00 AM</td>\n",
              "      <td>Company Work</td>\n",
              "      <td>Mac Workstation</td>\n",
              "      <td>Shared Hotspot</td>\n",
              "      <td>8:00:00 PM</td>\n",
              "      <td>Yes</td>\n",
              "      <td>No</td>\n",
              "      <td>Ummo</td>\n",
              "      <td>Rego</td>\n",
              "      <td>NaN</td>\n",
              "    </tr>\n",
              "    <tr>\n",
              "      <th>2</th>\n",
              "      <td>2/11/2021</td>\n",
              "      <td>Simanga</td>\n",
              "      <td>78501932</td>\n",
              "      <td>4:00:00 AM</td>\n",
              "      <td>Content &amp; Creativity</td>\n",
              "      <td>PC Workstation</td>\n",
              "      <td>Shared Hotspot</td>\n",
              "      <td>NaN</td>\n",
              "      <td>NaN</td>\n",
              "      <td>NaN</td>\n",
              "      <td>NaN</td>\n",
              "      <td>NaN</td>\n",
              "      <td>NaN</td>\n",
              "    </tr>\n",
              "    <tr>\n",
              "      <th>3</th>\n",
              "      <td>2/13/2021</td>\n",
              "      <td>Simanga</td>\n",
              "      <td>78501932</td>\n",
              "      <td>11:00:00 AM</td>\n",
              "      <td>Content &amp; Creativity</td>\n",
              "      <td>Mac Workstation</td>\n",
              "      <td>Shared Hotspot</td>\n",
              "      <td>NaN</td>\n",
              "      <td>NaN</td>\n",
              "      <td>NaN</td>\n",
              "      <td>NaN</td>\n",
              "      <td>NaN</td>\n",
              "      <td>NaN</td>\n",
              "    </tr>\n",
              "    <tr>\n",
              "      <th>4</th>\n",
              "      <td>2/13/2021</td>\n",
              "      <td>José</td>\n",
              "      <td>NaN</td>\n",
              "      <td>8:00:00 AM</td>\n",
              "      <td>Company Work</td>\n",
              "      <td>Mac Workstation</td>\n",
              "      <td>Shared Hotspot</td>\n",
              "      <td>8:00:00 PM</td>\n",
              "      <td>Yes</td>\n",
              "      <td>No</td>\n",
              "      <td>Ummo</td>\n",
              "      <td>Rego</td>\n",
              "      <td>NaN</td>\n",
              "    </tr>\n",
              "  </tbody>\n",
              "</table>\n",
              "</div>"
            ],
            "text/plain": [
              "   Timestamp First Name  ... Last Name What equipment will you check out?\n",
              "0  2/11/2021    Kwanele  ...       NaN                                NaN\n",
              "1  2/11/2021       José  ...      Rego                                NaN\n",
              "2  2/11/2021    Simanga  ...       NaN                                NaN\n",
              "3  2/13/2021    Simanga  ...       NaN                                NaN\n",
              "4  2/13/2021       José  ...      Rego                                NaN\n",
              "\n",
              "[5 rows x 13 columns]"
            ]
          },
          "metadata": {},
          "execution_count": 4
        }
      ]
    },
    {
      "cell_type": "markdown",
      "metadata": {
        "id": "nBXfpt5fGI09"
      },
      "source": [
        "5. Checking for missing data."
      ]
    },
    {
      "cell_type": "code",
      "metadata": {
        "colab": {
          "base_uri": "https://localhost:8080/"
        },
        "id": "OBe9dE_R5oZB",
        "outputId": "d5d5c317-f39b-4857-ce35-cc3a1ddf8632"
      },
      "source": [
        "missing_data = df.isnull()\n",
        "for column in missing_data.columns.values.tolist():\n",
        "  print(column)\n",
        "  print(missing_data[column].value_counts())\n",
        "  print(\"\")"
      ],
      "execution_count": 5,
      "outputs": [
        {
          "output_type": "stream",
          "name": "stdout",
          "text": [
            "Timestamp\n",
            "False    850\n",
            "Name: Timestamp, dtype: int64\n",
            "\n",
            "First Name\n",
            "False    850\n",
            "Name: First Name, dtype: int64\n",
            "\n",
            "Phone Number\n",
            "True     430\n",
            "False    420\n",
            "Name: Phone Number, dtype: int64\n",
            "\n",
            "Sign-in Time\n",
            "False    850\n",
            "Name: Sign-in Time, dtype: int64\n",
            "\n",
            "What are you working on today?\n",
            "False    850\n",
            "Name: What are you working on today?, dtype: int64\n",
            "\n",
            "What equipment will you use?\n",
            "False    850\n",
            "Name: What equipment will you use?, dtype: int64\n",
            "\n",
            "Internet?\n",
            "False    849\n",
            "True       1\n",
            "Name: Internet?, dtype: int64\n",
            "\n",
            "How many hours will you be putting in?\n",
            "False    829\n",
            "True      21\n",
            "Name: How many hours will you be putting in?, dtype: int64\n",
            "\n",
            "Are you a member of The Hub?\n",
            "False    747\n",
            "True     103\n",
            "Name: Are you a member of The Hub?, dtype: int64\n",
            "\n",
            "Are you a student (from any institution)?\n",
            "True     430\n",
            "False    420\n",
            "Name: Are you a student (from any institution)?, dtype: int64\n",
            "\n",
            "What company do you work for?\n",
            "False    430\n",
            "True     420\n",
            "Name: What company do you work for?, dtype: int64\n",
            "\n",
            "Last Name\n",
            "False    430\n",
            "True     420\n",
            "Name: Last Name, dtype: int64\n",
            "\n",
            "What equipment will you check out?\n",
            "True     849\n",
            "False      1\n",
            "Name: What equipment will you check out?, dtype: int64\n",
            "\n"
          ]
        }
      ]
    },
    {
      "cell_type": "markdown",
      "metadata": {
        "id": "oh4KhjsCifvM"
      },
      "source": [
        "6. Checking the modal \"sign_out_time (Before it changed to how many hours will you spend?)\" and modal \"internet\", the decision is to replace missing values in those columns by those modes. "
      ]
    },
    {
      "cell_type": "code",
      "metadata": {
        "colab": {
          "base_uri": "https://localhost:8080/"
        },
        "id": "70OcNqAbWO_R",
        "outputId": "012f184c-d0c0-4413-fc45-8a1af53d36a8"
      },
      "source": [
        "mode_sign_out_time = df['How many hours will you be putting in?'].mode(dropna = True)\n",
        "mode_internet = df['Internet?'].mode(dropna = True)\n",
        "print('mode sign out time: \\n',mode_sign_out_time)\n",
        "print('')\n",
        "print('mode internet: \\n',mode_internet)"
      ],
      "execution_count": 6,
      "outputs": [
        {
          "output_type": "stream",
          "name": "stdout",
          "text": [
            "mode sign out time: \n",
            " 0    5:00:00 PM\n",
            "dtype: object\n",
            "\n",
            "mode internet: \n",
            " 0    Shared Hotspot\n",
            "dtype: object\n"
          ]
        }
      ]
    },
    {
      "cell_type": "code",
      "metadata": {
        "id": "Pg5WfMUsWkO4"
      },
      "source": [
        "df['How many hours will you be putting in?'] = df['How many hours will you be putting in?'].replace(np.nan, '5:00:00 PM')\n",
        "df['Internet?'] = df['Internet?'].replace(np.nan, 'Shared Hotspot')"
      ],
      "execution_count": 7,
      "outputs": []
    },
    {
      "cell_type": "code",
      "metadata": {
        "id": "ELr46AuaLkO3"
      },
      "source": [
        "df['Timestamp'] = pd.to_datetime(df['Timestamp'])"
      ],
      "execution_count": 8,
      "outputs": []
    },
    {
      "cell_type": "code",
      "metadata": {
        "id": "qxMk3ud4CvDC"
      },
      "source": [
        "df = df.set_index('Timestamp')"
      ],
      "execution_count": 9,
      "outputs": []
    },
    {
      "cell_type": "code",
      "metadata": {
        "colab": {
          "base_uri": "https://localhost:8080/"
        },
        "id": "G_n064g9eV2Q",
        "outputId": "06f6817d-643f-41f7-8ac2-32cdf2fb05ce"
      },
      "source": [
        "df[\"What company do you work for?\"].unique()"
      ],
      "execution_count": 10,
      "outputs": [
        {
          "output_type": "execute_result",
          "data": {
            "text/plain": [
              "array([nan, 'Ummo', 'Kingdom XLR', 'Freelancer', 'Snowsen', 'Vundzisa',\n",
              "       'Guwava', 'SV Tech', 'Rare Jam', 'Rare Jamz'], dtype=object)"
            ]
          },
          "metadata": {},
          "execution_count": 10
        }
      ]
    },
    {
      "cell_type": "code",
      "metadata": {
        "colab": {
          "base_uri": "https://localhost:8080/"
        },
        "id": "a0PnStv9jbr_",
        "outputId": "27d2bab5-2bc7-4c91-a847-2080db7f423c"
      },
      "source": [
        "df[\"First Name\"].unique()"
      ],
      "execution_count": 17,
      "outputs": [
        {
          "output_type": "execute_result",
          "data": {
            "text/plain": [
              "array(['Kwanele', 'José', 'Simanga', 'Sikhulile', 'Mzwandile',\n",
              "       'Gcinimiyalo', 'Lungelo', 'Zack', 'Sabelo', 'Sibusiso', 'Mlungisi',\n",
              "       'Percy', 'Mano', 'Bagcinele', 'Thobeka', 'Fanelesibonge',\n",
              "       'Ncobile', 'Nosifiso', 'Lihle', 'Nomalungelo', 'Sebenzile',\n",
              "       'Nombuso', 'Lwazi', 'Sibahle', 'Ayanda', 'Siphumelele', 'Muzi',\n",
              "       'Alex', 'Thandwa', 'Bafana', 'Jonathan', 'Fezile', 'Tiyandza',\n",
              "       'Lindinkosi', 'Maphila', 'Mnqobi', 'Zolile', 'Mhlengi',\n",
              "       'Thelumusa', 'Sihle', 'Kangiso', 'Majaha', 'Gcina', 'Thokozani'],\n",
              "      dtype=object)"
            ]
          },
          "metadata": {},
          "execution_count": 17
        }
      ]
    },
    {
      "cell_type": "code",
      "metadata": {
        "id": "3wOi2dVXXhej"
      },
      "source": [
        "df['Last Name'] = df['Last Name'].str.strip()\n",
        "df['First Name'] = df['First Name'].str.strip()\n",
        "df['First Name'] = df['First Name'].replace('Kwanele Prince', 'Kwanele')\n",
        "df['First Name'] = df['First Name'].replace('Tsabedze', 'Kwanele') \n",
        "df['First Name'] = df['First Name'].replace('Muzi Chaboy', 'Muzi')\n",
        "df['First Name'] = df['First Name'].replace('Tyga', 'Sikhulile')\n",
        "df['First Name'] = df['First Name'].replace('Siphumelele Poestess', 'Siphumelele')\n",
        "df['First Name'] = df['First Name'].replace('Snowsen Innovations', 'Bafana')\n",
        "df['First Name'] = df['First Name'].replace('Sabelo S', 'Sabelo')"
      ],
      "execution_count": 16,
      "outputs": []
    },
    {
      "cell_type": "code",
      "metadata": {
        "id": "e0_y8AepWnoX"
      },
      "source": [
        "df.loc[df['First Name'] == 'Kwanele', ['What company do you work for?', 'Are you a student (from any institution)?', 'Are you a member of The Hub?', 'Last Name']] = 'Vundzisa', 'Yes', 'Yes', 'Tsabedze'\n",
        "df.loc[df['First Name'] == 'Simanga', ['What company do you work for?', 'Are you a student (from any institution)?', 'Are you a member of The Hub?', 'Last Name']] = 'Freelancer', 'No', 'Yes', 'Ntsini'\n",
        "df.loc[df['First Name'] == 'Sikhulile', ['What company do you work for?', 'Are you a student (from any institution)?', 'Are you a member of The Hub?', 'Last Name']] = 'Kingdom XLR', 'No', 'Yes', 'Zwane'\n",
        "df.loc[df['First Name'] == 'Mzwandile', ['What company do you work for?', 'Are you a student (from any institution)?', 'Are you a member of The Hub?', 'Last Name']] = 'Kingdom XLR', 'No', 'Yes', 'Nxumalo'\n",
        "df.loc[df['First Name'] == 'Gcinimiyalo', ['What company do you work for?', 'Are you a student (from any institution)?', 'Are you a member of The Hub?', 'Last Name']] = 'Freelancer', 'No', 'Yes', 'Ntuli'\n",
        "df.loc[df['First Name'] == 'Lungelo', ['What company do you work for?', 'Are you a student (from any institution)?', 'Are you a member of The Hub?', 'Last Name']] = 'Freelancer', 'Yes', 'Yes', 'Mamba'\n",
        "df.loc[df['First Name'] == 'Zack', ['What company do you work for?', 'Are you a student (from any institution)?', 'Are you a member of The Hub?', 'Last Name']] = 'Freelancer', 'Yes', 'Yes', 'Towindo'\n",
        "df.loc[df['First Name'] == 'Sabelo', ['What company do you work for?', 'Are you a student (from any institution)?', 'Are you a member of The Hub?', 'Last Name']] = 'SV Tech', 'Yes', 'Yes', 'Vilakati'\n",
        "df.loc[df['First Name'] == 'Sibusiso', ['What company do you work for?', 'Are you a student (from any institution)?', 'Are you a member of The Hub?', 'Last Name']] = 'Freelancer', 'Yes', 'Yes', 'Tsabedze'\n",
        "df.loc[df['First Name'] == 'Percy', ['What company do you work for?', 'Are you a student (from any institution)?', 'Are you a member of The Hub?', 'Last Name']] = 'SV Tech', 'No', 'Yes', 'Malambe'\n",
        "df.loc[df['First Name'] == 'Mano', ['What company do you work for?', 'Are you a student (from any institution)?', 'Are you a member of The Hub?', 'Last Name']] = 'Freelancer', 'No', 'Yes', 'Mafomisa'\n",
        "df.loc[df['First Name'] == 'Bagcinele', ['What company do you work for?', 'Are you a student (from any institution)?', 'Are you a member of The Hub?', 'Last Name']] = 'Kingdom XLR', 'No', 'Yes', 'Fakudze'\n",
        "df.loc[df['First Name'] == 'Thobeka', ['What company do you work for?', 'Are you a student (from any institution)?', 'Are you a member of The Hub?', 'Last Name']] = 'Freelancer', 'No', 'Yes', 'Nxumalo'\n",
        "df.loc[df['First Name'] == 'Fanelesibonge', ['What company do you work for?', 'Are you a student (from any institution)?', 'Are you a member of The Hub?', 'Last Name']] = 'Freelancer', 'No', 'Yes', 'Malaza'\n",
        "df.loc[df['First Name'] == 'Bafana', ['What company do you work for?', 'Are you a student (from any institution)?', 'Are you a member of The Hub?', 'Last Name']] = 'Snowsen', 'No', 'Yes', 'Gama'\n",
        "df.loc[df['First Name'] == 'Tiyandza', ['What company do you work for?', 'Are you a student (from any institution)?', 'Are you a member of The Hub?', 'Last Name']] = 'Snowsen', 'No', 'Yes', 'Cindzi'\n",
        "df.loc[df['First Name'] == 'Sibahle', ['What company do you work for?', 'Are you a student (from any institution)?', 'Are you a member of The Hub?', 'Last Name']] = 'Ummo', 'Yes', 'Yes', 'Mnyakeni'\n",
        "df.loc[df['First Name'] == 'Lindinkosi', ['What company do you work for?', 'Are you a student (from any institution)?', 'Are you a member of The Hub?', 'Last Name']] = 'Freelancer', 'Yes', 'No', 'Mdluli'\n",
        "df.loc[df['First Name'] == 'Lihle', ['What company do you work for?', 'Are you a student (from any institution)?', 'Are you a member of The Hub?', 'Last Name']] = 'Freelancer', 'Yes', 'Yes', 'Dlamini'\n",
        "df.loc[df['First Name'] == 'Muzi', ['What company do you work for?', 'Are you a student (from any institution)?', 'Are you a member of The Hub?', 'Last Name']] = 'Rare Jam', 'Yes', 'Yes', 'Mathunjwa'\n",
        "df.loc[df['First Name'] == 'Mlungisi', ['What company do you work for?', 'Are you a student (from any institution)?', 'Are you a member of The Hub?', 'Last Name']] = 'Freelancer', 'Yes', 'No', 'Shongwe'\n",
        "df.loc[df['First Name'] == 'Nomalungelo', ['What company do you work for?', 'Are you a student (from any institution)?', 'Are you a member of The Hub?', 'Last Name']] = 'Kingdom XLR', 'No', 'Yes', 'Dladla'\n",
        "df.loc[df['First Name'] == 'Nombuso', ['What company do you work for?', 'Are you a student (from any institution)?', 'Are you a member of The Hub?', 'Last Name']] = 'SV Tech', 'Yes', 'Yes', 'Hlophe'\n",
        "df.loc[df['First Name'] == 'Lwazi', ['What company do you work for?', 'Are you a student (from any institution)?', 'Are you a member of The Hub?', 'Last Name']] = 'SV Tech', 'Yes', 'Yes', 'Dlamini'\n",
        "df.loc[df['First Name'] == 'Siphumelele', ['What company do you work for?', 'Are you a student (from any institution)?', 'Are you a member of The Hub?', 'Last Name']] = 'Freelancer', 'Yes', 'Yes', 'Malambe'\n",
        "df.loc[df['First Name'] == 'Ayanda', ['What company do you work for?', 'Are you a student (from any institution)?', 'Are you a member of The Hub?', 'Last Name']] = 'Freelancer', 'No', 'Yes', 'Tsela'\n",
        "df.loc[df['First Name'] == 'Siphumelele', ['What company do you work for?', 'Are you a student (from any institution)?', 'Are you a member of The Hub?', 'Last Name']] = 'Freelancer', 'Yes', 'Yes', 'Malambe'"
      ],
      "execution_count": 41,
      "outputs": []
    },
    {
      "cell_type": "code",
      "metadata": {
        "id": "8784EcBucHsm"
      },
      "source": [
        "df.loc[df['First Name'] == 'Ncobile', ['Are you a student (from any institution)?', 'What company do you work for?', 'Last Name']] = 'Yes', 'Freelancer', 'TBA'\n",
        "df.loc[df['First Name'] == 'Alex', ['Are you a student (from any institution)?', 'What company do you work for?', 'Last Name']] = 'No', 'Kingdom XLR', 'Muti'\n",
        "df.loc[df['First Name'] == 'Fezile', ['Are you a student (from any institution)?', 'What company do you work for?', 'Last Name']] = 'Yes', 'Freelancer', 'Mhlabane'\n",
        "df.loc[df['First Name'] == 'Jonathan', ['Are you a student (from any institution)?', 'What company do you work for?', 'Last Name']] = 'Yes', 'Kingdom XLR', 'Mulumba Obiege'\n",
        "df.loc[df['First Name'] == 'Nosifiso', ['Are you a student (from any institution)?', 'What company do you work for?', 'Last Name']] = 'Yes', 'Freelancer', 'Mamba'\n",
        "df.loc[df['First Name'] == 'Thandwa', ['Are you a student (from any institution)?', 'What company do you work for?', 'Last Name']] = 'Yes', 'Freelancer', 'Mamba'"
      ],
      "execution_count": 49,
      "outputs": []
    },
    {
      "cell_type": "code",
      "metadata": {
        "colab": {
          "base_uri": "https://localhost:8080/",
          "height": 179
        },
        "id": "oMhXMGwD0Znd",
        "outputId": "6f08a6e8-10a7-47ae-ee8f-3b274bd3b390"
      },
      "source": [
        "df.loc[df['First Name'] == 'Thandwa']"
      ],
      "execution_count": 50,
      "outputs": [
        {
          "output_type": "execute_result",
          "data": {
            "text/html": [
              "<div>\n",
              "<style scoped>\n",
              "    .dataframe tbody tr th:only-of-type {\n",
              "        vertical-align: middle;\n",
              "    }\n",
              "\n",
              "    .dataframe tbody tr th {\n",
              "        vertical-align: top;\n",
              "    }\n",
              "\n",
              "    .dataframe thead th {\n",
              "        text-align: right;\n",
              "    }\n",
              "</style>\n",
              "<table border=\"1\" class=\"dataframe\">\n",
              "  <thead>\n",
              "    <tr style=\"text-align: right;\">\n",
              "      <th></th>\n",
              "      <th>First Name</th>\n",
              "      <th>Phone Number</th>\n",
              "      <th>Sign-in Time</th>\n",
              "      <th>What are you working on today?</th>\n",
              "      <th>What equipment will you use?</th>\n",
              "      <th>Internet?</th>\n",
              "      <th>How many hours will you be putting in?</th>\n",
              "      <th>Are you a member of The Hub?</th>\n",
              "      <th>Are you a student (from any institution)?</th>\n",
              "      <th>What company do you work for?</th>\n",
              "      <th>Last Name</th>\n",
              "      <th>What equipment will you check out?</th>\n",
              "    </tr>\n",
              "    <tr>\n",
              "      <th>Timestamp</th>\n",
              "      <th></th>\n",
              "      <th></th>\n",
              "      <th></th>\n",
              "      <th></th>\n",
              "      <th></th>\n",
              "      <th></th>\n",
              "      <th></th>\n",
              "      <th></th>\n",
              "      <th></th>\n",
              "      <th></th>\n",
              "      <th></th>\n",
              "      <th></th>\n",
              "    </tr>\n",
              "  </thead>\n",
              "  <tbody>\n",
              "    <tr>\n",
              "      <th>2021-07-30</th>\n",
              "      <td>Thandwa</td>\n",
              "      <td>76535415</td>\n",
              "      <td>11:17:00 AM</td>\n",
              "      <td>Research</td>\n",
              "      <td>PC Workstation</td>\n",
              "      <td>Shared Hotspot</td>\n",
              "      <td>5:00:00 PM</td>\n",
              "      <td>No</td>\n",
              "      <td>Yes</td>\n",
              "      <td>Freelancer</td>\n",
              "      <td>Mamba</td>\n",
              "      <td>NaN</td>\n",
              "    </tr>\n",
              "  </tbody>\n",
              "</table>\n",
              "</div>"
            ],
            "text/plain": [
              "           First Name Phone Number  ... Last Name What equipment will you check out?\n",
              "Timestamp                           ...                                             \n",
              "2021-07-30    Thandwa     76535415  ...     Mamba                                NaN\n",
              "\n",
              "[1 rows x 12 columns]"
            ]
          },
          "metadata": {},
          "execution_count": 50
        }
      ]
    },
    {
      "cell_type": "code",
      "metadata": {
        "colab": {
          "base_uri": "https://localhost:8080/",
          "height": 1000
        },
        "id": "C1-MX_ijjpDF",
        "outputId": "392c888f-0a4f-4bbf-e3a5-c4e834d24abd"
      },
      "source": [
        "first_name_last_name = df[['First Name', 'Last Name']]\n",
        "first_name_last_name = first_name_last_name.groupby('First Name')['Last Name'].unique()\n",
        "#first_name_last_name = first_name_last_name.agg({\"Last Name\": \"nunique\"})\n",
        "first_name_last_name = first_name_last_name.reset_index()\n",
        "first_name_last_name"
      ],
      "execution_count": 48,
      "outputs": [
        {
          "output_type": "execute_result",
          "data": {
            "text/html": [
              "<div>\n",
              "<style scoped>\n",
              "    .dataframe tbody tr th:only-of-type {\n",
              "        vertical-align: middle;\n",
              "    }\n",
              "\n",
              "    .dataframe tbody tr th {\n",
              "        vertical-align: top;\n",
              "    }\n",
              "\n",
              "    .dataframe thead th {\n",
              "        text-align: right;\n",
              "    }\n",
              "</style>\n",
              "<table border=\"1\" class=\"dataframe\">\n",
              "  <thead>\n",
              "    <tr style=\"text-align: right;\">\n",
              "      <th></th>\n",
              "      <th>First Name</th>\n",
              "      <th>Last Name</th>\n",
              "    </tr>\n",
              "  </thead>\n",
              "  <tbody>\n",
              "    <tr>\n",
              "      <th>0</th>\n",
              "      <td>Alex</td>\n",
              "      <td>[Muti]</td>\n",
              "    </tr>\n",
              "    <tr>\n",
              "      <th>1</th>\n",
              "      <td>Ayanda</td>\n",
              "      <td>[Tsela]</td>\n",
              "    </tr>\n",
              "    <tr>\n",
              "      <th>2</th>\n",
              "      <td>Bafana</td>\n",
              "      <td>[Gama]</td>\n",
              "    </tr>\n",
              "    <tr>\n",
              "      <th>3</th>\n",
              "      <td>Bagcinele</td>\n",
              "      <td>[Fakudze]</td>\n",
              "    </tr>\n",
              "    <tr>\n",
              "      <th>4</th>\n",
              "      <td>Fanelesibonge</td>\n",
              "      <td>[Malaza]</td>\n",
              "    </tr>\n",
              "    <tr>\n",
              "      <th>5</th>\n",
              "      <td>Fezile</td>\n",
              "      <td>[Mhlabane]</td>\n",
              "    </tr>\n",
              "    <tr>\n",
              "      <th>6</th>\n",
              "      <td>Gcina</td>\n",
              "      <td>[Cindzi]</td>\n",
              "    </tr>\n",
              "    <tr>\n",
              "      <th>7</th>\n",
              "      <td>Gcinimiyalo</td>\n",
              "      <td>[Ntuli]</td>\n",
              "    </tr>\n",
              "    <tr>\n",
              "      <th>8</th>\n",
              "      <td>Jonathan</td>\n",
              "      <td>[Mulumba Obiege]</td>\n",
              "    </tr>\n",
              "    <tr>\n",
              "      <th>9</th>\n",
              "      <td>José</td>\n",
              "      <td>[Rego]</td>\n",
              "    </tr>\n",
              "    <tr>\n",
              "      <th>10</th>\n",
              "      <td>Kangiso</td>\n",
              "      <td>[Malambe]</td>\n",
              "    </tr>\n",
              "    <tr>\n",
              "      <th>11</th>\n",
              "      <td>Kwanele</td>\n",
              "      <td>[Tsabedze]</td>\n",
              "    </tr>\n",
              "    <tr>\n",
              "      <th>12</th>\n",
              "      <td>Lihle</td>\n",
              "      <td>[Dlamini]</td>\n",
              "    </tr>\n",
              "    <tr>\n",
              "      <th>13</th>\n",
              "      <td>Lindinkosi</td>\n",
              "      <td>[Mdluli]</td>\n",
              "    </tr>\n",
              "    <tr>\n",
              "      <th>14</th>\n",
              "      <td>Lungelo</td>\n",
              "      <td>[Mamba]</td>\n",
              "    </tr>\n",
              "    <tr>\n",
              "      <th>15</th>\n",
              "      <td>Lwazi</td>\n",
              "      <td>[Dlamini]</td>\n",
              "    </tr>\n",
              "    <tr>\n",
              "      <th>16</th>\n",
              "      <td>Majaha</td>\n",
              "      <td>[Nkambule]</td>\n",
              "    </tr>\n",
              "    <tr>\n",
              "      <th>17</th>\n",
              "      <td>Mano</td>\n",
              "      <td>[Mafomisa]</td>\n",
              "    </tr>\n",
              "    <tr>\n",
              "      <th>18</th>\n",
              "      <td>Maphila</td>\n",
              "      <td>[Kunene]</td>\n",
              "    </tr>\n",
              "    <tr>\n",
              "      <th>19</th>\n",
              "      <td>Mhlengi</td>\n",
              "      <td>[Nkambule]</td>\n",
              "    </tr>\n",
              "    <tr>\n",
              "      <th>20</th>\n",
              "      <td>Mlungisi</td>\n",
              "      <td>[Shongwe]</td>\n",
              "    </tr>\n",
              "    <tr>\n",
              "      <th>21</th>\n",
              "      <td>Mnqobi</td>\n",
              "      <td>[Nkambule]</td>\n",
              "    </tr>\n",
              "    <tr>\n",
              "      <th>22</th>\n",
              "      <td>Muzi</td>\n",
              "      <td>[Mathunjwa]</td>\n",
              "    </tr>\n",
              "    <tr>\n",
              "      <th>23</th>\n",
              "      <td>Mzwandile</td>\n",
              "      <td>[Nxumalo]</td>\n",
              "    </tr>\n",
              "    <tr>\n",
              "      <th>24</th>\n",
              "      <td>Ncobile</td>\n",
              "      <td>[TBA]</td>\n",
              "    </tr>\n",
              "    <tr>\n",
              "      <th>25</th>\n",
              "      <td>Nomalungelo</td>\n",
              "      <td>[Dladla]</td>\n",
              "    </tr>\n",
              "    <tr>\n",
              "      <th>26</th>\n",
              "      <td>Nombuso</td>\n",
              "      <td>[Hlophe]</td>\n",
              "    </tr>\n",
              "    <tr>\n",
              "      <th>27</th>\n",
              "      <td>Nosifiso</td>\n",
              "      <td>[Mamba]</td>\n",
              "    </tr>\n",
              "    <tr>\n",
              "      <th>28</th>\n",
              "      <td>Percy</td>\n",
              "      <td>[Malambe]</td>\n",
              "    </tr>\n",
              "    <tr>\n",
              "      <th>29</th>\n",
              "      <td>Sabelo</td>\n",
              "      <td>[Vilakati]</td>\n",
              "    </tr>\n",
              "    <tr>\n",
              "      <th>30</th>\n",
              "      <td>Sebenzile</td>\n",
              "      <td>[nan]</td>\n",
              "    </tr>\n",
              "    <tr>\n",
              "      <th>31</th>\n",
              "      <td>Sibahle</td>\n",
              "      <td>[Mnyakeni]</td>\n",
              "    </tr>\n",
              "    <tr>\n",
              "      <th>32</th>\n",
              "      <td>Sibusiso</td>\n",
              "      <td>[Tsabedze]</td>\n",
              "    </tr>\n",
              "    <tr>\n",
              "      <th>33</th>\n",
              "      <td>Sihle</td>\n",
              "      <td>[Thwala]</td>\n",
              "    </tr>\n",
              "    <tr>\n",
              "      <th>34</th>\n",
              "      <td>Sikhulile</td>\n",
              "      <td>[Zwane]</td>\n",
              "    </tr>\n",
              "    <tr>\n",
              "      <th>35</th>\n",
              "      <td>Simanga</td>\n",
              "      <td>[Ntsini]</td>\n",
              "    </tr>\n",
              "    <tr>\n",
              "      <th>36</th>\n",
              "      <td>Siphumelele</td>\n",
              "      <td>[Malambe]</td>\n",
              "    </tr>\n",
              "    <tr>\n",
              "      <th>37</th>\n",
              "      <td>Thandwa</td>\n",
              "      <td>[nan]</td>\n",
              "    </tr>\n",
              "    <tr>\n",
              "      <th>38</th>\n",
              "      <td>Thelumusa</td>\n",
              "      <td>[Hlatshwako]</td>\n",
              "    </tr>\n",
              "    <tr>\n",
              "      <th>39</th>\n",
              "      <td>Thobeka</td>\n",
              "      <td>[Nxumalo]</td>\n",
              "    </tr>\n",
              "    <tr>\n",
              "      <th>40</th>\n",
              "      <td>Thokozani</td>\n",
              "      <td>[Mamba]</td>\n",
              "    </tr>\n",
              "    <tr>\n",
              "      <th>41</th>\n",
              "      <td>Tiyandza</td>\n",
              "      <td>[Cindzi]</td>\n",
              "    </tr>\n",
              "    <tr>\n",
              "      <th>42</th>\n",
              "      <td>Zack</td>\n",
              "      <td>[Towindo]</td>\n",
              "    </tr>\n",
              "    <tr>\n",
              "      <th>43</th>\n",
              "      <td>Zolile</td>\n",
              "      <td>[Motsa]</td>\n",
              "    </tr>\n",
              "  </tbody>\n",
              "</table>\n",
              "</div>"
            ],
            "text/plain": [
              "       First Name         Last Name\n",
              "0            Alex            [Muti]\n",
              "1          Ayanda           [Tsela]\n",
              "2          Bafana            [Gama]\n",
              "3       Bagcinele         [Fakudze]\n",
              "4   Fanelesibonge          [Malaza]\n",
              "5          Fezile        [Mhlabane]\n",
              "6           Gcina          [Cindzi]\n",
              "7     Gcinimiyalo           [Ntuli]\n",
              "8        Jonathan  [Mulumba Obiege]\n",
              "9            José            [Rego]\n",
              "10        Kangiso         [Malambe]\n",
              "11        Kwanele        [Tsabedze]\n",
              "12          Lihle         [Dlamini]\n",
              "13     Lindinkosi          [Mdluli]\n",
              "14        Lungelo           [Mamba]\n",
              "15          Lwazi         [Dlamini]\n",
              "16         Majaha        [Nkambule]\n",
              "17           Mano        [Mafomisa]\n",
              "18        Maphila          [Kunene]\n",
              "19        Mhlengi        [Nkambule]\n",
              "20       Mlungisi         [Shongwe]\n",
              "21         Mnqobi        [Nkambule]\n",
              "22           Muzi       [Mathunjwa]\n",
              "23      Mzwandile         [Nxumalo]\n",
              "24        Ncobile             [TBA]\n",
              "25    Nomalungelo          [Dladla]\n",
              "26        Nombuso          [Hlophe]\n",
              "27       Nosifiso           [Mamba]\n",
              "28          Percy         [Malambe]\n",
              "29         Sabelo        [Vilakati]\n",
              "30      Sebenzile             [nan]\n",
              "31        Sibahle        [Mnyakeni]\n",
              "32       Sibusiso        [Tsabedze]\n",
              "33          Sihle          [Thwala]\n",
              "34      Sikhulile           [Zwane]\n",
              "35        Simanga          [Ntsini]\n",
              "36    Siphumelele         [Malambe]\n",
              "37        Thandwa             [nan]\n",
              "38      Thelumusa      [Hlatshwako]\n",
              "39        Thobeka         [Nxumalo]\n",
              "40      Thokozani           [Mamba]\n",
              "41       Tiyandza          [Cindzi]\n",
              "42           Zack         [Towindo]\n",
              "43         Zolile           [Motsa]"
            ]
          },
          "metadata": {},
          "execution_count": 48
        }
      ]
    },
    {
      "cell_type": "code",
      "metadata": {
        "colab": {
          "base_uri": "https://localhost:8080/",
          "height": 388
        },
        "id": "uVyvz8vQZlPv",
        "outputId": "d7544b6c-b327-4ad6-9c4d-ea5c24707c85"
      },
      "source": [
        "df.head()"
      ],
      "execution_count": 51,
      "outputs": [
        {
          "output_type": "execute_result",
          "data": {
            "text/html": [
              "<div>\n",
              "<style scoped>\n",
              "    .dataframe tbody tr th:only-of-type {\n",
              "        vertical-align: middle;\n",
              "    }\n",
              "\n",
              "    .dataframe tbody tr th {\n",
              "        vertical-align: top;\n",
              "    }\n",
              "\n",
              "    .dataframe thead th {\n",
              "        text-align: right;\n",
              "    }\n",
              "</style>\n",
              "<table border=\"1\" class=\"dataframe\">\n",
              "  <thead>\n",
              "    <tr style=\"text-align: right;\">\n",
              "      <th></th>\n",
              "      <th>First Name</th>\n",
              "      <th>Phone Number</th>\n",
              "      <th>Sign-in Time</th>\n",
              "      <th>What are you working on today?</th>\n",
              "      <th>What equipment will you use?</th>\n",
              "      <th>Internet?</th>\n",
              "      <th>How many hours will you be putting in?</th>\n",
              "      <th>Are you a member of The Hub?</th>\n",
              "      <th>Are you a student (from any institution)?</th>\n",
              "      <th>What company do you work for?</th>\n",
              "      <th>Last Name</th>\n",
              "      <th>What equipment will you check out?</th>\n",
              "    </tr>\n",
              "    <tr>\n",
              "      <th>Timestamp</th>\n",
              "      <th></th>\n",
              "      <th></th>\n",
              "      <th></th>\n",
              "      <th></th>\n",
              "      <th></th>\n",
              "      <th></th>\n",
              "      <th></th>\n",
              "      <th></th>\n",
              "      <th></th>\n",
              "      <th></th>\n",
              "      <th></th>\n",
              "      <th></th>\n",
              "    </tr>\n",
              "  </thead>\n",
              "  <tbody>\n",
              "    <tr>\n",
              "      <th>2021-02-11</th>\n",
              "      <td>Kwanele</td>\n",
              "      <td>7815 8606</td>\n",
              "      <td>11:00:00 AM</td>\n",
              "      <td>Company Work</td>\n",
              "      <td>Brought my own workstation</td>\n",
              "      <td>Shared Hotspot</td>\n",
              "      <td>6:00:00 AM</td>\n",
              "      <td>Yes</td>\n",
              "      <td>Yes</td>\n",
              "      <td>Vundzisa</td>\n",
              "      <td>Tsabedze</td>\n",
              "      <td>NaN</td>\n",
              "    </tr>\n",
              "    <tr>\n",
              "      <th>2021-02-11</th>\n",
              "      <td>José</td>\n",
              "      <td>NaN</td>\n",
              "      <td>8:00:00 AM</td>\n",
              "      <td>Company Work</td>\n",
              "      <td>Mac Workstation</td>\n",
              "      <td>Shared Hotspot</td>\n",
              "      <td>8:00:00 PM</td>\n",
              "      <td>Yes</td>\n",
              "      <td>No</td>\n",
              "      <td>Ummo</td>\n",
              "      <td>Rego</td>\n",
              "      <td>NaN</td>\n",
              "    </tr>\n",
              "    <tr>\n",
              "      <th>2021-02-11</th>\n",
              "      <td>Simanga</td>\n",
              "      <td>78501932</td>\n",
              "      <td>4:00:00 AM</td>\n",
              "      <td>Content &amp; Creativity</td>\n",
              "      <td>PC Workstation</td>\n",
              "      <td>Shared Hotspot</td>\n",
              "      <td>5:00:00 PM</td>\n",
              "      <td>Yes</td>\n",
              "      <td>No</td>\n",
              "      <td>Freelancer</td>\n",
              "      <td>Ntsini</td>\n",
              "      <td>NaN</td>\n",
              "    </tr>\n",
              "    <tr>\n",
              "      <th>2021-02-13</th>\n",
              "      <td>Simanga</td>\n",
              "      <td>78501932</td>\n",
              "      <td>11:00:00 AM</td>\n",
              "      <td>Content &amp; Creativity</td>\n",
              "      <td>Mac Workstation</td>\n",
              "      <td>Shared Hotspot</td>\n",
              "      <td>5:00:00 PM</td>\n",
              "      <td>Yes</td>\n",
              "      <td>No</td>\n",
              "      <td>Freelancer</td>\n",
              "      <td>Ntsini</td>\n",
              "      <td>NaN</td>\n",
              "    </tr>\n",
              "    <tr>\n",
              "      <th>2021-02-13</th>\n",
              "      <td>José</td>\n",
              "      <td>NaN</td>\n",
              "      <td>8:00:00 AM</td>\n",
              "      <td>Company Work</td>\n",
              "      <td>Mac Workstation</td>\n",
              "      <td>Shared Hotspot</td>\n",
              "      <td>8:00:00 PM</td>\n",
              "      <td>Yes</td>\n",
              "      <td>No</td>\n",
              "      <td>Ummo</td>\n",
              "      <td>Rego</td>\n",
              "      <td>NaN</td>\n",
              "    </tr>\n",
              "  </tbody>\n",
              "</table>\n",
              "</div>"
            ],
            "text/plain": [
              "           First Name Phone Number  ... Last Name What equipment will you check out?\n",
              "Timestamp                           ...                                             \n",
              "2021-02-11    Kwanele    7815 8606  ...  Tsabedze                                NaN\n",
              "2021-02-11       José          NaN  ...      Rego                                NaN\n",
              "2021-02-11    Simanga     78501932  ...    Ntsini                                NaN\n",
              "2021-02-13    Simanga     78501932  ...    Ntsini                                NaN\n",
              "2021-02-13       José          NaN  ...      Rego                                NaN\n",
              "\n",
              "[5 rows x 12 columns]"
            ]
          },
          "metadata": {},
          "execution_count": 51
        }
      ]
    },
    {
      "cell_type": "code",
      "metadata": {
        "id": "_xF_bXNkhap8"
      },
      "source": [
        "df.replace(np.nan, \"\", inplace = True)"
      ],
      "execution_count": 52,
      "outputs": []
    },
    {
      "cell_type": "markdown",
      "metadata": {
        "id": "Wpraak5dat9T"
      },
      "source": [
        "df1 is a dataframe where entries of the column 'how many hours will you be putting in?' were time in the 24 hr clock."
      ]
    },
    {
      "cell_type": "code",
      "metadata": {
        "id": "miWkNohR0fBo"
      },
      "source": [
        "df1 = df.loc['2021-02-11 00:00:00':'2021-08-22 16:28:53']"
      ],
      "execution_count": 53,
      "outputs": []
    },
    {
      "cell_type": "code",
      "metadata": {
        "colab": {
          "base_uri": "https://localhost:8080/",
          "height": 473
        },
        "id": "sVLLVVA9cWQl",
        "outputId": "4be55b0f-73b1-4eb0-bc20-cb1a69eedac4"
      },
      "source": [
        "df1.tail()"
      ],
      "execution_count": 54,
      "outputs": [
        {
          "output_type": "execute_result",
          "data": {
            "text/html": [
              "<div>\n",
              "<style scoped>\n",
              "    .dataframe tbody tr th:only-of-type {\n",
              "        vertical-align: middle;\n",
              "    }\n",
              "\n",
              "    .dataframe tbody tr th {\n",
              "        vertical-align: top;\n",
              "    }\n",
              "\n",
              "    .dataframe thead th {\n",
              "        text-align: right;\n",
              "    }\n",
              "</style>\n",
              "<table border=\"1\" class=\"dataframe\">\n",
              "  <thead>\n",
              "    <tr style=\"text-align: right;\">\n",
              "      <th></th>\n",
              "      <th>First Name</th>\n",
              "      <th>Phone Number</th>\n",
              "      <th>Sign-in Time</th>\n",
              "      <th>What are you working on today?</th>\n",
              "      <th>What equipment will you use?</th>\n",
              "      <th>Internet?</th>\n",
              "      <th>How many hours will you be putting in?</th>\n",
              "      <th>Are you a member of The Hub?</th>\n",
              "      <th>Are you a student (from any institution)?</th>\n",
              "      <th>What company do you work for?</th>\n",
              "      <th>Last Name</th>\n",
              "      <th>What equipment will you check out?</th>\n",
              "    </tr>\n",
              "    <tr>\n",
              "      <th>Timestamp</th>\n",
              "      <th></th>\n",
              "      <th></th>\n",
              "      <th></th>\n",
              "      <th></th>\n",
              "      <th></th>\n",
              "      <th></th>\n",
              "      <th></th>\n",
              "      <th></th>\n",
              "      <th></th>\n",
              "      <th></th>\n",
              "      <th></th>\n",
              "      <th></th>\n",
              "    </tr>\n",
              "  </thead>\n",
              "  <tbody>\n",
              "    <tr>\n",
              "      <th>2021-08-21 23:54:00</th>\n",
              "      <td>Mhlengi</td>\n",
              "      <td></td>\n",
              "      <td>8:00:00 PM</td>\n",
              "      <td>Content &amp; Creativity</td>\n",
              "      <td>Brought my own workstation, Audio Box</td>\n",
              "      <td>Brought my own internet</td>\n",
              "      <td>12:00:00 AM</td>\n",
              "      <td>Yes</td>\n",
              "      <td>Yes</td>\n",
              "      <td>Freelancer</td>\n",
              "      <td>Nkambule</td>\n",
              "      <td></td>\n",
              "    </tr>\n",
              "    <tr>\n",
              "      <th>2021-08-22 09:09:09</th>\n",
              "      <td>Kwanele</td>\n",
              "      <td></td>\n",
              "      <td>1:10:00 PM</td>\n",
              "      <td>Company Work, Research, Content &amp; Creativity</td>\n",
              "      <td>Mac Workstation</td>\n",
              "      <td>Shared Hotspot</td>\n",
              "      <td>7:45:00 PM</td>\n",
              "      <td>Yes</td>\n",
              "      <td>Yes</td>\n",
              "      <td>Vundzisa</td>\n",
              "      <td>Tsabedze</td>\n",
              "      <td></td>\n",
              "    </tr>\n",
              "    <tr>\n",
              "      <th>2021-08-22 09:10:04</th>\n",
              "      <td>Bafana</td>\n",
              "      <td></td>\n",
              "      <td>9:00:00 AM</td>\n",
              "      <td>Company Work, Content &amp; Creativity</td>\n",
              "      <td>PC Workstation, Keyboard, Mouse, Monitor</td>\n",
              "      <td>Shared Hotspot</td>\n",
              "      <td>3:00:00 PM</td>\n",
              "      <td>Yes</td>\n",
              "      <td>No</td>\n",
              "      <td>Snowsen</td>\n",
              "      <td>Gama</td>\n",
              "      <td></td>\n",
              "    </tr>\n",
              "    <tr>\n",
              "      <th>2021-08-22 13:52:25</th>\n",
              "      <td>Simanga</td>\n",
              "      <td></td>\n",
              "      <td>10:30:00 AM</td>\n",
              "      <td>Content &amp; Creativity</td>\n",
              "      <td>Mac Workstation</td>\n",
              "      <td>Shared Hotspot</td>\n",
              "      <td>8:30:00 PM</td>\n",
              "      <td>Yes</td>\n",
              "      <td>No</td>\n",
              "      <td>Freelancer</td>\n",
              "      <td>Ntsini</td>\n",
              "      <td></td>\n",
              "    </tr>\n",
              "    <tr>\n",
              "      <th>2021-08-22 16:28:53</th>\n",
              "      <td>Muzi</td>\n",
              "      <td></td>\n",
              "      <td>4:15:00 PM</td>\n",
              "      <td>Content &amp; Creativity</td>\n",
              "      <td>Brought my own workstation, Audio Box</td>\n",
              "      <td>Shared Hotspot</td>\n",
              "      <td>6:00:00 PM</td>\n",
              "      <td>Yes</td>\n",
              "      <td>Yes</td>\n",
              "      <td>Rare Jam</td>\n",
              "      <td>Mathunjwa</td>\n",
              "      <td></td>\n",
              "    </tr>\n",
              "  </tbody>\n",
              "</table>\n",
              "</div>"
            ],
            "text/plain": [
              "                    First Name  ... What equipment will you check out?\n",
              "Timestamp                       ...                                   \n",
              "2021-08-21 23:54:00    Mhlengi  ...                                   \n",
              "2021-08-22 09:09:09    Kwanele  ...                                   \n",
              "2021-08-22 09:10:04     Bafana  ...                                   \n",
              "2021-08-22 13:52:25    Simanga  ...                                   \n",
              "2021-08-22 16:28:53       Muzi  ...                                   \n",
              "\n",
              "[5 rows x 12 columns]"
            ]
          },
          "metadata": {},
          "execution_count": 54
        }
      ]
    },
    {
      "cell_type": "code",
      "metadata": {
        "id": "V9FcEKEodWMy"
      },
      "source": [
        "df1['How many hours will you be putting in?'] = pd.to_datetime(df1['How many hours will you be putting in?'])\n",
        "df1['Sign-in Time'] = pd.to_datetime(df1['Sign-in Time'])"
      ],
      "execution_count": 55,
      "outputs": []
    },
    {
      "cell_type": "code",
      "metadata": {
        "id": "Db4Q05uUWlgi"
      },
      "source": [
        "df1['How many hours will you be putting in?'] = (df1['How many hours will you be putting in?']-df1['Sign-in Time'])/np.timedelta64(1,'h')\n",
        "df1['How many hours will you be putting in?'] = abs(df1['How many hours will you be putting in?'])\n",
        "df1['How many hours will you be putting in?'] = df1['How many hours will you be putting in?'].replace(0.0, 8.0)"
      ],
      "execution_count": 56,
      "outputs": []
    },
    {
      "cell_type": "code",
      "metadata": {
        "id": "hjhSUEgoi35V"
      },
      "source": [
        "df['How many hours will you be putting in?'].loc['2021-02-11 00:00:00':'2021-08-22 16:28:53'] = df1['How many hours will you be putting in?']"
      ],
      "execution_count": 57,
      "outputs": []
    },
    {
      "cell_type": "code",
      "metadata": {
        "colab": {
          "base_uri": "https://localhost:8080/",
          "height": 357
        },
        "id": "l79Knjz7m0oQ",
        "outputId": "106e3486-9094-4d3a-8a76-c65a2c58ff59"
      },
      "source": [
        "df = df.reset_index()\n",
        "df.head()"
      ],
      "execution_count": 58,
      "outputs": [
        {
          "output_type": "execute_result",
          "data": {
            "text/html": [
              "<div>\n",
              "<style scoped>\n",
              "    .dataframe tbody tr th:only-of-type {\n",
              "        vertical-align: middle;\n",
              "    }\n",
              "\n",
              "    .dataframe tbody tr th {\n",
              "        vertical-align: top;\n",
              "    }\n",
              "\n",
              "    .dataframe thead th {\n",
              "        text-align: right;\n",
              "    }\n",
              "</style>\n",
              "<table border=\"1\" class=\"dataframe\">\n",
              "  <thead>\n",
              "    <tr style=\"text-align: right;\">\n",
              "      <th></th>\n",
              "      <th>Timestamp</th>\n",
              "      <th>First Name</th>\n",
              "      <th>Phone Number</th>\n",
              "      <th>Sign-in Time</th>\n",
              "      <th>What are you working on today?</th>\n",
              "      <th>What equipment will you use?</th>\n",
              "      <th>Internet?</th>\n",
              "      <th>How many hours will you be putting in?</th>\n",
              "      <th>Are you a member of The Hub?</th>\n",
              "      <th>Are you a student (from any institution)?</th>\n",
              "      <th>What company do you work for?</th>\n",
              "      <th>Last Name</th>\n",
              "      <th>What equipment will you check out?</th>\n",
              "    </tr>\n",
              "  </thead>\n",
              "  <tbody>\n",
              "    <tr>\n",
              "      <th>0</th>\n",
              "      <td>2021-02-11</td>\n",
              "      <td>Kwanele</td>\n",
              "      <td>7815 8606</td>\n",
              "      <td>11:00:00 AM</td>\n",
              "      <td>Company Work</td>\n",
              "      <td>Brought my own workstation</td>\n",
              "      <td>Shared Hotspot</td>\n",
              "      <td>5</td>\n",
              "      <td>Yes</td>\n",
              "      <td>Yes</td>\n",
              "      <td>Vundzisa</td>\n",
              "      <td>Tsabedze</td>\n",
              "      <td></td>\n",
              "    </tr>\n",
              "    <tr>\n",
              "      <th>1</th>\n",
              "      <td>2021-02-11</td>\n",
              "      <td>José</td>\n",
              "      <td></td>\n",
              "      <td>8:00:00 AM</td>\n",
              "      <td>Company Work</td>\n",
              "      <td>Mac Workstation</td>\n",
              "      <td>Shared Hotspot</td>\n",
              "      <td>12</td>\n",
              "      <td>Yes</td>\n",
              "      <td>No</td>\n",
              "      <td>Ummo</td>\n",
              "      <td>Rego</td>\n",
              "      <td></td>\n",
              "    </tr>\n",
              "    <tr>\n",
              "      <th>2</th>\n",
              "      <td>2021-02-11</td>\n",
              "      <td>Simanga</td>\n",
              "      <td>78501932</td>\n",
              "      <td>4:00:00 AM</td>\n",
              "      <td>Content &amp; Creativity</td>\n",
              "      <td>PC Workstation</td>\n",
              "      <td>Shared Hotspot</td>\n",
              "      <td>13</td>\n",
              "      <td>Yes</td>\n",
              "      <td>No</td>\n",
              "      <td>Freelancer</td>\n",
              "      <td>Ntsini</td>\n",
              "      <td></td>\n",
              "    </tr>\n",
              "    <tr>\n",
              "      <th>3</th>\n",
              "      <td>2021-02-13</td>\n",
              "      <td>Simanga</td>\n",
              "      <td>78501932</td>\n",
              "      <td>11:00:00 AM</td>\n",
              "      <td>Content &amp; Creativity</td>\n",
              "      <td>Mac Workstation</td>\n",
              "      <td>Shared Hotspot</td>\n",
              "      <td>6</td>\n",
              "      <td>Yes</td>\n",
              "      <td>No</td>\n",
              "      <td>Freelancer</td>\n",
              "      <td>Ntsini</td>\n",
              "      <td></td>\n",
              "    </tr>\n",
              "    <tr>\n",
              "      <th>4</th>\n",
              "      <td>2021-02-13</td>\n",
              "      <td>José</td>\n",
              "      <td></td>\n",
              "      <td>8:00:00 AM</td>\n",
              "      <td>Company Work</td>\n",
              "      <td>Mac Workstation</td>\n",
              "      <td>Shared Hotspot</td>\n",
              "      <td>12</td>\n",
              "      <td>Yes</td>\n",
              "      <td>No</td>\n",
              "      <td>Ummo</td>\n",
              "      <td>Rego</td>\n",
              "      <td></td>\n",
              "    </tr>\n",
              "  </tbody>\n",
              "</table>\n",
              "</div>"
            ],
            "text/plain": [
              "   Timestamp First Name  ... Last Name What equipment will you check out?\n",
              "0 2021-02-11    Kwanele  ...  Tsabedze                                   \n",
              "1 2021-02-11       José  ...      Rego                                   \n",
              "2 2021-02-11    Simanga  ...    Ntsini                                   \n",
              "3 2021-02-13    Simanga  ...    Ntsini                                   \n",
              "4 2021-02-13       José  ...      Rego                                   \n",
              "\n",
              "[5 rows x 13 columns]"
            ]
          },
          "metadata": {},
          "execution_count": 58
        }
      ]
    },
    {
      "cell_type": "code",
      "metadata": {
        "id": "v0LeO9z7nenp"
      },
      "source": [
        "df['Timestamp'] = df['Timestamp'].astype('str')\n",
        "df['Sign-in Time'] = df['Sign-in Time'].astype('str')"
      ],
      "execution_count": 59,
      "outputs": []
    },
    {
      "cell_type": "code",
      "metadata": {
        "colab": {
          "base_uri": "https://localhost:8080/"
        },
        "id": "csuNWbyckWOh",
        "outputId": "83e31369-0463-40b6-fb5f-8e83b3d2e2fb"
      },
      "source": [
        "df['Internet?'].unique()"
      ],
      "execution_count": 60,
      "outputs": [
        {
          "output_type": "execute_result",
          "data": {
            "text/plain": [
              "array(['Shared Hotspot', 'BYOI', 'Brought my own internet',\n",
              "       \"Don't need internet\"], dtype=object)"
            ]
          },
          "metadata": {},
          "execution_count": 60
        }
      ]
    },
    {
      "cell_type": "code",
      "metadata": {
        "colab": {
          "base_uri": "https://localhost:8080/"
        },
        "id": "B0DVoEV5oBWo",
        "outputId": "6acd433c-5f70-42ff-93b1-a36cade3d597"
      },
      "source": [
        "df.dtypes"
      ],
      "execution_count": null,
      "outputs": [
        {
          "output_type": "execute_result",
          "data": {
            "text/plain": [
              "Timestamp                                    object\n",
              "First Name                                   object\n",
              "Phone Number                                 object\n",
              "Sign-in Time                                 object\n",
              "What are you working on today?               object\n",
              "What equipment will you use?                 object\n",
              "Internet?                                    object\n",
              "How many hours will you be putting in?       object\n",
              "Are you a member of The Hub?                 object\n",
              "Are you a student (from any institution)?    object\n",
              "What company do you work for?                object\n",
              "Last Name                                    object\n",
              "What equipment will you check out?           object\n",
              "dtype: object"
            ]
          },
          "metadata": {},
          "execution_count": 21
        }
      ]
    },
    {
      "cell_type": "code",
      "metadata": {
        "id": "9xPrQXO5o3cs"
      },
      "source": [
        "df.replace(np.nan, \"\", inplace = True)\n",
        "df['Internet?'].replace('BYOI', 'Brought my own internet', inplace=True)\n",
        "df.replace('Brought my own internet', '', inplace=True)\n",
        "df['Internet?'].replace('', 'Brought my own internet', inplace=True)"
      ],
      "execution_count": 61,
      "outputs": []
    },
    {
      "cell_type": "code",
      "metadata": {
        "colab": {
          "base_uri": "https://localhost:8080/"
        },
        "id": "bseQlMNjfWI6",
        "outputId": "b151b12b-2504-4943-bd54-b2aa29c43a9d"
      },
      "source": [
        "lOfList = df.to_numpy().tolist()\n",
        "print(lOfList)"
      ],
      "execution_count": 62,
      "outputs": [
        {
          "output_type": "stream",
          "name": "stdout",
          "text": [
            "[['2021-02-11 00:00:00', 'Kwanele', '7815 8606', '11:00:00 AM', 'Company Work', 'Brought my own workstation', 'Shared Hotspot', 5.0, 'Yes', 'Yes', 'Vundzisa', 'Tsabedze', ''], ['2021-02-11 00:00:00', 'José', '', '8:00:00 AM', 'Company Work', 'Mac Workstation', 'Shared Hotspot', 12.0, 'Yes', 'No', 'Ummo', 'Rego', ''], ['2021-02-11 00:00:00', 'Simanga', '78501932', '4:00:00 AM', 'Content & Creativity', 'PC Workstation', 'Shared Hotspot', 13.0, 'Yes', 'No', 'Freelancer', 'Ntsini', ''], ['2021-02-13 00:00:00', 'Simanga', '78501932', '11:00:00 AM', 'Content & Creativity', 'Mac Workstation', 'Shared Hotspot', 6.0, 'Yes', 'No', 'Freelancer', 'Ntsini', ''], ['2021-02-13 00:00:00', 'José', '', '8:00:00 AM', 'Company Work', 'Mac Workstation', 'Shared Hotspot', 12.0, 'Yes', 'No', 'Ummo', 'Rego', ''], ['2021-02-13 00:00:00', 'Sikhulile', '+26879384734', '11:45:00 AM', 'Content & Creativity', 'Brought my own workstation', 'Shared Hotspot', 7.25, 'Yes', 'No', 'Kingdom XLR', 'Zwane', ''], ['2021-02-13 00:00:00', 'Mzwandile', '', '3:56:00 PM', 'Company Work', 'Mac Workstation, Audio Box', 'Shared Hotspot', 4.916666666666667, 'Yes', 'No', 'Kingdom XLR', 'Nxumalo', ''], ['2021-02-14 00:00:00', 'Gcinimiyalo', '76342236', '12:56:00 PM', 'Content & Creativity', 'Mac Workstation', 'Shared Hotspot', 3.7, 'Yes', 'No', 'Freelancer', 'Ntuli', ''], ['2021-02-14 00:00:00', 'José', '', '8:00:00 AM', 'Company Work', 'Mac Workstation', 'Shared Hotspot', 12.0, 'Yes', 'No', 'Ummo', 'Rego', ''], ['2021-02-15 00:00:00', 'Simanga', '78501932', '8:00:00 AM', 'Content & Creativity', 'Mac Workstation', 'Shared Hotspot', 9.0, 'Yes', 'No', 'Freelancer', 'Ntsini', ''], ['2021-02-15 00:00:00', 'Lungelo', '76313249', '8:00:00 AM', 'Research', 'Brought my own workstation', 'Brought my own internet', 9.0, 'Yes', 'Yes', 'Freelancer', 'Mamba', ''], ['2021-02-15 00:00:00', 'Kwanele', '78158606', '3:15:00 PM', 'Company Work', 'Brought my own workstation', 'Shared Hotspot', 2.4166666666666665, 'Yes', 'Yes', 'Vundzisa', 'Tsabedze', ''], ['2021-02-15 00:00:00', 'José', '', '8:00:00 AM', 'Company Work', 'Mac Workstation', 'Shared Hotspot', 12.0, 'Yes', 'No', 'Ummo', 'Rego', ''], ['2021-02-15 00:00:00', 'Zack', '79323073', '1:23:00 PM', 'Academic Work', 'PC Workstation', 'Shared Hotspot', 3.6166666666666667, 'Yes', 'Yes', 'Freelancer', 'Towindo', ''], ['2021-02-15 00:00:00', 'José', '', '8:00:00 AM', 'Company Work', 'Mac Workstation', 'Shared Hotspot', 12.0, 'Yes', 'No', 'Ummo', 'Rego', ''], ['2021-02-16 00:00:00', 'Zack', '793223073', '9:30:00 AM', 'Coding', 'PC Workstation', 'Shared Hotspot', 13.0, 'Yes', 'Yes', 'Freelancer', 'Towindo', ''], ['2021-02-16 00:00:00', 'José', '', '8:00:00 AM', 'Company Work', 'Mac Workstation', 'Shared Hotspot', 12.0, 'Yes', 'No', 'Ummo', 'Rego', ''], ['2021-02-18 00:00:00', 'José', '', '8:00:00 AM', 'Company Work', 'Mac Workstation', 'Shared Hotspot', 12.0, 'Yes', 'No', 'Ummo', 'Rego', ''], ['2021-02-18 00:00:00', 'Zack', '79323073', '2:01:00 PM', 'Academic Work', 'PC Workstation', 'Shared Hotspot', 2.9833333333333334, 'Yes', 'Yes', 'Freelancer', 'Towindo', ''], ['2021-02-19 00:00:00', 'Mzwandile', '', '3:00:00 PM', 'Company Work', 'Mac Workstation, Audio Box', 'Shared Hotspot', 4.0, 'Yes', 'No', 'Kingdom XLR', 'Nxumalo', ''], ['2021-02-21 00:00:00', 'José', '', '8:00:00 AM', 'Company Work', 'Mac Workstation', 'Shared Hotspot', 12.0, 'Yes', 'No', 'Ummo', 'Rego', ''], ['2021-02-21 00:00:00', 'Kwanele', '78158606', '3:40:00 PM', 'Content & Creativity', 'Mac Workstation', 'Shared Hotspot', 3.8833333333333333, 'Yes', 'Yes', 'Vundzisa', 'Tsabedze', ''], ['2021-02-21 00:00:00', 'Mzwandile', '76933667', '3:47:00 PM', 'Content & Creativity', 'Mac Workstation', 'Shared Hotspot', 3.816666666666667, 'Yes', 'No', 'Kingdom XLR', 'Nxumalo', ''], ['2021-02-22 00:00:00', 'José', '', '8:00:00 AM', 'Company Work', 'Mac Workstation', 'Shared Hotspot', 12.0, 'Yes', 'No', 'Ummo', 'Rego', ''], ['2021-02-22 00:00:00', 'Sabelo', '76871675', '11:30:00 AM', 'Company Work', 'PC Workstation', 'Shared Hotspot', 5.5, 'Yes', 'Yes', 'SV Tech', 'Vilakati', ''], ['2021-02-22 00:00:00', 'Zack', '79323073', '1:00:00 PM', 'Academic Work', 'PC Workstation', 'Shared Hotspot', 4.0, 'Yes', 'Yes', 'Freelancer', 'Towindo', ''], ['2021-02-22 00:00:00', 'Mzwandile', '76933667', '3:47:00 PM', 'Content & Creativity', 'Mac Workstation', 'Shared Hotspot', 3.816666666666667, 'Yes', 'No', 'Kingdom XLR', 'Nxumalo', ''], ['2021-02-22 00:00:00', 'Kwanele', '78158606', '1:50:00 PM', 'Meeting', 'Mac Workstation', 'Shared Hotspot', 3.1666666666666665, 'Yes', 'Yes', 'Vundzisa', 'Tsabedze', ''], ['2021-02-23 00:00:00', 'Sibusiso', '76038836', '2:00:00 PM', 'Academic Work', 'Brought my own workstation', 'Shared Hotspot', 7.0, 'Yes', 'Yes', 'Freelancer', 'Tsabedze', ''], ['2021-02-23 00:00:00', 'José', '', '8:00:00 AM', 'Company Work', 'Mac Workstation', 'Shared Hotspot', 12.0, 'Yes', 'No', 'Ummo', 'Rego', ''], ['2021-02-23 00:00:00', 'Lungelo', '(+268) 7631 3249', '9:00:00 AM', 'Academic Work', 'Brought my own workstation', 'Shared Hotspot', 9.5, 'Yes', 'Yes', 'Freelancer', 'Mamba', ''], ['2021-02-24 00:00:00', 'Lungelo', '(+268) 7631 3249', '10:00:00 AM', 'Academic Work', 'Brought my own workstation', 'Brought my own internet', 8.0, 'Yes', 'Yes', 'Freelancer', 'Mamba', ''], ['2021-02-24 00:00:00', 'José', '', '8:00:00 AM', 'Company Work', 'Mac Workstation', 'Shared Hotspot', 12.0, 'Yes', 'No', 'Ummo', 'Rego', ''], ['2021-02-24 00:00:00', 'Sibusiso', '76038836', '10:00:00 AM', 'Academic Work', 'Brought my own workstation', 'Shared Hotspot', 8.0, 'Yes', 'Yes', 'Freelancer', 'Tsabedze', ''], ['2021-02-24 00:00:00', 'Zack', '79323073', '1:20:00 AM', 'Academic Work', 'PC Workstation', 'Shared Hotspot', 15.666666666666666, 'Yes', 'Yes', 'Freelancer', 'Towindo', ''], ['2021-02-26 00:00:00', 'José', '', '8:00:00 AM', 'Company Work', 'Mac Workstation', 'Shared Hotspot', 12.0, 'Yes', 'No', 'Ummo', 'Rego', ''], ['2021-02-26 00:00:00', 'Lungelo', '(+268) 7631 3249', '9:00:00 AM', 'Academic Work', 'Brought my own workstation', 'Brought my own internet', 9.0, 'Yes', 'Yes', 'Freelancer', 'Mamba', ''], ['2021-02-26 00:00:00', 'Sibusiso', '76038836', '11:30:00 AM', 'Content & Creativity', 'Brought my own workstation', 'Shared Hotspot', 6.5, 'Yes', 'Yes', 'Freelancer', 'Tsabedze', ''], ['2021-02-26 00:00:00', 'Kwanele', '78258606', '11:30:00 AM', 'Company Work', 'Mac Workstation', 'Shared Hotspot', 6.5, 'Yes', 'Yes', 'Vundzisa', 'Tsabedze', ''], ['2021-02-26 00:00:00', 'Mzwandile', '', '3:30:00 PM', 'Company Work', 'Mac Workstation, Audio Box', 'Shared Hotspot', 3.5, 'Yes', 'No', 'Kingdom XLR', 'Nxumalo', ''], ['2021-02-26 00:00:00', 'Zack', '79323073', '11:59:00 AM', 'Academic Work', 'PC Workstation', 'Shared Hotspot', 5.016666666666667, 'Yes', 'Yes', 'Freelancer', 'Towindo', ''], ['2021-02-27 00:00:00', 'Lungelo', '(+268) 7631 3249', '12:00:00 PM', 'Academic Work', 'Brought my own workstation', 'Brought my own internet', 6.0, 'Yes', 'Yes', 'Freelancer', 'Mamba', ''], ['2021-02-27 00:00:00', 'José', '', '8:00:00 AM', 'Company Work', 'Mac Workstation', 'Shared Hotspot', 12.0, 'Yes', 'No', 'Ummo', 'Rego', ''], ['2021-02-27 00:00:00', 'Mlungisi', '76068779', '12:30:00 PM', 'Academic Work', 'Brought my own workstation', 'Brought my own internet', 3.5, 'No', 'Yes', 'Freelancer', 'Shongwe', ''], ['2021-02-27 00:00:00', 'Kwanele', '78158606', '12:00:00 AM', 'Company Work', 'Brought my own workstation', 'Shared Hotspot', 19.0, 'Yes', 'Yes', 'Vundzisa', 'Tsabedze', ''], ['2021-02-28 00:00:00', 'José', '', '8:00:00 AM', 'Company Work', 'Mac Workstation', 'Shared Hotspot', 12.0, 'Yes', 'No', 'Ummo', 'Rego', ''], ['2021-02-28 00:00:00', 'Kwanele', '78158606', '11:40:00 AM', 'Company Work', 'Mac Workstation', 'Shared Hotspot', 5.333333333333333, 'Yes', 'Yes', 'Vundzisa', 'Tsabedze', ''], ['2021-02-28 00:00:00', 'Zack', '79323073', '2:00:00 PM', 'Academic Work', 'PC Workstation', 'Brought my own internet', 3.0, 'Yes', 'Yes', 'Freelancer', 'Towindo', ''], ['2021-03-01 00:00:00', 'José', '', '8:00:00 AM', 'Company Work', 'Mac Workstation', 'Shared Hotspot', 12.0, 'Yes', 'No', 'Ummo', 'Rego', ''], ['2021-03-01 00:00:00', 'Zack', '79323073', '10:00:00 AM', 'Academic Work', 'Mac Workstation', 'Shared Hotspot', 7.0, 'Yes', 'Yes', 'Freelancer', 'Towindo', ''], ['2021-03-01 00:00:00', 'Kwanele', '78158606', '12:20:00 PM', 'Company Work', 'Brought my own workstation', 'Brought my own internet', 6.666666666666667, 'Yes', 'Yes', 'Vundzisa', 'Tsabedze', ''], ['2021-03-03 00:00:00', 'José', '', '8:00:00 AM', 'Company Work', 'Mac Workstation', 'Shared Hotspot', 12.0, 'Yes', 'No', 'Ummo', 'Rego', ''], ['2021-03-03 00:00:00', 'Lungelo', '(+268) 7631 3249', '8:30:00 AM', 'Research', 'Brought my own workstation', 'Brought my own internet', 8.5, 'Yes', 'Yes', 'Freelancer', 'Mamba', ''], ['2021-03-03 00:00:00', 'Mzwandile', '', '3:30:00 PM', 'Company Work', 'Mac Workstation, Audio Box', 'Shared Hotspot', 3.5, 'Yes', 'No', 'Kingdom XLR', 'Nxumalo', ''], ['2021-03-03 00:00:00', 'Sibusiso', '76038836', '5:00:00 PM', 'Academic Work', 'Brought my own workstation', 'Shared Hotspot', 4.0, 'Yes', 'Yes', 'Freelancer', 'Tsabedze', ''], ['2021-03-04 00:00:00', 'José', '', '8:00:00 AM', 'Company Work', 'Mac Workstation', 'Shared Hotspot', 12.0, 'Yes', 'No', 'Ummo', 'Rego', ''], ['2021-03-04 00:00:00', 'Kwanele', '78158606', '1:20:00 PM', 'Company Work', 'Brought my own workstation', 'Shared Hotspot', 4.666666666666667, 'Yes', 'Yes', 'Vundzisa', 'Tsabedze', ''], ['2021-03-04 00:00:00', 'Mzwandile', '', '3:30:00 PM', 'Company Work', 'Mac Workstation, Audio Box', 'Shared Hotspot', 3.5, 'Yes', 'No', 'Kingdom XLR', 'Nxumalo', ''], ['2021-03-05 00:00:00', 'Sabelo', '76871675', '6:00:00 PM', 'Company Work', 'Brought my own workstation', 'Brought my own internet', 1.0, 'Yes', 'Yes', 'SV Tech', 'Vilakati', ''], ['2021-03-05 00:00:00', 'Percy', '78118833', '5:30:00 PM', 'Company Work', 'PC Workstation', 'Shared Hotspot', 0.5, 'Yes', 'No', 'SV Tech', 'Malambe', ''], ['2021-03-05 00:00:00', 'Mano', '76960967', '9:00:00 AM', 'Meeting', 'PC Workstation', 'Shared Hotspot', 1.1666666666666667, 'Yes', 'No', 'Freelancer', 'Mafomisa', ''], ['2021-03-05 00:00:00', 'José', '', '8:00:00 AM', 'Company Work', 'Mac Workstation', 'Shared Hotspot', 12.0, 'Yes', 'No', 'Ummo', 'Rego', ''], ['2021-03-05 00:00:00', 'Lungelo', '(+268) 7631 3249', '11:00:00 AM', 'Meeting', 'Brought my own workstation', 'Brought my own internet', 6.0, 'Yes', 'Yes', 'Freelancer', 'Mamba', ''], ['2021-03-07 00:00:00', 'Kwanele', '78158606', '12:30:00 PM', 'Company Work', 'Brought my own workstation', 'Shared Hotspot', 6.0, 'Yes', 'Yes', 'Vundzisa', 'Tsabedze', ''], ['2021-03-07 00:00:00', 'José', '', '8:00:00 AM', 'Company Work', 'Mac Workstation', 'Shared Hotspot', 12.0, 'Yes', 'No', 'Ummo', 'Rego', ''], ['2021-03-07 00:00:00', 'Mzwandile', '', '3:30:00 PM', 'Company Work', 'Mac Workstation, Audio Box', 'Shared Hotspot', 3.5, 'Yes', 'No', 'Kingdom XLR', 'Nxumalo', ''], ['2021-03-07 00:00:00', 'Kwanele', '78158606', '1:00:00 PM', 'Company Work', 'Brought my own workstation', 'Shared Hotspot', 6.5, 'Yes', 'Yes', 'Vundzisa', 'Tsabedze', ''], ['2021-03-09 00:00:00', 'José', '', '8:00:00 AM', 'Company Work', 'Mac Workstation', 'Shared Hotspot', 12.0, 'Yes', 'No', 'Ummo', 'Rego', ''], ['2021-03-09 00:00:00', 'Kwanele', '78158606', '11:00:00 AM', 'Company Work', 'Brought my own workstation', 'Shared Hotspot', 6.0, 'Yes', 'Yes', 'Vundzisa', 'Tsabedze', ''], ['2021-03-10 00:00:00', 'José', '', '8:00:00 AM', 'Company Work', 'Mac Workstation', 'Shared Hotspot', 12.0, 'Yes', 'No', 'Ummo', 'Rego', ''], ['2021-03-10 00:00:00', 'Sibusiso', '76038836', '5:00:00 PM', 'Research', 'Brought my own workstation', 'Shared Hotspot', 4.0, 'Yes', 'Yes', 'Freelancer', 'Tsabedze', ''], ['2021-03-12 00:00:00', 'Lungelo', '(+268) 7631 3249', '8:00:00 AM', 'Meeting', 'Brought my own workstation', 'Brought my own internet', 9.0, 'Yes', 'Yes', 'Freelancer', 'Mamba', ''], ['2021-03-12 00:00:00', 'José', '', '8:00:00 AM', 'Company Work', 'Mac Workstation', 'Shared Hotspot', 12.0, 'Yes', 'No', 'Ummo', 'Rego', ''], ['2021-03-12 00:00:00', 'Kwanele', '78158606', '1:00:00 PM', 'Company Work', 'Brought my own workstation', 'Shared Hotspot', 5.5, 'Yes', 'Yes', 'Vundzisa', 'Tsabedze', ''], ['2021-03-12 00:00:00', 'Mlungisi', '76068779', '2:20:00 PM', 'Research', 'Brought my own workstation', 'Shared Hotspot', 3.1666666666666665, 'No', 'Yes', 'Freelancer', 'Shongwe', ''], ['2021-03-13 00:00:00', 'José', '', '8:00:00 AM', 'Company Work', 'Mac Workstation', 'Shared Hotspot', 12.0, 'Yes', 'No', 'Ummo', 'Rego', ''], ['2021-03-13 00:00:00', 'Percy', '78118833', '2:30:00 PM', 'Academic Work', 'PC Workstation', 'Shared Hotspot', 1.5, 'Yes', 'No', 'SV Tech', 'Malambe', ''], ['2021-03-15 00:00:00', 'José', '', '8:00:00 AM', 'Company Work', 'Mac Workstation', 'Shared Hotspot', 12.0, 'Yes', 'No', 'Ummo', 'Rego', ''], ['2021-03-15 00:00:00', 'Zack', '79323073', '4:00:00 PM', 'Academic Work', 'Mac Workstation', 'Shared Hotspot', 1.0, 'Yes', 'Yes', 'Freelancer', 'Towindo', ''], ['2021-03-16 00:00:00', 'José', '', '8:00:00 AM', 'Company Work', 'Mac Workstation', 'Shared Hotspot', 12.0, 'Yes', 'No', 'Ummo', 'Rego', ''], ['2021-03-16 00:00:00', 'Kwanele', '78158606', '3:15:00 PM', 'Content & Creativity', 'Brought my own workstation', 'Shared Hotspot', 8.75, 'Yes', 'Yes', 'Vundzisa', 'Tsabedze', ''], ['2021-03-17 00:00:00', 'Sabelo', '76871675', '12:54:00 AM', 'Meeting', 'Projector', 'Brought my own internet', 8.0, 'Yes', 'Yes', 'SV Tech', 'Vilakati', ''], ['2021-03-17 00:00:00', 'Simanga', '78501932', '8:00:00 AM', 'Meeting', 'Mac Workstation', 'Shared Hotspot', 9.0, 'Yes', 'No', 'Freelancer', 'Ntsini', ''], ['2021-03-17 00:00:00', 'Mzwandile', '', '3:30:00 PM', 'Company Work', 'Mac Workstation, Audio Box', 'Shared Hotspot', 3.5, 'Yes', 'No', 'Kingdom XLR', 'Nxumalo', ''], ['2021-03-17 00:00:00', 'Mzwandile', '76933667', '10:03:00 AM', 'Meeting', 'Mac Workstation', 'Shared Hotspot', 7.883333333333334, 'Yes', 'No', 'Kingdom XLR', 'Nxumalo', ''], ['2021-03-17 00:00:00', 'Lungelo', '7631 3249', '9:30:00 AM', 'Meeting', 'Brought my own workstation', 'Brought my own internet', 8.0, 'Yes', 'Yes', 'Freelancer', 'Mamba', ''], ['2021-03-17 00:00:00', 'José', '', '8:00:00 AM', 'Company Work', 'Mac Workstation', 'Shared Hotspot', 12.0, 'Yes', 'No', 'Ummo', 'Rego', ''], ['2021-03-17 00:00:00', 'Kwanele', '7815 8606', '10:30:00 AM', 'Meeting', 'PC Workstation', 'Shared Hotspot', 8.0, 'Yes', 'Yes', 'Vundzisa', 'Tsabedze', ''], ['2021-03-17 00:00:00', 'Bagcinele', '76762919', '8:00:00 AM', 'Company Work', 'Projector', 'Shared Hotspot', 9.0, 'Yes', 'No', 'Kingdom XLR', 'Fakudze', ''], ['2021-03-17 00:00:00', 'Thobeka', '79447808', '9:00:00 AM', 'Research', 'Brought my own workstation', 'Brought my own internet', 4.7, 'Yes', 'No', 'Freelancer', 'Nxumalo', ''], ['2021-03-17 00:00:00', 'Sibusiso', '76038836', '3:00:00 PM', 'Content & Creativity', 'Brought my own workstation', 'Shared Hotspot', 3.0, 'Yes', 'Yes', 'Freelancer', 'Tsabedze', ''], ['2021-03-18 00:00:00', 'Gcinimiyalo', '76342236', '10:00:00 AM', 'Content & Creativity', 'Mac Workstation', 'Shared Hotspot', 6.0, 'Yes', 'No', 'Freelancer', 'Ntuli', ''], ['2021-03-18 00:00:00', 'José', '', '8:00:00 AM', 'Company Work', 'Mac Workstation', 'Shared Hotspot', 12.0, 'Yes', 'No', 'Ummo', 'Rego', ''], ['2021-03-18 00:00:00', 'Mzwandile', '76933667', '1:45:00 PM', 'Company Work', 'Mac Workstation', 'Shared Hotspot', 4.15, 'Yes', 'No', 'Kingdom XLR', 'Nxumalo', ''], ['2021-03-18 00:00:00', 'Kwanele', '78158606', '12:20:00 PM', 'Company Work', 'Mac Workstation', 'Brought my own internet', 6.0, 'Yes', 'Yes', 'Vundzisa', 'Tsabedze', ''], ['2021-03-22 00:00:00', 'José', '', '8:00:00 AM', 'Company Work', 'Mac Workstation', 'Shared Hotspot', 12.0, 'Yes', 'No', 'Ummo', 'Rego', ''], ['2021-03-22 00:00:00', 'Kwanele', '78158606', '12:20:00 PM', 'Company Work', 'Brought my own workstation', 'Shared Hotspot', 5.166666666666667, 'Yes', 'Yes', 'Vundzisa', 'Tsabedze', ''], ['2021-03-23 00:00:00', 'Kwanele', '78158606', '1:30:00 PM', 'Company Work', 'Brought my own workstation', 'Shared Hotspot', 4.0, 'Yes', 'Yes', 'Vundzisa', 'Tsabedze', ''], ['2021-03-23 00:00:00', 'Mzwandile', '', '3:30:00 PM', 'Company Work', 'Mac Workstation, Audio Box', 'Shared Hotspot', 3.5, 'Yes', 'No', 'Kingdom XLR', 'Nxumalo', ''], ['2021-03-23 00:00:00', 'José', '', '8:00:00 AM', 'Company Work', 'Mac Workstation', 'Shared Hotspot', 12.0, 'Yes', 'No', 'Ummo', 'Rego', ''], ['2021-03-23 00:00:00', 'Lungelo', '76313249', '10:00:00 AM', 'Research', 'Brought my own workstation', 'Brought my own internet', 7.0, 'Yes', 'Yes', 'Freelancer', 'Mamba', ''], ['2021-03-23 00:00:00', 'Mlungisi', '76068779', '2:40:00 PM', 'Research', 'Brought my own workstation', 'Shared Hotspot', 2.8333333333333335, 'No', 'Yes', 'Freelancer', 'Shongwe', ''], ['2021-03-25 00:00:00', 'José', '', '8:00:00 AM', 'Company Work', 'Mac Workstation', 'Shared Hotspot', 12.0, 'Yes', 'No', 'Ummo', 'Rego', ''], ['2021-03-25 00:00:00', 'Kwanele', '78158606', '10:40:00 AM', 'Research', 'Brought my own workstation', 'Shared Hotspot', 6.616666666666666, 'Yes', 'Yes', 'Vundzisa', 'Tsabedze', ''], ['2021-03-26 00:00:00', 'Lungelo', '76313249', '9:00:00 AM', 'Meeting', 'Brought my own workstation', 'Brought my own internet', 8.0, 'Yes', 'Yes', 'Freelancer', 'Mamba', ''], ['2021-03-26 00:00:00', 'Fanelesibonge', '78221507', '10:00:00 AM', 'Coding', 'Brought my own workstation', 'Shared Hotspot', 6.0, 'Yes', 'No', 'Freelancer', 'Malaza', ''], ['2021-03-26 00:00:00', 'Zack', '79323073', '1:12:00 PM', 'Academic Work', 'Mac Workstation', 'Shared Hotspot', 3.8, 'Yes', 'Yes', 'Freelancer', 'Towindo', ''], ['2021-03-26 00:00:00', 'Mlungisi', '76068779', '3:20:00 PM', 'Research', 'Brought my own workstation', 'Shared Hotspot', 2.1666666666666665, 'No', 'Yes', 'Freelancer', 'Shongwe', ''], ['2021-03-26 00:00:00', 'José', '', '8:00:00 AM', 'Company Work', 'Mac Workstation', 'Shared Hotspot', 12.0, 'Yes', 'No', 'Ummo', 'Rego', ''], ['2021-03-26 00:00:00', 'Sabelo', '76871675', '10:00:00 AM', 'Meeting', 'Projector', 'Brought my own internet', 6.0, 'Yes', 'Yes', 'SV Tech', 'Vilakati', ''], ['2021-03-26 00:00:00', 'Mlungisi', '76068779', '3:20:00 PM', 'Research', 'Brought my own workstation', 'Shared Hotspot', 2.1666666666666665, 'No', 'Yes', 'Freelancer', 'Shongwe', ''], ['2021-03-26 00:00:00', 'Sibusiso', '76038836', '6:00:00 PM', 'Research', 'Brought my own workstation', 'Brought my own internet', 3.0, 'Yes', 'Yes', 'Freelancer', 'Tsabedze', ''], ['2021-03-26 00:00:00', 'Mzwandile', '76933667', '4:12:00 PM', 'Content & Creativity', 'Mac Workstation', 'Shared Hotspot', 5.233333333333333, 'Yes', 'No', 'Kingdom XLR', 'Nxumalo', ''], ['2021-03-27 00:00:00', 'Mlungisi', '76068779', '3:20:00 PM', 'Research', 'Brought my own workstation', 'Shared Hotspot', 1.8333333333333333, 'No', 'Yes', 'Freelancer', 'Shongwe', ''], ['2021-03-27 00:00:00', 'José', '', '8:00:00 AM', 'Company Work', 'Mac Workstation', 'Shared Hotspot', 12.0, 'Yes', 'No', 'Ummo', 'Rego', ''], ['2021-03-27 00:00:00', 'Kwanele', '78158606', '1:40:00 PM', 'Meeting', 'Brought my own workstation', 'Brought my own internet', 3.3333333333333335, 'Yes', 'Yes', 'Vundzisa', 'Tsabedze', ''], ['2021-03-29 00:00:00', 'Fanelesibonge', '78221507', '11:00:00 AM', 'Coding', 'Brought my own workstation', 'Shared Hotspot', 5.0, 'Yes', 'No', 'Freelancer', 'Malaza', ''], ['2021-03-29 00:00:00', 'José', '', '8:00:00 AM', 'Company Work', 'Mac Workstation', 'Shared Hotspot', 12.0, 'Yes', 'No', 'Ummo', 'Rego', ''], ['2021-03-29 00:00:00', 'Mzwandile', '', '3:30:00 PM', 'Company Work', 'Mac Workstation, Audio Box', 'Shared Hotspot', 3.5, 'Yes', 'No', 'Kingdom XLR', 'Nxumalo', ''], ['2021-03-29 00:00:00', 'Zack', '79323073', '9:30:00 AM', 'Academic Work', 'Mac Workstation', 'Shared Hotspot', 7.5, 'Yes', 'Yes', 'Freelancer', 'Towindo', ''], ['2021-03-30 00:00:00', 'Fanelesibonge', '78221507', '11:00:00 AM', 'Coding', 'Brought my own workstation', 'Shared Hotspot', 5.0, 'Yes', 'No', 'Freelancer', 'Malaza', ''], ['2021-03-03 00:00:00', 'Mzwandile', '', '3:00:00 PM', 'Company Work', 'Mac Workstation, Audio Box', 'Shared Hotspot', 4.0, 'Yes', 'No', 'Kingdom XLR', 'Nxumalo', ''], ['2021-03-30 00:00:00', 'José', '', '8:00:00 AM', 'Company Work', 'Mac Workstation', 'Shared Hotspot', 12.0, 'Yes', 'No', 'Ummo', 'Rego', ''], ['2021-03-31 00:00:00', 'Fanelesibonge', '78221507', '9:45:00 AM', 'Coding', 'Brought my own workstation', 'Shared Hotspot', 5.25, 'Yes', 'No', 'Freelancer', 'Malaza', ''], ['2021-03-31 00:00:00', 'Lungelo', '7631 3249', '9:00:00 AM', 'Research', 'Brought my own workstation', 'Brought my own internet', 8.0, 'Yes', 'Yes', 'Freelancer', 'Mamba', ''], ['2021-03-31 00:00:00', 'Gcinimiyalo', '76342236', '9:48:00 AM', 'Content & Creativity', 'Mac Workstation', 'Shared Hotspot', 7.2, 'Yes', 'No', 'Freelancer', 'Ntuli', ''], ['2021-03-31 00:00:00', 'José', '', '8:00:00 AM', 'Company Work', 'Mac Workstation', 'Shared Hotspot', 12.0, 'Yes', 'No', 'Ummo', 'Rego', ''], ['2021-03-31 00:00:00', 'Sabelo', '76971686', '10:00:00 AM', 'Company Work', 'Brought my own workstation', 'Brought my own internet', 7.0, 'Yes', 'Yes', 'SV Tech', 'Vilakati', ''], ['2021-03-31 00:00:00', 'Mlungisi', '76068779', '2:20:00 PM', 'Research', 'Brought my own workstation', 'Shared Hotspot', 3.1666666666666665, 'No', 'Yes', 'Freelancer', 'Shongwe', ''], ['2021-04-01 00:00:00', 'Fanelesibonge', '78221507', '9:45:00 AM', 'Coding', 'Brought my own workstation', 'Shared Hotspot', 5.25, 'Yes', 'No', 'Freelancer', 'Malaza', ''], ['2021-04-01 00:00:00', 'Bagcinele', '76762919', '9:00:00 AM', 'Content & Creativity', 'Camera', 'Shared Hotspot', 9.0, 'Yes', 'No', 'Kingdom XLR', 'Fakudze', ''], ['2021-04-01 00:00:00', 'Percy', '78118833', '8:30:00 AM', 'Company Work', 'Brought my own workstation', 'Shared Hotspot', 3.0, 'Yes', 'No', 'SV Tech', 'Malambe', ''], ['2021-04-01 00:00:00', 'José', '', '8:00:00 AM', 'Company Work', 'Mac Workstation', 'Shared Hotspot', 12.0, 'Yes', 'No', 'Ummo', 'Rego', ''], ['2021-04-01 00:00:00', 'Lungelo', '7631 3249', '10:00:00 AM', 'Research', 'Brought my own workstation', 'Brought my own internet', 7.0, 'Yes', 'Yes', 'Freelancer', 'Mamba', ''], ['2021-04-01 00:00:00', 'Sabelo', '76871675', '10:00:00 AM', 'Company Work', 'Brought my own workstation', 'Shared Hotspot', 7.0, 'Yes', 'Yes', 'SV Tech', 'Vilakati', ''], ['2021-04-01 00:00:00', 'Mlungisi', '76068779', '11:20:00 AM', 'Research', 'Brought my own workstation', 'Shared Hotspot', 6.166666666666667, 'No', 'Yes', 'Freelancer', 'Shongwe', ''], ['2021-04-01 00:00:00', 'Gcinimiyalo', '76342236', '2:30:00 PM', 'Content & Creativity', 'Camera', 'Shared Hotspot', 2.5, 'Yes', 'No', 'Freelancer', 'Ntuli', ''], ['2021-04-01 00:00:00', 'Zack', '79323073', '12:00:00 AM', 'Academic Work', 'Mac Workstation', 'Shared Hotspot', 17.0, 'Yes', 'Yes', 'Freelancer', 'Towindo', ''], ['2021-04-02 00:00:00', 'José', '', '8:00:00 AM', 'Company Work', 'Mac Workstation', 'Shared Hotspot', 12.0, 'Yes', 'No', 'Ummo', 'Rego', ''], ['2021-04-02 00:00:00', 'Gcinimiyalo', '76342236', '12:30:00 PM', 'Content & Creativity', 'Mac Workstation', 'Shared Hotspot', 7.5, 'Yes', 'No', 'Freelancer', 'Ntuli', ''], ['2021-04-04 00:00:00', 'José', '', '8:00:00 AM', 'Company Work', 'Mac Workstation', 'Shared Hotspot', 12.0, 'Yes', 'No', 'Ummo', 'Rego', ''], ['2021-04-04 00:00:00', 'Gcinimiyalo', '76342236', '2:15:00 PM', 'Content & Creativity', 'Mac Workstation', 'Shared Hotspot', 2.75, 'Yes', 'No', 'Freelancer', 'Ntuli', ''], ['2021-04-06 00:00:00', 'Gcinimiyalo', '76342236', '5:30:00 AM', 'Content & Creativity', 'Mac Workstation', 'Shared Hotspot', 5.0, 'Yes', 'No', 'Freelancer', 'Ntuli', ''], ['2021-04-06 00:00:00', 'José', '', '8:00:00 AM', 'Company Work', 'Mac Workstation', 'Shared Hotspot', 12.0, 'Yes', 'No', 'Ummo', 'Rego', ''], ['2021-04-06 00:00:00', 'Zack', '79323047', '9:30:00 AM', 'Academic Work', 'Mac Workstation', 'Brought my own internet', 7.5, 'Yes', 'Yes', 'Freelancer', 'Towindo', ''], ['2021-04-06 00:00:00', 'Kwanele', '78158606', '2:30:00 PM', 'Company Work', 'Brought my own workstation', 'Shared Hotspot', 3.5, 'Yes', 'Yes', 'Vundzisa', 'Tsabedze', ''], ['2021-04-07 00:00:00', 'Bagcinele', '76762919', '9:00:00 AM', 'Company Work', 'Mac Workstation', 'Shared Hotspot', 9.0, 'Yes', 'No', 'Kingdom XLR', 'Fakudze', ''], ['2021-04-07 00:00:00', 'José', '', '8:00:00 AM', 'Company Work', 'Mac Workstation', 'Shared Hotspot', 12.0, 'Yes', 'No', 'Ummo', 'Rego', ''], ['2021-04-07 00:00:00', 'Lungelo', '76313249', '9:00:00 AM', 'Research', 'Brought my own workstation', 'Brought my own internet', 8.0, 'Yes', 'Yes', 'Freelancer', 'Mamba', ''], ['2021-04-08 00:00:00', 'Sabelo', '76871675', '7:00:00 AM', 'Company Work', 'Brought my own workstation', 'Brought my own internet', 10.0, 'Yes', 'Yes', 'SV Tech', 'Vilakati', ''], ['2021-04-08 00:00:00', 'Sikhulile', '79384734', '11:30:00 AM', 'Content & Creativity', 'Brought my own workstation', 'Shared Hotspot', 6.0, 'Yes', 'No', 'Kingdom XLR', 'Zwane', ''], ['2021-04-08 00:00:00', 'José', '', '8:00:00 AM', 'Company Work', 'Mac Workstation', 'Shared Hotspot', 12.0, 'Yes', 'No', 'Ummo', 'Rego', ''], ['2021-04-08 00:00:00', 'Lungelo', '76313249', '9:00:00 AM', 'Research', 'Brought my own workstation', 'Brought my own internet', 8.0, 'Yes', 'Yes', 'Freelancer', 'Mamba', ''], ['2021-04-08 00:00:00', 'Simanga', '78591932', '6:00:00 AM', 'Content & Creativity', 'Mac Workstation', 'Shared Hotspot', 12.0, 'Yes', 'No', 'Freelancer', 'Ntsini', ''], ['2021-04-11 00:00:00', 'José', '', '8:00:00 AM', 'Company Work', 'Mac Workstation', 'Shared Hotspot', 12.0, 'Yes', 'No', 'Ummo', 'Rego', ''], ['2021-04-11 00:00:00', 'Ncobile', '76895066', '9:35:00 AM', 'Meeting', 'Brought my own workstation', 'Shared Hotspot', 1.4166666666666667, 'No', 'Yes', 'Freelancer', 'TBA', ''], ['2021-04-12 00:00:00', 'Lungelo', '76313249', '9:00:00 AM', 'Meeting', 'Brought my own workstation', 'Brought my own internet', 8.0, 'Yes', 'Yes', 'Freelancer', 'Mamba', ''], ['2021-04-12 00:00:00', 'Sabelo', '76871675', '10:00:00 AM', 'Company Work', 'Brought my own workstation', 'Shared Hotspot', 4.0, 'Yes', 'Yes', 'SV Tech', 'Vilakati', ''], ['2021-04-12 00:00:00', 'José', '', '8:00:00 AM', 'Company Work', 'Mac Workstation', 'Shared Hotspot', 12.0, 'Yes', 'No', 'Ummo', 'Rego', ''], ['2021-04-12 00:00:00', 'Kwanele', '76871675', '10:00:00 AM', 'Company Work', 'Brought my own workstation', 'Brought my own internet', 8.0, 'Yes', 'Yes', 'Vundzisa', 'Tsabedze', ''], ['2021-04-12 00:00:00', 'Mlungisi', '76068779', '3:20:00 PM', 'Research', 'PC Workstation', 'Shared Hotspot', 1.4166666666666667, 'No', 'Yes', 'Freelancer', 'Shongwe', ''], ['2021-04-13 00:00:00', 'Bagcinele', '76762919', '10:00:00 AM', 'Company Work', 'Camera', 'Shared Hotspot', 8.0, 'Yes', 'No', 'Kingdom XLR', 'Fakudze', ''], ['2021-04-13 00:00:00', 'José', '', '8:00:00 AM', 'Company Work', 'Mac Workstation', 'Shared Hotspot', 12.0, 'Yes', 'No', 'Ummo', 'Rego', ''], ['2021-04-13 00:00:00', 'Lungelo', '76313249', '9:00:00 AM', 'Research', 'Brought my own workstation', 'Brought my own internet', 8.0, 'Yes', 'Yes', 'Freelancer', 'Mamba', ''], ['2021-04-14 00:00:00', 'Fanelesibonge', '78221507', '10:30:00 AM', 'Company Work', 'Brought my own workstation', 'Shared Hotspot', 6.0, 'Yes', 'No', 'Freelancer', 'Malaza', ''], ['2021-04-14 00:00:00', 'Sikhulile', '79384734', '10:00:00 AM', 'Content & Creativity', 'Brought my own workstation', 'Shared Hotspot', 7.5, 'Yes', 'No', 'Kingdom XLR', 'Zwane', ''], ['2021-04-14 00:00:00', 'José', '', '8:00:00 AM', 'Company Work', 'Mac Workstation', 'Shared Hotspot', 12.0, 'Yes', 'No', 'Ummo', 'Rego', ''], ['2021-04-14 00:00:00', 'Bagcinele', '76762919', '9:00:00 AM', 'Company Work', 'Camera', 'Shared Hotspot', 9.0, 'Yes', 'No', 'Kingdom XLR', 'Fakudze', ''], ['2021-04-14 00:00:00', 'Mzwandile', '', '3:30:00 PM', 'Company Work', 'Mac Workstation, Audio Box', 'Shared Hotspot', 3.5, 'Yes', 'No', 'Kingdom XLR', 'Nxumalo', ''], ['2021-04-14 00:00:00', 'Zack', '79323073', '10:00:00 AM', 'Academic Work', 'Mac Workstation', 'Shared Hotspot', 0.9833333333333333, 'Yes', 'Yes', 'Freelancer', 'Towindo', ''], ['2021-04-14 00:00:00', 'Sibusiso', '76038836', '5:00:00 PM', 'Research', 'Brought my own workstation', 'Brought my own internet', 1.0, 'Yes', 'Yes', 'Freelancer', 'Tsabedze', ''], ['2021-04-15 00:00:00', 'José', '', '8:00:00 AM', 'Company Work', 'Mac Workstation', 'Shared Hotspot', 12.0, 'Yes', 'No', 'Ummo', 'Rego', ''], ['2021-04-15 00:00:00', 'Fanelesibonge', '78221507', '10:15:00 AM', 'Company Work', 'Brought my own workstation', 'Shared Hotspot', 4.75, 'Yes', 'No', 'Freelancer', 'Malaza', ''], ['2021-04-15 00:00:00', 'Gcinimiyalo', '76342236', '11:30:00 AM', 'Content & Creativity', 'Mac Workstation', 'Shared Hotspot', 2.5, 'Yes', 'No', 'Freelancer', 'Ntuli', ''], ['2021-04-16 00:00:00', 'Nosifiso', '76277871', '6:15:00 PM', 'Content & Creativity', 'Camera', 'Shared Hotspot', 1.25, 'Yes', 'Yes', 'Freelancer', 'Mamba', ''], ['2021-04-16 00:00:00', 'José', '', '8:00:00 AM', 'Company Work', 'Mac Workstation', 'Shared Hotspot', 12.0, 'Yes', 'No', 'Ummo', 'Rego', ''], ['2021-04-16 00:00:00', 'Kwanele', '78158606', '1:30:00 PM', 'Company Work', 'Brought my own workstation', 'Shared Hotspot', 5.75, 'Yes', 'Yes', 'Vundzisa', 'Tsabedze', ''], ['2021-04-17 00:00:00', 'Kwanele', '78158606', '1:30:00 PM', 'Company Work', 'Brought my own workstation', 'Shared Hotspot', 5.75, 'Yes', 'Yes', 'Vundzisa', 'Tsabedze', ''], ['2021-04-17 00:00:00', 'Kwanele', '78158606', '12:10:00 PM', 'Company Work', 'Brought my own workstation', 'Shared Hotspot', 6.833333333333333, 'Yes', 'Yes', 'Vundzisa', 'Tsabedze', ''], ['2021-04-17 00:00:00', 'Simanga', '78501932', '6:00:00 AM', 'Content & Creativity', 'Mac Workstation', 'Shared Hotspot', 12.0, 'Yes', 'No', 'Freelancer', 'Ntsini', ''], ['2021-04-17 00:00:00', 'José', '', '8:00:00 AM', 'Company Work', 'Mac Workstation', 'Shared Hotspot', 12.0, 'Yes', 'No', 'Ummo', 'Rego', ''], ['2021-04-17 00:00:00', 'Mzwandile', '76933667', '1:26:00 PM', 'Company Work', 'Brought my own workstation', 'Shared Hotspot', 8.433333333333334, 'Yes', 'No', 'Kingdom XLR', 'Nxumalo', ''], ['2021-04-17 00:00:00', 'Thobeka', '78308314', '12:00:00 AM', 'Research', 'Brought my own workstation', 'Shared Hotspot', 17.0, 'Yes', 'No', 'Freelancer', 'Nxumalo', ''], ['2021-04-17 00:00:00', 'Mlungisi', '76068779', '4:00:00 PM', 'Research', 'PC Workstation', 'Shared Hotspot', 2.0, 'No', 'Yes', 'Freelancer', 'Shongwe', ''], ['2021-04-19 00:00:00', 'Kwanele', '78158606', '12:10:00 PM', 'Company Work', 'Brought my own workstation', 'Shared Hotspot', 6.833333333333333, 'Yes', 'Yes', 'Vundzisa', 'Tsabedze', ''], ['2021-04-19 00:00:00', 'Thobeka', '78308314', '11:00:00 PM', 'Research', 'Brought my own workstation', 'Shared Hotspot', 16.0, 'Yes', 'No', 'Freelancer', 'Nxumalo', ''], ['2021-04-19 00:00:00', 'José', '', '8:00:00 AM', 'Company Work', 'Mac Workstation', 'Shared Hotspot', 12.0, 'Yes', 'No', 'Ummo', 'Rego', ''], ['2021-04-19 00:00:00', 'Kwanele', '7815 8606', '11:30:00 AM', 'Company Work', 'Brought my own workstation', 'Shared Hotspot', 4.5, 'Yes', 'Yes', 'Vundzisa', 'Tsabedze', ''], ['2021-04-19 00:00:00', 'Thobeka', '78308314', '12:30:00 AM', 'Research', 'Brought my own workstation', 'Shared Hotspot', 16.5, 'Yes', 'No', 'Freelancer', 'Nxumalo', ''], ['2021-04-19 00:00:00', 'Fanelesibonge', '78221507', '10:45:00 AM', 'Company Work', 'Brought my own workstation', 'Shared Hotspot', 5.25, 'Yes', 'No', 'Freelancer', 'Malaza', ''], ['2021-04-20 00:00:00', 'Fanelesibonge', '78221507', '7:30:00 AM', 'Company Work', 'Brought my own workstation', 'Shared Hotspot', 9.5, 'Yes', 'No', 'Freelancer', 'Malaza', ''], ['2021-04-20 00:00:00', 'Mzwandile', '76933667', '10:47:00 AM', 'Company Work', 'Mac Workstation', 'Shared Hotspot', 9.4, 'Yes', 'No', 'Kingdom XLR', 'Nxumalo', ''], ['2021-04-20 00:00:00', 'Lungelo', '76313249', '8:00:00 AM', 'Research', 'Brought my own workstation', 'Brought my own internet', 9.0, 'Yes', 'Yes', 'Freelancer', 'Mamba', ''], ['2021-04-20 00:00:00', 'José', '', '8:00:00 AM', 'Company Work', 'Mac Workstation', 'Shared Hotspot', 12.0, 'Yes', 'No', 'Ummo', 'Rego', ''], ['2021-04-20 00:00:00', 'Bagcinele', '76762919', '9:00:00 AM', 'Company Work', 'Mac Workstation', 'Shared Hotspot', 9.0, 'Yes', 'No', 'Kingdom XLR', 'Fakudze', ''], ['2021-04-20 00:00:00', 'Gcinimiyalo', '76342236', '7:45:00 PM', 'Content & Creativity', 'Mac Workstation', 'Shared Hotspot', 19.75, 'Yes', 'No', 'Freelancer', 'Ntuli', ''], ['2021-04-20 00:00:00', 'Thobeka', '78308314', '8:30:00 PM', 'Research', 'Brought my own workstation', 'Shared Hotspot', 13.5, 'Yes', 'No', 'Freelancer', 'Nxumalo', ''], ['2021-04-20 00:00:00', 'Fanelesibonge', '78221507', '4:00:00 PM', 'Coding', 'Brought my own workstation', 'Shared Hotspot', 9.0, 'Yes', 'No', 'Freelancer', 'Malaza', ''], ['2021-04-21 00:00:00', 'Fanelesibonge', '78221507', '7:00:00 AM', 'Company Work', 'Brought my own workstation', 'Shared Hotspot', 9.0, 'Yes', 'No', 'Freelancer', 'Malaza', ''], ['2021-04-21 00:00:00', 'Lihle', '76842960', '10:00:00 AM', 'Research', 'Brought my own workstation', 'Brought my own internet', 1.75, 'Yes', 'Yes', 'Freelancer', 'Dlamini', ''], ['2021-04-21 00:00:00', 'Thobeka', '78308314', '8:00:00 AM', 'Research', 'Brought my own workstation', 'Shared Hotspot', 6.0, 'Yes', 'No', 'Freelancer', 'Nxumalo', ''], ['2021-04-21 00:00:00', 'José', '', '8:00:00 AM', 'Company Work', 'Mac Workstation', 'Shared Hotspot', 12.0, 'Yes', 'No', 'Ummo', 'Rego', ''], ['2021-04-21 00:00:00', 'Mzwandile', '27634061158', '2:12:00 PM', 'Company Work', 'Mac Workstation', 'Shared Hotspot', 5.55, 'Yes', 'No', 'Kingdom XLR', 'Nxumalo', ''], ['2021-04-21 00:00:00', 'Lungelo', '76313249', '8:00:00 AM', 'Research', 'Brought my own workstation', 'Brought my own internet', 9.0, 'Yes', 'Yes', 'Freelancer', 'Mamba', ''], ['2021-04-21 00:00:00', 'Simanga', '78501932', '6:00:00 AM', 'Content & Creativity', 'Mac Workstation', 'Shared Hotspot', 8.0, 'Yes', 'No', 'Freelancer', 'Ntsini', ''], ['2021-04-22 00:00:00', 'Lungelo', '76313249', '9:00:00 AM', 'Research', 'Brought my own workstation', 'Brought my own internet', 8.0, 'Yes', 'Yes', 'Freelancer', 'Mamba', ''], ['2021-04-22 00:00:00', 'Fanelesibonge', '78221507', '12:00:00 AM', 'Coding', 'Brought my own workstation', 'Shared Hotspot', 15.0, 'Yes', 'No', 'Freelancer', 'Malaza', ''], ['2021-04-22 00:00:00', 'José', '', '8:00:00 AM', 'Company Work', 'Mac Workstation', 'Shared Hotspot', 12.0, 'Yes', 'No', 'Ummo', 'Rego', ''], ['2021-04-22 00:00:00', 'Gcinimiyalo', '76342236', '9:40:00 AM', 'Research', 'Brought my own workstation', 'Shared Hotspot', 5.333333333333333, 'Yes', 'No', 'Freelancer', 'Ntuli', ''], ['2021-04-22 00:00:00', 'Mlungisi', '76068779', '2:20:00 PM', 'Research', 'Brought my own workstation', 'Shared Hotspot', 3.1666666666666665, 'No', 'Yes', 'Freelancer', 'Shongwe', ''], ['2021-04-23 00:00:00', 'Fanelesibonge', '78221507', '7:45:00 AM', 'Company Work', 'Brought my own workstation', 'Shared Hotspot', 8.25, 'Yes', 'No', 'Freelancer', 'Malaza', ''], ['2021-04-23 00:00:00', 'José', '', '8:00:00 AM', 'Company Work', 'Mac Workstation', 'Shared Hotspot', 12.0, 'Yes', 'No', 'Ummo', 'Rego', ''], ['2021-04-23 00:00:00', 'Mlungisi', '76068779', '1:42:00 PM', 'Research', 'Brought my own workstation', 'Shared Hotspot', 3.05, 'No', 'Yes', 'Freelancer', 'Shongwe', ''], ['2021-04-23 00:00:00', 'Gcinimiyalo', '76342236', '6:00:00 PM', 'Content & Creativity', 'Mac Workstation', 'Shared Hotspot', 4.0, 'Yes', 'No', 'Freelancer', 'Ntuli', ''], ['2021-04-24 00:00:00', 'Thobeka', '78308314', '1:00:00 PM', 'Research', 'Brought my own workstation', 'Shared Hotspot', 4.0, 'Yes', 'No', 'Freelancer', 'Nxumalo', ''], ['2021-04-24 00:00:00', 'José', '', '8:00:00 AM', 'Company Work', 'Mac Workstation', 'Shared Hotspot', 12.0, 'Yes', 'No', 'Ummo', 'Rego', ''], ['2021-04-24 00:00:00', 'Fanelesibonge', '78221507', '9:20:00 AM', 'Coding', 'Brought my own workstation', 'Shared Hotspot', 5.666666666666667, 'Yes', 'No', 'Freelancer', 'Malaza', ''], ['2021-04-24 00:00:00', 'Gcinimiyalo', '76342236', '12:00:00 AM', 'Content & Creativity', 'Mac Workstation', 'Shared Hotspot', 14.0, 'Yes', 'No', 'Freelancer', 'Ntuli', ''], ['2021-04-24 00:00:00', 'Kwanele', '+268 7815 8606', '9:10:00 AM', 'Company Work', 'PC Workstation', 'Shared Hotspot', 7.833333333333333, 'Yes', 'Yes', 'Vundzisa', 'Tsabedze', ''], ['2021-04-27 00:00:00', 'Fanelesibonge', '78221507', '8:00:00 AM', 'Company Work', 'Brought my own workstation', 'Shared Hotspot', 7.5, 'Yes', 'No', 'Freelancer', 'Malaza', ''], ['2021-04-27 00:00:00', 'Kwanele', '78158606', '11:11:00 AM', 'Company Work', 'Brought my own workstation', 'Shared Hotspot', 5.816666666666666, 'Yes', 'Yes', 'Vundzisa', 'Tsabedze', ''], ['2021-04-27 00:00:00', 'Bagcinele', '76762919', '9:00:00 AM', 'Company Work', 'Mac Workstation', 'Shared Hotspot', 6.0, 'Yes', 'No', 'Kingdom XLR', 'Fakudze', ''], ['2021-04-27 00:00:00', 'Gcinimiyalo', '76342236', '1:00:00 PM', 'Content & Creativity', 'Mac Workstation', 'Shared Hotspot', 4.0, 'Yes', 'No', 'Freelancer', 'Ntuli', ''], ['2021-04-27 00:00:00', 'Thobeka', '78308314', '10:00:00 AM', 'Research', 'Brought my own workstation', 'Shared Hotspot', 7.0, 'Yes', 'No', 'Freelancer', 'Nxumalo', ''], ['2021-04-27 00:00:00', 'José', '', '8:00:00 AM', 'Company Work', 'Mac Workstation', 'Shared Hotspot', 12.0, 'Yes', 'No', 'Ummo', 'Rego', ''], ['2021-04-27 00:00:00', 'Lungelo', '7631 3249', '8:30:00 AM', 'Coding', 'Brought my own workstation', 'Brought my own internet', 8.5, 'Yes', 'Yes', 'Freelancer', 'Mamba', ''], ['2021-04-27 00:00:00', 'Nomalungelo', '76540168', '6:00:00 PM', 'Content & Creativity', 'Camera', 'Shared Hotspot', 8.0, 'Yes', 'No', 'Kingdom XLR', 'Dladla', ''], ['2021-04-28 00:00:00', 'Thobeka', '78308314', '6:00:00 PM', 'Research', 'Brought my own workstation', 'Shared Hotspot', 1.0, 'Yes', 'No', 'Freelancer', 'Nxumalo', ''], ['2021-04-28 00:00:00', 'José', '', '8:00:00 AM', 'Company Work', 'Mac Workstation', 'Shared Hotspot', 12.0, 'Yes', 'No', 'Ummo', 'Rego', ''], ['2021-04-28 00:00:00', 'Sebenzile', '76956390', '11:00:00 AM', 'Academic Work', 'Brought my own workstation', 'Brought my own internet', 2.0, 'No', '', '', '', ''], ['2021-04-28 00:00:00', 'Nomalungelo', '76540168', '2:00:00 PM', 'Content & Creativity', 'PC Workstation', 'Shared Hotspot', 1.5, 'Yes', 'No', 'Kingdom XLR', 'Dladla', ''], ['2021-04-28 00:00:00', 'Gcinimiyalo', '76342236', '3:15:00 PM', 'Content & Creativity', 'Mac Workstation', 'Shared Hotspot', 1.75, 'Yes', 'No', 'Freelancer', 'Ntuli', ''], ['2021-04-28 00:00:00', 'Mlungisi', '76068779', '3:15:00 PM', 'Research', 'PC Workstation', 'Shared Hotspot', 2.25, 'No', 'Yes', 'Freelancer', 'Shongwe', ''], ['2021-04-28 00:00:00', 'Mzwandile', '27634061158', '2:15:00 PM', 'Content & Creativity', 'Mac Workstation', 'Shared Hotspot', 7.75, 'Yes', 'No', 'Kingdom XLR', 'Nxumalo', ''], ['2021-04-29 00:00:00', 'Fanelesibonge', '78221507', '12:00:00 AM', 'Company Work', 'Brought my own workstation', 'Shared Hotspot', 15.0, 'Yes', 'No', 'Freelancer', 'Malaza', ''], ['2021-04-29 00:00:00', 'Nombuso', '78229280', '9:00:00 AM', 'Company Work', 'Brought my own workstation', 'Shared Hotspot', 8.0, 'Yes', 'Yes', 'SV Tech', 'Hlophe', ''], ['2021-04-29 00:00:00', 'José', '', '8:00:00 AM', 'Company Work', 'Mac Workstation', 'Shared Hotspot', 12.0, 'Yes', 'No', 'Ummo', 'Rego', ''], ['2021-04-29 00:00:00', 'Lwazi', '78149055', '9:29:00 AM', 'Company Work', 'PC Workstation', 'Shared Hotspot', 6.516666666666667, 'Yes', 'Yes', 'SV Tech', 'Dlamini', ''], ['2021-04-29 00:00:00', 'Sabelo', '76871675', '8:30:00 AM', 'Company Work', 'Brought my own workstation', 'Brought my own internet', 8.5, 'Yes', 'Yes', 'SV Tech', 'Vilakati', ''], ['2021-04-29 00:00:00', 'Mlungisi', '76068779', '3:25:00 PM', 'Research', 'PC Workstation', 'Shared Hotspot', 2.0833333333333335, 'No', 'Yes', 'Freelancer', 'Shongwe', ''], ['2021-04-30 00:00:00', 'Nombuso', '78229280', '9:00:00 AM', 'Company Work', 'Brought my own workstation', 'Shared Hotspot', 8.0, 'Yes', 'Yes', 'SV Tech', 'Hlophe', ''], ['2021-04-30 00:00:00', 'Mzwandile', '', '3:30:00 PM', 'Company Work', 'Mac Workstation, Audio Box', 'Shared Hotspot', 3.5, 'Yes', 'No', 'Kingdom XLR', 'Nxumalo', ''], ['2021-04-30 00:00:00', 'Simanga', '78501832', '6:00:00 AM', 'Content & Creativity', 'Mac Workstation', 'Shared Hotspot', 12.0, 'Yes', 'No', 'Freelancer', 'Ntsini', ''], ['2021-04-30 00:00:00', 'Mzwandile', '27634061158', '12:51:00 PM', 'Company Work', 'Mac Workstation', 'Shared Hotspot', 6.9, 'Yes', 'No', 'Kingdom XLR', 'Nxumalo', ''], ['2021-04-30 00:00:00', 'Sabelo', '76871675', '9:00:00 AM', 'Company Work', 'Brought my own workstation', 'Brought my own internet', 8.0, 'Yes', 'Yes', 'SV Tech', 'Vilakati', ''], ['2021-04-30 00:00:00', 'Thobeka', '78308314', '6:00:00 AM', 'Research', 'Brought my own workstation', 'Shared Hotspot', 7.0, 'Yes', 'No', 'Freelancer', 'Nxumalo', ''], ['2021-04-30 00:00:00', 'José', '', '8:00:00 AM', 'Company Work', 'Mac Workstation', 'Shared Hotspot', 12.0, 'Yes', 'No', 'Ummo', 'Rego', ''], ['2021-04-30 00:00:00', 'Fanelesibonge', '78221507', '12:00:00 AM', 'Coding', 'Brought my own workstation', 'Shared Hotspot', 14.0, 'Yes', 'No', 'Freelancer', 'Malaza', ''], ['2021-04-30 00:00:00', 'Nomalungelo', '76540168', '10:00:00 AM', 'Company Work', 'Brought my own workstation', 'Shared Hotspot', 5.0, 'Yes', 'No', 'Kingdom XLR', 'Dladla', ''], ['2021-04-30 00:00:00', 'Lwazi', '78149055', '12:00:00 PM', 'Company Work', 'PC Workstation', 'Shared Hotspot', 5.0, 'Yes', 'Yes', 'SV Tech', 'Dlamini', ''], ['2021-04-30 00:00:00', 'Gcinimiyalo', '76342236', '1:30:00 PM', 'Content & Creativity', 'Mac Workstation', 'Shared Hotspot', 3.5, 'Yes', 'No', 'Freelancer', 'Ntuli', ''], ['2021-04-30 00:00:00', 'Lungelo', '7631324', '8:00:00 AM', 'Meeting', 'Brought my own workstation', 'Brought my own internet', 9.0, 'Yes', 'Yes', 'Freelancer', 'Mamba', ''], ['2021-05-03 00:00:00', 'Nombuso', '78229280', '8:30:00 AM', 'Coding', 'PC Workstation', 'Shared Hotspot', 8.5, 'Yes', 'Yes', 'SV Tech', 'Hlophe', ''], ['2021-05-03 00:00:00', 'José', '', '8:00:00 AM', 'Company Work', 'Mac Workstation', 'Shared Hotspot', 12.0, 'Yes', 'No', 'Ummo', 'Rego', ''], ['2021-05-03 00:00:00', 'Zack', '79323073', '10:15:00 AM', 'Academic Work', 'Mac Workstation', 'Shared Hotspot', 7.75, 'Yes', 'Yes', 'Freelancer', 'Towindo', ''], ['2021-05-03 00:00:00', 'Zack', '79323073', '10:15:00 AM', 'Academic Work', 'Mac Workstation', 'Shared Hotspot', 7.75, 'Yes', 'Yes', 'Freelancer', 'Towindo', ''], ['2021-05-04 00:00:00', 'Fanelesibonge', '78221507', '12:00:00 AM', 'Coding', 'Brought my own workstation', 'Shared Hotspot', 23.983333333333334, 'Yes', 'No', 'Freelancer', 'Malaza', ''], ['2021-05-04 00:00:00', 'José', '', '8:00:00 AM', 'Company Work', 'Mac Workstation', 'Shared Hotspot', 12.0, 'Yes', 'No', 'Ummo', 'Rego', ''], ['2021-05-04 00:00:00', 'Nombuso', '78229280', '8:00:00 AM', 'Coding', 'PC Workstation', 'Shared Hotspot', 9.0, 'Yes', 'Yes', 'SV Tech', 'Hlophe', ''], ['2021-05-04 00:00:00', 'Mlungisi', '76068779', '1:12:00 PM', 'Research', 'PC Workstation', 'Shared Hotspot', 4.3, 'No', 'Yes', 'Freelancer', 'Shongwe', ''], ['2021-05-05 00:00:00', 'Nombuso', '78229280', '8:30:00 AM', 'Coding', 'PC Workstation', 'Shared Hotspot', 8.5, 'Yes', 'Yes', 'SV Tech', 'Hlophe', ''], ['2021-05-05 00:00:00', 'Lwazi', '78149055', '9:30:00 AM', 'Academic Work', 'Brought my own workstation', 'Shared Hotspot', 4.5, 'Yes', 'Yes', 'SV Tech', 'Dlamini', ''], ['2021-05-05 00:00:00', 'Sabelo', '76871675', '8:00:00 AM', 'Academic Work', 'Brought my own workstation', 'Brought my own internet', 15.0, 'Yes', 'Yes', 'SV Tech', 'Vilakati', ''], ['2021-05-05 00:00:00', 'José', '', '8:00:00 AM', 'Company Work', 'Mac Workstation', 'Shared Hotspot', 12.0, 'Yes', 'No', 'Ummo', 'Rego', ''], ['2021-05-05 00:00:00', 'Simanga', '78501932', '7:00:00 AM', 'Content & Creativity', 'Camera', 'Shared Hotspot', 10.0, 'Yes', 'No', 'Freelancer', 'Ntsini', ''], ['2021-05-05 00:00:00', 'Mlungisi', '76068779', '2:10:00 PM', 'Research', 'PC Workstation', 'Shared Hotspot', 2.6666666666666665, 'No', 'Yes', 'Freelancer', 'Shongwe', ''], ['2021-05-05 00:00:00', 'Lungelo', '76313249', '8:00:00 AM', 'Research', 'Brought my own workstation', 'Brought my own internet', 9.0, 'Yes', 'Yes', 'Freelancer', 'Mamba', ''], ['2021-05-06 00:00:00', 'José', '', '8:00:00 AM', 'Company Work', 'Mac Workstation', 'Shared Hotspot', 12.0, 'Yes', 'No', 'Ummo', 'Rego', ''], ['2021-05-06 00:00:00', 'Nombuso', '78229280', '8:30:00 AM', 'Coding', 'PC Workstation', 'Shared Hotspot', 3.5, 'Yes', 'Yes', 'SV Tech', 'Hlophe', ''], ['2021-05-06 00:00:00', 'Mlungisi', '76068779', '2:45:00 PM', 'Research', 'PC Workstation', 'Shared Hotspot', 2.75, 'No', 'Yes', 'Freelancer', 'Shongwe', ''], ['2021-05-07 00:00:00', 'Nombuso', '78229280', '8:40:00 AM', 'Coding', 'PC Workstation', 'Shared Hotspot', 8.333333333333334, 'Yes', 'Yes', 'SV Tech', 'Hlophe', ''], ['2021-05-07 00:00:00', 'Lwazi', '78149055', '9:00:00 AM', 'Company Work', 'PC Workstation', 'Shared Hotspot', 6.0, 'Yes', 'Yes', 'SV Tech', 'Dlamini', ''], ['2021-05-07 00:00:00', 'Gcinimiyalo', '76342236', '10:00:00 AM', 'Content & Creativity', 'Mac Workstation', 'Shared Hotspot', 3.0, 'Yes', 'No', 'Freelancer', 'Ntuli', ''], ['2021-05-07 00:00:00', 'José', '', '8:00:00 AM', 'Company Work', 'Mac Workstation', 'Shared Hotspot', 12.0, 'Yes', 'No', 'Ummo', 'Rego', ''], ['2021-05-07 00:00:00', 'Sabelo', '76871675', '8:00:00 AM', 'Company Work', 'Brought my own workstation', 'Brought my own internet', 9.0, 'Yes', 'Yes', 'SV Tech', 'Vilakati', ''], ['2021-05-07 00:00:00', 'Mlungisi', '76068779', '2:30:00 PM', 'Research', 'PC Workstation', 'Shared Hotspot', 3.25, 'No', 'Yes', 'Freelancer', 'Shongwe', ''], ['2021-05-07 00:00:00', 'Lungelo', '76313249', '8:00:00 PM', 'Coding', 'Keyboard', 'Brought my own internet', 3.0, 'Yes', 'Yes', 'Freelancer', 'Mamba', ''], ['2021-05-10 00:00:00', 'Nombuso', '78229280', '8:45:00 AM', 'Research', 'PC Workstation', 'Shared Hotspot', 8.25, 'Yes', 'Yes', 'SV Tech', 'Hlophe', ''], ['2021-05-10 00:00:00', 'Lwazi', '78149055', '9:00:00 AM', 'Company Work', 'PC Workstation', 'Shared Hotspot', 6.0, 'Yes', 'Yes', 'SV Tech', 'Dlamini', ''], ['2021-05-10 00:00:00', 'Gcinimiyalo', '76342236', '12:00:00 AM', 'Content & Creativity', 'Mac Workstation', 'Shared Hotspot', 17.0, 'Yes', 'No', 'Freelancer', 'Ntuli', ''], ['2021-05-10 00:00:00', 'Kwanele', '78158606', '3:15:00 PM', 'Meeting', 'Brought my own workstation', 'Shared Hotspot', 2.75, 'Yes', 'Yes', 'Vundzisa', 'Tsabedze', ''], ['2021-05-10 00:00:00', 'Mlungisi', '76068779', '2:30:00 PM', 'Research', 'PC Workstation', 'Shared Hotspot', 3.0, 'No', 'Yes', 'Freelancer', 'Shongwe', ''], ['2021-05-10 00:00:00', 'Lungelo', '76313249', '8:00:00 AM', 'Research', 'Keyboard', 'Brought my own internet', 9.0, 'Yes', 'Yes', 'Freelancer', 'Mamba', ''], ['2021-05-10 00:00:00', 'Thobeka', '78308314', '6:00:00 AM', 'Research', 'Brought my own workstation', 'Shared Hotspot', 8.0, 'Yes', 'No', 'Freelancer', 'Nxumalo', ''], ['2021-05-10 00:00:00', 'José', '', '8:00:00 AM', 'Company Work', 'Mac Workstation', 'Shared Hotspot', 12.0, 'Yes', 'No', 'Ummo', 'Rego', ''], ['2021-05-10 00:00:00', 'Fanelesibonge', '78221507', '12:00:00 AM', 'Coding', 'Brought my own workstation', 'Shared Hotspot', 23.0, 'Yes', 'No', 'Freelancer', 'Malaza', ''], ['2021-05-11 00:00:00', 'Fanelesibonge', '78221507', '6:00:00 AM', 'Coding', 'Brought my own workstation', 'Shared Hotspot', 17.0, 'Yes', 'No', 'Freelancer', 'Malaza', ''], ['2021-05-11 00:00:00', 'Lwazi', '78149055', '9:30:00 AM', 'Company Work', 'PC Workstation', 'Shared Hotspot', 6.5, 'Yes', 'Yes', 'SV Tech', 'Dlamini', ''], ['2021-05-11 00:00:00', 'Nombuso', '78229280', '11:30:00 AM', 'Company Work', 'PC Workstation', 'Shared Hotspot', 5.5, 'Yes', 'Yes', 'SV Tech', 'Hlophe', ''], ['2021-05-11 00:00:00', 'Bagcinele', '76762919', '9:00:00 AM', 'Company Work', 'Mac Workstation', 'Shared Hotspot', 8.0, 'Yes', 'No', 'Kingdom XLR', 'Fakudze', ''], ['2021-05-11 00:00:00', 'Mlungisi', '76068779', '2:30:00 PM', 'Research', 'PC Workstation', 'Shared Hotspot', 3.0, 'No', 'Yes', 'Freelancer', 'Shongwe', ''], ['2021-05-11 00:00:00', 'Gcinimiyalo', '76342236', '5:45:00 PM', 'Content & Creativity', 'Mac Workstation', 'Shared Hotspot', 1.25, 'Yes', 'No', 'Freelancer', 'Ntuli', ''], ['2021-05-11 00:00:00', 'José', '', '8:00:00 AM', 'Company Work', 'Mac Workstation', 'Shared Hotspot', 12.0, 'Yes', 'No', 'Ummo', 'Rego', ''], ['2021-05-11 00:00:00', 'Mzwandile', '27634061158', '1:27:00 PM', 'Company Work', 'Mac Workstation', 'Shared Hotspot', 6.25, 'Yes', 'No', 'Kingdom XLR', 'Nxumalo', ''], ['2021-05-11 00:00:00', 'Mzwandile', '27634061158', '5:03:00 PM', 'Company Work', 'Mac Workstation', 'Shared Hotspot', 8.45, 'Yes', 'No', 'Kingdom XLR', 'Nxumalo', ''], ['2021-05-11 00:00:00', 'Mzwandile', '27634061158', '2:32:00 PM', 'Company Work', 'Mac Workstation', 'Shared Hotspot', 3.85, 'Yes', 'No', 'Kingdom XLR', 'Nxumalo', ''], ['2021-05-12 00:00:00', 'Fanelesibonge', '78221507', '4:00:00 AM', 'Company Work', 'Brought my own workstation', 'Shared Hotspot', 19.0, 'Yes', 'No', 'Freelancer', 'Malaza', ''], ['2021-05-12 00:00:00', 'José', '', '8:00:00 AM', 'Company Work', 'Mac Workstation', 'Shared Hotspot', 12.0, 'Yes', 'No', 'Ummo', 'Rego', ''], ['2021-05-12 00:00:00', 'Nombuso', '78229280', '8:30:00 AM', 'Coding', 'PC Workstation', 'Shared Hotspot', 3.5, 'Yes', 'Yes', 'SV Tech', 'Hlophe', ''], ['2021-05-12 00:00:00', 'Gcinimiyalo', '76342236', '3:45:00 PM', 'Content & Creativity', 'Mac Workstation', 'Shared Hotspot', 1.25, 'Yes', 'No', 'Freelancer', 'Ntuli', ''], ['2021-05-12 00:00:00', 'Mlungisi', '76068779', '2:30:00 PM', 'Research', 'PC Workstation', 'Shared Hotspot', 3.0, 'No', 'Yes', 'Freelancer', 'Shongwe', ''], ['2021-05-13 00:00:00', 'José', '', '8:00:00 AM', 'Company Work', 'Mac Workstation', 'Shared Hotspot', 12.0, 'Yes', 'No', 'Ummo', 'Rego', ''], ['2021-05-13 00:00:00', 'Mlungisi', '76068779', '2:30:00 PM', 'Research', 'PC Workstation', 'Shared Hotspot', 2.5, 'No', 'Yes', 'Freelancer', 'Shongwe', ''], ['2021-05-14 00:00:00', 'José', '', '8:00:00 AM', 'Company Work', 'Mac Workstation', 'Shared Hotspot', 12.0, 'Yes', 'No', 'Ummo', 'Rego', ''], ['2021-05-14 00:00:00', 'Lwazi', '78149055', '10:00:00 AM', 'Company Work', 'PC Workstation', 'Shared Hotspot', 7.0, 'Yes', 'Yes', 'SV Tech', 'Dlamini', ''], ['2021-05-16 00:00:00', 'José', '', '8:00:00 AM', 'Company Work', 'Mac Workstation', 'Shared Hotspot', 12.0, 'Yes', 'No', 'Ummo', 'Rego', ''], ['2021-05-16 00:00:00', 'Gcinimiyalo', '76342236', '8:15:00 AM', 'Content & Creativity', 'Mac Workstation', 'Shared Hotspot', 8.75, 'Yes', 'No', 'Freelancer', 'Ntuli', ''], ['2021-05-17 00:00:00', 'Nombuso', '78229280', '8:45:00 AM', 'Content & Creativity', 'PC Workstation', 'Shared Hotspot', 3.75, 'Yes', 'Yes', 'SV Tech', 'Hlophe', ''], ['2021-05-17 00:00:00', 'José', '', '8:00:00 AM', 'Company Work', 'Mac Workstation', 'Shared Hotspot', 12.0, 'Yes', 'No', 'Ummo', 'Rego', ''], ['2021-05-17 00:00:00', 'Lwazi', '78149055', '10:00:00 AM', 'Company Work', 'Brought my own workstation', 'Shared Hotspot', 6.0, 'Yes', 'Yes', 'SV Tech', 'Dlamini', ''], ['2021-05-17 00:00:00', 'Mlungisi', '76068779', '1:00:00 PM', 'Research', 'PC Workstation', 'Shared Hotspot', 5.0, 'No', 'Yes', 'Freelancer', 'Shongwe', ''], ['2021-05-17 00:00:00', 'José', '', '8:00:00 AM', 'Company Work', 'Mac Workstation', 'Shared Hotspot', 12.0, 'Yes', 'No', 'Ummo', 'Rego', ''], ['2021-05-18 00:00:00', 'Nombuso', '78229280', '8:45:00 AM', 'Company Work', 'PC Workstation', 'Shared Hotspot', 8.25, 'Yes', 'Yes', 'SV Tech', 'Hlophe', ''], ['2021-05-18 00:00:00', 'José', '', '8:00:00 AM', 'Company Work', 'Mac Workstation', 'Shared Hotspot', 12.0, 'Yes', 'No', 'Ummo', 'Rego', ''], ['2021-05-18 00:00:00', 'Gcinimiyalo', '76342236', '7:00:00 AM', 'Content & Creativity', 'Mac Workstation', 'Shared Hotspot', 10.0, 'Yes', 'No', 'Freelancer', 'Ntuli', ''], ['2021-05-18 00:00:00', 'Mlungisi', '76068779', '1:30:00 PM', 'Research', 'PC Workstation', 'Shared Hotspot', 4.333333333333333, 'No', 'Yes', 'Freelancer', 'Shongwe', ''], ['2021-05-19 00:00:00', 'José', '', '8:00:00 AM', 'Company Work', 'Mac Workstation', 'Shared Hotspot', 12.0, 'Yes', 'No', 'Ummo', 'Rego', ''], ['2021-05-19 00:00:00', 'Nombuso', '78229280', '8:45:00 AM', 'Coding', 'PC Workstation', 'Shared Hotspot', 8.25, 'Yes', 'Yes', 'SV Tech', 'Hlophe', ''], ['2021-05-19 00:00:00', 'Gcinimiyalo', '76342236', '10:00:00 AM', 'Content & Creativity', 'Mac Workstation', 'Shared Hotspot', 7.0, 'Yes', 'No', 'Freelancer', 'Ntuli', ''], ['2021-05-20 00:00:00', 'Nombuso', '78229280', '9:00:00 AM', 'Coding', 'PC Workstation', 'Shared Hotspot', 8.0, 'Yes', 'Yes', 'SV Tech', 'Hlophe', ''], ['2021-05-20 00:00:00', 'Gcinimiyalo', '76342236', '10:00:00 AM', 'Content & Creativity', 'Mac Workstation', 'Shared Hotspot', 7.0, 'Yes', 'No', 'Freelancer', 'Ntuli', ''], ['2021-05-20 00:00:00', 'Mzwandile', '27634061158', '5:01:00 PM', 'Company Work', 'Mac Workstation', 'Shared Hotspot', 6.55, 'Yes', 'No', 'Kingdom XLR', 'Nxumalo', ''], ['2021-05-20 00:00:00', 'José', '', '8:00:00 AM', 'Company Work', 'Mac Workstation', 'Shared Hotspot', 12.0, 'Yes', 'No', 'Ummo', 'Rego', ''], ['2021-05-20 00:00:00', 'Fanelesibonge', '78221507', '7:00:00 PM', 'Company Work', 'Brought my own workstation', 'Shared Hotspot', 15.0, 'Yes', 'No', 'Freelancer', 'Malaza', ''], ['2021-05-20 00:00:00', 'Simanga', '78591932', '7:00:00 PM', 'Content & Creativity', 'Mac Workstation', 'Shared Hotspot', 3.0, 'Yes', 'No', 'Freelancer', 'Ntsini', ''], ['2021-05-21 00:00:00', 'José', '', '8:00:00 AM', 'Company Work', 'Mac Workstation', 'Shared Hotspot', 12.0, 'Yes', 'No', 'Ummo', 'Rego', ''], ['2021-05-21 00:00:00', 'Nombuso', '78229280', '9:00:00 AM', 'Coding', 'PC Workstation', 'Shared Hotspot', 8.0, 'Yes', 'Yes', 'SV Tech', 'Hlophe', ''], ['2021-05-22 00:00:00', 'Gcinimiyalo', '76342236', '5:10:00 AM', 'Content & Creativity', 'Mac Workstation', 'Shared Hotspot', 1.3333333333333333, 'Yes', 'No', 'Freelancer', 'Ntuli', ''], ['2021-05-22 00:00:00', 'José', '', '8:00:00 AM', 'Company Work', 'Mac Workstation', 'Shared Hotspot', 12.0, 'Yes', 'No', 'Ummo', 'Rego', ''], ['2021-05-22 00:00:00', 'Simanga', '78501932', '3:00:00 PM', 'Content & Creativity', 'Camera', 'Shared Hotspot', 15.0, 'Yes', 'No', 'Freelancer', 'Ntsini', ''], ['2021-05-22 00:00:00', 'Mlungisi', '76068779', '2:45:00 PM', 'Research', 'Brought my own workstation', 'Shared Hotspot', 2.25, 'No', 'Yes', 'Freelancer', 'Shongwe', ''], ['2021-05-23 00:00:00', 'Gcinimiyalo', '76342236', '7:30:00 AM', 'Content & Creativity', 'Mac Workstation', 'Shared Hotspot', 9.5, 'Yes', 'No', 'Freelancer', 'Ntuli', ''], ['2021-05-23 00:00:00', 'José', '', '8:00:00 AM', 'Company Work', 'Mac Workstation', 'Shared Hotspot', 12.0, 'Yes', 'No', 'Ummo', 'Rego', ''], ['2021-05-23 00:00:00', 'Simanga', '78501932', '9:19:00 PM', 'Content & Creativity', 'Mac Workstation', 'Shared Hotspot', 21.316666666666666, 'Yes', 'No', 'Freelancer', 'Ntsini', ''], ['2021-05-24 00:00:00', 'José', '', '8:00:00 AM', 'Company Work', 'Mac Workstation', 'Shared Hotspot', 12.0, 'Yes', 'No', 'Ummo', 'Rego', ''], ['2021-05-24 00:00:00', 'Nombuso', '78229280', '9:00:00 AM', 'Research', 'PC Workstation', 'Shared Hotspot', 4.0, 'Yes', 'Yes', 'SV Tech', 'Hlophe', ''], ['2021-05-25 00:00:00', 'José', '', '8:00:00 AM', 'Company Work', 'Mac Workstation', 'Shared Hotspot', 12.0, 'Yes', 'No', 'Ummo', 'Rego', ''], ['2021-05-25 00:00:00', 'Gcinimiyalo', '76342236', '2:30:00 PM', 'Content & Creativity', 'Mac Workstation', 'Shared Hotspot', 5.5, 'Yes', 'No', 'Freelancer', 'Ntuli', ''], ['2021-05-26 00:00:00', 'Gcinimiyalo', '76342236', '12:00:00 PM', 'Content & Creativity', 'Mac Workstation', 'Shared Hotspot', 2.0, 'Yes', 'No', 'Freelancer', 'Ntuli', ''], ['2021-05-26 00:00:00', 'Fanelesibonge', '78221507', '1:00:00 AM', 'Company Work', 'Brought my own workstation', 'Shared Hotspot', 20.0, 'Yes', 'No', 'Freelancer', 'Malaza', ''], ['2021-05-26 00:00:00', 'José', '', '8:00:00 AM', 'Company Work', 'Mac Workstation', 'Shared Hotspot', 12.0, 'Yes', 'No', 'Ummo', 'Rego', ''], ['2021-05-26 00:00:00', 'Lungelo', '76313249', '8:00:00 AM', 'Meeting', 'Brought my own workstation', 'Brought my own internet', 9.0, 'Yes', 'Yes', 'Freelancer', 'Mamba', ''], ['2021-05-26 00:00:00', 'Mzwandile', '27634061158', '3:07:00 PM', 'Content & Creativity', 'Mac Workstation', 'Shared Hotspot', 13.733333333333333, 'Yes', 'No', 'Kingdom XLR', 'Nxumalo', ''], ['2021-05-26 00:00:00', 'Nomalungelo', '76540168', '11:00:00 AM', 'Content & Creativity', 'PC Workstation', 'Shared Hotspot', 9.5, 'Yes', 'No', 'Kingdom XLR', 'Dladla', ''], ['2021-05-27 00:00:00', 'Lungelo', '76313249', '8:00:00 AM', 'Research', 'Keyboard', 'Brought my own internet', 9.0, 'Yes', 'Yes', 'Freelancer', 'Mamba', ''], ['2021-05-27 00:00:00', 'Sibahle', '78630006', '8:00:00 AM', 'Company Work', 'Brought my own workstation', 'Shared Hotspot', 5.0, 'Yes', 'Yes', 'Ummo', 'Mnyakeni', ''], ['2021-05-27 00:00:00', 'José', '', '8:00:00 AM', 'Company Work', 'Mac Workstation', 'Shared Hotspot', 12.0, 'Yes', 'No', 'Ummo', 'Rego', ''], ['2021-05-27 00:00:00', 'Fanelesibonge', '78221507', '6:00:00 AM', 'Coding', 'Brought my own workstation', 'Shared Hotspot', 14.0, 'Yes', 'No', 'Freelancer', 'Malaza', ''], ['2021-05-27 00:00:00', 'Nomalungelo', '76540168', '10:00:00 AM', 'Content & Creativity', 'PC Workstation', 'Shared Hotspot', 1.5, 'Yes', 'No', 'Kingdom XLR', 'Dladla', ''], ['2021-05-27 00:00:00', 'Simanga', '78501932', '10:00:00 AM', 'Content & Creativity', 'Mac Workstation', 'Shared Hotspot', 5.0, 'Yes', 'No', 'Freelancer', 'Ntsini', ''], ['2021-05-27 00:00:00', 'Gcinimiyalo', '76342236', '11:46:00 AM', 'Content & Creativity', 'Mac Workstation', 'Shared Hotspot', 5.233333333333333, 'Yes', 'No', 'Freelancer', 'Ntuli', ''], ['2021-05-27 00:00:00', 'Mzwandile', '', '3:30:00 PM', 'Company Work', 'Mac Workstation, Audio Box', 'Shared Hotspot', 3.5, 'Yes', 'No', 'Kingdom XLR', 'Nxumalo', ''], ['2021-05-27 00:00:00', 'Bagcinele', '76762919', '8:00:00 AM', 'Company Work', 'Mac Workstation', 'Shared Hotspot', 10.0, 'Yes', 'No', 'Kingdom XLR', 'Fakudze', ''], ['2021-05-27 00:00:00', 'Kwanele', '78158606', '4:50:00 PM', 'Company Work', 'Brought my own workstation', 'Shared Hotspot', 2.3333333333333335, 'Yes', 'Yes', 'Vundzisa', 'Tsabedze', ''], ['2021-05-27 00:00:00', 'Sibahle', '78630006', '9:45:00 AM', 'Company Work', 'Brought my own workstation', 'Shared Hotspot', 6.25, 'Yes', 'Yes', 'Ummo', 'Mnyakeni', ''], ['2021-05-28 00:00:00', 'José', '', '8:00:00 AM', 'Company Work', 'Mac Workstation', 'Shared Hotspot', 12.0, 'Yes', 'No', 'Ummo', 'Rego', ''], ['2021-05-28 00:00:00', 'Gcinimiyalo', '76342236', '8:45:00 AM', 'Content & Creativity', 'Mac Workstation', 'Shared Hotspot', 8.25, 'Yes', 'No', 'Freelancer', 'Ntuli', ''], ['2021-05-29 00:00:00', 'José', '', '8:00:00 AM', 'Company Work', 'Mac Workstation', 'Shared Hotspot', 12.0, 'Yes', 'No', 'Ummo', 'Rego', ''], ['2021-05-29 00:00:00', 'Gcinimiyalo', '76342236', '8:54:00 AM', 'Content & Creativity', 'Mac Workstation', 'Shared Hotspot', 8.1, 'Yes', 'No', 'Freelancer', 'Ntuli', ''], ['2021-05-29 00:00:00', 'Sibahle', '78630006', '9:45:00 AM', 'Company Work', 'Brought my own workstation', 'Shared Hotspot', 6.25, 'Yes', 'Yes', 'Ummo', 'Mnyakeni', ''], ['2021-05-30 00:00:00', 'Gcinimiyalo', '76342236', '9:45:00 AM', 'Content & Creativity', 'Mac Workstation', 'Shared Hotspot', 7.25, 'Yes', 'No', 'Freelancer', 'Ntuli', ''], ['2021-05-30 00:00:00', 'José', '', '8:00:00 AM', 'Company Work', 'Mac Workstation', 'Shared Hotspot', 12.0, 'Yes', 'No', 'Ummo', 'Rego', ''], ['2021-05-30 00:00:00', 'Fanelesibonge', '78221507', '7:00:00 AM', 'Company Work', 'Brought my own workstation', 'Shared Hotspot', 14.0, 'Yes', 'No', 'Freelancer', 'Malaza', ''], ['2021-05-31 00:00:00', 'Gcinimiyalo', '76342236', '9:45:00 AM', 'Company Work', 'Mac Workstation', 'Shared Hotspot', 7.25, 'Yes', 'No', 'Freelancer', 'Ntuli', ''], ['2021-05-31 00:00:00', 'José', '', '8:00:00 AM', 'Company Work', 'Mac Workstation', 'Shared Hotspot', 12.0, 'Yes', 'No', 'Ummo', 'Rego', ''], ['2021-05-31 00:00:00', 'Kwanele', '78158606', '3:30:00 PM', 'Company Work', 'Brought my own workstation', 'Shared Hotspot', 1.5, 'Yes', 'Yes', 'Vundzisa', 'Tsabedze', ''], ['2021-05-31 00:00:00', 'Ayanda', '76273414', '6:00:00 PM', 'Company Work', 'Mac Workstation', 'Shared Hotspot', 0.5, 'Yes', 'No', 'Freelancer', 'Tsela', ''], ['2021-06-01 00:00:00', 'Sibahle', '', '8:00:00 PM', 'Company Work, Meeting', 'Mac Workstation', 'Shared Hotspot', 2.0, 'Yes', 'Yes', 'Ummo', 'Mnyakeni', ''], ['2021-06-01 00:00:00', 'Nombuso', '78229280', '9:00:00 AM', 'Research', 'Brought my own workstation', 'Shared Hotspot', 8.0, 'Yes', 'Yes', 'SV Tech', 'Hlophe', ''], ['2021-06-01 00:00:00', 'José', '', '8:00:00 AM', 'Company Work', 'Mac Workstation', 'Shared Hotspot', 12.0, 'Yes', 'No', 'Ummo', 'Rego', ''], ['2021-06-01 00:00:00', 'Simanga', '78501932', '6:00:00 AM', 'Content & Creativity', 'Camera', 'Shared Hotspot', 12.0, 'Yes', 'No', 'Freelancer', 'Ntsini', ''], ['2021-06-01 00:00:00', 'Nomalungelo', '76540168', '11:50:00 AM', 'Content & Creativity', 'PC Workstation', 'Shared Hotspot', 2.1666666666666665, 'Yes', 'No', 'Kingdom XLR', 'Dladla', ''], ['2021-06-01 00:00:00', 'Lungelo', '76313249', '8:00:00 AM', 'Research', 'Keyboard', 'Brought my own internet', 9.0, 'Yes', 'Yes', 'Freelancer', 'Mamba', ''], ['2021-06-01 00:00:00', 'Fanelesibonge', '78221507', '4:00:00 AM', 'Company Work', 'Brought my own workstation', 'Shared Hotspot', 18.0, 'Yes', 'No', 'Freelancer', 'Malaza', ''], ['2021-06-01 00:00:00', 'Kwanele', '78158606', '2:00:00 PM', 'Content & Creativity', 'Brought my own workstation', 'Shared Hotspot', 3.75, 'Yes', 'Yes', 'Vundzisa', 'Tsabedze', ''], ['2021-06-02 00:00:00', 'Gcinimiyalo', '76342236', '7:15:00 AM', 'Content & Creativity', 'Mac Workstation', 'Shared Hotspot', 9.75, 'Yes', 'No', 'Freelancer', 'Ntuli', ''], ['2021-06-02 00:00:00', 'Sibahle', '', '8:00:00 PM', 'Company Work, Meeting', 'Mac Workstation', 'Shared Hotspot', 2.0, 'Yes', 'Yes', 'Ummo', 'Mnyakeni', ''], ['2021-06-02 00:00:00', 'José', '', '8:00:00 AM', 'Company Work', 'Mac Workstation', 'Shared Hotspot', 12.0, 'Yes', 'No', 'Ummo', 'Rego', ''], ['2021-06-02 00:00:00', 'Lungelo', '7631 3249', '8:30:00 AM', 'Meeting', 'Keyboard', 'Brought my own internet', 8.5, 'Yes', 'Yes', 'Freelancer', 'Mamba', ''], ['2021-06-03 00:00:00', 'Gcinimiyalo', '76342236', '8:51:00 AM', 'Content & Creativity', 'Mac Workstation', 'Shared Hotspot', 8.15, 'Yes', 'No', 'Freelancer', 'Ntuli', ''], ['2021-06-03 00:00:00', 'Bagcinele', '76762919', '8:00:00 AM', 'Company Work', 'Mac Workstation', 'Shared Hotspot', 10.0, 'Yes', 'No', 'Kingdom XLR', 'Fakudze', ''], ['2021-06-03 00:00:00', 'José', '', '8:00:00 AM', 'Company Work', 'Mac Workstation', 'Shared Hotspot', 12.0, 'Yes', 'No', 'Ummo', 'Rego', ''], ['2021-06-03 00:00:00', 'Kwanele', '78158606', '12:00:00 AM', 'Company Work', 'Brought my own workstation', 'Brought my own internet', 15.25, 'Yes', 'Yes', 'Vundzisa', 'Tsabedze', ''], ['2021-06-03 00:00:00', 'Simanga', '78501932', '1:05:00 PM', 'Content & Creativity', 'Mac Workstation', 'Shared Hotspot', 3.9166666666666665, 'Yes', 'No', 'Freelancer', 'Ntsini', ''], ['2021-06-03 00:00:00', 'Sibahle', '', '8:00:00 PM', 'Company Work, Meeting', 'Mac Workstation', 'Shared Hotspot', 2.0, 'Yes', 'Yes', 'Ummo', 'Mnyakeni', ''], ['2021-06-03 00:00:00', 'José', '', '8:00:00 AM', 'Company Work', 'Mac Workstation', 'Shared Hotspot', 12.0, 'Yes', 'No', 'Ummo', 'Rego', ''], ['2021-06-04 00:00:00', 'Gcinimiyalo', '76342236', '7:22:00 AM', 'Content & Creativity', 'Mac Workstation', 'Shared Hotspot', 9.633333333333333, 'Yes', 'No', 'Freelancer', 'Ntuli', ''], ['2021-06-04 00:00:00', 'José', '', '8:00:00 AM', 'Company Work', 'Mac Workstation', 'Shared Hotspot', 12.0, 'Yes', 'No', 'Ummo', 'Rego', ''], ['2021-06-04 00:00:00', 'Sibahle', '', '8:00:00 PM', 'Company Work, Meeting', 'Mac Workstation', 'Shared Hotspot', 2.0, 'Yes', 'Yes', 'Ummo', 'Mnyakeni', ''], ['2021-06-05 00:00:00', 'José', '', '8:00:00 AM', 'Company Work', 'Mac Workstation', 'Shared Hotspot', 12.0, 'Yes', 'No', 'Ummo', 'Rego', ''], ['2021-06-05 00:00:00', 'Sibahle', '', '8:00:00 PM', 'Company Work, Meeting', 'Mac Workstation', 'Shared Hotspot', 2.0, 'Yes', 'Yes', 'Ummo', 'Mnyakeni', ''], ['2021-06-07 00:00:00', 'Nombuso', '78229280', '9:00:00 AM', 'Coding', 'Brought my own workstation', 'Shared Hotspot', 4.0, 'Yes', 'Yes', 'SV Tech', 'Hlophe', ''], ['2021-06-07 00:00:00', 'Gcinimiyalo', '76342236', '9:35:00 AM', 'Content & Creativity', 'Mac Workstation', 'Shared Hotspot', 7.416666666666667, 'Yes', 'No', 'Freelancer', 'Ntuli', ''], ['2021-06-07 00:00:00', 'Fanelesibonge', '78221507', '4:30:00 AM', 'Company Work', 'Brought my own workstation', 'Shared Hotspot', 16.5, 'Yes', 'No', 'Freelancer', 'Malaza', ''], ['2021-06-07 00:00:00', 'Sibahle', '', '8:00:00 PM', 'Company Work, Meeting', 'Mac Workstation', 'Shared Hotspot', 2.0, 'Yes', 'Yes', 'Ummo', 'Mnyakeni', ''], ['2021-06-07 00:00:00', 'José', '', '8:00:00 AM', 'Company Work', 'Mac Workstation', 'Shared Hotspot', 12.0, 'Yes', 'No', 'Ummo', 'Rego', ''], ['2021-06-07 00:00:00', 'Mzwandile', '27634061158', '1:07:00 PM', 'Company Work', 'Mac Workstation', 'Shared Hotspot', 9.416666666666666, 'Yes', 'No', 'Kingdom XLR', 'Nxumalo', ''], ['2021-06-07 00:00:00', 'Nomalungelo', '76540168', '1:00:00 PM', 'Content & Creativity', 'PC Workstation', 'Shared Hotspot', 5.0, 'Yes', 'No', 'Kingdom XLR', 'Dladla', ''], ['2021-06-07 00:00:00', 'Kwanele', '78158606', '12:40:00 AM', 'Meeting', 'Brought my own workstation', 'Shared Hotspot', 17.333333333333332, 'Yes', 'Yes', 'Vundzisa', 'Tsabedze', ''], ['2021-06-08 00:00:00', 'Sibahle', '', '8:00:00 PM', 'Company Work, Meeting', 'Mac Workstation', 'Shared Hotspot', 2.0, 'Yes', 'Yes', 'Ummo', 'Mnyakeni', ''], ['2021-06-08 00:00:00', 'José', '', '8:00:00 AM', 'Company Work', 'Mac Workstation', 'Shared Hotspot', 12.0, 'Yes', 'No', 'Ummo', 'Rego', ''], ['2021-06-08 00:00:00', 'Nombuso', '78229280', '9:00:00 AM', 'Research', 'Brought my own workstation', 'Shared Hotspot', 8.0, 'Yes', 'Yes', 'SV Tech', 'Hlophe', ''], ['2021-06-09 00:00:00', 'José', '', '8:00:00 AM', 'Company Work', 'Mac Workstation', 'Shared Hotspot', 12.0, 'Yes', 'No', 'Ummo', 'Rego', ''], ['2021-06-09 00:00:00', 'Sibahle', '', '8:00:00 PM', 'Company Work, Meeting', 'Mac Workstation', 'Shared Hotspot', 2.0, 'Yes', 'Yes', 'Ummo', 'Mnyakeni', ''], ['2021-06-10 00:00:00', 'José', '', '8:00:00 AM', 'Company Work', 'Mac Workstation', 'Shared Hotspot', 12.0, 'Yes', 'No', 'Ummo', 'Rego', ''], ['2021-06-10 00:00:00', 'Sibahle', '', '8:00:00 PM', 'Company Work, Meeting', 'Mac Workstation', 'Shared Hotspot', 2.0, 'Yes', 'Yes', 'Ummo', 'Mnyakeni', ''], ['2021-06-11 00:00:00', 'Lungelo', '76313249', '8:00:00 AM', 'Coding', 'Keyboard', 'Brought my own internet', 9.0, 'Yes', 'Yes', 'Freelancer', 'Mamba', ''], ['2021-06-11 00:00:00', 'Gcinimiyalo', '76342236', '11:59:00 AM', 'Content & Creativity', 'Mac Workstation', 'Shared Hotspot', 5.016666666666667, 'Yes', 'No', 'Freelancer', 'Ntuli', ''], ['2021-06-11 00:00:00', 'José', '', '8:00:00 AM', 'Company Work', 'Mac Workstation', 'Shared Hotspot', 12.0, 'Yes', 'No', 'Ummo', 'Rego', ''], ['2021-06-11 00:00:00', 'Sibahle', '', '8:00:00 PM', 'Company Work, Meeting', 'Mac Workstation', 'Shared Hotspot', 2.0, 'Yes', 'Yes', 'Ummo', 'Mnyakeni', ''], ['2021-06-11 00:00:00', 'Nomalungelo', '76540168', '2:00:00 PM', 'Content & Creativity', 'PC Workstation', 'Shared Hotspot', 2.0, 'Yes', 'No', 'Kingdom XLR', 'Dladla', ''], ['2021-06-11 00:00:00', 'Mlungisi', '76068779', '1:00:00 PM', 'Research', 'PC Workstation', 'Shared Hotspot', 5.0, 'No', 'Yes', 'Freelancer', 'Shongwe', ''], ['2021-06-12 00:00:00', 'José', '', '8:00:00 AM', 'Company Work', 'Mac Workstation', 'Shared Hotspot', 12.0, 'Yes', 'No', 'Ummo', 'Rego', ''], ['2021-06-12 00:00:00', 'Sibahle', '', '8:00:00 PM', 'Company Work, Meeting', 'Mac Workstation', 'Shared Hotspot', 2.0, 'Yes', 'Yes', 'Ummo', 'Mnyakeni', ''], ['2021-06-14 00:00:00', 'Nombuso', '78229280', '9:00:00 AM', 'Coding', 'Brought my own workstation', 'Shared Hotspot', 8.0, 'Yes', 'Yes', 'SV Tech', 'Hlophe', ''], ['2021-06-14 00:00:00', 'José', '', '8:00:00 AM', 'Company Work', 'Mac Workstation', 'Shared Hotspot', 12.0, 'Yes', 'No', 'Ummo', 'Rego', ''], ['2021-06-14 00:00:00', 'Sibahle', '', '8:00:00 PM', 'Company Work, Meeting', 'Mac Workstation', 'Shared Hotspot', 2.0, 'Yes', 'Yes', 'Ummo', 'Mnyakeni', ''], ['2021-06-14 00:00:00', 'Gcinimiyalo', '76342236', '7:00:00 AM', 'Content & Creativity', 'Mac Workstation', 'Shared Hotspot', 7.0, 'Yes', 'No', 'Freelancer', 'Ntuli', ''], ['2021-06-15 00:00:00', 'José', '', '8:00:00 AM', 'Company Work', 'Mac Workstation', 'Shared Hotspot', 12.0, 'Yes', 'No', 'Ummo', 'Rego', ''], ['2021-06-15 00:00:00', 'Sibahle', '', '8:00:00 PM', 'Company Work, Meeting', 'Mac Workstation', 'Shared Hotspot', 2.0, 'Yes', 'Yes', 'Ummo', 'Mnyakeni', ''], ['2021-06-16 00:00:00', 'Gcinimiyalo', '76342236', '7:55:00 AM', 'Content & Creativity', 'Mac Workstation', 'Shared Hotspot', 9.083333333333334, 'Yes', 'No', 'Freelancer', 'Ntuli', ''], ['2021-06-16 00:00:00', 'Sibahle', '', '8:00:00 PM', 'Company Work, Meeting', 'Mac Workstation', 'Shared Hotspot', 2.0, 'Yes', 'Yes', 'Ummo', 'Mnyakeni', ''], ['2021-06-16 00:00:00', 'Lungelo', '76313249', '8:00:00 AM', 'Coding', 'Keyboard', 'Brought my own internet', 9.0, 'Yes', 'Yes', 'Freelancer', 'Mamba', ''], ['2021-06-18 00:00:00', 'Gcinimiyalo', '76342236', '7:09:00 AM', 'Content & Creativity', 'Mac Workstation', 'Shared Hotspot', 9.85, 'Yes', 'No', 'Freelancer', 'Ntuli', ''], ['2021-06-19 00:00:00', 'Sibahle', '', '8:00:00 PM', 'Company Work, Meeting', 'Mac Workstation', 'Shared Hotspot', 2.0, 'Yes', 'Yes', 'Ummo', 'Mnyakeni', ''], ['2021-06-18 00:00:00', 'Nombuso', '78229280', '8:30:00 AM', 'Coding', 'Brought my own workstation', 'Shared Hotspot', 7.5, 'Yes', 'Yes', 'SV Tech', 'Hlophe', ''], ['2021-06-19 00:00:00', 'José', '', '8:00:00 AM', 'Company Work', 'Mac Workstation', 'Shared Hotspot', 12.0, 'Yes', 'No', 'Ummo', 'Rego', ''], ['2021-06-19 00:00:00', 'Gcinimiyalo', '76342236', '5:00:00 AM', 'Content & Creativity', 'Mac Workstation', 'Shared Hotspot', 6.5, 'Yes', 'No', 'Freelancer', 'Ntuli', ''], ['2021-06-20 00:00:00', 'José', '', '8:00:00 AM', 'Company Work', 'Mac Workstation', 'Shared Hotspot', 12.0, 'Yes', 'No', 'Ummo', 'Rego', ''], ['2021-06-20 00:00:00', 'Gcinimiyalo', '76342236', '4:30:00 PM', 'Content & Creativity', 'Mac Workstation', 'Shared Hotspot', 1.5, 'Yes', 'No', 'Freelancer', 'Ntuli', ''], ['2021-06-21 00:00:00', 'Gcinimiyalo', '76342236', '5:43:00 AM', 'Content & Creativity', 'Mac Workstation', 'Shared Hotspot', 11.283333333333333, 'Yes', 'No', 'Freelancer', 'Ntuli', ''], ['2021-06-21 00:00:00', 'José', '', '8:00:00 AM', 'Company Work', 'Mac Workstation', 'Shared Hotspot', 12.0, 'Yes', 'No', 'Ummo', 'Rego', ''], ['2021-06-21 00:00:00', 'Nombuso', '78229280', '8:45:00 AM', 'Coding', 'Brought my own workstation', 'Shared Hotspot', 8.25, 'Yes', 'Yes', 'SV Tech', 'Hlophe', ''], ['2021-06-21 00:00:00', 'Kwanele', '78158606', '4:25:00 PM', 'Company Work', 'Brought my own workstation', 'Brought my own internet', 1.5833333333333333, 'Yes', 'Yes', 'Vundzisa', 'Tsabedze', ''], ['2021-06-22 00:00:00', 'Gcinimiyalo', '76342236', '6:42:00 AM', 'Content & Creativity', 'Mac Workstation', 'Shared Hotspot', 0.3, 'Yes', 'No', 'Freelancer', 'Ntuli', ''], ['2021-06-22 00:00:00', 'José', '', '8:00:00 AM', 'Company Work', 'Mac Workstation', 'Shared Hotspot', 12.0, 'Yes', 'No', 'Ummo', 'Rego', ''], ['2021-06-22 00:00:00', 'Nombuso', '78229280', '9:00:00 AM', 'Company Work', 'Brought my own workstation', 'Shared Hotspot', 8.0, 'Yes', 'Yes', 'SV Tech', 'Hlophe', ''], ['2021-06-23 00:00:00', 'Gcinimiyalo', '76342236', '6:58:00 AM', 'Content & Creativity', 'Mac Workstation', 'Shared Hotspot', 10.033333333333333, 'Yes', 'No', 'Freelancer', 'Ntuli', ''], ['2021-06-23 00:00:00', 'Kwanele', '78158606', '9:00:00 AM', 'Company Work', 'Brought my own workstation', 'Shared Hotspot', 7.0, 'Yes', 'Yes', 'Vundzisa', 'Tsabedze', ''], ['2021-06-23 00:00:00', 'Fanelesibonge', '78221507', '10:00:00 AM', 'Company Work', 'Brought my own workstation', 'Shared Hotspot', 10.0, 'Yes', 'No', 'Freelancer', 'Malaza', ''], ['2021-06-23 00:00:00', 'José', '', '8:00:00 AM', 'Company Work', 'Mac Workstation', 'Shared Hotspot', 12.0, 'Yes', 'No', 'Ummo', 'Rego', ''], ['2021-06-23 00:00:00', 'Zack', '79323073', '1:00:00 PM', 'Academic Work', 'Mac Workstation', 'Shared Hotspot', 9.0, 'Yes', 'Yes', 'Freelancer', 'Towindo', ''], ['2021-06-23 00:00:00', 'Mlungisi', '76068779', '1:20:00 PM', 'Research', 'PC Workstation', 'Shared Hotspot', 4.666666666666667, 'No', 'Yes', 'Freelancer', 'Shongwe', ''], ['2021-06-24 00:00:00', 'Gcinimiyalo', '76342236', '8:55:00 AM', 'Content & Creativity', 'Mac Workstation', 'Shared Hotspot', 8.083333333333334, 'Yes', 'No', 'Freelancer', 'Ntuli', ''], ['2021-06-24 00:00:00', 'Zack', '79323073', '12:00:00 PM', 'Company Work', 'Mac Workstation', 'Shared Hotspot', 8.0, 'Yes', 'Yes', 'Freelancer', 'Towindo', ''], ['2021-06-24 00:00:00', 'José', '', '8:00:00 AM', 'Company Work', 'Mac Workstation', 'Shared Hotspot', 12.0, 'Yes', 'No', 'Ummo', 'Rego', ''], ['2021-06-24 00:00:00', 'Kwanele', '78158606', '2:30:00 PM', 'Company Work', 'Brought my own workstation', 'Shared Hotspot', 1.5, 'Yes', 'Yes', 'Vundzisa', 'Tsabedze', ''], ['2021-06-24 00:00:00', 'Fanelesibonge', '78221507', '8:00:00 AM', 'Company Work', 'Brought my own workstation', 'Shared Hotspot', 14.0, 'Yes', 'No', 'Freelancer', 'Malaza', ''], ['2021-06-24 00:00:00', 'Siphumelele', '76683760', '3:40:00 PM', 'Content & Creativity', 'Brought my own workstation', 'Shared Hotspot', 0.8333333333333334, 'Yes', 'Yes', 'Freelancer', 'Malambe', ''], ['2021-06-24 00:00:00', 'Mlungisi', '76068779', '2:00:00 PM', 'Research', 'PC Workstation', 'Shared Hotspot', 4.0, 'No', 'Yes', 'Freelancer', 'Shongwe', ''], ['2021-06-25 00:00:00', 'Gcinimiyalo', '76342236', '7:00:00 AM', 'Content & Creativity', 'Mac Workstation', 'Shared Hotspot', 10.0, 'Yes', 'No', 'Freelancer', 'Ntuli', ''], ['2021-06-25 00:00:00', 'José', '', '8:00:00 AM', 'Company Work', 'Mac Workstation', 'Shared Hotspot', 12.0, 'Yes', 'No', 'Ummo', 'Rego', ''], ['2021-06-25 00:00:00', 'Fanelesibonge', '78221507', '10:00:00 AM', 'Company Work', 'Brought my own workstation', 'Shared Hotspot', 13.0, 'Yes', 'No', 'Freelancer', 'Malaza', ''], ['2021-06-25 00:00:00', 'Lungelo', '76313249', '8:00:00 AM', 'Research', 'Keyboard', 'Brought my own internet', 9.0, 'Yes', 'Yes', 'Freelancer', 'Mamba', ''], ['2021-06-26 00:00:00', 'José', '', '8:00:00 AM', 'Company Work', 'Mac Workstation', 'Shared Hotspot', 12.0, 'Yes', 'No', 'Ummo', 'Rego', ''], ['2021-06-26 00:00:00', 'Kwanele', '78158606', '2:30:00 PM', 'Meeting', 'Brought my own workstation', 'Shared Hotspot', 3.0, 'Yes', 'Yes', 'Vundzisa', 'Tsabedze', ''], ['2021-06-27 00:00:00', 'José', '', '8:00:00 AM', 'Company Work', 'Mac Workstation', 'Shared Hotspot', 12.0, 'Yes', 'No', 'Ummo', 'Rego', ''], ['2021-06-27 00:00:00', 'Gcinimiyalo', '76342236', '7:34:00 AM', 'Content & Creativity', 'Mac Workstation', 'Shared Hotspot', 9.433333333333334, 'Yes', 'No', 'Freelancer', 'Ntuli', ''], ['2021-07-06 00:00:00', 'José', '', '8:00:00 AM', 'Company Work', 'Mac Workstation', 'Shared Hotspot', 12.0, 'Yes', 'No', 'Ummo', 'Rego', ''], ['2021-07-06 00:00:00', 'Kwanele', '78158606', '3:51:00 PM', 'Company Work', 'Brought my own workstation', 'Shared Hotspot', 1.65, 'Yes', 'Yes', 'Vundzisa', 'Tsabedze', ''], ['2021-07-19 00:00:00', 'José', '', '8:00:00 AM', 'Company Work', 'Mac Workstation', 'Shared Hotspot', 12.0, 'Yes', 'No', 'Ummo', 'Rego', ''], ['2021-07-19 00:00:00', 'Sikhulile', '79384734', '10:30:00 AM', 'Content & Creativity', 'PC Workstation', 'Shared Hotspot', 7.0, 'Yes', 'No', 'Kingdom XLR', 'Zwane', ''], ['2021-07-19 00:00:00', 'Mzwandile', '', '3:30:00 PM', 'Company Work', 'Mac Workstation, Audio Box', 'Shared Hotspot', 3.5, 'Yes', 'No', 'Kingdom XLR', 'Nxumalo', ''], ['2021-07-19 00:00:00', 'Muzi', '+26878272372', '10:30:00 AM', 'Content & Creativity', 'Brought my own workstation', 'Shared Hotspot', 2.5, 'Yes', 'Yes', 'Rare Jam', 'Mathunjwa', ''], ['2021-07-19 00:00:00', 'Sabelo', '76871675', '10:30:00 AM', 'Company Work', 'Brought my own workstation', 'Shared Hotspot', 7.0, 'Yes', 'Yes', 'SV Tech', 'Vilakati', ''], ['2021-07-19 00:00:00', 'Zack', '79323073', '11:00:00 AM', 'Research', 'Mac Workstation', 'Shared Hotspot', 12.0, 'Yes', 'Yes', 'Freelancer', 'Towindo', ''], ['2021-07-19 00:00:00', 'Fanelesibonge', '78221507', '8:00:00 AM', 'Company Work', 'Brought my own workstation', 'Shared Hotspot', 11.0, 'Yes', 'No', 'Freelancer', 'Malaza', ''], ['2021-07-20 00:00:00', 'José', '', '8:00:00 AM', 'Company Work', 'Mac Workstation', 'Shared Hotspot', 12.0, 'Yes', 'No', 'Ummo', 'Rego', ''], ['2021-07-20 00:00:00', 'Sikhulile', '79384734', '10:00:00 AM', 'Company Work', 'PC Workstation', 'Shared Hotspot', 7.5, 'Yes', 'No', 'Kingdom XLR', 'Zwane', ''], ['2021-07-20 00:00:00', 'Sabelo', '76871675', '10:30:00 AM', 'Company Work', 'Brought my own workstation', 'Shared Hotspot', 6.5, 'Yes', 'Yes', 'SV Tech', 'Vilakati', ''], ['2021-07-20 00:00:00', 'Mlungisi', '76068779', '2:00:00 PM', 'Research', 'PC Workstation', 'Shared Hotspot', 4.0, 'No', 'Yes', 'Freelancer', 'Shongwe', ''], ['2021-07-21 00:00:00', 'Lungelo', '76313249', '8:00:00 AM', 'Research', 'Keyboard', 'Brought my own internet', 9.0, 'Yes', 'Yes', 'Freelancer', 'Mamba', ''], ['2021-07-21 00:00:00', 'Fanelesibonge', '78221507', '8:00:00 AM', 'Company Work', 'Brought my own workstation', 'Shared Hotspot', 10.0, 'Yes', 'No', 'Freelancer', 'Malaza', ''], ['2021-07-21 00:00:00', 'José', '', '8:00:00 AM', 'Company Work', 'Mac Workstation', 'Shared Hotspot', 12.0, 'Yes', 'No', 'Ummo', 'Rego', ''], ['2021-07-21 00:00:00', 'Sabelo', '76871675', '10:00:00 AM', 'Company Work', 'Brought my own workstation', 'Shared Hotspot', 7.0, 'Yes', 'Yes', 'SV Tech', 'Vilakati', ''], ['2021-07-21 00:00:00', 'Kwanele', '78158606', '11:00:00 AM', 'Company Work', 'Brought my own workstation', 'Shared Hotspot', 5.0, 'Yes', 'Yes', 'Vundzisa', 'Tsabedze', ''], ['2021-07-21 00:00:00', 'Mlungisi', '76068779', '2:00:00 PM', 'Research', 'PC Workstation', 'Shared Hotspot', 4.0, 'No', 'Yes', 'Freelancer', 'Shongwe', ''], ['2021-07-22 00:00:00', 'Thobeka', '78308314', '1:00:00 PM', 'Research', 'Brought my own workstation', 'Shared Hotspot', 5.0, 'Yes', 'No', 'Freelancer', 'Nxumalo', ''], ['2021-07-22 00:00:00', 'José', '', '8:00:00 AM', 'Company Work', 'Mac Workstation', 'Shared Hotspot', 12.0, 'Yes', 'No', 'Ummo', 'Rego', ''], ['2021-07-22 00:00:00', 'Fanelesibonge', '78221507', '12:00:00 PM', 'Company Work', 'Brought my own workstation', 'Shared Hotspot', 6.0, 'Yes', 'No', 'Freelancer', 'Malaza', ''], ['2021-07-22 00:00:00', 'Mlungisi', '76068779', '1:30:00 PM', 'Research', 'PC Workstation', 'Shared Hotspot', 4.5, 'No', 'Yes', 'Freelancer', 'Shongwe', ''], ['2021-07-23 00:00:00', 'Fanelesibonge', '78221507', '8:00:00 AM', 'Company Work', 'Brought my own workstation', 'Shared Hotspot', 10.0, 'Yes', 'No', 'Freelancer', 'Malaza', ''], ['2021-07-23 00:00:00', 'Thobeka', '78308314', '12:00:00 AM', 'Research', 'Brought my own workstation', 'Shared Hotspot', 18.0, 'Yes', 'No', 'Freelancer', 'Nxumalo', ''], ['2021-07-23 00:00:00', 'Sikhulile', '79384734', '11:00:00 AM', 'Company Work', 'PC Workstation', 'Shared Hotspot', 6.0, 'Yes', 'No', 'Kingdom XLR', 'Zwane', ''], ['2021-07-23 00:00:00', 'José', '', '8:00:00 AM', 'Company Work', 'Mac Workstation', 'Shared Hotspot', 12.0, 'Yes', 'No', 'Ummo', 'Rego', ''], ['2021-07-23 00:00:00', 'Lungelo', '76313249', '8:00:00 AM', 'Research', 'Keyboard', 'Brought my own internet', 9.0, 'Yes', 'Yes', 'Freelancer', 'Mamba', ''], ['2021-07-23 00:00:00', 'Muzi', '78172372', '12:30:00 PM', 'Content & Creativity', 'Brought my own workstation', 'Shared Hotspot', 3.5, 'Yes', 'Yes', 'Rare Jam', 'Mathunjwa', ''], ['2021-07-23 00:00:00', 'Alex', '76493595', '11:00:00 AM', 'Content & Creativity', 'PC Workstation', 'Shared Hotspot', 6.0, 'Yes', 'No', 'Kingdom XLR', 'Muti', ''], ['2021-07-23 00:00:00', 'Mzwandile', '', '3:30:00 PM', 'Company Work', 'Mac Workstation, Audio Box', 'Shared Hotspot', 3.5, 'Yes', 'No', 'Kingdom XLR', 'Nxumalo', ''], ['2021-07-23 00:00:00', 'Sabelo', '76871675', '1:00:00 PM', 'Company Work', 'Brought my own workstation', 'Shared Hotspot', 4.0, 'Yes', 'Yes', 'SV Tech', 'Vilakati', ''], ['2021-07-23 00:00:00', 'Kwanele', '78158606', '10:30:00 AM', 'Company Work', 'Brought my own workstation', 'Brought my own internet', 5.5, 'Yes', 'Yes', 'Vundzisa', 'Tsabedze', ''], ['2021-07-23 00:00:00', 'Mlungisi', '76068779', '1:30:00 PM', 'Company Work', 'PC Workstation', 'Shared Hotspot', 4.0, 'No', 'Yes', 'Freelancer', 'Shongwe', ''], ['2021-07-24 00:00:00', 'José', '', '8:00:00 AM', 'Company Work', 'Mac Workstation', 'Shared Hotspot', 12.0, 'Yes', 'No', 'Ummo', 'Rego', ''], ['2021-07-24 00:00:00', 'Lungelo', '76313249', '12:00:00 AM', 'Research', 'Keyboard', 'Brought my own internet', 16.0, 'Yes', 'Yes', 'Freelancer', 'Mamba', ''], ['2021-07-24 00:00:00', 'Mlungisi', '76068779', '3:30:00 PM', 'Research', 'PC Workstation', 'Shared Hotspot', 1.75, 'No', 'Yes', 'Freelancer', 'Shongwe', ''], ['2021-07-26 00:00:00', 'Fanelesibonge', '78221507', '8:00:00 AM', 'Company Work', 'Brought my own workstation', 'Shared Hotspot', 10.0, 'Yes', 'No', 'Freelancer', 'Malaza', ''], ['2021-07-26 00:00:00', 'José', '', '8:00:00 AM', 'Company Work', 'Mac Workstation', 'Shared Hotspot', 12.0, 'Yes', 'No', 'Ummo', 'Rego', ''], ['2021-07-26 00:00:00', 'Lungelo', '76313249', '8:00:00 AM', 'Company Work', 'Keyboard', 'Brought my own internet', 9.0, 'Yes', 'Yes', 'Freelancer', 'Mamba', ''], ['2021-07-26 00:00:00', 'Mzwandile', '27634061158', '1:23:00 PM', 'Research', 'Mac Workstation', 'Shared Hotspot', 6.516666666666667, 'Yes', 'No', 'Kingdom XLR', 'Nxumalo', ''], ['2021-07-26 00:00:00', 'Muzi', '78172372', '3:30:00 PM', 'Meeting', 'Brought my own workstation', 'Shared Hotspot', 2.0, 'Yes', 'Yes', 'Rare Jam', 'Mathunjwa', ''], ['2021-07-26 00:00:00', 'Thobeka', '78308314', '7:00:00 AM', 'Company Work', 'Brought my own workstation', 'Shared Hotspot', 11.0, 'Yes', 'No', 'Freelancer', 'Nxumalo', ''], ['2021-07-27 00:00:00', 'Lungelo', '76313249', '8:00:00 AM', 'Research', 'Keyboard', 'Brought my own internet', 10.0, 'Yes', 'Yes', 'Freelancer', 'Mamba', ''], ['2021-07-27 00:00:00', 'José', '', '8:00:00 AM', 'Company Work', 'Mac Workstation', 'Shared Hotspot', 12.0, 'Yes', 'No', 'Ummo', 'Rego', ''], ['2021-07-27 00:00:00', 'Sabelo', '76871675', '10:00:00 AM', 'Company Work', 'Monitor', 'Shared Hotspot', 7.0, 'Yes', 'Yes', 'SV Tech', 'Vilakati', ''], ['2021-07-27 00:00:00', 'Mzwandile', '27634061158', '3:21:00 PM', 'Company Work', 'Mac Workstation', 'Shared Hotspot', 4.683333333333334, 'Yes', 'No', 'Kingdom XLR', 'Nxumalo', ''], ['2021-07-27 00:00:00', 'Sibahle', '78630006', '8:00:00 AM', 'Company Work', 'Mac Workstation', 'Shared Hotspot', 9.0, 'Yes', 'Yes', 'Ummo', 'Mnyakeni', ''], ['2021-07-27 00:00:00', 'Zack', '79323073', '11:00:00 AM', 'Academic Work', 'Monitor', 'Shared Hotspot', 1.0, 'Yes', 'Yes', 'Freelancer', 'Towindo', ''], ['2021-07-27 00:00:00', 'Gcinimiyalo', '76342236', '10:30:00 AM', 'Content & Creativity', 'Mac Workstation', 'Shared Hotspot', 4.0, 'Yes', 'No', 'Freelancer', 'Ntuli', ''], ['2021-07-27 00:00:00', 'Kwanele', '78158606', '12:30:00 AM', 'Research', 'Brought my own workstation', 'Shared Hotspot', 15.75, 'Yes', 'Yes', 'Vundzisa', 'Tsabedze', ''], ['2021-07-27 00:00:00', 'Fanelesibonge', '78221507', '9:00:00 AM', 'Company Work', 'Brought my own workstation', 'Shared Hotspot', 10.0, 'Yes', 'No', 'Freelancer', 'Malaza', ''], ['2021-07-28 00:00:00', 'Thobeka', '78308314', '5:00:00 AM', 'Research', 'Monitor', 'Shared Hotspot', 13.0, 'Yes', 'No', 'Freelancer', 'Nxumalo', ''], ['2021-07-28 00:00:00', 'José', '', '8:00:00 AM', 'Company Work', 'Mac Workstation', 'Shared Hotspot', 12.0, 'Yes', 'No', 'Ummo', 'Rego', ''], ['2021-07-28 00:00:00', 'Fanelesibonge', '78221507', '5:00:00 AM', 'Company Work', 'Brought my own workstation', 'Shared Hotspot', 14.0, 'Yes', 'No', 'Freelancer', 'Malaza', ''], ['2021-07-28 00:00:00', 'Gcinimiyalo', '76342236', '10:30:00 AM', 'Content & Creativity', 'Mac Workstation', 'Shared Hotspot', 4.0, 'Yes', 'No', 'Freelancer', 'Ntuli', ''], ['2021-07-28 00:00:00', 'Zack', '79323073', '12:00:00 AM', 'Research', 'Mac Workstation', 'Shared Hotspot', 17.0, 'Yes', 'Yes', 'Freelancer', 'Towindo', ''], ['2021-07-28 00:00:00', 'Mlungisi', '76068779', '1:35:00 PM', 'Research', 'PC Workstation', 'Shared Hotspot', 4.416666666666667, 'No', 'Yes', 'Freelancer', 'Shongwe', ''], ['2021-07-29 00:00:00', 'Fanelesibonge', '78221507', '5:30:00 AM', 'Company Work', 'Brought my own workstation', 'Shared Hotspot', 14.5, 'Yes', 'No', 'Freelancer', 'Malaza', ''], ['2021-07-29 00:00:00', 'Zack', '7932303', '8:00:00 AM', 'Company Work', 'Mac Workstation', 'Shared Hotspot', 14.0, 'Yes', 'Yes', 'Freelancer', 'Towindo', ''], ['2021-07-29 00:00:00', 'Kwanele', '78158606', '3:40:00 PM', 'Company Work', 'Brought my own workstation', 'Brought my own internet', 2.3333333333333335, 'Yes', 'Yes', 'Vundzisa', 'Tsabedze', ''], ['2021-07-29 00:00:00', 'José', '', '8:00:00 AM', 'Company Work', 'Mac Workstation', 'Shared Hotspot', 12.0, 'Yes', 'No', 'Ummo', 'Rego', ''], ['2021-07-29 00:00:00', 'Muzi', '78172372', '3:45:00 PM', 'Company Work', 'Brought my own workstation', 'Shared Hotspot', 2.75, 'Yes', 'Yes', 'Rare Jam', 'Mathunjwa', ''], ['2021-07-29 00:00:00', 'Mzwandile', '27634061158', '1:23:00 PM', 'Company Work', 'Mac Workstation', 'Brought my own internet', 6.65, 'Yes', 'No', 'Kingdom XLR', 'Nxumalo', ''], ['2021-07-29 00:00:00', 'Gcinimiyalo', '76342236', '4:30:00 PM', 'Content & Creativity', 'Mac Workstation', 'Shared Hotspot', 2.0, 'Yes', 'No', 'Freelancer', 'Ntuli', ''], ['2021-07-30 00:00:00', 'Lungelo', '76313249', '8:00:00 AM', 'Coding', 'Keyboard', 'Brought my own internet', 10.0, 'Yes', 'Yes', 'Freelancer', 'Mamba', ''], ['2021-07-30 00:00:00', 'José', '', '8:00:00 AM', 'Company Work', 'Mac Workstation', 'Shared Hotspot', 12.0, 'Yes', 'No', 'Ummo', 'Rego', ''], ['2021-07-30 00:00:00', 'Thandwa', '76535415', '11:17:00 AM', 'Research', 'PC Workstation', 'Shared Hotspot', 5.716666666666667, 'No', 'Yes', 'Freelancer', 'Mamba', ''], ['2021-07-30 00:00:00', 'Mlungisi', '76068779', '10:30:00 AM', 'Research', 'PC Workstation', 'Shared Hotspot', 7.333333333333333, 'No', 'Yes', 'Freelancer', 'Shongwe', ''], ['2021-07-31 00:00:00', 'Mzwandile', '', '3:30:00 PM', 'Company Work', 'Mac Workstation, Audio Box', 'Shared Hotspot', 3.5, 'Yes', 'No', 'Kingdom XLR', 'Nxumalo', ''], ['2021-07-31 00:00:00', 'Gcinimiyalo', '76342236', '8:15:00 AM', 'Research', 'Mac Workstation', 'Shared Hotspot', 0.25, 'Yes', 'No', 'Freelancer', 'Ntuli', ''], ['2021-07-31 00:00:00', 'José', '', '8:00:00 AM', 'Company Work', 'Mac Workstation', 'Shared Hotspot', 12.0, 'Yes', 'No', 'Ummo', 'Rego', ''], ['2021-07-31 00:00:00', 'Fanelesibonge', '78221507', '8:00:00 AM', 'Research', 'Brought my own workstation', 'Shared Hotspot', 10.5, 'Yes', 'No', 'Freelancer', 'Malaza', ''], ['2021-07-31 00:00:00', 'Mlungisi', '76068779', '1:30:00 PM', 'Research', 'PC Workstation', 'Shared Hotspot', 4.833333333333333, 'No', 'Yes', 'Freelancer', 'Shongwe', ''], ['2021-08-02 00:00:00', 'José', '', '8:00:00 AM', 'Company Work', 'Mac Workstation', 'Shared Hotspot', 12.0, 'Yes', 'No', 'Ummo', 'Rego', ''], ['2021-08-02 00:00:00', 'Gcinimiyalo', '76342236', '10:00:00 AM', 'Content & Creativity', 'Mac Workstation', 'Shared Hotspot', 3.0, 'Yes', 'No', 'Freelancer', 'Ntuli', ''], ['2021-08-02 00:00:00', 'Muzi', '78172372', '3:30:00 PM', 'Meeting', 'Brought my own workstation', 'Shared Hotspot', 1.5, 'Yes', 'Yes', 'Rare Jam', 'Mathunjwa', ''], ['2021-08-02 21:49:18', 'Zack', '79323073', '11:00:00 AM', 'Academic Work', 'PC Workstation', 'Shared Hotspot', 9.0, 'Yes', 'Yes', 'Freelancer', 'Towindo', ''], ['2021-08-03 12:00:39', 'Bafana', '(+268) 7604 0391', '8:30:00 AM', 'Content & Creativity', 'PC Workstation', 'Shared Hotspot', 8.5, 'Yes', 'No', 'Snowsen', 'Gama', ''], ['2021-08-03 00:00:00', 'José', '', '8:00:00 AM', 'Company Work', 'Mac Workstation', 'Shared Hotspot', 12.0, 'Yes', 'No', 'Ummo', 'Rego', ''], ['2021-08-03 15:22:48', 'Lungelo', '76313249', '8:00:00 AM', 'Company Work', 'Keyboard', 'Brought my own internet', 9.0, 'Yes', 'Yes', 'Freelancer', 'Mamba', ''], ['2021-08-03 16:42:16', 'Gcinimiyalo', '76342236', '11:00:00 AM', 'Content & Creativity', 'Mac Workstation', 'Shared Hotspot', 6.5, 'Yes', 'No', 'Freelancer', 'Ntuli', ''], ['2021-08-03 18:20:21', 'Mlungisi', '76068779', '1:30:00 PM', 'Research', 'PC Workstation', 'Shared Hotspot', 4.833333333333333, 'No', 'Yes', 'Freelancer', 'Shongwe', ''], ['2021-08-03 20:36:31', 'Fanelesibonge', '78221507', '8:00:00 AM', 'Coding', 'Brought my own workstation', 'Shared Hotspot', 12.0, 'Yes', 'No', 'Freelancer', 'Malaza', ''], ['2021-08-03 20:37:58', 'Thobeka', '78308314', '8:00:00 AM', 'Company Work', 'Brought my own workstation', 'Shared Hotspot', 12.0, 'Yes', 'No', 'Freelancer', 'Nxumalo', ''], ['2021-08-04 08:32:45', 'Thobeka', '78308314', '8:30:00 AM', 'Company Work', 'Brought my own workstation', 'Shared Hotspot', 11.5, 'Yes', 'No', 'Freelancer', 'Nxumalo', ''], ['2021-08-04 10:51:19', 'Gcinimiyalo', '76342236', '9:00:00 AM', 'Content & Creativity', 'Mac Workstation', 'Shared Hotspot', 8.0, 'Yes', 'No', 'Freelancer', 'Ntuli', ''], ['2021-08-04 00:00:00', 'José', '', '8:00:00 AM', 'Company Work', 'Mac Workstation', 'Shared Hotspot', 12.0, 'Yes', 'No', 'Ummo', 'Rego', ''], ['2021-08-04 11:35:15', 'Bafana', '(+268) 7604 0391', '10:00:00 AM', 'Content & Creativity', 'PC Workstation', 'Shared Hotspot', 8.0, 'Yes', 'No', 'Snowsen', 'Gama', ''], ['2021-08-04 11:35:15', 'Mzwandile', '', '3:30:00 PM', 'Company Work', 'Mac Workstation, Audio Box', 'Shared Hotspot', 3.5, 'Yes', 'No', 'Kingdom XLR', 'Nxumalo', ''], ['2021-08-04 11:58:05', 'Fanelesibonge', '78221507', '8:00:00 AM', 'Company Work', 'Brought my own workstation', 'Shared Hotspot', 12.0, 'Yes', 'No', 'Freelancer', 'Malaza', ''], ['2021-08-04 15:39:00', 'Muzi', '78172372', '3:37:00 PM', 'Content & Creativity', 'Brought my own workstation', 'Shared Hotspot', 1.3833333333333333, 'Yes', 'Yes', 'Rare Jam', 'Mathunjwa', ''], ['2021-08-04 18:19:20', 'Mlungisi', '76068779', '2:20:00 PM', 'Research', 'PC Workstation', 'Shared Hotspot', 4.0, 'No', 'Yes', 'Freelancer', 'Shongwe', ''], ['2021-08-05 11:02:02', 'Bafana', '(+268) 7604 0391', '11:00:00 AM', 'Content & Creativity', 'PC Workstation', 'Shared Hotspot', 8.0, 'Yes', 'No', 'Snowsen', 'Gama', ''], ['2021-08-05 13:35:05', 'Fanelesibonge', '78221507', '7:30:00 AM', 'Coding', 'Brought my own workstation', 'Shared Hotspot', 12.5, 'Yes', 'No', 'Freelancer', 'Malaza', ''], ['2021-08-05 00:00:00', 'José', '', '8:00:00 AM', 'Company Work', 'Mac Workstation', 'Shared Hotspot', 12.0, 'Yes', 'No', 'Ummo', 'Rego', ''], ['2021-08-05 15:17:01', 'Muzi', '78172372', '3:15:00 PM', 'Research', 'Brought my own workstation', 'Shared Hotspot', 1.75, 'Yes', 'Yes', 'Rare Jam', 'Mathunjwa', ''], ['2021-08-05 15:21:49', 'Jonathan', '79483429', '2:55:00 PM', 'Research', 'Brought my own workstation', 'Brought my own internet', 9.916666666666666, 'No', 'Yes', 'Kingdom XLR', 'Mulumba Obiege', ''], ['2021-08-05 18:15:56', 'Mlungisi', '76068779', '11:30:00 AM', 'Research', 'PC Workstation', 'Shared Hotspot', 6.833333333333333, 'No', 'Yes', 'Freelancer', 'Shongwe', ''], ['2021-08-06 09:39:21', 'Fanelesibonge', '78221507', '8:30:00 AM', 'Company Work', 'Brought my own workstation', 'Shared Hotspot', 13.5, 'Yes', 'No', 'Freelancer', 'Malaza', ''], ['2021-08-06 12:26:48', 'Gcinimiyalo', '76342236', '10:00:00 AM', 'Content & Creativity', 'Mac Workstation', 'Shared Hotspot', 7.0, 'Yes', 'No', 'Freelancer', 'Ntuli', ''], ['2021-08-06 12:56:08', 'Kwanele', '78158606', '11:30:00 AM', 'Company Work', 'Brought my own workstation', 'Shared Hotspot', 7.5, 'Yes', 'Yes', 'Vundzisa', 'Tsabedze', ''], ['2021-08-06 00:00:00', 'José', '', '8:00:00 AM', 'Company Work', 'Mac Workstation', 'Shared Hotspot', 12.0, 'Yes', 'No', 'Ummo', 'Rego', ''], ['2021-08-06 14:22:33', 'Sikhulile', '79384734', '11:00:00 AM', 'Company Work', 'Mac Workstation', 'Shared Hotspot', 6.0, 'Yes', 'No', 'Kingdom XLR', 'Zwane', ''], ['2021-08-06 16:23:51', 'Zack', '79323073', '2:00:00 PM', 'Meeting', 'Brought my own workstation', 'Brought my own internet', 4.0, 'Yes', 'Yes', 'Freelancer', 'Towindo', ''], ['2021-08-06 17:02:29', 'Mlungisi', '76068779', '10:30:00 AM', 'Research', 'PC Workstation', 'Shared Hotspot', 6.666666666666667, 'No', 'Yes', 'Freelancer', 'Shongwe', ''], ['2021-08-07 10:32:53', 'Bafana', '+268 7944 9033', '10:00:00 AM', 'Content & Creativity', 'PC Workstation', 'Shared Hotspot', 1.0, 'Yes', 'No', 'Snowsen', 'Gama', ''], ['2021-08-07 00:00:00', 'José', '', '8:00:00 AM', 'Company Work', 'Mac Workstation', 'Shared Hotspot', 12.0, 'Yes', 'No', 'Ummo', 'Rego', ''], ['2021-08-07 11:36:22', 'Lungelo', '76313249', '11:00:00 AM', 'Company Work', 'Brought my own workstation', 'Brought my own internet', 5.0, 'Yes', 'Yes', 'Freelancer', 'Mamba', ''], ['2021-08-07 12:04:20', 'Fezile', '+268 76152908', '12:02:00 PM', 'Research', 'Brought my own workstation', 'Shared Hotspot', 2.966666666666667, 'No', 'Yes', 'Freelancer', 'Mhlabane', ''], ['2021-08-07 14:14:07', 'Bafana', '+268 7944 9033', '2:00:00 PM', 'Company Work', 'PC Workstation', 'Shared Hotspot', 3.0, 'Yes', 'No', 'Snowsen', 'Gama', ''], ['2021-08-07 16:18:59', 'Mlungisi', '76068779', '11:30:00 PM', 'Research', 'PC Workstation', 'Shared Hotspot', 7.0, 'No', 'Yes', 'Freelancer', 'Shongwe', ''], ['2021-08-08 10:41:33', 'Bafana', '(+268) 7944 9033', '10:30:00 AM', 'Company Work', 'PC Workstation', 'Shared Hotspot', 2.5, 'Yes', 'No', 'Snowsen', 'Gama', ''], ['2021-08-08 10:48:01', 'Simanga', '78501932', '10:44:00 AM', 'Content & Creativity', 'Mac Workstation', 'Shared Hotspot', 3.2666666666666666, 'Yes', 'No', 'Freelancer', 'Ntsini', ''], ['2021-08-08 00:00:00', 'José', '', '8:00:00 AM', 'Company Work', 'Mac Workstation', 'Shared Hotspot', 12.0, 'Yes', 'No', 'Ummo', 'Rego', ''], ['2021-08-08 14:15:21', 'Kwanele', '78158606', '11:30:00 AM', 'Company Work', 'Brought my own workstation', 'Shared Hotspot', 5.5, 'Yes', 'Yes', 'Vundzisa', 'Tsabedze', ''], ['2021-08-08 14:23:03', 'Gcinimiyalo', '76342236', '2:00:00 PM', 'Content & Creativity', 'Mac Workstation', 'Shared Hotspot', 3.0, 'Yes', 'No', 'Freelancer', 'Ntuli', ''], ['2021-08-09 08:48:58', 'Fanelesibonge', '78221507', '8:30:00 AM', 'Company Work', 'PC Workstation', 'Shared Hotspot', 13.5, 'Yes', 'No', 'Freelancer', 'Malaza', ''], ['2021-08-09 09:15:07', 'Lungelo', '76313249', '8:00:00 AM', 'Research', 'Keyboard', 'Brought my own internet', 9.0, 'Yes', 'Yes', 'Freelancer', 'Mamba', ''], ['2021-08-09 10:10:31', 'Zack', '79323073', '10:00:00 AM', 'Academic Work', 'Mac Workstation', 'Shared Hotspot', 5.0, 'Yes', 'Yes', 'Freelancer', 'Towindo', ''], ['2021-08-09 10:10:42', 'Gcinimiyalo', '76342236', '10:00:00 AM', 'Content & Creativity', 'Mac Workstation', 'Shared Hotspot', 7.0, 'Yes', 'No', 'Freelancer', 'Ntuli', ''], ['2021-08-09 10:21:09', 'Bafana', '(+268) 7944 9033', '10:00:00 AM', 'Company Work', 'PC Workstation', 'Shared Hotspot', 7.0, 'Yes', 'No', 'Snowsen', 'Gama', ''], ['2021-08-09 11:58:54', 'José', '', '8:00:00 AM', 'Company Work', 'Mac Workstation', 'Shared Hotspot', 12.0, 'Yes', 'No', 'Ummo', 'Rego', ''], ['2021-08-09 14:33:53', 'Mlungisi', '', '11:15:00 PM', 'Research', 'Brought my own workstation', 'Shared Hotspot', 5.25, 'No', 'Yes', 'Freelancer', 'Shongwe', ''], ['2021-08-09 15:51:08', 'Thobeka', '', '8:00:00 AM', 'Research', 'Brought my own workstation', 'Shared Hotspot', 12.0, 'Yes', 'No', 'Freelancer', 'Nxumalo', ''], ['2021-08-09 16:24:33', 'Muzi', '', '3:50:00 PM', 'Research', 'Brought my own workstation', 'Shared Hotspot', 1.1666666666666667, 'Yes', 'Yes', 'Rare Jam', 'Mathunjwa', ''], ['2021-08-10 08:08:19', 'Gcinimiyalo', '', '7:45:00 AM', 'Content & Creativity', 'Mac Workstation', 'Shared Hotspot', 9.25, 'Yes', 'No', 'Freelancer', 'Ntuli', ''], ['2021-08-10 09:19:15', 'Lungelo', '', '8:30:00 AM', 'Academic Work', 'Keyboard', 'Brought my own internet', 8.5, 'Yes', 'Yes', 'Freelancer', 'Mamba', ''], ['2021-08-10 09:46:40', 'José', '', '8:00:00 AM', 'Company Work, Research, Coding', 'Mac Workstation', 'Shared Hotspot', 12.0, 'Yes', 'No', 'Ummo', 'Rego', ''], ['2021-08-10 10:00:39', 'Bafana', '', '9:30:00 AM', 'Company Work, Content & Creativity', 'PC Workstation, Keyboard, Mouse, Monitor', 'Shared Hotspot', 6.5, 'Yes', 'No', 'Snowsen', 'Gama', ''], ['2021-08-10 10:02:07', 'Tiyandza', '', '9:30:00 AM', 'Company Work, Research', 'PC Workstation, Keyboard, Mouse, Monitor', \"Don't need internet\", 4.5, 'Yes', 'No', 'Snowsen', 'Cindzi', ''], ['2021-08-10 10:05:02', 'Kwanele', '', '9:00:00 AM', 'Company Work', 'Brought my own workstation', 'Shared Hotspot', 7.0, 'Yes', 'Yes', 'Vundzisa', 'Tsabedze', ''], ['2021-08-10 10:05:56', 'Fanelesibonge', '', '7:00:00 AM', 'Coding', 'Brought my own workstation', 'Shared Hotspot', 13.0, 'Yes', 'No', 'Freelancer', 'Malaza', ''], ['2021-08-10 10:14:31', 'Thobeka', '', '7:00:00 AM', 'Company Work, Content & Creativity', 'Mouse, Brought my own workstation', 'Shared Hotspot', 13.0, 'Yes', 'No', 'Freelancer', 'Nxumalo', ''], ['2021-08-10 12:15:25', 'Bagcinele', '', '11:00:00 AM', 'Research', 'Mac Workstation', 'Shared Hotspot', 5.0, 'Yes', 'No', 'Kingdom XLR', 'Fakudze', ''], ['2021-08-10 12:16:09', 'Bagcinele', '', '11:00:00 AM', 'Research', 'Mac Workstation', 'Shared Hotspot', 5.0, 'Yes', 'No', 'Kingdom XLR', 'Fakudze', ''], ['2021-08-10 12:19:02', 'Sibahle', '', '8:00:00 PM', 'Company Work, Meeting', 'Mac Workstation', 'Shared Hotspot', 2.0, 'Yes', 'Yes', 'Ummo', 'Mnyakeni', ''], ['2021-08-10 16:43:03', 'Mlungisi', '', '11:30:00 AM', 'Research', 'Brought my own workstation', 'Shared Hotspot', 5.2, 'No', 'Yes', 'Freelancer', 'Shongwe', ''], ['2021-08-11 08:55:09', 'Lungelo', '', '8:00:00 AM', 'Research, Coding', 'Keyboard, Brought my own workstation', 'Shared Hotspot', 9.0, 'Yes', 'Yes', 'Freelancer', 'Mamba', ''], ['2021-08-11 09:31:11', 'José', '', '8:00:00 AM', 'Company Work', 'Mac Workstation', 'Shared Hotspot', 12.0, 'Yes', 'No', 'Ummo', 'Rego', ''], ['2021-08-11 10:04:55', 'Gcinimiyalo', '', '9:30:00 AM', 'Content & Creativity', 'Mac Workstation', 'Shared Hotspot', 7.5, 'Yes', 'No', 'Freelancer', 'Ntuli', ''], ['2021-08-11 11:04:00', 'Bafana', '', '11:00:00 AM', 'Content & Creativity, Coding', 'PC Workstation, Keyboard, Mouse, Monitor', 'Shared Hotspot', 6.0, 'Yes', 'No', 'Snowsen', 'Gama', ''], ['2021-08-11 11:53:58', 'Lindinkosi', '', '11:20:00 AM', 'Meeting', 'Brought my own workstation', 'Shared Hotspot', 1.3333333333333333, 'No', 'Yes', 'Freelancer', 'Mdluli', ''], ['2021-08-11 12:12:49', 'Fanelesibonge', '', '8:30:00 AM', 'Coding', 'Brought my own workstation', 'Shared Hotspot', 12.5, 'Yes', 'No', 'Freelancer', 'Malaza', ''], ['2021-08-11 14:35:15', 'Maphila', '', '12:15:00 PM', 'Meeting', 'Mac Workstation', 'Shared Hotspot', 2.4166666666666665, 'Yes', 'No', 'Guwava', 'Kunene', ''], ['2021-08-11 16:59:43', 'Mlungisi', '', '12:15:00 PM', 'Research', 'Brought my own workstation', 'Shared Hotspot', 4.75, 'No', 'Yes', 'Freelancer', 'Shongwe', ''], ['2021-08-11 17:03:26', 'Thobeka', '', '8:00:00 AM', 'Company Work, Content & Creativity', 'Mouse, Brought my own workstation', 'Shared Hotspot', 13.0, 'Yes', 'No', 'Freelancer', 'Nxumalo', ''], ['2021-08-12 06:46:44', 'Fanelesibonge', '', '8:30:00 AM', 'Coding', 'Brought my own workstation', 'Shared Hotspot', 12.5, 'Yes', 'No', 'Freelancer', 'Malaza', ''], ['2021-08-12 08:53:21', 'Lungelo', '', '8:00:00 AM', 'Research', 'Keyboard, Brought my own workstation', 'Brought my own internet', 9.0, 'Yes', 'Yes', 'Freelancer', 'Mamba', ''], ['2021-08-12 08:57:29', 'Gcinimiyalo', '', '8:30:00 AM', 'Content & Creativity', 'Mac Workstation', 'Shared Hotspot', 8.5, 'Yes', 'No', 'Freelancer', 'Ntuli', ''], ['2021-08-12 08:59:17', 'Sibahle', '', '8:00:00 AM', 'Company Work, Academic Work', 'Mac Workstation', 'Shared Hotspot', 10.0, 'Yes', 'Yes', 'Ummo', 'Mnyakeni', ''], ['2021-08-12 09:17:20', 'José', '', '8:00:00 AM', 'Company Work, Coding', 'Mac Workstation', 'Shared Hotspot', 12.0, 'Yes', 'No', 'Ummo', 'Rego', ''], ['2021-08-12 11:43:37', 'Tiyandza', '', '11:30:00 AM', 'Company Work', 'PC Workstation, Keyboard, Mouse, Monitor', 'Shared Hotspot', 4.5, 'Yes', 'No', 'Snowsen', 'Cindzi', ''], ['2021-08-12 11:44:35', 'Bafana', '', '11:30:00 AM', 'Research, Content & Creativity, Coding', 'PC Workstation, Keyboard, Mouse, Monitor', 'Shared Hotspot', 4.5, 'Yes', 'No', 'Snowsen', 'Gama', ''], ['2021-08-12 13:38:37', 'Kwanele', '', '1:25:00 PM', 'Company Work', 'Brought my own workstation', 'Shared Hotspot', 4.583333333333333, 'Yes', 'Yes', 'Vundzisa', 'Tsabedze', ''], ['2021-08-12 13:41:03', 'Thobeka', '', '9:30:00 AM', 'Company Work, Content & Creativity', 'Mouse, Brought my own workstation', 'Shared Hotspot', 11.5, 'Yes', 'No', 'Freelancer', 'Nxumalo', ''], ['2021-08-12 13:47:52', 'Sabelo', '', '10:00:00 AM', 'Company Work', 'Monitor', 'Shared Hotspot', 7.0, 'Yes', 'Yes', 'SV Tech', 'Vilakati', ''], ['2021-08-13 05:30:35', 'José', '', '5:30:00 AM', 'Company Work, Research, Coding', 'Mac Workstation', 'Shared Hotspot', 14.5, 'Yes', 'No', 'Ummo', 'Rego', ''], ['2021-08-13 09:16:47', 'Fanelesibonge', '', '8:00:00 AM', 'Coding', 'Brought my own workstation', 'Shared Hotspot', 13.0, 'Yes', 'No', 'Freelancer', 'Malaza', ''], ['2021-08-13 09:34:01', 'Lungelo', '', '8:00:00 AM', 'Research', 'Keyboard, Brought my own workstation', 'Brought my own internet', 9.0, 'Yes', 'Yes', 'Freelancer', 'Mamba', ''], ['2021-08-13 09:51:42', 'Kwanele', '', '8:00:00 AM', 'Company Work', 'Brought my own workstation', 'Shared Hotspot', 10.0, 'Yes', 'Yes', 'Vundzisa', 'Tsabedze', ''], ['2021-08-13 10:13:01', 'Sibahle', '', '10:11:00 AM', 'Company Work, Academic Work', 'Mac Workstation', 'Shared Hotspot', 7.816666666666666, 'Yes', 'Yes', 'Ummo', 'Mnyakeni', ''], ['2021-08-13 11:00:38', 'Tiyandza', '', '11:00:00 AM', 'Company Work, Research', 'PC Workstation', 'Shared Hotspot', 5.0, 'Yes', 'No', 'Snowsen', 'Cindzi', ''], ['2021-08-13 13:11:12', 'Jonathan', '', '12:00:00 PM', 'Research', 'Brought my own workstation', 'Shared Hotspot', 10.0, 'No', 'Yes', 'Kingdom XLR', 'Mulumba Obiege', ''], ['2021-08-13 13:13:05', 'Bafana', '', '9:30:00 AM', 'Company Work', 'PC Workstation, Keyboard, Mouse, Monitor', 'Shared Hotspot', 6.5, 'Yes', 'No', 'Snowsen', 'Gama', ''], ['2021-08-13 13:13:47', 'Tiyandza', '', '9:30:00 AM', 'Company Work, Research', 'PC Workstation, Keyboard, Mouse, Monitor', 'Shared Hotspot', 6.5, 'Yes', 'No', 'Snowsen', 'Cindzi', ''], ['2021-08-13 18:05:19', 'Mlungisi', '', '11:20:00 AM', 'Research', 'Brought my own workstation', 'Shared Hotspot', 6.833333333333333, 'No', 'Yes', 'Freelancer', 'Shongwe', ''], ['2021-08-14 10:48:42', 'Gcinimiyalo', '', '10:00:00 AM', 'Content & Creativity', 'Mac Workstation', 'Shared Hotspot', 7.0, 'Yes', 'No', 'Freelancer', 'Ntuli', ''], ['2021-08-14 12:07:42', 'José', '', '9:00:00 AM', 'Company Work, Research, Coding', 'Mac Workstation', 'Shared Hotspot', 11.0, 'Yes', 'No', 'Ummo', 'Rego', ''], ['2021-08-14 12:18:50', 'Tiyandza', '', '12:00:00 PM', 'Company Work, Content & Creativity', 'PC Workstation, Keyboard, Mouse, Monitor', 'Shared Hotspot', 5.0, 'Yes', 'No', 'Snowsen', 'Cindzi', ''], ['2021-08-14 12:19:42', 'Bafana', '', '12:00:00 PM', 'Company Work, Content & Creativity', 'PC Workstation, Keyboard, Mouse, Monitor', 'Shared Hotspot', 5.0, 'Yes', 'No', 'Snowsen', 'Gama', ''], ['2021-08-14 13:50:02', 'Fanelesibonge', '', '8:30:00 AM', 'Meeting, Coding', 'Mouse, Brought my own workstation', 'Shared Hotspot', 10.5, 'Yes', 'No', 'Freelancer', 'Malaza', ''], ['2021-08-14 18:04:33', 'Mlungisi', '', '1:50:00 PM', 'Research', 'Brought my own workstation', 'Shared Hotspot', 4.333333333333333, 'No', 'Yes', 'Freelancer', 'Shongwe', ''], ['2021-08-15 08:37:35', 'Bafana', '', '8:00:00 AM', 'Company Work, Content & Creativity', 'PC Workstation, Keyboard, Mouse, Monitor', 'Brought my own internet', 10.0, 'Yes', 'No', 'Snowsen', 'Gama', ''], ['2021-08-15 13:19:19', 'Gcinimiyalo', '', '1:00:00 PM', 'Content & Creativity', 'Mac Workstation', 'Shared Hotspot', 2.0, 'Yes', 'No', 'Freelancer', 'Ntuli', ''], ['2021-08-15 13:21:58', 'Simanga', '', '1:20:00 AM', 'Research', 'Mac Workstation', 'Shared Hotspot', 15.666666666666666, 'Yes', 'No', 'Freelancer', 'Ntsini', ''], ['2021-08-15 14:10:10', 'José', '', '9:00:00 AM', 'Company Work, Coding', 'Mac Workstation', 'Shared Hotspot', 9.0, 'Yes', 'No', 'Ummo', 'Rego', ''], ['2021-08-15 15:23:42', 'Siphumelele', '', '1:00:00 PM', 'Content & Creativity', 'Brought my own workstation', \"Don't need internet\", 2.5, 'Yes', 'Yes', 'Freelancer', 'Malambe', ''], ['2021-08-15 18:16:14', 'Fanelesibonge', '', '1:00:00 PM', 'Coding', 'Brought my own workstation', 'Shared Hotspot', 8.0, 'Yes', 'No', 'Freelancer', 'Malaza', ''], ['2021-08-15 19:23:58', 'Muzi', '', '4:00:00 PM', 'Content & Creativity', 'Brought my own workstation', 'Shared Hotspot', 3.5, 'Yes', 'Yes', 'Rare Jam', 'Mathunjwa', ''], ['2021-08-15 19:23:58', 'Mzwandile', '', '4:00:00 PM', 'Company Work, Content & Creativity', 'Brought my own workstation', 'Shared Hotspot', 3.5, 'Yes', 'No', 'Kingdom XLR', 'Nxumalo', ''], ['2021-08-16 10:29:11', 'Bafana', '', '10:30:00 AM', 'Company Work, Coding', 'PC Workstation, Keyboard, Mouse, Monitor', 'Brought my own internet', 5.5, 'Yes', 'No', 'Snowsen', 'Gama', ''], ['2021-08-16 10:43:50', 'José', '', '8:00:00 AM', 'Company Work, Research, Coding', 'Mac Workstation', 'Shared Hotspot', 12.0, 'Yes', 'No', 'Ummo', 'Rego', ''], ['2021-08-16 11:41:07', 'Sabelo', '', '11:40:00 AM', 'Company Work', 'Monitor', 'Brought my own internet', 5.333333333333333, 'Yes', 'Yes', 'SV Tech', 'Vilakati', ''], ['2021-08-16 11:45:58', 'Gcinimiyalo', '', '11:45:00 AM', 'Content & Creativity', 'Mac Workstation', 'Shared Hotspot', 5.25, 'Yes', 'No', 'Freelancer', 'Ntuli', ''], ['2021-08-16 15:21:50', 'Sibahle', '', '8:00:00 AM', 'Company Work', 'Mac Workstation', 'Shared Hotspot', 10.0, 'Yes', 'Yes', 'Ummo', 'Mnyakeni', ''], ['2021-08-16 15:31:17', 'Simanga', '', '3:29:00 PM', 'Research', 'Mac Workstation', 'Shared Hotspot', 4.516666666666667, 'Yes', 'No', 'Freelancer', 'Ntsini', ''], ['2021-08-16 16:47:21', 'Fanelesibonge', '', '11:00:00 AM', 'Coding', 'Brought my own workstation', 'Shared Hotspot', 10.0, 'Yes', 'No', 'Freelancer', 'Malaza', ''], ['2021-08-17 09:50:51', 'Fanelesibonge', '', '8:45:00 AM', 'Coding', 'Mouse, Brought my own workstation', 'Shared Hotspot', 12.25, 'Yes', 'No', 'Freelancer', 'Malaza', ''], ['2021-08-17 11:08:20', 'Sibahle', '', '8:00:00 AM', 'Company Work, Academic Work, Research', 'Mac Workstation', 'Shared Hotspot', 10.0, 'Yes', 'Yes', 'Ummo', 'Mnyakeni', ''], ['2021-08-17 11:22:02', 'Lungelo', '', '11:00:00 AM', 'Research', 'Keyboard, Brought my own workstation', 'Brought my own internet', 6.0, 'Yes', 'Yes', 'Freelancer', 'Mamba', ''], ['2021-08-17 11:34:55', 'Gcinimiyalo', '', '11:00:00 AM', 'Content & Creativity', 'Mac Workstation', 'Shared Hotspot', 6.0, 'Yes', 'No', 'Freelancer', 'Ntuli', ''], ['2021-08-17 11:52:55', 'Tiyandza', '', '11:52:00 AM', 'Company Work, Research, Content & Creativity', 'PC Workstation, Keyboard, Mouse, Monitor', 'Shared Hotspot', 5.133333333333334, 'Yes', 'No', 'Snowsen', 'Cindzi', ''], ['2021-08-17 11:54:09', 'Bafana', '', '11:53:00 AM', 'Company Work, Content & Creativity', 'PC Workstation, Keyboard, Mouse, Monitor', 'Shared Hotspot', 5.116666666666666, 'Yes', 'No', 'Snowsen', 'Gama', ''], ['2021-08-17 14:11:46', 'José', '', '8:00:00 AM', 'Company Work, Research, Meeting', 'Mac Workstation', 'Shared Hotspot', 12.0, 'Yes', 'No', 'Ummo', 'Rego', ''], ['2021-08-17 15:10:17', 'Zack', '', '2:00:00 PM', 'Meeting', 'Brought my own workstation', 'Brought my own internet', 2.0, 'Yes', 'Yes', 'Freelancer', 'Towindo', ''], ['2021-08-17 16:38:16', 'Mlungisi', '', '12:30:00 PM', 'Research', 'Brought my own workstation', 'Shared Hotspot', 4.5, 'No', 'Yes', 'Freelancer', 'Shongwe', ''], ['2021-08-17 23:34:22', 'Kwanele', '', '2:40:00 PM', 'Company Work', 'Brought my own workstation', 'Shared Hotspot', 3.3333333333333335, 'Yes', 'Yes', 'Vundzisa', 'Tsabedze', ''], ['2021-08-18 09:17:15', 'Thobeka', '', '8:00:00 AM', 'Company Work, Content & Creativity', 'Brought my own workstation', 'Shared Hotspot', 13.5, 'Yes', 'No', 'Freelancer', 'Nxumalo', ''], ['2021-08-18 09:18:08', 'Bafana', '', '8:00:00 AM', 'Content & Creativity, Coding', 'PC Workstation, Keyboard, Mouse, Monitor', 'Shared Hotspot', 11.5, 'Yes', 'No', 'Snowsen', 'Gama', ''], ['2021-08-18 09:18:32', 'Fanelesibonge', '', '8:00:00 AM', 'Coding', 'Mouse, Brought my own workstation', 'Shared Hotspot', 13.5, 'Yes', 'No', 'Freelancer', 'Malaza', ''], ['2021-08-18 09:18:56', 'Tiyandza', '', '8:00:00 AM', 'Company Work, Content & Creativity', 'PC Workstation, Keyboard, Mouse, Monitor', 'Shared Hotspot', 11.5, 'Yes', 'No', 'Snowsen', 'Cindzi', ''], ['2021-08-18 12:39:40', 'Gcinimiyalo', '', '11:00:00 AM', 'Content & Creativity', 'Mac Workstation', 'Shared Hotspot', 6.0, 'Yes', 'No', 'Freelancer', 'Ntuli', ''], ['2021-08-18 12:45:05', 'Lungelo', '', '10:00:00 AM', 'Research', 'Keyboard, Brought my own workstation', 'Brought my own internet', 8.0, 'Yes', 'Yes', 'Freelancer', 'Mamba', ''], ['2021-08-18 14:06:10', 'José', '', '8:00:00 AM', 'Meeting', 'Mac Workstation', 'Shared Hotspot', 12.0, 'Yes', 'No', 'Ummo', 'Rego', ''], ['2021-08-19 10:15:24', 'Tiyandza', '', '10:15:00 AM', 'Company Work, Research', 'PC Workstation, Keyboard, Mouse, Monitor', 'Shared Hotspot', 6.75, 'Yes', 'No', 'Snowsen', 'Cindzi', ''], ['2021-08-19 10:15:29', 'Bafana', '', '8:30:00 AM', 'Company Work, Content & Creativity, Coding', 'PC Workstation, Keyboard, Mouse, Monitor', 'Shared Hotspot', 8.5, 'Yes', 'No', 'Snowsen', 'Gama', ''], ['2021-08-19 10:23:29', 'Kwanele', '', '9:30:00 AM', 'Company Work', 'Brought my own workstation', 'Shared Hotspot', 8.5, 'Yes', 'Yes', 'Vundzisa', 'Tsabedze', ''], ['2021-08-19 10:25:56', 'Mzwandile', '', '3:56:00 PM', 'Company Work', 'Mac Workstation, Audio Box', 'Shared Hotspot', 4.916666666666667, 'Yes', 'No', 'Kingdom XLR', 'Nxumalo', ''], ['2021-08-19 10:26:10', 'Simanga', '', '10:25:00 AM', 'Content & Creativity', 'Mac Workstation', 'Shared Hotspot', 6.583333333333333, 'Yes', 'No', 'Freelancer', 'Ntsini', ''], ['2021-08-19 16:03:58', 'Gcinimiyalo', '', '2:00:00 PM', 'Content & Creativity', 'Mac Workstation', 'Shared Hotspot', 3.0, 'Yes', 'No', 'Freelancer', 'Ntuli', ''], ['2021-08-19 18:26:51', 'Mlungisi', '', '12:10:00 PM', 'Research', 'Brought my own workstation', 'Shared Hotspot', 6.333333333333333, 'No', 'Yes', 'Freelancer', 'Shongwe', ''], ['2021-08-20 09:34:34', 'Bafana', '', '9:00:00 AM', 'Content & Creativity', 'PC Workstation, Keyboard, Mouse, Monitor', 'Shared Hotspot', 10.0, 'Yes', 'No', 'Snowsen', 'Gama', ''], ['2021-08-20 09:35:40', 'Tiyandza', '', '9:00:00 AM', 'Content & Creativity', 'PC Workstation, Keyboard, Mouse, Monitor', 'Shared Hotspot', 1.0, 'Yes', 'No', 'Snowsen', 'Cindzi', ''], ['2021-08-20 09:57:58', 'Gcinimiyalo', '', '9:30:00 AM', 'Content & Creativity', 'Mac Workstation', 'Shared Hotspot', 3.5, 'Yes', 'No', 'Freelancer', 'Ntuli', ''], ['2021-08-20 09:58:59', 'Fanelesibonge', '', '8:00:00 AM', 'Coding', 'Brought my own workstation', 'Shared Hotspot', 13.0, 'Yes', 'No', 'Freelancer', 'Malaza', ''], ['2021-08-20 11:54:50', 'Lungelo', '', '11:00:00 AM', 'Research, Coding', 'Keyboard, Brought my own workstation', 'Brought my own internet', 7.0, 'Yes', 'Yes', 'Freelancer', 'Mamba', ''], ['2021-08-20 16:20:35', 'Mlungisi', '', '1:15:00 PM', 'Research', 'Brought my own workstation', 'Shared Hotspot', 4.166666666666667, 'No', 'Yes', 'Freelancer', 'Shongwe', ''], ['2021-08-20 19:20:36', 'Mnqobi', '', '6:30:00 PM', 'Content & Creativity', 'Brought my own workstation', 'Shared Hotspot', 1.5, 'No', 'Yes', 'Freelancer', 'Nkambule', ''], ['2021-08-20 19:21:33', 'Muzi', '', '6:30:00 PM', 'Content & Creativity', 'Brought my own workstation', 'Shared Hotspot', 1.5, 'Yes', 'Yes', 'Rare Jam', 'Mathunjwa', ''], ['2021-08-20 20:34:57', 'Mzwandile', '', '3:32:00 PM', 'Company Work', 'Mac Workstation', 'Shared Hotspot', 5.183333333333334, 'Yes', 'No', 'Kingdom XLR', 'Nxumalo', ''], ['2021-08-20 23:44:24', 'Kwanele', '', '3:30:00 PM', 'Company Work, Content & Creativity', 'Mac Workstation, Brought my own workstation', 'Shared Hotspot', 2.75, 'Yes', 'Yes', 'Vundzisa', 'Tsabedze', ''], ['2021-08-21 08:22:25', 'Sikhulile', '', '3:30:00 PM', 'Company Work', 'Brought my own workstation', 'Brought my own internet', 4.5, 'Yes', 'No', 'Kingdom XLR', 'Zwane', ''], ['2021-08-21 09:10:49', 'Zolile', '', '5:00:00 PM', 'Content & Creativity', 'Mac Workstation', \"Don't need internet\", 7.0, 'Yes', 'No', 'Kingdom XLR', 'Motsa', ''], ['2021-08-21 10:25:49', 'Gcinimiyalo', '', '9:30:00 AM', 'Content & Creativity', 'Mac Workstation', 'Shared Hotspot', 9.5, 'Yes', 'No', 'Freelancer', 'Ntuli', ''], ['2021-08-21 10:29:01', 'Bafana', '', '9:00:00 AM', 'Company Work, Content & Creativity, Coding', 'PC Workstation, Keyboard, Mouse, Monitor', 'Shared Hotspot', 8.0, 'Yes', 'No', 'Snowsen', 'Gama', ''], ['2021-08-21 13:44:12', 'Lungelo', '', '12:00:00 AM', 'Research, Coding', 'Keyboard, Brought my own workstation', 'Brought my own internet', 17.0, 'Yes', 'Yes', 'Freelancer', 'Mamba', ''], ['2021-08-21 17:01:28', 'Mlungisi', '', '12:30:00 PM', 'Research', 'Brought my own workstation', 'Shared Hotspot', 4.5, 'No', 'Yes', 'Freelancer', 'Shongwe', ''], ['2021-08-21 22:20:18', 'Mnqobi', '', '8:00:00 PM', 'Content & Creativity', 'Brought my own workstation', 'Brought my own internet', 20.0, 'No', 'Yes', 'Freelancer', 'Nkambule', ''], ['2021-08-21 22:22:12', 'Simanga', '', '8:30:00 PM', 'Content & Creativity', 'Audio Box', 'Shared Hotspot', 19.5, 'Yes', 'No', 'Freelancer', 'Ntsini', ''], ['2021-08-21 23:27:18', 'Zolile', '', '6:00:00 AM', 'Content & Creativity', 'Mac Workstation', 'Shared Hotspot', 8.0, 'Yes', 'No', 'Kingdom XLR', 'Motsa', ''], ['2021-08-21 23:54:00', 'Mhlengi', '', '8:00:00 PM', 'Content & Creativity', 'Brought my own workstation, Audio Box', 'Brought my own internet', 20.0, 'Yes', 'Yes', 'Freelancer', 'Nkambule', ''], ['2021-08-22 09:09:09', 'Kwanele', '', '1:10:00 PM', 'Company Work, Research, Content & Creativity', 'Mac Workstation', 'Shared Hotspot', 6.583333333333333, 'Yes', 'Yes', 'Vundzisa', 'Tsabedze', ''], ['2021-08-22 09:10:04', 'Bafana', '', '9:00:00 AM', 'Company Work, Content & Creativity', 'PC Workstation, Keyboard, Mouse, Monitor', 'Shared Hotspot', 6.0, 'Yes', 'No', 'Snowsen', 'Gama', ''], ['2021-08-22 13:52:25', 'Simanga', '', '10:30:00 AM', 'Content & Creativity', 'Mac Workstation', 'Shared Hotspot', 10.0, 'Yes', 'No', 'Freelancer', 'Ntsini', ''], ['2021-08-22 16:28:53', 'Muzi', '', '4:15:00 PM', 'Content & Creativity', 'Brought my own workstation, Audio Box', 'Shared Hotspot', 1.75, 'Yes', 'Yes', 'Rare Jam', 'Mathunjwa', ''], ['2021-08-23 08:43:19', 'Simanga', '', '8:00:00 AM', 'Content & Creativity', 'Mac Workstation', 'Shared Hotspot', '8', 'Yes', 'No', 'Freelancer', 'Ntsini', ''], ['2021-08-23 10:36:15', 'José', '', '8:00:00 AM', 'Company Work, Research, Coding', 'Mac Workstation', 'Shared Hotspot', '11.5', 'Yes', 'No', 'Ummo', 'Rego', ''], ['2021-08-23 11:44:28', 'Lungelo', '', '10:00:00 AM', 'Research, Coding', 'Keyboard, Brought my own workstation', 'Brought my own internet', '7.5', 'Yes', 'Yes', 'Freelancer', 'Mamba', ''], ['2021-08-23 11:58:57', 'Bafana', '', '9:30:00 AM', 'Content & Creativity', 'PC Workstation, Keyboard, Mouse, Monitor', 'Shared Hotspot', '7.5', 'Yes', 'No', 'Snowsen', 'Gama', ''], ['2021-08-23 13:42:44', 'Fanelesibonge', '', '8:00:00 AM', 'Company Work, Coding', 'Brought my own workstation', 'Shared Hotspot', '12', 'Yes', 'No', 'Freelancer', 'Malaza', ''], ['2021-08-23 15:10:15', 'Gcinimiyalo', '', '12:30:00 PM', 'Content & Creativity', 'Mac Workstation', 'Shared Hotspot', '4', 'Yes', 'No', 'Freelancer', 'Ntuli', ''], ['2021-08-24 05:07:51', 'José', '', '5:00:00 AM', 'Company Work, Research, Coding', 'Mac Workstation', 'Shared Hotspot', '17', 'Yes', 'No', 'Ummo', 'Rego', ''], ['2021-08-24 05:55:09', 'Simanga', '', '7:00:00 AM', 'Content & Creativity', 'Mac Workstation', 'Shared Hotspot', '6', 'Yes', 'No', 'Freelancer', 'Ntsini', ''], ['2021-08-24 13:48:26', 'Muzi', '', '1:00:00 PM', 'Content & Creativity', 'Audio Box', 'Shared Hotspot', '1', 'Yes', 'Yes', 'Rare Jam', 'Mathunjwa', ''], ['2021-08-24 14:14:20', 'Gcinimiyalo', '', '12:30:00 PM', 'Content & Creativity', 'Mac Workstation', 'Shared Hotspot', '5', 'Yes', 'No', 'Freelancer', 'Ntuli', ''], ['2021-08-24 14:42:57', 'Zack', '', '1:00:00 PM', 'Content & Creativity', 'PC Workstation', 'Shared Hotspot', '4', 'Yes', 'Yes', 'Freelancer', 'Towindo', ''], ['2021-08-24 14:45:28', 'Lungelo', '', '11:00:00 AM', 'Research', 'Keyboard, Brought my own workstation', 'Brought my own internet', '7', 'Yes', 'Yes', 'Freelancer', 'Mamba', ''], ['2021-08-24 16:06:51', 'Fanelesibonge', '', '9:00:00 AM', 'Company Work, Coding', 'Brought my own workstation', 'Shared Hotspot', '14', 'Yes', 'No', 'Freelancer', 'Malaza', ''], ['2021-08-24 16:43:33', 'Sibahle', '', '8:00:00 AM', 'Company Work, Academic Work, Research', 'Mac Workstation', 'Shared Hotspot', '10', 'Yes', 'Yes', 'Ummo', 'Mnyakeni', ''], ['2021-08-24 22:52:22', 'Mzwandile', '', '2:23:00 PM', 'Company Work, Content & Creativity', 'Mac Workstation', 'Shared Hotspot', '6', 'Yes', 'No', 'Kingdom XLR', 'Nxumalo', ''], ['2021-08-25 08:34:44', 'José', '', '8:00:00 AM', 'Company Work, Meeting, Coding', 'Mac Workstation', 'Shared Hotspot', '12', 'Yes', 'No', 'Ummo', 'Rego', ''], ['2021-08-25 10:16:30', 'Bafana', '', '10:00:00 AM', 'Company Work, Content & Creativity, Coding', 'PC Workstation, Keyboard, Mouse, Monitor', 'Shared Hotspot', '7', 'Yes', 'No', 'Snowsen', 'Gama', ''], ['2021-08-25 10:17:44', 'Tiyandza', '', '10:00:00 AM', 'Company Work, Content & Creativity', 'PC Workstation, Keyboard, Mouse, Monitor', 'Shared Hotspot', '7', 'Yes', 'No', 'Snowsen', 'Cindzi', ''], ['2021-08-25 11:26:57', 'Fanelesibonge', '', '10:00:00 AM', 'Company Work, Coding', 'Brought my own workstation', 'Shared Hotspot', '14', 'Yes', 'No', 'Freelancer', 'Malaza', ''], ['2021-08-25 11:33:35', 'Sibahle', '', '8:00:00 AM', 'Company Work, Academic Work, Research', 'Mac Workstation', 'Shared Hotspot', '10', 'Yes', 'Yes', 'Ummo', 'Mnyakeni', ''], ['2021-08-25 13:34:45', 'Simanga', '', '7:00:00 AM', 'Research, Content & Creativity', 'Mac Workstation', 'Shared Hotspot', '5', 'Yes', 'No', 'Freelancer', 'Ntsini', ''], ['2021-08-25 17:07:05', 'Muzi', '', '5:00:00 PM', 'Content & Creativity', 'Keyboard, Mouse, Brought my own workstation, Audio Box', 'Shared Hotspot', '2', 'Yes', 'Yes', 'Rare Jam', 'Mathunjwa', ''], ['2021-08-25 17:45:41', 'Mlungisi', '', '1:15:00 PM', 'Research', 'Brought my own workstation', 'Shared Hotspot', '5', 'No', 'Yes', 'Freelancer', 'Shongwe', ''], ['2021-08-25 18:25:16', 'Kwanele', '', '10:30:00 AM', 'Company Work', 'Brought my own workstation', 'Shared Hotspot', '4', 'Yes', 'Yes', 'Vundzisa', 'Tsabedze', ''], ['2021-08-26 08:58:31', 'Lungelo', '', '8:00:00 AM', 'Research, Coding', 'Keyboard, Brought my own workstation', 'Brought my own internet', '8', 'Yes', 'Yes', 'Freelancer', 'Mamba', ''], ['2021-08-26 09:05:17', 'José', '', '8:00:00 AM', 'Company Work, Research, Coding', 'Mac Workstation', 'Shared Hotspot', '12', 'Yes', 'No', 'Ummo', 'Rego', ''], ['2021-08-26 09:46:34', 'Sabelo', '', '9:46:00 AM', 'Company Work', 'Monitor', 'Brought my own internet', '7', 'Yes', 'Yes', 'SV Tech', 'Vilakati', ''], ['2021-08-26 10:25:38', 'Simanga', '', '10:25:00 AM', 'Content & Creativity', 'Mac Workstation', 'Shared Hotspot', '6', 'Yes', 'No', 'Freelancer', 'Ntsini', ''], ['2021-08-26 12:27:53', 'Bafana', '', '12:00:00 PM', 'Content & Creativity, Coding', 'PC Workstation, Keyboard, Mouse, Monitor', 'Shared Hotspot', '5', 'Yes', 'No', 'Snowsen', 'Gama', ''], ['2021-08-26 12:28:39', 'Tiyandza', '', '12:00:00 PM', 'Company Work, Content & Creativity', 'PC Workstation, Keyboard, Mouse, Monitor', 'Shared Hotspot', '5', 'Yes', 'No', 'Snowsen', 'Cindzi', ''], ['2021-08-26 13:14:15', 'Sibahle', '', '8:00:00 AM', 'Company Work, Academic Work, Research', 'Mac Workstation', 'Shared Hotspot', '10', 'Yes', 'Yes', 'Ummo', 'Mnyakeni', ''], ['2021-08-26 17:49:59', 'Mlungisi', '', '11:30:00 PM', 'Research', 'Brought my own workstation', 'Shared Hotspot', '6', 'No', 'Yes', 'Freelancer', 'Shongwe', ''], ['2021-08-27 09:16:16', 'Lungelo', '', '9:00:00 AM', 'Coding', 'Keyboard, Brought my own workstation', 'Shared Hotspot', '8.5', 'Yes', 'Yes', 'Freelancer', 'Mamba', ''], ['2021-08-27 10:25:04', 'Sikhulile', '', '12:00:00 PM', 'Company Work', 'PC Workstation, Keyboard, Mouse, Monitor, Brought my own workstation', 'Shared Hotspot', '48', 'Yes', 'No', 'Kingdom XLR', 'Zwane', ''], ['2021-08-27 10:27:03', 'Bagcinele', '', '10:00:00 AM', 'Research', 'Mac Workstation', 'Shared Hotspot', '6', 'Yes', 'No', 'Kingdom XLR', 'Fakudze', ''], ['2021-08-27 10:59:06', 'Sabelo', '', '10:00:00 AM', 'Company Work', 'Monitor', 'Brought my own internet', '8', 'Yes', 'Yes', 'SV Tech', 'Vilakati', ''], ['2021-08-27 15:46:51', 'José', '', '8:00:00 AM', 'Company Work, Research, Meeting, Coding', 'Mac Workstation', 'Shared Hotspot', '12', 'Yes', 'No', 'Ummo', 'Rego', ''], ['2021-08-27 16:29:30', 'Mlungisi', '', '11:30:00 AM', 'Research', 'Brought my own workstation', 'Shared Hotspot', '5', 'No', 'Yes', 'Freelancer', 'Shongwe', ''], ['2021-08-27 16:45:28', 'Muzi', '', '4:40:00 PM', 'Meeting', 'Brought my own workstation, Audio Box', 'Shared Hotspot', '2', 'Yes', 'Yes', 'Rare Jam', 'Mathunjwa', ''], ['2021-08-27 19:41:06', 'Mzwandile', '', '3:00:00 PM', 'Company Work', 'Mac Workstation, Keyboard, Mouse, Monitor, Audio Box', 'Shared Hotspot', '5', 'Yes', 'No', 'Kingdom XLR', 'Nxumalo', ''], ['2021-08-27 19:42:06', 'Thelumusa', '', '4:00:00 PM', 'Research', 'Brought my own workstation, Audio Box', 'Shared Hotspot', '3', 'No', 'Yes', 'Freelancer', 'Hlatshwako', ''], ['2021-08-28 11:49:43', 'Sibahle', '', '8:00:00 AM', 'Academic Work, Research', 'Mac Workstation', 'Shared Hotspot', '10', 'Yes', 'Yes', 'Ummo', 'Mnyakeni', ''], ['2021-08-28 11:49:56', 'José', '', '10:00:00 AM', 'Company Work, Research, Coding', 'Mac Workstation', 'Shared Hotspot', '10', 'Yes', 'No', 'Ummo', 'Rego', ''], ['2021-08-28 12:07:21', 'Bagcinele', '', '11:00:00 AM', 'Research', 'Mac Workstation', 'Shared Hotspot', '6', 'Yes', 'No', 'Kingdom XLR', 'Fakudze', ''], ['2021-08-28 16:08:47', 'Mzwandile', '', '2:55:00 PM', 'Company Work, Research, Content & Creativity, Meeting', 'Mac Workstation', 'Shared Hotspot', '2', 'Yes', 'No', 'Kingdom XLR', 'Nxumalo', ''], ['2021-08-28 16:10:13', 'Sihle', '', '1:00:00 PM', 'Research, Meeting', 'Brought my own workstation', 'Shared Hotspot', '4', 'No', 'No', 'Kingdom XLR', 'Thwala', ''], ['2021-08-29 11:59:41', 'Tiyandza', '', '11:00:00 AM', 'Company Work', 'PC Workstation, Keyboard, Mouse, Monitor', 'Shared Hotspot', '5', 'Yes', 'No', 'Snowsen', 'Cindzi', ''], ['2021-08-29 12:00:25', 'Bafana', '', '11:00:00 AM', 'Content & Creativity', 'PC Workstation, Keyboard, Mouse, Monitor', 'Shared Hotspot', '5', 'Yes', 'No', 'Snowsen', 'Gama', ''], ['2021-08-29 12:00:56', 'Fanelesibonge', '', '9:00:00 AM', 'Company Work, Coding', 'Brought my own workstation', 'Shared Hotspot', '12', 'Yes', 'No', 'Freelancer', 'Malaza', ''], ['2021-08-29 12:48:20', 'José', '', '9:00:00 AM', 'Company Work, Coding', 'Mac Workstation', 'Shared Hotspot', '12', 'Yes', 'No', 'Ummo', 'Rego', ''], ['2021-08-29 20:30:35', 'Mzwandile', '', '5:14:00 PM', 'Content & Creativity', 'Mac Workstation, Mouse', 'Shared Hotspot', '3', 'Yes', 'No', 'Kingdom XLR', 'Nxumalo', ''], ['2021-08-30 08:41:27', 'José', '', '8:00:00 AM', 'Company Work, Meeting, Coding', 'Mac Workstation', 'Shared Hotspot', '12', 'Yes', 'No', 'Ummo', 'Rego', ''], ['2021-08-30 09:06:48', 'Bagcinele', '', '9:00:00 AM', 'Research', 'Mac Workstation', 'Shared Hotspot', '7', 'Yes', 'No', 'Kingdom XLR', 'Fakudze', ''], ['2021-08-30 10:11:34', 'Gcinimiyalo', '', '10:08:00 AM', 'Content & Creativity', 'Mac Workstation', 'Shared Hotspot', '6', 'Yes', 'No', 'Freelancer', 'Ntuli', ''], ['2021-08-30 11:07:06', 'Fanelesibonge', '', '7:30:00 AM', 'Company Work, Coding', 'Brought my own workstation', 'Shared Hotspot', '15', 'Yes', 'No', 'Freelancer', 'Malaza', ''], ['2021-08-30 11:54:40', 'Lungelo', '', '11:00:00 AM', 'Meeting, Coding', 'Keyboard, Brought my own workstation', 'Brought my own internet', '6', 'Yes', 'Yes', 'Freelancer', 'Mamba', ''], ['2021-08-30 12:26:09', 'Sibahle', '', '8:00:00 AM', 'Company Work, Research', 'Mac Workstation', 'Shared Hotspot', '10', 'Yes', 'Yes', 'Ummo', 'Mnyakeni', ''], ['2021-08-30 12:50:10', 'Muzi', '', '12:30:00 AM', 'Academic Work, Research, Content & Creativity, Meeting', 'PC Workstation, Keyboard, Mouse, Monitor', 'Shared Hotspot', '5', 'Yes', 'Yes', 'Rare Jam', 'Mathunjwa', ''], ['2021-08-30 16:20:11', 'Zack', '', '10:00:00 AM', 'Meeting', 'Keyboard, Camera', 'Shared Hotspot', '6', 'Yes', 'Yes', 'Freelancer', 'Towindo', ''], ['2021-08-30 17:30:18', 'Mlungisi', '', '12:30:00 PM', 'Research', 'Brought my own workstation', 'Shared Hotspot', '5', 'No', 'Yes', 'Freelancer', 'Shongwe', ''], ['2021-08-31 05:47:31', 'José', '', '6:00:00 AM', 'Company Work, Research, Coding', 'Mac Workstation', 'Shared Hotspot', '18', 'Yes', 'No', 'Ummo', 'Rego', ''], ['2021-08-31 09:33:56', 'Lungelo', '', '8:00:00 AM', 'Research', 'Keyboard, Brought my own workstation', 'Brought my own internet', '4.5', 'Yes', 'Yes', 'Freelancer', 'Mamba', ''], ['2021-08-31 11:04:06', 'Sikhulile', '', '11:00:00 AM', 'Company Work', 'PC Workstation, Mouse, Monitor, Brought my own workstation', 'Shared Hotspot', '8', 'Yes', 'No', 'Kingdom XLR', 'Zwane', ''], ['2021-08-31 11:15:29', 'Muzi', '', '10:30:00 PM', 'Research, Content & Creativity, Meeting', 'Brought my own workstation', 'Shared Hotspot', '5', 'Yes', 'Yes', 'Rare Jam', 'Mathunjwa', ''], ['2021-08-31 12:12:50', 'Kwanele', '', '10:00:00 AM', 'Company Work', 'Brought my own workstation', 'Shared Hotspot', '6', 'Yes', 'Yes', 'Vundzisa', 'Tsabedze', ''], ['2021-08-31 13:12:10', 'Gcinimiyalo', '', '11:00:00 AM', 'Content & Creativity', 'Mac Workstation', 'Shared Hotspot', '4', 'Yes', 'No', 'Freelancer', 'Ntuli', ''], ['2021-08-31 13:46:32', 'Kangiso', '', '11:30:00 AM', 'Content & Creativity, Meeting', 'Brought my own workstation', 'Shared Hotspot', '3', 'No', 'Yes', 'Rare Jamz', 'Malambe', ''], ['2021-08-31 14:39:44', 'Bafana', '', '2:00:00 PM', 'Company Work', 'PC Workstation, Keyboard, Mouse, Monitor', 'Shared Hotspot', '3', 'Yes', 'No', 'Snowsen', 'Gama', ''], ['2021-08-31 16:01:50', 'Tiyandza', '', '3:57:00 PM', 'Research', 'PC Tower, Keyboard, Mouse, Monitor', 'Shared Hotspot', '2', 'Yes', 'No', 'Snowsen', 'Cindzi', ''], ['2021-09-01 06:19:15', 'Muzi', '', '6:00:00 AM', 'Company Work', 'Brought my own workstation', 'Shared Hotspot', '7', 'Yes', 'Yes', 'Rare Jam', 'Mathunjwa', ''], ['2021-09-01 06:20:18', 'Gcinimiyalo', '', '6:00:00 AM', 'Content & Creativity', 'Mac Workstation', 'Shared Hotspot', '7', 'Yes', 'No', 'Freelancer', 'Ntuli', ''], ['2021-09-01 08:52:03', 'Majaha', '', '8:51:00 AM', 'Company Work', 'Brought my own workstation', 'Brought my own internet', '2', 'Yes', 'No', 'SV Tech', 'Nkambule', ''], ['2021-09-01 08:52:49', 'Gcina', '', '8:55:00 AM', 'Company Work', 'Brought my own workstation', 'Brought my own internet', '2', 'Yes', 'Yes', 'SV Tech', 'Cindzi', ''], ['2021-09-01 09:33:21', 'Sibahle', '', '8:00:00 AM', 'Company Work, Research', 'Mac Workstation', 'Shared Hotspot', '10', 'Yes', 'Yes', 'Ummo', 'Mnyakeni', ''], ['2021-09-01 10:45:55', 'José', '', '7:00:00 AM', 'Company Work, Research, Coding', 'Mac Workstation', 'Shared Hotspot', '18', 'Yes', 'No', 'Ummo', 'Rego', ''], ['2021-09-01 11:10:00', 'Bagcinele', '', '10:00:00 AM', 'Research', 'Brought my own workstation', 'Shared Hotspot', '6', 'Yes', 'No', 'Kingdom XLR', 'Fakudze', ''], ['2021-09-01 12:25:23', 'Kwanele', '', '11:00:00 AM', 'Company Work', 'Brought my own workstation', 'Shared Hotspot', '7', 'Yes', 'Yes', 'Vundzisa', 'Tsabedze', ''], ['2021-09-01 12:25:55', 'Fanelesibonge', '', '9:00:00 AM', 'Company Work, Coding', 'Brought my own workstation', 'Shared Hotspot', '14', 'Yes', 'No', 'Freelancer', 'Malaza', ''], ['2021-09-01 15:11:35', 'Lungelo', '', '8:00:00 AM', 'Research, Coding', 'Keyboard, Brought my own workstation', 'Brought my own internet', '9', 'Yes', 'Yes', 'Freelancer', 'Mamba', ''], ['2021-09-01 15:13:52', 'Bafana', '', '1:00:00 PM', 'Company Work, Coding', 'PC Tower, Keyboard, Mouse, Monitor', 'Shared Hotspot', '4', 'Yes', 'No', 'Snowsen', 'Gama', ''], ['2021-09-01 15:14:33', 'Tiyandza', '', '10:00:00 AM', 'Company Work, Research', 'PC Tower, Keyboard, Mouse, Monitor', 'Shared Hotspot', '7', 'Yes', 'No', 'Snowsen', 'Cindzi', ''], ['2021-09-01 19:09:57', 'Muzi', '', '5:00:00 PM', 'Company Work, Research, Content & Creativity, Meeting', 'Brought my own workstation', 'Shared Hotspot', '3', 'Yes', 'Yes', 'Rare Jam', 'Mathunjwa', ''], ['2021-09-01 22:56:15', 'Mzwandile', '', '2:00:00 PM', 'Company Work, Research, Content & Creativity, Meeting', 'Mac Workstation, Keyboard, Monitor, Audio Box', 'Shared Hotspot', '9', 'Yes', 'No', 'Kingdom XLR', 'Nxumalo', ''], ['2021-09-02 09:58:23', 'José', '', '9:00:00 AM', 'Company Work, Coding', 'Mac Workstation', 'Shared Hotspot', '10', 'Yes', 'No', 'Ummo', 'Rego', ''], ['2021-09-02 10:00:18', 'Sibahle', '', '8:00:00 AM', 'Company Work, Research', 'Mac Workstation', 'Shared Hotspot', '12', 'Yes', 'Yes', 'Ummo', 'Mnyakeni', ''], ['2021-09-02 12:07:00', 'Fanelesibonge', '', '11:30:00 AM', 'Coding', 'Brought my own workstation', 'Shared Hotspot', '10', 'Yes', 'No', 'Freelancer', 'Malaza', ''], ['2021-09-02 15:44:28', 'Sikhulile', '', '12:00:00 PM', 'Company Work, Research, Content & Creativity, Meeting', 'Mac Workstation, PC Tower, Keyboard, Mouse, Monitor, Brought my own workstation', 'Shared Hotspot', '72', 'Yes', 'No', 'Kingdom XLR', 'Zwane', ''], ['2021-09-02 16:13:48', 'Gcinimiyalo', '', '10:00:00 AM', 'Content & Creativity', 'Mac Workstation', 'Shared Hotspot', '6', 'Yes', 'No', 'Freelancer', 'Ntuli', ''], ['2021-09-02 18:21:01', 'Mlungisi', '', '9:50:00 AM', 'Research', 'Brought my own workstation', 'Shared Hotspot', '8', 'No', 'Yes', 'Freelancer', 'Shongwe', ''], ['2021-09-02 18:25:26', 'Kwanele', '', '3:30:00 PM', 'Company Work', 'Brought my own workstation', 'Shared Hotspot', '3', 'Yes', 'Yes', 'Vundzisa', 'Tsabedze', ''], ['2021-09-03 07:39:46', 'Fanelesibonge', '', '8:00:00 AM', 'Coding', 'Brought my own workstation', 'Shared Hotspot', '14', 'Yes', 'No', 'Freelancer', 'Malaza', ''], ['2021-09-03 08:45:12', 'Sibahle', '', '8:00:00 AM', 'Company Work, Research', 'Mac Workstation', 'Shared Hotspot', '10', 'Yes', 'Yes', 'Ummo', 'Mnyakeni', ''], ['2021-09-03 10:34:41', 'Tiyandza', '', '10:31:00 AM', 'Company Work', 'PC Tower, Keyboard, Mouse, Monitor', 'Shared Hotspot', '7', 'Yes', 'No', 'Snowsen', 'Cindzi', ''], ['2021-09-03 10:36:12', 'Bafana', '', '10:33:00 AM', 'Company Work, Content & Creativity', 'PC Tower, Keyboard, Mouse, Monitor', 'Shared Hotspot', '7', 'Yes', 'No', 'Snowsen', 'Gama', ''], ['2021-09-03 10:59:06', 'Lungelo', '', '11:00:00 AM', 'Research', 'Keyboard, Brought my own workstation', 'Brought my own internet', '6', 'Yes', 'Yes', 'Freelancer', 'Mamba', ''], ['2021-09-03 11:57:39', 'Kwanele', '', '11:55:00 AM', 'Company Work, Research', 'Brought my own workstation', 'Shared Hotspot', '8', 'Yes', 'Yes', 'Vundzisa', 'Tsabedze', ''], ['2021-09-03 12:08:32', 'Muzi', '', '12:00:00 PM', 'Company Work, Academic Work, Research', 'Brought my own workstation', 'Shared Hotspot', '4', 'Yes', 'Yes', 'Rare Jam', 'Mathunjwa', ''], ['2021-09-03 12:35:31', 'José', '', '8:00:00 AM', 'Company Work, Meeting, Coding', 'Mac Workstation', 'Shared Hotspot', '10', 'Yes', 'No', 'Ummo', 'Rego', ''], ['2021-09-03 13:07:05', 'Gcinimiyalo', '', '12:00:00 AM', 'Content & Creativity', 'Mac Workstation', 'Shared Hotspot', '4', 'Yes', 'No', 'Freelancer', 'Ntuli', ''], ['2021-09-04 09:40:50', 'Gcinimiyalo', '', '9:30:00 AM', 'Content & Creativity', 'Mac Workstation', 'Shared Hotspot', '7', 'Yes', 'No', 'Freelancer', 'Ntuli', ''], ['2021-09-04 10:07:20', 'José', '', '10:00:00 AM', 'Company Work, Coding', 'Mac Workstation', 'Shared Hotspot', '10', 'Yes', 'No', 'Ummo', 'Rego', ''], ['2021-09-04 16:48:51', 'Tiyandza', '', '4:48:00 PM', 'Research', 'PC Tower, Keyboard, Mouse, Monitor', 'Shared Hotspot', '2', 'Yes', 'No', 'Snowsen', 'Cindzi', ''], ['2021-09-04 18:05:11', 'Mlungisi', '', '11:50:00 AM', 'Research', 'Brought my own workstation', 'Shared Hotspot', '6', 'No', 'Yes', 'Freelancer', 'Shongwe', ''], ['2021-09-06 15:51:44', 'José', '', '8:00:00 AM', 'Company Work, Coding', 'Mac Workstation', 'Shared Hotspot', '12', 'Yes', 'No', 'Ummo', 'Rego', ''], ['2021-09-07 11:00:25', 'Sikhulile', '', '10:30:00 AM', 'Company Work, Research', 'Mac Workstation, PC Tower, Keyboard, Mouse, Monitor, Brought my own workstation', 'Shared Hotspot', '24', 'Yes', 'No', 'Kingdom XLR', 'Zwane', ''], ['2021-09-07 11:02:31', 'Simanga', '', '9:00:00 AM', 'Research, Content & Creativity', 'Mac Workstation', 'Shared Hotspot', '5', 'Yes', 'No', 'Freelancer', 'Ntsini', ''], ['2021-09-07 11:47:58', 'Alex', '', '11:30:00 AM', 'Company Work', 'Mac Workstation, PC Tower, Keyboard, Mouse, Monitor, Brought my own workstation', 'Shared Hotspot', '5', 'Yes', 'No', 'Kingdom XLR', 'Muti', ''], ['2021-09-07 12:14:59', 'Muzi', '', '11:00:00 AM', 'Academic Work, Research', 'Brought my own workstation', 'Shared Hotspot', '2', 'Yes', 'Yes', 'Rare Jam', 'Mathunjwa', ''], ['2021-09-07 12:15:18', 'Fanelesibonge', '', '12:00:00 PM', 'Company Work, Coding', 'Brought my own workstation', 'Shared Hotspot', '8', 'Yes', 'No', 'Freelancer', 'Malaza', ''], ['2021-09-07 12:50:39', 'José', '', '8:00:00 AM', 'Company Work, Coding', 'Mac Workstation', 'Shared Hotspot', '12', 'Yes', 'No', 'Ummo', 'Rego', ''], ['2021-09-07 12:58:28', 'Gcinimiyalo', '', '12:30:00 PM', 'Content & Creativity', 'Mac Workstation', 'Shared Hotspot', '4', 'Yes', 'No', 'Freelancer', 'Ntuli', ''], ['2021-09-07 16:46:26', 'Sibahle', '', '8:00:00 AM', 'Company Work, Research', 'Mac Workstation', 'Shared Hotspot', '8', 'Yes', 'Yes', 'Ummo', 'Mnyakeni', ''], ['2021-09-08 10:03:48', 'Simanga', '', '10:00:00 AM', 'Research, Content & Creativity', 'Mac Workstation', 'Shared Hotspot', '5', 'Yes', 'No', 'Freelancer', 'Ntsini', ''], ['2021-09-08 10:31:15', 'Thelumusa', '', '10:30:00 AM', 'Research', 'Brought my own workstation', 'Shared Hotspot', '2', 'No', 'Yes', 'Rare Jam', 'Hlatshwako', ''], ['2021-09-08 10:58:02', 'Sibahle', '', '10:00:00 AM', 'Company Work, Research', 'Mac Workstation', 'Shared Hotspot', '10', 'Yes', 'Yes', 'Ummo', 'Mnyakeni', ''], ['2021-09-08 12:08:55', 'Muzi', '', '10:00:00 AM', 'Research, Content & Creativity', 'Audio Box', 'Shared Hotspot', '3', 'Yes', 'Yes', 'Rare Jam', 'Mathunjwa', 'Audio Box'], ['2021-09-08 12:45:45', 'Bafana', '', '12:00:00 PM', 'Company Work, Content & Creativity, Coding', 'PC Tower, Keyboard, Mouse, Monitor', 'Shared Hotspot', '5', 'Yes', 'No', 'Snowsen', 'Gama', ''], ['2021-09-08 12:54:26', 'Fanelesibonge', '', '12:45:00 PM', 'Company Work, Coding', 'Brought my own workstation', 'Shared Hotspot', '7', 'Yes', 'No', 'Freelancer', 'Malaza', ''], ['2021-09-08 12:59:59', 'Thokozani', '', '9:00:00 AM', 'Coding', 'PC Tower, Mouse', 'Shared Hotspot', '5', 'Yes', 'Yes', 'SV Tech', 'Mamba', ''], ['2021-09-08 15:02:21', 'José', '', '8:00:00 AM', 'Company Work, Academic Work, Research, Coding', 'Mac Workstation', 'Shared Hotspot', '12', 'Yes', 'No', 'Ummo', 'Rego', ''], ['2021-09-09 08:13:20', 'Thokozani', '', '8:00:00 AM', 'Coding', 'PC Tower, Mouse', 'Shared Hotspot', '10', 'Yes', 'Yes', 'SV Tech', 'Mamba', ''], ['2021-09-09 10:02:08', 'Gcinimiyalo', '', '10:01:00 AM', 'Content & Creativity', 'Mac Workstation', 'Shared Hotspot', '3', 'Yes', 'No', 'Freelancer', 'Ntuli', ''], ['2021-09-09 10:30:51', 'Fanelesibonge', '', '8:00:00 AM', 'Company Work, Coding', 'Brought my own workstation', 'Shared Hotspot', '13', 'Yes', 'No', 'Freelancer', 'Malaza', ''], ['2021-09-09 12:10:46', 'Bafana', '', '8:00:00 AM', 'Company Work, Content & Creativity, Coding', 'PC Tower, Keyboard, Mouse, Monitor', 'Shared Hotspot', '9', 'Yes', 'No', 'Snowsen', 'Gama', ''], ['2021-09-10 09:35:45', 'Thokozani', '', '8:00:00 AM', 'Coding', 'PC Tower, Mouse', 'Shared Hotspot', '8', 'Yes', '', 'SV Tech', 'Mamba', ''], ['2021-09-10 10:32:17', 'Sibahle', '', '8:00:00 AM', 'Company Work, Research', 'Mac Workstation', 'Shared Hotspot', '12', 'Yes', 'Yes', 'Ummo', 'Mnyakeni', ''], ['2021-09-10 10:32:28', 'Lungelo', '', '10:30:00 AM', 'Research', 'Keyboard, Brought my own workstation', 'Brought my own internet', '3', 'Yes', 'Yes', 'Freelancer', 'Mamba', ''], ['2021-09-10 16:09:59', 'Fanelesibonge', '', '12:00:00 PM', 'Company Work, Coding', 'Brought my own workstation', 'Shared Hotspot', '7', 'Yes', 'No', 'Freelancer', 'Malaza', ''], ['2021-09-11 18:40:37', 'Bafana', '', '6:30:00 PM', 'Coding', 'PC Tower, Keyboard, Mouse, Monitor', \"Don't need internet\", '1.5', 'Yes', 'No', 'Snowsen', 'Gama', ''], ['2021-09-11 18:42:15', 'Tiyandza', '', '6:42:00 PM', 'Company Work', 'PC Tower, Keyboard, Mouse, Monitor', 'Shared Hotspot', '2', 'Yes', 'No', 'Snowsen', 'Cindzi', ''], ['2021-09-12 10:23:43', 'Fanelesibonge', '', '10:00:00 AM', 'Company Work, Coding', 'Brought my own workstation', 'Shared Hotspot', '12', 'Yes', 'No', 'Freelancer', 'Malaza', ''], ['2021-09-12 18:46:35', 'Tiyandza', '', '6:46:00 PM', 'Company Work', 'PC Tower, Keyboard, Mouse, Monitor', 'Shared Hotspot', '3', 'Yes', 'No', 'Snowsen', 'Cindzi', ''], ['2021-09-13 08:44:49', 'Fanelesibonge', '', '8:00:00 AM', 'Company Work, Coding', 'Brought my own workstation', 'Shared Hotspot', '14', 'Yes', 'No', 'Freelancer', 'Malaza', ''], ['2021-09-13 11:08:45', 'Bafana', '', '9:00:00 AM', 'Company Work, Content & Creativity, Coding', 'PC Tower, Keyboard, Mouse, Monitor', 'Shared Hotspot', '8', 'Yes', 'No', 'Snowsen', 'Gama', ''], ['2021-09-13 11:35:23', 'José', '', '8:00:00 AM', 'Company Work, Coding', 'Mac Workstation', 'Shared Hotspot', '12', 'Yes', 'No', 'Ummo', 'Rego', ''], ['2021-09-13 11:36:15', 'Sibahle', '', '8:00:00 AM', 'Company Work, Academic Work, Research', 'Mac Workstation, Keyboard', 'Shared Hotspot', '8', 'Yes', 'Yes', 'Ummo', 'Mnyakeni', ''], ['2021-09-13 13:41:32', 'Lungelo', '', '8:00:00 AM', 'Research, Coding', 'Mac Workstation, Keyboard, Brought my own workstation', 'Brought my own internet', '5', 'Yes', 'Yes', 'Freelancer', 'Mamba', ''], ['2021-09-13 15:03:05', 'Sabelo', '', '10:30:00 AM', 'Company Work', 'Brought my own workstation', 'Brought my own internet', '5', 'Yes', 'Yes', 'SV Tech', 'Vilakati', ''], ['2021-09-13 16:42:52', 'Kwanele', '', '11:00:00 AM', 'Company Work', 'Brought my own workstation', 'Shared Hotspot', '6', 'Yes', 'Yes', 'Vundzisa', 'Tsabedze', ''], ['2021-09-13 17:06:53', 'Gcinimiyalo', '', '5:00:00 PM', 'Research', 'Mac Workstation', 'Shared Hotspot', '6', 'Yes', 'No', 'Freelancer', 'Ntuli', ''], ['2021-09-14 07:44:59', 'Gcinimiyalo', '', '7:00:00 AM', 'Content & Creativity', 'Mac Workstation', 'Shared Hotspot', '10', 'Yes', 'No', 'Freelancer', 'Ntuli', ''], ['2021-09-14 11:35:23', 'José', '', '8:00:00 AM', 'Company Work, Coding', 'Mac Workstation', 'Shared Hotspot', '12', 'Yes', 'No', 'Ummo', 'Rego', ''], ['2021-09-14 11:36:15', 'Mzwandile', '', '2:00:00 PM', 'Company Work', 'Mac Workstation', 'Shared Hotspot', '9.5', 'Yes', 'No', 'Kingdom XLR', 'Nxumalo', ''], ['2021-09-14 11:36:15', 'Sibahle', '', '8:00:00 AM', 'Company Work, Academic Work, Research', 'Mac Workstation, Keyboard', 'Shared Hotspot', '8', 'Yes', 'Yes', 'Ummo', 'Mnyakeni', ''], ['2021-09-14 10:17:13', 'Bafana', '', '10:00:00 AM', 'Coding', 'PC Tower, Keyboard, Mouse, Monitor', 'Shared Hotspot', '8', 'Yes', 'No', 'Snowsen', 'Gama', ''], ['2021-09-15 17:30:16', 'Mzwandile', '', '                      17:30:00 PM', 'Company Work', 'Mac Workstation', 'Shared Hotspot', '21.5', 'Yes', 'No', 'Kingdom XLR', 'Nxumalo', ''], ['2021-09-15 03:05:57', 'Sikhulile', '', '8:00:00 AM', 'Company Work, Research', 'Mac Workstation, PC Tower, Keyboard, Mouse, Monitor, Brought my own workstation', 'Shared Hotspot', '72', 'Yes', 'No', 'Kingdom XLR', 'Zwane', ''], ['2021-09-15 05:55:09', 'Simanga', '', '7:00:00 AM', 'Research, Content & Creativity', 'Mac Workstation', 'Shared Hotspot', '5', 'Yes', 'No', 'Freelancer', 'Ntsini', ''], ['2021-09-15 08:51:17', 'Gcinimiyalo', '', '8:30:00 AM', 'Content & Creativity', 'Mac Workstation', 'Shared Hotspot', '10', 'Yes', 'No', 'Freelancer', 'Ntuli', ''], ['2021-09-15 10:38:36', 'Lungelo', '', '8:00:00 AM', 'Coding', 'Keyboard, Brought my own workstation', 'Brought my own internet', '8', 'Yes', 'Yes', 'Freelancer', 'Mamba', ''], ['2021-09-15 11:35:23', 'José', '', '8:00:00 AM', 'Company Work, Coding', 'Mac Workstation', 'Shared Hotspot', '12', 'Yes', 'No', 'Ummo', 'Rego', ''], ['2021-09-15 11:36:15', 'Sibahle', '', '8:00:00 AM', 'Company Work, Academic Work, Research', 'Mac Workstation, Keyboard', 'Shared Hotspot', '8', 'Yes', 'Yes', 'Ummo', 'Mnyakeni', ''], ['2021-09-15 12:11:37', 'Bagcinele', '', '8:00:00 AM', 'Research', 'Brought my own workstation', 'Shared Hotspot', '8', 'Yes', 'No', 'Kingdom XLR', 'Fakudze', ''], ['2021-09-15 16:36:21', 'Fanelesibonge', '', '8:30:00 AM', 'Coding', 'Brought my own workstation', 'Shared Hotspot', '16', 'Yes', 'No', 'Freelancer', 'Malaza', ''], ['2021-09-16 08:35:43', 'Lungelo', '', '8:00:00 AM', 'Research, Coding', 'Keyboard, Brought my own workstation', 'Shared Hotspot', '8', 'Yes', 'Yes', 'Freelancer', 'Mamba', ''], ['2021-09-16 08:56:22', 'Gcinimiyalo', '', '8:30:00 AM', 'Research', 'Mac Workstation', 'Shared Hotspot', '9', 'Yes', 'No', 'Freelancer', 'Ntuli', '']]\n"
          ]
        }
      ]
    },
    {
      "cell_type": "code",
      "metadata": {
        "id": "n-EQcfspf-YB"
      },
      "source": [
        "headers = df.columns.to_list()"
      ],
      "execution_count": 63,
      "outputs": []
    },
    {
      "cell_type": "code",
      "metadata": {
        "id": "WdElYywYgYZw"
      },
      "source": [
        "dataTowrite = [headers] + lOfList"
      ],
      "execution_count": 64,
      "outputs": []
    },
    {
      "cell_type": "code",
      "metadata": {
        "colab": {
          "base_uri": "https://localhost:8080/"
        },
        "id": "wdzAmslYgfQe",
        "outputId": "b1ee15d1-0fce-4f10-bc6d-0e2ebd9d9b26"
      },
      "source": [
        "print(dataTowrite)"
      ],
      "execution_count": 65,
      "outputs": [
        {
          "output_type": "stream",
          "name": "stdout",
          "text": [
            "[['Timestamp', 'First Name', 'Phone Number', 'Sign-in Time', 'What are you working on today?', 'What equipment will you use?', 'Internet?', 'How many hours will you be putting in?', 'Are you a member of The Hub?', 'Are you a student (from any institution)?', 'What company do you work for?', 'Last Name', 'What equipment will you check out?'], ['2021-02-11 00:00:00', 'Kwanele', '7815 8606', '11:00:00 AM', 'Company Work', 'Brought my own workstation', 'Shared Hotspot', 5.0, 'Yes', 'Yes', 'Vundzisa', 'Tsabedze', ''], ['2021-02-11 00:00:00', 'José', '', '8:00:00 AM', 'Company Work', 'Mac Workstation', 'Shared Hotspot', 12.0, 'Yes', 'No', 'Ummo', 'Rego', ''], ['2021-02-11 00:00:00', 'Simanga', '78501932', '4:00:00 AM', 'Content & Creativity', 'PC Workstation', 'Shared Hotspot', 13.0, 'Yes', 'No', 'Freelancer', 'Ntsini', ''], ['2021-02-13 00:00:00', 'Simanga', '78501932', '11:00:00 AM', 'Content & Creativity', 'Mac Workstation', 'Shared Hotspot', 6.0, 'Yes', 'No', 'Freelancer', 'Ntsini', ''], ['2021-02-13 00:00:00', 'José', '', '8:00:00 AM', 'Company Work', 'Mac Workstation', 'Shared Hotspot', 12.0, 'Yes', 'No', 'Ummo', 'Rego', ''], ['2021-02-13 00:00:00', 'Sikhulile', '+26879384734', '11:45:00 AM', 'Content & Creativity', 'Brought my own workstation', 'Shared Hotspot', 7.25, 'Yes', 'No', 'Kingdom XLR', 'Zwane', ''], ['2021-02-13 00:00:00', 'Mzwandile', '', '3:56:00 PM', 'Company Work', 'Mac Workstation, Audio Box', 'Shared Hotspot', 4.916666666666667, 'Yes', 'No', 'Kingdom XLR', 'Nxumalo', ''], ['2021-02-14 00:00:00', 'Gcinimiyalo', '76342236', '12:56:00 PM', 'Content & Creativity', 'Mac Workstation', 'Shared Hotspot', 3.7, 'Yes', 'No', 'Freelancer', 'Ntuli', ''], ['2021-02-14 00:00:00', 'José', '', '8:00:00 AM', 'Company Work', 'Mac Workstation', 'Shared Hotspot', 12.0, 'Yes', 'No', 'Ummo', 'Rego', ''], ['2021-02-15 00:00:00', 'Simanga', '78501932', '8:00:00 AM', 'Content & Creativity', 'Mac Workstation', 'Shared Hotspot', 9.0, 'Yes', 'No', 'Freelancer', 'Ntsini', ''], ['2021-02-15 00:00:00', 'Lungelo', '76313249', '8:00:00 AM', 'Research', 'Brought my own workstation', 'Brought my own internet', 9.0, 'Yes', 'Yes', 'Freelancer', 'Mamba', ''], ['2021-02-15 00:00:00', 'Kwanele', '78158606', '3:15:00 PM', 'Company Work', 'Brought my own workstation', 'Shared Hotspot', 2.4166666666666665, 'Yes', 'Yes', 'Vundzisa', 'Tsabedze', ''], ['2021-02-15 00:00:00', 'José', '', '8:00:00 AM', 'Company Work', 'Mac Workstation', 'Shared Hotspot', 12.0, 'Yes', 'No', 'Ummo', 'Rego', ''], ['2021-02-15 00:00:00', 'Zack', '79323073', '1:23:00 PM', 'Academic Work', 'PC Workstation', 'Shared Hotspot', 3.6166666666666667, 'Yes', 'Yes', 'Freelancer', 'Towindo', ''], ['2021-02-15 00:00:00', 'José', '', '8:00:00 AM', 'Company Work', 'Mac Workstation', 'Shared Hotspot', 12.0, 'Yes', 'No', 'Ummo', 'Rego', ''], ['2021-02-16 00:00:00', 'Zack', '793223073', '9:30:00 AM', 'Coding', 'PC Workstation', 'Shared Hotspot', 13.0, 'Yes', 'Yes', 'Freelancer', 'Towindo', ''], ['2021-02-16 00:00:00', 'José', '', '8:00:00 AM', 'Company Work', 'Mac Workstation', 'Shared Hotspot', 12.0, 'Yes', 'No', 'Ummo', 'Rego', ''], ['2021-02-18 00:00:00', 'José', '', '8:00:00 AM', 'Company Work', 'Mac Workstation', 'Shared Hotspot', 12.0, 'Yes', 'No', 'Ummo', 'Rego', ''], ['2021-02-18 00:00:00', 'Zack', '79323073', '2:01:00 PM', 'Academic Work', 'PC Workstation', 'Shared Hotspot', 2.9833333333333334, 'Yes', 'Yes', 'Freelancer', 'Towindo', ''], ['2021-02-19 00:00:00', 'Mzwandile', '', '3:00:00 PM', 'Company Work', 'Mac Workstation, Audio Box', 'Shared Hotspot', 4.0, 'Yes', 'No', 'Kingdom XLR', 'Nxumalo', ''], ['2021-02-21 00:00:00', 'José', '', '8:00:00 AM', 'Company Work', 'Mac Workstation', 'Shared Hotspot', 12.0, 'Yes', 'No', 'Ummo', 'Rego', ''], ['2021-02-21 00:00:00', 'Kwanele', '78158606', '3:40:00 PM', 'Content & Creativity', 'Mac Workstation', 'Shared Hotspot', 3.8833333333333333, 'Yes', 'Yes', 'Vundzisa', 'Tsabedze', ''], ['2021-02-21 00:00:00', 'Mzwandile', '76933667', '3:47:00 PM', 'Content & Creativity', 'Mac Workstation', 'Shared Hotspot', 3.816666666666667, 'Yes', 'No', 'Kingdom XLR', 'Nxumalo', ''], ['2021-02-22 00:00:00', 'José', '', '8:00:00 AM', 'Company Work', 'Mac Workstation', 'Shared Hotspot', 12.0, 'Yes', 'No', 'Ummo', 'Rego', ''], ['2021-02-22 00:00:00', 'Sabelo', '76871675', '11:30:00 AM', 'Company Work', 'PC Workstation', 'Shared Hotspot', 5.5, 'Yes', 'Yes', 'SV Tech', 'Vilakati', ''], ['2021-02-22 00:00:00', 'Zack', '79323073', '1:00:00 PM', 'Academic Work', 'PC Workstation', 'Shared Hotspot', 4.0, 'Yes', 'Yes', 'Freelancer', 'Towindo', ''], ['2021-02-22 00:00:00', 'Mzwandile', '76933667', '3:47:00 PM', 'Content & Creativity', 'Mac Workstation', 'Shared Hotspot', 3.816666666666667, 'Yes', 'No', 'Kingdom XLR', 'Nxumalo', ''], ['2021-02-22 00:00:00', 'Kwanele', '78158606', '1:50:00 PM', 'Meeting', 'Mac Workstation', 'Shared Hotspot', 3.1666666666666665, 'Yes', 'Yes', 'Vundzisa', 'Tsabedze', ''], ['2021-02-23 00:00:00', 'Sibusiso', '76038836', '2:00:00 PM', 'Academic Work', 'Brought my own workstation', 'Shared Hotspot', 7.0, 'Yes', 'Yes', 'Freelancer', 'Tsabedze', ''], ['2021-02-23 00:00:00', 'José', '', '8:00:00 AM', 'Company Work', 'Mac Workstation', 'Shared Hotspot', 12.0, 'Yes', 'No', 'Ummo', 'Rego', ''], ['2021-02-23 00:00:00', 'Lungelo', '(+268) 7631 3249', '9:00:00 AM', 'Academic Work', 'Brought my own workstation', 'Shared Hotspot', 9.5, 'Yes', 'Yes', 'Freelancer', 'Mamba', ''], ['2021-02-24 00:00:00', 'Lungelo', '(+268) 7631 3249', '10:00:00 AM', 'Academic Work', 'Brought my own workstation', 'Brought my own internet', 8.0, 'Yes', 'Yes', 'Freelancer', 'Mamba', ''], ['2021-02-24 00:00:00', 'José', '', '8:00:00 AM', 'Company Work', 'Mac Workstation', 'Shared Hotspot', 12.0, 'Yes', 'No', 'Ummo', 'Rego', ''], ['2021-02-24 00:00:00', 'Sibusiso', '76038836', '10:00:00 AM', 'Academic Work', 'Brought my own workstation', 'Shared Hotspot', 8.0, 'Yes', 'Yes', 'Freelancer', 'Tsabedze', ''], ['2021-02-24 00:00:00', 'Zack', '79323073', '1:20:00 AM', 'Academic Work', 'PC Workstation', 'Shared Hotspot', 15.666666666666666, 'Yes', 'Yes', 'Freelancer', 'Towindo', ''], ['2021-02-26 00:00:00', 'José', '', '8:00:00 AM', 'Company Work', 'Mac Workstation', 'Shared Hotspot', 12.0, 'Yes', 'No', 'Ummo', 'Rego', ''], ['2021-02-26 00:00:00', 'Lungelo', '(+268) 7631 3249', '9:00:00 AM', 'Academic Work', 'Brought my own workstation', 'Brought my own internet', 9.0, 'Yes', 'Yes', 'Freelancer', 'Mamba', ''], ['2021-02-26 00:00:00', 'Sibusiso', '76038836', '11:30:00 AM', 'Content & Creativity', 'Brought my own workstation', 'Shared Hotspot', 6.5, 'Yes', 'Yes', 'Freelancer', 'Tsabedze', ''], ['2021-02-26 00:00:00', 'Kwanele', '78258606', '11:30:00 AM', 'Company Work', 'Mac Workstation', 'Shared Hotspot', 6.5, 'Yes', 'Yes', 'Vundzisa', 'Tsabedze', ''], ['2021-02-26 00:00:00', 'Mzwandile', '', '3:30:00 PM', 'Company Work', 'Mac Workstation, Audio Box', 'Shared Hotspot', 3.5, 'Yes', 'No', 'Kingdom XLR', 'Nxumalo', ''], ['2021-02-26 00:00:00', 'Zack', '79323073', '11:59:00 AM', 'Academic Work', 'PC Workstation', 'Shared Hotspot', 5.016666666666667, 'Yes', 'Yes', 'Freelancer', 'Towindo', ''], ['2021-02-27 00:00:00', 'Lungelo', '(+268) 7631 3249', '12:00:00 PM', 'Academic Work', 'Brought my own workstation', 'Brought my own internet', 6.0, 'Yes', 'Yes', 'Freelancer', 'Mamba', ''], ['2021-02-27 00:00:00', 'José', '', '8:00:00 AM', 'Company Work', 'Mac Workstation', 'Shared Hotspot', 12.0, 'Yes', 'No', 'Ummo', 'Rego', ''], ['2021-02-27 00:00:00', 'Mlungisi', '76068779', '12:30:00 PM', 'Academic Work', 'Brought my own workstation', 'Brought my own internet', 3.5, 'No', 'Yes', 'Freelancer', 'Shongwe', ''], ['2021-02-27 00:00:00', 'Kwanele', '78158606', '12:00:00 AM', 'Company Work', 'Brought my own workstation', 'Shared Hotspot', 19.0, 'Yes', 'Yes', 'Vundzisa', 'Tsabedze', ''], ['2021-02-28 00:00:00', 'José', '', '8:00:00 AM', 'Company Work', 'Mac Workstation', 'Shared Hotspot', 12.0, 'Yes', 'No', 'Ummo', 'Rego', ''], ['2021-02-28 00:00:00', 'Kwanele', '78158606', '11:40:00 AM', 'Company Work', 'Mac Workstation', 'Shared Hotspot', 5.333333333333333, 'Yes', 'Yes', 'Vundzisa', 'Tsabedze', ''], ['2021-02-28 00:00:00', 'Zack', '79323073', '2:00:00 PM', 'Academic Work', 'PC Workstation', 'Brought my own internet', 3.0, 'Yes', 'Yes', 'Freelancer', 'Towindo', ''], ['2021-03-01 00:00:00', 'José', '', '8:00:00 AM', 'Company Work', 'Mac Workstation', 'Shared Hotspot', 12.0, 'Yes', 'No', 'Ummo', 'Rego', ''], ['2021-03-01 00:00:00', 'Zack', '79323073', '10:00:00 AM', 'Academic Work', 'Mac Workstation', 'Shared Hotspot', 7.0, 'Yes', 'Yes', 'Freelancer', 'Towindo', ''], ['2021-03-01 00:00:00', 'Kwanele', '78158606', '12:20:00 PM', 'Company Work', 'Brought my own workstation', 'Brought my own internet', 6.666666666666667, 'Yes', 'Yes', 'Vundzisa', 'Tsabedze', ''], ['2021-03-03 00:00:00', 'José', '', '8:00:00 AM', 'Company Work', 'Mac Workstation', 'Shared Hotspot', 12.0, 'Yes', 'No', 'Ummo', 'Rego', ''], ['2021-03-03 00:00:00', 'Lungelo', '(+268) 7631 3249', '8:30:00 AM', 'Research', 'Brought my own workstation', 'Brought my own internet', 8.5, 'Yes', 'Yes', 'Freelancer', 'Mamba', ''], ['2021-03-03 00:00:00', 'Mzwandile', '', '3:30:00 PM', 'Company Work', 'Mac Workstation, Audio Box', 'Shared Hotspot', 3.5, 'Yes', 'No', 'Kingdom XLR', 'Nxumalo', ''], ['2021-03-03 00:00:00', 'Sibusiso', '76038836', '5:00:00 PM', 'Academic Work', 'Brought my own workstation', 'Shared Hotspot', 4.0, 'Yes', 'Yes', 'Freelancer', 'Tsabedze', ''], ['2021-03-04 00:00:00', 'José', '', '8:00:00 AM', 'Company Work', 'Mac Workstation', 'Shared Hotspot', 12.0, 'Yes', 'No', 'Ummo', 'Rego', ''], ['2021-03-04 00:00:00', 'Kwanele', '78158606', '1:20:00 PM', 'Company Work', 'Brought my own workstation', 'Shared Hotspot', 4.666666666666667, 'Yes', 'Yes', 'Vundzisa', 'Tsabedze', ''], ['2021-03-04 00:00:00', 'Mzwandile', '', '3:30:00 PM', 'Company Work', 'Mac Workstation, Audio Box', 'Shared Hotspot', 3.5, 'Yes', 'No', 'Kingdom XLR', 'Nxumalo', ''], ['2021-03-05 00:00:00', 'Sabelo', '76871675', '6:00:00 PM', 'Company Work', 'Brought my own workstation', 'Brought my own internet', 1.0, 'Yes', 'Yes', 'SV Tech', 'Vilakati', ''], ['2021-03-05 00:00:00', 'Percy', '78118833', '5:30:00 PM', 'Company Work', 'PC Workstation', 'Shared Hotspot', 0.5, 'Yes', 'No', 'SV Tech', 'Malambe', ''], ['2021-03-05 00:00:00', 'Mano', '76960967', '9:00:00 AM', 'Meeting', 'PC Workstation', 'Shared Hotspot', 1.1666666666666667, 'Yes', 'No', 'Freelancer', 'Mafomisa', ''], ['2021-03-05 00:00:00', 'José', '', '8:00:00 AM', 'Company Work', 'Mac Workstation', 'Shared Hotspot', 12.0, 'Yes', 'No', 'Ummo', 'Rego', ''], ['2021-03-05 00:00:00', 'Lungelo', '(+268) 7631 3249', '11:00:00 AM', 'Meeting', 'Brought my own workstation', 'Brought my own internet', 6.0, 'Yes', 'Yes', 'Freelancer', 'Mamba', ''], ['2021-03-07 00:00:00', 'Kwanele', '78158606', '12:30:00 PM', 'Company Work', 'Brought my own workstation', 'Shared Hotspot', 6.0, 'Yes', 'Yes', 'Vundzisa', 'Tsabedze', ''], ['2021-03-07 00:00:00', 'José', '', '8:00:00 AM', 'Company Work', 'Mac Workstation', 'Shared Hotspot', 12.0, 'Yes', 'No', 'Ummo', 'Rego', ''], ['2021-03-07 00:00:00', 'Mzwandile', '', '3:30:00 PM', 'Company Work', 'Mac Workstation, Audio Box', 'Shared Hotspot', 3.5, 'Yes', 'No', 'Kingdom XLR', 'Nxumalo', ''], ['2021-03-07 00:00:00', 'Kwanele', '78158606', '1:00:00 PM', 'Company Work', 'Brought my own workstation', 'Shared Hotspot', 6.5, 'Yes', 'Yes', 'Vundzisa', 'Tsabedze', ''], ['2021-03-09 00:00:00', 'José', '', '8:00:00 AM', 'Company Work', 'Mac Workstation', 'Shared Hotspot', 12.0, 'Yes', 'No', 'Ummo', 'Rego', ''], ['2021-03-09 00:00:00', 'Kwanele', '78158606', '11:00:00 AM', 'Company Work', 'Brought my own workstation', 'Shared Hotspot', 6.0, 'Yes', 'Yes', 'Vundzisa', 'Tsabedze', ''], ['2021-03-10 00:00:00', 'José', '', '8:00:00 AM', 'Company Work', 'Mac Workstation', 'Shared Hotspot', 12.0, 'Yes', 'No', 'Ummo', 'Rego', ''], ['2021-03-10 00:00:00', 'Sibusiso', '76038836', '5:00:00 PM', 'Research', 'Brought my own workstation', 'Shared Hotspot', 4.0, 'Yes', 'Yes', 'Freelancer', 'Tsabedze', ''], ['2021-03-12 00:00:00', 'Lungelo', '(+268) 7631 3249', '8:00:00 AM', 'Meeting', 'Brought my own workstation', 'Brought my own internet', 9.0, 'Yes', 'Yes', 'Freelancer', 'Mamba', ''], ['2021-03-12 00:00:00', 'José', '', '8:00:00 AM', 'Company Work', 'Mac Workstation', 'Shared Hotspot', 12.0, 'Yes', 'No', 'Ummo', 'Rego', ''], ['2021-03-12 00:00:00', 'Kwanele', '78158606', '1:00:00 PM', 'Company Work', 'Brought my own workstation', 'Shared Hotspot', 5.5, 'Yes', 'Yes', 'Vundzisa', 'Tsabedze', ''], ['2021-03-12 00:00:00', 'Mlungisi', '76068779', '2:20:00 PM', 'Research', 'Brought my own workstation', 'Shared Hotspot', 3.1666666666666665, 'No', 'Yes', 'Freelancer', 'Shongwe', ''], ['2021-03-13 00:00:00', 'José', '', '8:00:00 AM', 'Company Work', 'Mac Workstation', 'Shared Hotspot', 12.0, 'Yes', 'No', 'Ummo', 'Rego', ''], ['2021-03-13 00:00:00', 'Percy', '78118833', '2:30:00 PM', 'Academic Work', 'PC Workstation', 'Shared Hotspot', 1.5, 'Yes', 'No', 'SV Tech', 'Malambe', ''], ['2021-03-15 00:00:00', 'José', '', '8:00:00 AM', 'Company Work', 'Mac Workstation', 'Shared Hotspot', 12.0, 'Yes', 'No', 'Ummo', 'Rego', ''], ['2021-03-15 00:00:00', 'Zack', '79323073', '4:00:00 PM', 'Academic Work', 'Mac Workstation', 'Shared Hotspot', 1.0, 'Yes', 'Yes', 'Freelancer', 'Towindo', ''], ['2021-03-16 00:00:00', 'José', '', '8:00:00 AM', 'Company Work', 'Mac Workstation', 'Shared Hotspot', 12.0, 'Yes', 'No', 'Ummo', 'Rego', ''], ['2021-03-16 00:00:00', 'Kwanele', '78158606', '3:15:00 PM', 'Content & Creativity', 'Brought my own workstation', 'Shared Hotspot', 8.75, 'Yes', 'Yes', 'Vundzisa', 'Tsabedze', ''], ['2021-03-17 00:00:00', 'Sabelo', '76871675', '12:54:00 AM', 'Meeting', 'Projector', 'Brought my own internet', 8.0, 'Yes', 'Yes', 'SV Tech', 'Vilakati', ''], ['2021-03-17 00:00:00', 'Simanga', '78501932', '8:00:00 AM', 'Meeting', 'Mac Workstation', 'Shared Hotspot', 9.0, 'Yes', 'No', 'Freelancer', 'Ntsini', ''], ['2021-03-17 00:00:00', 'Mzwandile', '', '3:30:00 PM', 'Company Work', 'Mac Workstation, Audio Box', 'Shared Hotspot', 3.5, 'Yes', 'No', 'Kingdom XLR', 'Nxumalo', ''], ['2021-03-17 00:00:00', 'Mzwandile', '76933667', '10:03:00 AM', 'Meeting', 'Mac Workstation', 'Shared Hotspot', 7.883333333333334, 'Yes', 'No', 'Kingdom XLR', 'Nxumalo', ''], ['2021-03-17 00:00:00', 'Lungelo', '7631 3249', '9:30:00 AM', 'Meeting', 'Brought my own workstation', 'Brought my own internet', 8.0, 'Yes', 'Yes', 'Freelancer', 'Mamba', ''], ['2021-03-17 00:00:00', 'José', '', '8:00:00 AM', 'Company Work', 'Mac Workstation', 'Shared Hotspot', 12.0, 'Yes', 'No', 'Ummo', 'Rego', ''], ['2021-03-17 00:00:00', 'Kwanele', '7815 8606', '10:30:00 AM', 'Meeting', 'PC Workstation', 'Shared Hotspot', 8.0, 'Yes', 'Yes', 'Vundzisa', 'Tsabedze', ''], ['2021-03-17 00:00:00', 'Bagcinele', '76762919', '8:00:00 AM', 'Company Work', 'Projector', 'Shared Hotspot', 9.0, 'Yes', 'No', 'Kingdom XLR', 'Fakudze', ''], ['2021-03-17 00:00:00', 'Thobeka', '79447808', '9:00:00 AM', 'Research', 'Brought my own workstation', 'Brought my own internet', 4.7, 'Yes', 'No', 'Freelancer', 'Nxumalo', ''], ['2021-03-17 00:00:00', 'Sibusiso', '76038836', '3:00:00 PM', 'Content & Creativity', 'Brought my own workstation', 'Shared Hotspot', 3.0, 'Yes', 'Yes', 'Freelancer', 'Tsabedze', ''], ['2021-03-18 00:00:00', 'Gcinimiyalo', '76342236', '10:00:00 AM', 'Content & Creativity', 'Mac Workstation', 'Shared Hotspot', 6.0, 'Yes', 'No', 'Freelancer', 'Ntuli', ''], ['2021-03-18 00:00:00', 'José', '', '8:00:00 AM', 'Company Work', 'Mac Workstation', 'Shared Hotspot', 12.0, 'Yes', 'No', 'Ummo', 'Rego', ''], ['2021-03-18 00:00:00', 'Mzwandile', '76933667', '1:45:00 PM', 'Company Work', 'Mac Workstation', 'Shared Hotspot', 4.15, 'Yes', 'No', 'Kingdom XLR', 'Nxumalo', ''], ['2021-03-18 00:00:00', 'Kwanele', '78158606', '12:20:00 PM', 'Company Work', 'Mac Workstation', 'Brought my own internet', 6.0, 'Yes', 'Yes', 'Vundzisa', 'Tsabedze', ''], ['2021-03-22 00:00:00', 'José', '', '8:00:00 AM', 'Company Work', 'Mac Workstation', 'Shared Hotspot', 12.0, 'Yes', 'No', 'Ummo', 'Rego', ''], ['2021-03-22 00:00:00', 'Kwanele', '78158606', '12:20:00 PM', 'Company Work', 'Brought my own workstation', 'Shared Hotspot', 5.166666666666667, 'Yes', 'Yes', 'Vundzisa', 'Tsabedze', ''], ['2021-03-23 00:00:00', 'Kwanele', '78158606', '1:30:00 PM', 'Company Work', 'Brought my own workstation', 'Shared Hotspot', 4.0, 'Yes', 'Yes', 'Vundzisa', 'Tsabedze', ''], ['2021-03-23 00:00:00', 'Mzwandile', '', '3:30:00 PM', 'Company Work', 'Mac Workstation, Audio Box', 'Shared Hotspot', 3.5, 'Yes', 'No', 'Kingdom XLR', 'Nxumalo', ''], ['2021-03-23 00:00:00', 'José', '', '8:00:00 AM', 'Company Work', 'Mac Workstation', 'Shared Hotspot', 12.0, 'Yes', 'No', 'Ummo', 'Rego', ''], ['2021-03-23 00:00:00', 'Lungelo', '76313249', '10:00:00 AM', 'Research', 'Brought my own workstation', 'Brought my own internet', 7.0, 'Yes', 'Yes', 'Freelancer', 'Mamba', ''], ['2021-03-23 00:00:00', 'Mlungisi', '76068779', '2:40:00 PM', 'Research', 'Brought my own workstation', 'Shared Hotspot', 2.8333333333333335, 'No', 'Yes', 'Freelancer', 'Shongwe', ''], ['2021-03-25 00:00:00', 'José', '', '8:00:00 AM', 'Company Work', 'Mac Workstation', 'Shared Hotspot', 12.0, 'Yes', 'No', 'Ummo', 'Rego', ''], ['2021-03-25 00:00:00', 'Kwanele', '78158606', '10:40:00 AM', 'Research', 'Brought my own workstation', 'Shared Hotspot', 6.616666666666666, 'Yes', 'Yes', 'Vundzisa', 'Tsabedze', ''], ['2021-03-26 00:00:00', 'Lungelo', '76313249', '9:00:00 AM', 'Meeting', 'Brought my own workstation', 'Brought my own internet', 8.0, 'Yes', 'Yes', 'Freelancer', 'Mamba', ''], ['2021-03-26 00:00:00', 'Fanelesibonge', '78221507', '10:00:00 AM', 'Coding', 'Brought my own workstation', 'Shared Hotspot', 6.0, 'Yes', 'No', 'Freelancer', 'Malaza', ''], ['2021-03-26 00:00:00', 'Zack', '79323073', '1:12:00 PM', 'Academic Work', 'Mac Workstation', 'Shared Hotspot', 3.8, 'Yes', 'Yes', 'Freelancer', 'Towindo', ''], ['2021-03-26 00:00:00', 'Mlungisi', '76068779', '3:20:00 PM', 'Research', 'Brought my own workstation', 'Shared Hotspot', 2.1666666666666665, 'No', 'Yes', 'Freelancer', 'Shongwe', ''], ['2021-03-26 00:00:00', 'José', '', '8:00:00 AM', 'Company Work', 'Mac Workstation', 'Shared Hotspot', 12.0, 'Yes', 'No', 'Ummo', 'Rego', ''], ['2021-03-26 00:00:00', 'Sabelo', '76871675', '10:00:00 AM', 'Meeting', 'Projector', 'Brought my own internet', 6.0, 'Yes', 'Yes', 'SV Tech', 'Vilakati', ''], ['2021-03-26 00:00:00', 'Mlungisi', '76068779', '3:20:00 PM', 'Research', 'Brought my own workstation', 'Shared Hotspot', 2.1666666666666665, 'No', 'Yes', 'Freelancer', 'Shongwe', ''], ['2021-03-26 00:00:00', 'Sibusiso', '76038836', '6:00:00 PM', 'Research', 'Brought my own workstation', 'Brought my own internet', 3.0, 'Yes', 'Yes', 'Freelancer', 'Tsabedze', ''], ['2021-03-26 00:00:00', 'Mzwandile', '76933667', '4:12:00 PM', 'Content & Creativity', 'Mac Workstation', 'Shared Hotspot', 5.233333333333333, 'Yes', 'No', 'Kingdom XLR', 'Nxumalo', ''], ['2021-03-27 00:00:00', 'Mlungisi', '76068779', '3:20:00 PM', 'Research', 'Brought my own workstation', 'Shared Hotspot', 1.8333333333333333, 'No', 'Yes', 'Freelancer', 'Shongwe', ''], ['2021-03-27 00:00:00', 'José', '', '8:00:00 AM', 'Company Work', 'Mac Workstation', 'Shared Hotspot', 12.0, 'Yes', 'No', 'Ummo', 'Rego', ''], ['2021-03-27 00:00:00', 'Kwanele', '78158606', '1:40:00 PM', 'Meeting', 'Brought my own workstation', 'Brought my own internet', 3.3333333333333335, 'Yes', 'Yes', 'Vundzisa', 'Tsabedze', ''], ['2021-03-29 00:00:00', 'Fanelesibonge', '78221507', '11:00:00 AM', 'Coding', 'Brought my own workstation', 'Shared Hotspot', 5.0, 'Yes', 'No', 'Freelancer', 'Malaza', ''], ['2021-03-29 00:00:00', 'José', '', '8:00:00 AM', 'Company Work', 'Mac Workstation', 'Shared Hotspot', 12.0, 'Yes', 'No', 'Ummo', 'Rego', ''], ['2021-03-29 00:00:00', 'Mzwandile', '', '3:30:00 PM', 'Company Work', 'Mac Workstation, Audio Box', 'Shared Hotspot', 3.5, 'Yes', 'No', 'Kingdom XLR', 'Nxumalo', ''], ['2021-03-29 00:00:00', 'Zack', '79323073', '9:30:00 AM', 'Academic Work', 'Mac Workstation', 'Shared Hotspot', 7.5, 'Yes', 'Yes', 'Freelancer', 'Towindo', ''], ['2021-03-30 00:00:00', 'Fanelesibonge', '78221507', '11:00:00 AM', 'Coding', 'Brought my own workstation', 'Shared Hotspot', 5.0, 'Yes', 'No', 'Freelancer', 'Malaza', ''], ['2021-03-03 00:00:00', 'Mzwandile', '', '3:00:00 PM', 'Company Work', 'Mac Workstation, Audio Box', 'Shared Hotspot', 4.0, 'Yes', 'No', 'Kingdom XLR', 'Nxumalo', ''], ['2021-03-30 00:00:00', 'José', '', '8:00:00 AM', 'Company Work', 'Mac Workstation', 'Shared Hotspot', 12.0, 'Yes', 'No', 'Ummo', 'Rego', ''], ['2021-03-31 00:00:00', 'Fanelesibonge', '78221507', '9:45:00 AM', 'Coding', 'Brought my own workstation', 'Shared Hotspot', 5.25, 'Yes', 'No', 'Freelancer', 'Malaza', ''], ['2021-03-31 00:00:00', 'Lungelo', '7631 3249', '9:00:00 AM', 'Research', 'Brought my own workstation', 'Brought my own internet', 8.0, 'Yes', 'Yes', 'Freelancer', 'Mamba', ''], ['2021-03-31 00:00:00', 'Gcinimiyalo', '76342236', '9:48:00 AM', 'Content & Creativity', 'Mac Workstation', 'Shared Hotspot', 7.2, 'Yes', 'No', 'Freelancer', 'Ntuli', ''], ['2021-03-31 00:00:00', 'José', '', '8:00:00 AM', 'Company Work', 'Mac Workstation', 'Shared Hotspot', 12.0, 'Yes', 'No', 'Ummo', 'Rego', ''], ['2021-03-31 00:00:00', 'Sabelo', '76971686', '10:00:00 AM', 'Company Work', 'Brought my own workstation', 'Brought my own internet', 7.0, 'Yes', 'Yes', 'SV Tech', 'Vilakati', ''], ['2021-03-31 00:00:00', 'Mlungisi', '76068779', '2:20:00 PM', 'Research', 'Brought my own workstation', 'Shared Hotspot', 3.1666666666666665, 'No', 'Yes', 'Freelancer', 'Shongwe', ''], ['2021-04-01 00:00:00', 'Fanelesibonge', '78221507', '9:45:00 AM', 'Coding', 'Brought my own workstation', 'Shared Hotspot', 5.25, 'Yes', 'No', 'Freelancer', 'Malaza', ''], ['2021-04-01 00:00:00', 'Bagcinele', '76762919', '9:00:00 AM', 'Content & Creativity', 'Camera', 'Shared Hotspot', 9.0, 'Yes', 'No', 'Kingdom XLR', 'Fakudze', ''], ['2021-04-01 00:00:00', 'Percy', '78118833', '8:30:00 AM', 'Company Work', 'Brought my own workstation', 'Shared Hotspot', 3.0, 'Yes', 'No', 'SV Tech', 'Malambe', ''], ['2021-04-01 00:00:00', 'José', '', '8:00:00 AM', 'Company Work', 'Mac Workstation', 'Shared Hotspot', 12.0, 'Yes', 'No', 'Ummo', 'Rego', ''], ['2021-04-01 00:00:00', 'Lungelo', '7631 3249', '10:00:00 AM', 'Research', 'Brought my own workstation', 'Brought my own internet', 7.0, 'Yes', 'Yes', 'Freelancer', 'Mamba', ''], ['2021-04-01 00:00:00', 'Sabelo', '76871675', '10:00:00 AM', 'Company Work', 'Brought my own workstation', 'Shared Hotspot', 7.0, 'Yes', 'Yes', 'SV Tech', 'Vilakati', ''], ['2021-04-01 00:00:00', 'Mlungisi', '76068779', '11:20:00 AM', 'Research', 'Brought my own workstation', 'Shared Hotspot', 6.166666666666667, 'No', 'Yes', 'Freelancer', 'Shongwe', ''], ['2021-04-01 00:00:00', 'Gcinimiyalo', '76342236', '2:30:00 PM', 'Content & Creativity', 'Camera', 'Shared Hotspot', 2.5, 'Yes', 'No', 'Freelancer', 'Ntuli', ''], ['2021-04-01 00:00:00', 'Zack', '79323073', '12:00:00 AM', 'Academic Work', 'Mac Workstation', 'Shared Hotspot', 17.0, 'Yes', 'Yes', 'Freelancer', 'Towindo', ''], ['2021-04-02 00:00:00', 'José', '', '8:00:00 AM', 'Company Work', 'Mac Workstation', 'Shared Hotspot', 12.0, 'Yes', 'No', 'Ummo', 'Rego', ''], ['2021-04-02 00:00:00', 'Gcinimiyalo', '76342236', '12:30:00 PM', 'Content & Creativity', 'Mac Workstation', 'Shared Hotspot', 7.5, 'Yes', 'No', 'Freelancer', 'Ntuli', ''], ['2021-04-04 00:00:00', 'José', '', '8:00:00 AM', 'Company Work', 'Mac Workstation', 'Shared Hotspot', 12.0, 'Yes', 'No', 'Ummo', 'Rego', ''], ['2021-04-04 00:00:00', 'Gcinimiyalo', '76342236', '2:15:00 PM', 'Content & Creativity', 'Mac Workstation', 'Shared Hotspot', 2.75, 'Yes', 'No', 'Freelancer', 'Ntuli', ''], ['2021-04-06 00:00:00', 'Gcinimiyalo', '76342236', '5:30:00 AM', 'Content & Creativity', 'Mac Workstation', 'Shared Hotspot', 5.0, 'Yes', 'No', 'Freelancer', 'Ntuli', ''], ['2021-04-06 00:00:00', 'José', '', '8:00:00 AM', 'Company Work', 'Mac Workstation', 'Shared Hotspot', 12.0, 'Yes', 'No', 'Ummo', 'Rego', ''], ['2021-04-06 00:00:00', 'Zack', '79323047', '9:30:00 AM', 'Academic Work', 'Mac Workstation', 'Brought my own internet', 7.5, 'Yes', 'Yes', 'Freelancer', 'Towindo', ''], ['2021-04-06 00:00:00', 'Kwanele', '78158606', '2:30:00 PM', 'Company Work', 'Brought my own workstation', 'Shared Hotspot', 3.5, 'Yes', 'Yes', 'Vundzisa', 'Tsabedze', ''], ['2021-04-07 00:00:00', 'Bagcinele', '76762919', '9:00:00 AM', 'Company Work', 'Mac Workstation', 'Shared Hotspot', 9.0, 'Yes', 'No', 'Kingdom XLR', 'Fakudze', ''], ['2021-04-07 00:00:00', 'José', '', '8:00:00 AM', 'Company Work', 'Mac Workstation', 'Shared Hotspot', 12.0, 'Yes', 'No', 'Ummo', 'Rego', ''], ['2021-04-07 00:00:00', 'Lungelo', '76313249', '9:00:00 AM', 'Research', 'Brought my own workstation', 'Brought my own internet', 8.0, 'Yes', 'Yes', 'Freelancer', 'Mamba', ''], ['2021-04-08 00:00:00', 'Sabelo', '76871675', '7:00:00 AM', 'Company Work', 'Brought my own workstation', 'Brought my own internet', 10.0, 'Yes', 'Yes', 'SV Tech', 'Vilakati', ''], ['2021-04-08 00:00:00', 'Sikhulile', '79384734', '11:30:00 AM', 'Content & Creativity', 'Brought my own workstation', 'Shared Hotspot', 6.0, 'Yes', 'No', 'Kingdom XLR', 'Zwane', ''], ['2021-04-08 00:00:00', 'José', '', '8:00:00 AM', 'Company Work', 'Mac Workstation', 'Shared Hotspot', 12.0, 'Yes', 'No', 'Ummo', 'Rego', ''], ['2021-04-08 00:00:00', 'Lungelo', '76313249', '9:00:00 AM', 'Research', 'Brought my own workstation', 'Brought my own internet', 8.0, 'Yes', 'Yes', 'Freelancer', 'Mamba', ''], ['2021-04-08 00:00:00', 'Simanga', '78591932', '6:00:00 AM', 'Content & Creativity', 'Mac Workstation', 'Shared Hotspot', 12.0, 'Yes', 'No', 'Freelancer', 'Ntsini', ''], ['2021-04-11 00:00:00', 'José', '', '8:00:00 AM', 'Company Work', 'Mac Workstation', 'Shared Hotspot', 12.0, 'Yes', 'No', 'Ummo', 'Rego', ''], ['2021-04-11 00:00:00', 'Ncobile', '76895066', '9:35:00 AM', 'Meeting', 'Brought my own workstation', 'Shared Hotspot', 1.4166666666666667, 'No', 'Yes', 'Freelancer', 'TBA', ''], ['2021-04-12 00:00:00', 'Lungelo', '76313249', '9:00:00 AM', 'Meeting', 'Brought my own workstation', 'Brought my own internet', 8.0, 'Yes', 'Yes', 'Freelancer', 'Mamba', ''], ['2021-04-12 00:00:00', 'Sabelo', '76871675', '10:00:00 AM', 'Company Work', 'Brought my own workstation', 'Shared Hotspot', 4.0, 'Yes', 'Yes', 'SV Tech', 'Vilakati', ''], ['2021-04-12 00:00:00', 'José', '', '8:00:00 AM', 'Company Work', 'Mac Workstation', 'Shared Hotspot', 12.0, 'Yes', 'No', 'Ummo', 'Rego', ''], ['2021-04-12 00:00:00', 'Kwanele', '76871675', '10:00:00 AM', 'Company Work', 'Brought my own workstation', 'Brought my own internet', 8.0, 'Yes', 'Yes', 'Vundzisa', 'Tsabedze', ''], ['2021-04-12 00:00:00', 'Mlungisi', '76068779', '3:20:00 PM', 'Research', 'PC Workstation', 'Shared Hotspot', 1.4166666666666667, 'No', 'Yes', 'Freelancer', 'Shongwe', ''], ['2021-04-13 00:00:00', 'Bagcinele', '76762919', '10:00:00 AM', 'Company Work', 'Camera', 'Shared Hotspot', 8.0, 'Yes', 'No', 'Kingdom XLR', 'Fakudze', ''], ['2021-04-13 00:00:00', 'José', '', '8:00:00 AM', 'Company Work', 'Mac Workstation', 'Shared Hotspot', 12.0, 'Yes', 'No', 'Ummo', 'Rego', ''], ['2021-04-13 00:00:00', 'Lungelo', '76313249', '9:00:00 AM', 'Research', 'Brought my own workstation', 'Brought my own internet', 8.0, 'Yes', 'Yes', 'Freelancer', 'Mamba', ''], ['2021-04-14 00:00:00', 'Fanelesibonge', '78221507', '10:30:00 AM', 'Company Work', 'Brought my own workstation', 'Shared Hotspot', 6.0, 'Yes', 'No', 'Freelancer', 'Malaza', ''], ['2021-04-14 00:00:00', 'Sikhulile', '79384734', '10:00:00 AM', 'Content & Creativity', 'Brought my own workstation', 'Shared Hotspot', 7.5, 'Yes', 'No', 'Kingdom XLR', 'Zwane', ''], ['2021-04-14 00:00:00', 'José', '', '8:00:00 AM', 'Company Work', 'Mac Workstation', 'Shared Hotspot', 12.0, 'Yes', 'No', 'Ummo', 'Rego', ''], ['2021-04-14 00:00:00', 'Bagcinele', '76762919', '9:00:00 AM', 'Company Work', 'Camera', 'Shared Hotspot', 9.0, 'Yes', 'No', 'Kingdom XLR', 'Fakudze', ''], ['2021-04-14 00:00:00', 'Mzwandile', '', '3:30:00 PM', 'Company Work', 'Mac Workstation, Audio Box', 'Shared Hotspot', 3.5, 'Yes', 'No', 'Kingdom XLR', 'Nxumalo', ''], ['2021-04-14 00:00:00', 'Zack', '79323073', '10:00:00 AM', 'Academic Work', 'Mac Workstation', 'Shared Hotspot', 0.9833333333333333, 'Yes', 'Yes', 'Freelancer', 'Towindo', ''], ['2021-04-14 00:00:00', 'Sibusiso', '76038836', '5:00:00 PM', 'Research', 'Brought my own workstation', 'Brought my own internet', 1.0, 'Yes', 'Yes', 'Freelancer', 'Tsabedze', ''], ['2021-04-15 00:00:00', 'José', '', '8:00:00 AM', 'Company Work', 'Mac Workstation', 'Shared Hotspot', 12.0, 'Yes', 'No', 'Ummo', 'Rego', ''], ['2021-04-15 00:00:00', 'Fanelesibonge', '78221507', '10:15:00 AM', 'Company Work', 'Brought my own workstation', 'Shared Hotspot', 4.75, 'Yes', 'No', 'Freelancer', 'Malaza', ''], ['2021-04-15 00:00:00', 'Gcinimiyalo', '76342236', '11:30:00 AM', 'Content & Creativity', 'Mac Workstation', 'Shared Hotspot', 2.5, 'Yes', 'No', 'Freelancer', 'Ntuli', ''], ['2021-04-16 00:00:00', 'Nosifiso', '76277871', '6:15:00 PM', 'Content & Creativity', 'Camera', 'Shared Hotspot', 1.25, 'Yes', 'Yes', 'Freelancer', 'Mamba', ''], ['2021-04-16 00:00:00', 'José', '', '8:00:00 AM', 'Company Work', 'Mac Workstation', 'Shared Hotspot', 12.0, 'Yes', 'No', 'Ummo', 'Rego', ''], ['2021-04-16 00:00:00', 'Kwanele', '78158606', '1:30:00 PM', 'Company Work', 'Brought my own workstation', 'Shared Hotspot', 5.75, 'Yes', 'Yes', 'Vundzisa', 'Tsabedze', ''], ['2021-04-17 00:00:00', 'Kwanele', '78158606', '1:30:00 PM', 'Company Work', 'Brought my own workstation', 'Shared Hotspot', 5.75, 'Yes', 'Yes', 'Vundzisa', 'Tsabedze', ''], ['2021-04-17 00:00:00', 'Kwanele', '78158606', '12:10:00 PM', 'Company Work', 'Brought my own workstation', 'Shared Hotspot', 6.833333333333333, 'Yes', 'Yes', 'Vundzisa', 'Tsabedze', ''], ['2021-04-17 00:00:00', 'Simanga', '78501932', '6:00:00 AM', 'Content & Creativity', 'Mac Workstation', 'Shared Hotspot', 12.0, 'Yes', 'No', 'Freelancer', 'Ntsini', ''], ['2021-04-17 00:00:00', 'José', '', '8:00:00 AM', 'Company Work', 'Mac Workstation', 'Shared Hotspot', 12.0, 'Yes', 'No', 'Ummo', 'Rego', ''], ['2021-04-17 00:00:00', 'Mzwandile', '76933667', '1:26:00 PM', 'Company Work', 'Brought my own workstation', 'Shared Hotspot', 8.433333333333334, 'Yes', 'No', 'Kingdom XLR', 'Nxumalo', ''], ['2021-04-17 00:00:00', 'Thobeka', '78308314', '12:00:00 AM', 'Research', 'Brought my own workstation', 'Shared Hotspot', 17.0, 'Yes', 'No', 'Freelancer', 'Nxumalo', ''], ['2021-04-17 00:00:00', 'Mlungisi', '76068779', '4:00:00 PM', 'Research', 'PC Workstation', 'Shared Hotspot', 2.0, 'No', 'Yes', 'Freelancer', 'Shongwe', ''], ['2021-04-19 00:00:00', 'Kwanele', '78158606', '12:10:00 PM', 'Company Work', 'Brought my own workstation', 'Shared Hotspot', 6.833333333333333, 'Yes', 'Yes', 'Vundzisa', 'Tsabedze', ''], ['2021-04-19 00:00:00', 'Thobeka', '78308314', '11:00:00 PM', 'Research', 'Brought my own workstation', 'Shared Hotspot', 16.0, 'Yes', 'No', 'Freelancer', 'Nxumalo', ''], ['2021-04-19 00:00:00', 'José', '', '8:00:00 AM', 'Company Work', 'Mac Workstation', 'Shared Hotspot', 12.0, 'Yes', 'No', 'Ummo', 'Rego', ''], ['2021-04-19 00:00:00', 'Kwanele', '7815 8606', '11:30:00 AM', 'Company Work', 'Brought my own workstation', 'Shared Hotspot', 4.5, 'Yes', 'Yes', 'Vundzisa', 'Tsabedze', ''], ['2021-04-19 00:00:00', 'Thobeka', '78308314', '12:30:00 AM', 'Research', 'Brought my own workstation', 'Shared Hotspot', 16.5, 'Yes', 'No', 'Freelancer', 'Nxumalo', ''], ['2021-04-19 00:00:00', 'Fanelesibonge', '78221507', '10:45:00 AM', 'Company Work', 'Brought my own workstation', 'Shared Hotspot', 5.25, 'Yes', 'No', 'Freelancer', 'Malaza', ''], ['2021-04-20 00:00:00', 'Fanelesibonge', '78221507', '7:30:00 AM', 'Company Work', 'Brought my own workstation', 'Shared Hotspot', 9.5, 'Yes', 'No', 'Freelancer', 'Malaza', ''], ['2021-04-20 00:00:00', 'Mzwandile', '76933667', '10:47:00 AM', 'Company Work', 'Mac Workstation', 'Shared Hotspot', 9.4, 'Yes', 'No', 'Kingdom XLR', 'Nxumalo', ''], ['2021-04-20 00:00:00', 'Lungelo', '76313249', '8:00:00 AM', 'Research', 'Brought my own workstation', 'Brought my own internet', 9.0, 'Yes', 'Yes', 'Freelancer', 'Mamba', ''], ['2021-04-20 00:00:00', 'José', '', '8:00:00 AM', 'Company Work', 'Mac Workstation', 'Shared Hotspot', 12.0, 'Yes', 'No', 'Ummo', 'Rego', ''], ['2021-04-20 00:00:00', 'Bagcinele', '76762919', '9:00:00 AM', 'Company Work', 'Mac Workstation', 'Shared Hotspot', 9.0, 'Yes', 'No', 'Kingdom XLR', 'Fakudze', ''], ['2021-04-20 00:00:00', 'Gcinimiyalo', '76342236', '7:45:00 PM', 'Content & Creativity', 'Mac Workstation', 'Shared Hotspot', 19.75, 'Yes', 'No', 'Freelancer', 'Ntuli', ''], ['2021-04-20 00:00:00', 'Thobeka', '78308314', '8:30:00 PM', 'Research', 'Brought my own workstation', 'Shared Hotspot', 13.5, 'Yes', 'No', 'Freelancer', 'Nxumalo', ''], ['2021-04-20 00:00:00', 'Fanelesibonge', '78221507', '4:00:00 PM', 'Coding', 'Brought my own workstation', 'Shared Hotspot', 9.0, 'Yes', 'No', 'Freelancer', 'Malaza', ''], ['2021-04-21 00:00:00', 'Fanelesibonge', '78221507', '7:00:00 AM', 'Company Work', 'Brought my own workstation', 'Shared Hotspot', 9.0, 'Yes', 'No', 'Freelancer', 'Malaza', ''], ['2021-04-21 00:00:00', 'Lihle', '76842960', '10:00:00 AM', 'Research', 'Brought my own workstation', 'Brought my own internet', 1.75, 'Yes', 'Yes', 'Freelancer', 'Dlamini', ''], ['2021-04-21 00:00:00', 'Thobeka', '78308314', '8:00:00 AM', 'Research', 'Brought my own workstation', 'Shared Hotspot', 6.0, 'Yes', 'No', 'Freelancer', 'Nxumalo', ''], ['2021-04-21 00:00:00', 'José', '', '8:00:00 AM', 'Company Work', 'Mac Workstation', 'Shared Hotspot', 12.0, 'Yes', 'No', 'Ummo', 'Rego', ''], ['2021-04-21 00:00:00', 'Mzwandile', '27634061158', '2:12:00 PM', 'Company Work', 'Mac Workstation', 'Shared Hotspot', 5.55, 'Yes', 'No', 'Kingdom XLR', 'Nxumalo', ''], ['2021-04-21 00:00:00', 'Lungelo', '76313249', '8:00:00 AM', 'Research', 'Brought my own workstation', 'Brought my own internet', 9.0, 'Yes', 'Yes', 'Freelancer', 'Mamba', ''], ['2021-04-21 00:00:00', 'Simanga', '78501932', '6:00:00 AM', 'Content & Creativity', 'Mac Workstation', 'Shared Hotspot', 8.0, 'Yes', 'No', 'Freelancer', 'Ntsini', ''], ['2021-04-22 00:00:00', 'Lungelo', '76313249', '9:00:00 AM', 'Research', 'Brought my own workstation', 'Brought my own internet', 8.0, 'Yes', 'Yes', 'Freelancer', 'Mamba', ''], ['2021-04-22 00:00:00', 'Fanelesibonge', '78221507', '12:00:00 AM', 'Coding', 'Brought my own workstation', 'Shared Hotspot', 15.0, 'Yes', 'No', 'Freelancer', 'Malaza', ''], ['2021-04-22 00:00:00', 'José', '', '8:00:00 AM', 'Company Work', 'Mac Workstation', 'Shared Hotspot', 12.0, 'Yes', 'No', 'Ummo', 'Rego', ''], ['2021-04-22 00:00:00', 'Gcinimiyalo', '76342236', '9:40:00 AM', 'Research', 'Brought my own workstation', 'Shared Hotspot', 5.333333333333333, 'Yes', 'No', 'Freelancer', 'Ntuli', ''], ['2021-04-22 00:00:00', 'Mlungisi', '76068779', '2:20:00 PM', 'Research', 'Brought my own workstation', 'Shared Hotspot', 3.1666666666666665, 'No', 'Yes', 'Freelancer', 'Shongwe', ''], ['2021-04-23 00:00:00', 'Fanelesibonge', '78221507', '7:45:00 AM', 'Company Work', 'Brought my own workstation', 'Shared Hotspot', 8.25, 'Yes', 'No', 'Freelancer', 'Malaza', ''], ['2021-04-23 00:00:00', 'José', '', '8:00:00 AM', 'Company Work', 'Mac Workstation', 'Shared Hotspot', 12.0, 'Yes', 'No', 'Ummo', 'Rego', ''], ['2021-04-23 00:00:00', 'Mlungisi', '76068779', '1:42:00 PM', 'Research', 'Brought my own workstation', 'Shared Hotspot', 3.05, 'No', 'Yes', 'Freelancer', 'Shongwe', ''], ['2021-04-23 00:00:00', 'Gcinimiyalo', '76342236', '6:00:00 PM', 'Content & Creativity', 'Mac Workstation', 'Shared Hotspot', 4.0, 'Yes', 'No', 'Freelancer', 'Ntuli', ''], ['2021-04-24 00:00:00', 'Thobeka', '78308314', '1:00:00 PM', 'Research', 'Brought my own workstation', 'Shared Hotspot', 4.0, 'Yes', 'No', 'Freelancer', 'Nxumalo', ''], ['2021-04-24 00:00:00', 'José', '', '8:00:00 AM', 'Company Work', 'Mac Workstation', 'Shared Hotspot', 12.0, 'Yes', 'No', 'Ummo', 'Rego', ''], ['2021-04-24 00:00:00', 'Fanelesibonge', '78221507', '9:20:00 AM', 'Coding', 'Brought my own workstation', 'Shared Hotspot', 5.666666666666667, 'Yes', 'No', 'Freelancer', 'Malaza', ''], ['2021-04-24 00:00:00', 'Gcinimiyalo', '76342236', '12:00:00 AM', 'Content & Creativity', 'Mac Workstation', 'Shared Hotspot', 14.0, 'Yes', 'No', 'Freelancer', 'Ntuli', ''], ['2021-04-24 00:00:00', 'Kwanele', '+268 7815 8606', '9:10:00 AM', 'Company Work', 'PC Workstation', 'Shared Hotspot', 7.833333333333333, 'Yes', 'Yes', 'Vundzisa', 'Tsabedze', ''], ['2021-04-27 00:00:00', 'Fanelesibonge', '78221507', '8:00:00 AM', 'Company Work', 'Brought my own workstation', 'Shared Hotspot', 7.5, 'Yes', 'No', 'Freelancer', 'Malaza', ''], ['2021-04-27 00:00:00', 'Kwanele', '78158606', '11:11:00 AM', 'Company Work', 'Brought my own workstation', 'Shared Hotspot', 5.816666666666666, 'Yes', 'Yes', 'Vundzisa', 'Tsabedze', ''], ['2021-04-27 00:00:00', 'Bagcinele', '76762919', '9:00:00 AM', 'Company Work', 'Mac Workstation', 'Shared Hotspot', 6.0, 'Yes', 'No', 'Kingdom XLR', 'Fakudze', ''], ['2021-04-27 00:00:00', 'Gcinimiyalo', '76342236', '1:00:00 PM', 'Content & Creativity', 'Mac Workstation', 'Shared Hotspot', 4.0, 'Yes', 'No', 'Freelancer', 'Ntuli', ''], ['2021-04-27 00:00:00', 'Thobeka', '78308314', '10:00:00 AM', 'Research', 'Brought my own workstation', 'Shared Hotspot', 7.0, 'Yes', 'No', 'Freelancer', 'Nxumalo', ''], ['2021-04-27 00:00:00', 'José', '', '8:00:00 AM', 'Company Work', 'Mac Workstation', 'Shared Hotspot', 12.0, 'Yes', 'No', 'Ummo', 'Rego', ''], ['2021-04-27 00:00:00', 'Lungelo', '7631 3249', '8:30:00 AM', 'Coding', 'Brought my own workstation', 'Brought my own internet', 8.5, 'Yes', 'Yes', 'Freelancer', 'Mamba', ''], ['2021-04-27 00:00:00', 'Nomalungelo', '76540168', '6:00:00 PM', 'Content & Creativity', 'Camera', 'Shared Hotspot', 8.0, 'Yes', 'No', 'Kingdom XLR', 'Dladla', ''], ['2021-04-28 00:00:00', 'Thobeka', '78308314', '6:00:00 PM', 'Research', 'Brought my own workstation', 'Shared Hotspot', 1.0, 'Yes', 'No', 'Freelancer', 'Nxumalo', ''], ['2021-04-28 00:00:00', 'José', '', '8:00:00 AM', 'Company Work', 'Mac Workstation', 'Shared Hotspot', 12.0, 'Yes', 'No', 'Ummo', 'Rego', ''], ['2021-04-28 00:00:00', 'Sebenzile', '76956390', '11:00:00 AM', 'Academic Work', 'Brought my own workstation', 'Brought my own internet', 2.0, 'No', '', '', '', ''], ['2021-04-28 00:00:00', 'Nomalungelo', '76540168', '2:00:00 PM', 'Content & Creativity', 'PC Workstation', 'Shared Hotspot', 1.5, 'Yes', 'No', 'Kingdom XLR', 'Dladla', ''], ['2021-04-28 00:00:00', 'Gcinimiyalo', '76342236', '3:15:00 PM', 'Content & Creativity', 'Mac Workstation', 'Shared Hotspot', 1.75, 'Yes', 'No', 'Freelancer', 'Ntuli', ''], ['2021-04-28 00:00:00', 'Mlungisi', '76068779', '3:15:00 PM', 'Research', 'PC Workstation', 'Shared Hotspot', 2.25, 'No', 'Yes', 'Freelancer', 'Shongwe', ''], ['2021-04-28 00:00:00', 'Mzwandile', '27634061158', '2:15:00 PM', 'Content & Creativity', 'Mac Workstation', 'Shared Hotspot', 7.75, 'Yes', 'No', 'Kingdom XLR', 'Nxumalo', ''], ['2021-04-29 00:00:00', 'Fanelesibonge', '78221507', '12:00:00 AM', 'Company Work', 'Brought my own workstation', 'Shared Hotspot', 15.0, 'Yes', 'No', 'Freelancer', 'Malaza', ''], ['2021-04-29 00:00:00', 'Nombuso', '78229280', '9:00:00 AM', 'Company Work', 'Brought my own workstation', 'Shared Hotspot', 8.0, 'Yes', 'Yes', 'SV Tech', 'Hlophe', ''], ['2021-04-29 00:00:00', 'José', '', '8:00:00 AM', 'Company Work', 'Mac Workstation', 'Shared Hotspot', 12.0, 'Yes', 'No', 'Ummo', 'Rego', ''], ['2021-04-29 00:00:00', 'Lwazi', '78149055', '9:29:00 AM', 'Company Work', 'PC Workstation', 'Shared Hotspot', 6.516666666666667, 'Yes', 'Yes', 'SV Tech', 'Dlamini', ''], ['2021-04-29 00:00:00', 'Sabelo', '76871675', '8:30:00 AM', 'Company Work', 'Brought my own workstation', 'Brought my own internet', 8.5, 'Yes', 'Yes', 'SV Tech', 'Vilakati', ''], ['2021-04-29 00:00:00', 'Mlungisi', '76068779', '3:25:00 PM', 'Research', 'PC Workstation', 'Shared Hotspot', 2.0833333333333335, 'No', 'Yes', 'Freelancer', 'Shongwe', ''], ['2021-04-30 00:00:00', 'Nombuso', '78229280', '9:00:00 AM', 'Company Work', 'Brought my own workstation', 'Shared Hotspot', 8.0, 'Yes', 'Yes', 'SV Tech', 'Hlophe', ''], ['2021-04-30 00:00:00', 'Mzwandile', '', '3:30:00 PM', 'Company Work', 'Mac Workstation, Audio Box', 'Shared Hotspot', 3.5, 'Yes', 'No', 'Kingdom XLR', 'Nxumalo', ''], ['2021-04-30 00:00:00', 'Simanga', '78501832', '6:00:00 AM', 'Content & Creativity', 'Mac Workstation', 'Shared Hotspot', 12.0, 'Yes', 'No', 'Freelancer', 'Ntsini', ''], ['2021-04-30 00:00:00', 'Mzwandile', '27634061158', '12:51:00 PM', 'Company Work', 'Mac Workstation', 'Shared Hotspot', 6.9, 'Yes', 'No', 'Kingdom XLR', 'Nxumalo', ''], ['2021-04-30 00:00:00', 'Sabelo', '76871675', '9:00:00 AM', 'Company Work', 'Brought my own workstation', 'Brought my own internet', 8.0, 'Yes', 'Yes', 'SV Tech', 'Vilakati', ''], ['2021-04-30 00:00:00', 'Thobeka', '78308314', '6:00:00 AM', 'Research', 'Brought my own workstation', 'Shared Hotspot', 7.0, 'Yes', 'No', 'Freelancer', 'Nxumalo', ''], ['2021-04-30 00:00:00', 'José', '', '8:00:00 AM', 'Company Work', 'Mac Workstation', 'Shared Hotspot', 12.0, 'Yes', 'No', 'Ummo', 'Rego', ''], ['2021-04-30 00:00:00', 'Fanelesibonge', '78221507', '12:00:00 AM', 'Coding', 'Brought my own workstation', 'Shared Hotspot', 14.0, 'Yes', 'No', 'Freelancer', 'Malaza', ''], ['2021-04-30 00:00:00', 'Nomalungelo', '76540168', '10:00:00 AM', 'Company Work', 'Brought my own workstation', 'Shared Hotspot', 5.0, 'Yes', 'No', 'Kingdom XLR', 'Dladla', ''], ['2021-04-30 00:00:00', 'Lwazi', '78149055', '12:00:00 PM', 'Company Work', 'PC Workstation', 'Shared Hotspot', 5.0, 'Yes', 'Yes', 'SV Tech', 'Dlamini', ''], ['2021-04-30 00:00:00', 'Gcinimiyalo', '76342236', '1:30:00 PM', 'Content & Creativity', 'Mac Workstation', 'Shared Hotspot', 3.5, 'Yes', 'No', 'Freelancer', 'Ntuli', ''], ['2021-04-30 00:00:00', 'Lungelo', '7631324', '8:00:00 AM', 'Meeting', 'Brought my own workstation', 'Brought my own internet', 9.0, 'Yes', 'Yes', 'Freelancer', 'Mamba', ''], ['2021-05-03 00:00:00', 'Nombuso', '78229280', '8:30:00 AM', 'Coding', 'PC Workstation', 'Shared Hotspot', 8.5, 'Yes', 'Yes', 'SV Tech', 'Hlophe', ''], ['2021-05-03 00:00:00', 'José', '', '8:00:00 AM', 'Company Work', 'Mac Workstation', 'Shared Hotspot', 12.0, 'Yes', 'No', 'Ummo', 'Rego', ''], ['2021-05-03 00:00:00', 'Zack', '79323073', '10:15:00 AM', 'Academic Work', 'Mac Workstation', 'Shared Hotspot', 7.75, 'Yes', 'Yes', 'Freelancer', 'Towindo', ''], ['2021-05-03 00:00:00', 'Zack', '79323073', '10:15:00 AM', 'Academic Work', 'Mac Workstation', 'Shared Hotspot', 7.75, 'Yes', 'Yes', 'Freelancer', 'Towindo', ''], ['2021-05-04 00:00:00', 'Fanelesibonge', '78221507', '12:00:00 AM', 'Coding', 'Brought my own workstation', 'Shared Hotspot', 23.983333333333334, 'Yes', 'No', 'Freelancer', 'Malaza', ''], ['2021-05-04 00:00:00', 'José', '', '8:00:00 AM', 'Company Work', 'Mac Workstation', 'Shared Hotspot', 12.0, 'Yes', 'No', 'Ummo', 'Rego', ''], ['2021-05-04 00:00:00', 'Nombuso', '78229280', '8:00:00 AM', 'Coding', 'PC Workstation', 'Shared Hotspot', 9.0, 'Yes', 'Yes', 'SV Tech', 'Hlophe', ''], ['2021-05-04 00:00:00', 'Mlungisi', '76068779', '1:12:00 PM', 'Research', 'PC Workstation', 'Shared Hotspot', 4.3, 'No', 'Yes', 'Freelancer', 'Shongwe', ''], ['2021-05-05 00:00:00', 'Nombuso', '78229280', '8:30:00 AM', 'Coding', 'PC Workstation', 'Shared Hotspot', 8.5, 'Yes', 'Yes', 'SV Tech', 'Hlophe', ''], ['2021-05-05 00:00:00', 'Lwazi', '78149055', '9:30:00 AM', 'Academic Work', 'Brought my own workstation', 'Shared Hotspot', 4.5, 'Yes', 'Yes', 'SV Tech', 'Dlamini', ''], ['2021-05-05 00:00:00', 'Sabelo', '76871675', '8:00:00 AM', 'Academic Work', 'Brought my own workstation', 'Brought my own internet', 15.0, 'Yes', 'Yes', 'SV Tech', 'Vilakati', ''], ['2021-05-05 00:00:00', 'José', '', '8:00:00 AM', 'Company Work', 'Mac Workstation', 'Shared Hotspot', 12.0, 'Yes', 'No', 'Ummo', 'Rego', ''], ['2021-05-05 00:00:00', 'Simanga', '78501932', '7:00:00 AM', 'Content & Creativity', 'Camera', 'Shared Hotspot', 10.0, 'Yes', 'No', 'Freelancer', 'Ntsini', ''], ['2021-05-05 00:00:00', 'Mlungisi', '76068779', '2:10:00 PM', 'Research', 'PC Workstation', 'Shared Hotspot', 2.6666666666666665, 'No', 'Yes', 'Freelancer', 'Shongwe', ''], ['2021-05-05 00:00:00', 'Lungelo', '76313249', '8:00:00 AM', 'Research', 'Brought my own workstation', 'Brought my own internet', 9.0, 'Yes', 'Yes', 'Freelancer', 'Mamba', ''], ['2021-05-06 00:00:00', 'José', '', '8:00:00 AM', 'Company Work', 'Mac Workstation', 'Shared Hotspot', 12.0, 'Yes', 'No', 'Ummo', 'Rego', ''], ['2021-05-06 00:00:00', 'Nombuso', '78229280', '8:30:00 AM', 'Coding', 'PC Workstation', 'Shared Hotspot', 3.5, 'Yes', 'Yes', 'SV Tech', 'Hlophe', ''], ['2021-05-06 00:00:00', 'Mlungisi', '76068779', '2:45:00 PM', 'Research', 'PC Workstation', 'Shared Hotspot', 2.75, 'No', 'Yes', 'Freelancer', 'Shongwe', ''], ['2021-05-07 00:00:00', 'Nombuso', '78229280', '8:40:00 AM', 'Coding', 'PC Workstation', 'Shared Hotspot', 8.333333333333334, 'Yes', 'Yes', 'SV Tech', 'Hlophe', ''], ['2021-05-07 00:00:00', 'Lwazi', '78149055', '9:00:00 AM', 'Company Work', 'PC Workstation', 'Shared Hotspot', 6.0, 'Yes', 'Yes', 'SV Tech', 'Dlamini', ''], ['2021-05-07 00:00:00', 'Gcinimiyalo', '76342236', '10:00:00 AM', 'Content & Creativity', 'Mac Workstation', 'Shared Hotspot', 3.0, 'Yes', 'No', 'Freelancer', 'Ntuli', ''], ['2021-05-07 00:00:00', 'José', '', '8:00:00 AM', 'Company Work', 'Mac Workstation', 'Shared Hotspot', 12.0, 'Yes', 'No', 'Ummo', 'Rego', ''], ['2021-05-07 00:00:00', 'Sabelo', '76871675', '8:00:00 AM', 'Company Work', 'Brought my own workstation', 'Brought my own internet', 9.0, 'Yes', 'Yes', 'SV Tech', 'Vilakati', ''], ['2021-05-07 00:00:00', 'Mlungisi', '76068779', '2:30:00 PM', 'Research', 'PC Workstation', 'Shared Hotspot', 3.25, 'No', 'Yes', 'Freelancer', 'Shongwe', ''], ['2021-05-07 00:00:00', 'Lungelo', '76313249', '8:00:00 PM', 'Coding', 'Keyboard', 'Brought my own internet', 3.0, 'Yes', 'Yes', 'Freelancer', 'Mamba', ''], ['2021-05-10 00:00:00', 'Nombuso', '78229280', '8:45:00 AM', 'Research', 'PC Workstation', 'Shared Hotspot', 8.25, 'Yes', 'Yes', 'SV Tech', 'Hlophe', ''], ['2021-05-10 00:00:00', 'Lwazi', '78149055', '9:00:00 AM', 'Company Work', 'PC Workstation', 'Shared Hotspot', 6.0, 'Yes', 'Yes', 'SV Tech', 'Dlamini', ''], ['2021-05-10 00:00:00', 'Gcinimiyalo', '76342236', '12:00:00 AM', 'Content & Creativity', 'Mac Workstation', 'Shared Hotspot', 17.0, 'Yes', 'No', 'Freelancer', 'Ntuli', ''], ['2021-05-10 00:00:00', 'Kwanele', '78158606', '3:15:00 PM', 'Meeting', 'Brought my own workstation', 'Shared Hotspot', 2.75, 'Yes', 'Yes', 'Vundzisa', 'Tsabedze', ''], ['2021-05-10 00:00:00', 'Mlungisi', '76068779', '2:30:00 PM', 'Research', 'PC Workstation', 'Shared Hotspot', 3.0, 'No', 'Yes', 'Freelancer', 'Shongwe', ''], ['2021-05-10 00:00:00', 'Lungelo', '76313249', '8:00:00 AM', 'Research', 'Keyboard', 'Brought my own internet', 9.0, 'Yes', 'Yes', 'Freelancer', 'Mamba', ''], ['2021-05-10 00:00:00', 'Thobeka', '78308314', '6:00:00 AM', 'Research', 'Brought my own workstation', 'Shared Hotspot', 8.0, 'Yes', 'No', 'Freelancer', 'Nxumalo', ''], ['2021-05-10 00:00:00', 'José', '', '8:00:00 AM', 'Company Work', 'Mac Workstation', 'Shared Hotspot', 12.0, 'Yes', 'No', 'Ummo', 'Rego', ''], ['2021-05-10 00:00:00', 'Fanelesibonge', '78221507', '12:00:00 AM', 'Coding', 'Brought my own workstation', 'Shared Hotspot', 23.0, 'Yes', 'No', 'Freelancer', 'Malaza', ''], ['2021-05-11 00:00:00', 'Fanelesibonge', '78221507', '6:00:00 AM', 'Coding', 'Brought my own workstation', 'Shared Hotspot', 17.0, 'Yes', 'No', 'Freelancer', 'Malaza', ''], ['2021-05-11 00:00:00', 'Lwazi', '78149055', '9:30:00 AM', 'Company Work', 'PC Workstation', 'Shared Hotspot', 6.5, 'Yes', 'Yes', 'SV Tech', 'Dlamini', ''], ['2021-05-11 00:00:00', 'Nombuso', '78229280', '11:30:00 AM', 'Company Work', 'PC Workstation', 'Shared Hotspot', 5.5, 'Yes', 'Yes', 'SV Tech', 'Hlophe', ''], ['2021-05-11 00:00:00', 'Bagcinele', '76762919', '9:00:00 AM', 'Company Work', 'Mac Workstation', 'Shared Hotspot', 8.0, 'Yes', 'No', 'Kingdom XLR', 'Fakudze', ''], ['2021-05-11 00:00:00', 'Mlungisi', '76068779', '2:30:00 PM', 'Research', 'PC Workstation', 'Shared Hotspot', 3.0, 'No', 'Yes', 'Freelancer', 'Shongwe', ''], ['2021-05-11 00:00:00', 'Gcinimiyalo', '76342236', '5:45:00 PM', 'Content & Creativity', 'Mac Workstation', 'Shared Hotspot', 1.25, 'Yes', 'No', 'Freelancer', 'Ntuli', ''], ['2021-05-11 00:00:00', 'José', '', '8:00:00 AM', 'Company Work', 'Mac Workstation', 'Shared Hotspot', 12.0, 'Yes', 'No', 'Ummo', 'Rego', ''], ['2021-05-11 00:00:00', 'Mzwandile', '27634061158', '1:27:00 PM', 'Company Work', 'Mac Workstation', 'Shared Hotspot', 6.25, 'Yes', 'No', 'Kingdom XLR', 'Nxumalo', ''], ['2021-05-11 00:00:00', 'Mzwandile', '27634061158', '5:03:00 PM', 'Company Work', 'Mac Workstation', 'Shared Hotspot', 8.45, 'Yes', 'No', 'Kingdom XLR', 'Nxumalo', ''], ['2021-05-11 00:00:00', 'Mzwandile', '27634061158', '2:32:00 PM', 'Company Work', 'Mac Workstation', 'Shared Hotspot', 3.85, 'Yes', 'No', 'Kingdom XLR', 'Nxumalo', ''], ['2021-05-12 00:00:00', 'Fanelesibonge', '78221507', '4:00:00 AM', 'Company Work', 'Brought my own workstation', 'Shared Hotspot', 19.0, 'Yes', 'No', 'Freelancer', 'Malaza', ''], ['2021-05-12 00:00:00', 'José', '', '8:00:00 AM', 'Company Work', 'Mac Workstation', 'Shared Hotspot', 12.0, 'Yes', 'No', 'Ummo', 'Rego', ''], ['2021-05-12 00:00:00', 'Nombuso', '78229280', '8:30:00 AM', 'Coding', 'PC Workstation', 'Shared Hotspot', 3.5, 'Yes', 'Yes', 'SV Tech', 'Hlophe', ''], ['2021-05-12 00:00:00', 'Gcinimiyalo', '76342236', '3:45:00 PM', 'Content & Creativity', 'Mac Workstation', 'Shared Hotspot', 1.25, 'Yes', 'No', 'Freelancer', 'Ntuli', ''], ['2021-05-12 00:00:00', 'Mlungisi', '76068779', '2:30:00 PM', 'Research', 'PC Workstation', 'Shared Hotspot', 3.0, 'No', 'Yes', 'Freelancer', 'Shongwe', ''], ['2021-05-13 00:00:00', 'José', '', '8:00:00 AM', 'Company Work', 'Mac Workstation', 'Shared Hotspot', 12.0, 'Yes', 'No', 'Ummo', 'Rego', ''], ['2021-05-13 00:00:00', 'Mlungisi', '76068779', '2:30:00 PM', 'Research', 'PC Workstation', 'Shared Hotspot', 2.5, 'No', 'Yes', 'Freelancer', 'Shongwe', ''], ['2021-05-14 00:00:00', 'José', '', '8:00:00 AM', 'Company Work', 'Mac Workstation', 'Shared Hotspot', 12.0, 'Yes', 'No', 'Ummo', 'Rego', ''], ['2021-05-14 00:00:00', 'Lwazi', '78149055', '10:00:00 AM', 'Company Work', 'PC Workstation', 'Shared Hotspot', 7.0, 'Yes', 'Yes', 'SV Tech', 'Dlamini', ''], ['2021-05-16 00:00:00', 'José', '', '8:00:00 AM', 'Company Work', 'Mac Workstation', 'Shared Hotspot', 12.0, 'Yes', 'No', 'Ummo', 'Rego', ''], ['2021-05-16 00:00:00', 'Gcinimiyalo', '76342236', '8:15:00 AM', 'Content & Creativity', 'Mac Workstation', 'Shared Hotspot', 8.75, 'Yes', 'No', 'Freelancer', 'Ntuli', ''], ['2021-05-17 00:00:00', 'Nombuso', '78229280', '8:45:00 AM', 'Content & Creativity', 'PC Workstation', 'Shared Hotspot', 3.75, 'Yes', 'Yes', 'SV Tech', 'Hlophe', ''], ['2021-05-17 00:00:00', 'José', '', '8:00:00 AM', 'Company Work', 'Mac Workstation', 'Shared Hotspot', 12.0, 'Yes', 'No', 'Ummo', 'Rego', ''], ['2021-05-17 00:00:00', 'Lwazi', '78149055', '10:00:00 AM', 'Company Work', 'Brought my own workstation', 'Shared Hotspot', 6.0, 'Yes', 'Yes', 'SV Tech', 'Dlamini', ''], ['2021-05-17 00:00:00', 'Mlungisi', '76068779', '1:00:00 PM', 'Research', 'PC Workstation', 'Shared Hotspot', 5.0, 'No', 'Yes', 'Freelancer', 'Shongwe', ''], ['2021-05-17 00:00:00', 'José', '', '8:00:00 AM', 'Company Work', 'Mac Workstation', 'Shared Hotspot', 12.0, 'Yes', 'No', 'Ummo', 'Rego', ''], ['2021-05-18 00:00:00', 'Nombuso', '78229280', '8:45:00 AM', 'Company Work', 'PC Workstation', 'Shared Hotspot', 8.25, 'Yes', 'Yes', 'SV Tech', 'Hlophe', ''], ['2021-05-18 00:00:00', 'José', '', '8:00:00 AM', 'Company Work', 'Mac Workstation', 'Shared Hotspot', 12.0, 'Yes', 'No', 'Ummo', 'Rego', ''], ['2021-05-18 00:00:00', 'Gcinimiyalo', '76342236', '7:00:00 AM', 'Content & Creativity', 'Mac Workstation', 'Shared Hotspot', 10.0, 'Yes', 'No', 'Freelancer', 'Ntuli', ''], ['2021-05-18 00:00:00', 'Mlungisi', '76068779', '1:30:00 PM', 'Research', 'PC Workstation', 'Shared Hotspot', 4.333333333333333, 'No', 'Yes', 'Freelancer', 'Shongwe', ''], ['2021-05-19 00:00:00', 'José', '', '8:00:00 AM', 'Company Work', 'Mac Workstation', 'Shared Hotspot', 12.0, 'Yes', 'No', 'Ummo', 'Rego', ''], ['2021-05-19 00:00:00', 'Nombuso', '78229280', '8:45:00 AM', 'Coding', 'PC Workstation', 'Shared Hotspot', 8.25, 'Yes', 'Yes', 'SV Tech', 'Hlophe', ''], ['2021-05-19 00:00:00', 'Gcinimiyalo', '76342236', '10:00:00 AM', 'Content & Creativity', 'Mac Workstation', 'Shared Hotspot', 7.0, 'Yes', 'No', 'Freelancer', 'Ntuli', ''], ['2021-05-20 00:00:00', 'Nombuso', '78229280', '9:00:00 AM', 'Coding', 'PC Workstation', 'Shared Hotspot', 8.0, 'Yes', 'Yes', 'SV Tech', 'Hlophe', ''], ['2021-05-20 00:00:00', 'Gcinimiyalo', '76342236', '10:00:00 AM', 'Content & Creativity', 'Mac Workstation', 'Shared Hotspot', 7.0, 'Yes', 'No', 'Freelancer', 'Ntuli', ''], ['2021-05-20 00:00:00', 'Mzwandile', '27634061158', '5:01:00 PM', 'Company Work', 'Mac Workstation', 'Shared Hotspot', 6.55, 'Yes', 'No', 'Kingdom XLR', 'Nxumalo', ''], ['2021-05-20 00:00:00', 'José', '', '8:00:00 AM', 'Company Work', 'Mac Workstation', 'Shared Hotspot', 12.0, 'Yes', 'No', 'Ummo', 'Rego', ''], ['2021-05-20 00:00:00', 'Fanelesibonge', '78221507', '7:00:00 PM', 'Company Work', 'Brought my own workstation', 'Shared Hotspot', 15.0, 'Yes', 'No', 'Freelancer', 'Malaza', ''], ['2021-05-20 00:00:00', 'Simanga', '78591932', '7:00:00 PM', 'Content & Creativity', 'Mac Workstation', 'Shared Hotspot', 3.0, 'Yes', 'No', 'Freelancer', 'Ntsini', ''], ['2021-05-21 00:00:00', 'José', '', '8:00:00 AM', 'Company Work', 'Mac Workstation', 'Shared Hotspot', 12.0, 'Yes', 'No', 'Ummo', 'Rego', ''], ['2021-05-21 00:00:00', 'Nombuso', '78229280', '9:00:00 AM', 'Coding', 'PC Workstation', 'Shared Hotspot', 8.0, 'Yes', 'Yes', 'SV Tech', 'Hlophe', ''], ['2021-05-22 00:00:00', 'Gcinimiyalo', '76342236', '5:10:00 AM', 'Content & Creativity', 'Mac Workstation', 'Shared Hotspot', 1.3333333333333333, 'Yes', 'No', 'Freelancer', 'Ntuli', ''], ['2021-05-22 00:00:00', 'José', '', '8:00:00 AM', 'Company Work', 'Mac Workstation', 'Shared Hotspot', 12.0, 'Yes', 'No', 'Ummo', 'Rego', ''], ['2021-05-22 00:00:00', 'Simanga', '78501932', '3:00:00 PM', 'Content & Creativity', 'Camera', 'Shared Hotspot', 15.0, 'Yes', 'No', 'Freelancer', 'Ntsini', ''], ['2021-05-22 00:00:00', 'Mlungisi', '76068779', '2:45:00 PM', 'Research', 'Brought my own workstation', 'Shared Hotspot', 2.25, 'No', 'Yes', 'Freelancer', 'Shongwe', ''], ['2021-05-23 00:00:00', 'Gcinimiyalo', '76342236', '7:30:00 AM', 'Content & Creativity', 'Mac Workstation', 'Shared Hotspot', 9.5, 'Yes', 'No', 'Freelancer', 'Ntuli', ''], ['2021-05-23 00:00:00', 'José', '', '8:00:00 AM', 'Company Work', 'Mac Workstation', 'Shared Hotspot', 12.0, 'Yes', 'No', 'Ummo', 'Rego', ''], ['2021-05-23 00:00:00', 'Simanga', '78501932', '9:19:00 PM', 'Content & Creativity', 'Mac Workstation', 'Shared Hotspot', 21.316666666666666, 'Yes', 'No', 'Freelancer', 'Ntsini', ''], ['2021-05-24 00:00:00', 'José', '', '8:00:00 AM', 'Company Work', 'Mac Workstation', 'Shared Hotspot', 12.0, 'Yes', 'No', 'Ummo', 'Rego', ''], ['2021-05-24 00:00:00', 'Nombuso', '78229280', '9:00:00 AM', 'Research', 'PC Workstation', 'Shared Hotspot', 4.0, 'Yes', 'Yes', 'SV Tech', 'Hlophe', ''], ['2021-05-25 00:00:00', 'José', '', '8:00:00 AM', 'Company Work', 'Mac Workstation', 'Shared Hotspot', 12.0, 'Yes', 'No', 'Ummo', 'Rego', ''], ['2021-05-25 00:00:00', 'Gcinimiyalo', '76342236', '2:30:00 PM', 'Content & Creativity', 'Mac Workstation', 'Shared Hotspot', 5.5, 'Yes', 'No', 'Freelancer', 'Ntuli', ''], ['2021-05-26 00:00:00', 'Gcinimiyalo', '76342236', '12:00:00 PM', 'Content & Creativity', 'Mac Workstation', 'Shared Hotspot', 2.0, 'Yes', 'No', 'Freelancer', 'Ntuli', ''], ['2021-05-26 00:00:00', 'Fanelesibonge', '78221507', '1:00:00 AM', 'Company Work', 'Brought my own workstation', 'Shared Hotspot', 20.0, 'Yes', 'No', 'Freelancer', 'Malaza', ''], ['2021-05-26 00:00:00', 'José', '', '8:00:00 AM', 'Company Work', 'Mac Workstation', 'Shared Hotspot', 12.0, 'Yes', 'No', 'Ummo', 'Rego', ''], ['2021-05-26 00:00:00', 'Lungelo', '76313249', '8:00:00 AM', 'Meeting', 'Brought my own workstation', 'Brought my own internet', 9.0, 'Yes', 'Yes', 'Freelancer', 'Mamba', ''], ['2021-05-26 00:00:00', 'Mzwandile', '27634061158', '3:07:00 PM', 'Content & Creativity', 'Mac Workstation', 'Shared Hotspot', 13.733333333333333, 'Yes', 'No', 'Kingdom XLR', 'Nxumalo', ''], ['2021-05-26 00:00:00', 'Nomalungelo', '76540168', '11:00:00 AM', 'Content & Creativity', 'PC Workstation', 'Shared Hotspot', 9.5, 'Yes', 'No', 'Kingdom XLR', 'Dladla', ''], ['2021-05-27 00:00:00', 'Lungelo', '76313249', '8:00:00 AM', 'Research', 'Keyboard', 'Brought my own internet', 9.0, 'Yes', 'Yes', 'Freelancer', 'Mamba', ''], ['2021-05-27 00:00:00', 'Sibahle', '78630006', '8:00:00 AM', 'Company Work', 'Brought my own workstation', 'Shared Hotspot', 5.0, 'Yes', 'Yes', 'Ummo', 'Mnyakeni', ''], ['2021-05-27 00:00:00', 'José', '', '8:00:00 AM', 'Company Work', 'Mac Workstation', 'Shared Hotspot', 12.0, 'Yes', 'No', 'Ummo', 'Rego', ''], ['2021-05-27 00:00:00', 'Fanelesibonge', '78221507', '6:00:00 AM', 'Coding', 'Brought my own workstation', 'Shared Hotspot', 14.0, 'Yes', 'No', 'Freelancer', 'Malaza', ''], ['2021-05-27 00:00:00', 'Nomalungelo', '76540168', '10:00:00 AM', 'Content & Creativity', 'PC Workstation', 'Shared Hotspot', 1.5, 'Yes', 'No', 'Kingdom XLR', 'Dladla', ''], ['2021-05-27 00:00:00', 'Simanga', '78501932', '10:00:00 AM', 'Content & Creativity', 'Mac Workstation', 'Shared Hotspot', 5.0, 'Yes', 'No', 'Freelancer', 'Ntsini', ''], ['2021-05-27 00:00:00', 'Gcinimiyalo', '76342236', '11:46:00 AM', 'Content & Creativity', 'Mac Workstation', 'Shared Hotspot', 5.233333333333333, 'Yes', 'No', 'Freelancer', 'Ntuli', ''], ['2021-05-27 00:00:00', 'Mzwandile', '', '3:30:00 PM', 'Company Work', 'Mac Workstation, Audio Box', 'Shared Hotspot', 3.5, 'Yes', 'No', 'Kingdom XLR', 'Nxumalo', ''], ['2021-05-27 00:00:00', 'Bagcinele', '76762919', '8:00:00 AM', 'Company Work', 'Mac Workstation', 'Shared Hotspot', 10.0, 'Yes', 'No', 'Kingdom XLR', 'Fakudze', ''], ['2021-05-27 00:00:00', 'Kwanele', '78158606', '4:50:00 PM', 'Company Work', 'Brought my own workstation', 'Shared Hotspot', 2.3333333333333335, 'Yes', 'Yes', 'Vundzisa', 'Tsabedze', ''], ['2021-05-27 00:00:00', 'Sibahle', '78630006', '9:45:00 AM', 'Company Work', 'Brought my own workstation', 'Shared Hotspot', 6.25, 'Yes', 'Yes', 'Ummo', 'Mnyakeni', ''], ['2021-05-28 00:00:00', 'José', '', '8:00:00 AM', 'Company Work', 'Mac Workstation', 'Shared Hotspot', 12.0, 'Yes', 'No', 'Ummo', 'Rego', ''], ['2021-05-28 00:00:00', 'Gcinimiyalo', '76342236', '8:45:00 AM', 'Content & Creativity', 'Mac Workstation', 'Shared Hotspot', 8.25, 'Yes', 'No', 'Freelancer', 'Ntuli', ''], ['2021-05-29 00:00:00', 'José', '', '8:00:00 AM', 'Company Work', 'Mac Workstation', 'Shared Hotspot', 12.0, 'Yes', 'No', 'Ummo', 'Rego', ''], ['2021-05-29 00:00:00', 'Gcinimiyalo', '76342236', '8:54:00 AM', 'Content & Creativity', 'Mac Workstation', 'Shared Hotspot', 8.1, 'Yes', 'No', 'Freelancer', 'Ntuli', ''], ['2021-05-29 00:00:00', 'Sibahle', '78630006', '9:45:00 AM', 'Company Work', 'Brought my own workstation', 'Shared Hotspot', 6.25, 'Yes', 'Yes', 'Ummo', 'Mnyakeni', ''], ['2021-05-30 00:00:00', 'Gcinimiyalo', '76342236', '9:45:00 AM', 'Content & Creativity', 'Mac Workstation', 'Shared Hotspot', 7.25, 'Yes', 'No', 'Freelancer', 'Ntuli', ''], ['2021-05-30 00:00:00', 'José', '', '8:00:00 AM', 'Company Work', 'Mac Workstation', 'Shared Hotspot', 12.0, 'Yes', 'No', 'Ummo', 'Rego', ''], ['2021-05-30 00:00:00', 'Fanelesibonge', '78221507', '7:00:00 AM', 'Company Work', 'Brought my own workstation', 'Shared Hotspot', 14.0, 'Yes', 'No', 'Freelancer', 'Malaza', ''], ['2021-05-31 00:00:00', 'Gcinimiyalo', '76342236', '9:45:00 AM', 'Company Work', 'Mac Workstation', 'Shared Hotspot', 7.25, 'Yes', 'No', 'Freelancer', 'Ntuli', ''], ['2021-05-31 00:00:00', 'José', '', '8:00:00 AM', 'Company Work', 'Mac Workstation', 'Shared Hotspot', 12.0, 'Yes', 'No', 'Ummo', 'Rego', ''], ['2021-05-31 00:00:00', 'Kwanele', '78158606', '3:30:00 PM', 'Company Work', 'Brought my own workstation', 'Shared Hotspot', 1.5, 'Yes', 'Yes', 'Vundzisa', 'Tsabedze', ''], ['2021-05-31 00:00:00', 'Ayanda', '76273414', '6:00:00 PM', 'Company Work', 'Mac Workstation', 'Shared Hotspot', 0.5, 'Yes', 'No', 'Freelancer', 'Tsela', ''], ['2021-06-01 00:00:00', 'Sibahle', '', '8:00:00 PM', 'Company Work, Meeting', 'Mac Workstation', 'Shared Hotspot', 2.0, 'Yes', 'Yes', 'Ummo', 'Mnyakeni', ''], ['2021-06-01 00:00:00', 'Nombuso', '78229280', '9:00:00 AM', 'Research', 'Brought my own workstation', 'Shared Hotspot', 8.0, 'Yes', 'Yes', 'SV Tech', 'Hlophe', ''], ['2021-06-01 00:00:00', 'José', '', '8:00:00 AM', 'Company Work', 'Mac Workstation', 'Shared Hotspot', 12.0, 'Yes', 'No', 'Ummo', 'Rego', ''], ['2021-06-01 00:00:00', 'Simanga', '78501932', '6:00:00 AM', 'Content & Creativity', 'Camera', 'Shared Hotspot', 12.0, 'Yes', 'No', 'Freelancer', 'Ntsini', ''], ['2021-06-01 00:00:00', 'Nomalungelo', '76540168', '11:50:00 AM', 'Content & Creativity', 'PC Workstation', 'Shared Hotspot', 2.1666666666666665, 'Yes', 'No', 'Kingdom XLR', 'Dladla', ''], ['2021-06-01 00:00:00', 'Lungelo', '76313249', '8:00:00 AM', 'Research', 'Keyboard', 'Brought my own internet', 9.0, 'Yes', 'Yes', 'Freelancer', 'Mamba', ''], ['2021-06-01 00:00:00', 'Fanelesibonge', '78221507', '4:00:00 AM', 'Company Work', 'Brought my own workstation', 'Shared Hotspot', 18.0, 'Yes', 'No', 'Freelancer', 'Malaza', ''], ['2021-06-01 00:00:00', 'Kwanele', '78158606', '2:00:00 PM', 'Content & Creativity', 'Brought my own workstation', 'Shared Hotspot', 3.75, 'Yes', 'Yes', 'Vundzisa', 'Tsabedze', ''], ['2021-06-02 00:00:00', 'Gcinimiyalo', '76342236', '7:15:00 AM', 'Content & Creativity', 'Mac Workstation', 'Shared Hotspot', 9.75, 'Yes', 'No', 'Freelancer', 'Ntuli', ''], ['2021-06-02 00:00:00', 'Sibahle', '', '8:00:00 PM', 'Company Work, Meeting', 'Mac Workstation', 'Shared Hotspot', 2.0, 'Yes', 'Yes', 'Ummo', 'Mnyakeni', ''], ['2021-06-02 00:00:00', 'José', '', '8:00:00 AM', 'Company Work', 'Mac Workstation', 'Shared Hotspot', 12.0, 'Yes', 'No', 'Ummo', 'Rego', ''], ['2021-06-02 00:00:00', 'Lungelo', '7631 3249', '8:30:00 AM', 'Meeting', 'Keyboard', 'Brought my own internet', 8.5, 'Yes', 'Yes', 'Freelancer', 'Mamba', ''], ['2021-06-03 00:00:00', 'Gcinimiyalo', '76342236', '8:51:00 AM', 'Content & Creativity', 'Mac Workstation', 'Shared Hotspot', 8.15, 'Yes', 'No', 'Freelancer', 'Ntuli', ''], ['2021-06-03 00:00:00', 'Bagcinele', '76762919', '8:00:00 AM', 'Company Work', 'Mac Workstation', 'Shared Hotspot', 10.0, 'Yes', 'No', 'Kingdom XLR', 'Fakudze', ''], ['2021-06-03 00:00:00', 'José', '', '8:00:00 AM', 'Company Work', 'Mac Workstation', 'Shared Hotspot', 12.0, 'Yes', 'No', 'Ummo', 'Rego', ''], ['2021-06-03 00:00:00', 'Kwanele', '78158606', '12:00:00 AM', 'Company Work', 'Brought my own workstation', 'Brought my own internet', 15.25, 'Yes', 'Yes', 'Vundzisa', 'Tsabedze', ''], ['2021-06-03 00:00:00', 'Simanga', '78501932', '1:05:00 PM', 'Content & Creativity', 'Mac Workstation', 'Shared Hotspot', 3.9166666666666665, 'Yes', 'No', 'Freelancer', 'Ntsini', ''], ['2021-06-03 00:00:00', 'Sibahle', '', '8:00:00 PM', 'Company Work, Meeting', 'Mac Workstation', 'Shared Hotspot', 2.0, 'Yes', 'Yes', 'Ummo', 'Mnyakeni', ''], ['2021-06-03 00:00:00', 'José', '', '8:00:00 AM', 'Company Work', 'Mac Workstation', 'Shared Hotspot', 12.0, 'Yes', 'No', 'Ummo', 'Rego', ''], ['2021-06-04 00:00:00', 'Gcinimiyalo', '76342236', '7:22:00 AM', 'Content & Creativity', 'Mac Workstation', 'Shared Hotspot', 9.633333333333333, 'Yes', 'No', 'Freelancer', 'Ntuli', ''], ['2021-06-04 00:00:00', 'José', '', '8:00:00 AM', 'Company Work', 'Mac Workstation', 'Shared Hotspot', 12.0, 'Yes', 'No', 'Ummo', 'Rego', ''], ['2021-06-04 00:00:00', 'Sibahle', '', '8:00:00 PM', 'Company Work, Meeting', 'Mac Workstation', 'Shared Hotspot', 2.0, 'Yes', 'Yes', 'Ummo', 'Mnyakeni', ''], ['2021-06-05 00:00:00', 'José', '', '8:00:00 AM', 'Company Work', 'Mac Workstation', 'Shared Hotspot', 12.0, 'Yes', 'No', 'Ummo', 'Rego', ''], ['2021-06-05 00:00:00', 'Sibahle', '', '8:00:00 PM', 'Company Work, Meeting', 'Mac Workstation', 'Shared Hotspot', 2.0, 'Yes', 'Yes', 'Ummo', 'Mnyakeni', ''], ['2021-06-07 00:00:00', 'Nombuso', '78229280', '9:00:00 AM', 'Coding', 'Brought my own workstation', 'Shared Hotspot', 4.0, 'Yes', 'Yes', 'SV Tech', 'Hlophe', ''], ['2021-06-07 00:00:00', 'Gcinimiyalo', '76342236', '9:35:00 AM', 'Content & Creativity', 'Mac Workstation', 'Shared Hotspot', 7.416666666666667, 'Yes', 'No', 'Freelancer', 'Ntuli', ''], ['2021-06-07 00:00:00', 'Fanelesibonge', '78221507', '4:30:00 AM', 'Company Work', 'Brought my own workstation', 'Shared Hotspot', 16.5, 'Yes', 'No', 'Freelancer', 'Malaza', ''], ['2021-06-07 00:00:00', 'Sibahle', '', '8:00:00 PM', 'Company Work, Meeting', 'Mac Workstation', 'Shared Hotspot', 2.0, 'Yes', 'Yes', 'Ummo', 'Mnyakeni', ''], ['2021-06-07 00:00:00', 'José', '', '8:00:00 AM', 'Company Work', 'Mac Workstation', 'Shared Hotspot', 12.0, 'Yes', 'No', 'Ummo', 'Rego', ''], ['2021-06-07 00:00:00', 'Mzwandile', '27634061158', '1:07:00 PM', 'Company Work', 'Mac Workstation', 'Shared Hotspot', 9.416666666666666, 'Yes', 'No', 'Kingdom XLR', 'Nxumalo', ''], ['2021-06-07 00:00:00', 'Nomalungelo', '76540168', '1:00:00 PM', 'Content & Creativity', 'PC Workstation', 'Shared Hotspot', 5.0, 'Yes', 'No', 'Kingdom XLR', 'Dladla', ''], ['2021-06-07 00:00:00', 'Kwanele', '78158606', '12:40:00 AM', 'Meeting', 'Brought my own workstation', 'Shared Hotspot', 17.333333333333332, 'Yes', 'Yes', 'Vundzisa', 'Tsabedze', ''], ['2021-06-08 00:00:00', 'Sibahle', '', '8:00:00 PM', 'Company Work, Meeting', 'Mac Workstation', 'Shared Hotspot', 2.0, 'Yes', 'Yes', 'Ummo', 'Mnyakeni', ''], ['2021-06-08 00:00:00', 'José', '', '8:00:00 AM', 'Company Work', 'Mac Workstation', 'Shared Hotspot', 12.0, 'Yes', 'No', 'Ummo', 'Rego', ''], ['2021-06-08 00:00:00', 'Nombuso', '78229280', '9:00:00 AM', 'Research', 'Brought my own workstation', 'Shared Hotspot', 8.0, 'Yes', 'Yes', 'SV Tech', 'Hlophe', ''], ['2021-06-09 00:00:00', 'José', '', '8:00:00 AM', 'Company Work', 'Mac Workstation', 'Shared Hotspot', 12.0, 'Yes', 'No', 'Ummo', 'Rego', ''], ['2021-06-09 00:00:00', 'Sibahle', '', '8:00:00 PM', 'Company Work, Meeting', 'Mac Workstation', 'Shared Hotspot', 2.0, 'Yes', 'Yes', 'Ummo', 'Mnyakeni', ''], ['2021-06-10 00:00:00', 'José', '', '8:00:00 AM', 'Company Work', 'Mac Workstation', 'Shared Hotspot', 12.0, 'Yes', 'No', 'Ummo', 'Rego', ''], ['2021-06-10 00:00:00', 'Sibahle', '', '8:00:00 PM', 'Company Work, Meeting', 'Mac Workstation', 'Shared Hotspot', 2.0, 'Yes', 'Yes', 'Ummo', 'Mnyakeni', ''], ['2021-06-11 00:00:00', 'Lungelo', '76313249', '8:00:00 AM', 'Coding', 'Keyboard', 'Brought my own internet', 9.0, 'Yes', 'Yes', 'Freelancer', 'Mamba', ''], ['2021-06-11 00:00:00', 'Gcinimiyalo', '76342236', '11:59:00 AM', 'Content & Creativity', 'Mac Workstation', 'Shared Hotspot', 5.016666666666667, 'Yes', 'No', 'Freelancer', 'Ntuli', ''], ['2021-06-11 00:00:00', 'José', '', '8:00:00 AM', 'Company Work', 'Mac Workstation', 'Shared Hotspot', 12.0, 'Yes', 'No', 'Ummo', 'Rego', ''], ['2021-06-11 00:00:00', 'Sibahle', '', '8:00:00 PM', 'Company Work, Meeting', 'Mac Workstation', 'Shared Hotspot', 2.0, 'Yes', 'Yes', 'Ummo', 'Mnyakeni', ''], ['2021-06-11 00:00:00', 'Nomalungelo', '76540168', '2:00:00 PM', 'Content & Creativity', 'PC Workstation', 'Shared Hotspot', 2.0, 'Yes', 'No', 'Kingdom XLR', 'Dladla', ''], ['2021-06-11 00:00:00', 'Mlungisi', '76068779', '1:00:00 PM', 'Research', 'PC Workstation', 'Shared Hotspot', 5.0, 'No', 'Yes', 'Freelancer', 'Shongwe', ''], ['2021-06-12 00:00:00', 'José', '', '8:00:00 AM', 'Company Work', 'Mac Workstation', 'Shared Hotspot', 12.0, 'Yes', 'No', 'Ummo', 'Rego', ''], ['2021-06-12 00:00:00', 'Sibahle', '', '8:00:00 PM', 'Company Work, Meeting', 'Mac Workstation', 'Shared Hotspot', 2.0, 'Yes', 'Yes', 'Ummo', 'Mnyakeni', ''], ['2021-06-14 00:00:00', 'Nombuso', '78229280', '9:00:00 AM', 'Coding', 'Brought my own workstation', 'Shared Hotspot', 8.0, 'Yes', 'Yes', 'SV Tech', 'Hlophe', ''], ['2021-06-14 00:00:00', 'José', '', '8:00:00 AM', 'Company Work', 'Mac Workstation', 'Shared Hotspot', 12.0, 'Yes', 'No', 'Ummo', 'Rego', ''], ['2021-06-14 00:00:00', 'Sibahle', '', '8:00:00 PM', 'Company Work, Meeting', 'Mac Workstation', 'Shared Hotspot', 2.0, 'Yes', 'Yes', 'Ummo', 'Mnyakeni', ''], ['2021-06-14 00:00:00', 'Gcinimiyalo', '76342236', '7:00:00 AM', 'Content & Creativity', 'Mac Workstation', 'Shared Hotspot', 7.0, 'Yes', 'No', 'Freelancer', 'Ntuli', ''], ['2021-06-15 00:00:00', 'José', '', '8:00:00 AM', 'Company Work', 'Mac Workstation', 'Shared Hotspot', 12.0, 'Yes', 'No', 'Ummo', 'Rego', ''], ['2021-06-15 00:00:00', 'Sibahle', '', '8:00:00 PM', 'Company Work, Meeting', 'Mac Workstation', 'Shared Hotspot', 2.0, 'Yes', 'Yes', 'Ummo', 'Mnyakeni', ''], ['2021-06-16 00:00:00', 'Gcinimiyalo', '76342236', '7:55:00 AM', 'Content & Creativity', 'Mac Workstation', 'Shared Hotspot', 9.083333333333334, 'Yes', 'No', 'Freelancer', 'Ntuli', ''], ['2021-06-16 00:00:00', 'Sibahle', '', '8:00:00 PM', 'Company Work, Meeting', 'Mac Workstation', 'Shared Hotspot', 2.0, 'Yes', 'Yes', 'Ummo', 'Mnyakeni', ''], ['2021-06-16 00:00:00', 'Lungelo', '76313249', '8:00:00 AM', 'Coding', 'Keyboard', 'Brought my own internet', 9.0, 'Yes', 'Yes', 'Freelancer', 'Mamba', ''], ['2021-06-18 00:00:00', 'Gcinimiyalo', '76342236', '7:09:00 AM', 'Content & Creativity', 'Mac Workstation', 'Shared Hotspot', 9.85, 'Yes', 'No', 'Freelancer', 'Ntuli', ''], ['2021-06-19 00:00:00', 'Sibahle', '', '8:00:00 PM', 'Company Work, Meeting', 'Mac Workstation', 'Shared Hotspot', 2.0, 'Yes', 'Yes', 'Ummo', 'Mnyakeni', ''], ['2021-06-18 00:00:00', 'Nombuso', '78229280', '8:30:00 AM', 'Coding', 'Brought my own workstation', 'Shared Hotspot', 7.5, 'Yes', 'Yes', 'SV Tech', 'Hlophe', ''], ['2021-06-19 00:00:00', 'José', '', '8:00:00 AM', 'Company Work', 'Mac Workstation', 'Shared Hotspot', 12.0, 'Yes', 'No', 'Ummo', 'Rego', ''], ['2021-06-19 00:00:00', 'Gcinimiyalo', '76342236', '5:00:00 AM', 'Content & Creativity', 'Mac Workstation', 'Shared Hotspot', 6.5, 'Yes', 'No', 'Freelancer', 'Ntuli', ''], ['2021-06-20 00:00:00', 'José', '', '8:00:00 AM', 'Company Work', 'Mac Workstation', 'Shared Hotspot', 12.0, 'Yes', 'No', 'Ummo', 'Rego', ''], ['2021-06-20 00:00:00', 'Gcinimiyalo', '76342236', '4:30:00 PM', 'Content & Creativity', 'Mac Workstation', 'Shared Hotspot', 1.5, 'Yes', 'No', 'Freelancer', 'Ntuli', ''], ['2021-06-21 00:00:00', 'Gcinimiyalo', '76342236', '5:43:00 AM', 'Content & Creativity', 'Mac Workstation', 'Shared Hotspot', 11.283333333333333, 'Yes', 'No', 'Freelancer', 'Ntuli', ''], ['2021-06-21 00:00:00', 'José', '', '8:00:00 AM', 'Company Work', 'Mac Workstation', 'Shared Hotspot', 12.0, 'Yes', 'No', 'Ummo', 'Rego', ''], ['2021-06-21 00:00:00', 'Nombuso', '78229280', '8:45:00 AM', 'Coding', 'Brought my own workstation', 'Shared Hotspot', 8.25, 'Yes', 'Yes', 'SV Tech', 'Hlophe', ''], ['2021-06-21 00:00:00', 'Kwanele', '78158606', '4:25:00 PM', 'Company Work', 'Brought my own workstation', 'Brought my own internet', 1.5833333333333333, 'Yes', 'Yes', 'Vundzisa', 'Tsabedze', ''], ['2021-06-22 00:00:00', 'Gcinimiyalo', '76342236', '6:42:00 AM', 'Content & Creativity', 'Mac Workstation', 'Shared Hotspot', 0.3, 'Yes', 'No', 'Freelancer', 'Ntuli', ''], ['2021-06-22 00:00:00', 'José', '', '8:00:00 AM', 'Company Work', 'Mac Workstation', 'Shared Hotspot', 12.0, 'Yes', 'No', 'Ummo', 'Rego', ''], ['2021-06-22 00:00:00', 'Nombuso', '78229280', '9:00:00 AM', 'Company Work', 'Brought my own workstation', 'Shared Hotspot', 8.0, 'Yes', 'Yes', 'SV Tech', 'Hlophe', ''], ['2021-06-23 00:00:00', 'Gcinimiyalo', '76342236', '6:58:00 AM', 'Content & Creativity', 'Mac Workstation', 'Shared Hotspot', 10.033333333333333, 'Yes', 'No', 'Freelancer', 'Ntuli', ''], ['2021-06-23 00:00:00', 'Kwanele', '78158606', '9:00:00 AM', 'Company Work', 'Brought my own workstation', 'Shared Hotspot', 7.0, 'Yes', 'Yes', 'Vundzisa', 'Tsabedze', ''], ['2021-06-23 00:00:00', 'Fanelesibonge', '78221507', '10:00:00 AM', 'Company Work', 'Brought my own workstation', 'Shared Hotspot', 10.0, 'Yes', 'No', 'Freelancer', 'Malaza', ''], ['2021-06-23 00:00:00', 'José', '', '8:00:00 AM', 'Company Work', 'Mac Workstation', 'Shared Hotspot', 12.0, 'Yes', 'No', 'Ummo', 'Rego', ''], ['2021-06-23 00:00:00', 'Zack', '79323073', '1:00:00 PM', 'Academic Work', 'Mac Workstation', 'Shared Hotspot', 9.0, 'Yes', 'Yes', 'Freelancer', 'Towindo', ''], ['2021-06-23 00:00:00', 'Mlungisi', '76068779', '1:20:00 PM', 'Research', 'PC Workstation', 'Shared Hotspot', 4.666666666666667, 'No', 'Yes', 'Freelancer', 'Shongwe', ''], ['2021-06-24 00:00:00', 'Gcinimiyalo', '76342236', '8:55:00 AM', 'Content & Creativity', 'Mac Workstation', 'Shared Hotspot', 8.083333333333334, 'Yes', 'No', 'Freelancer', 'Ntuli', ''], ['2021-06-24 00:00:00', 'Zack', '79323073', '12:00:00 PM', 'Company Work', 'Mac Workstation', 'Shared Hotspot', 8.0, 'Yes', 'Yes', 'Freelancer', 'Towindo', ''], ['2021-06-24 00:00:00', 'José', '', '8:00:00 AM', 'Company Work', 'Mac Workstation', 'Shared Hotspot', 12.0, 'Yes', 'No', 'Ummo', 'Rego', ''], ['2021-06-24 00:00:00', 'Kwanele', '78158606', '2:30:00 PM', 'Company Work', 'Brought my own workstation', 'Shared Hotspot', 1.5, 'Yes', 'Yes', 'Vundzisa', 'Tsabedze', ''], ['2021-06-24 00:00:00', 'Fanelesibonge', '78221507', '8:00:00 AM', 'Company Work', 'Brought my own workstation', 'Shared Hotspot', 14.0, 'Yes', 'No', 'Freelancer', 'Malaza', ''], ['2021-06-24 00:00:00', 'Siphumelele', '76683760', '3:40:00 PM', 'Content & Creativity', 'Brought my own workstation', 'Shared Hotspot', 0.8333333333333334, 'Yes', 'Yes', 'Freelancer', 'Malambe', ''], ['2021-06-24 00:00:00', 'Mlungisi', '76068779', '2:00:00 PM', 'Research', 'PC Workstation', 'Shared Hotspot', 4.0, 'No', 'Yes', 'Freelancer', 'Shongwe', ''], ['2021-06-25 00:00:00', 'Gcinimiyalo', '76342236', '7:00:00 AM', 'Content & Creativity', 'Mac Workstation', 'Shared Hotspot', 10.0, 'Yes', 'No', 'Freelancer', 'Ntuli', ''], ['2021-06-25 00:00:00', 'José', '', '8:00:00 AM', 'Company Work', 'Mac Workstation', 'Shared Hotspot', 12.0, 'Yes', 'No', 'Ummo', 'Rego', ''], ['2021-06-25 00:00:00', 'Fanelesibonge', '78221507', '10:00:00 AM', 'Company Work', 'Brought my own workstation', 'Shared Hotspot', 13.0, 'Yes', 'No', 'Freelancer', 'Malaza', ''], ['2021-06-25 00:00:00', 'Lungelo', '76313249', '8:00:00 AM', 'Research', 'Keyboard', 'Brought my own internet', 9.0, 'Yes', 'Yes', 'Freelancer', 'Mamba', ''], ['2021-06-26 00:00:00', 'José', '', '8:00:00 AM', 'Company Work', 'Mac Workstation', 'Shared Hotspot', 12.0, 'Yes', 'No', 'Ummo', 'Rego', ''], ['2021-06-26 00:00:00', 'Kwanele', '78158606', '2:30:00 PM', 'Meeting', 'Brought my own workstation', 'Shared Hotspot', 3.0, 'Yes', 'Yes', 'Vundzisa', 'Tsabedze', ''], ['2021-06-27 00:00:00', 'José', '', '8:00:00 AM', 'Company Work', 'Mac Workstation', 'Shared Hotspot', 12.0, 'Yes', 'No', 'Ummo', 'Rego', ''], ['2021-06-27 00:00:00', 'Gcinimiyalo', '76342236', '7:34:00 AM', 'Content & Creativity', 'Mac Workstation', 'Shared Hotspot', 9.433333333333334, 'Yes', 'No', 'Freelancer', 'Ntuli', ''], ['2021-07-06 00:00:00', 'José', '', '8:00:00 AM', 'Company Work', 'Mac Workstation', 'Shared Hotspot', 12.0, 'Yes', 'No', 'Ummo', 'Rego', ''], ['2021-07-06 00:00:00', 'Kwanele', '78158606', '3:51:00 PM', 'Company Work', 'Brought my own workstation', 'Shared Hotspot', 1.65, 'Yes', 'Yes', 'Vundzisa', 'Tsabedze', ''], ['2021-07-19 00:00:00', 'José', '', '8:00:00 AM', 'Company Work', 'Mac Workstation', 'Shared Hotspot', 12.0, 'Yes', 'No', 'Ummo', 'Rego', ''], ['2021-07-19 00:00:00', 'Sikhulile', '79384734', '10:30:00 AM', 'Content & Creativity', 'PC Workstation', 'Shared Hotspot', 7.0, 'Yes', 'No', 'Kingdom XLR', 'Zwane', ''], ['2021-07-19 00:00:00', 'Mzwandile', '', '3:30:00 PM', 'Company Work', 'Mac Workstation, Audio Box', 'Shared Hotspot', 3.5, 'Yes', 'No', 'Kingdom XLR', 'Nxumalo', ''], ['2021-07-19 00:00:00', 'Muzi', '+26878272372', '10:30:00 AM', 'Content & Creativity', 'Brought my own workstation', 'Shared Hotspot', 2.5, 'Yes', 'Yes', 'Rare Jam', 'Mathunjwa', ''], ['2021-07-19 00:00:00', 'Sabelo', '76871675', '10:30:00 AM', 'Company Work', 'Brought my own workstation', 'Shared Hotspot', 7.0, 'Yes', 'Yes', 'SV Tech', 'Vilakati', ''], ['2021-07-19 00:00:00', 'Zack', '79323073', '11:00:00 AM', 'Research', 'Mac Workstation', 'Shared Hotspot', 12.0, 'Yes', 'Yes', 'Freelancer', 'Towindo', ''], ['2021-07-19 00:00:00', 'Fanelesibonge', '78221507', '8:00:00 AM', 'Company Work', 'Brought my own workstation', 'Shared Hotspot', 11.0, 'Yes', 'No', 'Freelancer', 'Malaza', ''], ['2021-07-20 00:00:00', 'José', '', '8:00:00 AM', 'Company Work', 'Mac Workstation', 'Shared Hotspot', 12.0, 'Yes', 'No', 'Ummo', 'Rego', ''], ['2021-07-20 00:00:00', 'Sikhulile', '79384734', '10:00:00 AM', 'Company Work', 'PC Workstation', 'Shared Hotspot', 7.5, 'Yes', 'No', 'Kingdom XLR', 'Zwane', ''], ['2021-07-20 00:00:00', 'Sabelo', '76871675', '10:30:00 AM', 'Company Work', 'Brought my own workstation', 'Shared Hotspot', 6.5, 'Yes', 'Yes', 'SV Tech', 'Vilakati', ''], ['2021-07-20 00:00:00', 'Mlungisi', '76068779', '2:00:00 PM', 'Research', 'PC Workstation', 'Shared Hotspot', 4.0, 'No', 'Yes', 'Freelancer', 'Shongwe', ''], ['2021-07-21 00:00:00', 'Lungelo', '76313249', '8:00:00 AM', 'Research', 'Keyboard', 'Brought my own internet', 9.0, 'Yes', 'Yes', 'Freelancer', 'Mamba', ''], ['2021-07-21 00:00:00', 'Fanelesibonge', '78221507', '8:00:00 AM', 'Company Work', 'Brought my own workstation', 'Shared Hotspot', 10.0, 'Yes', 'No', 'Freelancer', 'Malaza', ''], ['2021-07-21 00:00:00', 'José', '', '8:00:00 AM', 'Company Work', 'Mac Workstation', 'Shared Hotspot', 12.0, 'Yes', 'No', 'Ummo', 'Rego', ''], ['2021-07-21 00:00:00', 'Sabelo', '76871675', '10:00:00 AM', 'Company Work', 'Brought my own workstation', 'Shared Hotspot', 7.0, 'Yes', 'Yes', 'SV Tech', 'Vilakati', ''], ['2021-07-21 00:00:00', 'Kwanele', '78158606', '11:00:00 AM', 'Company Work', 'Brought my own workstation', 'Shared Hotspot', 5.0, 'Yes', 'Yes', 'Vundzisa', 'Tsabedze', ''], ['2021-07-21 00:00:00', 'Mlungisi', '76068779', '2:00:00 PM', 'Research', 'PC Workstation', 'Shared Hotspot', 4.0, 'No', 'Yes', 'Freelancer', 'Shongwe', ''], ['2021-07-22 00:00:00', 'Thobeka', '78308314', '1:00:00 PM', 'Research', 'Brought my own workstation', 'Shared Hotspot', 5.0, 'Yes', 'No', 'Freelancer', 'Nxumalo', ''], ['2021-07-22 00:00:00', 'José', '', '8:00:00 AM', 'Company Work', 'Mac Workstation', 'Shared Hotspot', 12.0, 'Yes', 'No', 'Ummo', 'Rego', ''], ['2021-07-22 00:00:00', 'Fanelesibonge', '78221507', '12:00:00 PM', 'Company Work', 'Brought my own workstation', 'Shared Hotspot', 6.0, 'Yes', 'No', 'Freelancer', 'Malaza', ''], ['2021-07-22 00:00:00', 'Mlungisi', '76068779', '1:30:00 PM', 'Research', 'PC Workstation', 'Shared Hotspot', 4.5, 'No', 'Yes', 'Freelancer', 'Shongwe', ''], ['2021-07-23 00:00:00', 'Fanelesibonge', '78221507', '8:00:00 AM', 'Company Work', 'Brought my own workstation', 'Shared Hotspot', 10.0, 'Yes', 'No', 'Freelancer', 'Malaza', ''], ['2021-07-23 00:00:00', 'Thobeka', '78308314', '12:00:00 AM', 'Research', 'Brought my own workstation', 'Shared Hotspot', 18.0, 'Yes', 'No', 'Freelancer', 'Nxumalo', ''], ['2021-07-23 00:00:00', 'Sikhulile', '79384734', '11:00:00 AM', 'Company Work', 'PC Workstation', 'Shared Hotspot', 6.0, 'Yes', 'No', 'Kingdom XLR', 'Zwane', ''], ['2021-07-23 00:00:00', 'José', '', '8:00:00 AM', 'Company Work', 'Mac Workstation', 'Shared Hotspot', 12.0, 'Yes', 'No', 'Ummo', 'Rego', ''], ['2021-07-23 00:00:00', 'Lungelo', '76313249', '8:00:00 AM', 'Research', 'Keyboard', 'Brought my own internet', 9.0, 'Yes', 'Yes', 'Freelancer', 'Mamba', ''], ['2021-07-23 00:00:00', 'Muzi', '78172372', '12:30:00 PM', 'Content & Creativity', 'Brought my own workstation', 'Shared Hotspot', 3.5, 'Yes', 'Yes', 'Rare Jam', 'Mathunjwa', ''], ['2021-07-23 00:00:00', 'Alex', '76493595', '11:00:00 AM', 'Content & Creativity', 'PC Workstation', 'Shared Hotspot', 6.0, 'Yes', 'No', 'Kingdom XLR', 'Muti', ''], ['2021-07-23 00:00:00', 'Mzwandile', '', '3:30:00 PM', 'Company Work', 'Mac Workstation, Audio Box', 'Shared Hotspot', 3.5, 'Yes', 'No', 'Kingdom XLR', 'Nxumalo', ''], ['2021-07-23 00:00:00', 'Sabelo', '76871675', '1:00:00 PM', 'Company Work', 'Brought my own workstation', 'Shared Hotspot', 4.0, 'Yes', 'Yes', 'SV Tech', 'Vilakati', ''], ['2021-07-23 00:00:00', 'Kwanele', '78158606', '10:30:00 AM', 'Company Work', 'Brought my own workstation', 'Brought my own internet', 5.5, 'Yes', 'Yes', 'Vundzisa', 'Tsabedze', ''], ['2021-07-23 00:00:00', 'Mlungisi', '76068779', '1:30:00 PM', 'Company Work', 'PC Workstation', 'Shared Hotspot', 4.0, 'No', 'Yes', 'Freelancer', 'Shongwe', ''], ['2021-07-24 00:00:00', 'José', '', '8:00:00 AM', 'Company Work', 'Mac Workstation', 'Shared Hotspot', 12.0, 'Yes', 'No', 'Ummo', 'Rego', ''], ['2021-07-24 00:00:00', 'Lungelo', '76313249', '12:00:00 AM', 'Research', 'Keyboard', 'Brought my own internet', 16.0, 'Yes', 'Yes', 'Freelancer', 'Mamba', ''], ['2021-07-24 00:00:00', 'Mlungisi', '76068779', '3:30:00 PM', 'Research', 'PC Workstation', 'Shared Hotspot', 1.75, 'No', 'Yes', 'Freelancer', 'Shongwe', ''], ['2021-07-26 00:00:00', 'Fanelesibonge', '78221507', '8:00:00 AM', 'Company Work', 'Brought my own workstation', 'Shared Hotspot', 10.0, 'Yes', 'No', 'Freelancer', 'Malaza', ''], ['2021-07-26 00:00:00', 'José', '', '8:00:00 AM', 'Company Work', 'Mac Workstation', 'Shared Hotspot', 12.0, 'Yes', 'No', 'Ummo', 'Rego', ''], ['2021-07-26 00:00:00', 'Lungelo', '76313249', '8:00:00 AM', 'Company Work', 'Keyboard', 'Brought my own internet', 9.0, 'Yes', 'Yes', 'Freelancer', 'Mamba', ''], ['2021-07-26 00:00:00', 'Mzwandile', '27634061158', '1:23:00 PM', 'Research', 'Mac Workstation', 'Shared Hotspot', 6.516666666666667, 'Yes', 'No', 'Kingdom XLR', 'Nxumalo', ''], ['2021-07-26 00:00:00', 'Muzi', '78172372', '3:30:00 PM', 'Meeting', 'Brought my own workstation', 'Shared Hotspot', 2.0, 'Yes', 'Yes', 'Rare Jam', 'Mathunjwa', ''], ['2021-07-26 00:00:00', 'Thobeka', '78308314', '7:00:00 AM', 'Company Work', 'Brought my own workstation', 'Shared Hotspot', 11.0, 'Yes', 'No', 'Freelancer', 'Nxumalo', ''], ['2021-07-27 00:00:00', 'Lungelo', '76313249', '8:00:00 AM', 'Research', 'Keyboard', 'Brought my own internet', 10.0, 'Yes', 'Yes', 'Freelancer', 'Mamba', ''], ['2021-07-27 00:00:00', 'José', '', '8:00:00 AM', 'Company Work', 'Mac Workstation', 'Shared Hotspot', 12.0, 'Yes', 'No', 'Ummo', 'Rego', ''], ['2021-07-27 00:00:00', 'Sabelo', '76871675', '10:00:00 AM', 'Company Work', 'Monitor', 'Shared Hotspot', 7.0, 'Yes', 'Yes', 'SV Tech', 'Vilakati', ''], ['2021-07-27 00:00:00', 'Mzwandile', '27634061158', '3:21:00 PM', 'Company Work', 'Mac Workstation', 'Shared Hotspot', 4.683333333333334, 'Yes', 'No', 'Kingdom XLR', 'Nxumalo', ''], ['2021-07-27 00:00:00', 'Sibahle', '78630006', '8:00:00 AM', 'Company Work', 'Mac Workstation', 'Shared Hotspot', 9.0, 'Yes', 'Yes', 'Ummo', 'Mnyakeni', ''], ['2021-07-27 00:00:00', 'Zack', '79323073', '11:00:00 AM', 'Academic Work', 'Monitor', 'Shared Hotspot', 1.0, 'Yes', 'Yes', 'Freelancer', 'Towindo', ''], ['2021-07-27 00:00:00', 'Gcinimiyalo', '76342236', '10:30:00 AM', 'Content & Creativity', 'Mac Workstation', 'Shared Hotspot', 4.0, 'Yes', 'No', 'Freelancer', 'Ntuli', ''], ['2021-07-27 00:00:00', 'Kwanele', '78158606', '12:30:00 AM', 'Research', 'Brought my own workstation', 'Shared Hotspot', 15.75, 'Yes', 'Yes', 'Vundzisa', 'Tsabedze', ''], ['2021-07-27 00:00:00', 'Fanelesibonge', '78221507', '9:00:00 AM', 'Company Work', 'Brought my own workstation', 'Shared Hotspot', 10.0, 'Yes', 'No', 'Freelancer', 'Malaza', ''], ['2021-07-28 00:00:00', 'Thobeka', '78308314', '5:00:00 AM', 'Research', 'Monitor', 'Shared Hotspot', 13.0, 'Yes', 'No', 'Freelancer', 'Nxumalo', ''], ['2021-07-28 00:00:00', 'José', '', '8:00:00 AM', 'Company Work', 'Mac Workstation', 'Shared Hotspot', 12.0, 'Yes', 'No', 'Ummo', 'Rego', ''], ['2021-07-28 00:00:00', 'Fanelesibonge', '78221507', '5:00:00 AM', 'Company Work', 'Brought my own workstation', 'Shared Hotspot', 14.0, 'Yes', 'No', 'Freelancer', 'Malaza', ''], ['2021-07-28 00:00:00', 'Gcinimiyalo', '76342236', '10:30:00 AM', 'Content & Creativity', 'Mac Workstation', 'Shared Hotspot', 4.0, 'Yes', 'No', 'Freelancer', 'Ntuli', ''], ['2021-07-28 00:00:00', 'Zack', '79323073', '12:00:00 AM', 'Research', 'Mac Workstation', 'Shared Hotspot', 17.0, 'Yes', 'Yes', 'Freelancer', 'Towindo', ''], ['2021-07-28 00:00:00', 'Mlungisi', '76068779', '1:35:00 PM', 'Research', 'PC Workstation', 'Shared Hotspot', 4.416666666666667, 'No', 'Yes', 'Freelancer', 'Shongwe', ''], ['2021-07-29 00:00:00', 'Fanelesibonge', '78221507', '5:30:00 AM', 'Company Work', 'Brought my own workstation', 'Shared Hotspot', 14.5, 'Yes', 'No', 'Freelancer', 'Malaza', ''], ['2021-07-29 00:00:00', 'Zack', '7932303', '8:00:00 AM', 'Company Work', 'Mac Workstation', 'Shared Hotspot', 14.0, 'Yes', 'Yes', 'Freelancer', 'Towindo', ''], ['2021-07-29 00:00:00', 'Kwanele', '78158606', '3:40:00 PM', 'Company Work', 'Brought my own workstation', 'Brought my own internet', 2.3333333333333335, 'Yes', 'Yes', 'Vundzisa', 'Tsabedze', ''], ['2021-07-29 00:00:00', 'José', '', '8:00:00 AM', 'Company Work', 'Mac Workstation', 'Shared Hotspot', 12.0, 'Yes', 'No', 'Ummo', 'Rego', ''], ['2021-07-29 00:00:00', 'Muzi', '78172372', '3:45:00 PM', 'Company Work', 'Brought my own workstation', 'Shared Hotspot', 2.75, 'Yes', 'Yes', 'Rare Jam', 'Mathunjwa', ''], ['2021-07-29 00:00:00', 'Mzwandile', '27634061158', '1:23:00 PM', 'Company Work', 'Mac Workstation', 'Brought my own internet', 6.65, 'Yes', 'No', 'Kingdom XLR', 'Nxumalo', ''], ['2021-07-29 00:00:00', 'Gcinimiyalo', '76342236', '4:30:00 PM', 'Content & Creativity', 'Mac Workstation', 'Shared Hotspot', 2.0, 'Yes', 'No', 'Freelancer', 'Ntuli', ''], ['2021-07-30 00:00:00', 'Lungelo', '76313249', '8:00:00 AM', 'Coding', 'Keyboard', 'Brought my own internet', 10.0, 'Yes', 'Yes', 'Freelancer', 'Mamba', ''], ['2021-07-30 00:00:00', 'José', '', '8:00:00 AM', 'Company Work', 'Mac Workstation', 'Shared Hotspot', 12.0, 'Yes', 'No', 'Ummo', 'Rego', ''], ['2021-07-30 00:00:00', 'Thandwa', '76535415', '11:17:00 AM', 'Research', 'PC Workstation', 'Shared Hotspot', 5.716666666666667, 'No', 'Yes', 'Freelancer', 'Mamba', ''], ['2021-07-30 00:00:00', 'Mlungisi', '76068779', '10:30:00 AM', 'Research', 'PC Workstation', 'Shared Hotspot', 7.333333333333333, 'No', 'Yes', 'Freelancer', 'Shongwe', ''], ['2021-07-31 00:00:00', 'Mzwandile', '', '3:30:00 PM', 'Company Work', 'Mac Workstation, Audio Box', 'Shared Hotspot', 3.5, 'Yes', 'No', 'Kingdom XLR', 'Nxumalo', ''], ['2021-07-31 00:00:00', 'Gcinimiyalo', '76342236', '8:15:00 AM', 'Research', 'Mac Workstation', 'Shared Hotspot', 0.25, 'Yes', 'No', 'Freelancer', 'Ntuli', ''], ['2021-07-31 00:00:00', 'José', '', '8:00:00 AM', 'Company Work', 'Mac Workstation', 'Shared Hotspot', 12.0, 'Yes', 'No', 'Ummo', 'Rego', ''], ['2021-07-31 00:00:00', 'Fanelesibonge', '78221507', '8:00:00 AM', 'Research', 'Brought my own workstation', 'Shared Hotspot', 10.5, 'Yes', 'No', 'Freelancer', 'Malaza', ''], ['2021-07-31 00:00:00', 'Mlungisi', '76068779', '1:30:00 PM', 'Research', 'PC Workstation', 'Shared Hotspot', 4.833333333333333, 'No', 'Yes', 'Freelancer', 'Shongwe', ''], ['2021-08-02 00:00:00', 'José', '', '8:00:00 AM', 'Company Work', 'Mac Workstation', 'Shared Hotspot', 12.0, 'Yes', 'No', 'Ummo', 'Rego', ''], ['2021-08-02 00:00:00', 'Gcinimiyalo', '76342236', '10:00:00 AM', 'Content & Creativity', 'Mac Workstation', 'Shared Hotspot', 3.0, 'Yes', 'No', 'Freelancer', 'Ntuli', ''], ['2021-08-02 00:00:00', 'Muzi', '78172372', '3:30:00 PM', 'Meeting', 'Brought my own workstation', 'Shared Hotspot', 1.5, 'Yes', 'Yes', 'Rare Jam', 'Mathunjwa', ''], ['2021-08-02 21:49:18', 'Zack', '79323073', '11:00:00 AM', 'Academic Work', 'PC Workstation', 'Shared Hotspot', 9.0, 'Yes', 'Yes', 'Freelancer', 'Towindo', ''], ['2021-08-03 12:00:39', 'Bafana', '(+268) 7604 0391', '8:30:00 AM', 'Content & Creativity', 'PC Workstation', 'Shared Hotspot', 8.5, 'Yes', 'No', 'Snowsen', 'Gama', ''], ['2021-08-03 00:00:00', 'José', '', '8:00:00 AM', 'Company Work', 'Mac Workstation', 'Shared Hotspot', 12.0, 'Yes', 'No', 'Ummo', 'Rego', ''], ['2021-08-03 15:22:48', 'Lungelo', '76313249', '8:00:00 AM', 'Company Work', 'Keyboard', 'Brought my own internet', 9.0, 'Yes', 'Yes', 'Freelancer', 'Mamba', ''], ['2021-08-03 16:42:16', 'Gcinimiyalo', '76342236', '11:00:00 AM', 'Content & Creativity', 'Mac Workstation', 'Shared Hotspot', 6.5, 'Yes', 'No', 'Freelancer', 'Ntuli', ''], ['2021-08-03 18:20:21', 'Mlungisi', '76068779', '1:30:00 PM', 'Research', 'PC Workstation', 'Shared Hotspot', 4.833333333333333, 'No', 'Yes', 'Freelancer', 'Shongwe', ''], ['2021-08-03 20:36:31', 'Fanelesibonge', '78221507', '8:00:00 AM', 'Coding', 'Brought my own workstation', 'Shared Hotspot', 12.0, 'Yes', 'No', 'Freelancer', 'Malaza', ''], ['2021-08-03 20:37:58', 'Thobeka', '78308314', '8:00:00 AM', 'Company Work', 'Brought my own workstation', 'Shared Hotspot', 12.0, 'Yes', 'No', 'Freelancer', 'Nxumalo', ''], ['2021-08-04 08:32:45', 'Thobeka', '78308314', '8:30:00 AM', 'Company Work', 'Brought my own workstation', 'Shared Hotspot', 11.5, 'Yes', 'No', 'Freelancer', 'Nxumalo', ''], ['2021-08-04 10:51:19', 'Gcinimiyalo', '76342236', '9:00:00 AM', 'Content & Creativity', 'Mac Workstation', 'Shared Hotspot', 8.0, 'Yes', 'No', 'Freelancer', 'Ntuli', ''], ['2021-08-04 00:00:00', 'José', '', '8:00:00 AM', 'Company Work', 'Mac Workstation', 'Shared Hotspot', 12.0, 'Yes', 'No', 'Ummo', 'Rego', ''], ['2021-08-04 11:35:15', 'Bafana', '(+268) 7604 0391', '10:00:00 AM', 'Content & Creativity', 'PC Workstation', 'Shared Hotspot', 8.0, 'Yes', 'No', 'Snowsen', 'Gama', ''], ['2021-08-04 11:35:15', 'Mzwandile', '', '3:30:00 PM', 'Company Work', 'Mac Workstation, Audio Box', 'Shared Hotspot', 3.5, 'Yes', 'No', 'Kingdom XLR', 'Nxumalo', ''], ['2021-08-04 11:58:05', 'Fanelesibonge', '78221507', '8:00:00 AM', 'Company Work', 'Brought my own workstation', 'Shared Hotspot', 12.0, 'Yes', 'No', 'Freelancer', 'Malaza', ''], ['2021-08-04 15:39:00', 'Muzi', '78172372', '3:37:00 PM', 'Content & Creativity', 'Brought my own workstation', 'Shared Hotspot', 1.3833333333333333, 'Yes', 'Yes', 'Rare Jam', 'Mathunjwa', ''], ['2021-08-04 18:19:20', 'Mlungisi', '76068779', '2:20:00 PM', 'Research', 'PC Workstation', 'Shared Hotspot', 4.0, 'No', 'Yes', 'Freelancer', 'Shongwe', ''], ['2021-08-05 11:02:02', 'Bafana', '(+268) 7604 0391', '11:00:00 AM', 'Content & Creativity', 'PC Workstation', 'Shared Hotspot', 8.0, 'Yes', 'No', 'Snowsen', 'Gama', ''], ['2021-08-05 13:35:05', 'Fanelesibonge', '78221507', '7:30:00 AM', 'Coding', 'Brought my own workstation', 'Shared Hotspot', 12.5, 'Yes', 'No', 'Freelancer', 'Malaza', ''], ['2021-08-05 00:00:00', 'José', '', '8:00:00 AM', 'Company Work', 'Mac Workstation', 'Shared Hotspot', 12.0, 'Yes', 'No', 'Ummo', 'Rego', ''], ['2021-08-05 15:17:01', 'Muzi', '78172372', '3:15:00 PM', 'Research', 'Brought my own workstation', 'Shared Hotspot', 1.75, 'Yes', 'Yes', 'Rare Jam', 'Mathunjwa', ''], ['2021-08-05 15:21:49', 'Jonathan', '79483429', '2:55:00 PM', 'Research', 'Brought my own workstation', 'Brought my own internet', 9.916666666666666, 'No', 'Yes', 'Kingdom XLR', 'Mulumba Obiege', ''], ['2021-08-05 18:15:56', 'Mlungisi', '76068779', '11:30:00 AM', 'Research', 'PC Workstation', 'Shared Hotspot', 6.833333333333333, 'No', 'Yes', 'Freelancer', 'Shongwe', ''], ['2021-08-06 09:39:21', 'Fanelesibonge', '78221507', '8:30:00 AM', 'Company Work', 'Brought my own workstation', 'Shared Hotspot', 13.5, 'Yes', 'No', 'Freelancer', 'Malaza', ''], ['2021-08-06 12:26:48', 'Gcinimiyalo', '76342236', '10:00:00 AM', 'Content & Creativity', 'Mac Workstation', 'Shared Hotspot', 7.0, 'Yes', 'No', 'Freelancer', 'Ntuli', ''], ['2021-08-06 12:56:08', 'Kwanele', '78158606', '11:30:00 AM', 'Company Work', 'Brought my own workstation', 'Shared Hotspot', 7.5, 'Yes', 'Yes', 'Vundzisa', 'Tsabedze', ''], ['2021-08-06 00:00:00', 'José', '', '8:00:00 AM', 'Company Work', 'Mac Workstation', 'Shared Hotspot', 12.0, 'Yes', 'No', 'Ummo', 'Rego', ''], ['2021-08-06 14:22:33', 'Sikhulile', '79384734', '11:00:00 AM', 'Company Work', 'Mac Workstation', 'Shared Hotspot', 6.0, 'Yes', 'No', 'Kingdom XLR', 'Zwane', ''], ['2021-08-06 16:23:51', 'Zack', '79323073', '2:00:00 PM', 'Meeting', 'Brought my own workstation', 'Brought my own internet', 4.0, 'Yes', 'Yes', 'Freelancer', 'Towindo', ''], ['2021-08-06 17:02:29', 'Mlungisi', '76068779', '10:30:00 AM', 'Research', 'PC Workstation', 'Shared Hotspot', 6.666666666666667, 'No', 'Yes', 'Freelancer', 'Shongwe', ''], ['2021-08-07 10:32:53', 'Bafana', '+268 7944 9033', '10:00:00 AM', 'Content & Creativity', 'PC Workstation', 'Shared Hotspot', 1.0, 'Yes', 'No', 'Snowsen', 'Gama', ''], ['2021-08-07 00:00:00', 'José', '', '8:00:00 AM', 'Company Work', 'Mac Workstation', 'Shared Hotspot', 12.0, 'Yes', 'No', 'Ummo', 'Rego', ''], ['2021-08-07 11:36:22', 'Lungelo', '76313249', '11:00:00 AM', 'Company Work', 'Brought my own workstation', 'Brought my own internet', 5.0, 'Yes', 'Yes', 'Freelancer', 'Mamba', ''], ['2021-08-07 12:04:20', 'Fezile', '+268 76152908', '12:02:00 PM', 'Research', 'Brought my own workstation', 'Shared Hotspot', 2.966666666666667, 'No', 'Yes', 'Freelancer', 'Mhlabane', ''], ['2021-08-07 14:14:07', 'Bafana', '+268 7944 9033', '2:00:00 PM', 'Company Work', 'PC Workstation', 'Shared Hotspot', 3.0, 'Yes', 'No', 'Snowsen', 'Gama', ''], ['2021-08-07 16:18:59', 'Mlungisi', '76068779', '11:30:00 PM', 'Research', 'PC Workstation', 'Shared Hotspot', 7.0, 'No', 'Yes', 'Freelancer', 'Shongwe', ''], ['2021-08-08 10:41:33', 'Bafana', '(+268) 7944 9033', '10:30:00 AM', 'Company Work', 'PC Workstation', 'Shared Hotspot', 2.5, 'Yes', 'No', 'Snowsen', 'Gama', ''], ['2021-08-08 10:48:01', 'Simanga', '78501932', '10:44:00 AM', 'Content & Creativity', 'Mac Workstation', 'Shared Hotspot', 3.2666666666666666, 'Yes', 'No', 'Freelancer', 'Ntsini', ''], ['2021-08-08 00:00:00', 'José', '', '8:00:00 AM', 'Company Work', 'Mac Workstation', 'Shared Hotspot', 12.0, 'Yes', 'No', 'Ummo', 'Rego', ''], ['2021-08-08 14:15:21', 'Kwanele', '78158606', '11:30:00 AM', 'Company Work', 'Brought my own workstation', 'Shared Hotspot', 5.5, 'Yes', 'Yes', 'Vundzisa', 'Tsabedze', ''], ['2021-08-08 14:23:03', 'Gcinimiyalo', '76342236', '2:00:00 PM', 'Content & Creativity', 'Mac Workstation', 'Shared Hotspot', 3.0, 'Yes', 'No', 'Freelancer', 'Ntuli', ''], ['2021-08-09 08:48:58', 'Fanelesibonge', '78221507', '8:30:00 AM', 'Company Work', 'PC Workstation', 'Shared Hotspot', 13.5, 'Yes', 'No', 'Freelancer', 'Malaza', ''], ['2021-08-09 09:15:07', 'Lungelo', '76313249', '8:00:00 AM', 'Research', 'Keyboard', 'Brought my own internet', 9.0, 'Yes', 'Yes', 'Freelancer', 'Mamba', ''], ['2021-08-09 10:10:31', 'Zack', '79323073', '10:00:00 AM', 'Academic Work', 'Mac Workstation', 'Shared Hotspot', 5.0, 'Yes', 'Yes', 'Freelancer', 'Towindo', ''], ['2021-08-09 10:10:42', 'Gcinimiyalo', '76342236', '10:00:00 AM', 'Content & Creativity', 'Mac Workstation', 'Shared Hotspot', 7.0, 'Yes', 'No', 'Freelancer', 'Ntuli', ''], ['2021-08-09 10:21:09', 'Bafana', '(+268) 7944 9033', '10:00:00 AM', 'Company Work', 'PC Workstation', 'Shared Hotspot', 7.0, 'Yes', 'No', 'Snowsen', 'Gama', ''], ['2021-08-09 11:58:54', 'José', '', '8:00:00 AM', 'Company Work', 'Mac Workstation', 'Shared Hotspot', 12.0, 'Yes', 'No', 'Ummo', 'Rego', ''], ['2021-08-09 14:33:53', 'Mlungisi', '', '11:15:00 PM', 'Research', 'Brought my own workstation', 'Shared Hotspot', 5.25, 'No', 'Yes', 'Freelancer', 'Shongwe', ''], ['2021-08-09 15:51:08', 'Thobeka', '', '8:00:00 AM', 'Research', 'Brought my own workstation', 'Shared Hotspot', 12.0, 'Yes', 'No', 'Freelancer', 'Nxumalo', ''], ['2021-08-09 16:24:33', 'Muzi', '', '3:50:00 PM', 'Research', 'Brought my own workstation', 'Shared Hotspot', 1.1666666666666667, 'Yes', 'Yes', 'Rare Jam', 'Mathunjwa', ''], ['2021-08-10 08:08:19', 'Gcinimiyalo', '', '7:45:00 AM', 'Content & Creativity', 'Mac Workstation', 'Shared Hotspot', 9.25, 'Yes', 'No', 'Freelancer', 'Ntuli', ''], ['2021-08-10 09:19:15', 'Lungelo', '', '8:30:00 AM', 'Academic Work', 'Keyboard', 'Brought my own internet', 8.5, 'Yes', 'Yes', 'Freelancer', 'Mamba', ''], ['2021-08-10 09:46:40', 'José', '', '8:00:00 AM', 'Company Work, Research, Coding', 'Mac Workstation', 'Shared Hotspot', 12.0, 'Yes', 'No', 'Ummo', 'Rego', ''], ['2021-08-10 10:00:39', 'Bafana', '', '9:30:00 AM', 'Company Work, Content & Creativity', 'PC Workstation, Keyboard, Mouse, Monitor', 'Shared Hotspot', 6.5, 'Yes', 'No', 'Snowsen', 'Gama', ''], ['2021-08-10 10:02:07', 'Tiyandza', '', '9:30:00 AM', 'Company Work, Research', 'PC Workstation, Keyboard, Mouse, Monitor', \"Don't need internet\", 4.5, 'Yes', 'No', 'Snowsen', 'Cindzi', ''], ['2021-08-10 10:05:02', 'Kwanele', '', '9:00:00 AM', 'Company Work', 'Brought my own workstation', 'Shared Hotspot', 7.0, 'Yes', 'Yes', 'Vundzisa', 'Tsabedze', ''], ['2021-08-10 10:05:56', 'Fanelesibonge', '', '7:00:00 AM', 'Coding', 'Brought my own workstation', 'Shared Hotspot', 13.0, 'Yes', 'No', 'Freelancer', 'Malaza', ''], ['2021-08-10 10:14:31', 'Thobeka', '', '7:00:00 AM', 'Company Work, Content & Creativity', 'Mouse, Brought my own workstation', 'Shared Hotspot', 13.0, 'Yes', 'No', 'Freelancer', 'Nxumalo', ''], ['2021-08-10 12:15:25', 'Bagcinele', '', '11:00:00 AM', 'Research', 'Mac Workstation', 'Shared Hotspot', 5.0, 'Yes', 'No', 'Kingdom XLR', 'Fakudze', ''], ['2021-08-10 12:16:09', 'Bagcinele', '', '11:00:00 AM', 'Research', 'Mac Workstation', 'Shared Hotspot', 5.0, 'Yes', 'No', 'Kingdom XLR', 'Fakudze', ''], ['2021-08-10 12:19:02', 'Sibahle', '', '8:00:00 PM', 'Company Work, Meeting', 'Mac Workstation', 'Shared Hotspot', 2.0, 'Yes', 'Yes', 'Ummo', 'Mnyakeni', ''], ['2021-08-10 16:43:03', 'Mlungisi', '', '11:30:00 AM', 'Research', 'Brought my own workstation', 'Shared Hotspot', 5.2, 'No', 'Yes', 'Freelancer', 'Shongwe', ''], ['2021-08-11 08:55:09', 'Lungelo', '', '8:00:00 AM', 'Research, Coding', 'Keyboard, Brought my own workstation', 'Shared Hotspot', 9.0, 'Yes', 'Yes', 'Freelancer', 'Mamba', ''], ['2021-08-11 09:31:11', 'José', '', '8:00:00 AM', 'Company Work', 'Mac Workstation', 'Shared Hotspot', 12.0, 'Yes', 'No', 'Ummo', 'Rego', ''], ['2021-08-11 10:04:55', 'Gcinimiyalo', '', '9:30:00 AM', 'Content & Creativity', 'Mac Workstation', 'Shared Hotspot', 7.5, 'Yes', 'No', 'Freelancer', 'Ntuli', ''], ['2021-08-11 11:04:00', 'Bafana', '', '11:00:00 AM', 'Content & Creativity, Coding', 'PC Workstation, Keyboard, Mouse, Monitor', 'Shared Hotspot', 6.0, 'Yes', 'No', 'Snowsen', 'Gama', ''], ['2021-08-11 11:53:58', 'Lindinkosi', '', '11:20:00 AM', 'Meeting', 'Brought my own workstation', 'Shared Hotspot', 1.3333333333333333, 'No', 'Yes', 'Freelancer', 'Mdluli', ''], ['2021-08-11 12:12:49', 'Fanelesibonge', '', '8:30:00 AM', 'Coding', 'Brought my own workstation', 'Shared Hotspot', 12.5, 'Yes', 'No', 'Freelancer', 'Malaza', ''], ['2021-08-11 14:35:15', 'Maphila', '', '12:15:00 PM', 'Meeting', 'Mac Workstation', 'Shared Hotspot', 2.4166666666666665, 'Yes', 'No', 'Guwava', 'Kunene', ''], ['2021-08-11 16:59:43', 'Mlungisi', '', '12:15:00 PM', 'Research', 'Brought my own workstation', 'Shared Hotspot', 4.75, 'No', 'Yes', 'Freelancer', 'Shongwe', ''], ['2021-08-11 17:03:26', 'Thobeka', '', '8:00:00 AM', 'Company Work, Content & Creativity', 'Mouse, Brought my own workstation', 'Shared Hotspot', 13.0, 'Yes', 'No', 'Freelancer', 'Nxumalo', ''], ['2021-08-12 06:46:44', 'Fanelesibonge', '', '8:30:00 AM', 'Coding', 'Brought my own workstation', 'Shared Hotspot', 12.5, 'Yes', 'No', 'Freelancer', 'Malaza', ''], ['2021-08-12 08:53:21', 'Lungelo', '', '8:00:00 AM', 'Research', 'Keyboard, Brought my own workstation', 'Brought my own internet', 9.0, 'Yes', 'Yes', 'Freelancer', 'Mamba', ''], ['2021-08-12 08:57:29', 'Gcinimiyalo', '', '8:30:00 AM', 'Content & Creativity', 'Mac Workstation', 'Shared Hotspot', 8.5, 'Yes', 'No', 'Freelancer', 'Ntuli', ''], ['2021-08-12 08:59:17', 'Sibahle', '', '8:00:00 AM', 'Company Work, Academic Work', 'Mac Workstation', 'Shared Hotspot', 10.0, 'Yes', 'Yes', 'Ummo', 'Mnyakeni', ''], ['2021-08-12 09:17:20', 'José', '', '8:00:00 AM', 'Company Work, Coding', 'Mac Workstation', 'Shared Hotspot', 12.0, 'Yes', 'No', 'Ummo', 'Rego', ''], ['2021-08-12 11:43:37', 'Tiyandza', '', '11:30:00 AM', 'Company Work', 'PC Workstation, Keyboard, Mouse, Monitor', 'Shared Hotspot', 4.5, 'Yes', 'No', 'Snowsen', 'Cindzi', ''], ['2021-08-12 11:44:35', 'Bafana', '', '11:30:00 AM', 'Research, Content & Creativity, Coding', 'PC Workstation, Keyboard, Mouse, Monitor', 'Shared Hotspot', 4.5, 'Yes', 'No', 'Snowsen', 'Gama', ''], ['2021-08-12 13:38:37', 'Kwanele', '', '1:25:00 PM', 'Company Work', 'Brought my own workstation', 'Shared Hotspot', 4.583333333333333, 'Yes', 'Yes', 'Vundzisa', 'Tsabedze', ''], ['2021-08-12 13:41:03', 'Thobeka', '', '9:30:00 AM', 'Company Work, Content & Creativity', 'Mouse, Brought my own workstation', 'Shared Hotspot', 11.5, 'Yes', 'No', 'Freelancer', 'Nxumalo', ''], ['2021-08-12 13:47:52', 'Sabelo', '', '10:00:00 AM', 'Company Work', 'Monitor', 'Shared Hotspot', 7.0, 'Yes', 'Yes', 'SV Tech', 'Vilakati', ''], ['2021-08-13 05:30:35', 'José', '', '5:30:00 AM', 'Company Work, Research, Coding', 'Mac Workstation', 'Shared Hotspot', 14.5, 'Yes', 'No', 'Ummo', 'Rego', ''], ['2021-08-13 09:16:47', 'Fanelesibonge', '', '8:00:00 AM', 'Coding', 'Brought my own workstation', 'Shared Hotspot', 13.0, 'Yes', 'No', 'Freelancer', 'Malaza', ''], ['2021-08-13 09:34:01', 'Lungelo', '', '8:00:00 AM', 'Research', 'Keyboard, Brought my own workstation', 'Brought my own internet', 9.0, 'Yes', 'Yes', 'Freelancer', 'Mamba', ''], ['2021-08-13 09:51:42', 'Kwanele', '', '8:00:00 AM', 'Company Work', 'Brought my own workstation', 'Shared Hotspot', 10.0, 'Yes', 'Yes', 'Vundzisa', 'Tsabedze', ''], ['2021-08-13 10:13:01', 'Sibahle', '', '10:11:00 AM', 'Company Work, Academic Work', 'Mac Workstation', 'Shared Hotspot', 7.816666666666666, 'Yes', 'Yes', 'Ummo', 'Mnyakeni', ''], ['2021-08-13 11:00:38', 'Tiyandza', '', '11:00:00 AM', 'Company Work, Research', 'PC Workstation', 'Shared Hotspot', 5.0, 'Yes', 'No', 'Snowsen', 'Cindzi', ''], ['2021-08-13 13:11:12', 'Jonathan', '', '12:00:00 PM', 'Research', 'Brought my own workstation', 'Shared Hotspot', 10.0, 'No', 'Yes', 'Kingdom XLR', 'Mulumba Obiege', ''], ['2021-08-13 13:13:05', 'Bafana', '', '9:30:00 AM', 'Company Work', 'PC Workstation, Keyboard, Mouse, Monitor', 'Shared Hotspot', 6.5, 'Yes', 'No', 'Snowsen', 'Gama', ''], ['2021-08-13 13:13:47', 'Tiyandza', '', '9:30:00 AM', 'Company Work, Research', 'PC Workstation, Keyboard, Mouse, Monitor', 'Shared Hotspot', 6.5, 'Yes', 'No', 'Snowsen', 'Cindzi', ''], ['2021-08-13 18:05:19', 'Mlungisi', '', '11:20:00 AM', 'Research', 'Brought my own workstation', 'Shared Hotspot', 6.833333333333333, 'No', 'Yes', 'Freelancer', 'Shongwe', ''], ['2021-08-14 10:48:42', 'Gcinimiyalo', '', '10:00:00 AM', 'Content & Creativity', 'Mac Workstation', 'Shared Hotspot', 7.0, 'Yes', 'No', 'Freelancer', 'Ntuli', ''], ['2021-08-14 12:07:42', 'José', '', '9:00:00 AM', 'Company Work, Research, Coding', 'Mac Workstation', 'Shared Hotspot', 11.0, 'Yes', 'No', 'Ummo', 'Rego', ''], ['2021-08-14 12:18:50', 'Tiyandza', '', '12:00:00 PM', 'Company Work, Content & Creativity', 'PC Workstation, Keyboard, Mouse, Monitor', 'Shared Hotspot', 5.0, 'Yes', 'No', 'Snowsen', 'Cindzi', ''], ['2021-08-14 12:19:42', 'Bafana', '', '12:00:00 PM', 'Company Work, Content & Creativity', 'PC Workstation, Keyboard, Mouse, Monitor', 'Shared Hotspot', 5.0, 'Yes', 'No', 'Snowsen', 'Gama', ''], ['2021-08-14 13:50:02', 'Fanelesibonge', '', '8:30:00 AM', 'Meeting, Coding', 'Mouse, Brought my own workstation', 'Shared Hotspot', 10.5, 'Yes', 'No', 'Freelancer', 'Malaza', ''], ['2021-08-14 18:04:33', 'Mlungisi', '', '1:50:00 PM', 'Research', 'Brought my own workstation', 'Shared Hotspot', 4.333333333333333, 'No', 'Yes', 'Freelancer', 'Shongwe', ''], ['2021-08-15 08:37:35', 'Bafana', '', '8:00:00 AM', 'Company Work, Content & Creativity', 'PC Workstation, Keyboard, Mouse, Monitor', 'Brought my own internet', 10.0, 'Yes', 'No', 'Snowsen', 'Gama', ''], ['2021-08-15 13:19:19', 'Gcinimiyalo', '', '1:00:00 PM', 'Content & Creativity', 'Mac Workstation', 'Shared Hotspot', 2.0, 'Yes', 'No', 'Freelancer', 'Ntuli', ''], ['2021-08-15 13:21:58', 'Simanga', '', '1:20:00 AM', 'Research', 'Mac Workstation', 'Shared Hotspot', 15.666666666666666, 'Yes', 'No', 'Freelancer', 'Ntsini', ''], ['2021-08-15 14:10:10', 'José', '', '9:00:00 AM', 'Company Work, Coding', 'Mac Workstation', 'Shared Hotspot', 9.0, 'Yes', 'No', 'Ummo', 'Rego', ''], ['2021-08-15 15:23:42', 'Siphumelele', '', '1:00:00 PM', 'Content & Creativity', 'Brought my own workstation', \"Don't need internet\", 2.5, 'Yes', 'Yes', 'Freelancer', 'Malambe', ''], ['2021-08-15 18:16:14', 'Fanelesibonge', '', '1:00:00 PM', 'Coding', 'Brought my own workstation', 'Shared Hotspot', 8.0, 'Yes', 'No', 'Freelancer', 'Malaza', ''], ['2021-08-15 19:23:58', 'Muzi', '', '4:00:00 PM', 'Content & Creativity', 'Brought my own workstation', 'Shared Hotspot', 3.5, 'Yes', 'Yes', 'Rare Jam', 'Mathunjwa', ''], ['2021-08-15 19:23:58', 'Mzwandile', '', '4:00:00 PM', 'Company Work, Content & Creativity', 'Brought my own workstation', 'Shared Hotspot', 3.5, 'Yes', 'No', 'Kingdom XLR', 'Nxumalo', ''], ['2021-08-16 10:29:11', 'Bafana', '', '10:30:00 AM', 'Company Work, Coding', 'PC Workstation, Keyboard, Mouse, Monitor', 'Brought my own internet', 5.5, 'Yes', 'No', 'Snowsen', 'Gama', ''], ['2021-08-16 10:43:50', 'José', '', '8:00:00 AM', 'Company Work, Research, Coding', 'Mac Workstation', 'Shared Hotspot', 12.0, 'Yes', 'No', 'Ummo', 'Rego', ''], ['2021-08-16 11:41:07', 'Sabelo', '', '11:40:00 AM', 'Company Work', 'Monitor', 'Brought my own internet', 5.333333333333333, 'Yes', 'Yes', 'SV Tech', 'Vilakati', ''], ['2021-08-16 11:45:58', 'Gcinimiyalo', '', '11:45:00 AM', 'Content & Creativity', 'Mac Workstation', 'Shared Hotspot', 5.25, 'Yes', 'No', 'Freelancer', 'Ntuli', ''], ['2021-08-16 15:21:50', 'Sibahle', '', '8:00:00 AM', 'Company Work', 'Mac Workstation', 'Shared Hotspot', 10.0, 'Yes', 'Yes', 'Ummo', 'Mnyakeni', ''], ['2021-08-16 15:31:17', 'Simanga', '', '3:29:00 PM', 'Research', 'Mac Workstation', 'Shared Hotspot', 4.516666666666667, 'Yes', 'No', 'Freelancer', 'Ntsini', ''], ['2021-08-16 16:47:21', 'Fanelesibonge', '', '11:00:00 AM', 'Coding', 'Brought my own workstation', 'Shared Hotspot', 10.0, 'Yes', 'No', 'Freelancer', 'Malaza', ''], ['2021-08-17 09:50:51', 'Fanelesibonge', '', '8:45:00 AM', 'Coding', 'Mouse, Brought my own workstation', 'Shared Hotspot', 12.25, 'Yes', 'No', 'Freelancer', 'Malaza', ''], ['2021-08-17 11:08:20', 'Sibahle', '', '8:00:00 AM', 'Company Work, Academic Work, Research', 'Mac Workstation', 'Shared Hotspot', 10.0, 'Yes', 'Yes', 'Ummo', 'Mnyakeni', ''], ['2021-08-17 11:22:02', 'Lungelo', '', '11:00:00 AM', 'Research', 'Keyboard, Brought my own workstation', 'Brought my own internet', 6.0, 'Yes', 'Yes', 'Freelancer', 'Mamba', ''], ['2021-08-17 11:34:55', 'Gcinimiyalo', '', '11:00:00 AM', 'Content & Creativity', 'Mac Workstation', 'Shared Hotspot', 6.0, 'Yes', 'No', 'Freelancer', 'Ntuli', ''], ['2021-08-17 11:52:55', 'Tiyandza', '', '11:52:00 AM', 'Company Work, Research, Content & Creativity', 'PC Workstation, Keyboard, Mouse, Monitor', 'Shared Hotspot', 5.133333333333334, 'Yes', 'No', 'Snowsen', 'Cindzi', ''], ['2021-08-17 11:54:09', 'Bafana', '', '11:53:00 AM', 'Company Work, Content & Creativity', 'PC Workstation, Keyboard, Mouse, Monitor', 'Shared Hotspot', 5.116666666666666, 'Yes', 'No', 'Snowsen', 'Gama', ''], ['2021-08-17 14:11:46', 'José', '', '8:00:00 AM', 'Company Work, Research, Meeting', 'Mac Workstation', 'Shared Hotspot', 12.0, 'Yes', 'No', 'Ummo', 'Rego', ''], ['2021-08-17 15:10:17', 'Zack', '', '2:00:00 PM', 'Meeting', 'Brought my own workstation', 'Brought my own internet', 2.0, 'Yes', 'Yes', 'Freelancer', 'Towindo', ''], ['2021-08-17 16:38:16', 'Mlungisi', '', '12:30:00 PM', 'Research', 'Brought my own workstation', 'Shared Hotspot', 4.5, 'No', 'Yes', 'Freelancer', 'Shongwe', ''], ['2021-08-17 23:34:22', 'Kwanele', '', '2:40:00 PM', 'Company Work', 'Brought my own workstation', 'Shared Hotspot', 3.3333333333333335, 'Yes', 'Yes', 'Vundzisa', 'Tsabedze', ''], ['2021-08-18 09:17:15', 'Thobeka', '', '8:00:00 AM', 'Company Work, Content & Creativity', 'Brought my own workstation', 'Shared Hotspot', 13.5, 'Yes', 'No', 'Freelancer', 'Nxumalo', ''], ['2021-08-18 09:18:08', 'Bafana', '', '8:00:00 AM', 'Content & Creativity, Coding', 'PC Workstation, Keyboard, Mouse, Monitor', 'Shared Hotspot', 11.5, 'Yes', 'No', 'Snowsen', 'Gama', ''], ['2021-08-18 09:18:32', 'Fanelesibonge', '', '8:00:00 AM', 'Coding', 'Mouse, Brought my own workstation', 'Shared Hotspot', 13.5, 'Yes', 'No', 'Freelancer', 'Malaza', ''], ['2021-08-18 09:18:56', 'Tiyandza', '', '8:00:00 AM', 'Company Work, Content & Creativity', 'PC Workstation, Keyboard, Mouse, Monitor', 'Shared Hotspot', 11.5, 'Yes', 'No', 'Snowsen', 'Cindzi', ''], ['2021-08-18 12:39:40', 'Gcinimiyalo', '', '11:00:00 AM', 'Content & Creativity', 'Mac Workstation', 'Shared Hotspot', 6.0, 'Yes', 'No', 'Freelancer', 'Ntuli', ''], ['2021-08-18 12:45:05', 'Lungelo', '', '10:00:00 AM', 'Research', 'Keyboard, Brought my own workstation', 'Brought my own internet', 8.0, 'Yes', 'Yes', 'Freelancer', 'Mamba', ''], ['2021-08-18 14:06:10', 'José', '', '8:00:00 AM', 'Meeting', 'Mac Workstation', 'Shared Hotspot', 12.0, 'Yes', 'No', 'Ummo', 'Rego', ''], ['2021-08-19 10:15:24', 'Tiyandza', '', '10:15:00 AM', 'Company Work, Research', 'PC Workstation, Keyboard, Mouse, Monitor', 'Shared Hotspot', 6.75, 'Yes', 'No', 'Snowsen', 'Cindzi', ''], ['2021-08-19 10:15:29', 'Bafana', '', '8:30:00 AM', 'Company Work, Content & Creativity, Coding', 'PC Workstation, Keyboard, Mouse, Monitor', 'Shared Hotspot', 8.5, 'Yes', 'No', 'Snowsen', 'Gama', ''], ['2021-08-19 10:23:29', 'Kwanele', '', '9:30:00 AM', 'Company Work', 'Brought my own workstation', 'Shared Hotspot', 8.5, 'Yes', 'Yes', 'Vundzisa', 'Tsabedze', ''], ['2021-08-19 10:25:56', 'Mzwandile', '', '3:56:00 PM', 'Company Work', 'Mac Workstation, Audio Box', 'Shared Hotspot', 4.916666666666667, 'Yes', 'No', 'Kingdom XLR', 'Nxumalo', ''], ['2021-08-19 10:26:10', 'Simanga', '', '10:25:00 AM', 'Content & Creativity', 'Mac Workstation', 'Shared Hotspot', 6.583333333333333, 'Yes', 'No', 'Freelancer', 'Ntsini', ''], ['2021-08-19 16:03:58', 'Gcinimiyalo', '', '2:00:00 PM', 'Content & Creativity', 'Mac Workstation', 'Shared Hotspot', 3.0, 'Yes', 'No', 'Freelancer', 'Ntuli', ''], ['2021-08-19 18:26:51', 'Mlungisi', '', '12:10:00 PM', 'Research', 'Brought my own workstation', 'Shared Hotspot', 6.333333333333333, 'No', 'Yes', 'Freelancer', 'Shongwe', ''], ['2021-08-20 09:34:34', 'Bafana', '', '9:00:00 AM', 'Content & Creativity', 'PC Workstation, Keyboard, Mouse, Monitor', 'Shared Hotspot', 10.0, 'Yes', 'No', 'Snowsen', 'Gama', ''], ['2021-08-20 09:35:40', 'Tiyandza', '', '9:00:00 AM', 'Content & Creativity', 'PC Workstation, Keyboard, Mouse, Monitor', 'Shared Hotspot', 1.0, 'Yes', 'No', 'Snowsen', 'Cindzi', ''], ['2021-08-20 09:57:58', 'Gcinimiyalo', '', '9:30:00 AM', 'Content & Creativity', 'Mac Workstation', 'Shared Hotspot', 3.5, 'Yes', 'No', 'Freelancer', 'Ntuli', ''], ['2021-08-20 09:58:59', 'Fanelesibonge', '', '8:00:00 AM', 'Coding', 'Brought my own workstation', 'Shared Hotspot', 13.0, 'Yes', 'No', 'Freelancer', 'Malaza', ''], ['2021-08-20 11:54:50', 'Lungelo', '', '11:00:00 AM', 'Research, Coding', 'Keyboard, Brought my own workstation', 'Brought my own internet', 7.0, 'Yes', 'Yes', 'Freelancer', 'Mamba', ''], ['2021-08-20 16:20:35', 'Mlungisi', '', '1:15:00 PM', 'Research', 'Brought my own workstation', 'Shared Hotspot', 4.166666666666667, 'No', 'Yes', 'Freelancer', 'Shongwe', ''], ['2021-08-20 19:20:36', 'Mnqobi', '', '6:30:00 PM', 'Content & Creativity', 'Brought my own workstation', 'Shared Hotspot', 1.5, 'No', 'Yes', 'Freelancer', 'Nkambule', ''], ['2021-08-20 19:21:33', 'Muzi', '', '6:30:00 PM', 'Content & Creativity', 'Brought my own workstation', 'Shared Hotspot', 1.5, 'Yes', 'Yes', 'Rare Jam', 'Mathunjwa', ''], ['2021-08-20 20:34:57', 'Mzwandile', '', '3:32:00 PM', 'Company Work', 'Mac Workstation', 'Shared Hotspot', 5.183333333333334, 'Yes', 'No', 'Kingdom XLR', 'Nxumalo', ''], ['2021-08-20 23:44:24', 'Kwanele', '', '3:30:00 PM', 'Company Work, Content & Creativity', 'Mac Workstation, Brought my own workstation', 'Shared Hotspot', 2.75, 'Yes', 'Yes', 'Vundzisa', 'Tsabedze', ''], ['2021-08-21 08:22:25', 'Sikhulile', '', '3:30:00 PM', 'Company Work', 'Brought my own workstation', 'Brought my own internet', 4.5, 'Yes', 'No', 'Kingdom XLR', 'Zwane', ''], ['2021-08-21 09:10:49', 'Zolile', '', '5:00:00 PM', 'Content & Creativity', 'Mac Workstation', \"Don't need internet\", 7.0, 'Yes', 'No', 'Kingdom XLR', 'Motsa', ''], ['2021-08-21 10:25:49', 'Gcinimiyalo', '', '9:30:00 AM', 'Content & Creativity', 'Mac Workstation', 'Shared Hotspot', 9.5, 'Yes', 'No', 'Freelancer', 'Ntuli', ''], ['2021-08-21 10:29:01', 'Bafana', '', '9:00:00 AM', 'Company Work, Content & Creativity, Coding', 'PC Workstation, Keyboard, Mouse, Monitor', 'Shared Hotspot', 8.0, 'Yes', 'No', 'Snowsen', 'Gama', ''], ['2021-08-21 13:44:12', 'Lungelo', '', '12:00:00 AM', 'Research, Coding', 'Keyboard, Brought my own workstation', 'Brought my own internet', 17.0, 'Yes', 'Yes', 'Freelancer', 'Mamba', ''], ['2021-08-21 17:01:28', 'Mlungisi', '', '12:30:00 PM', 'Research', 'Brought my own workstation', 'Shared Hotspot', 4.5, 'No', 'Yes', 'Freelancer', 'Shongwe', ''], ['2021-08-21 22:20:18', 'Mnqobi', '', '8:00:00 PM', 'Content & Creativity', 'Brought my own workstation', 'Brought my own internet', 20.0, 'No', 'Yes', 'Freelancer', 'Nkambule', ''], ['2021-08-21 22:22:12', 'Simanga', '', '8:30:00 PM', 'Content & Creativity', 'Audio Box', 'Shared Hotspot', 19.5, 'Yes', 'No', 'Freelancer', 'Ntsini', ''], ['2021-08-21 23:27:18', 'Zolile', '', '6:00:00 AM', 'Content & Creativity', 'Mac Workstation', 'Shared Hotspot', 8.0, 'Yes', 'No', 'Kingdom XLR', 'Motsa', ''], ['2021-08-21 23:54:00', 'Mhlengi', '', '8:00:00 PM', 'Content & Creativity', 'Brought my own workstation, Audio Box', 'Brought my own internet', 20.0, 'Yes', 'Yes', 'Freelancer', 'Nkambule', ''], ['2021-08-22 09:09:09', 'Kwanele', '', '1:10:00 PM', 'Company Work, Research, Content & Creativity', 'Mac Workstation', 'Shared Hotspot', 6.583333333333333, 'Yes', 'Yes', 'Vundzisa', 'Tsabedze', ''], ['2021-08-22 09:10:04', 'Bafana', '', '9:00:00 AM', 'Company Work, Content & Creativity', 'PC Workstation, Keyboard, Mouse, Monitor', 'Shared Hotspot', 6.0, 'Yes', 'No', 'Snowsen', 'Gama', ''], ['2021-08-22 13:52:25', 'Simanga', '', '10:30:00 AM', 'Content & Creativity', 'Mac Workstation', 'Shared Hotspot', 10.0, 'Yes', 'No', 'Freelancer', 'Ntsini', ''], ['2021-08-22 16:28:53', 'Muzi', '', '4:15:00 PM', 'Content & Creativity', 'Brought my own workstation, Audio Box', 'Shared Hotspot', 1.75, 'Yes', 'Yes', 'Rare Jam', 'Mathunjwa', ''], ['2021-08-23 08:43:19', 'Simanga', '', '8:00:00 AM', 'Content & Creativity', 'Mac Workstation', 'Shared Hotspot', '8', 'Yes', 'No', 'Freelancer', 'Ntsini', ''], ['2021-08-23 10:36:15', 'José', '', '8:00:00 AM', 'Company Work, Research, Coding', 'Mac Workstation', 'Shared Hotspot', '11.5', 'Yes', 'No', 'Ummo', 'Rego', ''], ['2021-08-23 11:44:28', 'Lungelo', '', '10:00:00 AM', 'Research, Coding', 'Keyboard, Brought my own workstation', 'Brought my own internet', '7.5', 'Yes', 'Yes', 'Freelancer', 'Mamba', ''], ['2021-08-23 11:58:57', 'Bafana', '', '9:30:00 AM', 'Content & Creativity', 'PC Workstation, Keyboard, Mouse, Monitor', 'Shared Hotspot', '7.5', 'Yes', 'No', 'Snowsen', 'Gama', ''], ['2021-08-23 13:42:44', 'Fanelesibonge', '', '8:00:00 AM', 'Company Work, Coding', 'Brought my own workstation', 'Shared Hotspot', '12', 'Yes', 'No', 'Freelancer', 'Malaza', ''], ['2021-08-23 15:10:15', 'Gcinimiyalo', '', '12:30:00 PM', 'Content & Creativity', 'Mac Workstation', 'Shared Hotspot', '4', 'Yes', 'No', 'Freelancer', 'Ntuli', ''], ['2021-08-24 05:07:51', 'José', '', '5:00:00 AM', 'Company Work, Research, Coding', 'Mac Workstation', 'Shared Hotspot', '17', 'Yes', 'No', 'Ummo', 'Rego', ''], ['2021-08-24 05:55:09', 'Simanga', '', '7:00:00 AM', 'Content & Creativity', 'Mac Workstation', 'Shared Hotspot', '6', 'Yes', 'No', 'Freelancer', 'Ntsini', ''], ['2021-08-24 13:48:26', 'Muzi', '', '1:00:00 PM', 'Content & Creativity', 'Audio Box', 'Shared Hotspot', '1', 'Yes', 'Yes', 'Rare Jam', 'Mathunjwa', ''], ['2021-08-24 14:14:20', 'Gcinimiyalo', '', '12:30:00 PM', 'Content & Creativity', 'Mac Workstation', 'Shared Hotspot', '5', 'Yes', 'No', 'Freelancer', 'Ntuli', ''], ['2021-08-24 14:42:57', 'Zack', '', '1:00:00 PM', 'Content & Creativity', 'PC Workstation', 'Shared Hotspot', '4', 'Yes', 'Yes', 'Freelancer', 'Towindo', ''], ['2021-08-24 14:45:28', 'Lungelo', '', '11:00:00 AM', 'Research', 'Keyboard, Brought my own workstation', 'Brought my own internet', '7', 'Yes', 'Yes', 'Freelancer', 'Mamba', ''], ['2021-08-24 16:06:51', 'Fanelesibonge', '', '9:00:00 AM', 'Company Work, Coding', 'Brought my own workstation', 'Shared Hotspot', '14', 'Yes', 'No', 'Freelancer', 'Malaza', ''], ['2021-08-24 16:43:33', 'Sibahle', '', '8:00:00 AM', 'Company Work, Academic Work, Research', 'Mac Workstation', 'Shared Hotspot', '10', 'Yes', 'Yes', 'Ummo', 'Mnyakeni', ''], ['2021-08-24 22:52:22', 'Mzwandile', '', '2:23:00 PM', 'Company Work, Content & Creativity', 'Mac Workstation', 'Shared Hotspot', '6', 'Yes', 'No', 'Kingdom XLR', 'Nxumalo', ''], ['2021-08-25 08:34:44', 'José', '', '8:00:00 AM', 'Company Work, Meeting, Coding', 'Mac Workstation', 'Shared Hotspot', '12', 'Yes', 'No', 'Ummo', 'Rego', ''], ['2021-08-25 10:16:30', 'Bafana', '', '10:00:00 AM', 'Company Work, Content & Creativity, Coding', 'PC Workstation, Keyboard, Mouse, Monitor', 'Shared Hotspot', '7', 'Yes', 'No', 'Snowsen', 'Gama', ''], ['2021-08-25 10:17:44', 'Tiyandza', '', '10:00:00 AM', 'Company Work, Content & Creativity', 'PC Workstation, Keyboard, Mouse, Monitor', 'Shared Hotspot', '7', 'Yes', 'No', 'Snowsen', 'Cindzi', ''], ['2021-08-25 11:26:57', 'Fanelesibonge', '', '10:00:00 AM', 'Company Work, Coding', 'Brought my own workstation', 'Shared Hotspot', '14', 'Yes', 'No', 'Freelancer', 'Malaza', ''], ['2021-08-25 11:33:35', 'Sibahle', '', '8:00:00 AM', 'Company Work, Academic Work, Research', 'Mac Workstation', 'Shared Hotspot', '10', 'Yes', 'Yes', 'Ummo', 'Mnyakeni', ''], ['2021-08-25 13:34:45', 'Simanga', '', '7:00:00 AM', 'Research, Content & Creativity', 'Mac Workstation', 'Shared Hotspot', '5', 'Yes', 'No', 'Freelancer', 'Ntsini', ''], ['2021-08-25 17:07:05', 'Muzi', '', '5:00:00 PM', 'Content & Creativity', 'Keyboard, Mouse, Brought my own workstation, Audio Box', 'Shared Hotspot', '2', 'Yes', 'Yes', 'Rare Jam', 'Mathunjwa', ''], ['2021-08-25 17:45:41', 'Mlungisi', '', '1:15:00 PM', 'Research', 'Brought my own workstation', 'Shared Hotspot', '5', 'No', 'Yes', 'Freelancer', 'Shongwe', ''], ['2021-08-25 18:25:16', 'Kwanele', '', '10:30:00 AM', 'Company Work', 'Brought my own workstation', 'Shared Hotspot', '4', 'Yes', 'Yes', 'Vundzisa', 'Tsabedze', ''], ['2021-08-26 08:58:31', 'Lungelo', '', '8:00:00 AM', 'Research, Coding', 'Keyboard, Brought my own workstation', 'Brought my own internet', '8', 'Yes', 'Yes', 'Freelancer', 'Mamba', ''], ['2021-08-26 09:05:17', 'José', '', '8:00:00 AM', 'Company Work, Research, Coding', 'Mac Workstation', 'Shared Hotspot', '12', 'Yes', 'No', 'Ummo', 'Rego', ''], ['2021-08-26 09:46:34', 'Sabelo', '', '9:46:00 AM', 'Company Work', 'Monitor', 'Brought my own internet', '7', 'Yes', 'Yes', 'SV Tech', 'Vilakati', ''], ['2021-08-26 10:25:38', 'Simanga', '', '10:25:00 AM', 'Content & Creativity', 'Mac Workstation', 'Shared Hotspot', '6', 'Yes', 'No', 'Freelancer', 'Ntsini', ''], ['2021-08-26 12:27:53', 'Bafana', '', '12:00:00 PM', 'Content & Creativity, Coding', 'PC Workstation, Keyboard, Mouse, Monitor', 'Shared Hotspot', '5', 'Yes', 'No', 'Snowsen', 'Gama', ''], ['2021-08-26 12:28:39', 'Tiyandza', '', '12:00:00 PM', 'Company Work, Content & Creativity', 'PC Workstation, Keyboard, Mouse, Monitor', 'Shared Hotspot', '5', 'Yes', 'No', 'Snowsen', 'Cindzi', ''], ['2021-08-26 13:14:15', 'Sibahle', '', '8:00:00 AM', 'Company Work, Academic Work, Research', 'Mac Workstation', 'Shared Hotspot', '10', 'Yes', 'Yes', 'Ummo', 'Mnyakeni', ''], ['2021-08-26 17:49:59', 'Mlungisi', '', '11:30:00 PM', 'Research', 'Brought my own workstation', 'Shared Hotspot', '6', 'No', 'Yes', 'Freelancer', 'Shongwe', ''], ['2021-08-27 09:16:16', 'Lungelo', '', '9:00:00 AM', 'Coding', 'Keyboard, Brought my own workstation', 'Shared Hotspot', '8.5', 'Yes', 'Yes', 'Freelancer', 'Mamba', ''], ['2021-08-27 10:25:04', 'Sikhulile', '', '12:00:00 PM', 'Company Work', 'PC Workstation, Keyboard, Mouse, Monitor, Brought my own workstation', 'Shared Hotspot', '48', 'Yes', 'No', 'Kingdom XLR', 'Zwane', ''], ['2021-08-27 10:27:03', 'Bagcinele', '', '10:00:00 AM', 'Research', 'Mac Workstation', 'Shared Hotspot', '6', 'Yes', 'No', 'Kingdom XLR', 'Fakudze', ''], ['2021-08-27 10:59:06', 'Sabelo', '', '10:00:00 AM', 'Company Work', 'Monitor', 'Brought my own internet', '8', 'Yes', 'Yes', 'SV Tech', 'Vilakati', ''], ['2021-08-27 15:46:51', 'José', '', '8:00:00 AM', 'Company Work, Research, Meeting, Coding', 'Mac Workstation', 'Shared Hotspot', '12', 'Yes', 'No', 'Ummo', 'Rego', ''], ['2021-08-27 16:29:30', 'Mlungisi', '', '11:30:00 AM', 'Research', 'Brought my own workstation', 'Shared Hotspot', '5', 'No', 'Yes', 'Freelancer', 'Shongwe', ''], ['2021-08-27 16:45:28', 'Muzi', '', '4:40:00 PM', 'Meeting', 'Brought my own workstation, Audio Box', 'Shared Hotspot', '2', 'Yes', 'Yes', 'Rare Jam', 'Mathunjwa', ''], ['2021-08-27 19:41:06', 'Mzwandile', '', '3:00:00 PM', 'Company Work', 'Mac Workstation, Keyboard, Mouse, Monitor, Audio Box', 'Shared Hotspot', '5', 'Yes', 'No', 'Kingdom XLR', 'Nxumalo', ''], ['2021-08-27 19:42:06', 'Thelumusa', '', '4:00:00 PM', 'Research', 'Brought my own workstation, Audio Box', 'Shared Hotspot', '3', 'No', 'Yes', 'Freelancer', 'Hlatshwako', ''], ['2021-08-28 11:49:43', 'Sibahle', '', '8:00:00 AM', 'Academic Work, Research', 'Mac Workstation', 'Shared Hotspot', '10', 'Yes', 'Yes', 'Ummo', 'Mnyakeni', ''], ['2021-08-28 11:49:56', 'José', '', '10:00:00 AM', 'Company Work, Research, Coding', 'Mac Workstation', 'Shared Hotspot', '10', 'Yes', 'No', 'Ummo', 'Rego', ''], ['2021-08-28 12:07:21', 'Bagcinele', '', '11:00:00 AM', 'Research', 'Mac Workstation', 'Shared Hotspot', '6', 'Yes', 'No', 'Kingdom XLR', 'Fakudze', ''], ['2021-08-28 16:08:47', 'Mzwandile', '', '2:55:00 PM', 'Company Work, Research, Content & Creativity, Meeting', 'Mac Workstation', 'Shared Hotspot', '2', 'Yes', 'No', 'Kingdom XLR', 'Nxumalo', ''], ['2021-08-28 16:10:13', 'Sihle', '', '1:00:00 PM', 'Research, Meeting', 'Brought my own workstation', 'Shared Hotspot', '4', 'No', 'No', 'Kingdom XLR', 'Thwala', ''], ['2021-08-29 11:59:41', 'Tiyandza', '', '11:00:00 AM', 'Company Work', 'PC Workstation, Keyboard, Mouse, Monitor', 'Shared Hotspot', '5', 'Yes', 'No', 'Snowsen', 'Cindzi', ''], ['2021-08-29 12:00:25', 'Bafana', '', '11:00:00 AM', 'Content & Creativity', 'PC Workstation, Keyboard, Mouse, Monitor', 'Shared Hotspot', '5', 'Yes', 'No', 'Snowsen', 'Gama', ''], ['2021-08-29 12:00:56', 'Fanelesibonge', '', '9:00:00 AM', 'Company Work, Coding', 'Brought my own workstation', 'Shared Hotspot', '12', 'Yes', 'No', 'Freelancer', 'Malaza', ''], ['2021-08-29 12:48:20', 'José', '', '9:00:00 AM', 'Company Work, Coding', 'Mac Workstation', 'Shared Hotspot', '12', 'Yes', 'No', 'Ummo', 'Rego', ''], ['2021-08-29 20:30:35', 'Mzwandile', '', '5:14:00 PM', 'Content & Creativity', 'Mac Workstation, Mouse', 'Shared Hotspot', '3', 'Yes', 'No', 'Kingdom XLR', 'Nxumalo', ''], ['2021-08-30 08:41:27', 'José', '', '8:00:00 AM', 'Company Work, Meeting, Coding', 'Mac Workstation', 'Shared Hotspot', '12', 'Yes', 'No', 'Ummo', 'Rego', ''], ['2021-08-30 09:06:48', 'Bagcinele', '', '9:00:00 AM', 'Research', 'Mac Workstation', 'Shared Hotspot', '7', 'Yes', 'No', 'Kingdom XLR', 'Fakudze', ''], ['2021-08-30 10:11:34', 'Gcinimiyalo', '', '10:08:00 AM', 'Content & Creativity', 'Mac Workstation', 'Shared Hotspot', '6', 'Yes', 'No', 'Freelancer', 'Ntuli', ''], ['2021-08-30 11:07:06', 'Fanelesibonge', '', '7:30:00 AM', 'Company Work, Coding', 'Brought my own workstation', 'Shared Hotspot', '15', 'Yes', 'No', 'Freelancer', 'Malaza', ''], ['2021-08-30 11:54:40', 'Lungelo', '', '11:00:00 AM', 'Meeting, Coding', 'Keyboard, Brought my own workstation', 'Brought my own internet', '6', 'Yes', 'Yes', 'Freelancer', 'Mamba', ''], ['2021-08-30 12:26:09', 'Sibahle', '', '8:00:00 AM', 'Company Work, Research', 'Mac Workstation', 'Shared Hotspot', '10', 'Yes', 'Yes', 'Ummo', 'Mnyakeni', ''], ['2021-08-30 12:50:10', 'Muzi', '', '12:30:00 AM', 'Academic Work, Research, Content & Creativity, Meeting', 'PC Workstation, Keyboard, Mouse, Monitor', 'Shared Hotspot', '5', 'Yes', 'Yes', 'Rare Jam', 'Mathunjwa', ''], ['2021-08-30 16:20:11', 'Zack', '', '10:00:00 AM', 'Meeting', 'Keyboard, Camera', 'Shared Hotspot', '6', 'Yes', 'Yes', 'Freelancer', 'Towindo', ''], ['2021-08-30 17:30:18', 'Mlungisi', '', '12:30:00 PM', 'Research', 'Brought my own workstation', 'Shared Hotspot', '5', 'No', 'Yes', 'Freelancer', 'Shongwe', ''], ['2021-08-31 05:47:31', 'José', '', '6:00:00 AM', 'Company Work, Research, Coding', 'Mac Workstation', 'Shared Hotspot', '18', 'Yes', 'No', 'Ummo', 'Rego', ''], ['2021-08-31 09:33:56', 'Lungelo', '', '8:00:00 AM', 'Research', 'Keyboard, Brought my own workstation', 'Brought my own internet', '4.5', 'Yes', 'Yes', 'Freelancer', 'Mamba', ''], ['2021-08-31 11:04:06', 'Sikhulile', '', '11:00:00 AM', 'Company Work', 'PC Workstation, Mouse, Monitor, Brought my own workstation', 'Shared Hotspot', '8', 'Yes', 'No', 'Kingdom XLR', 'Zwane', ''], ['2021-08-31 11:15:29', 'Muzi', '', '10:30:00 PM', 'Research, Content & Creativity, Meeting', 'Brought my own workstation', 'Shared Hotspot', '5', 'Yes', 'Yes', 'Rare Jam', 'Mathunjwa', ''], ['2021-08-31 12:12:50', 'Kwanele', '', '10:00:00 AM', 'Company Work', 'Brought my own workstation', 'Shared Hotspot', '6', 'Yes', 'Yes', 'Vundzisa', 'Tsabedze', ''], ['2021-08-31 13:12:10', 'Gcinimiyalo', '', '11:00:00 AM', 'Content & Creativity', 'Mac Workstation', 'Shared Hotspot', '4', 'Yes', 'No', 'Freelancer', 'Ntuli', ''], ['2021-08-31 13:46:32', 'Kangiso', '', '11:30:00 AM', 'Content & Creativity, Meeting', 'Brought my own workstation', 'Shared Hotspot', '3', 'No', 'Yes', 'Rare Jamz', 'Malambe', ''], ['2021-08-31 14:39:44', 'Bafana', '', '2:00:00 PM', 'Company Work', 'PC Workstation, Keyboard, Mouse, Monitor', 'Shared Hotspot', '3', 'Yes', 'No', 'Snowsen', 'Gama', ''], ['2021-08-31 16:01:50', 'Tiyandza', '', '3:57:00 PM', 'Research', 'PC Tower, Keyboard, Mouse, Monitor', 'Shared Hotspot', '2', 'Yes', 'No', 'Snowsen', 'Cindzi', ''], ['2021-09-01 06:19:15', 'Muzi', '', '6:00:00 AM', 'Company Work', 'Brought my own workstation', 'Shared Hotspot', '7', 'Yes', 'Yes', 'Rare Jam', 'Mathunjwa', ''], ['2021-09-01 06:20:18', 'Gcinimiyalo', '', '6:00:00 AM', 'Content & Creativity', 'Mac Workstation', 'Shared Hotspot', '7', 'Yes', 'No', 'Freelancer', 'Ntuli', ''], ['2021-09-01 08:52:03', 'Majaha', '', '8:51:00 AM', 'Company Work', 'Brought my own workstation', 'Brought my own internet', '2', 'Yes', 'No', 'SV Tech', 'Nkambule', ''], ['2021-09-01 08:52:49', 'Gcina', '', '8:55:00 AM', 'Company Work', 'Brought my own workstation', 'Brought my own internet', '2', 'Yes', 'Yes', 'SV Tech', 'Cindzi', ''], ['2021-09-01 09:33:21', 'Sibahle', '', '8:00:00 AM', 'Company Work, Research', 'Mac Workstation', 'Shared Hotspot', '10', 'Yes', 'Yes', 'Ummo', 'Mnyakeni', ''], ['2021-09-01 10:45:55', 'José', '', '7:00:00 AM', 'Company Work, Research, Coding', 'Mac Workstation', 'Shared Hotspot', '18', 'Yes', 'No', 'Ummo', 'Rego', ''], ['2021-09-01 11:10:00', 'Bagcinele', '', '10:00:00 AM', 'Research', 'Brought my own workstation', 'Shared Hotspot', '6', 'Yes', 'No', 'Kingdom XLR', 'Fakudze', ''], ['2021-09-01 12:25:23', 'Kwanele', '', '11:00:00 AM', 'Company Work', 'Brought my own workstation', 'Shared Hotspot', '7', 'Yes', 'Yes', 'Vundzisa', 'Tsabedze', ''], ['2021-09-01 12:25:55', 'Fanelesibonge', '', '9:00:00 AM', 'Company Work, Coding', 'Brought my own workstation', 'Shared Hotspot', '14', 'Yes', 'No', 'Freelancer', 'Malaza', ''], ['2021-09-01 15:11:35', 'Lungelo', '', '8:00:00 AM', 'Research, Coding', 'Keyboard, Brought my own workstation', 'Brought my own internet', '9', 'Yes', 'Yes', 'Freelancer', 'Mamba', ''], ['2021-09-01 15:13:52', 'Bafana', '', '1:00:00 PM', 'Company Work, Coding', 'PC Tower, Keyboard, Mouse, Monitor', 'Shared Hotspot', '4', 'Yes', 'No', 'Snowsen', 'Gama', ''], ['2021-09-01 15:14:33', 'Tiyandza', '', '10:00:00 AM', 'Company Work, Research', 'PC Tower, Keyboard, Mouse, Monitor', 'Shared Hotspot', '7', 'Yes', 'No', 'Snowsen', 'Cindzi', ''], ['2021-09-01 19:09:57', 'Muzi', '', '5:00:00 PM', 'Company Work, Research, Content & Creativity, Meeting', 'Brought my own workstation', 'Shared Hotspot', '3', 'Yes', 'Yes', 'Rare Jam', 'Mathunjwa', ''], ['2021-09-01 22:56:15', 'Mzwandile', '', '2:00:00 PM', 'Company Work, Research, Content & Creativity, Meeting', 'Mac Workstation, Keyboard, Monitor, Audio Box', 'Shared Hotspot', '9', 'Yes', 'No', 'Kingdom XLR', 'Nxumalo', ''], ['2021-09-02 09:58:23', 'José', '', '9:00:00 AM', 'Company Work, Coding', 'Mac Workstation', 'Shared Hotspot', '10', 'Yes', 'No', 'Ummo', 'Rego', ''], ['2021-09-02 10:00:18', 'Sibahle', '', '8:00:00 AM', 'Company Work, Research', 'Mac Workstation', 'Shared Hotspot', '12', 'Yes', 'Yes', 'Ummo', 'Mnyakeni', ''], ['2021-09-02 12:07:00', 'Fanelesibonge', '', '11:30:00 AM', 'Coding', 'Brought my own workstation', 'Shared Hotspot', '10', 'Yes', 'No', 'Freelancer', 'Malaza', ''], ['2021-09-02 15:44:28', 'Sikhulile', '', '12:00:00 PM', 'Company Work, Research, Content & Creativity, Meeting', 'Mac Workstation, PC Tower, Keyboard, Mouse, Monitor, Brought my own workstation', 'Shared Hotspot', '72', 'Yes', 'No', 'Kingdom XLR', 'Zwane', ''], ['2021-09-02 16:13:48', 'Gcinimiyalo', '', '10:00:00 AM', 'Content & Creativity', 'Mac Workstation', 'Shared Hotspot', '6', 'Yes', 'No', 'Freelancer', 'Ntuli', ''], ['2021-09-02 18:21:01', 'Mlungisi', '', '9:50:00 AM', 'Research', 'Brought my own workstation', 'Shared Hotspot', '8', 'No', 'Yes', 'Freelancer', 'Shongwe', ''], ['2021-09-02 18:25:26', 'Kwanele', '', '3:30:00 PM', 'Company Work', 'Brought my own workstation', 'Shared Hotspot', '3', 'Yes', 'Yes', 'Vundzisa', 'Tsabedze', ''], ['2021-09-03 07:39:46', 'Fanelesibonge', '', '8:00:00 AM', 'Coding', 'Brought my own workstation', 'Shared Hotspot', '14', 'Yes', 'No', 'Freelancer', 'Malaza', ''], ['2021-09-03 08:45:12', 'Sibahle', '', '8:00:00 AM', 'Company Work, Research', 'Mac Workstation', 'Shared Hotspot', '10', 'Yes', 'Yes', 'Ummo', 'Mnyakeni', ''], ['2021-09-03 10:34:41', 'Tiyandza', '', '10:31:00 AM', 'Company Work', 'PC Tower, Keyboard, Mouse, Monitor', 'Shared Hotspot', '7', 'Yes', 'No', 'Snowsen', 'Cindzi', ''], ['2021-09-03 10:36:12', 'Bafana', '', '10:33:00 AM', 'Company Work, Content & Creativity', 'PC Tower, Keyboard, Mouse, Monitor', 'Shared Hotspot', '7', 'Yes', 'No', 'Snowsen', 'Gama', ''], ['2021-09-03 10:59:06', 'Lungelo', '', '11:00:00 AM', 'Research', 'Keyboard, Brought my own workstation', 'Brought my own internet', '6', 'Yes', 'Yes', 'Freelancer', 'Mamba', ''], ['2021-09-03 11:57:39', 'Kwanele', '', '11:55:00 AM', 'Company Work, Research', 'Brought my own workstation', 'Shared Hotspot', '8', 'Yes', 'Yes', 'Vundzisa', 'Tsabedze', ''], ['2021-09-03 12:08:32', 'Muzi', '', '12:00:00 PM', 'Company Work, Academic Work, Research', 'Brought my own workstation', 'Shared Hotspot', '4', 'Yes', 'Yes', 'Rare Jam', 'Mathunjwa', ''], ['2021-09-03 12:35:31', 'José', '', '8:00:00 AM', 'Company Work, Meeting, Coding', 'Mac Workstation', 'Shared Hotspot', '10', 'Yes', 'No', 'Ummo', 'Rego', ''], ['2021-09-03 13:07:05', 'Gcinimiyalo', '', '12:00:00 AM', 'Content & Creativity', 'Mac Workstation', 'Shared Hotspot', '4', 'Yes', 'No', 'Freelancer', 'Ntuli', ''], ['2021-09-04 09:40:50', 'Gcinimiyalo', '', '9:30:00 AM', 'Content & Creativity', 'Mac Workstation', 'Shared Hotspot', '7', 'Yes', 'No', 'Freelancer', 'Ntuli', ''], ['2021-09-04 10:07:20', 'José', '', '10:00:00 AM', 'Company Work, Coding', 'Mac Workstation', 'Shared Hotspot', '10', 'Yes', 'No', 'Ummo', 'Rego', ''], ['2021-09-04 16:48:51', 'Tiyandza', '', '4:48:00 PM', 'Research', 'PC Tower, Keyboard, Mouse, Monitor', 'Shared Hotspot', '2', 'Yes', 'No', 'Snowsen', 'Cindzi', ''], ['2021-09-04 18:05:11', 'Mlungisi', '', '11:50:00 AM', 'Research', 'Brought my own workstation', 'Shared Hotspot', '6', 'No', 'Yes', 'Freelancer', 'Shongwe', ''], ['2021-09-06 15:51:44', 'José', '', '8:00:00 AM', 'Company Work, Coding', 'Mac Workstation', 'Shared Hotspot', '12', 'Yes', 'No', 'Ummo', 'Rego', ''], ['2021-09-07 11:00:25', 'Sikhulile', '', '10:30:00 AM', 'Company Work, Research', 'Mac Workstation, PC Tower, Keyboard, Mouse, Monitor, Brought my own workstation', 'Shared Hotspot', '24', 'Yes', 'No', 'Kingdom XLR', 'Zwane', ''], ['2021-09-07 11:02:31', 'Simanga', '', '9:00:00 AM', 'Research, Content & Creativity', 'Mac Workstation', 'Shared Hotspot', '5', 'Yes', 'No', 'Freelancer', 'Ntsini', ''], ['2021-09-07 11:47:58', 'Alex', '', '11:30:00 AM', 'Company Work', 'Mac Workstation, PC Tower, Keyboard, Mouse, Monitor, Brought my own workstation', 'Shared Hotspot', '5', 'Yes', 'No', 'Kingdom XLR', 'Muti', ''], ['2021-09-07 12:14:59', 'Muzi', '', '11:00:00 AM', 'Academic Work, Research', 'Brought my own workstation', 'Shared Hotspot', '2', 'Yes', 'Yes', 'Rare Jam', 'Mathunjwa', ''], ['2021-09-07 12:15:18', 'Fanelesibonge', '', '12:00:00 PM', 'Company Work, Coding', 'Brought my own workstation', 'Shared Hotspot', '8', 'Yes', 'No', 'Freelancer', 'Malaza', ''], ['2021-09-07 12:50:39', 'José', '', '8:00:00 AM', 'Company Work, Coding', 'Mac Workstation', 'Shared Hotspot', '12', 'Yes', 'No', 'Ummo', 'Rego', ''], ['2021-09-07 12:58:28', 'Gcinimiyalo', '', '12:30:00 PM', 'Content & Creativity', 'Mac Workstation', 'Shared Hotspot', '4', 'Yes', 'No', 'Freelancer', 'Ntuli', ''], ['2021-09-07 16:46:26', 'Sibahle', '', '8:00:00 AM', 'Company Work, Research', 'Mac Workstation', 'Shared Hotspot', '8', 'Yes', 'Yes', 'Ummo', 'Mnyakeni', ''], ['2021-09-08 10:03:48', 'Simanga', '', '10:00:00 AM', 'Research, Content & Creativity', 'Mac Workstation', 'Shared Hotspot', '5', 'Yes', 'No', 'Freelancer', 'Ntsini', ''], ['2021-09-08 10:31:15', 'Thelumusa', '', '10:30:00 AM', 'Research', 'Brought my own workstation', 'Shared Hotspot', '2', 'No', 'Yes', 'Rare Jam', 'Hlatshwako', ''], ['2021-09-08 10:58:02', 'Sibahle', '', '10:00:00 AM', 'Company Work, Research', 'Mac Workstation', 'Shared Hotspot', '10', 'Yes', 'Yes', 'Ummo', 'Mnyakeni', ''], ['2021-09-08 12:08:55', 'Muzi', '', '10:00:00 AM', 'Research, Content & Creativity', 'Audio Box', 'Shared Hotspot', '3', 'Yes', 'Yes', 'Rare Jam', 'Mathunjwa', 'Audio Box'], ['2021-09-08 12:45:45', 'Bafana', '', '12:00:00 PM', 'Company Work, Content & Creativity, Coding', 'PC Tower, Keyboard, Mouse, Monitor', 'Shared Hotspot', '5', 'Yes', 'No', 'Snowsen', 'Gama', ''], ['2021-09-08 12:54:26', 'Fanelesibonge', '', '12:45:00 PM', 'Company Work, Coding', 'Brought my own workstation', 'Shared Hotspot', '7', 'Yes', 'No', 'Freelancer', 'Malaza', ''], ['2021-09-08 12:59:59', 'Thokozani', '', '9:00:00 AM', 'Coding', 'PC Tower, Mouse', 'Shared Hotspot', '5', 'Yes', 'Yes', 'SV Tech', 'Mamba', ''], ['2021-09-08 15:02:21', 'José', '', '8:00:00 AM', 'Company Work, Academic Work, Research, Coding', 'Mac Workstation', 'Shared Hotspot', '12', 'Yes', 'No', 'Ummo', 'Rego', ''], ['2021-09-09 08:13:20', 'Thokozani', '', '8:00:00 AM', 'Coding', 'PC Tower, Mouse', 'Shared Hotspot', '10', 'Yes', 'Yes', 'SV Tech', 'Mamba', ''], ['2021-09-09 10:02:08', 'Gcinimiyalo', '', '10:01:00 AM', 'Content & Creativity', 'Mac Workstation', 'Shared Hotspot', '3', 'Yes', 'No', 'Freelancer', 'Ntuli', ''], ['2021-09-09 10:30:51', 'Fanelesibonge', '', '8:00:00 AM', 'Company Work, Coding', 'Brought my own workstation', 'Shared Hotspot', '13', 'Yes', 'No', 'Freelancer', 'Malaza', ''], ['2021-09-09 12:10:46', 'Bafana', '', '8:00:00 AM', 'Company Work, Content & Creativity, Coding', 'PC Tower, Keyboard, Mouse, Monitor', 'Shared Hotspot', '9', 'Yes', 'No', 'Snowsen', 'Gama', ''], ['2021-09-10 09:35:45', 'Thokozani', '', '8:00:00 AM', 'Coding', 'PC Tower, Mouse', 'Shared Hotspot', '8', 'Yes', '', 'SV Tech', 'Mamba', ''], ['2021-09-10 10:32:17', 'Sibahle', '', '8:00:00 AM', 'Company Work, Research', 'Mac Workstation', 'Shared Hotspot', '12', 'Yes', 'Yes', 'Ummo', 'Mnyakeni', ''], ['2021-09-10 10:32:28', 'Lungelo', '', '10:30:00 AM', 'Research', 'Keyboard, Brought my own workstation', 'Brought my own internet', '3', 'Yes', 'Yes', 'Freelancer', 'Mamba', ''], ['2021-09-10 16:09:59', 'Fanelesibonge', '', '12:00:00 PM', 'Company Work, Coding', 'Brought my own workstation', 'Shared Hotspot', '7', 'Yes', 'No', 'Freelancer', 'Malaza', ''], ['2021-09-11 18:40:37', 'Bafana', '', '6:30:00 PM', 'Coding', 'PC Tower, Keyboard, Mouse, Monitor', \"Don't need internet\", '1.5', 'Yes', 'No', 'Snowsen', 'Gama', ''], ['2021-09-11 18:42:15', 'Tiyandza', '', '6:42:00 PM', 'Company Work', 'PC Tower, Keyboard, Mouse, Monitor', 'Shared Hotspot', '2', 'Yes', 'No', 'Snowsen', 'Cindzi', ''], ['2021-09-12 10:23:43', 'Fanelesibonge', '', '10:00:00 AM', 'Company Work, Coding', 'Brought my own workstation', 'Shared Hotspot', '12', 'Yes', 'No', 'Freelancer', 'Malaza', ''], ['2021-09-12 18:46:35', 'Tiyandza', '', '6:46:00 PM', 'Company Work', 'PC Tower, Keyboard, Mouse, Monitor', 'Shared Hotspot', '3', 'Yes', 'No', 'Snowsen', 'Cindzi', ''], ['2021-09-13 08:44:49', 'Fanelesibonge', '', '8:00:00 AM', 'Company Work, Coding', 'Brought my own workstation', 'Shared Hotspot', '14', 'Yes', 'No', 'Freelancer', 'Malaza', ''], ['2021-09-13 11:08:45', 'Bafana', '', '9:00:00 AM', 'Company Work, Content & Creativity, Coding', 'PC Tower, Keyboard, Mouse, Monitor', 'Shared Hotspot', '8', 'Yes', 'No', 'Snowsen', 'Gama', ''], ['2021-09-13 11:35:23', 'José', '', '8:00:00 AM', 'Company Work, Coding', 'Mac Workstation', 'Shared Hotspot', '12', 'Yes', 'No', 'Ummo', 'Rego', ''], ['2021-09-13 11:36:15', 'Sibahle', '', '8:00:00 AM', 'Company Work, Academic Work, Research', 'Mac Workstation, Keyboard', 'Shared Hotspot', '8', 'Yes', 'Yes', 'Ummo', 'Mnyakeni', ''], ['2021-09-13 13:41:32', 'Lungelo', '', '8:00:00 AM', 'Research, Coding', 'Mac Workstation, Keyboard, Brought my own workstation', 'Brought my own internet', '5', 'Yes', 'Yes', 'Freelancer', 'Mamba', ''], ['2021-09-13 15:03:05', 'Sabelo', '', '10:30:00 AM', 'Company Work', 'Brought my own workstation', 'Brought my own internet', '5', 'Yes', 'Yes', 'SV Tech', 'Vilakati', ''], ['2021-09-13 16:42:52', 'Kwanele', '', '11:00:00 AM', 'Company Work', 'Brought my own workstation', 'Shared Hotspot', '6', 'Yes', 'Yes', 'Vundzisa', 'Tsabedze', ''], ['2021-09-13 17:06:53', 'Gcinimiyalo', '', '5:00:00 PM', 'Research', 'Mac Workstation', 'Shared Hotspot', '6', 'Yes', 'No', 'Freelancer', 'Ntuli', ''], ['2021-09-14 07:44:59', 'Gcinimiyalo', '', '7:00:00 AM', 'Content & Creativity', 'Mac Workstation', 'Shared Hotspot', '10', 'Yes', 'No', 'Freelancer', 'Ntuli', ''], ['2021-09-14 11:35:23', 'José', '', '8:00:00 AM', 'Company Work, Coding', 'Mac Workstation', 'Shared Hotspot', '12', 'Yes', 'No', 'Ummo', 'Rego', ''], ['2021-09-14 11:36:15', 'Mzwandile', '', '2:00:00 PM', 'Company Work', 'Mac Workstation', 'Shared Hotspot', '9.5', 'Yes', 'No', 'Kingdom XLR', 'Nxumalo', ''], ['2021-09-14 11:36:15', 'Sibahle', '', '8:00:00 AM', 'Company Work, Academic Work, Research', 'Mac Workstation, Keyboard', 'Shared Hotspot', '8', 'Yes', 'Yes', 'Ummo', 'Mnyakeni', ''], ['2021-09-14 10:17:13', 'Bafana', '', '10:00:00 AM', 'Coding', 'PC Tower, Keyboard, Mouse, Monitor', 'Shared Hotspot', '8', 'Yes', 'No', 'Snowsen', 'Gama', ''], ['2021-09-15 17:30:16', 'Mzwandile', '', '                      17:30:00 PM', 'Company Work', 'Mac Workstation', 'Shared Hotspot', '21.5', 'Yes', 'No', 'Kingdom XLR', 'Nxumalo', ''], ['2021-09-15 03:05:57', 'Sikhulile', '', '8:00:00 AM', 'Company Work, Research', 'Mac Workstation, PC Tower, Keyboard, Mouse, Monitor, Brought my own workstation', 'Shared Hotspot', '72', 'Yes', 'No', 'Kingdom XLR', 'Zwane', ''], ['2021-09-15 05:55:09', 'Simanga', '', '7:00:00 AM', 'Research, Content & Creativity', 'Mac Workstation', 'Shared Hotspot', '5', 'Yes', 'No', 'Freelancer', 'Ntsini', ''], ['2021-09-15 08:51:17', 'Gcinimiyalo', '', '8:30:00 AM', 'Content & Creativity', 'Mac Workstation', 'Shared Hotspot', '10', 'Yes', 'No', 'Freelancer', 'Ntuli', ''], ['2021-09-15 10:38:36', 'Lungelo', '', '8:00:00 AM', 'Coding', 'Keyboard, Brought my own workstation', 'Brought my own internet', '8', 'Yes', 'Yes', 'Freelancer', 'Mamba', ''], ['2021-09-15 11:35:23', 'José', '', '8:00:00 AM', 'Company Work, Coding', 'Mac Workstation', 'Shared Hotspot', '12', 'Yes', 'No', 'Ummo', 'Rego', ''], ['2021-09-15 11:36:15', 'Sibahle', '', '8:00:00 AM', 'Company Work, Academic Work, Research', 'Mac Workstation, Keyboard', 'Shared Hotspot', '8', 'Yes', 'Yes', 'Ummo', 'Mnyakeni', ''], ['2021-09-15 12:11:37', 'Bagcinele', '', '8:00:00 AM', 'Research', 'Brought my own workstation', 'Shared Hotspot', '8', 'Yes', 'No', 'Kingdom XLR', 'Fakudze', ''], ['2021-09-15 16:36:21', 'Fanelesibonge', '', '8:30:00 AM', 'Coding', 'Brought my own workstation', 'Shared Hotspot', '16', 'Yes', 'No', 'Freelancer', 'Malaza', ''], ['2021-09-16 08:35:43', 'Lungelo', '', '8:00:00 AM', 'Research, Coding', 'Keyboard, Brought my own workstation', 'Shared Hotspot', '8', 'Yes', 'Yes', 'Freelancer', 'Mamba', ''], ['2021-09-16 08:56:22', 'Gcinimiyalo', '', '8:30:00 AM', 'Research', 'Mac Workstation', 'Shared Hotspot', '9', 'Yes', 'No', 'Freelancer', 'Ntuli', '']]\n"
          ]
        }
      ]
    },
    {
      "cell_type": "code",
      "metadata": {
        "id": "z9iMeO5PmGg6"
      },
      "source": [
        "ws2 = wb.worksheet('Analysis')"
      ],
      "execution_count": 66,
      "outputs": []
    },
    {
      "cell_type": "code",
      "metadata": {
        "colab": {
          "base_uri": "https://localhost:8080/"
        },
        "id": "slwdN0Yxib_m",
        "outputId": "8a5d78bb-ff8c-450c-e86e-6d6f4b21cd24"
      },
      "source": [
        "ws2.update(None, dataTowrite)"
      ],
      "execution_count": 67,
      "outputs": [
        {
          "output_type": "execute_result",
          "data": {
            "text/plain": [
              "{'spreadsheetId': '1WGVWOsjKdp4eP_6PcqdnU7r6r8RW0hAtUVakTlrFWxw',\n",
              " 'updatedCells': 11063,\n",
              " 'updatedColumns': 13,\n",
              " 'updatedRange': 'Analysis!A1:M851',\n",
              " 'updatedRows': 851}"
            ]
          },
          "metadata": {},
          "execution_count": 67
        }
      ]
    },
    {
      "cell_type": "code",
      "metadata": {
        "colab": {
          "base_uri": "https://localhost:8080/",
          "height": 405
        },
        "id": "d2opJkyU0fDm",
        "outputId": "eaf1f034-350e-45e8-eacd-c022862bfe6f"
      },
      "source": [
        "df = df.reset_index()\n",
        "df['Timestamp'] = pd.to_datetime(df['Timestamp'])\n",
        "df = df.set_index('Timestamp')\n",
        "df.head()"
      ],
      "execution_count": 68,
      "outputs": [
        {
          "output_type": "execute_result",
          "data": {
            "text/html": [
              "<div>\n",
              "<style scoped>\n",
              "    .dataframe tbody tr th:only-of-type {\n",
              "        vertical-align: middle;\n",
              "    }\n",
              "\n",
              "    .dataframe tbody tr th {\n",
              "        vertical-align: top;\n",
              "    }\n",
              "\n",
              "    .dataframe thead th {\n",
              "        text-align: right;\n",
              "    }\n",
              "</style>\n",
              "<table border=\"1\" class=\"dataframe\">\n",
              "  <thead>\n",
              "    <tr style=\"text-align: right;\">\n",
              "      <th></th>\n",
              "      <th>index</th>\n",
              "      <th>First Name</th>\n",
              "      <th>Phone Number</th>\n",
              "      <th>Sign-in Time</th>\n",
              "      <th>What are you working on today?</th>\n",
              "      <th>What equipment will you use?</th>\n",
              "      <th>Internet?</th>\n",
              "      <th>How many hours will you be putting in?</th>\n",
              "      <th>Are you a member of The Hub?</th>\n",
              "      <th>Are you a student (from any institution)?</th>\n",
              "      <th>What company do you work for?</th>\n",
              "      <th>Last Name</th>\n",
              "      <th>What equipment will you check out?</th>\n",
              "    </tr>\n",
              "    <tr>\n",
              "      <th>Timestamp</th>\n",
              "      <th></th>\n",
              "      <th></th>\n",
              "      <th></th>\n",
              "      <th></th>\n",
              "      <th></th>\n",
              "      <th></th>\n",
              "      <th></th>\n",
              "      <th></th>\n",
              "      <th></th>\n",
              "      <th></th>\n",
              "      <th></th>\n",
              "      <th></th>\n",
              "      <th></th>\n",
              "    </tr>\n",
              "  </thead>\n",
              "  <tbody>\n",
              "    <tr>\n",
              "      <th>2021-02-11</th>\n",
              "      <td>0</td>\n",
              "      <td>Kwanele</td>\n",
              "      <td>7815 8606</td>\n",
              "      <td>11:00:00 AM</td>\n",
              "      <td>Company Work</td>\n",
              "      <td>Brought my own workstation</td>\n",
              "      <td>Shared Hotspot</td>\n",
              "      <td>5</td>\n",
              "      <td>Yes</td>\n",
              "      <td>Yes</td>\n",
              "      <td>Vundzisa</td>\n",
              "      <td>Tsabedze</td>\n",
              "      <td></td>\n",
              "    </tr>\n",
              "    <tr>\n",
              "      <th>2021-02-11</th>\n",
              "      <td>1</td>\n",
              "      <td>José</td>\n",
              "      <td></td>\n",
              "      <td>8:00:00 AM</td>\n",
              "      <td>Company Work</td>\n",
              "      <td>Mac Workstation</td>\n",
              "      <td>Shared Hotspot</td>\n",
              "      <td>12</td>\n",
              "      <td>Yes</td>\n",
              "      <td>No</td>\n",
              "      <td>Ummo</td>\n",
              "      <td>Rego</td>\n",
              "      <td></td>\n",
              "    </tr>\n",
              "    <tr>\n",
              "      <th>2021-02-11</th>\n",
              "      <td>2</td>\n",
              "      <td>Simanga</td>\n",
              "      <td>78501932</td>\n",
              "      <td>4:00:00 AM</td>\n",
              "      <td>Content &amp; Creativity</td>\n",
              "      <td>PC Workstation</td>\n",
              "      <td>Shared Hotspot</td>\n",
              "      <td>13</td>\n",
              "      <td>Yes</td>\n",
              "      <td>No</td>\n",
              "      <td>Freelancer</td>\n",
              "      <td>Ntsini</td>\n",
              "      <td></td>\n",
              "    </tr>\n",
              "    <tr>\n",
              "      <th>2021-02-13</th>\n",
              "      <td>3</td>\n",
              "      <td>Simanga</td>\n",
              "      <td>78501932</td>\n",
              "      <td>11:00:00 AM</td>\n",
              "      <td>Content &amp; Creativity</td>\n",
              "      <td>Mac Workstation</td>\n",
              "      <td>Shared Hotspot</td>\n",
              "      <td>6</td>\n",
              "      <td>Yes</td>\n",
              "      <td>No</td>\n",
              "      <td>Freelancer</td>\n",
              "      <td>Ntsini</td>\n",
              "      <td></td>\n",
              "    </tr>\n",
              "    <tr>\n",
              "      <th>2021-02-13</th>\n",
              "      <td>4</td>\n",
              "      <td>José</td>\n",
              "      <td></td>\n",
              "      <td>8:00:00 AM</td>\n",
              "      <td>Company Work</td>\n",
              "      <td>Mac Workstation</td>\n",
              "      <td>Shared Hotspot</td>\n",
              "      <td>12</td>\n",
              "      <td>Yes</td>\n",
              "      <td>No</td>\n",
              "      <td>Ummo</td>\n",
              "      <td>Rego</td>\n",
              "      <td></td>\n",
              "    </tr>\n",
              "  </tbody>\n",
              "</table>\n",
              "</div>"
            ],
            "text/plain": [
              "            index First Name  ... Last Name What equipment will you check out?\n",
              "Timestamp                     ...                                             \n",
              "2021-02-11      0    Kwanele  ...  Tsabedze                                   \n",
              "2021-02-11      1       José  ...      Rego                                   \n",
              "2021-02-11      2    Simanga  ...    Ntsini                                   \n",
              "2021-02-13      3    Simanga  ...    Ntsini                                   \n",
              "2021-02-13      4       José  ...      Rego                                   \n",
              "\n",
              "[5 rows x 13 columns]"
            ]
          },
          "metadata": {},
          "execution_count": 68
        }
      ]
    },
    {
      "cell_type": "code",
      "metadata": {
        "colab": {
          "base_uri": "https://localhost:8080/",
          "height": 337
        },
        "id": "tfIvEvj8s5tZ",
        "outputId": "9ce515df-fa04-4e63-c37c-58cc27630d1f"
      },
      "source": [
        "df11 = df.loc['2021-09-06 00:00:00':'2021-09-12 23:59:59']\n",
        "df11.head()"
      ],
      "execution_count": null,
      "outputs": [
        {
          "output_type": "execute_result",
          "data": {
            "text/html": [
              "<div>\n",
              "<style scoped>\n",
              "    .dataframe tbody tr th:only-of-type {\n",
              "        vertical-align: middle;\n",
              "    }\n",
              "\n",
              "    .dataframe tbody tr th {\n",
              "        vertical-align: top;\n",
              "    }\n",
              "\n",
              "    .dataframe thead th {\n",
              "        text-align: right;\n",
              "    }\n",
              "</style>\n",
              "<table border=\"1\" class=\"dataframe\">\n",
              "  <thead>\n",
              "    <tr style=\"text-align: right;\">\n",
              "      <th></th>\n",
              "      <th>index</th>\n",
              "      <th>First Name</th>\n",
              "      <th>Phone Number</th>\n",
              "      <th>Sign-in Time</th>\n",
              "      <th>What are you working on today?</th>\n",
              "      <th>What equipment will you use?</th>\n",
              "      <th>Internet?</th>\n",
              "      <th>How many hours will you be putting in?</th>\n",
              "      <th>Are you a member of The Hub?</th>\n",
              "      <th>Are you a student (from any institution)?</th>\n",
              "      <th>What company do you work for?</th>\n",
              "      <th>Last Name</th>\n",
              "      <th>What equipment will you check out?</th>\n",
              "    </tr>\n",
              "    <tr>\n",
              "      <th>Timestamp</th>\n",
              "      <th></th>\n",
              "      <th></th>\n",
              "      <th></th>\n",
              "      <th></th>\n",
              "      <th></th>\n",
              "      <th></th>\n",
              "      <th></th>\n",
              "      <th></th>\n",
              "      <th></th>\n",
              "      <th></th>\n",
              "      <th></th>\n",
              "      <th></th>\n",
              "      <th></th>\n",
              "    </tr>\n",
              "  </thead>\n",
              "  <tbody>\n",
              "    <tr>\n",
              "      <th>2021-09-06 15:51:44</th>\n",
              "      <td>797</td>\n",
              "      <td>José</td>\n",
              "      <td></td>\n",
              "      <td>8:00:00 AM</td>\n",
              "      <td>Company Work, Coding</td>\n",
              "      <td>Mac Workstation</td>\n",
              "      <td>Shared Hotspot</td>\n",
              "      <td>12</td>\n",
              "      <td>Yes</td>\n",
              "      <td>No</td>\n",
              "      <td>Ummo</td>\n",
              "      <td>Rego</td>\n",
              "      <td></td>\n",
              "    </tr>\n",
              "    <tr>\n",
              "      <th>2021-09-07 11:00:25</th>\n",
              "      <td>798</td>\n",
              "      <td>Sikhulile</td>\n",
              "      <td></td>\n",
              "      <td>10:30:00 AM</td>\n",
              "      <td>Company Work, Research</td>\n",
              "      <td>Mac Workstation, PC Tower, Keyboard, Mouse, Mo...</td>\n",
              "      <td>Shared Hotspot</td>\n",
              "      <td>24</td>\n",
              "      <td>Yes</td>\n",
              "      <td>No</td>\n",
              "      <td>Kingdom XLR</td>\n",
              "      <td>Zwane</td>\n",
              "      <td></td>\n",
              "    </tr>\n",
              "    <tr>\n",
              "      <th>2021-09-07 11:02:31</th>\n",
              "      <td>799</td>\n",
              "      <td>Simanga</td>\n",
              "      <td></td>\n",
              "      <td>9:00:00 AM</td>\n",
              "      <td>Research, Content &amp; Creativity</td>\n",
              "      <td>Mac Workstation</td>\n",
              "      <td>Shared Hotspot</td>\n",
              "      <td>5</td>\n",
              "      <td>Yes</td>\n",
              "      <td>No</td>\n",
              "      <td>Freelancer</td>\n",
              "      <td>Ntsini</td>\n",
              "      <td></td>\n",
              "    </tr>\n",
              "    <tr>\n",
              "      <th>2021-09-07 11:47:58</th>\n",
              "      <td>800</td>\n",
              "      <td>Alex</td>\n",
              "      <td></td>\n",
              "      <td>11:30:00 AM</td>\n",
              "      <td>Company Work</td>\n",
              "      <td>Mac Workstation, PC Tower, Keyboard, Mouse, Mo...</td>\n",
              "      <td>Shared Hotspot</td>\n",
              "      <td>5</td>\n",
              "      <td>Yes</td>\n",
              "      <td>No</td>\n",
              "      <td>Kingdom XLR</td>\n",
              "      <td>Muti</td>\n",
              "      <td></td>\n",
              "    </tr>\n",
              "    <tr>\n",
              "      <th>2021-09-07 12:14:59</th>\n",
              "      <td>801</td>\n",
              "      <td>Muzi</td>\n",
              "      <td></td>\n",
              "      <td>11:00:00 AM</td>\n",
              "      <td>Academic Work, Research</td>\n",
              "      <td>Brought my own workstation</td>\n",
              "      <td>Shared Hotspot</td>\n",
              "      <td>2</td>\n",
              "      <td>Yes</td>\n",
              "      <td>Yes</td>\n",
              "      <td>Rare Jamz</td>\n",
              "      <td>Mathunjwa</td>\n",
              "      <td></td>\n",
              "    </tr>\n",
              "  </tbody>\n",
              "</table>\n",
              "</div>"
            ],
            "text/plain": [
              "                     index  ... What equipment will you check out?\n",
              "Timestamp                   ...                                   \n",
              "2021-09-06 15:51:44    797  ...                                   \n",
              "2021-09-07 11:00:25    798  ...                                   \n",
              "2021-09-07 11:02:31    799  ...                                   \n",
              "2021-09-07 11:47:58    800  ...                                   \n",
              "2021-09-07 12:14:59    801  ...                                   \n",
              "\n",
              "[5 rows x 13 columns]"
            ]
          },
          "metadata": {},
          "execution_count": 28
        }
      ]
    },
    {
      "cell_type": "code",
      "metadata": {
        "id": "6bSMOA1DsYJC"
      },
      "source": [
        "#df11['Sign-in Time'] = pd.to_datetime(df11['Sign-in Time'])"
      ],
      "execution_count": null,
      "outputs": []
    },
    {
      "cell_type": "code",
      "metadata": {
        "colab": {
          "base_uri": "https://localhost:8080/"
        },
        "id": "OMPRU5MV5MNE",
        "outputId": "11821af0-f467-4fa5-8663-7b921b87c1f1"
      },
      "source": [
        "#df['Timestamp'] = pd.to_datetime(df['Timestamp'])\n",
        "#df['Sign-in Time'] = pd.to_datetime(df['Sign-in Time'])\n",
        "#df['What time do you expect to be out of The Hub?'] = pd.to_datetime(df['What time do you expect to be out of The Hub?'])\n",
        "df11['How many hours will you be putting in?'] = pd.to_numeric(df11['How many hours will you be putting in?'])\n",
        "df11.dtypes"
      ],
      "execution_count": null,
      "outputs": [
        {
          "output_type": "execute_result",
          "data": {
            "text/plain": [
              "index                                          int64\n",
              "First Name                                    object\n",
              "Phone Number                                  object\n",
              "Sign-in Time                                  object\n",
              "What are you working on today?                object\n",
              "What equipment will you use?                  object\n",
              "Internet?                                     object\n",
              "How many hours will you be putting in?       float64\n",
              "Are you a member of The Hub?                  object\n",
              "Are you a student (from any institution)?     object\n",
              "What company do you work for?                 object\n",
              "Last Name                                     object\n",
              "What equipment will you check out?            object\n",
              "dtype: object"
            ]
          },
          "metadata": {},
          "execution_count": 29
        }
      ]
    },
    {
      "cell_type": "code",
      "metadata": {
        "id": "-vUJcZ8isPkb"
      },
      "source": [
        "#df11 = df11.set_index('Timestamp')"
      ],
      "execution_count": null,
      "outputs": []
    },
    {
      "cell_type": "code",
      "metadata": {
        "id": "0c_rBx4o39v-"
      },
      "source": [
        "cato=df11['What are you working on today?'].str.split(',')\n",
        "cat_set=[]\n",
        "for i in cato.dropna():\n",
        "    cat_set.extend(i)\n",
        "plt1 = pd.Series(cat_set)\n",
        "plt1 = plt1.str.strip()\n",
        "plt2=plt1.value_counts().sort_values(ascending=False).to_frame()\n",
        "plt2.columns = ['Count']"
      ],
      "execution_count": null,
      "outputs": []
    },
    {
      "cell_type": "code",
      "metadata": {
        "colab": {
          "base_uri": "https://localhost:8080/",
          "height": 80
        },
        "id": "jxaLGLjV4keA",
        "outputId": "22e0f559-d3cf-4bcc-831e-855825d2e982"
      },
      "source": [
        "plt2.T"
      ],
      "execution_count": null,
      "outputs": [
        {
          "output_type": "execute_result",
          "data": {
            "text/html": [
              "<div>\n",
              "<style scoped>\n",
              "    .dataframe tbody tr th:only-of-type {\n",
              "        vertical-align: middle;\n",
              "    }\n",
              "\n",
              "    .dataframe tbody tr th {\n",
              "        vertical-align: top;\n",
              "    }\n",
              "\n",
              "    .dataframe thead th {\n",
              "        text-align: right;\n",
              "    }\n",
              "</style>\n",
              "<table border=\"1\" class=\"dataframe\">\n",
              "  <thead>\n",
              "    <tr style=\"text-align: right;\">\n",
              "      <th></th>\n",
              "      <th>Company Work</th>\n",
              "      <th>Coding</th>\n",
              "      <th>Research</th>\n",
              "      <th>Content &amp; Creativity</th>\n",
              "      <th>Academic Work</th>\n",
              "    </tr>\n",
              "  </thead>\n",
              "  <tbody>\n",
              "    <tr>\n",
              "      <th>Count</th>\n",
              "      <td>17</td>\n",
              "      <td>14</td>\n",
              "      <td>11</td>\n",
              "      <td>7</td>\n",
              "      <td>2</td>\n",
              "    </tr>\n",
              "  </tbody>\n",
              "</table>\n",
              "</div>"
            ],
            "text/plain": [
              "       Company Work  Coding  Research  Content & Creativity  Academic Work\n",
              "Count            17      14        11                     7              2"
            ]
          },
          "metadata": {},
          "execution_count": 31
        }
      ]
    },
    {
      "cell_type": "code",
      "metadata": {
        "colab": {
          "base_uri": "https://localhost:8080/"
        },
        "id": "dA518VoxB9XE",
        "outputId": "92a109b9-05ab-4829-e7b5-e885b646a297"
      },
      "source": [
        "len(df1)"
      ],
      "execution_count": null,
      "outputs": [
        {
          "output_type": "execute_result",
          "data": {
            "text/plain": [
              "54"
            ]
          },
          "metadata": {},
          "execution_count": 54
        }
      ]
    },
    {
      "cell_type": "code",
      "metadata": {
        "colab": {
          "base_uri": "https://localhost:8080/",
          "height": 204
        },
        "id": "My7x_9vIEUbS",
        "outputId": "3fdd44c6-fba2-4945-e002-d23d4c56c24c"
      },
      "source": [
        "df2 = df11['What are you working on today?']\n",
        "splitting_columns = lambda x: pd.Series([i for i in reversed(x.split(','))])\n",
        "df2 = df2.apply(splitting_columns)\n",
        "df2[0] = df2[0].str.strip()\n",
        "df2[1] = df2[1].str.strip()\n",
        "df2[2] = df2[2].str.strip()\n",
        "df3 = df2[0].append(df2[1], ignore_index=True)\n",
        "df4 = df3.append(df2[2], ignore_index=True)\n",
        "df4 = df4.dropna()\n",
        "df5 = df4.value_counts(dropna=True).to_frame()\n",
        "df5.columns = ['count']\n",
        "df5"
      ],
      "execution_count": null,
      "outputs": [
        {
          "output_type": "execute_result",
          "data": {
            "text/html": [
              "<div>\n",
              "<style scoped>\n",
              "    .dataframe tbody tr th:only-of-type {\n",
              "        vertical-align: middle;\n",
              "    }\n",
              "\n",
              "    .dataframe tbody tr th {\n",
              "        vertical-align: top;\n",
              "    }\n",
              "\n",
              "    .dataframe thead th {\n",
              "        text-align: right;\n",
              "    }\n",
              "</style>\n",
              "<table border=\"1\" class=\"dataframe\">\n",
              "  <thead>\n",
              "    <tr style=\"text-align: right;\">\n",
              "      <th></th>\n",
              "      <th>count</th>\n",
              "    </tr>\n",
              "  </thead>\n",
              "  <tbody>\n",
              "    <tr>\n",
              "      <th>Company Work</th>\n",
              "      <td>16</td>\n",
              "    </tr>\n",
              "    <tr>\n",
              "      <th>Coding</th>\n",
              "      <td>14</td>\n",
              "    </tr>\n",
              "    <tr>\n",
              "      <th>Research</th>\n",
              "      <td>11</td>\n",
              "    </tr>\n",
              "    <tr>\n",
              "      <th>Content &amp; Creativity</th>\n",
              "      <td>7</td>\n",
              "    </tr>\n",
              "    <tr>\n",
              "      <th>Academic Work</th>\n",
              "      <td>2</td>\n",
              "    </tr>\n",
              "  </tbody>\n",
              "</table>\n",
              "</div>"
            ],
            "text/plain": [
              "                      count\n",
              "Company Work             16\n",
              "Coding                   14\n",
              "Research                 11\n",
              "Content & Creativity      7\n",
              "Academic Work             2"
            ]
          },
          "metadata": {},
          "execution_count": 32
        }
      ]
    },
    {
      "cell_type": "code",
      "metadata": {
        "id": "i_mw4btnHS_6"
      },
      "source": [
        "df6 = df11['What company do you work for?']\n",
        "df7 = df6.value_counts().to_frame()\n",
        "df7.columns = ['Number of hub visits']"
      ],
      "execution_count": null,
      "outputs": []
    },
    {
      "cell_type": "code",
      "metadata": {
        "colab": {
          "base_uri": "https://localhost:8080/",
          "height": 266
        },
        "id": "1L0ICtXycqm3",
        "outputId": "90cf8bb4-9d0c-41c0-8d16-12ccfb672d22"
      },
      "source": [
        "df7"
      ],
      "execution_count": null,
      "outputs": [
        {
          "output_type": "execute_result",
          "data": {
            "text/html": [
              "<div>\n",
              "<style scoped>\n",
              "    .dataframe tbody tr th:only-of-type {\n",
              "        vertical-align: middle;\n",
              "    }\n",
              "\n",
              "    .dataframe tbody tr th {\n",
              "        vertical-align: top;\n",
              "    }\n",
              "\n",
              "    .dataframe thead th {\n",
              "        text-align: right;\n",
              "    }\n",
              "</style>\n",
              "<table border=\"1\" class=\"dataframe\">\n",
              "  <thead>\n",
              "    <tr style=\"text-align: right;\">\n",
              "      <th></th>\n",
              "      <th>Number of hub visits</th>\n",
              "    </tr>\n",
              "  </thead>\n",
              "  <tbody>\n",
              "    <tr>\n",
              "      <th>Freelancer</th>\n",
              "      <td>10</td>\n",
              "    </tr>\n",
              "    <tr>\n",
              "      <th>Ummo</th>\n",
              "      <td>6</td>\n",
              "    </tr>\n",
              "    <tr>\n",
              "      <th>Snowsen</th>\n",
              "      <td>5</td>\n",
              "    </tr>\n",
              "    <tr>\n",
              "      <th>SV Tech</th>\n",
              "      <td>3</td>\n",
              "    </tr>\n",
              "    <tr>\n",
              "      <th>Kingdom XLR</th>\n",
              "      <td>2</td>\n",
              "    </tr>\n",
              "    <tr>\n",
              "      <th>Rare Jamz</th>\n",
              "      <td>2</td>\n",
              "    </tr>\n",
              "    <tr>\n",
              "      <th>Rare Jam</th>\n",
              "      <td>1</td>\n",
              "    </tr>\n",
              "  </tbody>\n",
              "</table>\n",
              "</div>"
            ],
            "text/plain": [
              "             Number of hub visits\n",
              "Freelancer                     10\n",
              "Ummo                            6\n",
              "Snowsen                         5\n",
              "SV Tech                         3\n",
              "Kingdom XLR                     2\n",
              "Rare Jamz                       2\n",
              "Rare Jam                        1"
            ]
          },
          "metadata": {},
          "execution_count": 38
        }
      ]
    },
    {
      "cell_type": "code",
      "metadata": {
        "colab": {
          "base_uri": "https://localhost:8080/",
          "height": 266
        },
        "id": "LU505xhBQMMS",
        "outputId": "22ed28e2-eea3-42da-cad6-d37b16102156"
      },
      "source": [
        "df8 = df11['What equipment will you use?']\n",
        "df8 = df8.apply(splitting_columns)\n",
        "df8[0] = df8[0].str.strip()\n",
        "df8[1] = df8[1].str.strip()\n",
        "df8[2] = df8[2].str.strip()\n",
        "df8[3] = df8[3].str.strip()\n",
        "df9 = df8[0].append(df8[1], ignore_index=True)\n",
        "df10 = df9.append(df8[2], ignore_index=True)\n",
        "df400 = df10.append(df8[3], ignore_index=True)\n",
        "equipment_used = df400.value_counts(dropna=True).to_frame()\n",
        "equipment_used.columns = ['count']\n",
        "equipment_used"
      ],
      "execution_count": null,
      "outputs": [
        {
          "output_type": "execute_result",
          "data": {
            "text/html": [
              "<div>\n",
              "<style scoped>\n",
              "    .dataframe tbody tr th:only-of-type {\n",
              "        vertical-align: middle;\n",
              "    }\n",
              "\n",
              "    .dataframe tbody tr th {\n",
              "        vertical-align: top;\n",
              "    }\n",
              "\n",
              "    .dataframe thead th {\n",
              "        text-align: right;\n",
              "    }\n",
              "</style>\n",
              "<table border=\"1\" class=\"dataframe\">\n",
              "  <thead>\n",
              "    <tr style=\"text-align: right;\">\n",
              "      <th></th>\n",
              "      <th>count</th>\n",
              "    </tr>\n",
              "  </thead>\n",
              "  <tbody>\n",
              "    <tr>\n",
              "      <th>Mouse</th>\n",
              "      <td>10</td>\n",
              "    </tr>\n",
              "    <tr>\n",
              "      <th>Brought my own workstation</th>\n",
              "      <td>10</td>\n",
              "    </tr>\n",
              "    <tr>\n",
              "      <th>Mac Workstation</th>\n",
              "      <td>10</td>\n",
              "    </tr>\n",
              "    <tr>\n",
              "      <th>Keyboard</th>\n",
              "      <td>8</td>\n",
              "    </tr>\n",
              "    <tr>\n",
              "      <th>PC Tower</th>\n",
              "      <td>8</td>\n",
              "    </tr>\n",
              "    <tr>\n",
              "      <th>Monitor</th>\n",
              "      <td>7</td>\n",
              "    </tr>\n",
              "    <tr>\n",
              "      <th>Audio Box</th>\n",
              "      <td>1</td>\n",
              "    </tr>\n",
              "  </tbody>\n",
              "</table>\n",
              "</div>"
            ],
            "text/plain": [
              "                            count\n",
              "Mouse                          10\n",
              "Brought my own workstation     10\n",
              "Mac Workstation                10\n",
              "Keyboard                        8\n",
              "PC Tower                        8\n",
              "Monitor                         7\n",
              "Audio Box                       1"
            ]
          },
          "metadata": {},
          "execution_count": 34
        }
      ]
    },
    {
      "cell_type": "code",
      "metadata": {
        "colab": {
          "base_uri": "https://localhost:8080/"
        },
        "id": "_BaPPs342lQ9",
        "outputId": "4180688a-a048-43d5-c9f2-9c812db3764e"
      },
      "source": [
        "df11.columns"
      ],
      "execution_count": null,
      "outputs": [
        {
          "output_type": "execute_result",
          "data": {
            "text/plain": [
              "Index(['First Name', 'Phone Number', 'Sign-in Time',\n",
              "       'What are you working on today?', 'What equipment will you use?',\n",
              "       'Internet?', 'How many hours will you be putting in?',\n",
              "       'Are you a member of The Hub?',\n",
              "       'Are you a student (from any institution)?',\n",
              "       'What company do you work for?', 'Last Name',\n",
              "       'What equipment will you check out?'],\n",
              "      dtype='object')"
            ]
          },
          "metadata": {},
          "execution_count": 46
        }
      ]
    },
    {
      "cell_type": "code",
      "metadata": {
        "colab": {
          "base_uri": "https://localhost:8080/",
          "height": 452
        },
        "id": "gex9bBUikoAe",
        "outputId": "1c49c6cd-f1f9-4c0e-f41c-c0a4cad38f0b"
      },
      "source": [
        "d12 = df11['First Name']\n",
        "#d12 = d12.replace('Kwanele Prince', 'Kwanele')\n",
        "#d12 = d12.replace('Tsabedze', 'Kwanele')\n",
        "d13 = d12.value_counts().to_frame()\n",
        "d13.columns = ['Number of hub visits']\n",
        "hubbers = d13\n",
        "hubbers"
      ],
      "execution_count": null,
      "outputs": [
        {
          "output_type": "execute_result",
          "data": {
            "text/html": [
              "<div>\n",
              "<style scoped>\n",
              "    .dataframe tbody tr th:only-of-type {\n",
              "        vertical-align: middle;\n",
              "    }\n",
              "\n",
              "    .dataframe tbody tr th {\n",
              "        vertical-align: top;\n",
              "    }\n",
              "\n",
              "    .dataframe thead th {\n",
              "        text-align: right;\n",
              "    }\n",
              "</style>\n",
              "<table border=\"1\" class=\"dataframe\">\n",
              "  <thead>\n",
              "    <tr style=\"text-align: right;\">\n",
              "      <th></th>\n",
              "      <th>Number of hub visits</th>\n",
              "    </tr>\n",
              "  </thead>\n",
              "  <tbody>\n",
              "    <tr>\n",
              "      <th>Fanelesibonge</th>\n",
              "      <td>5</td>\n",
              "    </tr>\n",
              "    <tr>\n",
              "      <th>José</th>\n",
              "      <td>3</td>\n",
              "    </tr>\n",
              "    <tr>\n",
              "      <th>Bafana</th>\n",
              "      <td>3</td>\n",
              "    </tr>\n",
              "    <tr>\n",
              "      <th>Sibahle</th>\n",
              "      <td>3</td>\n",
              "    </tr>\n",
              "    <tr>\n",
              "      <th>Thokozani</th>\n",
              "      <td>3</td>\n",
              "    </tr>\n",
              "    <tr>\n",
              "      <th>Muzi</th>\n",
              "      <td>2</td>\n",
              "    </tr>\n",
              "    <tr>\n",
              "      <th>Simanga</th>\n",
              "      <td>2</td>\n",
              "    </tr>\n",
              "    <tr>\n",
              "      <th>Tiyandza</th>\n",
              "      <td>2</td>\n",
              "    </tr>\n",
              "    <tr>\n",
              "      <th>Gcinimiyalo</th>\n",
              "      <td>2</td>\n",
              "    </tr>\n",
              "    <tr>\n",
              "      <th>Sikhulile</th>\n",
              "      <td>1</td>\n",
              "    </tr>\n",
              "    <tr>\n",
              "      <th>Thelumusa</th>\n",
              "      <td>1</td>\n",
              "    </tr>\n",
              "    <tr>\n",
              "      <th>Alex</th>\n",
              "      <td>1</td>\n",
              "    </tr>\n",
              "    <tr>\n",
              "      <th>Lungelo</th>\n",
              "      <td>1</td>\n",
              "    </tr>\n",
              "  </tbody>\n",
              "</table>\n",
              "</div>"
            ],
            "text/plain": [
              "               Number of hub visits\n",
              "Fanelesibonge                     5\n",
              "José                              3\n",
              "Bafana                            3\n",
              "Sibahle                           3\n",
              "Thokozani                         3\n",
              "Muzi                              2\n",
              "Simanga                           2\n",
              "Tiyandza                          2\n",
              "Gcinimiyalo                       2\n",
              "Sikhulile                         1\n",
              "Thelumusa                         1\n",
              "Alex                              1\n",
              "Lungelo                           1"
            ]
          },
          "metadata": {},
          "execution_count": 35
        }
      ]
    },
    {
      "cell_type": "code",
      "metadata": {
        "colab": {
          "base_uri": "https://localhost:8080/"
        },
        "id": "hL_TuVW2FK-4",
        "outputId": "da2f152e-0a2f-46bf-da3c-65901224b2b3"
      },
      "source": [
        "df11['First Name'].unique()"
      ],
      "execution_count": null,
      "outputs": [
        {
          "output_type": "execute_result",
          "data": {
            "text/plain": [
              "array(['José', 'Bagcinele', 'Gcinimiyalo', 'Fanelesibonge', 'Lungelo',\n",
              "       'Sibahle', 'Muzi', 'Zack', 'Mlungisi', 'Sikhulile', 'Kwanele',\n",
              "       'Kangiso', 'Bafana', 'Tiyandza', 'Majaha', 'Gcina', 'Mzwandile'],\n",
              "      dtype=object)"
            ]
          },
          "metadata": {},
          "execution_count": 49
        }
      ]
    },
    {
      "cell_type": "code",
      "metadata": {
        "colab": {
          "base_uri": "https://localhost:8080/",
          "height": 483
        },
        "id": "FsMlYIz66_iY",
        "outputId": "d1e0768c-20ca-42c1-a645-dc6a58b649e2"
      },
      "source": [
        "import warnings\n",
        "warnings.filterwarnings(\"ignore\")\n",
        "#df1['Time Duration(hrs)'] = abs(df1['Time Duration(hrs)'])\n",
        "d14 = df11[['First Name', 'How many hours will you be putting in?']]\n",
        "d14 = d14.groupby(['First Name'], as_index=False).sum()\n",
        "d200 = d14.set_index(['First Name']).sort_values(['How many hours will you be putting in?'], ascending=False)\n",
        "d200"
      ],
      "execution_count": null,
      "outputs": [
        {
          "output_type": "execute_result",
          "data": {
            "text/html": [
              "<div>\n",
              "<style scoped>\n",
              "    .dataframe tbody tr th:only-of-type {\n",
              "        vertical-align: middle;\n",
              "    }\n",
              "\n",
              "    .dataframe tbody tr th {\n",
              "        vertical-align: top;\n",
              "    }\n",
              "\n",
              "    .dataframe thead th {\n",
              "        text-align: right;\n",
              "    }\n",
              "</style>\n",
              "<table border=\"1\" class=\"dataframe\">\n",
              "  <thead>\n",
              "    <tr style=\"text-align: right;\">\n",
              "      <th></th>\n",
              "      <th>How many hours will you be putting in?</th>\n",
              "    </tr>\n",
              "    <tr>\n",
              "      <th>First Name</th>\n",
              "      <th></th>\n",
              "    </tr>\n",
              "  </thead>\n",
              "  <tbody>\n",
              "    <tr>\n",
              "      <th>Fanelesibonge</th>\n",
              "      <td>47.0</td>\n",
              "    </tr>\n",
              "    <tr>\n",
              "      <th>José</th>\n",
              "      <td>36.0</td>\n",
              "    </tr>\n",
              "    <tr>\n",
              "      <th>Sibahle</th>\n",
              "      <td>30.0</td>\n",
              "    </tr>\n",
              "    <tr>\n",
              "      <th>Sikhulile</th>\n",
              "      <td>24.0</td>\n",
              "    </tr>\n",
              "    <tr>\n",
              "      <th>Thokozani</th>\n",
              "      <td>23.0</td>\n",
              "    </tr>\n",
              "    <tr>\n",
              "      <th>Bafana</th>\n",
              "      <td>15.5</td>\n",
              "    </tr>\n",
              "    <tr>\n",
              "      <th>Simanga</th>\n",
              "      <td>10.0</td>\n",
              "    </tr>\n",
              "    <tr>\n",
              "      <th>Gcinimiyalo</th>\n",
              "      <td>7.0</td>\n",
              "    </tr>\n",
              "    <tr>\n",
              "      <th>Alex</th>\n",
              "      <td>5.0</td>\n",
              "    </tr>\n",
              "    <tr>\n",
              "      <th>Muzi</th>\n",
              "      <td>5.0</td>\n",
              "    </tr>\n",
              "    <tr>\n",
              "      <th>Tiyandza</th>\n",
              "      <td>5.0</td>\n",
              "    </tr>\n",
              "    <tr>\n",
              "      <th>Lungelo</th>\n",
              "      <td>3.0</td>\n",
              "    </tr>\n",
              "    <tr>\n",
              "      <th>Thelumusa</th>\n",
              "      <td>2.0</td>\n",
              "    </tr>\n",
              "  </tbody>\n",
              "</table>\n",
              "</div>"
            ],
            "text/plain": [
              "               How many hours will you be putting in?\n",
              "First Name                                           \n",
              "Fanelesibonge                                    47.0\n",
              "José                                             36.0\n",
              "Sibahle                                          30.0\n",
              "Sikhulile                                        24.0\n",
              "Thokozani                                        23.0\n",
              "Bafana                                           15.5\n",
              "Simanga                                          10.0\n",
              "Gcinimiyalo                                       7.0\n",
              "Alex                                              5.0\n",
              "Muzi                                              5.0\n",
              "Tiyandza                                          5.0\n",
              "Lungelo                                           3.0\n",
              "Thelumusa                                         2.0"
            ]
          },
          "metadata": {},
          "execution_count": 36
        }
      ]
    },
    {
      "cell_type": "code",
      "metadata": {
        "colab": {
          "base_uri": "https://localhost:8080/",
          "height": 452
        },
        "id": "FxTnCyA-EonQ",
        "outputId": "0d850e36-824b-407b-8716-4027df1a5ac8"
      },
      "source": [
        "ultimate = hubbers.merge(d200, right_index=True, left_index=True)\n",
        "ultimate"
      ],
      "execution_count": null,
      "outputs": [
        {
          "output_type": "execute_result",
          "data": {
            "text/html": [
              "<div>\n",
              "<style scoped>\n",
              "    .dataframe tbody tr th:only-of-type {\n",
              "        vertical-align: middle;\n",
              "    }\n",
              "\n",
              "    .dataframe tbody tr th {\n",
              "        vertical-align: top;\n",
              "    }\n",
              "\n",
              "    .dataframe thead th {\n",
              "        text-align: right;\n",
              "    }\n",
              "</style>\n",
              "<table border=\"1\" class=\"dataframe\">\n",
              "  <thead>\n",
              "    <tr style=\"text-align: right;\">\n",
              "      <th></th>\n",
              "      <th>Number of hub visits</th>\n",
              "      <th>How many hours will you be putting in?</th>\n",
              "    </tr>\n",
              "  </thead>\n",
              "  <tbody>\n",
              "    <tr>\n",
              "      <th>Fanelesibonge</th>\n",
              "      <td>5</td>\n",
              "      <td>47.0</td>\n",
              "    </tr>\n",
              "    <tr>\n",
              "      <th>José</th>\n",
              "      <td>3</td>\n",
              "      <td>36.0</td>\n",
              "    </tr>\n",
              "    <tr>\n",
              "      <th>Bafana</th>\n",
              "      <td>3</td>\n",
              "      <td>15.5</td>\n",
              "    </tr>\n",
              "    <tr>\n",
              "      <th>Sibahle</th>\n",
              "      <td>3</td>\n",
              "      <td>30.0</td>\n",
              "    </tr>\n",
              "    <tr>\n",
              "      <th>Thokozani</th>\n",
              "      <td>3</td>\n",
              "      <td>23.0</td>\n",
              "    </tr>\n",
              "    <tr>\n",
              "      <th>Muzi</th>\n",
              "      <td>2</td>\n",
              "      <td>5.0</td>\n",
              "    </tr>\n",
              "    <tr>\n",
              "      <th>Simanga</th>\n",
              "      <td>2</td>\n",
              "      <td>10.0</td>\n",
              "    </tr>\n",
              "    <tr>\n",
              "      <th>Tiyandza</th>\n",
              "      <td>2</td>\n",
              "      <td>5.0</td>\n",
              "    </tr>\n",
              "    <tr>\n",
              "      <th>Gcinimiyalo</th>\n",
              "      <td>2</td>\n",
              "      <td>7.0</td>\n",
              "    </tr>\n",
              "    <tr>\n",
              "      <th>Sikhulile</th>\n",
              "      <td>1</td>\n",
              "      <td>24.0</td>\n",
              "    </tr>\n",
              "    <tr>\n",
              "      <th>Thelumusa</th>\n",
              "      <td>1</td>\n",
              "      <td>2.0</td>\n",
              "    </tr>\n",
              "    <tr>\n",
              "      <th>Alex</th>\n",
              "      <td>1</td>\n",
              "      <td>5.0</td>\n",
              "    </tr>\n",
              "    <tr>\n",
              "      <th>Lungelo</th>\n",
              "      <td>1</td>\n",
              "      <td>3.0</td>\n",
              "    </tr>\n",
              "  </tbody>\n",
              "</table>\n",
              "</div>"
            ],
            "text/plain": [
              "               Number of hub visits  How many hours will you be putting in?\n",
              "Fanelesibonge                     5                                    47.0\n",
              "José                              3                                    36.0\n",
              "Bafana                            3                                    15.5\n",
              "Sibahle                           3                                    30.0\n",
              "Thokozani                         3                                    23.0\n",
              "Muzi                              2                                     5.0\n",
              "Simanga                           2                                    10.0\n",
              "Tiyandza                          2                                     5.0\n",
              "Gcinimiyalo                       2                                     7.0\n",
              "Sikhulile                         1                                    24.0\n",
              "Thelumusa                         1                                     2.0\n",
              "Alex                              1                                     5.0\n",
              "Lungelo                           1                                     3.0"
            ]
          },
          "metadata": {},
          "execution_count": 37
        }
      ]
    },
    {
      "cell_type": "code",
      "metadata": {
        "id": "0u49mUc6TNRj"
      },
      "source": [
        "#df1['Time Duration(hrs)'] = abs(df1['Time Duration(hrs)'])\n",
        "d15 = df11[['What company do you work for?', 'How many hours will you be putting in?']]\n",
        "d15 = d15.groupby(['What company do you work for?'], as_index=False).sum()\n",
        "d15 = d15.set_index(['What company do you work for?']).sort_values(['How many hours will you be putting in?'], ascending=False)"
      ],
      "execution_count": null,
      "outputs": []
    },
    {
      "cell_type": "code",
      "metadata": {
        "colab": {
          "base_uri": "https://localhost:8080/",
          "height": 266
        },
        "id": "QKBBJAXyUGGP",
        "outputId": "3c8f9c65-9808-4e17-bacc-9ad96b90595b"
      },
      "source": [
        "ultimate1 = df7.merge(d15, right_index=True, left_index=True)\n",
        "ultimate1"
      ],
      "execution_count": null,
      "outputs": [
        {
          "output_type": "execute_result",
          "data": {
            "text/html": [
              "<div>\n",
              "<style scoped>\n",
              "    .dataframe tbody tr th:only-of-type {\n",
              "        vertical-align: middle;\n",
              "    }\n",
              "\n",
              "    .dataframe tbody tr th {\n",
              "        vertical-align: top;\n",
              "    }\n",
              "\n",
              "    .dataframe thead th {\n",
              "        text-align: right;\n",
              "    }\n",
              "</style>\n",
              "<table border=\"1\" class=\"dataframe\">\n",
              "  <thead>\n",
              "    <tr style=\"text-align: right;\">\n",
              "      <th></th>\n",
              "      <th>Number of hub visits</th>\n",
              "      <th>How many hours will you be putting in?</th>\n",
              "    </tr>\n",
              "  </thead>\n",
              "  <tbody>\n",
              "    <tr>\n",
              "      <th>Freelancer</th>\n",
              "      <td>10</td>\n",
              "      <td>67.0</td>\n",
              "    </tr>\n",
              "    <tr>\n",
              "      <th>Ummo</th>\n",
              "      <td>6</td>\n",
              "      <td>66.0</td>\n",
              "    </tr>\n",
              "    <tr>\n",
              "      <th>Snowsen</th>\n",
              "      <td>5</td>\n",
              "      <td>20.5</td>\n",
              "    </tr>\n",
              "    <tr>\n",
              "      <th>SV Tech</th>\n",
              "      <td>3</td>\n",
              "      <td>23.0</td>\n",
              "    </tr>\n",
              "    <tr>\n",
              "      <th>Kingdom XLR</th>\n",
              "      <td>2</td>\n",
              "      <td>29.0</td>\n",
              "    </tr>\n",
              "    <tr>\n",
              "      <th>Rare Jamz</th>\n",
              "      <td>2</td>\n",
              "      <td>5.0</td>\n",
              "    </tr>\n",
              "    <tr>\n",
              "      <th>Rare Jam</th>\n",
              "      <td>1</td>\n",
              "      <td>2.0</td>\n",
              "    </tr>\n",
              "  </tbody>\n",
              "</table>\n",
              "</div>"
            ],
            "text/plain": [
              "             Number of hub visits  How many hours will you be putting in?\n",
              "Freelancer                     10                                    67.0\n",
              "Ummo                            6                                    66.0\n",
              "Snowsen                         5                                    20.5\n",
              "SV Tech                         3                                    23.0\n",
              "Kingdom XLR                     2                                    29.0\n",
              "Rare Jamz                       2                                     5.0\n",
              "Rare Jam                        1                                     2.0"
            ]
          },
          "metadata": {},
          "execution_count": 40
        }
      ]
    },
    {
      "cell_type": "markdown",
      "metadata": {
        "id": "v_TctWzGPD6t"
      },
      "source": [
        "Below is hub activity for the past week"
      ]
    },
    {
      "cell_type": "code",
      "metadata": {
        "colab": {
          "base_uri": "https://localhost:8080/",
          "height": 483
        },
        "id": "_-IwZ91Us-QP",
        "outputId": "33b24718-a7ba-40ac-a61f-a4913df1465e"
      },
      "source": [
        "df2 = df11['What are you working on today?']\n",
        "splitting_columns = lambda x: pd.Series([i for i in reversed(x.split(','))])\n",
        "df2 = df2.apply(splitting_columns)\n",
        "df2['First Name'] = df11['First Name']\n",
        "cols = df2.columns.tolist()\n",
        "cols = cols[-1:] + cols[:-1]\n",
        "df2 = df2[cols]\n",
        "df2[0] = df2[0].str.strip()\n",
        "df2[1] = df2[1].str.strip()\n",
        "df2[2] = df2[2].str.strip()\n",
        "df3 = df2[0].append(df2[1], ignore_index=False)\n",
        "df4 = df3.append(df2[2], ignore_index=False)\n",
        "df4 = df4.to_frame()\n",
        "df4['First Name'] = df11['First Name']\n",
        "df4 = df4.dropna()\n",
        "#df4 = df4.groupby(['First Name'], as_index=False)\n",
        "#df5 = df4.value_counts(dropna=True).to_frame()\n",
        "#df5.columns = ['count']\n",
        "d20 = df4.groupby(['First Name'])[0].apply(lambda x: x[x.str.contains('Company Work')].count())\n",
        "d20 = d20.to_frame()\n",
        "d20.columns = ['Company Work']\n",
        "d21 = df4.groupby(['First Name'])[0].apply(lambda x: x[x.str.contains('Academic Work')].count())\n",
        "d21 = d21.to_frame()\n",
        "d21.columns = ['Academic Work']\n",
        "d22 = df4.groupby(['First Name'])[0].apply(lambda x: x[x.str.contains('Research')].count())\n",
        "d22 = d22.to_frame()\n",
        "d22.columns = ['Research']\n",
        "d23 = df4.groupby(['First Name'])[0].apply(lambda x: x[x.str.contains('Coding')].count())\n",
        "d23 = d23.to_frame()\n",
        "d23.columns = ['Coding']\n",
        "d24 = df4.groupby(['First Name'])[0].apply(lambda x: x[x.str.contains('Meeting')].count())\n",
        "d24 = d24.to_frame()\n",
        "d24.columns = ['Meeting']\n",
        "d25 = df4.groupby(['First Name'])[0].apply(lambda x: x[x.str.contains('Content & Creativity')].count())\n",
        "d25 = d25.to_frame()\n",
        "d25.columns = ['Content & Creativity']\n",
        "d30 = d20.merge(d21, right_index=True, left_index=True)\n",
        "d31 = d30.merge(d22, right_index=True, left_index=True)\n",
        "d32 = d31.merge(d23, right_index=True, left_index=True)\n",
        "d33 = d32.merge(d24, right_index=True, left_index=True)\n",
        "d34 = d33.merge(d25, right_index=True, left_index=True)\n",
        "d34"
      ],
      "execution_count": null,
      "outputs": [
        {
          "output_type": "execute_result",
          "data": {
            "text/html": [
              "<div>\n",
              "<style scoped>\n",
              "    .dataframe tbody tr th:only-of-type {\n",
              "        vertical-align: middle;\n",
              "    }\n",
              "\n",
              "    .dataframe tbody tr th {\n",
              "        vertical-align: top;\n",
              "    }\n",
              "\n",
              "    .dataframe thead th {\n",
              "        text-align: right;\n",
              "    }\n",
              "</style>\n",
              "<table border=\"1\" class=\"dataframe\">\n",
              "  <thead>\n",
              "    <tr style=\"text-align: right;\">\n",
              "      <th></th>\n",
              "      <th>Company Work</th>\n",
              "      <th>Academic Work</th>\n",
              "      <th>Research</th>\n",
              "      <th>Coding</th>\n",
              "      <th>Meeting</th>\n",
              "      <th>Content &amp; Creativity</th>\n",
              "    </tr>\n",
              "    <tr>\n",
              "      <th>First Name</th>\n",
              "      <th></th>\n",
              "      <th></th>\n",
              "      <th></th>\n",
              "      <th></th>\n",
              "      <th></th>\n",
              "      <th></th>\n",
              "    </tr>\n",
              "  </thead>\n",
              "  <tbody>\n",
              "    <tr>\n",
              "      <th>Alex</th>\n",
              "      <td>1</td>\n",
              "      <td>0</td>\n",
              "      <td>0</td>\n",
              "      <td>0</td>\n",
              "      <td>0</td>\n",
              "      <td>0</td>\n",
              "    </tr>\n",
              "    <tr>\n",
              "      <th>Bafana</th>\n",
              "      <td>2</td>\n",
              "      <td>0</td>\n",
              "      <td>0</td>\n",
              "      <td>3</td>\n",
              "      <td>0</td>\n",
              "      <td>2</td>\n",
              "    </tr>\n",
              "    <tr>\n",
              "      <th>Fanelesibonge</th>\n",
              "      <td>5</td>\n",
              "      <td>0</td>\n",
              "      <td>0</td>\n",
              "      <td>5</td>\n",
              "      <td>0</td>\n",
              "      <td>0</td>\n",
              "    </tr>\n",
              "    <tr>\n",
              "      <th>Gcinimiyalo</th>\n",
              "      <td>0</td>\n",
              "      <td>0</td>\n",
              "      <td>0</td>\n",
              "      <td>0</td>\n",
              "      <td>0</td>\n",
              "      <td>2</td>\n",
              "    </tr>\n",
              "    <tr>\n",
              "      <th>José</th>\n",
              "      <td>2</td>\n",
              "      <td>1</td>\n",
              "      <td>1</td>\n",
              "      <td>3</td>\n",
              "      <td>0</td>\n",
              "      <td>0</td>\n",
              "    </tr>\n",
              "    <tr>\n",
              "      <th>Lungelo</th>\n",
              "      <td>0</td>\n",
              "      <td>0</td>\n",
              "      <td>1</td>\n",
              "      <td>0</td>\n",
              "      <td>0</td>\n",
              "      <td>0</td>\n",
              "    </tr>\n",
              "    <tr>\n",
              "      <th>Muzi</th>\n",
              "      <td>0</td>\n",
              "      <td>1</td>\n",
              "      <td>2</td>\n",
              "      <td>0</td>\n",
              "      <td>0</td>\n",
              "      <td>1</td>\n",
              "    </tr>\n",
              "    <tr>\n",
              "      <th>Sibahle</th>\n",
              "      <td>3</td>\n",
              "      <td>0</td>\n",
              "      <td>3</td>\n",
              "      <td>0</td>\n",
              "      <td>0</td>\n",
              "      <td>0</td>\n",
              "    </tr>\n",
              "    <tr>\n",
              "      <th>Sikhulile</th>\n",
              "      <td>1</td>\n",
              "      <td>0</td>\n",
              "      <td>1</td>\n",
              "      <td>0</td>\n",
              "      <td>0</td>\n",
              "      <td>0</td>\n",
              "    </tr>\n",
              "    <tr>\n",
              "      <th>Simanga</th>\n",
              "      <td>0</td>\n",
              "      <td>0</td>\n",
              "      <td>2</td>\n",
              "      <td>0</td>\n",
              "      <td>0</td>\n",
              "      <td>2</td>\n",
              "    </tr>\n",
              "    <tr>\n",
              "      <th>Thelumusa</th>\n",
              "      <td>0</td>\n",
              "      <td>0</td>\n",
              "      <td>1</td>\n",
              "      <td>0</td>\n",
              "      <td>0</td>\n",
              "      <td>0</td>\n",
              "    </tr>\n",
              "    <tr>\n",
              "      <th>Thokozani</th>\n",
              "      <td>0</td>\n",
              "      <td>0</td>\n",
              "      <td>0</td>\n",
              "      <td>3</td>\n",
              "      <td>0</td>\n",
              "      <td>0</td>\n",
              "    </tr>\n",
              "    <tr>\n",
              "      <th>Tiyandza</th>\n",
              "      <td>2</td>\n",
              "      <td>0</td>\n",
              "      <td>0</td>\n",
              "      <td>0</td>\n",
              "      <td>0</td>\n",
              "      <td>0</td>\n",
              "    </tr>\n",
              "  </tbody>\n",
              "</table>\n",
              "</div>"
            ],
            "text/plain": [
              "               Company Work  Academic Work  ...  Meeting  Content & Creativity\n",
              "First Name                                  ...                               \n",
              "Alex                      1              0  ...        0                     0\n",
              "Bafana                    2              0  ...        0                     2\n",
              "Fanelesibonge             5              0  ...        0                     0\n",
              "Gcinimiyalo               0              0  ...        0                     2\n",
              "José                      2              1  ...        0                     0\n",
              "Lungelo                   0              0  ...        0                     0\n",
              "Muzi                      0              1  ...        0                     1\n",
              "Sibahle                   3              0  ...        0                     0\n",
              "Sikhulile                 1              0  ...        0                     0\n",
              "Simanga                   0              0  ...        0                     2\n",
              "Thelumusa                 0              0  ...        0                     0\n",
              "Thokozani                 0              0  ...        0                     0\n",
              "Tiyandza                  2              0  ...        0                     0\n",
              "\n",
              "[13 rows x 6 columns]"
            ]
          },
          "metadata": {},
          "execution_count": 41
        }
      ]
    },
    {
      "cell_type": "markdown",
      "metadata": {
        "id": "K9aEY1uLENi6"
      },
      "source": [
        "Below is hub equipment use this past week"
      ]
    },
    {
      "cell_type": "code",
      "metadata": {
        "colab": {
          "base_uri": "https://localhost:8080/",
          "height": 483
        },
        "id": "mBKBb4cRPCcD",
        "outputId": "9412ed25-b28b-4e45-cbb6-3fdf1360d92a"
      },
      "source": [
        "df100 = df11['What equipment will you use?']\n",
        "splitting_columns = lambda x: pd.Series([i for i in reversed(x.split(','))])\n",
        "df100 = df100.apply(splitting_columns)\n",
        "df100['First Name'] = df11['First Name']\n",
        "cols = df100.columns.tolist()\n",
        "cols = cols[-1:] + cols[:-1]\n",
        "df100 = df100[cols]\n",
        "df100[0] = df100[0].str.strip()\n",
        "df100[1] = df100[1].str.strip()\n",
        "df100[2] = df100[2].str.strip()\n",
        "df100[3] = df100[3].str.strip()\n",
        "df100[4] = df100[4].str.strip()\n",
        "df100[5] = df100[5].str.strip()\n",
        "df101 = df100[0].append(df100[1], ignore_index=False)\n",
        "df102 = df101.append(df100[2], ignore_index=False)\n",
        "df103 = df102.append(df100[3], ignore_index=False)\n",
        "df1040 = df103.append(df100[4], ignore_index=False)\n",
        "df1050 = df1040.append(df100[5], ignore_index=False)\n",
        "df1050 = df1050.to_frame()\n",
        "df1050['First Name'] = df11['First Name']\n",
        "df1050 = df1050.dropna()\n",
        "#df103 = df103.groupby(['First Name'], as_index=False)\n",
        "#df104 = df103.value_counts(dropna=True).to_frame()\n",
        "#df104.columns = ['count']\n",
        "d40 = df1050.groupby(['First Name'])[0].apply(lambda x: x[x.str.contains('Mac Workstation')].count())\n",
        "d40 = d40.to_frame()\n",
        "d40.columns = ['Mac Workstation']\n",
        "d41 = df1050.groupby(['First Name'])[0].apply(lambda x: x[x.str.contains('PC Workstation')].count())\n",
        "d41 = d41.to_frame()\n",
        "d41.columns = ['PC Workstation']\n",
        "d42 = df1050.groupby(['First Name'])[0].apply(lambda x: x[x.str.contains('Keyboard')].count())\n",
        "d42 = d42.to_frame()\n",
        "d42.columns = ['Keyboard']\n",
        "d43 = df1050.groupby(['First Name'])[0].apply(lambda x: x[x.str.contains('Mouse')].count())\n",
        "d43 = d43.to_frame()\n",
        "d43.columns = ['Mouse']\n",
        "d44 = df1050.groupby(['First Name'])[0].apply(lambda x: x[x.str.contains('Monitor')].count())\n",
        "d44 = d44.to_frame()\n",
        "d44.columns = ['Monitor']\n",
        "d45 = df1050.groupby(['First Name'])[0].apply(lambda x: x[x.str.contains('Camera')].count())\n",
        "d45 = d45.to_frame()\n",
        "d45.columns = ['Camera']\n",
        "d46 = df1050.groupby(['First Name'])[0].apply(lambda x: x[x.str.contains('Projector')].count())\n",
        "d46 = d46.to_frame()\n",
        "d46.columns = ['Projector']\n",
        "d47 = df1050.groupby(['First Name'])[0].apply(lambda x: x[x.str.contains('Brought my own workstation')].count())\n",
        "d47 = d47.to_frame()\n",
        "d47.columns = ['Brought my own workstation']\n",
        "d48 = df1050.groupby(['First Name'])[0].apply(lambda x: x[x.str.contains('Audio Box')].count())\n",
        "d48 = d48.to_frame()\n",
        "d48.columns = ['Audio Box']\n",
        "d5000 = df1050.groupby(['First Name'])[0].apply(lambda x: x[x.str.contains('PC Tower')].count())\n",
        "d5000 = d5000.to_frame()\n",
        "d5000.columns = ['PC Tower']\n",
        "d100 = d40.merge(d41, right_index=True, left_index=True)\n",
        "d101 = d100.merge(d42, right_index=True, left_index=True)\n",
        "d102 = d101.merge(d43, right_index=True, left_index=True)\n",
        "d103 = d102.merge(d44, right_index=True, left_index=True)\n",
        "d104 = d103.merge(d45, right_index=True, left_index=True)\n",
        "d105 = d104.merge(d46, right_index=True, left_index=True)\n",
        "d106 = d105.merge(d47, right_index=True, left_index=True)\n",
        "d107 = d106.merge(d48, right_index=True, left_index=True)\n",
        "d501 = d107.merge(d5000, right_index=True, left_index=True)\n",
        "d501"
      ],
      "execution_count": null,
      "outputs": [
        {
          "output_type": "execute_result",
          "data": {
            "text/html": [
              "<div>\n",
              "<style scoped>\n",
              "    .dataframe tbody tr th:only-of-type {\n",
              "        vertical-align: middle;\n",
              "    }\n",
              "\n",
              "    .dataframe tbody tr th {\n",
              "        vertical-align: top;\n",
              "    }\n",
              "\n",
              "    .dataframe thead th {\n",
              "        text-align: right;\n",
              "    }\n",
              "</style>\n",
              "<table border=\"1\" class=\"dataframe\">\n",
              "  <thead>\n",
              "    <tr style=\"text-align: right;\">\n",
              "      <th></th>\n",
              "      <th>Mac Workstation</th>\n",
              "      <th>PC Workstation</th>\n",
              "      <th>Keyboard</th>\n",
              "      <th>Mouse</th>\n",
              "      <th>Monitor</th>\n",
              "      <th>Camera</th>\n",
              "      <th>Projector</th>\n",
              "      <th>Brought my own workstation</th>\n",
              "      <th>Audio Box</th>\n",
              "      <th>PC Tower</th>\n",
              "    </tr>\n",
              "    <tr>\n",
              "      <th>First Name</th>\n",
              "      <th></th>\n",
              "      <th></th>\n",
              "      <th></th>\n",
              "      <th></th>\n",
              "      <th></th>\n",
              "      <th></th>\n",
              "      <th></th>\n",
              "      <th></th>\n",
              "      <th></th>\n",
              "      <th></th>\n",
              "    </tr>\n",
              "  </thead>\n",
              "  <tbody>\n",
              "    <tr>\n",
              "      <th>Alex</th>\n",
              "      <td>1</td>\n",
              "      <td>0</td>\n",
              "      <td>1</td>\n",
              "      <td>1</td>\n",
              "      <td>1</td>\n",
              "      <td>0</td>\n",
              "      <td>0</td>\n",
              "      <td>1</td>\n",
              "      <td>0</td>\n",
              "      <td>1</td>\n",
              "    </tr>\n",
              "    <tr>\n",
              "      <th>Bafana</th>\n",
              "      <td>0</td>\n",
              "      <td>0</td>\n",
              "      <td>3</td>\n",
              "      <td>3</td>\n",
              "      <td>3</td>\n",
              "      <td>0</td>\n",
              "      <td>0</td>\n",
              "      <td>0</td>\n",
              "      <td>0</td>\n",
              "      <td>3</td>\n",
              "    </tr>\n",
              "    <tr>\n",
              "      <th>Fanelesibonge</th>\n",
              "      <td>0</td>\n",
              "      <td>0</td>\n",
              "      <td>0</td>\n",
              "      <td>0</td>\n",
              "      <td>0</td>\n",
              "      <td>0</td>\n",
              "      <td>0</td>\n",
              "      <td>5</td>\n",
              "      <td>0</td>\n",
              "      <td>0</td>\n",
              "    </tr>\n",
              "    <tr>\n",
              "      <th>Gcinimiyalo</th>\n",
              "      <td>2</td>\n",
              "      <td>0</td>\n",
              "      <td>0</td>\n",
              "      <td>0</td>\n",
              "      <td>0</td>\n",
              "      <td>0</td>\n",
              "      <td>0</td>\n",
              "      <td>0</td>\n",
              "      <td>0</td>\n",
              "      <td>0</td>\n",
              "    </tr>\n",
              "    <tr>\n",
              "      <th>José</th>\n",
              "      <td>3</td>\n",
              "      <td>0</td>\n",
              "      <td>0</td>\n",
              "      <td>0</td>\n",
              "      <td>0</td>\n",
              "      <td>0</td>\n",
              "      <td>0</td>\n",
              "      <td>0</td>\n",
              "      <td>0</td>\n",
              "      <td>0</td>\n",
              "    </tr>\n",
              "    <tr>\n",
              "      <th>Lungelo</th>\n",
              "      <td>0</td>\n",
              "      <td>0</td>\n",
              "      <td>1</td>\n",
              "      <td>0</td>\n",
              "      <td>0</td>\n",
              "      <td>0</td>\n",
              "      <td>0</td>\n",
              "      <td>1</td>\n",
              "      <td>0</td>\n",
              "      <td>0</td>\n",
              "    </tr>\n",
              "    <tr>\n",
              "      <th>Muzi</th>\n",
              "      <td>0</td>\n",
              "      <td>0</td>\n",
              "      <td>0</td>\n",
              "      <td>0</td>\n",
              "      <td>0</td>\n",
              "      <td>0</td>\n",
              "      <td>0</td>\n",
              "      <td>1</td>\n",
              "      <td>1</td>\n",
              "      <td>0</td>\n",
              "    </tr>\n",
              "    <tr>\n",
              "      <th>Sibahle</th>\n",
              "      <td>3</td>\n",
              "      <td>0</td>\n",
              "      <td>0</td>\n",
              "      <td>0</td>\n",
              "      <td>0</td>\n",
              "      <td>0</td>\n",
              "      <td>0</td>\n",
              "      <td>0</td>\n",
              "      <td>0</td>\n",
              "      <td>0</td>\n",
              "    </tr>\n",
              "    <tr>\n",
              "      <th>Sikhulile</th>\n",
              "      <td>1</td>\n",
              "      <td>0</td>\n",
              "      <td>1</td>\n",
              "      <td>1</td>\n",
              "      <td>1</td>\n",
              "      <td>0</td>\n",
              "      <td>0</td>\n",
              "      <td>1</td>\n",
              "      <td>0</td>\n",
              "      <td>1</td>\n",
              "    </tr>\n",
              "    <tr>\n",
              "      <th>Simanga</th>\n",
              "      <td>2</td>\n",
              "      <td>0</td>\n",
              "      <td>0</td>\n",
              "      <td>0</td>\n",
              "      <td>0</td>\n",
              "      <td>0</td>\n",
              "      <td>0</td>\n",
              "      <td>0</td>\n",
              "      <td>0</td>\n",
              "      <td>0</td>\n",
              "    </tr>\n",
              "    <tr>\n",
              "      <th>Thelumusa</th>\n",
              "      <td>0</td>\n",
              "      <td>0</td>\n",
              "      <td>0</td>\n",
              "      <td>0</td>\n",
              "      <td>0</td>\n",
              "      <td>0</td>\n",
              "      <td>0</td>\n",
              "      <td>1</td>\n",
              "      <td>0</td>\n",
              "      <td>0</td>\n",
              "    </tr>\n",
              "    <tr>\n",
              "      <th>Thokozani</th>\n",
              "      <td>0</td>\n",
              "      <td>0</td>\n",
              "      <td>0</td>\n",
              "      <td>3</td>\n",
              "      <td>0</td>\n",
              "      <td>0</td>\n",
              "      <td>0</td>\n",
              "      <td>0</td>\n",
              "      <td>0</td>\n",
              "      <td>3</td>\n",
              "    </tr>\n",
              "    <tr>\n",
              "      <th>Tiyandza</th>\n",
              "      <td>0</td>\n",
              "      <td>0</td>\n",
              "      <td>2</td>\n",
              "      <td>2</td>\n",
              "      <td>2</td>\n",
              "      <td>0</td>\n",
              "      <td>0</td>\n",
              "      <td>0</td>\n",
              "      <td>0</td>\n",
              "      <td>2</td>\n",
              "    </tr>\n",
              "  </tbody>\n",
              "</table>\n",
              "</div>"
            ],
            "text/plain": [
              "               Mac Workstation  PC Workstation  ...  Audio Box  PC Tower\n",
              "First Name                                      ...                     \n",
              "Alex                         1               0  ...          0         1\n",
              "Bafana                       0               0  ...          0         3\n",
              "Fanelesibonge                0               0  ...          0         0\n",
              "Gcinimiyalo                  2               0  ...          0         0\n",
              "José                         3               0  ...          0         0\n",
              "Lungelo                      0               0  ...          0         0\n",
              "Muzi                         0               0  ...          1         0\n",
              "Sibahle                      3               0  ...          0         0\n",
              "Sikhulile                    1               0  ...          0         1\n",
              "Simanga                      2               0  ...          0         0\n",
              "Thelumusa                    0               0  ...          0         0\n",
              "Thokozani                    0               0  ...          0         3\n",
              "Tiyandza                     0               0  ...          0         2\n",
              "\n",
              "[13 rows x 10 columns]"
            ]
          },
          "metadata": {},
          "execution_count": 46
        }
      ]
    },
    {
      "cell_type": "markdown",
      "metadata": {
        "id": "tQUZSsxU9otM"
      },
      "source": [
        "# Historical Analysis"
      ]
    },
    {
      "cell_type": "code",
      "metadata": {
        "colab": {
          "base_uri": "https://localhost:8080/",
          "height": 471
        },
        "id": "IHZBhhbdB3jw",
        "outputId": "982f44a0-4454-4b1d-d3b0-fe5044f57495"
      },
      "source": [
        "e1 = df['What are you working on today?']\n",
        "splitting_columns = lambda x: pd.Series([i for i in reversed(x.split(','))])\n",
        "e1 = e1.apply(splitting_columns)\n",
        "e1[0] = e1[0].str.strip()\n",
        "e1[1] = e1[1].str.strip()\n",
        "e1[2] = e1[2].str.strip()\n",
        "e2 = e1[0].append(e1[1], ignore_index=True)\n",
        "e3 = e2.append(e1[2], ignore_index=True)\n",
        "hub_activity = e3.value_counts(dropna=True).to_frame()\n",
        "hub_activity.columns = ['Count']\n",
        "hub_activity = hub_activity.reset_index() \n",
        "hub_activity = hub_activity.rename(columns={'index':'Activity'})\n",
        "import matplotlib.pyplot as plt\n",
        "\n",
        "# Pie chart, where the slices will be ordered and plotted counter-clockwise:\n",
        "labels = hub_activity['Activity']\n",
        "sizes = hub_activity['Count']\n",
        "explode = (0, 0, 0, 0.1, 0, 0)  # only \"explode\" the 2nd slice (i.e. 'Hogs')\n",
        "\n",
        "fig1, ax1 = plt.subplots(figsize=(9, 8))\n",
        "ax1.pie(sizes, explode=explode, labels=labels, autopct='%1.1f%%',\n",
        "        shadow=True, startangle=90)\n",
        "ax1.axis('equal')  # Equal aspect ratio ensures that pie is drawn as a circle.\n",
        "\n",
        "plt.show()"
      ],
      "execution_count": null,
      "outputs": [
        {
          "output_type": "display_data",
          "data": {
            "image/png": "[encoded data removed]",
            "text/plain": [
              "<Figure size 648x576 with 1 Axes>"
            ]
          },
          "metadata": {}
        }
      ]
    },
    {
      "cell_type": "code",
      "metadata": {
        "colab": {
          "base_uri": "https://localhost:8080/",
          "height": 235
        },
        "id": "9WbRwElTEgaX",
        "outputId": "2eca9d14-d04a-41c8-8d74-76dd25e02673"
      },
      "source": [
        "hub_activity"
      ],
      "execution_count": null,
      "outputs": [
        {
          "output_type": "execute_result",
          "data": {
            "text/html": [
              "<div>\n",
              "<style scoped>\n",
              "    .dataframe tbody tr th:only-of-type {\n",
              "        vertical-align: middle;\n",
              "    }\n",
              "\n",
              "    .dataframe tbody tr th {\n",
              "        vertical-align: top;\n",
              "    }\n",
              "\n",
              "    .dataframe thead th {\n",
              "        text-align: right;\n",
              "    }\n",
              "</style>\n",
              "<table border=\"1\" class=\"dataframe\">\n",
              "  <thead>\n",
              "    <tr style=\"text-align: right;\">\n",
              "      <th></th>\n",
              "      <th>Activity</th>\n",
              "      <th>Count</th>\n",
              "    </tr>\n",
              "  </thead>\n",
              "  <tbody>\n",
              "    <tr>\n",
              "      <th>0</th>\n",
              "      <td>Company Work</td>\n",
              "      <td>409</td>\n",
              "    </tr>\n",
              "    <tr>\n",
              "      <th>1</th>\n",
              "      <td>Content &amp; Creativity</td>\n",
              "      <td>186</td>\n",
              "    </tr>\n",
              "    <tr>\n",
              "      <th>2</th>\n",
              "      <td>Research</td>\n",
              "      <td>186</td>\n",
              "    </tr>\n",
              "    <tr>\n",
              "      <th>3</th>\n",
              "      <td>Coding</td>\n",
              "      <td>103</td>\n",
              "    </tr>\n",
              "    <tr>\n",
              "      <th>4</th>\n",
              "      <td>Meeting</td>\n",
              "      <td>60</td>\n",
              "    </tr>\n",
              "    <tr>\n",
              "      <th>5</th>\n",
              "      <td>Academic Work</td>\n",
              "      <td>42</td>\n",
              "    </tr>\n",
              "  </tbody>\n",
              "</table>\n",
              "</div>"
            ],
            "text/plain": [
              "               Activity  Count\n",
              "0          Company Work    409\n",
              "1  Content & Creativity    186\n",
              "2              Research    186\n",
              "3                Coding    103\n",
              "4               Meeting     60\n",
              "5         Academic Work     42"
            ]
          },
          "metadata": {},
          "execution_count": 48
        }
      ]
    },
    {
      "cell_type": "code",
      "metadata": {
        "colab": {
          "base_uri": "https://localhost:8080/",
          "height": 69
        },
        "id": "ZAbcbNhuUdWX",
        "outputId": "f116a123-9ff9-4dcd-d8e5-84a95946756c"
      },
      "source": [
        "hub_activity.to_latex()"
      ],
      "execution_count": null,
      "outputs": [
        {
          "output_type": "execute_result",
          "data": {
            "application/vnd.google.colaboratory.intrinsic+json": {
              "type": "string"
            },
            "text/plain": [
              "'\\\\begin{tabular}{llr}\\n\\\\toprule\\n{} &              Activity &  Count \\\\\\\\\\n\\\\midrule\\n0 &          Company Work &    398 \\\\\\\\\\n1 &  Content \\\\& Creativity &    181 \\\\\\\\\\n2 &              Research &    179 \\\\\\\\\\n3 &                Coding &     91 \\\\\\\\\\n4 &               Meeting &     60 \\\\\\\\\\n5 &         Academic Work &     41 \\\\\\\\\\n\\\\bottomrule\\n\\\\end{tabular}\\n'"
            ]
          },
          "metadata": {},
          "execution_count": 39
        }
      ]
    },
    {
      "cell_type": "code",
      "metadata": {
        "colab": {
          "base_uri": "https://localhost:8080/"
        },
        "id": "NYzoL-z8R1c_",
        "outputId": "bc8ed777-3c6b-43af-90b5-a82aecc67f04"
      },
      "source": [
        "df['First Name'] = df['First Name'].str.strip()\n",
        "total_number_signees = (df['First Name'].unique()).size\n",
        "df['First Name'].unique()"
      ],
      "execution_count": null,
      "outputs": [
        {
          "output_type": "execute_result",
          "data": {
            "text/plain": [
              "array(['Kwanele', 'José', 'Simanga', 'Sikhulile', 'Mzwandile',\n",
              "       'Gcinimiyalo', 'Lungelo', 'Zack', 'Sabelo', 'Sibusiso', 'Mlungisi',\n",
              "       'Percy', 'Mano', 'Bagcinele', 'Thobeka', 'Fanelesibonge',\n",
              "       'Ncobile', 'Nosifiso', 'Lihle', 'Nomalungelo', 'Sebenzile',\n",
              "       'Nombuso', 'Lwazi', 'Sibahle', 'Ayanda', 'Siphumelele', 'Muzi',\n",
              "       'Alex', 'Thandwa', 'Bafana', 'Jonathan', 'Fezile', 'Tiyandza',\n",
              "       'Lindinkosi', 'Maphila', 'Mnqobi', 'Zolile', 'Mhlengi',\n",
              "       'Thelumusa', 'Sihle', 'Kangiso', 'Majaha', 'Gcina', 'Thokozani'],\n",
              "      dtype=object)"
            ]
          },
          "metadata": {},
          "execution_count": 49
        }
      ]
    },
    {
      "cell_type": "markdown",
      "metadata": {
        "id": "9SV9OnzPIpA6"
      },
      "source": [
        "Converting 'how many houre will you be putting in?' into float object"
      ]
    },
    {
      "cell_type": "code",
      "metadata": {
        "id": "CA8iEvAjI9Fp"
      },
      "source": [
        "df['How many hours will you be putting in?'] = pd.to_numeric(df['How many hours will you be putting in?'])"
      ],
      "execution_count": null,
      "outputs": []
    },
    {
      "cell_type": "code",
      "metadata": {
        "colab": {
          "base_uri": "https://localhost:8080/",
          "height": 1000
        },
        "id": "tpjGmD4fJ_qS",
        "outputId": "a74d58d6-0da5-44aa-f981-560431ab130d"
      },
      "source": [
        "#df['First Name'] = df['First Name'].replace('Sabelo S', 'Sabelo')\n",
        "#df['First Name'] = df['First Name'].replace('Siphumelele Poestess', 'Siphumelele')\n",
        "#df['First Name'] = df['First Name'].replace('Muzi Chaboy', 'Muzi')\n",
        "#df['First Name'] = df['First Name'].replace('Snowsen Innovations', 'Bafana')\n",
        "#df['First Name'] = df['First Name'].replace('Kwanele Prince', 'Kwanele')\n",
        "#df['First Name'] = df['First Name'].replace('Tsabedze', 'Kwanele') \n",
        "e5 = df[['First Name', 'How many hours will you be putting in?']]\n",
        "e5 = e5.groupby(['First Name'], as_index=False).sum()\n",
        "e5 = e5.set_index(['First Name']).sort_values(['How many hours will you be putting in?'], ascending=False)\n",
        "e5"
      ],
      "execution_count": null,
      "outputs": [
        {
          "output_type": "execute_result",
          "data": {
            "text/html": [
              "<div>\n",
              "<style scoped>\n",
              "    .dataframe tbody tr th:only-of-type {\n",
              "        vertical-align: middle;\n",
              "    }\n",
              "\n",
              "    .dataframe tbody tr th {\n",
              "        vertical-align: top;\n",
              "    }\n",
              "\n",
              "    .dataframe thead th {\n",
              "        text-align: right;\n",
              "    }\n",
              "</style>\n",
              "<table border=\"1\" class=\"dataframe\">\n",
              "  <thead>\n",
              "    <tr style=\"text-align: right;\">\n",
              "      <th></th>\n",
              "      <th>How many hours will you be putting in?</th>\n",
              "    </tr>\n",
              "    <tr>\n",
              "      <th>First Name</th>\n",
              "      <th></th>\n",
              "    </tr>\n",
              "  </thead>\n",
              "  <tbody>\n",
              "    <tr>\n",
              "      <th>José</th>\n",
              "      <td>1855.000000</td>\n",
              "    </tr>\n",
              "    <tr>\n",
              "      <th>Fanelesibonge</th>\n",
              "      <td>796.650000</td>\n",
              "    </tr>\n",
              "    <tr>\n",
              "      <th>Gcinimiyalo</th>\n",
              "      <td>484.433333</td>\n",
              "    </tr>\n",
              "    <tr>\n",
              "      <th>Lungelo</th>\n",
              "      <td>481.000000</td>\n",
              "    </tr>\n",
              "    <tr>\n",
              "      <th>Kwanele</th>\n",
              "      <td>347.300000</td>\n",
              "    </tr>\n",
              "    <tr>\n",
              "      <th>Simanga</th>\n",
              "      <td>245.766667</td>\n",
              "    </tr>\n",
              "    <tr>\n",
              "      <th>Thobeka</th>\n",
              "      <td>234.200000</td>\n",
              "    </tr>\n",
              "    <tr>\n",
              "      <th>Mlungisi</th>\n",
              "      <td>233.716667</td>\n",
              "    </tr>\n",
              "    <tr>\n",
              "      <th>Mzwandile</th>\n",
              "      <td>229.550000</td>\n",
              "    </tr>\n",
              "    <tr>\n",
              "      <th>Sibahle</th>\n",
              "      <td>208.316667</td>\n",
              "    </tr>\n",
              "    <tr>\n",
              "      <th>Sikhulile</th>\n",
              "      <td>203.750000</td>\n",
              "    </tr>\n",
              "    <tr>\n",
              "      <th>Zack</th>\n",
              "      <td>198.566667</td>\n",
              "    </tr>\n",
              "    <tr>\n",
              "      <th>Bafana</th>\n",
              "      <td>185.116667</td>\n",
              "    </tr>\n",
              "    <tr>\n",
              "      <th>Nombuso</th>\n",
              "      <td>163.083333</td>\n",
              "    </tr>\n",
              "    <tr>\n",
              "      <th>Sabelo</th>\n",
              "      <td>147.833333</td>\n",
              "    </tr>\n",
              "    <tr>\n",
              "      <th>Bagcinele</th>\n",
              "      <td>122.000000</td>\n",
              "    </tr>\n",
              "    <tr>\n",
              "      <th>Tiyandza</th>\n",
              "      <td>89.883333</td>\n",
              "    </tr>\n",
              "    <tr>\n",
              "      <th>Muzi</th>\n",
              "      <td>57.300000</td>\n",
              "    </tr>\n",
              "    <tr>\n",
              "      <th>Lwazi</th>\n",
              "      <td>47.516667</td>\n",
              "    </tr>\n",
              "    <tr>\n",
              "      <th>Sibusiso</th>\n",
              "      <td>36.500000</td>\n",
              "    </tr>\n",
              "    <tr>\n",
              "      <th>Nomalungelo</th>\n",
              "      <td>34.666667</td>\n",
              "    </tr>\n",
              "    <tr>\n",
              "      <th>Thokozani</th>\n",
              "      <td>23.000000</td>\n",
              "    </tr>\n",
              "    <tr>\n",
              "      <th>Mnqobi</th>\n",
              "      <td>21.500000</td>\n",
              "    </tr>\n",
              "    <tr>\n",
              "      <th>Mhlengi</th>\n",
              "      <td>20.000000</td>\n",
              "    </tr>\n",
              "    <tr>\n",
              "      <th>Jonathan</th>\n",
              "      <td>19.916667</td>\n",
              "    </tr>\n",
              "    <tr>\n",
              "      <th>Zolile</th>\n",
              "      <td>15.000000</td>\n",
              "    </tr>\n",
              "    <tr>\n",
              "      <th>Alex</th>\n",
              "      <td>11.000000</td>\n",
              "    </tr>\n",
              "    <tr>\n",
              "      <th>Thandwa</th>\n",
              "      <td>5.716667</td>\n",
              "    </tr>\n",
              "    <tr>\n",
              "      <th>Percy</th>\n",
              "      <td>5.000000</td>\n",
              "    </tr>\n",
              "    <tr>\n",
              "      <th>Thelumusa</th>\n",
              "      <td>5.000000</td>\n",
              "    </tr>\n",
              "    <tr>\n",
              "      <th>Sihle</th>\n",
              "      <td>4.000000</td>\n",
              "    </tr>\n",
              "    <tr>\n",
              "      <th>Siphumelele</th>\n",
              "      <td>3.333333</td>\n",
              "    </tr>\n",
              "    <tr>\n",
              "      <th>Kangiso</th>\n",
              "      <td>3.000000</td>\n",
              "    </tr>\n",
              "    <tr>\n",
              "      <th>Fezile</th>\n",
              "      <td>2.966667</td>\n",
              "    </tr>\n",
              "    <tr>\n",
              "      <th>Maphila</th>\n",
              "      <td>2.416667</td>\n",
              "    </tr>\n",
              "    <tr>\n",
              "      <th>Sebenzile</th>\n",
              "      <td>2.000000</td>\n",
              "    </tr>\n",
              "    <tr>\n",
              "      <th>Gcina</th>\n",
              "      <td>2.000000</td>\n",
              "    </tr>\n",
              "    <tr>\n",
              "      <th>Majaha</th>\n",
              "      <td>2.000000</td>\n",
              "    </tr>\n",
              "    <tr>\n",
              "      <th>Lihle</th>\n",
              "      <td>1.750000</td>\n",
              "    </tr>\n",
              "    <tr>\n",
              "      <th>Ncobile</th>\n",
              "      <td>1.416667</td>\n",
              "    </tr>\n",
              "    <tr>\n",
              "      <th>Lindinkosi</th>\n",
              "      <td>1.333333</td>\n",
              "    </tr>\n",
              "    <tr>\n",
              "      <th>Nosifiso</th>\n",
              "      <td>1.250000</td>\n",
              "    </tr>\n",
              "    <tr>\n",
              "      <th>Mano</th>\n",
              "      <td>1.166667</td>\n",
              "    </tr>\n",
              "    <tr>\n",
              "      <th>Ayanda</th>\n",
              "      <td>0.500000</td>\n",
              "    </tr>\n",
              "  </tbody>\n",
              "</table>\n",
              "</div>"
            ],
            "text/plain": [
              "               How many hours will you be putting in?\n",
              "First Name                                           \n",
              "José                                      1855.000000\n",
              "Fanelesibonge                              796.650000\n",
              "Gcinimiyalo                                484.433333\n",
              "Lungelo                                    481.000000\n",
              "Kwanele                                    347.300000\n",
              "Simanga                                    245.766667\n",
              "Thobeka                                    234.200000\n",
              "Mlungisi                                   233.716667\n",
              "Mzwandile                                  229.550000\n",
              "Sibahle                                    208.316667\n",
              "Sikhulile                                  203.750000\n",
              "Zack                                       198.566667\n",
              "Bafana                                     185.116667\n",
              "Nombuso                                    163.083333\n",
              "Sabelo                                     147.833333\n",
              "Bagcinele                                  122.000000\n",
              "Tiyandza                                    89.883333\n",
              "Muzi                                        57.300000\n",
              "Lwazi                                       47.516667\n",
              "Sibusiso                                    36.500000\n",
              "Nomalungelo                                 34.666667\n",
              "Thokozani                                   23.000000\n",
              "Mnqobi                                      21.500000\n",
              "Mhlengi                                     20.000000\n",
              "Jonathan                                    19.916667\n",
              "Zolile                                      15.000000\n",
              "Alex                                        11.000000\n",
              "Thandwa                                      5.716667\n",
              "Percy                                        5.000000\n",
              "Thelumusa                                    5.000000\n",
              "Sihle                                        4.000000\n",
              "Siphumelele                                  3.333333\n",
              "Kangiso                                      3.000000\n",
              "Fezile                                       2.966667\n",
              "Maphila                                      2.416667\n",
              "Sebenzile                                    2.000000\n",
              "Gcina                                        2.000000\n",
              "Majaha                                       2.000000\n",
              "Lihle                                        1.750000\n",
              "Ncobile                                      1.416667\n",
              "Lindinkosi                                   1.333333\n",
              "Nosifiso                                     1.250000\n",
              "Mano                                         1.166667\n",
              "Ayanda                                       0.500000"
            ]
          },
          "metadata": {},
          "execution_count": 51
        }
      ]
    },
    {
      "cell_type": "code",
      "metadata": {
        "colab": {
          "base_uri": "https://localhost:8080/",
          "height": 120
        },
        "id": "ocIZ2pFaKxWd",
        "outputId": "4e716c93-59e5-4637-98ed-f7248594afd5"
      },
      "source": [
        "e5.to_latex()"
      ],
      "execution_count": null,
      "outputs": [
        {
          "output_type": "execute_result",
          "data": {
            "application/vnd.google.colaboratory.intrinsic+json": {
              "type": "string"
            },
            "text/plain": [
              "'\\\\begin{tabular}{lr}\\n\\\\toprule\\n{} &  How many hours will you be putting in? \\\\\\\\\\nFirst Name    &                                         \\\\\\\\\\n\\\\midrule\\nJosé          &                             1843.000000 \\\\\\\\\\nFanelesibonge &                              743.650000 \\\\\\\\\\nGcinimiyalo   &                              481.433333 \\\\\\\\\\nLungelo       &                              478.000000 \\\\\\\\\\nKwanele       &                              347.300000 \\\\\\\\\\nSimanga       &                              240.766667 \\\\\\\\\\nThobeka       &                              234.200000 \\\\\\\\\\nMlungisi      &                              233.716667 \\\\\\\\\\nMzwandile     &                              229.550000 \\\\\\\\\\nSikhulile     &                              203.750000 \\\\\\\\\\nZack          &                              198.566667 \\\\\\\\\\nSibahle       &                              186.316667 \\\\\\\\\\nBafana        &                              169.616667 \\\\\\\\\\nNombuso       &                              163.083333 \\\\\\\\\\nSabelo        &                              147.833333 \\\\\\\\\\nBagcinele     &                              122.000000 \\\\\\\\\\nTiyandza      &                               84.883333 \\\\\\\\\\nMuzi          &                               54.300000 \\\\\\\\\\nLwazi         &                               47.516667 \\\\\\\\\\nSibusiso      &                               36.500000 \\\\\\\\\\nNomalungelo   &                               34.666667 \\\\\\\\\\nMnqobi        &                               21.500000 \\\\\\\\\\nMhlengi       &                               20.000000 \\\\\\\\\\nJonathan      &                               19.916667 \\\\\\\\\\nZolile        &                               15.000000 \\\\\\\\\\nAlex          &                               11.000000 \\\\\\\\\\nThandwa       &                                5.716667 \\\\\\\\\\nPercy         &                                5.000000 \\\\\\\\\\nSihle         &                                4.000000 \\\\\\\\\\nSiphumelele   &                                3.333333 \\\\\\\\\\nThelumusa     &                                3.000000 \\\\\\\\\\nKangiso       &                                3.000000 \\\\\\\\\\nFezile        &                                2.966667 \\\\\\\\\\nMaphila       &                                2.416667 \\\\\\\\\\nSebenzile     &                                2.000000 \\\\\\\\\\nGcina         &                                2.000000 \\\\\\\\\\nMajaha        &                                2.000000 \\\\\\\\\\nLihle         &                                1.750000 \\\\\\\\\\nNcobile       &                                1.416667 \\\\\\\\\\nLindinkosi    &                                1.333333 \\\\\\\\\\nNosifiso      &                                1.250000 \\\\\\\\\\nMano          &                                1.166667 \\\\\\\\\\nAyanda        &                                0.500000 \\\\\\\\\\n\\\\bottomrule\\n\\\\end{tabular}\\n'"
            ]
          },
          "metadata": {},
          "execution_count": 37
        }
      ]
    },
    {
      "cell_type": "code",
      "metadata": {
        "colab": {
          "base_uri": "https://localhost:8080/",
          "height": 1000
        },
        "id": "qHL1e7oMitk2",
        "outputId": "9e70e266-84b2-4dab-e2be-acd6861dd0fc"
      },
      "source": [
        "d12000 = df['First Name']\n",
        "#d12 = d12.replace('Kwanele Prince', 'Kwanele')\n",
        "#d12 = d12.replace('Tsabedze', 'Kwanele')\n",
        "d13000 = d12000.value_counts().to_frame()\n",
        "d13000.columns = ['Number of hub visits']\n",
        "hubbers_historically = d13000\n",
        "hubbers_historically"
      ],
      "execution_count": null,
      "outputs": [
        {
          "output_type": "execute_result",
          "data": {
            "text/html": [
              "<div>\n",
              "<style scoped>\n",
              "    .dataframe tbody tr th:only-of-type {\n",
              "        vertical-align: middle;\n",
              "    }\n",
              "\n",
              "    .dataframe tbody tr th {\n",
              "        vertical-align: top;\n",
              "    }\n",
              "\n",
              "    .dataframe thead th {\n",
              "        text-align: right;\n",
              "    }\n",
              "</style>\n",
              "<table border=\"1\" class=\"dataframe\">\n",
              "  <thead>\n",
              "    <tr style=\"text-align: right;\">\n",
              "      <th></th>\n",
              "      <th>Number of hub visits</th>\n",
              "    </tr>\n",
              "  </thead>\n",
              "  <tbody>\n",
              "    <tr>\n",
              "      <th>José</th>\n",
              "      <td>154</td>\n",
              "    </tr>\n",
              "    <tr>\n",
              "      <th>Gcinimiyalo</th>\n",
              "      <td>79</td>\n",
              "    </tr>\n",
              "    <tr>\n",
              "      <th>Fanelesibonge</th>\n",
              "      <td>68</td>\n",
              "    </tr>\n",
              "    <tr>\n",
              "      <th>Lungelo</th>\n",
              "      <td>58</td>\n",
              "    </tr>\n",
              "    <tr>\n",
              "      <th>Kwanele</th>\n",
              "      <td>58</td>\n",
              "    </tr>\n",
              "    <tr>\n",
              "      <th>Mlungisi</th>\n",
              "      <td>56</td>\n",
              "    </tr>\n",
              "    <tr>\n",
              "      <th>Mzwandile</th>\n",
              "      <td>44</td>\n",
              "    </tr>\n",
              "    <tr>\n",
              "      <th>Sibahle</th>\n",
              "      <td>35</td>\n",
              "    </tr>\n",
              "    <tr>\n",
              "      <th>Bafana</th>\n",
              "      <td>30</td>\n",
              "    </tr>\n",
              "    <tr>\n",
              "      <th>Zack</th>\n",
              "      <td>28</td>\n",
              "    </tr>\n",
              "    <tr>\n",
              "      <th>Simanga</th>\n",
              "      <td>27</td>\n",
              "    </tr>\n",
              "    <tr>\n",
              "      <th>Nombuso</th>\n",
              "      <td>23</td>\n",
              "    </tr>\n",
              "    <tr>\n",
              "      <th>Thobeka</th>\n",
              "      <td>22</td>\n",
              "    </tr>\n",
              "    <tr>\n",
              "      <th>Sabelo</th>\n",
              "      <td>21</td>\n",
              "    </tr>\n",
              "    <tr>\n",
              "      <th>Muzi</th>\n",
              "      <td>21</td>\n",
              "    </tr>\n",
              "    <tr>\n",
              "      <th>Tiyandza</th>\n",
              "      <td>18</td>\n",
              "    </tr>\n",
              "    <tr>\n",
              "      <th>Bagcinele</th>\n",
              "      <td>16</td>\n",
              "    </tr>\n",
              "    <tr>\n",
              "      <th>Sikhulile</th>\n",
              "      <td>12</td>\n",
              "    </tr>\n",
              "    <tr>\n",
              "      <th>Nomalungelo</th>\n",
              "      <td>8</td>\n",
              "    </tr>\n",
              "    <tr>\n",
              "      <th>Sibusiso</th>\n",
              "      <td>8</td>\n",
              "    </tr>\n",
              "    <tr>\n",
              "      <th>Lwazi</th>\n",
              "      <td>8</td>\n",
              "    </tr>\n",
              "    <tr>\n",
              "      <th>Thokozani</th>\n",
              "      <td>3</td>\n",
              "    </tr>\n",
              "    <tr>\n",
              "      <th>Percy</th>\n",
              "      <td>3</td>\n",
              "    </tr>\n",
              "    <tr>\n",
              "      <th>Zolile</th>\n",
              "      <td>2</td>\n",
              "    </tr>\n",
              "    <tr>\n",
              "      <th>Thelumusa</th>\n",
              "      <td>2</td>\n",
              "    </tr>\n",
              "    <tr>\n",
              "      <th>Alex</th>\n",
              "      <td>2</td>\n",
              "    </tr>\n",
              "    <tr>\n",
              "      <th>Siphumelele</th>\n",
              "      <td>2</td>\n",
              "    </tr>\n",
              "    <tr>\n",
              "      <th>Jonathan</th>\n",
              "      <td>2</td>\n",
              "    </tr>\n",
              "    <tr>\n",
              "      <th>Mnqobi</th>\n",
              "      <td>2</td>\n",
              "    </tr>\n",
              "    <tr>\n",
              "      <th>Mano</th>\n",
              "      <td>1</td>\n",
              "    </tr>\n",
              "    <tr>\n",
              "      <th>Lihle</th>\n",
              "      <td>1</td>\n",
              "    </tr>\n",
              "    <tr>\n",
              "      <th>Kangiso</th>\n",
              "      <td>1</td>\n",
              "    </tr>\n",
              "    <tr>\n",
              "      <th>Fezile</th>\n",
              "      <td>1</td>\n",
              "    </tr>\n",
              "    <tr>\n",
              "      <th>Sihle</th>\n",
              "      <td>1</td>\n",
              "    </tr>\n",
              "    <tr>\n",
              "      <th>Thandwa</th>\n",
              "      <td>1</td>\n",
              "    </tr>\n",
              "    <tr>\n",
              "      <th>Ncobile</th>\n",
              "      <td>1</td>\n",
              "    </tr>\n",
              "    <tr>\n",
              "      <th>Gcina</th>\n",
              "      <td>1</td>\n",
              "    </tr>\n",
              "    <tr>\n",
              "      <th>Sebenzile</th>\n",
              "      <td>1</td>\n",
              "    </tr>\n",
              "    <tr>\n",
              "      <th>Nosifiso</th>\n",
              "      <td>1</td>\n",
              "    </tr>\n",
              "    <tr>\n",
              "      <th>Mhlengi</th>\n",
              "      <td>1</td>\n",
              "    </tr>\n",
              "    <tr>\n",
              "      <th>Ayanda</th>\n",
              "      <td>1</td>\n",
              "    </tr>\n",
              "    <tr>\n",
              "      <th>Maphila</th>\n",
              "      <td>1</td>\n",
              "    </tr>\n",
              "    <tr>\n",
              "      <th>Majaha</th>\n",
              "      <td>1</td>\n",
              "    </tr>\n",
              "    <tr>\n",
              "      <th>Lindinkosi</th>\n",
              "      <td>1</td>\n",
              "    </tr>\n",
              "  </tbody>\n",
              "</table>\n",
              "</div>"
            ],
            "text/plain": [
              "               Number of hub visits\n",
              "José                            154\n",
              "Gcinimiyalo                      79\n",
              "Fanelesibonge                    68\n",
              "Lungelo                          58\n",
              "Kwanele                          58\n",
              "Mlungisi                         56\n",
              "Mzwandile                        44\n",
              "Sibahle                          35\n",
              "Bafana                           30\n",
              "Zack                             28\n",
              "Simanga                          27\n",
              "Nombuso                          23\n",
              "Thobeka                          22\n",
              "Sabelo                           21\n",
              "Muzi                             21\n",
              "Tiyandza                         18\n",
              "Bagcinele                        16\n",
              "Sikhulile                        12\n",
              "Nomalungelo                       8\n",
              "Sibusiso                          8\n",
              "Lwazi                             8\n",
              "Thokozani                         3\n",
              "Percy                             3\n",
              "Zolile                            2\n",
              "Thelumusa                         2\n",
              "Alex                              2\n",
              "Siphumelele                       2\n",
              "Jonathan                          2\n",
              "Mnqobi                            2\n",
              "Mano                              1\n",
              "Lihle                             1\n",
              "Kangiso                           1\n",
              "Fezile                            1\n",
              "Sihle                             1\n",
              "Thandwa                           1\n",
              "Ncobile                           1\n",
              "Gcina                             1\n",
              "Sebenzile                         1\n",
              "Nosifiso                          1\n",
              "Mhlengi                           1\n",
              "Ayanda                            1\n",
              "Maphila                           1\n",
              "Majaha                            1\n",
              "Lindinkosi                        1"
            ]
          },
          "metadata": {},
          "execution_count": 52
        }
      ]
    },
    {
      "cell_type": "code",
      "metadata": {
        "colab": {
          "base_uri": "https://localhost:8080/",
          "height": 1000
        },
        "id": "0K1bRJk9jWX5",
        "outputId": "9e11aafc-ca24-4e15-e61d-dac09dc32407"
      },
      "source": [
        "ultimate_historically = hubbers_historically.merge(e5, right_index=True, left_index=True)\n",
        "ultimate_historically"
      ],
      "execution_count": null,
      "outputs": [
        {
          "output_type": "execute_result",
          "data": {
            "text/html": [
              "<div>\n",
              "<style scoped>\n",
              "    .dataframe tbody tr th:only-of-type {\n",
              "        vertical-align: middle;\n",
              "    }\n",
              "\n",
              "    .dataframe tbody tr th {\n",
              "        vertical-align: top;\n",
              "    }\n",
              "\n",
              "    .dataframe thead th {\n",
              "        text-align: right;\n",
              "    }\n",
              "</style>\n",
              "<table border=\"1\" class=\"dataframe\">\n",
              "  <thead>\n",
              "    <tr style=\"text-align: right;\">\n",
              "      <th></th>\n",
              "      <th>Number of hub visits</th>\n",
              "      <th>How many hours will you be putting in?</th>\n",
              "    </tr>\n",
              "  </thead>\n",
              "  <tbody>\n",
              "    <tr>\n",
              "      <th>José</th>\n",
              "      <td>154</td>\n",
              "      <td>1855.000000</td>\n",
              "    </tr>\n",
              "    <tr>\n",
              "      <th>Gcinimiyalo</th>\n",
              "      <td>79</td>\n",
              "      <td>484.433333</td>\n",
              "    </tr>\n",
              "    <tr>\n",
              "      <th>Fanelesibonge</th>\n",
              "      <td>68</td>\n",
              "      <td>796.650000</td>\n",
              "    </tr>\n",
              "    <tr>\n",
              "      <th>Lungelo</th>\n",
              "      <td>58</td>\n",
              "      <td>481.000000</td>\n",
              "    </tr>\n",
              "    <tr>\n",
              "      <th>Kwanele</th>\n",
              "      <td>58</td>\n",
              "      <td>347.300000</td>\n",
              "    </tr>\n",
              "    <tr>\n",
              "      <th>Mlungisi</th>\n",
              "      <td>56</td>\n",
              "      <td>233.716667</td>\n",
              "    </tr>\n",
              "    <tr>\n",
              "      <th>Mzwandile</th>\n",
              "      <td>44</td>\n",
              "      <td>229.550000</td>\n",
              "    </tr>\n",
              "    <tr>\n",
              "      <th>Sibahle</th>\n",
              "      <td>35</td>\n",
              "      <td>208.316667</td>\n",
              "    </tr>\n",
              "    <tr>\n",
              "      <th>Bafana</th>\n",
              "      <td>30</td>\n",
              "      <td>185.116667</td>\n",
              "    </tr>\n",
              "    <tr>\n",
              "      <th>Zack</th>\n",
              "      <td>28</td>\n",
              "      <td>198.566667</td>\n",
              "    </tr>\n",
              "    <tr>\n",
              "      <th>Simanga</th>\n",
              "      <td>27</td>\n",
              "      <td>245.766667</td>\n",
              "    </tr>\n",
              "    <tr>\n",
              "      <th>Nombuso</th>\n",
              "      <td>23</td>\n",
              "      <td>163.083333</td>\n",
              "    </tr>\n",
              "    <tr>\n",
              "      <th>Thobeka</th>\n",
              "      <td>22</td>\n",
              "      <td>234.200000</td>\n",
              "    </tr>\n",
              "    <tr>\n",
              "      <th>Sabelo</th>\n",
              "      <td>21</td>\n",
              "      <td>147.833333</td>\n",
              "    </tr>\n",
              "    <tr>\n",
              "      <th>Muzi</th>\n",
              "      <td>21</td>\n",
              "      <td>57.300000</td>\n",
              "    </tr>\n",
              "    <tr>\n",
              "      <th>Tiyandza</th>\n",
              "      <td>18</td>\n",
              "      <td>89.883333</td>\n",
              "    </tr>\n",
              "    <tr>\n",
              "      <th>Bagcinele</th>\n",
              "      <td>16</td>\n",
              "      <td>122.000000</td>\n",
              "    </tr>\n",
              "    <tr>\n",
              "      <th>Sikhulile</th>\n",
              "      <td>12</td>\n",
              "      <td>203.750000</td>\n",
              "    </tr>\n",
              "    <tr>\n",
              "      <th>Nomalungelo</th>\n",
              "      <td>8</td>\n",
              "      <td>34.666667</td>\n",
              "    </tr>\n",
              "    <tr>\n",
              "      <th>Sibusiso</th>\n",
              "      <td>8</td>\n",
              "      <td>36.500000</td>\n",
              "    </tr>\n",
              "    <tr>\n",
              "      <th>Lwazi</th>\n",
              "      <td>8</td>\n",
              "      <td>47.516667</td>\n",
              "    </tr>\n",
              "    <tr>\n",
              "      <th>Thokozani</th>\n",
              "      <td>3</td>\n",
              "      <td>23.000000</td>\n",
              "    </tr>\n",
              "    <tr>\n",
              "      <th>Percy</th>\n",
              "      <td>3</td>\n",
              "      <td>5.000000</td>\n",
              "    </tr>\n",
              "    <tr>\n",
              "      <th>Zolile</th>\n",
              "      <td>2</td>\n",
              "      <td>15.000000</td>\n",
              "    </tr>\n",
              "    <tr>\n",
              "      <th>Thelumusa</th>\n",
              "      <td>2</td>\n",
              "      <td>5.000000</td>\n",
              "    </tr>\n",
              "    <tr>\n",
              "      <th>Alex</th>\n",
              "      <td>2</td>\n",
              "      <td>11.000000</td>\n",
              "    </tr>\n",
              "    <tr>\n",
              "      <th>Siphumelele</th>\n",
              "      <td>2</td>\n",
              "      <td>3.333333</td>\n",
              "    </tr>\n",
              "    <tr>\n",
              "      <th>Jonathan</th>\n",
              "      <td>2</td>\n",
              "      <td>19.916667</td>\n",
              "    </tr>\n",
              "    <tr>\n",
              "      <th>Mnqobi</th>\n",
              "      <td>2</td>\n",
              "      <td>21.500000</td>\n",
              "    </tr>\n",
              "    <tr>\n",
              "      <th>Mano</th>\n",
              "      <td>1</td>\n",
              "      <td>1.166667</td>\n",
              "    </tr>\n",
              "    <tr>\n",
              "      <th>Lihle</th>\n",
              "      <td>1</td>\n",
              "      <td>1.750000</td>\n",
              "    </tr>\n",
              "    <tr>\n",
              "      <th>Kangiso</th>\n",
              "      <td>1</td>\n",
              "      <td>3.000000</td>\n",
              "    </tr>\n",
              "    <tr>\n",
              "      <th>Fezile</th>\n",
              "      <td>1</td>\n",
              "      <td>2.966667</td>\n",
              "    </tr>\n",
              "    <tr>\n",
              "      <th>Sihle</th>\n",
              "      <td>1</td>\n",
              "      <td>4.000000</td>\n",
              "    </tr>\n",
              "    <tr>\n",
              "      <th>Thandwa</th>\n",
              "      <td>1</td>\n",
              "      <td>5.716667</td>\n",
              "    </tr>\n",
              "    <tr>\n",
              "      <th>Ncobile</th>\n",
              "      <td>1</td>\n",
              "      <td>1.416667</td>\n",
              "    </tr>\n",
              "    <tr>\n",
              "      <th>Gcina</th>\n",
              "      <td>1</td>\n",
              "      <td>2.000000</td>\n",
              "    </tr>\n",
              "    <tr>\n",
              "      <th>Sebenzile</th>\n",
              "      <td>1</td>\n",
              "      <td>2.000000</td>\n",
              "    </tr>\n",
              "    <tr>\n",
              "      <th>Nosifiso</th>\n",
              "      <td>1</td>\n",
              "      <td>1.250000</td>\n",
              "    </tr>\n",
              "    <tr>\n",
              "      <th>Mhlengi</th>\n",
              "      <td>1</td>\n",
              "      <td>20.000000</td>\n",
              "    </tr>\n",
              "    <tr>\n",
              "      <th>Ayanda</th>\n",
              "      <td>1</td>\n",
              "      <td>0.500000</td>\n",
              "    </tr>\n",
              "    <tr>\n",
              "      <th>Maphila</th>\n",
              "      <td>1</td>\n",
              "      <td>2.416667</td>\n",
              "    </tr>\n",
              "    <tr>\n",
              "      <th>Majaha</th>\n",
              "      <td>1</td>\n",
              "      <td>2.000000</td>\n",
              "    </tr>\n",
              "    <tr>\n",
              "      <th>Lindinkosi</th>\n",
              "      <td>1</td>\n",
              "      <td>1.333333</td>\n",
              "    </tr>\n",
              "  </tbody>\n",
              "</table>\n",
              "</div>"
            ],
            "text/plain": [
              "               Number of hub visits  How many hours will you be putting in?\n",
              "José                            154                             1855.000000\n",
              "Gcinimiyalo                      79                              484.433333\n",
              "Fanelesibonge                    68                              796.650000\n",
              "Lungelo                          58                              481.000000\n",
              "Kwanele                          58                              347.300000\n",
              "Mlungisi                         56                              233.716667\n",
              "Mzwandile                        44                              229.550000\n",
              "Sibahle                          35                              208.316667\n",
              "Bafana                           30                              185.116667\n",
              "Zack                             28                              198.566667\n",
              "Simanga                          27                              245.766667\n",
              "Nombuso                          23                              163.083333\n",
              "Thobeka                          22                              234.200000\n",
              "Sabelo                           21                              147.833333\n",
              "Muzi                             21                               57.300000\n",
              "Tiyandza                         18                               89.883333\n",
              "Bagcinele                        16                              122.000000\n",
              "Sikhulile                        12                              203.750000\n",
              "Nomalungelo                       8                               34.666667\n",
              "Sibusiso                          8                               36.500000\n",
              "Lwazi                             8                               47.516667\n",
              "Thokozani                         3                               23.000000\n",
              "Percy                             3                                5.000000\n",
              "Zolile                            2                               15.000000\n",
              "Thelumusa                         2                                5.000000\n",
              "Alex                              2                               11.000000\n",
              "Siphumelele                       2                                3.333333\n",
              "Jonathan                          2                               19.916667\n",
              "Mnqobi                            2                               21.500000\n",
              "Mano                              1                                1.166667\n",
              "Lihle                             1                                1.750000\n",
              "Kangiso                           1                                3.000000\n",
              "Fezile                            1                                2.966667\n",
              "Sihle                             1                                4.000000\n",
              "Thandwa                           1                                5.716667\n",
              "Ncobile                           1                                1.416667\n",
              "Gcina                             1                                2.000000\n",
              "Sebenzile                         1                                2.000000\n",
              "Nosifiso                          1                                1.250000\n",
              "Mhlengi                           1                               20.000000\n",
              "Ayanda                            1                                0.500000\n",
              "Maphila                           1                                2.416667\n",
              "Majaha                            1                                2.000000\n",
              "Lindinkosi                        1                                1.333333"
            ]
          },
          "metadata": {},
          "execution_count": 53
        }
      ]
    },
    {
      "cell_type": "code",
      "metadata": {
        "colab": {
          "base_uri": "https://localhost:8080/",
          "height": 86
        },
        "id": "KPFji99QlLlR",
        "outputId": "613b1aab-a105-4a80-acfa-9f1816b015f8"
      },
      "source": [
        "ultimate_historically.to_latex()"
      ],
      "execution_count": null,
      "outputs": [
        {
          "output_type": "execute_result",
          "data": {
            "application/vnd.google.colaboratory.intrinsic+json": {
              "type": "string"
            },
            "text/plain": [
              "'\\\\begin{tabular}{lrr}\\n\\\\toprule\\n{} &  Number of hub visits &  How many hours will you be putting in? \\\\\\\\\\n\\\\midrule\\nJosé          &                   154 &                             1855.000000 \\\\\\\\\\nGcinimiyalo   &                    79 &                              484.433333 \\\\\\\\\\nFanelesibonge &                    68 &                              796.650000 \\\\\\\\\\nLungelo       &                    58 &                              481.000000 \\\\\\\\\\nKwanele       &                    58 &                              347.300000 \\\\\\\\\\nMlungisi      &                    56 &                              233.716667 \\\\\\\\\\nMzwandile     &                    44 &                              229.550000 \\\\\\\\\\nSibahle       &                    35 &                              208.316667 \\\\\\\\\\nBafana        &                    30 &                              185.116667 \\\\\\\\\\nZack          &                    28 &                              198.566667 \\\\\\\\\\nSimanga       &                    27 &                              245.766667 \\\\\\\\\\nNombuso       &                    23 &                              163.083333 \\\\\\\\\\nThobeka       &                    22 &                              234.200000 \\\\\\\\\\nSabelo        &                    21 &                              147.833333 \\\\\\\\\\nMuzi          &                    21 &                               57.300000 \\\\\\\\\\nTiyandza      &                    18 &                               89.883333 \\\\\\\\\\nBagcinele     &                    16 &                              122.000000 \\\\\\\\\\nSikhulile     &                    12 &                              203.750000 \\\\\\\\\\nNomalungelo   &                     8 &                               34.666667 \\\\\\\\\\nSibusiso      &                     8 &                               36.500000 \\\\\\\\\\nLwazi         &                     8 &                               47.516667 \\\\\\\\\\nThokozani     &                     3 &                               23.000000 \\\\\\\\\\nPercy         &                     3 &                                5.000000 \\\\\\\\\\nZolile        &                     2 &                               15.000000 \\\\\\\\\\nThelumusa     &                     2 &                                5.000000 \\\\\\\\\\nAlex          &                     2 &                               11.000000 \\\\\\\\\\nSiphumelele   &                     2 &                                3.333333 \\\\\\\\\\nJonathan      &                     2 &                               19.916667 \\\\\\\\\\nMnqobi        &                     2 &                               21.500000 \\\\\\\\\\nMano          &                     1 &                                1.166667 \\\\\\\\\\nLihle         &                     1 &                                1.750000 \\\\\\\\\\nKangiso       &                     1 &                                3.000000 \\\\\\\\\\nFezile        &                     1 &                                2.966667 \\\\\\\\\\nSihle         &                     1 &                                4.000000 \\\\\\\\\\nThandwa       &                     1 &                                5.716667 \\\\\\\\\\nNcobile       &                     1 &                                1.416667 \\\\\\\\\\nGcina         &                     1 &                                2.000000 \\\\\\\\\\nSebenzile     &                     1 &                                2.000000 \\\\\\\\\\nNosifiso      &                     1 &                                1.250000 \\\\\\\\\\nMhlengi       &                     1 &                               20.000000 \\\\\\\\\\nAyanda        &                     1 &                                0.500000 \\\\\\\\\\nMaphila       &                     1 &                                2.416667 \\\\\\\\\\nMajaha        &                     1 &                                2.000000 \\\\\\\\\\nLindinkosi    &                     1 &                                1.333333 \\\\\\\\\\n\\\\bottomrule\\n\\\\end{tabular}\\n'"
            ]
          },
          "metadata": {},
          "execution_count": 56
        }
      ]
    },
    {
      "cell_type": "code",
      "metadata": {
        "colab": {
          "base_uri": "https://localhost:8080/",
          "height": 575
        },
        "id": "uTzk2SRXLw_Z",
        "outputId": "0bcc57ef-c847-47c1-c22d-17080fe8c02a"
      },
      "source": [
        "e7 = df['What equipment will you use?']\n",
        "e7 = e7.apply(splitting_columns)\n",
        "e7[0] = e7[0].str.strip()\n",
        "e7[1] = e7[1].str.strip()\n",
        "e7[2] = e7[2].str.strip()\n",
        "e7[3] = e7[3].str.strip()\n",
        "e7[4] = e7[4].str.strip()\n",
        "e7[5] = e7[5].str.strip()\n",
        "e8 = e7[0].append(e7[1], ignore_index=True)\n",
        "e9 = e8.append(e7[2], ignore_index=True)\n",
        "e10 = e9.append(e7[3], ignore_index=True)\n",
        "e11 = e10.append(e7[4], ignore_index=True)\n",
        "e12 = e11.append(e7[5], ignore_index=True)\n",
        "equipment_used_hist = e12.value_counts(dropna=True).to_frame()\n",
        "equipment_used_hist.columns = ['Count']\n",
        "equipment_used_hist = equipment_used_hist.reset_index() \n",
        "equipment_used_hist = equipment_used_hist.rename(columns={'index':'Equipment'})\n",
        "\n",
        "import matplotlib.pyplot as plt\n",
        "\n",
        "# Pie chart, where the slices will be ordered and plotted counter-clockwise:\n",
        "labels = equipment_used_hist['Equipment']\n",
        "sizes = equipment_used_hist['Count']\n",
        "explode = (0.1, 0, 0, 0.1, 0, 0.1, 0.2, 0.3, 0.4, 0.5)  # only \"explode\" the 2nd slice (i.e. 'Hogs')\n",
        "\n",
        "fig1, ax1 = plt.subplots(figsize=(11, 10))\n",
        "ax1.pie(sizes, explode=explode, labels=labels, autopct='%1.1f%%',\n",
        "        shadow=False, startangle=90)\n",
        "ax1.axis('equal')  # Equal aspect ratio ensures that pie is drawn as a circle.\n",
        "\n",
        "plt.show()"
      ],
      "execution_count": null,
      "outputs": [
        {
          "output_type": "display_data",
          "data": {
            "image/png": "[encoded data removed]",
            "text/plain": [
              "<Figure size 792x720 with 1 Axes>"
            ]
          },
          "metadata": {}
        }
      ]
    },
    {
      "cell_type": "code",
      "metadata": {
        "id": "eR4SFA3LKuYJ"
      },
      "source": [
        ""
      ],
      "execution_count": null,
      "outputs": []
    },
    {
      "cell_type": "code",
      "metadata": {
        "colab": {
          "base_uri": "https://localhost:8080/",
          "height": 359
        },
        "id": "PigMg-VUabAw",
        "outputId": "57ef0862-e116-471f-b17b-b2ad8a4897a7"
      },
      "source": [
        "equipment_used_hist['%'] = (equipment_used_hist['Count'] / equipment_used_hist['Count'].sum()).multiply(100)\n",
        "equipment_used_hist"
      ],
      "execution_count": null,
      "outputs": [
        {
          "output_type": "execute_result",
          "data": {
            "text/html": [
              "<div>\n",
              "<style scoped>\n",
              "    .dataframe tbody tr th:only-of-type {\n",
              "        vertical-align: middle;\n",
              "    }\n",
              "\n",
              "    .dataframe tbody tr th {\n",
              "        vertical-align: top;\n",
              "    }\n",
              "\n",
              "    .dataframe thead th {\n",
              "        text-align: right;\n",
              "    }\n",
              "</style>\n",
              "<table border=\"1\" class=\"dataframe\">\n",
              "  <thead>\n",
              "    <tr style=\"text-align: right;\">\n",
              "      <th></th>\n",
              "      <th>Equipment</th>\n",
              "      <th>Count</th>\n",
              "      <th>%</th>\n",
              "    </tr>\n",
              "  </thead>\n",
              "  <tbody>\n",
              "    <tr>\n",
              "      <th>0</th>\n",
              "      <td>Mac Workstation</td>\n",
              "      <td>368</td>\n",
              "      <td>35.658915</td>\n",
              "    </tr>\n",
              "    <tr>\n",
              "      <th>1</th>\n",
              "      <td>Brought my own workstation</td>\n",
              "      <td>293</td>\n",
              "      <td>28.391473</td>\n",
              "    </tr>\n",
              "    <tr>\n",
              "      <th>2</th>\n",
              "      <td>PC Workstation</td>\n",
              "      <td>118</td>\n",
              "      <td>11.434109</td>\n",
              "    </tr>\n",
              "    <tr>\n",
              "      <th>3</th>\n",
              "      <td>Keyboard</td>\n",
              "      <td>82</td>\n",
              "      <td>7.945736</td>\n",
              "    </tr>\n",
              "    <tr>\n",
              "      <th>4</th>\n",
              "      <td>Mouse</td>\n",
              "      <td>58</td>\n",
              "      <td>5.620155</td>\n",
              "    </tr>\n",
              "    <tr>\n",
              "      <th>5</th>\n",
              "      <td>Monitor</td>\n",
              "      <td>55</td>\n",
              "      <td>5.329457</td>\n",
              "    </tr>\n",
              "    <tr>\n",
              "      <th>6</th>\n",
              "      <td>Audio Box</td>\n",
              "      <td>28</td>\n",
              "      <td>2.713178</td>\n",
              "    </tr>\n",
              "    <tr>\n",
              "      <th>7</th>\n",
              "      <td>PC Tower</td>\n",
              "      <td>17</td>\n",
              "      <td>1.647287</td>\n",
              "    </tr>\n",
              "    <tr>\n",
              "      <th>8</th>\n",
              "      <td>Camera</td>\n",
              "      <td>10</td>\n",
              "      <td>0.968992</td>\n",
              "    </tr>\n",
              "    <tr>\n",
              "      <th>9</th>\n",
              "      <td>Projector</td>\n",
              "      <td>3</td>\n",
              "      <td>0.290698</td>\n",
              "    </tr>\n",
              "  </tbody>\n",
              "</table>\n",
              "</div>"
            ],
            "text/plain": [
              "                    Equipment  Count          %\n",
              "0             Mac Workstation    368  35.658915\n",
              "1  Brought my own workstation    293  28.391473\n",
              "2              PC Workstation    118  11.434109\n",
              "3                    Keyboard     82   7.945736\n",
              "4                       Mouse     58   5.620155\n",
              "5                     Monitor     55   5.329457\n",
              "6                   Audio Box     28   2.713178\n",
              "7                    PC Tower     17   1.647287\n",
              "8                      Camera     10   0.968992\n",
              "9                   Projector      3   0.290698"
            ]
          },
          "metadata": {},
          "execution_count": 55
        }
      ]
    },
    {
      "cell_type": "code",
      "metadata": {
        "colab": {
          "base_uri": "https://localhost:8080/",
          "height": 575
        },
        "id": "CnhCzaLfeH4i",
        "outputId": "814ff54b-e97a-41cd-bac2-c3e6585a54bd"
      },
      "source": [
        "import matplotlib.pyplot as plt\n",
        "\n",
        "# Pie chart, where the slices will be ordered and plotted counter-clockwise:\n",
        "labels = 'Female', 'Male'\n",
        "sizes = [11, 24]\n",
        "explode = (0.1, 0)  # only \"explode\" the 2nd slice (i.e. 'Hogs')\n",
        "\n",
        "fig1, ax1 = plt.subplots(figsize=(11, 10))\n",
        "ax1.pie(sizes, explode=explode, labels=labels, autopct='%1.1f%%',\n",
        "        shadow=True, startangle=90)\n",
        "ax1.axis('equal')  # Equal aspect ratio ensures that pie is drawn as a circle.\n",
        "\n",
        "plt.show()"
      ],
      "execution_count": null,
      "outputs": [
        {
          "output_type": "display_data",
          "data": {
            "image/png": "[encoded data removed]",
            "text/plain": [
              "<Figure size 792x720 with 1 Axes>"
            ]
          },
          "metadata": {
            "tags": []
          }
        }
      ]
    },
    {
      "cell_type": "code",
      "metadata": {
        "colab": {
          "base_uri": "https://localhost:8080/",
          "height": 575
        },
        "id": "AjJIVFg-vzjx",
        "outputId": "72b525e2-644d-49be-efec-6aa64a4128a1"
      },
      "source": [
        "import matplotlib.pyplot as plt\n",
        "\n",
        "# Pie chart, where the slices will be ordered and plotted counter-clockwise:\n",
        "labels = 'Student', 'Self-employed', 'Employed'\n",
        "sizes = [17, 15, 3]\n",
        "explode = (0, 0, 0.1)  # only \"explode\" the 2nd slice (i.e. 'Hogs')\n",
        "\n",
        "fig1, ax1 = plt.subplots(figsize=(11, 10))\n",
        "ax1.pie(sizes, explode=explode, labels=labels, autopct='%1.1f%%',\n",
        "        shadow=True, startangle=90)\n",
        "ax1.axis('equal')  # Equal aspect ratio ensures that pie is drawn as a circle.\n",
        "\n",
        "plt.show()"
      ],
      "execution_count": null,
      "outputs": [
        {
          "output_type": "display_data",
          "data": {
            "image/png": "[encoded data removed]",
            "text/plain": [
              "<Figure size 792x720 with 1 Axes>"
            ]
          },
          "metadata": {
            "tags": []
          }
        }
      ]
    },
    {
      "cell_type": "code",
      "metadata": {
        "colab": {
          "base_uri": "https://localhost:8080/",
          "height": 575
        },
        "id": "VuIFvLpVykgZ",
        "outputId": "b9237dbd-583f-45f8-9d11-80ac6e8d72fb"
      },
      "source": [
        "import matplotlib.pyplot as plt\n",
        "\n",
        "# Pie chart, where the slices will be ordered and plotted counter-clockwise:\n",
        "labels = 'Science & Technology' , 'Business & Marketing', 'Arts & Media'\n",
        "sizes = [17, 4, 14]\n",
        "explode = (0, 0, 0.1)  # only \"explode\" the 2nd slice (i.e. 'Hogs')\n",
        "\n",
        "fig1, ax1 = plt.subplots(figsize=(11, 10))\n",
        "ax1.pie(sizes, explode=explode, labels=labels, autopct='%1.1f%%',\n",
        "        shadow=True, startangle=90)\n",
        "ax1.axis('equal')  # Equal aspect ratio ensures that pie is drawn as a circle.\n",
        "\n",
        "plt.show()"
      ],
      "execution_count": null,
      "outputs": [
        {
          "output_type": "display_data",
          "data": {
            "image/png": "[encoded data removed]",
            "text/plain": [
              "<Figure size 792x720 with 1 Axes>"
            ]
          },
          "metadata": {
            "tags": []
          }
        }
      ]
    },
    {
      "cell_type": "code",
      "metadata": {
        "colab": {
          "base_uri": "https://localhost:8080/",
          "height": 441
        },
        "id": "ldnfc-Ha0TF6",
        "outputId": "b20ea30a-dc9b-44da-b837-735da2b0dfe7"
      },
      "source": [
        "import matplotlib.pyplot as plt\n",
        "import numpy as np\n",
        "\n",
        "\n",
        "labels = ['Science & Technology', 'Arts & Media', 'Business & Marketing']\n",
        "men_means = [14, 8, 2]\n",
        "women_means = [3, 6, 2]\n",
        "\n",
        "x = np.arange(len(labels))  # the label locations\n",
        "width = 0.35  # the width of the bars\n",
        "\n",
        "fig, ax = plt.subplots(figsize=(7, 6))\n",
        "rects1 = ax.bar(x - width/2, men_means, width, label='Men')\n",
        "rects2 = ax.bar(x + width/2, women_means, width, label='Women')\n",
        "\n",
        "# Add some text for labels, title and custom x-axis tick labels, etc.\n",
        "ax.set_ylabel('Count')\n",
        "#ax.set_title('Count by profession and gender')\n",
        "ax.set_xticks(x)\n",
        "ax.set_xticklabels(labels)\n",
        "ax.legend()\n",
        "\n",
        "\n",
        "fig.tight_layout()\n",
        "\n",
        "plt.show()"
      ],
      "execution_count": null,
      "outputs": [
        {
          "output_type": "display_data",
          "data": {
            "image/png": "[encoded data removed]",
            "text/plain": [
              "<Figure size 504x432 with 1 Axes>"
            ]
          },
          "metadata": {
            "tags": [],
            "needs_background": "light"
          }
        }
      ]
    },
    {
      "cell_type": "code",
      "metadata": {
        "colab": {
          "base_uri": "https://localhost:8080/",
          "height": 111
        },
        "id": "R_i1oZTU0sQw",
        "outputId": "1a0bf479-7c2c-4945-c294-668a8fd06908"
      },
      "source": [
        "inputss = [['Female', 11], ['Male', 24]]\n",
        "demographics = pd.DataFrame(inputss, columns=['Category', 'Count'])\n",
        "demographics"
      ],
      "execution_count": null,
      "outputs": [
        {
          "output_type": "execute_result",
          "data": {
            "text/html": [
              "<div>\n",
              "<style scoped>\n",
              "    .dataframe tbody tr th:only-of-type {\n",
              "        vertical-align: middle;\n",
              "    }\n",
              "\n",
              "    .dataframe tbody tr th {\n",
              "        vertical-align: top;\n",
              "    }\n",
              "\n",
              "    .dataframe thead th {\n",
              "        text-align: right;\n",
              "    }\n",
              "</style>\n",
              "<table border=\"1\" class=\"dataframe\">\n",
              "  <thead>\n",
              "    <tr style=\"text-align: right;\">\n",
              "      <th></th>\n",
              "      <th>Category</th>\n",
              "      <th>Count</th>\n",
              "    </tr>\n",
              "  </thead>\n",
              "  <tbody>\n",
              "    <tr>\n",
              "      <th>0</th>\n",
              "      <td>Female</td>\n",
              "      <td>11</td>\n",
              "    </tr>\n",
              "    <tr>\n",
              "      <th>1</th>\n",
              "      <td>Male</td>\n",
              "      <td>24</td>\n",
              "    </tr>\n",
              "  </tbody>\n",
              "</table>\n",
              "</div>"
            ],
            "text/plain": [
              "  Category  Count\n",
              "0   Female     11\n",
              "1     Male     24"
            ]
          },
          "metadata": {
            "tags": []
          },
          "execution_count": 75
        }
      ]
    },
    {
      "cell_type": "code",
      "metadata": {
        "colab": {
          "base_uri": "https://localhost:8080/",
          "height": 142
        },
        "id": "uKRG2DLg3HFu",
        "outputId": "80e3e4ed-3f20-4f1b-cbf5-12662ec338c3"
      },
      "source": [
        "inputss = [['Science & Technology', 14, 3], ['Arts & Media', 8, 6], ['Business & Marketing', 2, 2]]\n",
        "demographics = pd.DataFrame(inputss, columns=['Category', 'Female', 'Male'])\n",
        "demographics"
      ],
      "execution_count": null,
      "outputs": [
        {
          "output_type": "execute_result",
          "data": {
            "text/html": [
              "<div>\n",
              "<style scoped>\n",
              "    .dataframe tbody tr th:only-of-type {\n",
              "        vertical-align: middle;\n",
              "    }\n",
              "\n",
              "    .dataframe tbody tr th {\n",
              "        vertical-align: top;\n",
              "    }\n",
              "\n",
              "    .dataframe thead th {\n",
              "        text-align: right;\n",
              "    }\n",
              "</style>\n",
              "<table border=\"1\" class=\"dataframe\">\n",
              "  <thead>\n",
              "    <tr style=\"text-align: right;\">\n",
              "      <th></th>\n",
              "      <th>Category</th>\n",
              "      <th>Female</th>\n",
              "      <th>Male</th>\n",
              "    </tr>\n",
              "  </thead>\n",
              "  <tbody>\n",
              "    <tr>\n",
              "      <th>0</th>\n",
              "      <td>Science &amp; Technology</td>\n",
              "      <td>14</td>\n",
              "      <td>3</td>\n",
              "    </tr>\n",
              "    <tr>\n",
              "      <th>1</th>\n",
              "      <td>Arts &amp; Media</td>\n",
              "      <td>8</td>\n",
              "      <td>6</td>\n",
              "    </tr>\n",
              "    <tr>\n",
              "      <th>2</th>\n",
              "      <td>Business &amp; Marketing</td>\n",
              "      <td>2</td>\n",
              "      <td>2</td>\n",
              "    </tr>\n",
              "  </tbody>\n",
              "</table>\n",
              "</div>"
            ],
            "text/plain": [
              "               Category  Female  Male\n",
              "0  Science & Technology      14     3\n",
              "1          Arts & Media       8     6\n",
              "2  Business & Marketing       2     2"
            ]
          },
          "metadata": {
            "tags": []
          },
          "execution_count": 76
        }
      ]
    },
    {
      "cell_type": "code",
      "metadata": {
        "colab": {
          "base_uri": "https://localhost:8080/",
          "height": 266
        },
        "id": "XupzlWWb7mlu",
        "outputId": "18860933-4a10-4a4e-c9a0-2782b21050b8"
      },
      "source": [
        "day_of_week_traf = df.index.to_series()\n",
        "day_of_week_traf = day_of_week_traf.dt.dayofweek \n",
        "#headers = ['day of week']\n",
        "#df9 = pd.DataFrame(df9, columns = headers)\n",
        "day_of_the_week_traf = day_of_week_traf.value_counts().to_frame()\n",
        "day_of_the_week_traf['Day of week'] = 'Tuesday', 'Wednesday', 'Thursday', 'Friday', 'Monday', 'Saturday', 'Sunday'\n",
        "day_of_the_week_traf.rename(columns={'Timestamp':'Count'})\n"
      ],
      "execution_count": null,
      "outputs": [
        {
          "output_type": "execute_result",
          "data": {
            "text/html": [
              "<div>\n",
              "<style scoped>\n",
              "    .dataframe tbody tr th:only-of-type {\n",
              "        vertical-align: middle;\n",
              "    }\n",
              "\n",
              "    .dataframe tbody tr th {\n",
              "        vertical-align: top;\n",
              "    }\n",
              "\n",
              "    .dataframe thead th {\n",
              "        text-align: right;\n",
              "    }\n",
              "</style>\n",
              "<table border=\"1\" class=\"dataframe\">\n",
              "  <thead>\n",
              "    <tr style=\"text-align: right;\">\n",
              "      <th></th>\n",
              "      <th>Count</th>\n",
              "      <th>Day of week</th>\n",
              "    </tr>\n",
              "  </thead>\n",
              "  <tbody>\n",
              "    <tr>\n",
              "      <th>2</th>\n",
              "      <td>154</td>\n",
              "      <td>Tuesday</td>\n",
              "    </tr>\n",
              "    <tr>\n",
              "      <th>1</th>\n",
              "      <td>145</td>\n",
              "      <td>Wednesday</td>\n",
              "    </tr>\n",
              "    <tr>\n",
              "      <th>4</th>\n",
              "      <td>138</td>\n",
              "      <td>Thursday</td>\n",
              "    </tr>\n",
              "    <tr>\n",
              "      <th>3</th>\n",
              "      <td>133</td>\n",
              "      <td>Friday</td>\n",
              "    </tr>\n",
              "    <tr>\n",
              "      <th>0</th>\n",
              "      <td>123</td>\n",
              "      <td>Monday</td>\n",
              "    </tr>\n",
              "    <tr>\n",
              "      <th>5</th>\n",
              "      <td>82</td>\n",
              "      <td>Saturday</td>\n",
              "    </tr>\n",
              "    <tr>\n",
              "      <th>6</th>\n",
              "      <td>52</td>\n",
              "      <td>Sunday</td>\n",
              "    </tr>\n",
              "  </tbody>\n",
              "</table>\n",
              "</div>"
            ],
            "text/plain": [
              "   Count Day of week\n",
              "2    154     Tuesday\n",
              "1    145   Wednesday\n",
              "4    138    Thursday\n",
              "3    133      Friday\n",
              "0    123      Monday\n",
              "5     82    Saturday\n",
              "6     52      Sunday"
            ]
          },
          "metadata": {},
          "execution_count": 57
        }
      ]
    },
    {
      "cell_type": "code",
      "metadata": {
        "colab": {
          "base_uri": "https://localhost:8080/",
          "height": 447
        },
        "id": "gMzHE25U805n",
        "outputId": "290ad44a-67fc-4e47-aa1e-0a2f14944a7a"
      },
      "source": [
        "%matplotlib inline\n",
        "days = ['Mon', 'Tue', 'Wed', 'Thurs', 'Fri', 'Sat', 'Sun']\n",
        "s = [123, 154, 145, 138, 133, 82, 52]\n",
        "width = 8\n",
        "height = 7\n",
        "plt.figure(figsize=(width, height))\n",
        "plt.bar(days, s)\n",
        "plt.ylabel(\"Count\")\n",
        "plt.title(\"Hub visitations (days of the week)\");\n",
        "\n",
        "for i in range(len(s)):\n",
        "  plt.annotate(str(s[i]), xy=(days[i],s[i]), ha='center', va='bottom')\n",
        "\n",
        "plt.show()"
      ],
      "execution_count": null,
      "outputs": [
        {
          "output_type": "display_data",
          "data": {
            "image/png": "[encoded data removed]",
            "text/plain": [
              "<Figure size 576x504 with 1 Axes>"
            ]
          },
          "metadata": {
            "needs_background": "light"
          }
        }
      ]
    },
    {
      "cell_type": "code",
      "metadata": {
        "colab": {
          "base_uri": "https://localhost:8080/"
        },
        "id": "pg0ifdq5RJTu",
        "outputId": "c57536a7-5d3b-40a2-cce0-0c4bdee56f93"
      },
      "source": [
        "missing_dates = pd.date_range(df.index.min(), df.index.max()).difference(df.index).size - 9\n",
        "missing_dates"
      ],
      "execution_count": null,
      "outputs": [
        {
          "output_type": "execute_result",
          "data": {
            "text/plain": [
              "78"
            ]
          },
          "metadata": {},
          "execution_count": 59
        }
      ]
    },
    {
      "cell_type": "code",
      "metadata": {
        "colab": {
          "base_uri": "https://localhost:8080/"
        },
        "id": "QRnRKXgsOThG",
        "outputId": "b44dfb81-e839-4a79-9a64-96ea8eea631a"
      },
      "source": [
        "attendance_dates = pd.date_range(df.index.min(), df.index.max())\n",
        "avarage_daily_attendance = len(df['First Name']) / (attendance_dates.size - missing_dates)\n",
        "daily_avarage_time_spent = (df['How many hours will you be putting in?'].sum() / attendance_dates.size) / avarage_daily_attendance\n",
        "print('Maximum time that was spent at the hub by a hubber (hrs): {}' .format(df['How many hours will you be putting in?'].max()))\n",
        "print('')\n",
        "print('daily avarage time spent by hubbers at the hub (hrs): {}' .format(daily_avarage_time_spent))\n",
        "print('')\n",
        "print('Minimum time that was spent at the hub by a hubber (hrs): {}' .format(df['How many hours will you be putting in?'].min()))"
      ],
      "execution_count": null,
      "outputs": [
        {
          "output_type": "stream",
          "name": "stdout",
          "text": [
            "Maximum time that was spent at the hub by a hubber (hrs): 72.0\n",
            "\n",
            "daily avarage time spent by hubbers at the hub (hrs): 5.052535549244022\n",
            "\n",
            "Minimum time that was spent at the hub by a hubber (hrs): 0.25\n"
          ]
        }
      ]
    },
    {
      "cell_type": "code",
      "metadata": {
        "colab": {
          "base_uri": "https://localhost:8080/",
          "height": 142
        },
        "id": "OFBpSoQvSFXN",
        "outputId": "75eadf72-bb48-4d9f-96d6-ebb51dfa8252"
      },
      "source": [
        "date_date = [['Maximum time that was spent at the hub by a hubber at a go', df['How many hours will you be putting in?'].max()], ['daily avarage time spent by hubbers collectively at the hub', daily_avarage_time_spent], ['Minimum time that was spent at the hub by a hubber at a go', df['How many hours will you be putting in?'].min()]]\n",
        "Date_Date = pd.DataFrame(date_date, columns=['Argument', 'Time(hrs)'])\n",
        "Date_Date"
      ],
      "execution_count": null,
      "outputs": [
        {
          "output_type": "execute_result",
          "data": {
            "text/html": [
              "<div>\n",
              "<style scoped>\n",
              "    .dataframe tbody tr th:only-of-type {\n",
              "        vertical-align: middle;\n",
              "    }\n",
              "\n",
              "    .dataframe tbody tr th {\n",
              "        vertical-align: top;\n",
              "    }\n",
              "\n",
              "    .dataframe thead th {\n",
              "        text-align: right;\n",
              "    }\n",
              "</style>\n",
              "<table border=\"1\" class=\"dataframe\">\n",
              "  <thead>\n",
              "    <tr style=\"text-align: right;\">\n",
              "      <th></th>\n",
              "      <th>Argument</th>\n",
              "      <th>Time(hrs)</th>\n",
              "    </tr>\n",
              "  </thead>\n",
              "  <tbody>\n",
              "    <tr>\n",
              "      <th>0</th>\n",
              "      <td>Maximum time that was spent at the hub by a hu...</td>\n",
              "      <td>72.000000</td>\n",
              "    </tr>\n",
              "    <tr>\n",
              "      <th>1</th>\n",
              "      <td>daily avarage time spent by hubbers collective...</td>\n",
              "      <td>5.052536</td>\n",
              "    </tr>\n",
              "    <tr>\n",
              "      <th>2</th>\n",
              "      <td>Minimum time that was spent at the hub by a hu...</td>\n",
              "      <td>0.250000</td>\n",
              "    </tr>\n",
              "  </tbody>\n",
              "</table>\n",
              "</div>"
            ],
            "text/plain": [
              "                                            Argument  Time(hrs)\n",
              "0  Maximum time that was spent at the hub by a hu...  72.000000\n",
              "1  daily avarage time spent by hubbers collective...   5.052536\n",
              "2  Minimum time that was spent at the hub by a hu...   0.250000"
            ]
          },
          "metadata": {},
          "execution_count": 62
        }
      ]
    },
    {
      "cell_type": "code",
      "metadata": {
        "id": "G88FB8tFZbGC"
      },
      "source": [
        ""
      ],
      "execution_count": null,
      "outputs": []
    }
  ]
}