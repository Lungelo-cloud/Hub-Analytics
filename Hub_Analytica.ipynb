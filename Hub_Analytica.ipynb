{
  "nbformat": 4,
  "nbformat_minor": 0,
  "metadata": {
    "colab": {
      "name": "Hub Analytica.ipynb",
      "provenance": [],
      "authorship_tag": "ABX9TyP/WVDTUl9cmrnIv+y15esV",
      "include_colab_link": true
    },
    "kernelspec": {
      "name": "python3",
      "display_name": "Python 3"
    },
    "language_info": {
      "name": "python"
    }
  },
  "cells": [
    {
      "cell_type": "markdown",
      "metadata": {
        "id": "view-in-github",
        "colab_type": "text"
      },
      "source": [
        "<a href=\"https://colab.research.google.com/github/Lungelo-cloud/Hub-Analytics/blob/main/Hub_Analytica.ipynb\" target=\"_parent\"><img src=\"https://colab.research.google.com/assets/colab-badge.svg\" alt=\"Open In Colab\"/></a>"
      ]
    },
    {
      "cell_type": "code",
      "metadata": {
        "id": "-sivWncZumDV"
      },
      "source": [
        "import pandas as pd\n",
        "import datetime as dt\n",
        "import numpy as np\n",
        "import matplotlib.pyplot as plt \n",
        "import seaborn as sns \n",
        "sns.set()"
      ],
      "execution_count": 1,
      "outputs": []
    },
    {
      "cell_type": "code",
      "metadata": {
        "colab": {
          "base_uri": "https://localhost:8080/",
          "height": 374
        },
        "id": "e2Dl9M2Au4Ol",
        "outputId": "379e5bf8-1971-46df-e913-1c51bca1e5f6"
      },
      "source": [
        "sheet_id = '1WGVWOsjKdp4eP_6PcqdnU7r6r8RW0hAtUVakTlrFWxw'\n",
        "df = pd.read_csv(f\"https://docs.google.com/spreadsheets/d/{sheet_id}/export?format=csv\")\n",
        "df.head()"
      ],
      "execution_count": 2,
      "outputs": [
        {
          "output_type": "execute_result",
          "data": {
            "text/html": [
              "<div>\n",
              "<style scoped>\n",
              "    .dataframe tbody tr th:only-of-type {\n",
              "        vertical-align: middle;\n",
              "    }\n",
              "\n",
              "    .dataframe tbody tr th {\n",
              "        vertical-align: top;\n",
              "    }\n",
              "\n",
              "    .dataframe thead th {\n",
              "        text-align: right;\n",
              "    }\n",
              "</style>\n",
              "<table border=\"1\" class=\"dataframe\">\n",
              "  <thead>\n",
              "    <tr style=\"text-align: right;\">\n",
              "      <th></th>\n",
              "      <th>Timestamp</th>\n",
              "      <th>First Name</th>\n",
              "      <th>Phone Number</th>\n",
              "      <th>Sign-in Time</th>\n",
              "      <th>What are you working on today?</th>\n",
              "      <th>What equipment will you use?</th>\n",
              "      <th>Internet?</th>\n",
              "      <th>What time do you expect to be out of The Hub?</th>\n",
              "      <th>Are you a member of The Hub?</th>\n",
              "      <th>Are you a student (from any institution)?</th>\n",
              "      <th>What company do you work for?</th>\n",
              "      <th>Last Name</th>\n",
              "      <th>What equipment will you check out?</th>\n",
              "    </tr>\n",
              "  </thead>\n",
              "  <tbody>\n",
              "    <tr>\n",
              "      <th>0</th>\n",
              "      <td>2/11/2021</td>\n",
              "      <td>Kwanele</td>\n",
              "      <td>7815 8606</td>\n",
              "      <td>11:00:00 AM</td>\n",
              "      <td>Company Work</td>\n",
              "      <td>Brought my own workstation</td>\n",
              "      <td>Shared Hotspot</td>\n",
              "      <td>6:00:00 AM</td>\n",
              "      <td>NaN</td>\n",
              "      <td>NaN</td>\n",
              "      <td>NaN</td>\n",
              "      <td>NaN</td>\n",
              "      <td>NaN</td>\n",
              "    </tr>\n",
              "    <tr>\n",
              "      <th>1</th>\n",
              "      <td>2/11/2021</td>\n",
              "      <td>Simanga</td>\n",
              "      <td>78501932</td>\n",
              "      <td>4:00:00 AM</td>\n",
              "      <td>Content &amp; Creativity</td>\n",
              "      <td>PC Workstation</td>\n",
              "      <td>Shared Hotspot</td>\n",
              "      <td>NaN</td>\n",
              "      <td>NaN</td>\n",
              "      <td>NaN</td>\n",
              "      <td>NaN</td>\n",
              "      <td>NaN</td>\n",
              "      <td>NaN</td>\n",
              "    </tr>\n",
              "    <tr>\n",
              "      <th>2</th>\n",
              "      <td>2/13/2021</td>\n",
              "      <td>Simanga</td>\n",
              "      <td>78501932</td>\n",
              "      <td>11:00:00 AM</td>\n",
              "      <td>Content &amp; Creativity</td>\n",
              "      <td>Mac Workstation</td>\n",
              "      <td>Shared Hotspot</td>\n",
              "      <td>NaN</td>\n",
              "      <td>NaN</td>\n",
              "      <td>NaN</td>\n",
              "      <td>NaN</td>\n",
              "      <td>NaN</td>\n",
              "      <td>NaN</td>\n",
              "    </tr>\n",
              "    <tr>\n",
              "      <th>3</th>\n",
              "      <td>2/13/2021</td>\n",
              "      <td>Sikhulile</td>\n",
              "      <td>+26879384734</td>\n",
              "      <td>11:45:00 AM</td>\n",
              "      <td>Content &amp; Creativity</td>\n",
              "      <td>Brought my own workstation</td>\n",
              "      <td>Shared Hotspot</td>\n",
              "      <td>7:00:00 PM</td>\n",
              "      <td>NaN</td>\n",
              "      <td>NaN</td>\n",
              "      <td>NaN</td>\n",
              "      <td>NaN</td>\n",
              "      <td>NaN</td>\n",
              "    </tr>\n",
              "    <tr>\n",
              "      <th>4</th>\n",
              "      <td>2/14/2021</td>\n",
              "      <td>Gcinimiyalo</td>\n",
              "      <td>76342236</td>\n",
              "      <td>12:56:00 PM</td>\n",
              "      <td>Content &amp; Creativity</td>\n",
              "      <td>Mac Workstation</td>\n",
              "      <td>Shared Hotspot</td>\n",
              "      <td>16:38:00</td>\n",
              "      <td>NaN</td>\n",
              "      <td>NaN</td>\n",
              "      <td>NaN</td>\n",
              "      <td>NaN</td>\n",
              "      <td>NaN</td>\n",
              "    </tr>\n",
              "  </tbody>\n",
              "</table>\n",
              "</div>"
            ],
            "text/plain": [
              "   Timestamp   First Name  ... Last Name What equipment will you check out?\n",
              "0  2/11/2021      Kwanele  ...       NaN                                NaN\n",
              "1  2/11/2021      Simanga  ...       NaN                                NaN\n",
              "2  2/13/2021      Simanga  ...       NaN                                NaN\n",
              "3  2/13/2021    Sikhulile  ...       NaN                                NaN\n",
              "4  2/14/2021  Gcinimiyalo  ...       NaN                                NaN\n",
              "\n",
              "[5 rows x 13 columns]"
            ]
          },
          "metadata": {
            "tags": []
          },
          "execution_count": 2
        }
      ]
    },
    {
      "cell_type": "code",
      "metadata": {
        "colab": {
          "base_uri": "https://localhost:8080/"
        },
        "id": "OMPRU5MV5MNE",
        "outputId": "13164486-5e56-4918-d361-69f0ca587ef7"
      },
      "source": [
        "df['Timestamp'] = pd.to_datetime(df['Timestamp'])\n",
        "df['Sign-in Time'] = pd.to_datetime(df['Sign-in Time'])\n",
        "df['What time do you expect to be out of The Hub?'] = pd.to_datetime(df['What time do you expect to be out of The Hub?'])\n",
        "df['Time Duration(hrs)'] = (df['What time do you expect to be out of The Hub?']-df['Sign-in Time'])/np.timedelta64(1,'h')\n",
        "df.dtypes"
      ],
      "execution_count": 3,
      "outputs": [
        {
          "output_type": "execute_result",
          "data": {
            "text/plain": [
              "Timestamp                                        datetime64[ns]\n",
              "First Name                                               object\n",
              "Phone Number                                             object\n",
              "Sign-in Time                                     datetime64[ns]\n",
              "What are you working on today?                           object\n",
              "What equipment will you use?                             object\n",
              "Internet?                                                object\n",
              "What time do you expect to be out of The Hub?    datetime64[ns]\n",
              "Are you a member of The Hub?                             object\n",
              "Are you a student (from any institution)?                object\n",
              "What company do you work for?                            object\n",
              "Last Name                                                object\n",
              "What equipment will you check out?                      float64\n",
              "Time Duration(hrs)                                      float64\n",
              "dtype: object"
            ]
          },
          "metadata": {
            "tags": []
          },
          "execution_count": 3
        }
      ]
    },
    {
      "cell_type": "code",
      "metadata": {
        "id": "qxMk3ud4CvDC"
      },
      "source": [
        "df = df.set_index('Timestamp')"
      ],
      "execution_count": 4,
      "outputs": []
    },
    {
      "cell_type": "code",
      "metadata": {
        "colab": {
          "base_uri": "https://localhost:8080/"
        },
        "id": "OBe9dE_R5oZB",
        "outputId": "a8aef522-4d2f-4b1c-b325-d05b8bc94b3a"
      },
      "source": [
        "missing_data = df.isnull()\n",
        "for column in missing_data.columns.values.tolist():\n",
        "  print(column)\n",
        "  print(missing_data[column].value_counts())\n",
        "  print(\"\")"
      ],
      "execution_count": 5,
      "outputs": [
        {
          "output_type": "stream",
          "text": [
            "First Name\n",
            "False    491\n",
            "Name: First Name, dtype: int64\n",
            "\n",
            "Phone Number\n",
            "False    433\n",
            "True      58\n",
            "Name: Phone Number, dtype: int64\n",
            "\n",
            "Sign-in Time\n",
            "False    491\n",
            "Name: Sign-in Time, dtype: int64\n",
            "\n",
            "What are you working on today?\n",
            "False    491\n",
            "Name: What are you working on today?, dtype: int64\n",
            "\n",
            "What equipment will you use?\n",
            "False    491\n",
            "Name: What equipment will you use?, dtype: int64\n",
            "\n",
            "Internet?\n",
            "False    490\n",
            "True       1\n",
            "Name: Internet?, dtype: int64\n",
            "\n",
            "What time do you expect to be out of The Hub?\n",
            "False    470\n",
            "True      21\n",
            "Name: What time do you expect to be out of The Hub?, dtype: int64\n",
            "\n",
            "Are you a member of The Hub?\n",
            "False    388\n",
            "True     103\n",
            "Name: Are you a member of The Hub?, dtype: int64\n",
            "\n",
            "Are you a student (from any institution)?\n",
            "True     435\n",
            "False     56\n",
            "Name: Are you a student (from any institution)?, dtype: int64\n",
            "\n",
            "What company do you work for?\n",
            "True     433\n",
            "False     58\n",
            "Name: What company do you work for?, dtype: int64\n",
            "\n",
            "Last Name\n",
            "True     433\n",
            "False     58\n",
            "Name: Last Name, dtype: int64\n",
            "\n",
            "What equipment will you check out?\n",
            "True    491\n",
            "Name: What equipment will you check out?, dtype: int64\n",
            "\n",
            "Time Duration(hrs)\n",
            "False    470\n",
            "True      21\n",
            "Name: Time Duration(hrs), dtype: int64\n",
            "\n"
          ],
          "name": "stdout"
        }
      ]
    },
    {
      "cell_type": "code",
      "metadata": {
        "colab": {
          "base_uri": "https://localhost:8080/",
          "height": 235
        },
        "id": "My7x_9vIEUbS",
        "outputId": "a9ae5895-ae13-4d72-bc9e-7e50bff93558"
      },
      "source": [
        "df1 = df.loc['2021-08-09 00:00:00':'2021-08-15 23:00:00']\n",
        "df2 = df1['What are you working on today?']\n",
        "splitting_columns = lambda x: pd.Series([i for i in reversed(x.split(','))])\n",
        "df2 = df2.apply(splitting_columns)\n",
        "df2[0] = df2[0].str.strip()\n",
        "df2[1] = df2[1].str.strip()\n",
        "df2[2] = df2[2].str.strip()\n",
        "df3 = df2[0].append(df2[1], ignore_index=True)\n",
        "df4 = df3.append(df2[2], ignore_index=True)\n",
        "df5 = df4.value_counts(dropna=True).to_frame()\n",
        "df5.columns = ['count']\n",
        "df5"
      ],
      "execution_count": 6,
      "outputs": [
        {
          "output_type": "execute_result",
          "data": {
            "text/html": [
              "<div>\n",
              "<style scoped>\n",
              "    .dataframe tbody tr th:only-of-type {\n",
              "        vertical-align: middle;\n",
              "    }\n",
              "\n",
              "    .dataframe tbody tr th {\n",
              "        vertical-align: top;\n",
              "    }\n",
              "\n",
              "    .dataframe thead th {\n",
              "        text-align: right;\n",
              "    }\n",
              "</style>\n",
              "<table border=\"1\" class=\"dataframe\">\n",
              "  <thead>\n",
              "    <tr style=\"text-align: right;\">\n",
              "      <th></th>\n",
              "      <th>count</th>\n",
              "    </tr>\n",
              "  </thead>\n",
              "  <tbody>\n",
              "    <tr>\n",
              "      <th>Company Work</th>\n",
              "      <td>28</td>\n",
              "    </tr>\n",
              "    <tr>\n",
              "      <th>Research</th>\n",
              "      <td>22</td>\n",
              "    </tr>\n",
              "    <tr>\n",
              "      <th>Content &amp; Creativity</th>\n",
              "      <td>17</td>\n",
              "    </tr>\n",
              "    <tr>\n",
              "      <th>Coding</th>\n",
              "      <td>14</td>\n",
              "    </tr>\n",
              "    <tr>\n",
              "      <th>Academic Work</th>\n",
              "      <td>4</td>\n",
              "    </tr>\n",
              "    <tr>\n",
              "      <th>Meeting</th>\n",
              "      <td>4</td>\n",
              "    </tr>\n",
              "  </tbody>\n",
              "</table>\n",
              "</div>"
            ],
            "text/plain": [
              "                      count\n",
              "Company Work             28\n",
              "Research                 22\n",
              "Content & Creativity     17\n",
              "Coding                   14\n",
              "Academic Work             4\n",
              "Meeting                   4"
            ]
          },
          "metadata": {
            "tags": []
          },
          "execution_count": 6
        }
      ]
    },
    {
      "cell_type": "code",
      "metadata": {
        "colab": {
          "base_uri": "https://localhost:8080/",
          "height": 266
        },
        "id": "i_mw4btnHS_6",
        "outputId": "882cf2dd-dbf4-40e8-81b3-719efb68734d"
      },
      "source": [
        "df6 = df1['What company do you work for?']\n",
        "df7 = df6.value_counts().to_frame()\n",
        "df7.columns = ['Count']\n",
        "df7"
      ],
      "execution_count": 7,
      "outputs": [
        {
          "output_type": "execute_result",
          "data": {
            "text/html": [
              "<div>\n",
              "<style scoped>\n",
              "    .dataframe tbody tr th:only-of-type {\n",
              "        vertical-align: middle;\n",
              "    }\n",
              "\n",
              "    .dataframe tbody tr th {\n",
              "        vertical-align: top;\n",
              "    }\n",
              "\n",
              "    .dataframe thead th {\n",
              "        text-align: right;\n",
              "    }\n",
              "</style>\n",
              "<table border=\"1\" class=\"dataframe\">\n",
              "  <thead>\n",
              "    <tr style=\"text-align: right;\">\n",
              "      <th></th>\n",
              "      <th>Count</th>\n",
              "    </tr>\n",
              "  </thead>\n",
              "  <tbody>\n",
              "    <tr>\n",
              "      <th>Freelancer</th>\n",
              "      <td>29</td>\n",
              "    </tr>\n",
              "    <tr>\n",
              "      <th>Snowsen</th>\n",
              "      <td>11</td>\n",
              "    </tr>\n",
              "    <tr>\n",
              "      <th>Ummo</th>\n",
              "      <td>10</td>\n",
              "    </tr>\n",
              "    <tr>\n",
              "      <th>Vundzisa</th>\n",
              "      <td>3</td>\n",
              "    </tr>\n",
              "    <tr>\n",
              "      <th>Kingdom XLR</th>\n",
              "      <td>3</td>\n",
              "    </tr>\n",
              "    <tr>\n",
              "      <th>Guwava</th>\n",
              "      <td>1</td>\n",
              "    </tr>\n",
              "    <tr>\n",
              "      <th>SV Tech</th>\n",
              "      <td>1</td>\n",
              "    </tr>\n",
              "  </tbody>\n",
              "</table>\n",
              "</div>"
            ],
            "text/plain": [
              "             Count\n",
              "Freelancer      29\n",
              "Snowsen         11\n",
              "Ummo            10\n",
              "Vundzisa         3\n",
              "Kingdom XLR      3\n",
              "Guwava           1\n",
              "SV Tech          1"
            ]
          },
          "metadata": {
            "tags": []
          },
          "execution_count": 7
        }
      ]
    },
    {
      "cell_type": "code",
      "metadata": {
        "colab": {
          "base_uri": "https://localhost:8080/",
          "height": 235
        },
        "id": "LU505xhBQMMS",
        "outputId": "7f6aae93-5362-4e96-e8c4-729e9956a427"
      },
      "source": [
        "df8 = df1['What equipment will you use?']\n",
        "df8 = df8.apply(splitting_columns)\n",
        "df8[0] = df8[0].str.strip()\n",
        "df8[1] = df8[1].str.strip()\n",
        "df8[2] = df8[2].str.strip()\n",
        "df8[3] = df8[3].str.strip()\n",
        "df9 = df8[0].append(df8[1], ignore_index=True)\n",
        "df10 = df9.append(df8[2], ignore_index=True)\n",
        "df11 = df10.append(df8[3], ignore_index=True)\n",
        "equipment_used = df11.value_counts(dropna=True).to_frame()\n",
        "equipment_used.columns = ['count']\n",
        "equipment_used"
      ],
      "execution_count": 8,
      "outputs": [
        {
          "output_type": "execute_result",
          "data": {
            "text/html": [
              "<div>\n",
              "<style scoped>\n",
              "    .dataframe tbody tr th:only-of-type {\n",
              "        vertical-align: middle;\n",
              "    }\n",
              "\n",
              "    .dataframe tbody tr th {\n",
              "        vertical-align: top;\n",
              "    }\n",
              "\n",
              "    .dataframe thead th {\n",
              "        text-align: right;\n",
              "    }\n",
              "</style>\n",
              "<table border=\"1\" class=\"dataframe\">\n",
              "  <thead>\n",
              "    <tr style=\"text-align: right;\">\n",
              "      <th></th>\n",
              "      <th>count</th>\n",
              "    </tr>\n",
              "  </thead>\n",
              "  <tbody>\n",
              "    <tr>\n",
              "      <th>Brought my own workstation</th>\n",
              "      <td>26</td>\n",
              "    </tr>\n",
              "    <tr>\n",
              "      <th>Mac Workstation</th>\n",
              "      <td>21</td>\n",
              "    </tr>\n",
              "    <tr>\n",
              "      <th>Keyboard</th>\n",
              "      <td>15</td>\n",
              "    </tr>\n",
              "    <tr>\n",
              "      <th>Mouse</th>\n",
              "      <td>14</td>\n",
              "    </tr>\n",
              "    <tr>\n",
              "      <th>PC Workstation</th>\n",
              "      <td>13</td>\n",
              "    </tr>\n",
              "    <tr>\n",
              "      <th>Monitor</th>\n",
              "      <td>11</td>\n",
              "    </tr>\n",
              "  </tbody>\n",
              "</table>\n",
              "</div>"
            ],
            "text/plain": [
              "                            count\n",
              "Brought my own workstation     26\n",
              "Mac Workstation                21\n",
              "Keyboard                       15\n",
              "Mouse                          14\n",
              "PC Workstation                 13\n",
              "Monitor                        11"
            ]
          },
          "metadata": {
            "tags": []
          },
          "execution_count": 8
        }
      ]
    },
    {
      "cell_type": "code",
      "metadata": {
        "colab": {
          "base_uri": "https://localhost:8080/",
          "height": 359
        },
        "id": "gex9bBUikoAe",
        "outputId": "5c9132b2-eb53-40d9-9b8b-3946c204e2b3"
      },
      "source": [
        "d12 = df1['First Name'].str.strip()\n",
        "d12 = d12.replace('Kwanele Prince', 'Kwanele')\n",
        "d12 = d12.replace('Tsabedze', 'Kwanele')\n",
        "d13 = d12.value_counts().to_frame()\n",
        "d13.columns = ['Count']\n",
        "hubbers = d13.head(10)\n",
        "hubbers"
      ],
      "execution_count": 9,
      "outputs": [
        {
          "output_type": "execute_result",
          "data": {
            "text/html": [
              "<div>\n",
              "<style scoped>\n",
              "    .dataframe tbody tr th:only-of-type {\n",
              "        vertical-align: middle;\n",
              "    }\n",
              "\n",
              "    .dataframe tbody tr th {\n",
              "        vertical-align: top;\n",
              "    }\n",
              "\n",
              "    .dataframe thead th {\n",
              "        text-align: right;\n",
              "    }\n",
              "</style>\n",
              "<table border=\"1\" class=\"dataframe\">\n",
              "  <thead>\n",
              "    <tr style=\"text-align: right;\">\n",
              "      <th></th>\n",
              "      <th>Count</th>\n",
              "    </tr>\n",
              "  </thead>\n",
              "  <tbody>\n",
              "    <tr>\n",
              "      <th>Fanelesibonge</th>\n",
              "      <td>7</td>\n",
              "    </tr>\n",
              "    <tr>\n",
              "      <th>José</th>\n",
              "      <td>7</td>\n",
              "    </tr>\n",
              "    <tr>\n",
              "      <th>Gcinimiyalo</th>\n",
              "      <td>6</td>\n",
              "    </tr>\n",
              "    <tr>\n",
              "      <th>Bafana</th>\n",
              "      <td>6</td>\n",
              "    </tr>\n",
              "    <tr>\n",
              "      <th>Tiyandza</th>\n",
              "      <td>5</td>\n",
              "    </tr>\n",
              "    <tr>\n",
              "      <th>Lungelo</th>\n",
              "      <td>5</td>\n",
              "    </tr>\n",
              "    <tr>\n",
              "      <th>Mlungisi</th>\n",
              "      <td>5</td>\n",
              "    </tr>\n",
              "    <tr>\n",
              "      <th>Thobeka</th>\n",
              "      <td>4</td>\n",
              "    </tr>\n",
              "    <tr>\n",
              "      <th>Sibahle</th>\n",
              "      <td>3</td>\n",
              "    </tr>\n",
              "    <tr>\n",
              "      <th>Kwanele</th>\n",
              "      <td>3</td>\n",
              "    </tr>\n",
              "  </tbody>\n",
              "</table>\n",
              "</div>"
            ],
            "text/plain": [
              "               Count\n",
              "Fanelesibonge      7\n",
              "José               7\n",
              "Gcinimiyalo        6\n",
              "Bafana             6\n",
              "Tiyandza           5\n",
              "Lungelo            5\n",
              "Mlungisi           5\n",
              "Thobeka            4\n",
              "Sibahle            3\n",
              "Kwanele            3"
            ]
          },
          "metadata": {
            "tags": []
          },
          "execution_count": 9
        }
      ]
    },
    {
      "cell_type": "code",
      "metadata": {
        "colab": {
          "base_uri": "https://localhost:8080/",
          "height": 390
        },
        "id": "FsMlYIz66_iY",
        "outputId": "390c105b-71c7-4a38-bb20-c122e3f07e8e"
      },
      "source": [
        "import warnings\n",
        "warnings.filterwarnings(\"ignore\")\n",
        "df1['First Name'] = df1['First Name'].str.strip()\n",
        "df1['First Name'] = df1['First Name'].replace('Kwanele Prince', 'Kwanele')\n",
        "df1['First Name'] = df1['First Name'].replace('Tsabedze', 'Kwanele') \n",
        "df1['Time Duration(hrs)'] = abs(df1['Time Duration(hrs)'])\n",
        "d14 = df1[['First Name', 'Time Duration(hrs)']]\n",
        "d14 = d14.groupby(['First Name'], as_index=False).sum()\n",
        "d14.set_index(['First Name']).sort_values(['Time Duration(hrs)'], ascending=False).head(10)"
      ],
      "execution_count": 15,
      "outputs": [
        {
          "output_type": "execute_result",
          "data": {
            "text/html": [
              "<div>\n",
              "<style scoped>\n",
              "    .dataframe tbody tr th:only-of-type {\n",
              "        vertical-align: middle;\n",
              "    }\n",
              "\n",
              "    .dataframe tbody tr th {\n",
              "        vertical-align: top;\n",
              "    }\n",
              "\n",
              "    .dataframe thead th {\n",
              "        text-align: right;\n",
              "    }\n",
              "</style>\n",
              "<table border=\"1\" class=\"dataframe\">\n",
              "  <thead>\n",
              "    <tr style=\"text-align: right;\">\n",
              "      <th></th>\n",
              "      <th>Time Duration(hrs)</th>\n",
              "    </tr>\n",
              "    <tr>\n",
              "      <th>First Name</th>\n",
              "      <th></th>\n",
              "    </tr>\n",
              "  </thead>\n",
              "  <tbody>\n",
              "    <tr>\n",
              "      <th>Fanelesibonge</th>\n",
              "      <td>83.000000</td>\n",
              "    </tr>\n",
              "    <tr>\n",
              "      <th>José</th>\n",
              "      <td>82.500000</td>\n",
              "    </tr>\n",
              "    <tr>\n",
              "      <th>Thobeka</th>\n",
              "      <td>49.500000</td>\n",
              "    </tr>\n",
              "    <tr>\n",
              "      <th>Lungelo</th>\n",
              "      <td>44.500000</td>\n",
              "    </tr>\n",
              "    <tr>\n",
              "      <th>Gcinimiyalo</th>\n",
              "      <td>41.250000</td>\n",
              "    </tr>\n",
              "    <tr>\n",
              "      <th>Bafana</th>\n",
              "      <td>38.500000</td>\n",
              "    </tr>\n",
              "    <tr>\n",
              "      <th>Mlungisi</th>\n",
              "      <td>26.366667</td>\n",
              "    </tr>\n",
              "    <tr>\n",
              "      <th>Tiyandza</th>\n",
              "      <td>25.500000</td>\n",
              "    </tr>\n",
              "    <tr>\n",
              "      <th>Kwanele</th>\n",
              "      <td>21.583333</td>\n",
              "    </tr>\n",
              "    <tr>\n",
              "      <th>Sibahle</th>\n",
              "      <td>19.816667</td>\n",
              "    </tr>\n",
              "  </tbody>\n",
              "</table>\n",
              "</div>"
            ],
            "text/plain": [
              "               Time Duration(hrs)\n",
              "First Name                       \n",
              "Fanelesibonge           83.000000\n",
              "José                    82.500000\n",
              "Thobeka                 49.500000\n",
              "Lungelo                 44.500000\n",
              "Gcinimiyalo             41.250000\n",
              "Bafana                  38.500000\n",
              "Mlungisi                26.366667\n",
              "Tiyandza                25.500000\n",
              "Kwanele                 21.583333\n",
              "Sibahle                 19.816667"
            ]
          },
          "metadata": {
            "tags": []
          },
          "execution_count": 15
        }
      ]
    },
    {
      "cell_type": "code",
      "metadata": {
        "id": "0u49mUc6TNRj"
      },
      "source": [
        "df['Time Duration(hrs)'] = abs(df['Time Duration(hrs)'])"
      ],
      "execution_count": null,
      "outputs": []
    }
  ]
}